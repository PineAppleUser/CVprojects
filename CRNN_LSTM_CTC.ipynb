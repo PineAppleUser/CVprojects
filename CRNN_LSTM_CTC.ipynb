{
  "cells": [
    {
      "cell_type": "markdown",
      "source": [
        "<h1>Часть text recognition:</h1>\n",
        "\n",
        "архитектура CRNN и loss func CTC"
      ],
      "metadata": {
        "id": "thuaoOQtkj9d"
      }
    },
    {
      "cell_type": "code",
      "execution_count": 2,
      "metadata": {
        "id": "9E_2jjw9kuW7"
      },
      "outputs": [],
      "source": [
        "import torch\n",
        "import torch.nn as nn\n",
        "import os\n",
        "from torch.utils.data import Dataset, DataLoader, random_split\n",
        "import torch.optim as optim\n",
        "import torchvision.transforms as transforms\n",
        "import cv2\n",
        "from google.colab.patches import cv2_imshow\n",
        "from PIL import Image\n",
        "import numpy as np\n",
        "from tqdm import tqdm\n",
        "from torch.autograd import Variable"
      ]
    },
    {
      "cell_type": "code",
      "execution_count": 1,
      "metadata": {
        "colab": {
          "base_uri": "https://localhost:8080/"
        },
        "id": "tFE27HqCk5W2",
        "outputId": "01c5642e-9c78-4444-bf6c-8b014e16f08d"
      },
      "outputs": [
        {
          "output_type": "stream",
          "name": "stdout",
          "text": [
            "Mounted at /content/drive\n"
          ]
        }
      ],
      "source": [
        "from google.colab import drive\n",
        "drive.mount('/content/drive')"
      ]
    },
    {
      "cell_type": "code",
      "execution_count": null,
      "metadata": {
        "colab": {
          "base_uri": "https://localhost:8080/"
        },
        "id": "WWwA1_q0k8os",
        "outputId": "60422665-c876-487d-dfb6-5c537b4d61a9"
      },
      "outputs": [
        {
          "output_type": "stream",
          "name": "stdout",
          "text": [
            "/content/drive/MyDrive/text_rec_data\n"
          ]
        }
      ],
      "source": [
        "cd drive/MyDrive/text_rec_data"
      ]
    },
    {
      "cell_type": "markdown",
      "source": [
        "Данные не заливались папкой на диск, пришлось архивировать и разархивировать в среде и уменьшить размер в 2 раза, иначе os.listdir() не может считать все файлы и выдает ошибку"
      ],
      "metadata": {
        "id": "cJGPPM-Tk9m0"
      }
    },
    {
      "cell_type": "code",
      "execution_count": null,
      "metadata": {
        "id": "mjbbmcVMk-MF",
        "colab": {
          "base_uri": "https://localhost:8080/"
        },
        "outputId": "17300118-791a-4293-dc1f-08348c4c6e75"
      },
      "outputs": [
        {
          "output_type": "stream",
          "name": "stdout",
          "text": [
            "\u001b[1;30;43mВыходные данные были обрезаны до нескольких последних строк (5000).\u001b[0m\n",
            "  inflating: lines_w25/20153_a.png   \n",
            "  inflating: __MACOSX/lines_w25/._20153_a.png  \n",
            "  inflating: lines_w25/25735_a.png   \n",
            "  inflating: __MACOSX/lines_w25/._25735_a.png  \n",
            "  inflating: lines_w25/37916_a.png   \n",
            "  inflating: __MACOSX/lines_w25/._37916_a.png  \n",
            "  inflating: lines_w25/1915_a.png    \n",
            "  inflating: __MACOSX/lines_w25/._1915_a.png  \n",
            "  inflating: lines_w25/24274_b.gt.txt  \n",
            "  inflating: __MACOSX/lines_w25/._24274_b.gt.txt  \n",
            "  inflating: lines_w25/30617_a.gt.txt  \n",
            "  inflating: __MACOSX/lines_w25/._30617_a.gt.txt  \n",
            "  inflating: lines_w25/19196_a.png   \n",
            "  inflating: __MACOSX/lines_w25/._19196_a.png  \n",
            "  inflating: lines_w25/21955_a.png   \n",
            "  inflating: __MACOSX/lines_w25/._21955_a.png  \n",
            "  inflating: lines_w25/42726_b.gt.txt  \n",
            "  inflating: __MACOSX/lines_w25/._42726_b.gt.txt  \n",
            "  inflating: lines_w25/26406_a.png   \n",
            "  inflating: __MACOSX/lines_w25/._26406_a.png  \n",
            "  inflating: lines_w25/23260_a.png   \n",
            "  inflating: __MACOSX/lines_w25/._23260_a.png  \n",
            "  inflating: lines_w25/5775_a.png    \n",
            "  inflating: __MACOSX/lines_w25/._5775_a.png  \n",
            "  inflating: lines_w25/36110_a.png   \n",
            "  inflating: __MACOSX/lines_w25/._36110_a.png  \n",
            "  inflating: lines_w25/14009_a.png   \n",
            "  inflating: __MACOSX/lines_w25/._14009_a.png  \n",
            "  inflating: lines_w25/33776_a.png   \n",
            "  inflating: __MACOSX/lines_w25/._33776_a.png  \n",
            "  inflating: lines_w25/12418_b.gt.txt  \n",
            "  inflating: __MACOSX/lines_w25/._12418_b.gt.txt  \n",
            "  inflating: lines_w25/19857_b.gt.txt  \n",
            "  inflating: __MACOSX/lines_w25/._19857_b.gt.txt  \n",
            "  inflating: lines_w25/5928_a.gt.txt  \n",
            "  inflating: __MACOSX/lines_w25/._5928_a.gt.txt  \n",
            "  inflating: lines_w25/47008_a.png   \n",
            "  inflating: __MACOSX/lines_w25/._47008_a.png  \n",
            "  inflating: lines_w25/8750_b.gt.txt  \n",
            "  inflating: __MACOSX/lines_w25/._8750_b.gt.txt  \n",
            "  inflating: lines_w25/25182_a.gt.txt  \n",
            "  inflating: __MACOSX/lines_w25/._25182_a.gt.txt  \n",
            "  inflating: lines_w25/44511_a.gt.txt  \n",
            "  inflating: __MACOSX/lines_w25/._44511_a.gt.txt  \n",
            "  inflating: lines_w25/35827_a.gt.txt  \n",
            "  inflating: __MACOSX/lines_w25/._35827_a.gt.txt  \n",
            "  inflating: lines_w25/503_a.png     \n",
            "  inflating: __MACOSX/lines_w25/._503_a.png  \n",
            "  inflating: lines_w25/47916_b.gt.txt  \n",
            "  inflating: __MACOSX/lines_w25/._47916_b.gt.txt  \n",
            "  inflating: lines_w25/22043_a.gt.txt  \n",
            "  inflating: __MACOSX/lines_w25/._22043_a.gt.txt  \n",
            "  inflating: lines_w25/36420_b.gt.txt  \n",
            "  inflating: __MACOSX/lines_w25/._36420_b.gt.txt  \n",
            "  inflating: lines_w25/20322_a.gt.txt  \n",
            "  inflating: __MACOSX/lines_w25/._20322_a.gt.txt  \n",
            "  inflating: lines_w25/34741_b.gt.txt  \n",
            "  inflating: __MACOSX/lines_w25/._34741_b.gt.txt  \n",
            "  inflating: lines_w25/18524_b.png   \n",
            "  inflating: __MACOSX/lines_w25/._18524_b.png  \n",
            "  inflating: lines_w25/9258_b.png    \n",
            "  inflating: __MACOSX/lines_w25/._9258_b.png  \n",
            "  inflating: lines_w25/12888_b.gt.txt  \n",
            "  inflating: __MACOSX/lines_w25/._12888_b.gt.txt  \n",
            "  inflating: lines_w25/46670_a.gt.txt  \n",
            "  inflating: __MACOSX/lines_w25/._46670_a.gt.txt  \n",
            "  inflating: lines_w25/33680_b.gt.txt  \n",
            "  inflating: __MACOSX/lines_w25/._33680_b.gt.txt  \n",
            "  inflating: lines_w25/9836_a.gt.txt  \n",
            "  inflating: __MACOSX/lines_w25/._9836_a.gt.txt  \n",
            "  inflating: lines_w25/2479_a.gt.txt  \n",
            "  inflating: __MACOSX/lines_w25/._2479_a.gt.txt  \n",
            "  inflating: lines_w25/15949_b.gt.txt  \n",
            "  inflating: __MACOSX/lines_w25/._15949_b.gt.txt  \n",
            "  inflating: lines_w25/47586_b.gt.txt  \n",
            "  inflating: __MACOSX/lines_w25/._47586_b.gt.txt  \n",
            "  inflating: lines_w25/18731_a.gt.txt  \n",
            "  inflating: __MACOSX/lines_w25/._18731_a.gt.txt  \n",
            "  inflating: lines_w25/40518_a.png   \n",
            "  inflating: __MACOSX/lines_w25/._40518_a.png  \n",
            "  inflating: lines_w25/10779_b.gt.txt  \n",
            "  inflating: __MACOSX/lines_w25/._10779_b.gt.txt  \n",
            "  inflating: lines_w25/44981_a.gt.txt  \n",
            "  inflating: __MACOSX/lines_w25/._44981_a.gt.txt  \n",
            "  inflating: lines_w25/31971_b.gt.txt  \n",
            "  inflating: __MACOSX/lines_w25/._31971_b.gt.txt  \n",
            "  inflating: lines_w25/40447_b.gt.txt  \n",
            "  inflating: __MACOSX/lines_w25/._40447_b.gt.txt  \n",
            "  inflating: lines_w25/2265_a.png    \n",
            "  inflating: __MACOSX/lines_w25/._2265_a.png  \n",
            "  inflating: lines_w25/31400_a.png   \n",
            "  inflating: __MACOSX/lines_w25/._31400_a.png  \n",
            "  inflating: lines_w25/13519_a.png   \n",
            "  inflating: __MACOSX/lines_w25/._13519_a.png  \n",
            "  inflating: lines_w25/7403_a.png    \n",
            "  inflating: __MACOSX/lines_w25/._7403_a.png  \n",
            "  inflating: lines_w25/26115_b.gt.txt  \n",
            "  inflating: __MACOSX/lines_w25/._26115_b.gt.txt  \n",
            "  inflating: lines_w25/32576_a.gt.txt  \n",
            "  inflating: __MACOSX/lines_w25/._32576_a.gt.txt  \n",
            "  inflating: lines_w25/34266_a.png   \n",
            "  inflating: __MACOSX/lines_w25/._34266_a.png  \n",
            "  inflating: lines_w25/39939_a.gt.txt  \n",
            "  inflating: __MACOSX/lines_w25/._39939_a.gt.txt  \n",
            "  inflating: lines_w25/21116_a.png   \n",
            "  inflating: __MACOSX/lines_w25/._21116_a.png  \n",
            "  inflating: lines_w25/24770_a.png   \n",
            "  inflating: __MACOSX/lines_w25/._24770_a.png  \n",
            "  inflating: lines_w25/36953_a.png   \n",
            "  inflating: __MACOSX/lines_w25/._36953_a.png  \n",
            "  inflating: lines_w25/43840_a.gt.txt  \n",
            "  inflating: __MACOSX/lines_w25/._43840_a.gt.txt  \n",
            "  inflating: lines_w25/13918_a.gt.txt  \n",
            "  inflating: __MACOSX/lines_w25/._13918_a.gt.txt  \n",
            "  inflating: lines_w25/18557_a.gt.txt  \n",
            "  inflating: __MACOSX/lines_w25/._18557_a.gt.txt  \n",
            "  inflating: lines_w25/4428_b.gt.txt  \n",
            "  inflating: __MACOSX/lines_w25/._4428_b.gt.txt  \n",
            "  inflating: lines_w25/32715_b.png   \n",
            "  inflating: __MACOSX/lines_w25/._32715_b.png  \n",
            "  inflating: lines_w25/1170_b.png    \n",
            "  inflating: __MACOSX/lines_w25/._1170_b.png  \n",
            "  inflating: lines_w25/37173_b.png   \n",
            "  inflating: __MACOSX/lines_w25/._37173_b.png  \n",
            "  inflating: lines_w25/4716_b.png    \n",
            "  inflating: __MACOSX/lines_w25/._4716_b.png  \n",
            "  inflating: lines_w25/48669_a.gt.txt  \n",
            "  inflating: __MACOSX/lines_w25/._48669_a.gt.txt  \n",
            "  inflating: lines_w25/22203_b.png   \n",
            "  inflating: __MACOSX/lines_w25/._22203_b.png  \n",
            "  inflating: lines_w25/27465_b.png   \n",
            "  inflating: __MACOSX/lines_w25/._27465_b.png  \n",
            "  inflating: lines_w25/26373_b.gt.txt  \n",
            "  inflating: __MACOSX/lines_w25/._26373_b.gt.txt  \n",
            "  inflating: lines_w25/32710_a.gt.txt  \n",
            "  inflating: __MACOSX/lines_w25/._32710_a.gt.txt  \n",
            "  inflating: lines_w25/9689_b.png    \n",
            "  inflating: __MACOSX/lines_w25/._9689_b.png  \n",
            "  inflating: lines_w25/991_a.png     \n",
            "  inflating: __MACOSX/lines_w25/._991_a.png  \n",
            "  inflating: lines_w25/20936_b.png   \n",
            "  inflating: __MACOSX/lines_w25/._20936_b.png  \n",
            "  inflating: lines_w25/40621_b.gt.txt  \n",
            "  inflating: __MACOSX/lines_w25/._40621_b.gt.txt  \n",
            "  inflating: lines_w25/46416_a.gt.txt  \n",
            "  inflating: __MACOSX/lines_w25/._46416_a.gt.txt  \n",
            "  inflating: lines_w25/37920_a.gt.txt  \n",
            "  inflating: __MACOSX/lines_w25/._37920_a.gt.txt  \n",
            "  inflating: lines_w25/45811_b.gt.txt  \n",
            "  inflating: __MACOSX/lines_w25/._45811_b.gt.txt  \n",
            "  inflating: lines_w25/20144_a.gt.txt  \n",
            "  inflating: __MACOSX/lines_w25/._20144_a.gt.txt  \n",
            "  inflating: lines_w25/34527_b.gt.txt  \n",
            "  inflating: __MACOSX/lines_w25/._34527_b.gt.txt  \n",
            "  inflating: lines_w25/26894_a.png   \n",
            "  inflating: __MACOSX/lines_w25/._26894_a.png  \n",
            "  inflating: lines_w25/39728_a.png   \n",
            "  inflating: __MACOSX/lines_w25/._39728_a.png  \n",
            "  inflating: lines_w25/16728_a.gt.txt  \n",
            "  inflating: __MACOSX/lines_w25/._16728_a.gt.txt  \n",
            "  inflating: lines_w25/27085_a.gt.txt  \n",
            "  inflating: __MACOSX/lines_w25/._27085_a.gt.txt  \n",
            "  inflating: lines_w25/48630_a.png   \n",
            "  inflating: __MACOSX/lines_w25/._48630_a.png  \n",
            "  inflating: lines_w25/8536_b.gt.txt  \n",
            "  inflating: __MACOSX/lines_w25/._8536_b.gt.txt  \n",
            "  inflating: lines_w25/3979_b.gt.txt  \n",
            "  inflating: __MACOSX/lines_w25/._3979_b.gt.txt  \n",
            "  inflating: lines_w25/31787_b.gt.txt  \n",
            "  inflating: __MACOSX/lines_w25/._31787_b.gt.txt  \n",
            "  inflating: lines_w25/14449_a.gt.txt  \n",
            "  inflating: __MACOSX/lines_w25/._14449_a.gt.txt  \n",
            "  inflating: lines_w25/22225_a.gt.txt  \n",
            "  inflating: __MACOSX/lines_w25/._22225_a.gt.txt  \n",
            "  inflating: lines_w25/36646_b.gt.txt  \n",
            "  inflating: __MACOSX/lines_w25/._36646_b.gt.txt  \n",
            "  inflating: lines_w25/13588_a.gt.txt  \n",
            "  inflating: __MACOSX/lines_w25/._13588_a.gt.txt  \n",
            "  inflating: lines_w25/19547_a.png   \n",
            "  inflating: __MACOSX/lines_w25/._19547_a.png  \n",
            "  inflating: lines_w25/7891_a.png    \n",
            "  inflating: __MACOSX/lines_w25/._7891_a.png  \n",
            "  inflating: lines_w25/31892_a.png   \n",
            "  inflating: __MACOSX/lines_w25/._31892_a.png  \n",
            "  inflating: lines_w25/44777_a.gt.txt  \n",
            "  inflating: __MACOSX/lines_w25/._44777_a.gt.txt  \n",
            "  inflating: lines_w25/1688_b.gt.txt  \n",
            "  inflating: __MACOSX/lines_w25/._1688_b.gt.txt  \n",
            "  inflating: lines_w25/33876_b.gt.txt  \n",
            "  inflating: __MACOSX/lines_w25/._33876_b.gt.txt  \n",
            "  inflating: lines_w25/38439_b.gt.txt  \n",
            "  inflating: __MACOSX/lines_w25/._38439_b.gt.txt  \n",
            "  inflating: lines_w25/15829_b.png   \n",
            "  inflating: __MACOSX/lines_w25/._15829_b.png  \n",
            "  inflating: lines_w25/1933_b.png    \n",
            "  inflating: __MACOSX/lines_w25/._1933_b.png  \n",
            "  inflating: lines_w25/37930_b.png   \n",
            "  inflating: __MACOSX/lines_w25/._37930_b.png  \n",
            "  inflating: lines_w25/25713_b.png   \n",
            "  inflating: __MACOSX/lines_w25/._25713_b.png  \n",
            "  inflating: lines_w25/20175_b.png   \n",
            "  inflating: __MACOSX/lines_w25/._20175_b.png  \n",
            "  inflating: lines_w25/35205_b.png   \n",
            "  inflating: __MACOSX/lines_w25/._35205_b.png  \n",
            "  inflating: lines_w25/6460_b.png    \n",
            "  inflating: __MACOSX/lines_w25/._6460_b.png  \n",
            "  inflating: lines_w25/42540_b.gt.txt  \n",
            "  inflating: __MACOSX/lines_w25/._42540_b.gt.txt  \n",
            "  inflating: lines_w25/30463_b.png   \n",
            "  inflating: __MACOSX/lines_w25/._30463_b.png  \n",
            "  inflating: lines_w25/3206_b.png    \n",
            "  inflating: __MACOSX/lines_w25/._3206_b.png  \n",
            "  inflating: lines_w25/24012_b.gt.txt  \n",
            "  inflating: __MACOSX/lines_w25/._24012_b.gt.txt  \n",
            "  inflating: lines_w25/30471_a.gt.txt  \n",
            "  inflating: __MACOSX/lines_w25/._30471_a.gt.txt  \n",
            "  inflating: lines_w25/41947_a.gt.txt  \n",
            "  inflating: __MACOSX/lines_w25/._41947_a.gt.txt  \n",
            "  inflating: lines_w25/49282_b.png   \n",
            "  inflating: __MACOSX/lines_w25/._49282_b.png  \n",
            "  inflating: lines_w25/6749_b.gt.txt  \n",
            "  inflating: __MACOSX/lines_w25/._6749_b.gt.txt  \n",
            "  inflating: lines_w25/46828_b.png   \n",
            "  inflating: __MACOSX/lines_w25/._46828_b.png  \n",
            "  inflating: lines_w25/45481_b.gt.txt  \n",
            "  inflating: __MACOSX/lines_w25/._45481_b.gt.txt  \n",
            "  inflating: lines_w25/46886_a.gt.txt  \n",
            "  inflating: __MACOSX/lines_w25/._46886_a.gt.txt  \n",
            "  inflating: lines_w25/4516_a.gt.txt  \n",
            "  inflating: __MACOSX/lines_w25/._4516_a.gt.txt  \n",
            "  inflating: lines_w25/44789_b.png   \n",
            "  inflating: __MACOSX/lines_w25/._44789_b.png  \n",
            "  inflating: lines_w25/18469_b.gt.txt  \n",
            "  inflating: __MACOSX/lines_w25/._18469_b.gt.txt  \n",
            "  inflating: lines_w25/13826_b.gt.txt  \n",
            "  inflating: __MACOSX/lines_w25/._13826_b.gt.txt  \n",
            "  inflating: lines_w25/7911_b.gt.txt  \n",
            "  inflating: __MACOSX/lines_w25/._7911_b.gt.txt  \n",
            "  inflating: lines_w25/10421_a.gt.txt  \n",
            "  inflating: __MACOSX/lines_w25/._10421_a.gt.txt  \n",
            "  inflating: lines_w25/25387_b.png   \n",
            "  inflating: __MACOSX/lines_w25/._25387_b.png  \n",
            "  inflating: lines_w25/546_a.png     \n",
            "  inflating: __MACOSX/lines_w25/._546_a.png  \n",
            "  inflating: lines_w25/35691_b.png   \n",
            "  inflating: __MACOSX/lines_w25/._35691_b.png  \n",
            "  inflating: lines_w25/8898_a.gt.txt  \n",
            "  inflating: __MACOSX/lines_w25/._8898_a.gt.txt  \n",
            "  inflating: lines_w25/17788_b.png   \n",
            "  inflating: __MACOSX/lines_w25/._17788_b.png  \n",
            "  inflating: lines_w25/3692_b.png    \n",
            "  inflating: __MACOSX/lines_w25/._3692_b.png  \n",
            "  inflating: lines_w25/28218_b.png   \n",
            "  inflating: __MACOSX/lines_w25/._28218_b.png  \n",
            "  inflating: lines_w25/48757_b.gt.txt  \n",
            "  inflating: __MACOSX/lines_w25/._48757_b.gt.txt  \n",
            "  inflating: lines_w25/34419_a.gt.txt  \n",
            "  inflating: __MACOSX/lines_w25/._34419_a.gt.txt  \n",
            "  inflating: lines_w25/23225_a.png   \n",
            "  inflating: __MACOSX/lines_w25/._23225_a.png  \n",
            "  inflating: lines_w25/26443_a.png   \n",
            "  inflating: __MACOSX/lines_w25/._26443_a.png  \n",
            "  inflating: lines_w25/33733_a.png   \n",
            "  inflating: __MACOSX/lines_w25/._33733_a.png  \n",
            "  inflating: lines_w25/28032_a.gt.txt  \n",
            "  inflating: __MACOSX/lines_w25/._28032_a.gt.txt  \n",
            "  inflating: lines_w25/36155_a.png   \n",
            "  inflating: __MACOSX/lines_w25/._36155_a.png  \n",
            "  inflating: lines_w25/5730_a.png    \n",
            "  inflating: __MACOSX/lines_w25/._5730_a.png  \n",
            "  inflating: lines_w25/21910_a.png   \n",
            "  inflating: __MACOSX/lines_w25/._21910_a.png  \n",
            "  inflating: lines_w25/46528_b.gt.txt  \n",
            "  inflating: __MACOSX/lines_w25/._46528_b.gt.txt  \n",
            "  inflating: lines_w25/38997_a.gt.txt  \n",
            "  inflating: __MACOSX/lines_w25/._38997_a.gt.txt  \n",
            "  inflating: lines_w25/16616_b.gt.txt  \n",
            "  inflating: __MACOSX/lines_w25/._16616_b.gt.txt  \n",
            "  inflating: lines_w25/2721_b.gt.txt  \n",
            "  inflating: __MACOSX/lines_w25/._2721_b.gt.txt  \n",
            "  inflating: lines_w25/17970_a.gt.txt  \n",
            "  inflating: __MACOSX/lines_w25/._17970_a.gt.txt  \n",
            "  inflating: lines_w25/43788_b.gt.txt  \n",
            "  inflating: __MACOSX/lines_w25/._43788_b.gt.txt  \n",
            "  inflating: lines_w25/14577_b.gt.txt  \n",
            "  inflating: __MACOSX/lines_w25/._14577_b.gt.txt  \n",
            "  inflating: lines_w25/3847_a.gt.txt  \n",
            "  inflating: __MACOSX/lines_w25/._3847_a.gt.txt  \n",
            "  inflating: lines_w25/8408_a.gt.txt  \n",
            "  inflating: __MACOSX/lines_w25/._8408_a.gt.txt  \n",
            "  inflating: lines_w25/44649_b.gt.txt  \n",
            "  inflating: __MACOSX/lines_w25/._44649_b.gt.txt  \n",
            "  inflating: lines_w25/7581_b.gt.txt  \n",
            "  inflating: __MACOSX/lines_w25/._7581_b.gt.txt  \n",
            "  inflating: lines_w25/36916_a.png   \n",
            "  inflating: __MACOSX/lines_w25/._36916_a.png  \n",
            "  inflating: lines_w25/34223_a.png   \n",
            "  inflating: __MACOSX/lines_w25/._34223_a.png  \n",
            "  inflating: lines_w25/7446_a.png    \n",
            "  inflating: __MACOSX/lines_w25/._7446_a.png  \n",
            "  inflating: lines_w25/4986_a.gt.txt  \n",
            "  inflating: __MACOSX/lines_w25/._4986_a.gt.txt  \n",
            "  inflating: lines_w25/31445_a.png   \n",
            "  inflating: __MACOSX/lines_w25/._31445_a.png  \n",
            "  inflating: lines_w25/36778_a.gt.txt  \n",
            "  inflating: __MACOSX/lines_w25/._36778_a.gt.txt  \n",
            "  inflating: lines_w25/2220_a.png    \n",
            "  inflating: __MACOSX/lines_w25/._2220_a.png  \n",
            "  inflating: lines_w25/24735_a.png   \n",
            "  inflating: __MACOSX/lines_w25/._24735_a.png  \n",
            "  inflating: lines_w25/19990_a.png   \n",
            "  inflating: __MACOSX/lines_w25/._19990_a.png  \n",
            "  inflating: lines_w25/21153_a.png   \n",
            "  inflating: __MACOSX/lines_w25/._21153_a.png  \n",
            "  inflating: lines_w25/15681_a.gt.txt  \n",
            "  inflating: __MACOSX/lines_w25/._15681_a.gt.txt  \n",
            "  inflating: lines_w25/18561_b.png   \n",
            "  inflating: __MACOSX/lines_w25/._18561_b.png  \n",
            "  inflating: lines_w25/41879_b.gt.txt  \n",
            "  inflating: __MACOSX/lines_w25/._41879_b.gt.txt  \n",
            "  inflating: lines_w25/32381_b.png   \n",
            "  inflating: __MACOSX/lines_w25/._32381_b.png  \n",
            "  inflating: lines_w25/10298_b.png   \n",
            "  inflating: __MACOSX/lines_w25/._10298_b.png  \n",
            "  inflating: lines_w25/4382_b.png    \n",
            "  inflating: __MACOSX/lines_w25/._4382_b.png  \n",
            "  inflating: lines_w25/22697_b.png   \n",
            "  inflating: __MACOSX/lines_w25/._22697_b.png  \n",
            "  inflating: lines_w25/38507_a.gt.txt  \n",
            "  inflating: __MACOSX/lines_w25/._38507_a.gt.txt  \n",
            "  inflating: lines_w25/33948_a.gt.txt  \n",
            "  inflating: __MACOSX/lines_w25/._33948_a.gt.txt  \n",
            "  inflating: lines_w25/12740_a.gt.txt  \n",
            "  inflating: __MACOSX/lines_w25/._12740_a.gt.txt  \n",
            "  inflating: lines_w25/43299_b.png   \n",
            "  inflating: __MACOSX/lines_w25/._43299_b.png  \n",
            "  inflating: lines_w25/602_b.gt.txt  \n",
            "  inflating: __MACOSX/lines_w25/._602_b.gt.txt  \n",
            "  inflating: lines_w25/6677_a.gt.txt  \n",
            "  inflating: __MACOSX/lines_w25/._6677_a.gt.txt  \n",
            "  inflating: lines_w25/34889_a.gt.txt  \n",
            "  inflating: __MACOSX/lines_w25/._34889_a.gt.txt  \n",
            "  inflating: lines_w25/38761_a.gt.txt  \n",
            "  inflating: __MACOSX/lines_w25/._38761_a.gt.txt  \n",
            "  inflating: lines_w25/42618_a.gt.txt  \n",
            "  inflating: __MACOSX/lines_w25/._42618_a.gt.txt  \n",
            "  inflating: lines_w25/30729_b.gt.txt  \n",
            "  inflating: __MACOSX/lines_w25/._30729_b.gt.txt  \n",
            "  inflating: lines_w25/9598_b.gt.txt  \n",
            "  inflating: __MACOSX/lines_w25/._9598_b.gt.txt  \n",
            "  inflating: lines_w25/31094_a.png   \n",
            "  inflating: __MACOSX/lines_w25/._31094_a.png  \n",
            "  inflating: lines_w25/7097_a.png    \n",
            "  inflating: __MACOSX/lines_w25/._7097_a.png  \n",
            "  inflating: lines_w25/21582_a.png   \n",
            "  inflating: __MACOSX/lines_w25/._21582_a.png  \n",
            "  inflating: lines_w25/6411_a.gt.txt  \n",
            "  inflating: __MACOSX/lines_w25/._6411_a.gt.txt  \n",
            "  inflating: lines_w25/11921_b.gt.txt  \n",
            "  inflating: __MACOSX/lines_w25/._11921_b.gt.txt  \n",
            "  inflating: lines_w25/5816_b.gt.txt  \n",
            "  inflating: __MACOSX/lines_w25/._5816_b.gt.txt  \n",
            "  inflating: lines_w25/48675_a.png   \n",
            "  inflating: __MACOSX/lines_w25/._48675_a.png  \n",
            "  inflating: lines_w25/464_b.gt.txt  \n",
            "  inflating: __MACOSX/lines_w25/._464_b.gt.txt  \n",
            "  inflating: lines_w25/19969_a.gt.txt  \n",
            "  inflating: __MACOSX/lines_w25/._19969_a.gt.txt  \n",
            "  inflating: lines_w25/12526_a.gt.txt  \n",
            "  inflating: __MACOSX/lines_w25/._12526_a.gt.txt  \n",
            "  inflating: lines_w25/43648_b.png   \n",
            "  inflating: __MACOSX/lines_w25/._43648_b.png  \n",
            "  inflating: lines_w25/14711_b.gt.txt  \n",
            "  inflating: __MACOSX/lines_w25/._14711_b.gt.txt  \n",
            "  inflating: lines_w25/39497_b.gt.txt  \n",
            "  inflating: __MACOSX/lines_w25/._39497_b.gt.txt  \n",
            "  inflating: lines_w25/20973_b.png   \n",
            "  inflating: __MACOSX/lines_w25/._20973_b.png  \n",
            "  inflating: lines_w25/10649_b.png   \n",
            "  inflating: __MACOSX/lines_w25/._10649_b.png  \n",
            "  inflating: lines_w25/4753_b.png    \n",
            "  inflating: __MACOSX/lines_w25/._4753_b.png  \n",
            "  inflating: lines_w25/37136_b.png   \n",
            "  inflating: __MACOSX/lines_w25/._37136_b.png  \n",
            "  inflating: lines_w25/1135_b.png    \n",
            "  inflating: __MACOSX/lines_w25/._1135_b.png  \n",
            "  inflating: lines_w25/32750_b.png   \n",
            "  inflating: __MACOSX/lines_w25/._32750_b.png  \n",
            "  inflating: lines_w25/27420_b.png   \n",
            "  inflating: __MACOSX/lines_w25/._27420_b.png  \n",
            "  inflating: lines_w25/47828_a.gt.txt  \n",
            "  inflating: __MACOSX/lines_w25/._47828_a.gt.txt  \n",
            "  inflating: lines_w25/22246_b.png   \n",
            "  inflating: __MACOSX/lines_w25/._22246_b.png  \n",
            "  inflating: lines_w25/35919_b.gt.txt  \n",
            "  inflating: __MACOSX/lines_w25/._35919_b.gt.txt  \n",
            "  inflating: lines_w25/20130_b.png   \n",
            "  inflating: __MACOSX/lines_w25/._20130_b.png  \n",
            "  inflating: lines_w25/25756_b.png   \n",
            "  inflating: __MACOSX/lines_w25/._25756_b.png  \n",
            "  inflating: lines_w25/197_a.png     \n",
            "  inflating: __MACOSX/lines_w25/._197_a.png  \n",
            "  inflating: lines_w25/17359_b.png   \n",
            "  inflating: __MACOSX/lines_w25/._17359_b.png  \n",
            "  inflating: lines_w25/3243_b.png    \n",
            "  inflating: __MACOSX/lines_w25/._3243_b.png  \n",
            "  inflating: lines_w25/30426_b.png   \n",
            "  inflating: __MACOSX/lines_w25/._30426_b.png  \n",
            "  inflating: lines_w25/6425_b.png    \n",
            "  inflating: __MACOSX/lines_w25/._6425_b.png  \n",
            "  inflating: lines_w25/35240_b.png   \n",
            "  inflating: __MACOSX/lines_w25/._35240_b.png  \n",
            "  inflating: lines_w25/5486_b.gt.txt  \n",
            "  inflating: __MACOSX/lines_w25/._5486_b.gt.txt  \n",
            "  inflating: lines_w25/37975_b.png   \n",
            "  inflating: __MACOSX/lines_w25/._37975_b.png  \n",
            "  inflating: lines_w25/28254_a.gt.txt  \n",
            "  inflating: __MACOSX/lines_w25/._28254_a.gt.txt  \n",
            "  inflating: lines_w25/1976_b.png    \n",
            "  inflating: __MACOSX/lines_w25/._1976_b.png  \n",
            "  inflating: lines_w25/6881_a.gt.txt  \n",
            "  inflating: __MACOSX/lines_w25/._6881_a.gt.txt  \n",
            "  inflating: lines_w25/15877_a.gt.txt  \n",
            "  inflating: __MACOSX/lines_w25/._15877_a.gt.txt  \n",
            "  inflating: lines_w25/44358_b.png   \n",
            "  inflating: __MACOSX/lines_w25/._44358_b.png  \n",
            "  inflating: lines_w25/2547_b.gt.txt  \n",
            "  inflating: __MACOSX/lines_w25/._2547_b.gt.txt  \n",
            "  inflating: lines_w25/9908_b.gt.txt  \n",
            "  inflating: __MACOSX/lines_w25/._9908_b.gt.txt  \n",
            "  inflating: lines_w25/16470_b.gt.txt  \n",
            "  inflating: __MACOSX/lines_w25/._16470_b.gt.txt  \n",
            "  inflating: lines_w25/1940_a.gt.txt  \n",
            "  inflating: __MACOSX/lines_w25/._1940_a.gt.txt  \n",
            "  inflating: lines_w25/10647_a.gt.txt  \n",
            "  inflating: __MACOSX/lines_w25/._10647_a.gt.txt  \n",
            "  inflating: lines_w25/35589_b.gt.txt  \n",
            "  inflating: __MACOSX/lines_w25/._35589_b.gt.txt  \n",
            "  inflating: lines_w25/4770_a.gt.txt  \n",
            "  inflating: __MACOSX/lines_w25/._4770_a.gt.txt  \n",
            "  inflating: lines_w25/17786_a.gt.txt  \n",
            "  inflating: __MACOSX/lines_w25/._17786_a.gt.txt  \n",
            "  inflating: lines_w25/48531_b.gt.txt  \n",
            "  inflating: __MACOSX/lines_w25/._48531_b.gt.txt  \n",
            "  inflating: lines_w25/39807_b.gt.txt  \n",
            "  inflating: __MACOSX/lines_w25/._39807_b.gt.txt  \n",
            "  inflating: lines_w25/32448_b.gt.txt  \n",
            "  inflating: __MACOSX/lines_w25/._32448_b.gt.txt  \n",
            "  inflating: lines_w25/26092_a.png   \n",
            "  inflating: __MACOSX/lines_w25/._26092_a.png  \n",
            "  inflating: lines_w25/36584_a.png   \n",
            "  inflating: __MACOSX/lines_w25/._36584_a.png  \n",
            "  inflating: lines_w25/40579_a.gt.txt  \n",
            "  inflating: __MACOSX/lines_w25/._40579_a.gt.txt  \n",
            "  inflating: lines_w25/19502_a.png   \n",
            "  inflating: __MACOSX/lines_w25/._19502_a.png  \n",
            "  inflating: lines_w25/29286_a.png   \n",
            "  inflating: __MACOSX/lines_w25/._29286_a.png  \n",
            "  inflating: lines_w25/21911_b.gt.txt  \n",
            "  inflating: __MACOSX/lines_w25/._21911_b.gt.txt  \n",
            "  inflating: lines_w25/39790_a.png   \n",
            "  inflating: __MACOSX/lines_w25/._39790_a.png  \n",
            "  inflating: lines_w25/13170_a.png   \n",
            "  inflating: __MACOSX/lines_w25/._13170_a.png  \n",
            "  inflating: lines_w25/31069_a.png   \n",
            "  inflating: __MACOSX/lines_w25/._31069_a.png  \n",
            "  inflating: lines_w25/16716_a.png   \n",
            "  inflating: __MACOSX/lines_w25/._16716_a.png  \n",
            "  inflating: lines_w25/44044_a.gt.txt  \n",
            "  inflating: __MACOSX/lines_w25/._44044_a.gt.txt  \n",
            "  inflating: lines_w25/24319_a.png   \n",
            "  inflating: __MACOSX/lines_w25/._24319_a.png  \n",
            "  inflating: lines_w25/22516_a.gt.txt  \n",
            "  inflating: __MACOSX/lines_w25/._22516_a.gt.txt  \n",
            "  inflating: lines_w25/36175_b.gt.txt  \n",
            "  inflating: __MACOSX/lines_w25/._36175_b.gt.txt  \n",
            "  inflating: lines_w25/29959_a.gt.txt  \n",
            "  inflating: __MACOSX/lines_w25/._29959_a.gt.txt  \n",
            "  inflating: lines_w25/48688_a.png   \n",
            "  inflating: __MACOSX/lines_w25/._48688_a.png  \n",
            "  inflating: lines_w25/43185_a.gt.txt  \n",
            "  inflating: __MACOSX/lines_w25/._43185_a.gt.txt  \n",
            "  inflating: lines_w25/45717_a.png   \n",
            "  inflating: __MACOSX/lines_w25/._45717_a.png  \n",
            "  inflating: lines_w25/40171_a.png   \n",
            "  inflating: __MACOSX/lines_w25/._40171_a.png  \n",
            "  inflating: lines_w25/8205_b.gt.txt  \n",
            "  inflating: __MACOSX/lines_w25/._8205_b.gt.txt  \n",
            "  inflating: lines_w25/37283_a.gt.txt  \n",
            "  inflating: __MACOSX/lines_w25/._37283_a.gt.txt  \n",
            "  inflating: lines_w25/24721_b.gt.txt  \n",
            "  inflating: __MACOSX/lines_w25/._24721_b.gt.txt  \n",
            "  inflating: lines_w25/30342_a.gt.txt  \n",
            "  inflating: __MACOSX/lines_w25/._30342_a.gt.txt  \n",
            "  inflating: lines_w25/929_a.png     \n",
            "  inflating: __MACOSX/lines_w25/._929_a.png  \n",
            "  inflating: lines_w25/9631_b.png    \n",
            "  inflating: __MACOSX/lines_w25/._9631_b.png  \n",
            "  inflating: lines_w25/42273_b.gt.txt  \n",
            "  inflating: __MACOSX/lines_w25/._42273_b.gt.txt  \n",
            "  inflating: lines_w25/40112_b.gt.txt  \n",
            "  inflating: __MACOSX/lines_w25/._40112_b.gt.txt  \n",
            "  inflating: lines_w25/25847_a.gt.txt  \n",
            "  inflating: __MACOSX/lines_w25/._25847_a.gt.txt  \n",
            "  inflating: lines_w25/38322_b.png   \n",
            "  inflating: __MACOSX/lines_w25/._38322_b.png  \n",
            "  inflating: lines_w25/15891_b.png   \n",
            "  inflating: __MACOSX/lines_w25/._15891_b.png  \n",
            "  inflating: lines_w25/37988_b.png   \n",
            "  inflating: __MACOSX/lines_w25/._37988_b.png  \n",
            "  inflating: lines_w25/26440_b.gt.txt  \n",
            "  inflating: __MACOSX/lines_w25/._26440_b.gt.txt  \n",
            "  inflating: lines_w25/32023_a.gt.txt  \n",
            "  inflating: __MACOSX/lines_w25/._32023_a.gt.txt  \n",
            "  inflating: lines_w25/28634_b.png   \n",
            "  inflating: __MACOSX/lines_w25/._28634_b.png  \n",
            "  inflating: lines_w25/18264_a.gt.txt  \n",
            "  inflating: __MACOSX/lines_w25/._18264_a.gt.txt  \n",
            "  inflating: lines_w25/22986_a.gt.txt  \n",
            "  inflating: __MACOSX/lines_w25/._22986_a.gt.txt  \n",
            "  inflating: lines_w25/21581_b.gt.txt  \n",
            "  inflating: __MACOSX/lines_w25/._21581_b.gt.txt  \n",
            "  inflating: lines_w25/46890_b.png   \n",
            "  inflating: __MACOSX/lines_w25/._46890_b.png  \n",
            "  inflating: lines_w25/42207_a.png   \n",
            "  inflating: __MACOSX/lines_w25/._42207_a.png  \n",
            "  inflating: lines_w25/47461_a.png   \n",
            "  inflating: __MACOSX/lines_w25/._47461_a.png  \n",
            "  inflating: lines_w25/40932_a.png   \n",
            "  inflating: __MACOSX/lines_w25/._40932_a.png  \n",
            "  inflating: lines_w25/23609_a.png   \n",
            "  inflating: __MACOSX/lines_w25/._23609_a.png  \n",
            "  inflating: lines_w25/14460_a.png   \n",
            "  inflating: __MACOSX/lines_w25/._14460_a.png  \n",
            "  inflating: lines_w25/36579_a.png   \n",
            "  inflating: __MACOSX/lines_w25/._36579_a.png  \n",
            "  inflating: lines_w25/11206_a.png   \n",
            "  inflating: __MACOSX/lines_w25/._11206_a.png  \n",
            "  inflating: lines_w25/8283_a.png    \n",
            "  inflating: __MACOSX/lines_w25/._8283_a.png  \n",
            "  inflating: lines_w25/13933_a.png   \n",
            "  inflating: __MACOSX/lines_w25/._13933_a.png  \n",
            "  inflating: lines_w25/20677_a.gt.txt  \n",
            "  inflating: __MACOSX/lines_w25/._20677_a.gt.txt  \n",
            "  inflating: lines_w25/34214_b.gt.txt  \n",
            "  inflating: __MACOSX/lines_w25/._34214_b.gt.txt  \n",
            "  inflating: lines_w25/7829_a.png    \n",
            "  inflating: __MACOSX/lines_w25/._7829_a.png  \n",
            "  inflating: lines_w25/19192_b.gt.txt  \n",
            "  inflating: __MACOSX/lines_w25/._19192_b.gt.txt  \n",
            "  inflating: lines_w25/46325_a.gt.txt  \n",
            "  inflating: __MACOSX/lines_w25/._46325_a.gt.txt  \n",
            "  inflating: lines_w25/41082_a.gt.txt  \n",
            "  inflating: __MACOSX/lines_w25/._41082_a.gt.txt  \n",
            "  inflating: lines_w25/41112_b.png   \n",
            "  inflating: __MACOSX/lines_w25/._41112_b.png  \n",
            "  inflating: lines_w25/44774_b.png   \n",
            "  inflating: __MACOSX/lines_w25/._44774_b.png  \n",
            "  inflating: lines_w25/23816_b.gt.txt  \n",
            "  inflating: __MACOSX/lines_w25/._23816_b.gt.txt  \n",
            "  inflating: lines_w25/28459_b.gt.txt  \n",
            "  inflating: __MACOSX/lines_w25/._28459_b.gt.txt  \n",
            "  inflating: lines_w25/46143_a.gt.txt  \n",
            "  inflating: __MACOSX/lines_w25/._46143_a.gt.txt  \n",
            "  inflating: lines_w25/20411_a.gt.txt  \n",
            "  inflating: __MACOSX/lines_w25/._20411_a.gt.txt  \n",
            "  inflating: lines_w25/34072_b.gt.txt  \n",
            "  inflating: __MACOSX/lines_w25/._34072_b.gt.txt  \n",
            "  inflating: lines_w25/17775_b.png   \n",
            "  inflating: __MACOSX/lines_w25/._17775_b.png  \n",
            "  inflating: lines_w25/12113_b.png   \n",
            "  inflating: __MACOSX/lines_w25/._12113_b.png  \n",
            "  inflating: lines_w25/6009_b.png    \n",
            "  inflating: __MACOSX/lines_w25/._6009_b.png  \n",
            "  inflating: lines_w25/26626_b.gt.txt  \n",
            "  inflating: __MACOSX/lines_w25/._26626_b.gt.txt  \n",
            "  inflating: lines_w25/32245_a.gt.txt  \n",
            "  inflating: __MACOSX/lines_w25/._32245_a.gt.txt  \n",
            "  inflating: lines_w25/8652_a.png    \n",
            "  inflating: __MACOSX/lines_w25/._8652_a.png  \n",
            "  inflating: lines_w25/40374_b.gt.txt  \n",
            "  inflating: __MACOSX/lines_w25/._40374_b.gt.txt  \n",
            "  inflating: lines_w25/35384_a.gt.txt  \n",
            "  inflating: __MACOSX/lines_w25/._35384_a.gt.txt  \n",
            "  inflating: lines_w25/18002_a.gt.txt  \n",
            "  inflating: __MACOSX/lines_w25/._18002_a.gt.txt  \n",
            "  inflating: lines_w25/48259_a.png   \n",
            "  inflating: __MACOSX/lines_w25/._48259_a.png  \n",
            "  inflating: lines_w25/20881_a.gt.txt  \n",
            "  inflating: __MACOSX/lines_w25/._20881_a.gt.txt  \n",
            "  inflating: lines_w25/23486_b.gt.txt  \n",
            "  inflating: __MACOSX/lines_w25/._23486_b.gt.txt  \n",
            "  inflating: lines_w25/269_a.gt.txt  \n",
            "  inflating: __MACOSX/lines_w25/._269_a.gt.txt  \n",
            "  inflating: lines_w25/42015_b.gt.txt  \n",
            "  inflating: __MACOSX/lines_w25/._42015_b.gt.txt  \n",
            "  inflating: lines_w25/29657_a.png   \n",
            "  inflating: __MACOSX/lines_w25/._29657_a.png  \n",
            "  inflating: lines_w25/39341_a.png   \n",
            "  inflating: __MACOSX/lines_w25/._39341_a.png  \n",
            "  inflating: lines_w25/27940_a.gt.txt  \n",
            "  inflating: __MACOSX/lines_w25/._27940_a.gt.txt  \n",
            "  inflating: lines_w25/24547_b.gt.txt  \n",
            "  inflating: __MACOSX/lines_w25/._24547_b.gt.txt  \n",
            "  inflating: lines_w25/30124_a.gt.txt  \n",
            "  inflating: __MACOSX/lines_w25/._30124_a.gt.txt  \n",
            "  inflating: lines_w25/9395_a.gt.txt  \n",
            "  inflating: __MACOSX/lines_w25/._9395_a.gt.txt  \n",
            "  inflating: lines_w25/22770_a.gt.txt  \n",
            "  inflating: __MACOSX/lines_w25/._22770_a.gt.txt  \n",
            "  inflating: lines_w25/36313_b.gt.txt  \n",
            "  inflating: __MACOSX/lines_w25/._36313_b.gt.txt  \n",
            "  inflating: lines_w25/30849_b.png   \n",
            "  inflating: __MACOSX/lines_w25/._30849_b.png  \n",
            "  inflating: lines_w25/12950_b.png   \n",
            "  inflating: __MACOSX/lines_w25/._12950_b.png  \n",
            "  inflating: lines_w25/44222_a.gt.txt  \n",
            "  inflating: __MACOSX/lines_w25/._44222_a.gt.txt  \n",
            "  inflating: lines_w25/10265_b.png   \n",
            "  inflating: __MACOSX/lines_w25/._10265_b.png  \n",
            "  inflating: lines_w25/1519_b.png    \n",
            "  inflating: __MACOSX/lines_w25/._1519_b.png  \n",
            "  inflating: lines_w25/15403_b.png   \n",
            "  inflating: __MACOSX/lines_w25/._15403_b.png  \n",
            "  inflating: lines_w25/8063_b.gt.txt  \n",
            "  inflating: __MACOSX/lines_w25/._8063_b.gt.txt  \n",
            "  inflating: lines_w25/41951_b.png   \n",
            "  inflating: __MACOSX/lines_w25/._41951_b.png  \n",
            "  inflating: lines_w25/46402_b.png   \n",
            "  inflating: __MACOSX/lines_w25/._46402_b.png  \n",
            "  inflating: lines_w25/43264_b.png   \n",
            "  inflating: __MACOSX/lines_w25/._43264_b.png  \n",
            "  inflating: lines_w25/16343_b.gt.txt  \n",
            "  inflating: __MACOSX/lines_w25/._16343_b.gt.txt  \n",
            "  inflating: lines_w25/46096_b.png   \n",
            "  inflating: __MACOSX/lines_w25/._46096_b.png  \n",
            "  inflating: lines_w25/2274_b.gt.txt  \n",
            "  inflating: __MACOSX/lines_w25/._2274_b.gt.txt  \n",
            "  inflating: lines_w25/11282_b.gt.txt  \n",
            "  inflating: __MACOSX/lines_w25/._11282_b.gt.txt  \n",
            "  inflating: lines_w25/15097_b.png   \n",
            "  inflating: __MACOSX/lines_w25/._15097_b.png  \n",
            "  inflating: lines_w25/27498_b.png   \n",
            "  inflating: __MACOSX/lines_w25/._27498_b.png  \n",
            "  inflating: lines_w25/28567_a.gt.txt  \n",
            "  inflating: __MACOSX/lines_w25/._28567_a.gt.txt  \n",
            "  inflating: lines_w25/18108_b.png   \n",
            "  inflating: __MACOSX/lines_w25/._18108_b.png  \n",
            "  inflating: lines_w25/23928_a.gt.txt  \n",
            "  inflating: __MACOSX/lines_w25/._23928_a.gt.txt  \n",
            "  inflating: lines_w25/9674_b.png    \n",
            "  inflating: __MACOSX/lines_w25/._9674_b.png  \n",
            "  inflating: lines_w25/16753_a.png   \n",
            "  inflating: __MACOSX/lines_w25/._16753_a.png  \n",
            "  inflating: lines_w25/2649_a.png    \n",
            "  inflating: __MACOSX/lines_w25/._2649_a.png  \n",
            "  inflating: lines_w25/13135_a.png   \n",
            "  inflating: __MACOSX/lines_w25/._13135_a.png  \n",
            "  inflating: lines_w25/26869_a.png   \n",
            "  inflating: __MACOSX/lines_w25/._26869_a.png  \n",
            "  inflating: lines_w25/3182_a.gt.txt  \n",
            "  inflating: __MACOSX/lines_w25/._3182_a.gt.txt  \n",
            "  inflating: lines_w25/48202_b.gt.txt  \n",
            "  inflating: __MACOSX/lines_w25/._48202_b.gt.txt  \n",
            "  inflating: lines_w25/26718_a.gt.txt  \n",
            "  inflating: __MACOSX/lines_w25/._26718_a.gt.txt  \n",
            "  inflating: lines_w25/40134_a.png   \n",
            "  inflating: __MACOSX/lines_w25/._40134_a.png  \n",
            "  inflating: lines_w25/45752_a.png   \n",
            "  inflating: __MACOSX/lines_w25/._45752_a.png  \n",
            "  inflating: lines_w25/29691_b.gt.txt  \n",
            "  inflating: __MACOSX/lines_w25/._29691_b.gt.txt  \n",
            "  inflating: lines_w25/4043_a.gt.txt  \n",
            "  inflating: __MACOSX/lines_w25/._4043_a.gt.txt  \n",
            "  inflating: lines_w25/10174_a.gt.txt  \n",
            "  inflating: __MACOSX/lines_w25/._10174_a.gt.txt  \n",
            "  inflating: lines_w25/357_b.gt.txt  \n",
            "  inflating: __MACOSX/lines_w25/._357_b.gt.txt  \n",
            "  inflating: lines_w25/40977_a.png   \n",
            "  inflating: __MACOSX/lines_w25/._40977_a.png  \n",
            "  inflating: lines_w25/12215_a.gt.txt  \n",
            "  inflating: __MACOSX/lines_w25/._12215_a.gt.txt  \n",
            "  inflating: lines_w25/47424_a.png   \n",
            "  inflating: __MACOSX/lines_w25/._47424_a.png  \n",
            "  inflating: lines_w25/42242_a.png   \n",
            "  inflating: __MACOSX/lines_w25/._42242_a.png  \n",
            "  inflating: lines_w25/6322_a.gt.txt  \n",
            "  inflating: __MACOSX/lines_w25/._6322_a.gt.txt  \n",
            "  inflating: lines_w25/24479_a.gt.txt  \n",
            "  inflating: __MACOSX/lines_w25/._24479_a.gt.txt  \n",
            "  inflating: lines_w25/13976_a.png   \n",
            "  inflating: __MACOSX/lines_w25/._13976_a.png  \n",
            "  inflating: lines_w25/11243_a.png   \n",
            "  inflating: __MACOSX/lines_w25/._11243_a.png  \n",
            "  inflating: lines_w25/5359_a.png    \n",
            "  inflating: __MACOSX/lines_w25/._5359_a.png  \n",
            "  inflating: lines_w25/14425_a.png   \n",
            "  inflating: __MACOSX/lines_w25/._14425_a.png  \n",
            "  inflating: lines_w25/38052_a.gt.txt  \n",
            "  inflating: __MACOSX/lines_w25/._38052_a.gt.txt  \n",
            "  inflating: lines_w25/38367_b.png   \n",
            "  inflating: __MACOSX/lines_w25/._38367_b.png  \n",
            "  inflating: lines_w25/28671_b.png   \n",
            "  inflating: __MACOSX/lines_w25/._28671_b.png  \n",
            "  inflating: lines_w25/20188_b.png   \n",
            "  inflating: __MACOSX/lines_w25/._20188_b.png  \n",
            "  inflating: lines_w25/12587_b.png   \n",
            "  inflating: __MACOSX/lines_w25/._12587_b.png  \n",
            "  inflating: lines_w25/14022_b.gt.txt  \n",
            "  inflating: __MACOSX/lines_w25/._14022_b.gt.txt  \n",
            "  inflating: lines_w25/41586_b.png   \n",
            "  inflating: __MACOSX/lines_w25/._41586_b.png  \n",
            "  inflating: lines_w25/8617_a.png    \n",
            "  inflating: __MACOSX/lines_w25/._8617_a.png  \n",
            "  inflating: lines_w25/13385_b.gt.txt  \n",
            "  inflating: __MACOSX/lines_w25/._13385_b.gt.txt  \n",
            "  inflating: lines_w25/29867_b.gt.txt  \n",
            "  inflating: __MACOSX/lines_w25/._29867_b.gt.txt  \n",
            "  inflating: lines_w25/11692_a.png   \n",
            "  inflating: __MACOSX/lines_w25/._11692_a.png  \n",
            "  inflating: lines_w25/5788_a.png    \n",
            "  inflating: __MACOSX/lines_w25/._5788_a.png  \n",
            "  inflating: lines_w25/22428_b.gt.txt  \n",
            "  inflating: __MACOSX/lines_w25/._22428_b.gt.txt  \n",
            "  inflating: lines_w25/14244_b.gt.txt  \n",
            "  inflating: __MACOSX/lines_w25/._14244_b.gt.txt  \n",
            "  inflating: lines_w25/42693_a.png   \n",
            "  inflating: __MACOSX/lines_w25/._42693_a.png  \n",
            "  inflating: lines_w25/6144_a.gt.txt  \n",
            "  inflating: __MACOSX/lines_w25/._6144_a.gt.txt  \n",
            "  inflating: lines_w25/12073_a.gt.txt  \n",
            "  inflating: __MACOSX/lines_w25/._12073_a.gt.txt  \n",
            "  inflating: lines_w25/131_b.gt.txt  \n",
            "  inflating: __MACOSX/lines_w25/._131_b.gt.txt  \n",
            "  inflating: lines_w25/44731_b.png   \n",
            "  inflating: __MACOSX/lines_w25/._44731_b.png  \n",
            "  inflating: lines_w25/41157_b.png   \n",
            "  inflating: __MACOSX/lines_w25/._41157_b.png  \n",
            "  inflating: lines_w25/1085_a.gt.txt  \n",
            "  inflating: __MACOSX/lines_w25/._1085_a.gt.txt  \n",
            "  inflating: lines_w25/38234_a.gt.txt  \n",
            "  inflating: __MACOSX/lines_w25/._38234_a.gt.txt  \n",
            "  inflating: lines_w25/20559_b.png   \n",
            "  inflating: __MACOSX/lines_w25/._20559_b.png  \n",
            "  inflating: lines_w25/35629_b.png   \n",
            "  inflating: __MACOSX/lines_w25/._35629_b.png  \n",
            "  inflating: lines_w25/12156_b.png   \n",
            "  inflating: __MACOSX/lines_w25/._12156_b.png  \n",
            "  inflating: lines_w25/17730_b.png   \n",
            "  inflating: __MACOSX/lines_w25/._17730_b.png  \n",
            "  inflating: lines_w25/48064_b.gt.txt  \n",
            "  inflating: __MACOSX/lines_w25/._48064_b.gt.txt  \n",
            "  inflating: lines_w25/32339_b.png   \n",
            "  inflating: __MACOSX/lines_w25/._32339_b.png  \n",
            "  inflating: lines_w25/15446_b.png   \n",
            "  inflating: __MACOSX/lines_w25/._15446_b.png  \n",
            "  inflating: lines_w25/10220_b.png   \n",
            "  inflating: __MACOSX/lines_w25/._10220_b.png  \n",
            "  inflating: lines_w25/25979_b.gt.txt  \n",
            "  inflating: __MACOSX/lines_w25/._25979_b.gt.txt  \n",
            "  inflating: lines_w25/27049_b.png   \n",
            "  inflating: __MACOSX/lines_w25/._27049_b.png  \n",
            "  inflating: lines_w25/12915_b.png   \n",
            "  inflating: __MACOSX/lines_w25/._12915_b.png  \n",
            "  inflating: lines_w25/10312_a.gt.txt  \n",
            "  inflating: __MACOSX/lines_w25/._10312_a.gt.txt  \n",
            "  inflating: lines_w25/43221_b.png   \n",
            "  inflating: __MACOSX/lines_w25/._43221_b.png  \n",
            "  inflating: lines_w25/46447_b.png   \n",
            "  inflating: __MACOSX/lines_w25/._46447_b.png  \n",
            "  inflating: lines_w25/4225_a.gt.txt  \n",
            "  inflating: __MACOSX/lines_w25/._4225_a.gt.txt  \n",
            "  inflating: lines_w25/41914_b.png   \n",
            "  inflating: __MACOSX/lines_w25/._41914_b.png  \n",
            "  inflating: lines_w25/45383_a.png   \n",
            "  inflating: __MACOSX/lines_w25/._45383_a.png  \n",
            "  inflating: lines_w25/2012_b.gt.txt  \n",
            "  inflating: __MACOSX/lines_w25/._2012_b.gt.txt  \n",
            "  inflating: lines_w25/27688_b.gt.txt  \n",
            "  inflating: __MACOSX/lines_w25/._27688_b.gt.txt  \n",
            "  inflating: lines_w25/49392_a.gt.txt  \n",
            "  inflating: __MACOSX/lines_w25/._49392_a.gt.txt  \n",
            "  inflating: lines_w25/16125_b.gt.txt  \n",
            "  inflating: __MACOSX/lines_w25/._16125_b.gt.txt  \n",
            "  inflating: lines_w25/28701_a.gt.txt  \n",
            "  inflating: __MACOSX/lines_w25/._28701_a.gt.txt  \n",
            "  inflating: lines_w25/16382_a.png   \n",
            "  inflating: __MACOSX/lines_w25/._16382_a.png  \n",
            "  inflating: lines_w25/2298_a.png    \n",
            "  inflating: __MACOSX/lines_w25/._2298_a.png  \n",
            "  inflating: lines_w25/19928_a.png   \n",
            "  inflating: __MACOSX/lines_w25/._19928_a.png  \n",
            "  inflating: lines_w25/29612_a.png   \n",
            "  inflating: __MACOSX/lines_w25/._29612_a.png  \n",
            "  inflating: lines_w25/39304_a.png   \n",
            "  inflating: __MACOSX/lines_w25/._39304_a.png  \n",
            "  inflating: lines_w25/20749_b.gt.txt  \n",
            "  inflating: __MACOSX/lines_w25/._20749_b.gt.txt  \n",
            "  inflating: lines_w25/9652_a.png    \n",
            "  inflating: __MACOSX/lines_w25/._9652_a.png  \n",
            "  inflating: lines_w25/26627_b.gt.txt  \n",
            "  inflating: __MACOSX/lines_w25/._26627_b.gt.txt  \n",
            "  inflating: lines_w25/32244_a.gt.txt  \n",
            "  inflating: __MACOSX/lines_w25/._32244_a.gt.txt  \n",
            "  inflating: lines_w25/40375_b.gt.txt  \n",
            "  inflating: __MACOSX/lines_w25/._40375_b.gt.txt  \n",
            "  inflating: lines_w25/35385_a.gt.txt  \n",
            "  inflating: __MACOSX/lines_w25/._35385_a.gt.txt  \n",
            "  inflating: lines_w25/18003_a.gt.txt  \n",
            "  inflating: __MACOSX/lines_w25/._18003_a.gt.txt  \n",
            "  inflating: lines_w25/41083_a.gt.txt  \n",
            "  inflating: __MACOSX/lines_w25/._41083_a.gt.txt  \n",
            "  inflating: lines_w25/45774_b.png   \n",
            "  inflating: __MACOSX/lines_w25/._45774_b.png  \n",
            "  inflating: lines_w25/40112_b.png   \n",
            "  inflating: __MACOSX/lines_w25/._40112_b.png  \n",
            "  inflating: lines_w25/46142_a.gt.txt  \n",
            "  inflating: __MACOSX/lines_w25/._46142_a.gt.txt  \n",
            "  inflating: lines_w25/23817_b.gt.txt  \n",
            "  inflating: __MACOSX/lines_w25/._23817_b.gt.txt  \n",
            "  inflating: lines_w25/28458_b.gt.txt  \n",
            "  inflating: __MACOSX/lines_w25/._28458_b.gt.txt  \n",
            "  inflating: lines_w25/13113_b.png   \n",
            "  inflating: __MACOSX/lines_w25/._13113_b.png  \n",
            "  inflating: lines_w25/7009_b.png    \n",
            "  inflating: __MACOSX/lines_w25/._7009_b.png  \n",
            "  inflating: lines_w25/20410_a.gt.txt  \n",
            "  inflating: __MACOSX/lines_w25/._20410_a.gt.txt  \n",
            "  inflating: lines_w25/34073_b.gt.txt  \n",
            "  inflating: __MACOSX/lines_w25/._34073_b.gt.txt  \n",
            "  inflating: lines_w25/16775_b.png   \n",
            "  inflating: __MACOSX/lines_w25/._16775_b.png  \n",
            "  inflating: lines_w25/22771_a.gt.txt  \n",
            "  inflating: __MACOSX/lines_w25/._22771_a.gt.txt  \n",
            "  inflating: lines_w25/36312_b.gt.txt  \n",
            "  inflating: __MACOSX/lines_w25/._36312_b.gt.txt  \n",
            "  inflating: lines_w25/14403_b.png   \n",
            "  inflating: __MACOSX/lines_w25/._14403_b.png  \n",
            "  inflating: lines_w25/11265_b.png   \n",
            "  inflating: __MACOSX/lines_w25/._11265_b.png  \n",
            "  inflating: lines_w25/13950_b.png   \n",
            "  inflating: __MACOSX/lines_w25/._13950_b.png  \n",
            "  inflating: lines_w25/44223_a.gt.txt  \n",
            "  inflating: __MACOSX/lines_w25/._44223_a.gt.txt  \n",
            "  inflating: lines_w25/31849_b.png   \n",
            "  inflating: __MACOSX/lines_w25/._31849_b.png  \n",
            "  inflating: lines_w25/8062_b.gt.txt  \n",
            "  inflating: __MACOSX/lines_w25/._8062_b.gt.txt  \n",
            "  inflating: lines_w25/42264_b.png   \n",
            "  inflating: __MACOSX/lines_w25/._42264_b.png  \n",
            "  inflating: lines_w25/47402_b.png   \n",
            "  inflating: __MACOSX/lines_w25/._47402_b.png  \n",
            "  inflating: lines_w25/40951_b.png   \n",
            "  inflating: __MACOSX/lines_w25/._40951_b.png  \n",
            "  inflating: lines_w25/20880_a.gt.txt  \n",
            "  inflating: __MACOSX/lines_w25/._20880_a.gt.txt  \n",
            "  inflating: lines_w25/49259_a.png   \n",
            "  inflating: __MACOSX/lines_w25/._49259_a.png  \n",
            "  inflating: lines_w25/23487_b.gt.txt  \n",
            "  inflating: __MACOSX/lines_w25/._23487_b.gt.txt  \n",
            "  inflating: lines_w25/268_a.gt.txt  \n",
            "  inflating: __MACOSX/lines_w25/._268_a.gt.txt  \n",
            "  inflating: lines_w25/27941_a.gt.txt  \n",
            "  inflating: __MACOSX/lines_w25/._27941_a.gt.txt  \n",
            "  inflating: lines_w25/109_b.png     \n",
            "  inflating: __MACOSX/lines_w25/._109_b.png  \n",
            "  inflating: lines_w25/28657_a.png   \n",
            "  inflating: __MACOSX/lines_w25/._28657_a.png  \n",
            "  inflating: lines_w25/42014_b.gt.txt  \n",
            "  inflating: __MACOSX/lines_w25/._42014_b.gt.txt  \n",
            "  inflating: lines_w25/38341_a.png   \n",
            "  inflating: __MACOSX/lines_w25/._38341_a.png  \n",
            "  inflating: lines_w25/24546_b.gt.txt  \n",
            "  inflating: __MACOSX/lines_w25/._24546_b.gt.txt  \n",
            "  inflating: lines_w25/30125_a.gt.txt  \n",
            "  inflating: __MACOSX/lines_w25/._30125_a.gt.txt  \n",
            "  inflating: lines_w25/9394_a.gt.txt  \n",
            "  inflating: __MACOSX/lines_w25/._9394_a.gt.txt  \n",
            "  inflating: lines_w25/37282_a.gt.txt  \n",
            "  inflating: __MACOSX/lines_w25/._37282_a.gt.txt  \n",
            "  inflating: lines_w25/24720_b.gt.txt  \n",
            "  inflating: __MACOSX/lines_w25/._24720_b.gt.txt  \n",
            "  inflating: lines_w25/30343_a.gt.txt  \n",
            "  inflating: __MACOSX/lines_w25/._30343_a.gt.txt  \n",
            "  inflating: lines_w25/42272_b.gt.txt  \n",
            "  inflating: __MACOSX/lines_w25/._42272_b.gt.txt  \n",
            "  inflating: lines_w25/8631_b.png    \n",
            "  inflating: __MACOSX/lines_w25/._8631_b.png  \n",
            "  inflating: lines_w25/44045_a.gt.txt  \n",
            "  inflating: __MACOSX/lines_w25/._44045_a.gt.txt  \n",
            "  inflating: lines_w25/17716_a.png   \n",
            "  inflating: __MACOSX/lines_w25/._17716_a.png  \n",
            "  inflating: lines_w25/30069_a.png   \n",
            "  inflating: __MACOSX/lines_w25/._30069_a.png  \n",
            "  inflating: lines_w25/12170_a.png   \n",
            "  inflating: __MACOSX/lines_w25/._12170_a.png  \n",
            "  inflating: lines_w25/25319_a.png   \n",
            "  inflating: __MACOSX/lines_w25/._25319_a.png  \n",
            "  inflating: lines_w25/28286_a.png   \n",
            "  inflating: __MACOSX/lines_w25/._28286_a.png  \n",
            "  inflating: lines_w25/38790_a.png   \n",
            "  inflating: __MACOSX/lines_w25/._38790_a.png  \n",
            "  inflating: lines_w25/21910_b.gt.txt  \n",
            "  inflating: __MACOSX/lines_w25/._21910_b.gt.txt  \n",
            "  inflating: lines_w25/22517_a.gt.txt  \n",
            "  inflating: __MACOSX/lines_w25/._22517_a.gt.txt  \n",
            "  inflating: lines_w25/36174_b.gt.txt  \n",
            "  inflating: __MACOSX/lines_w25/._36174_b.gt.txt  \n",
            "  inflating: lines_w25/29958_a.gt.txt  \n",
            "  inflating: __MACOSX/lines_w25/._29958_a.gt.txt  \n",
            "  inflating: lines_w25/41171_a.png   \n",
            "  inflating: __MACOSX/lines_w25/._41171_a.png  \n",
            "  inflating: lines_w25/43184_a.gt.txt  \n",
            "  inflating: __MACOSX/lines_w25/._43184_a.gt.txt  \n",
            "  inflating: lines_w25/44717_a.png   \n",
            "  inflating: __MACOSX/lines_w25/._44717_a.png  \n",
            "  inflating: lines_w25/8204_b.gt.txt  \n",
            "  inflating: __MACOSX/lines_w25/._8204_b.gt.txt  \n",
            "  inflating: lines_w25/41932_a.png   \n",
            "  inflating: __MACOSX/lines_w25/._41932_a.png  \n",
            "  inflating: lines_w25/46461_a.png   \n",
            "  inflating: __MACOSX/lines_w25/._46461_a.png  \n",
            "  inflating: lines_w25/43207_a.png   \n",
            "  inflating: __MACOSX/lines_w25/._43207_a.png  \n",
            "  inflating: lines_w25/9283_a.png    \n",
            "  inflating: __MACOSX/lines_w25/._9283_a.png  \n",
            "  inflating: lines_w25/12933_a.png   \n",
            "  inflating: __MACOSX/lines_w25/._12933_a.png  \n",
            "  inflating: lines_w25/20676_a.gt.txt  \n",
            "  inflating: __MACOSX/lines_w25/._20676_a.gt.txt  \n",
            "  inflating: lines_w25/34215_b.gt.txt  \n",
            "  inflating: __MACOSX/lines_w25/._34215_b.gt.txt  \n",
            "  inflating: lines_w25/6829_a.png    \n",
            "  inflating: __MACOSX/lines_w25/._6829_a.png  \n",
            "  inflating: lines_w25/22609_a.png   \n",
            "  inflating: __MACOSX/lines_w25/._22609_a.png  \n",
            "  inflating: lines_w25/10206_a.png   \n",
            "  inflating: __MACOSX/lines_w25/._10206_a.png  \n",
            "  inflating: lines_w25/37579_a.png   \n",
            "  inflating: __MACOSX/lines_w25/._37579_a.png  \n",
            "  inflating: lines_w25/15460_a.png   \n",
            "  inflating: __MACOSX/lines_w25/._15460_a.png  \n",
            "  inflating: lines_w25/19193_b.gt.txt  \n",
            "  inflating: __MACOSX/lines_w25/._19193_b.gt.txt  \n",
            "  inflating: lines_w25/46324_a.gt.txt  \n",
            "  inflating: __MACOSX/lines_w25/._46324_a.gt.txt  \n",
            "  inflating: lines_w25/25846_a.gt.txt  \n",
            "  inflating: __MACOSX/lines_w25/._25846_a.gt.txt  \n",
            "  inflating: lines_w25/40113_b.gt.txt  \n",
            "  inflating: __MACOSX/lines_w25/._40113_b.gt.txt  \n",
            "  inflating: lines_w25/39322_b.png   \n",
            "  inflating: __MACOSX/lines_w25/._39322_b.png  \n",
            "  inflating: lines_w25/26441_b.gt.txt  \n",
            "  inflating: __MACOSX/lines_w25/._26441_b.gt.txt  \n",
            "  inflating: lines_w25/32022_a.gt.txt  \n",
            "  inflating: __MACOSX/lines_w25/._32022_a.gt.txt  \n",
            "  inflating: lines_w25/36988_b.png   \n",
            "  inflating: __MACOSX/lines_w25/._36988_b.png  \n",
            "  inflating: lines_w25/29634_b.png   \n",
            "  inflating: __MACOSX/lines_w25/._29634_b.png  \n",
            "  inflating: lines_w25/14891_b.png   \n",
            "  inflating: __MACOSX/lines_w25/._14891_b.png  \n",
            "  inflating: lines_w25/22987_a.gt.txt  \n",
            "  inflating: __MACOSX/lines_w25/._22987_a.gt.txt  \n",
            "  inflating: lines_w25/18265_a.gt.txt  \n",
            "  inflating: __MACOSX/lines_w25/._18265_a.gt.txt  \n",
            "  inflating: lines_w25/47890_b.png   \n",
            "  inflating: __MACOSX/lines_w25/._47890_b.png  \n",
            "  inflating: lines_w25/21580_b.gt.txt  \n",
            "  inflating: __MACOSX/lines_w25/._21580_b.gt.txt  \n",
            "  inflating: lines_w25/6145_a.gt.txt  \n",
            "  inflating: __MACOSX/lines_w25/._6145_a.gt.txt  \n",
            "  inflating: lines_w25/130_b.gt.txt  \n",
            "  inflating: __MACOSX/lines_w25/._130_b.gt.txt  \n",
            "  inflating: lines_w25/40157_b.png   \n",
            "  inflating: __MACOSX/lines_w25/._40157_b.png  \n",
            "  inflating: lines_w25/45731_b.png   \n",
            "  inflating: __MACOSX/lines_w25/._45731_b.png  \n",
            "  inflating: lines_w25/12072_a.gt.txt  \n",
            "  inflating: __MACOSX/lines_w25/._12072_a.gt.txt  \n",
            "  inflating: lines_w25/1084_a.gt.txt  \n",
            "  inflating: __MACOSX/lines_w25/._1084_a.gt.txt  \n",
            "  inflating: lines_w25/38235_a.gt.txt  \n",
            "  inflating: __MACOSX/lines_w25/._38235_a.gt.txt  \n",
            "  inflating: lines_w25/21559_b.png   \n",
            "  inflating: __MACOSX/lines_w25/._21559_b.png  \n",
            "  inflating: lines_w25/16730_b.png   \n",
            "  inflating: __MACOSX/lines_w25/._16730_b.png  \n",
            "  inflating: lines_w25/13156_b.png   \n",
            "  inflating: __MACOSX/lines_w25/._13156_b.png  \n",
            "  inflating: lines_w25/34629_b.png   \n",
            "  inflating: __MACOSX/lines_w25/._34629_b.png  \n",
            "  inflating: lines_w25/29866_b.gt.txt  \n",
            "  inflating: __MACOSX/lines_w25/._29866_b.gt.txt  \n",
            "  inflating: lines_w25/10692_a.png   \n",
            "  inflating: __MACOSX/lines_w25/._10692_a.png  \n",
            "  inflating: lines_w25/4788_a.png    \n",
            "  inflating: __MACOSX/lines_w25/._4788_a.png  \n",
            "  inflating: lines_w25/22429_b.gt.txt  \n",
            "  inflating: __MACOSX/lines_w25/._22429_b.gt.txt  \n",
            "  inflating: lines_w25/13384_b.gt.txt  \n",
            "  inflating: __MACOSX/lines_w25/._13384_b.gt.txt  \n",
            "  inflating: lines_w25/9617_a.png    \n",
            "  inflating: __MACOSX/lines_w25/._9617_a.png  \n",
            "  inflating: lines_w25/43693_a.png   \n",
            "  inflating: __MACOSX/lines_w25/._43693_a.png  \n",
            "  inflating: lines_w25/14245_b.gt.txt  \n",
            "  inflating: __MACOSX/lines_w25/._14245_b.gt.txt  \n",
            "  inflating: lines_w25/44383_a.png   \n",
            "  inflating: __MACOSX/lines_w25/._44383_a.png  \n",
            "  inflating: lines_w25/2013_b.gt.txt  \n",
            "  inflating: __MACOSX/lines_w25/._2013_b.gt.txt  \n",
            "  inflating: lines_w25/49393_a.gt.txt  \n",
            "  inflating: __MACOSX/lines_w25/._49393_a.gt.txt  \n",
            "  inflating: lines_w25/16124_b.gt.txt  \n",
            "  inflating: __MACOSX/lines_w25/._16124_b.gt.txt  \n",
            "  inflating: lines_w25/27689_b.gt.txt  \n",
            "  inflating: __MACOSX/lines_w25/._27689_b.gt.txt  \n",
            "  inflating: lines_w25/28612_a.png   \n",
            "  inflating: __MACOSX/lines_w25/._28612_a.png  \n",
            "  inflating: lines_w25/38304_a.png   \n",
            "  inflating: __MACOSX/lines_w25/._38304_a.png  \n",
            "  inflating: lines_w25/17382_a.png   \n",
            "  inflating: __MACOSX/lines_w25/._17382_a.png  \n",
            "  inflating: lines_w25/3298_a.png    \n",
            "  inflating: __MACOSX/lines_w25/._3298_a.png  \n",
            "  inflating: lines_w25/28700_a.gt.txt  \n",
            "  inflating: __MACOSX/lines_w25/._28700_a.gt.txt  \n",
            "  inflating: lines_w25/18928_a.png   \n",
            "  inflating: __MACOSX/lines_w25/._18928_a.png  \n",
            "  inflating: lines_w25/20748_b.gt.txt  \n",
            "  inflating: __MACOSX/lines_w25/._20748_b.gt.txt  \n",
            "  inflating: lines_w25/48065_b.gt.txt  \n",
            "  inflating: __MACOSX/lines_w25/._48065_b.gt.txt  \n",
            "  inflating: lines_w25/13915_b.png   \n",
            "  inflating: __MACOSX/lines_w25/._13915_b.png  \n",
            "  inflating: lines_w25/11220_b.png   \n",
            "  inflating: __MACOSX/lines_w25/._11220_b.png  \n",
            "  inflating: lines_w25/14446_b.png   \n",
            "  inflating: __MACOSX/lines_w25/._14446_b.png  \n",
            "  inflating: lines_w25/33339_b.png   \n",
            "  inflating: __MACOSX/lines_w25/._33339_b.png  \n",
            "  inflating: lines_w25/26049_b.png   \n",
            "  inflating: __MACOSX/lines_w25/._26049_b.png  \n",
            "  inflating: lines_w25/25978_b.gt.txt  \n",
            "  inflating: __MACOSX/lines_w25/._25978_b.gt.txt  \n",
            "  inflating: lines_w25/10313_a.gt.txt  \n",
            "  inflating: __MACOSX/lines_w25/._10313_a.gt.txt  \n",
            "  inflating: lines_w25/40914_b.png   \n",
            "  inflating: __MACOSX/lines_w25/._40914_b.png  \n",
            "  inflating: lines_w25/47447_b.png   \n",
            "  inflating: __MACOSX/lines_w25/._47447_b.png  \n",
            "  inflating: lines_w25/42221_b.png   \n",
            "  inflating: __MACOSX/lines_w25/._42221_b.png  \n",
            "  inflating: lines_w25/4224_a.gt.txt  \n",
            "  inflating: __MACOSX/lines_w25/._4224_a.gt.txt  \n",
            "  inflating: lines_w25/3183_a.gt.txt  \n",
            "  inflating: __MACOSX/lines_w25/._3183_a.gt.txt  \n",
            "  inflating: lines_w25/27869_a.png   \n",
            "  inflating: __MACOSX/lines_w25/._27869_a.png  \n",
            "  inflating: lines_w25/12135_a.png   \n",
            "  inflating: __MACOSX/lines_w25/._12135_a.png  \n",
            "  inflating: lines_w25/17753_a.png   \n",
            "  inflating: __MACOSX/lines_w25/._17753_a.png  \n",
            "  inflating: lines_w25/3649_a.png    \n",
            "  inflating: __MACOSX/lines_w25/._3649_a.png  \n",
            "  inflating: lines_w25/26719_a.gt.txt  \n",
            "  inflating: __MACOSX/lines_w25/._26719_a.gt.txt  \n",
            "  inflating: lines_w25/48203_b.gt.txt  \n",
            "  inflating: __MACOSX/lines_w25/._48203_b.gt.txt  \n",
            "  inflating: lines_w25/29690_b.gt.txt  \n",
            "  inflating: __MACOSX/lines_w25/._29690_b.gt.txt  \n",
            "  inflating: lines_w25/4042_a.gt.txt  \n",
            "  inflating: __MACOSX/lines_w25/._4042_a.gt.txt  \n",
            "  inflating: lines_w25/44752_a.png   \n",
            "  inflating: __MACOSX/lines_w25/._44752_a.png  \n",
            "  inflating: lines_w25/41134_a.png   \n",
            "  inflating: __MACOSX/lines_w25/._41134_a.png  \n",
            "  inflating: lines_w25/10175_a.gt.txt  \n",
            "  inflating: __MACOSX/lines_w25/._10175_a.gt.txt  \n",
            "  inflating: lines_w25/16342_b.gt.txt  \n",
            "  inflating: __MACOSX/lines_w25/._16342_b.gt.txt  \n",
            "  inflating: lines_w25/2275_b.gt.txt  \n",
            "  inflating: __MACOSX/lines_w25/._2275_b.gt.txt  \n",
            "  inflating: lines_w25/47096_b.png   \n",
            "  inflating: __MACOSX/lines_w25/._47096_b.png  \n",
            "  inflating: lines_w25/11283_b.gt.txt  \n",
            "  inflating: __MACOSX/lines_w25/._11283_b.gt.txt  \n",
            "  inflating: lines_w25/28566_a.gt.txt  \n",
            "  inflating: __MACOSX/lines_w25/._28566_a.gt.txt  \n",
            "  inflating: lines_w25/23929_a.gt.txt  \n",
            "  inflating: __MACOSX/lines_w25/._23929_a.gt.txt  \n",
            "  inflating: lines_w25/8674_b.png    \n",
            "  inflating: __MACOSX/lines_w25/._8674_b.png  \n",
            "  inflating: lines_w25/19108_b.png   \n",
            "  inflating: __MACOSX/lines_w25/._19108_b.png  \n",
            "  inflating: lines_w25/14097_b.png   \n",
            "  inflating: __MACOSX/lines_w25/._14097_b.png  \n",
            "  inflating: lines_w25/26498_b.png   \n",
            "  inflating: __MACOSX/lines_w25/._26498_b.png  \n",
            "  inflating: lines_w25/21188_b.png   \n",
            "  inflating: __MACOSX/lines_w25/._21188_b.png  \n",
            "  inflating: lines_w25/13587_b.png   \n",
            "  inflating: __MACOSX/lines_w25/._13587_b.png  \n",
            "  inflating: lines_w25/39367_b.png   \n",
            "  inflating: __MACOSX/lines_w25/._39367_b.png  \n",
            "  inflating: lines_w25/29671_b.png   \n",
            "  inflating: __MACOSX/lines_w25/._29671_b.png  \n",
            "  inflating: lines_w25/14023_b.gt.txt  \n",
            "  inflating: __MACOSX/lines_w25/._14023_b.gt.txt  \n",
            "  inflating: lines_w25/40586_b.png   \n",
            "  inflating: __MACOSX/lines_w25/._40586_b.png  \n",
            "  inflating: lines_w25/12214_a.gt.txt  \n",
            "  inflating: __MACOSX/lines_w25/._12214_a.gt.txt  \n",
            "  inflating: lines_w25/43242_a.png   \n",
            "  inflating: __MACOSX/lines_w25/._43242_a.png  \n",
            "  inflating: lines_w25/46424_a.png   \n",
            "  inflating: __MACOSX/lines_w25/._46424_a.png  \n",
            "  inflating: lines_w25/356_b.gt.txt  \n",
            "  inflating: __MACOSX/lines_w25/._356_b.gt.txt  \n",
            "  inflating: lines_w25/41977_a.png   \n",
            "  inflating: __MACOSX/lines_w25/._41977_a.png  \n",
            "  inflating: lines_w25/6323_a.gt.txt  \n",
            "  inflating: __MACOSX/lines_w25/._6323_a.gt.txt  \n",
            "  inflating: lines_w25/15425_a.png   \n",
            "  inflating: __MACOSX/lines_w25/._15425_a.png  \n",
            "  inflating: lines_w25/10243_a.png   \n",
            "  inflating: __MACOSX/lines_w25/._10243_a.png  \n",
            "  inflating: lines_w25/4359_a.png    \n",
            "  inflating: __MACOSX/lines_w25/._4359_a.png  \n",
            "  inflating: lines_w25/12976_a.png   \n",
            "  inflating: __MACOSX/lines_w25/._12976_a.png  \n",
            "  inflating: lines_w25/24478_a.gt.txt  \n",
            "  inflating: __MACOSX/lines_w25/._24478_a.gt.txt  \n",
            "  inflating: lines_w25/38053_a.gt.txt  \n",
            "  inflating: __MACOSX/lines_w25/._38053_a.gt.txt  \n",
            "  inflating: lines_w25/28097_b.gt.txt  \n",
            "  inflating: __MACOSX/lines_w25/._28097_b.gt.txt  \n",
            "  inflating: lines_w25/5645_a.gt.txt  \n",
            "  inflating: __MACOSX/lines_w25/._5645_a.gt.txt  \n",
            "  inflating: lines_w25/11772_a.gt.txt  \n",
            "  inflating: __MACOSX/lines_w25/._11772_a.gt.txt  \n",
            "  inflating: lines_w25/2784_a.gt.txt  \n",
            "  inflating: __MACOSX/lines_w25/._2784_a.gt.txt  \n",
            "  inflating: lines_w25/38932_b.gt.txt  \n",
            "  inflating: __MACOSX/lines_w25/._38932_b.gt.txt  \n",
            "  inflating: lines_w25/24880_b.png   \n",
            "  inflating: __MACOSX/lines_w25/._24880_b.png  \n",
            "  inflating: lines_w25/8159_b.png    \n",
            "  inflating: __MACOSX/lines_w25/._8159_b.png  \n",
            "  inflating: lines_w25/19625_b.png   \n",
            "  inflating: __MACOSX/lines_w25/._19625_b.png  \n",
            "  inflating: lines_w25/49404_b.gt.txt  \n",
            "  inflating: __MACOSX/lines_w25/._49404_b.gt.txt  \n",
            "  inflating: lines_w25/25471_a.png   \n",
            "  inflating: __MACOSX/lines_w25/._25471_a.png  \n",
            "  inflating: lines_w25/21329_b.gt.txt  \n",
            "  inflating: __MACOSX/lines_w25/._21329_b.gt.txt  \n",
            "  inflating: lines_w25/20217_a.png   \n",
            "  inflating: __MACOSX/lines_w25/._20217_a.png  \n",
            "  inflating: lines_w25/35167_a.png   \n",
            "  inflating: __MACOSX/lines_w25/._35167_a.png  \n",
            "  inflating: lines_w25/12618_a.png   \n",
            "  inflating: __MACOSX/lines_w25/._12618_a.png  \n",
            "  inflating: lines_w25/6702_a.png    \n",
            "  inflating: __MACOSX/lines_w25/._6702_a.png  \n",
            "  inflating: lines_w25/30701_a.png   \n",
            "  inflating: __MACOSX/lines_w25/._30701_a.png  \n",
            "  inflating: lines_w25/3164_a.png    \n",
            "  inflating: __MACOSX/lines_w25/._3164_a.png  \n",
            "  inflating: lines_w25/22922_a.png   \n",
            "  inflating: __MACOSX/lines_w25/._22922_a.png  \n",
            "  inflating: lines_w25/10484_b.gt.txt  \n",
            "  inflating: __MACOSX/lines_w25/._10484_b.gt.txt  \n",
            "  inflating: lines_w25/29361_a.gt.txt  \n",
            "  inflating: __MACOSX/lines_w25/._29361_a.gt.txt  \n",
            "  inflating: lines_w25/13883_a.gt.txt  \n",
            "  inflating: __MACOSX/lines_w25/._13883_a.gt.txt  \n",
            "  inflating: lines_w25/41619_a.png   \n",
            "  inflating: __MACOSX/lines_w25/._41619_a.png  \n",
            "  inflating: lines_w25/17545_b.gt.txt  \n",
            "  inflating: __MACOSX/lines_w25/._17545_b.gt.txt  \n",
            "  inflating: lines_w25/3472_b.gt.txt  \n",
            "  inflating: __MACOSX/lines_w25/._3472_b.gt.txt  \n",
            "  inflating: lines_w25/14942_a.gt.txt  \n",
            "  inflating: __MACOSX/lines_w25/._14942_a.gt.txt  \n",
            "  inflating: lines_w25/1713_b.gt.txt  \n",
            "  inflating: __MACOSX/lines_w25/._1713_b.gt.txt  \n",
            "  inflating: lines_w25/46309_a.png   \n",
            "  inflating: __MACOSX/lines_w25/._46309_a.png  \n",
            "  inflating: lines_w25/15624_b.gt.txt  \n",
            "  inflating: __MACOSX/lines_w25/._15624_b.gt.txt  \n",
            "  inflating: lines_w25/24189_b.gt.txt  \n",
            "  inflating: __MACOSX/lines_w25/._24189_b.gt.txt  \n",
            "  inflating: lines_w25/35924_a.png   \n",
            "  inflating: __MACOSX/lines_w25/._35924_a.png  \n",
            "  inflating: lines_w25/3927_a.png    \n",
            "  inflating: __MACOSX/lines_w25/._3927_a.png  \n",
            "  inflating: lines_w25/18297_a.png   \n",
            "  inflating: __MACOSX/lines_w25/._18297_a.png  \n",
            "  inflating: lines_w25/32477_a.png   \n",
            "  inflating: __MACOSX/lines_w25/._32477_a.png  \n",
            "  inflating: lines_w25/1212_a.png    \n",
            "  inflating: __MACOSX/lines_w25/._1212_a.png  \n",
            "  inflating: lines_w25/15308_a.png   \n",
            "  inflating: __MACOSX/lines_w25/._15308_a.png  \n",
            "  inflating: lines_w25/37211_a.png   \n",
            "  inflating: __MACOSX/lines_w25/._37211_a.png  \n",
            "  inflating: lines_w25/4474_a.png    \n",
            "  inflating: __MACOSX/lines_w25/._4474_a.png  \n",
            "  inflating: lines_w25/22161_a.png   \n",
            "  inflating: __MACOSX/lines_w25/._22161_a.png  \n",
            "  inflating: lines_w25/27707_a.png   \n",
            "  inflating: __MACOSX/lines_w25/._27707_a.png  \n",
            "  inflating: lines_w25/23048_b.gt.txt  \n",
            "  inflating: __MACOSX/lines_w25/._23048_b.gt.txt  \n",
            "  inflating: lines_w25/33886_b.png   \n",
            "  inflating: __MACOSX/lines_w25/._33886_b.png  \n",
            "  inflating: lines_w25/5885_b.png    \n",
            "  inflating: __MACOSX/lines_w25/._5885_b.png  \n",
            "  inflating: lines_w25/39654_a.gt.txt  \n",
            "  inflating: __MACOSX/lines_w25/._39654_a.gt.txt  \n",
            "  inflating: lines_w25/13413_a.gt.txt  \n",
            "  inflating: __MACOSX/lines_w25/._13413_a.gt.txt  \n",
            "  inflating: lines_w25/4923_b.gt.txt  \n",
            "  inflating: __MACOSX/lines_w25/._4923_b.gt.txt  \n",
            "  inflating: lines_w25/10814_b.gt.txt  \n",
            "  inflating: __MACOSX/lines_w25/._10814_b.gt.txt  \n",
            "  inflating: lines_w25/48552_b.png   \n",
            "  inflating: __MACOSX/lines_w25/._48552_b.png  \n",
            "  inflating: lines_w25/7524_a.gt.txt  \n",
            "  inflating: __MACOSX/lines_w25/._7524_a.gt.txt  \n",
            "  inflating: lines_w25/18646_a.png   \n",
            "  inflating: __MACOSX/lines_w25/._18646_a.png  \n",
            "  inflating: lines_w25/39432_a.gt.txt  \n",
            "  inflating: __MACOSX/lines_w25/._39432_a.gt.txt  \n",
            "  inflating: lines_w25/48904_a.gt.txt  \n",
            "  inflating: __MACOSX/lines_w25/._48904_a.gt.txt  \n",
            "  inflating: lines_w25/25019_a.gt.txt  \n",
            "  inflating: __MACOSX/lines_w25/._25019_a.gt.txt  \n",
            "  inflating: lines_w25/7742_a.gt.txt  \n",
            "  inflating: __MACOSX/lines_w25/._7742_a.gt.txt  \n",
            "  inflating: lines_w25/13675_a.gt.txt  \n",
            "  inflating: __MACOSX/lines_w25/._13675_a.gt.txt  \n",
            "  inflating: lines_w25/2972_a.gt.txt  \n",
            "  inflating: __MACOSX/lines_w25/._2972_a.gt.txt  \n",
            "  inflating: lines_w25/15442_b.gt.txt  \n",
            "  inflating: __MACOSX/lines_w25/._15442_b.gt.txt  \n",
            "  inflating: lines_w25/1575_b.gt.txt  \n",
            "  inflating: __MACOSX/lines_w25/._1575_b.gt.txt  \n",
            "  inflating: lines_w25/48183_b.png   \n",
            "  inflating: __MACOSX/lines_w25/._48183_b.png  \n",
            "  inflating: lines_w25/16845_a.gt.txt  \n",
            "  inflating: __MACOSX/lines_w25/._16845_a.gt.txt  \n",
            "  inflating: lines_w25/12583_b.gt.txt  \n",
            "  inflating: __MACOSX/lines_w25/._12583_b.gt.txt  \n",
            "  inflating: lines_w25/23941_b.png   \n",
            "  inflating: __MACOSX/lines_w25/._23941_b.png  \n",
            "  inflating: lines_w25/2107_b.png    \n",
            "  inflating: __MACOSX/lines_w25/._2107_b.png  \n",
            "  inflating: lines_w25/31762_b.png   \n",
            "  inflating: __MACOSX/lines_w25/._31762_b.png  \n",
            "  inflating: lines_w25/7761_b.png    \n",
            "  inflating: __MACOSX/lines_w25/._7761_b.png  \n",
            "  inflating: lines_w25/34104_b.png   \n",
            "  inflating: __MACOSX/lines_w25/._34104_b.png  \n",
            "  inflating: lines_w25/21274_b.png   \n",
            "  inflating: __MACOSX/lines_w25/._21274_b.png  \n",
            "  inflating: lines_w25/11984_a.gt.txt  \n",
            "  inflating: __MACOSX/lines_w25/._11984_a.gt.txt  \n",
            "  inflating: lines_w25/24412_b.png   \n",
            "  inflating: __MACOSX/lines_w25/._24412_b.png  \n",
            "  inflating: lines_w25/29107_a.gt.txt  \n",
            "  inflating: __MACOSX/lines_w25/._29107_a.gt.txt  \n",
            "  inflating: lines_w25/26764_b.png   \n",
            "  inflating: __MACOSX/lines_w25/._26764_b.png  \n",
            "  inflating: lines_w25/23102_b.png   \n",
            "  inflating: __MACOSX/lines_w25/._23102_b.png  \n",
            "  inflating: lines_w25/5417_b.png    \n",
            "  inflating: __MACOSX/lines_w25/._5417_b.png  \n",
            "  inflating: lines_w25/36272_b.png   \n",
            "  inflating: __MACOSX/lines_w25/._36272_b.png  \n",
            "  inflating: lines_w25/33414_b.png   \n",
            "  inflating: __MACOSX/lines_w25/._33414_b.png  \n",
            "  inflating: lines_w25/8588_b.png    \n",
            "  inflating: __MACOSX/lines_w25/._8588_b.png  \n",
            "  inflating: lines_w25/2944_b.png    \n",
            "  inflating: __MACOSX/lines_w25/._2944_b.png  \n",
            "  inflating: lines_w25/34947_b.png   \n",
            "  inflating: __MACOSX/lines_w25/._34947_b.png  \n",
            "  inflating: lines_w25/3614_b.gt.txt  \n",
            "  inflating: __MACOSX/lines_w25/._3614_b.gt.txt  \n",
            "  inflating: lines_w25/48594_a.gt.txt  \n",
            "  inflating: __MACOSX/lines_w25/._48594_a.gt.txt  \n",
            "  inflating: lines_w25/17723_b.gt.txt  \n",
            "  inflating: __MACOSX/lines_w25/._17723_b.gt.txt  \n",
            "  inflating: lines_w25/11514_a.gt.txt  \n",
            "  inflating: __MACOSX/lines_w25/._11514_a.gt.txt  \n",
            "  inflating: lines_w25/6824_b.gt.txt  \n",
            "  inflating: __MACOSX/lines_w25/._6824_b.gt.txt  \n",
            "  inflating: lines_w25/12913_b.gt.txt  \n",
            "  inflating: __MACOSX/lines_w25/._12913_b.gt.txt  \n",
            "  inflating: lines_w25/851_a.gt.txt  \n",
            "  inflating: __MACOSX/lines_w25/._851_a.gt.txt  \n",
            "  inflating: lines_w25/5423_a.gt.txt  \n",
            "  inflating: __MACOSX/lines_w25/._5423_a.gt.txt  \n",
            "  inflating: lines_w25/661_b.png     \n",
            "  inflating: __MACOSX/lines_w25/._661_b.png  \n",
            "  inflating: lines_w25/9979_a.png    \n",
            "  inflating: __MACOSX/lines_w25/._9979_a.png  \n",
            "  inflating: lines_w25/38429_a.png   \n",
            "  inflating: __MACOSX/lines_w25/._38429_a.png  \n",
            "  inflating: lines_w25/27378_a.gt.txt  \n",
            "  inflating: __MACOSX/lines_w25/._27378_a.gt.txt  \n",
            "  inflating: lines_w25/22967_a.png   \n",
            "  inflating: __MACOSX/lines_w25/._22967_a.png  \n",
            "  inflating: lines_w25/40872_a.gt.txt  \n",
            "  inflating: __MACOSX/lines_w25/._40872_a.gt.txt  \n",
            "  inflating: lines_w25/25127_b.gt.txt  \n",
            "  inflating: __MACOSX/lines_w25/._25127_b.gt.txt  \n",
            "  inflating: lines_w25/31544_a.gt.txt  \n",
            "  inflating: __MACOSX/lines_w25/._31544_a.gt.txt  \n",
            "  inflating: lines_w25/20252_a.png   \n",
            "  inflating: __MACOSX/lines_w25/._20252_a.png  \n",
            "  inflating: lines_w25/25434_a.png   \n",
            "  inflating: __MACOSX/lines_w25/._25434_a.png  \n",
            "  inflating: lines_w25/3121_a.png    \n",
            "  inflating: __MACOSX/lines_w25/._3121_a.png  \n",
            "  inflating: lines_w25/30744_a.png   \n",
            "  inflating: __MACOSX/lines_w25/._30744_a.png  \n",
            "  inflating: lines_w25/6747_a.png    \n",
            "  inflating: __MACOSX/lines_w25/._6747_a.png  \n",
            "  inflating: lines_w25/35122_a.png   \n",
            "  inflating: __MACOSX/lines_w25/._35122_a.png  \n",
            "  inflating: lines_w25/43475_b.gt.txt  \n",
            "  inflating: __MACOSX/lines_w25/._43475_b.gt.txt  \n",
            "  inflating: lines_w25/32943_b.gt.txt  \n",
            "  inflating: __MACOSX/lines_w25/._32943_b.gt.txt  \n",
            "  inflating: lines_w25/36485_a.gt.txt  \n",
            "  inflating: __MACOSX/lines_w25/._36485_a.gt.txt  \n",
            "  inflating: lines_w25/35882_b.gt.txt  \n",
            "  inflating: __MACOSX/lines_w25/._35882_b.gt.txt  \n",
            "  inflating: lines_w25/42783_a.gt.txt  \n",
            "  inflating: __MACOSX/lines_w25/._42783_a.gt.txt  \n",
            "  inflating: lines_w25/9403_b.gt.txt  \n",
            "  inflating: __MACOSX/lines_w25/._9403_b.gt.txt  \n",
            "  inflating: lines_w25/42198_b.png   \n",
            "  inflating: __MACOSX/lines_w25/._42198_b.png  \n",
            "  inflating: lines_w25/45642_a.gt.txt  \n",
            "  inflating: __MACOSX/lines_w25/._45642_a.gt.txt  \n",
            "  inflating: lines_w25/19660_b.png   \n",
            "  inflating: __MACOSX/lines_w25/._19660_b.png  \n",
            "  inflating: lines_w25/23310_a.gt.txt  \n",
            "  inflating: __MACOSX/lines_w25/._23310_a.gt.txt  \n",
            "  inflating: lines_w25/37773_b.gt.txt  \n",
            "  inflating: __MACOSX/lines_w25/._37773_b.gt.txt  \n",
            "  inflating: lines_w25/23596_b.png   \n",
            "  inflating: __MACOSX/lines_w25/._23596_b.png  \n",
            "  inflating: lines_w25/11199_b.png   \n",
            "  inflating: __MACOSX/lines_w25/._11199_b.png  \n",
            "  inflating: lines_w25/5083_b.png    \n",
            "  inflating: __MACOSX/lines_w25/._5083_b.png  \n",
            "  inflating: lines_w25/33080_b.png   \n",
            "  inflating: __MACOSX/lines_w25/._33080_b.png  \n",
            "  inflating: lines_w25/21071_a.gt.txt  \n",
            "  inflating: __MACOSX/lines_w25/._21071_a.gt.txt  \n",
            "  inflating: lines_w25/35412_b.gt.txt  \n",
            "  inflating: __MACOSX/lines_w25/._35412_b.gt.txt  \n",
            "  inflating: lines_w25/44924_b.gt.txt  \n",
            "  inflating: __MACOSX/lines_w25/._44924_b.gt.txt  \n",
            "  inflating: lines_w25/16489_b.png   \n",
            "  inflating: __MACOSX/lines_w25/._16489_b.png  \n",
            "  inflating: lines_w25/2593_b.png    \n",
            "  inflating: __MACOSX/lines_w25/._2593_b.png  \n",
            "  inflating: lines_w25/36815_a.gt.txt  \n",
            "  inflating: __MACOSX/lines_w25/._36815_a.gt.txt  \n",
            "  inflating: lines_w25/34590_b.png   \n",
            "  inflating: __MACOSX/lines_w25/._34590_b.png  \n",
            "  inflating: lines_w25/29039_b.gt.txt  \n",
            "  inflating: __MACOSX/lines_w25/._29039_b.gt.txt  \n",
            "  inflating: lines_w25/24086_b.png   \n",
            "  inflating: __MACOSX/lines_w25/._24086_b.png  \n",
            "  inflating: lines_w25/18794_b.gt.txt  \n",
            "  inflating: __MACOSX/lines_w25/._18794_b.gt.txt  \n",
            "  inflating: lines_w25/29119_b.png   \n",
            "  inflating: __MACOSX/lines_w25/._29119_b.png  \n",
            "  inflating: lines_w25/47523_a.gt.txt  \n",
            "  inflating: __MACOSX/lines_w25/._47523_a.gt.txt  \n",
            "  inflating: lines_w25/45488_b.png   \n",
            "  inflating: __MACOSX/lines_w25/._45488_b.png  \n",
            "  inflating: lines_w25/48517_b.png   \n",
            "  inflating: __MACOSX/lines_w25/._48517_b.png  \n",
            "  inflating: lines_w25/19462_a.gt.txt  \n",
            "  inflating: __MACOSX/lines_w25/._19462_a.gt.txt  \n",
            "  inflating: lines_w25/44879_a.png   \n",
            "  inflating: __MACOSX/lines_w25/._44879_a.png  \n",
            "  inflating: lines_w25/20387_b.gt.txt  \n",
            "  inflating: __MACOSX/lines_w25/._20387_b.gt.txt  \n",
            "  inflating: lines_w25/4431_a.png    \n",
            "  inflating: __MACOSX/lines_w25/._4431_a.png  \n",
            "  inflating: lines_w25/37254_a.png   \n",
            "  inflating: __MACOSX/lines_w25/._37254_a.png  \n",
            "  inflating: lines_w25/1257_a.png    \n",
            "  inflating: __MACOSX/lines_w25/._1257_a.png  \n",
            "  inflating: lines_w25/32432_a.png   \n",
            "  inflating: __MACOSX/lines_w25/._32432_a.png  \n",
            "  inflating: lines_w25/27742_a.png   \n",
            "  inflating: __MACOSX/lines_w25/._27742_a.png  \n",
            "  inflating: lines_w25/9893_b.gt.txt  \n",
            "  inflating: __MACOSX/lines_w25/._9893_b.gt.txt  \n",
            "  inflating: lines_w25/22124_a.png   \n",
            "  inflating: __MACOSX/lines_w25/._22124_a.png  \n",
            "  inflating: lines_w25/17878_a.png   \n",
            "  inflating: __MACOSX/lines_w25/._17878_a.png  \n",
            "  inflating: lines_w25/3962_a.png    \n",
            "  inflating: __MACOSX/lines_w25/._3962_a.png  \n",
            "  inflating: lines_w25/35961_a.png   \n",
            "  inflating: __MACOSX/lines_w25/._35961_a.png  \n",
            "  inflating: lines_w25/41714_b.gt.txt  \n",
            "  inflating: __MACOSX/lines_w25/._41714_b.gt.txt  \n",
            "  inflating: lines_w25/27246_b.gt.txt  \n",
            "  inflating: __MACOSX/lines_w25/._27246_b.gt.txt  \n",
            "  inflating: lines_w25/33625_a.gt.txt  \n",
            "  inflating: __MACOSX/lines_w25/._33625_a.gt.txt  \n",
            "  inflating: lines_w25/34582_a.gt.txt  \n",
            "  inflating: __MACOSX/lines_w25/._34582_a.gt.txt  \n",
            "  inflating: lines_w25/19604_a.gt.txt  \n",
            "  inflating: __MACOSX/lines_w25/._19604_a.gt.txt  \n",
            "  inflating: lines_w25/45059_b.png   \n",
            "  inflating: __MACOSX/lines_w25/._45059_b.png  \n",
            "  inflating: lines_w25/37985_b.gt.txt  \n",
            "  inflating: __MACOSX/lines_w25/._37985_b.gt.txt  \n",
            "  inflating: lines_w25/42975_a.gt.txt  \n",
            "  inflating: __MACOSX/lines_w25/._42975_a.gt.txt  \n",
            "  inflating: lines_w25/27020_b.gt.txt  \n",
            "  inflating: __MACOSX/lines_w25/._27020_b.gt.txt  \n",
            "  inflating: lines_w25/33443_a.gt.txt  \n",
            "  inflating: __MACOSX/lines_w25/._33443_a.gt.txt  \n",
            "  inflating: lines_w25/34141_b.png   \n",
            "  inflating: __MACOSX/lines_w25/._34141_b.png  \n",
            "  inflating: lines_w25/7724_b.png    \n",
            "  inflating: __MACOSX/lines_w25/._7724_b.png  \n",
            "  inflating: lines_w25/31727_b.png   \n",
            "  inflating: __MACOSX/lines_w25/._31727_b.png  \n",
            "  inflating: lines_w25/16058_b.png   \n",
            "  inflating: __MACOSX/lines_w25/._16058_b.png  \n",
            "  inflating: lines_w25/2142_b.png    \n",
            "  inflating: __MACOSX/lines_w25/._2142_b.png  \n",
            "  inflating: lines_w25/24457_b.png   \n",
            "  inflating: __MACOSX/lines_w25/._24457_b.png  \n",
            "  inflating: lines_w25/21231_b.png   \n",
            "  inflating: __MACOSX/lines_w25/._21231_b.png  \n",
            "  inflating: lines_w25/41572_b.gt.txt  \n",
            "  inflating: __MACOSX/lines_w25/._41572_b.gt.txt  \n",
            "  inflating: lines_w25/30844_b.gt.txt  \n",
            "  inflating: __MACOSX/lines_w25/._30844_b.gt.txt  \n",
            "  inflating: lines_w25/23904_b.png   \n",
            "  inflating: __MACOSX/lines_w25/._23904_b.png  \n",
            "  inflating: lines_w25/1686_a.png    \n",
            "  inflating: __MACOSX/lines_w25/._1686_a.png  \n",
            "  inflating: lines_w25/37685_a.png   \n",
            "  inflating: __MACOSX/lines_w25/._37685_a.png  \n",
            "  inflating: lines_w25/28939_a.png   \n",
            "  inflating: __MACOSX/lines_w25/._28939_a.png  \n",
            "  inflating: lines_w25/47745_a.gt.txt  \n",
            "  inflating: __MACOSX/lines_w25/._47745_a.gt.txt  \n",
            "  inflating: lines_w25/27393_a.png   \n",
            "  inflating: __MACOSX/lines_w25/._27393_a.png  \n",
            "  inflating: lines_w25/18603_a.png   \n",
            "  inflating: __MACOSX/lines_w25/._18603_a.png  \n",
            "  inflating: lines_w25/21217_a.gt.txt  \n",
            "  inflating: __MACOSX/lines_w25/._21217_a.gt.txt  \n",
            "  inflating: lines_w25/35674_b.gt.txt  \n",
            "  inflating: __MACOSX/lines_w25/._35674_b.gt.txt  \n",
            "  inflating: lines_w25/40684_a.gt.txt  \n",
            "  inflating: __MACOSX/lines_w25/._40684_a.gt.txt  \n",
            "  inflating: lines_w25/8903_a.gt.txt  \n",
            "  inflating: __MACOSX/lines_w25/._8903_a.gt.txt  \n",
            "  inflating: lines_w25/9665_b.gt.txt  \n",
            "  inflating: __MACOSX/lines_w25/._9665_b.gt.txt  \n",
            "  inflating: lines_w25/23176_a.gt.txt  \n",
            "  inflating: __MACOSX/lines_w25/._23176_a.gt.txt  \n",
            "  inflating: lines_w25/37515_b.gt.txt  \n",
            "  inflating: __MACOSX/lines_w25/._37515_b.gt.txt  \n",
            "  inflating: lines_w25/799_b.gt.txt  \n",
            "  inflating: __MACOSX/lines_w25/._799_b.gt.txt  \n",
            "  inflating: lines_w25/624_b.png     \n",
            "  inflating: __MACOSX/lines_w25/._624_b.png  \n",
            "  inflating: lines_w25/20683_a.png   \n",
            "  inflating: __MACOSX/lines_w25/._20683_a.png  \n",
            "  inflating: lines_w25/6396_a.png    \n",
            "  inflating: __MACOSX/lines_w25/._6396_a.png  \n",
            "  inflating: lines_w25/46823_b.gt.txt  \n",
            "  inflating: __MACOSX/lines_w25/._46823_b.gt.txt  \n",
            "  inflating: lines_w25/30395_a.png   \n",
            "  inflating: __MACOSX/lines_w25/._30395_a.png  \n",
            "  inflating: lines_w25/34912_a.gt.txt  \n",
            "  inflating: __MACOSX/lines_w25/._34912_a.gt.txt  \n",
            "  inflating: lines_w25/45424_a.gt.txt  \n",
            "  inflating: __MACOSX/lines_w25/._45424_a.gt.txt  \n",
            "  inflating: lines_w25/43613_b.gt.txt  \n",
            "  inflating: __MACOSX/lines_w25/._43613_b.gt.txt  \n",
            "  inflating: lines_w25/25341_b.gt.txt  \n",
            "  inflating: __MACOSX/lines_w25/._25341_b.gt.txt  \n",
            "  inflating: lines_w25/31722_a.gt.txt  \n",
            "  inflating: __MACOSX/lines_w25/._31722_a.gt.txt  \n",
            "  inflating: lines_w25/34902_b.png   \n",
            "  inflating: __MACOSX/lines_w25/._34902_b.png  \n",
            "  inflating: lines_w25/8593_a.gt.txt  \n",
            "  inflating: __MACOSX/lines_w25/._8593_a.gt.txt  \n",
            "  inflating: lines_w25/2901_b.png    \n",
            "  inflating: __MACOSX/lines_w25/._2901_b.png  \n",
            "  inflating: lines_w25/23147_b.png   \n",
            "  inflating: __MACOSX/lines_w25/._23147_b.png  \n",
            "  inflating: lines_w25/26721_b.png   \n",
            "  inflating: __MACOSX/lines_w25/._26721_b.png  \n",
            "  inflating: lines_w25/33451_b.png   \n",
            "  inflating: __MACOSX/lines_w25/._33451_b.png  \n",
            "  inflating: lines_w25/36237_b.png   \n",
            "  inflating: __MACOSX/lines_w25/._36237_b.png  \n",
            "  inflating: lines_w25/11548_b.png   \n",
            "  inflating: __MACOSX/lines_w25/._11548_b.png  \n",
            "  inflating: lines_w25/5452_b.png    \n",
            "  inflating: __MACOSX/lines_w25/._5452_b.png  \n",
            "  inflating: lines_w25/22280_b.gt.txt  \n",
            "  inflating: __MACOSX/lines_w25/._22280_b.gt.txt  \n",
            "  inflating: lines_w25/18962_b.gt.txt  \n",
            "  inflating: __MACOSX/lines_w25/._18962_b.gt.txt  \n",
            "  inflating: lines_w25/48985_b.png   \n",
            "  inflating: __MACOSX/lines_w25/._48985_b.png  \n",
            "  inflating: lines_w25/42549_b.png   \n",
            "  inflating: __MACOSX/lines_w25/._42549_b.png  \n",
            "  inflating: lines_w25/15443_b.gt.txt  \n",
            "  inflating: __MACOSX/lines_w25/._15443_b.gt.txt  \n",
            "  inflating: lines_w25/2973_a.gt.txt  \n",
            "  inflating: __MACOSX/lines_w25/._2973_a.gt.txt  \n",
            "  inflating: lines_w25/16844_a.gt.txt  \n",
            "  inflating: __MACOSX/lines_w25/._16844_a.gt.txt  \n",
            "  inflating: lines_w25/1574_b.gt.txt  \n",
            "  inflating: __MACOSX/lines_w25/._1574_b.gt.txt  \n",
            "  inflating: lines_w25/49183_b.png   \n",
            "  inflating: __MACOSX/lines_w25/._49183_b.png  \n",
            "  inflating: lines_w25/12582_b.gt.txt  \n",
            "  inflating: __MACOSX/lines_w25/._12582_b.gt.txt  \n",
            "  inflating: lines_w25/35104_b.png   \n",
            "  inflating: __MACOSX/lines_w25/._35104_b.png  \n",
            "  inflating: lines_w25/6761_b.png    \n",
            "  inflating: __MACOSX/lines_w25/._6761_b.png  \n",
            "  inflating: lines_w25/30762_b.png   \n",
            "  inflating: __MACOSX/lines_w25/._30762_b.png  \n",
            "  inflating: lines_w25/3107_b.png    \n",
            "  inflating: __MACOSX/lines_w25/._3107_b.png  \n",
            "  inflating: lines_w25/25412_b.png   \n",
            "  inflating: __MACOSX/lines_w25/._25412_b.png  \n",
            "  inflating: lines_w25/11985_a.gt.txt  \n",
            "  inflating: __MACOSX/lines_w25/._11985_a.gt.txt  \n",
            "  inflating: lines_w25/20274_b.png   \n",
            "  inflating: __MACOSX/lines_w25/._20274_b.png  \n",
            "  inflating: lines_w25/22941_b.png   \n",
            "  inflating: __MACOSX/lines_w25/._22941_b.png  \n",
            "  inflating: lines_w25/48905_a.gt.txt  \n",
            "  inflating: __MACOSX/lines_w25/._48905_a.gt.txt  \n",
            "  inflating: lines_w25/19646_a.png   \n",
            "  inflating: __MACOSX/lines_w25/._19646_a.png  \n",
            "  inflating: lines_w25/39433_a.gt.txt  \n",
            "  inflating: __MACOSX/lines_w25/._39433_a.gt.txt  \n",
            "  inflating: lines_w25/25018_a.gt.txt  \n",
            "  inflating: __MACOSX/lines_w25/._25018_a.gt.txt  \n",
            "  inflating: lines_w25/7743_a.gt.txt  \n",
            "  inflating: __MACOSX/lines_w25/._7743_a.gt.txt  \n",
            "  inflating: lines_w25/13674_a.gt.txt  \n",
            "  inflating: __MACOSX/lines_w25/._13674_a.gt.txt  \n",
            "  inflating: lines_w25/6825_b.gt.txt  \n",
            "  inflating: __MACOSX/lines_w25/._6825_b.gt.txt  \n",
            "  inflating: lines_w25/48531_a.png   \n",
            "  inflating: __MACOSX/lines_w25/._48531_a.png  \n",
            "  inflating: lines_w25/11515_a.gt.txt  \n",
            "  inflating: __MACOSX/lines_w25/._11515_a.gt.txt  \n",
            "  inflating: lines_w25/850_a.gt.txt  \n",
            "  inflating: __MACOSX/lines_w25/._850_a.gt.txt  \n",
            "  inflating: lines_w25/5422_a.gt.txt  \n",
            "  inflating: __MACOSX/lines_w25/._5422_a.gt.txt  \n",
            "  inflating: lines_w25/12912_b.gt.txt  \n",
            "  inflating: __MACOSX/lines_w25/._12912_b.gt.txt  \n",
            "  inflating: lines_w25/27379_a.gt.txt  \n",
            "  inflating: __MACOSX/lines_w25/._27379_a.gt.txt  \n",
            "  inflating: lines_w25/39429_a.png   \n",
            "  inflating: __MACOSX/lines_w25/._39429_a.png  \n",
            "  inflating: lines_w25/8979_a.png    \n",
            "  inflating: __MACOSX/lines_w25/._8979_a.png  \n",
            "  inflating: lines_w25/29106_a.gt.txt  \n",
            "  inflating: __MACOSX/lines_w25/._29106_a.gt.txt  \n",
            "  inflating: lines_w25/9588_b.png    \n",
            "  inflating: __MACOSX/lines_w25/._9588_b.png  \n",
            "  inflating: lines_w25/35947_b.png   \n",
            "  inflating: __MACOSX/lines_w25/._35947_b.png  \n",
            "  inflating: lines_w25/3944_b.png    \n",
            "  inflating: __MACOSX/lines_w25/._3944_b.png  \n",
            "  inflating: lines_w25/22102_b.png   \n",
            "  inflating: __MACOSX/lines_w25/._22102_b.png  \n",
            "  inflating: lines_w25/27764_b.png   \n",
            "  inflating: __MACOSX/lines_w25/._27764_b.png  \n",
            "  inflating: lines_w25/32414_b.png   \n",
            "  inflating: __MACOSX/lines_w25/._32414_b.png  \n",
            "  inflating: lines_w25/1271_b.png    \n",
            "  inflating: __MACOSX/lines_w25/._1271_b.png  \n",
            "  inflating: lines_w25/37272_b.png   \n",
            "  inflating: __MACOSX/lines_w25/._37272_b.png  \n",
            "  inflating: lines_w25/4417_b.png    \n",
            "  inflating: __MACOSX/lines_w25/._4417_b.png  \n",
            "  inflating: lines_w25/3615_b.gt.txt  \n",
            "  inflating: __MACOSX/lines_w25/._3615_b.gt.txt  \n",
            "  inflating: lines_w25/48595_a.gt.txt  \n",
            "  inflating: __MACOSX/lines_w25/._48595_a.gt.txt  \n",
            "  inflating: lines_w25/17722_b.gt.txt  \n",
            "  inflating: __MACOSX/lines_w25/._17722_b.gt.txt  \n",
            "  inflating: lines_w25/23922_a.png   \n",
            "  inflating: __MACOSX/lines_w25/._23922_a.png  \n",
            "  inflating: lines_w25/10485_b.gt.txt  \n",
            "  inflating: __MACOSX/lines_w25/._10485_b.gt.txt  \n",
            "  inflating: lines_w25/21217_a.png   \n",
            "  inflating: __MACOSX/lines_w25/._21217_a.png  \n",
            "  inflating: lines_w25/24471_a.png   \n",
            "  inflating: __MACOSX/lines_w25/._24471_a.png  \n",
            "  inflating: lines_w25/21328_b.gt.txt  \n",
            "  inflating: __MACOSX/lines_w25/._21328_b.gt.txt  \n",
            "  inflating: lines_w25/2164_a.png    \n",
            "  inflating: __MACOSX/lines_w25/._2164_a.png  \n",
            "  inflating: lines_w25/31701_a.png   \n",
            "  inflating: __MACOSX/lines_w25/._31701_a.png  \n",
            "  inflating: lines_w25/13618_a.png   \n",
            "  inflating: __MACOSX/lines_w25/._13618_a.png  \n",
            "  inflating: lines_w25/7702_a.png    \n",
            "  inflating: __MACOSX/lines_w25/._7702_a.png  \n",
            "  inflating: lines_w25/34167_a.png   \n",
            "  inflating: __MACOSX/lines_w25/._34167_a.png  \n",
            "  inflating: lines_w25/13882_a.gt.txt  \n",
            "  inflating: __MACOSX/lines_w25/._13882_a.gt.txt  \n",
            "  inflating: lines_w25/29360_a.gt.txt  \n",
            "  inflating: __MACOSX/lines_w25/._29360_a.gt.txt  \n",
            "  inflating: lines_w25/17544_b.gt.txt  \n",
            "  inflating: __MACOSX/lines_w25/._17544_b.gt.txt  \n",
            "  inflating: lines_w25/40619_a.png   \n",
            "  inflating: __MACOSX/lines_w25/._40619_a.png  \n",
            "  inflating: lines_w25/14943_a.gt.txt  \n",
            "  inflating: __MACOSX/lines_w25/._14943_a.gt.txt  \n",
            "  inflating: lines_w25/3473_b.gt.txt  \n",
            "  inflating: __MACOSX/lines_w25/._3473_b.gt.txt  \n",
            "  inflating: lines_w25/28096_b.gt.txt  \n",
            "  inflating: __MACOSX/lines_w25/._28096_b.gt.txt  \n",
            "  inflating: lines_w25/5644_a.gt.txt  \n",
            "  inflating: __MACOSX/lines_w25/._5644_a.gt.txt  \n",
            "  inflating: lines_w25/11773_a.gt.txt  \n",
            "  inflating: __MACOSX/lines_w25/._11773_a.gt.txt  \n",
            "  inflating: lines_w25/2785_a.gt.txt  \n",
            "  inflating: __MACOSX/lines_w25/._2785_a.gt.txt  \n",
            "  inflating: lines_w25/49405_b.gt.txt  \n",
            "  inflating: __MACOSX/lines_w25/._49405_b.gt.txt  \n",
            "  inflating: lines_w25/18625_b.png   \n",
            "  inflating: __MACOSX/lines_w25/._18625_b.png  \n",
            "  inflating: lines_w25/25880_b.png   \n",
            "  inflating: __MACOSX/lines_w25/._25880_b.png  \n",
            "  inflating: lines_w25/9159_b.png    \n",
            "  inflating: __MACOSX/lines_w25/._9159_b.png  \n",
            "  inflating: lines_w25/38933_b.gt.txt  \n",
            "  inflating: __MACOSX/lines_w25/._38933_b.gt.txt  \n",
            "  inflating: lines_w25/39655_a.gt.txt  \n",
            "  inflating: __MACOSX/lines_w25/._39655_a.gt.txt  \n",
            "  inflating: lines_w25/602_a.png     \n",
            "  inflating: __MACOSX/lines_w25/._602_a.png  \n",
            "  inflating: lines_w25/4885_b.png    \n",
            "  inflating: __MACOSX/lines_w25/._4885_b.png  \n",
            "  inflating: lines_w25/32886_b.png   \n",
            "  inflating: __MACOSX/lines_w25/._32886_b.png  \n",
            "  inflating: lines_w25/4922_b.gt.txt  \n",
            "  inflating: __MACOSX/lines_w25/._4922_b.gt.txt  \n",
            "  inflating: lines_w25/13412_a.gt.txt  \n",
            "  inflating: __MACOSX/lines_w25/._13412_a.gt.txt  \n",
            "  inflating: lines_w25/7525_a.gt.txt  \n",
            "  inflating: __MACOSX/lines_w25/._7525_a.gt.txt  \n",
            "  inflating: lines_w25/10815_b.gt.txt  \n",
            "  inflating: __MACOSX/lines_w25/._10815_b.gt.txt  \n",
            "  inflating: lines_w25/47309_a.png   \n",
            "  inflating: __MACOSX/lines_w25/._47309_a.png  \n",
            "  inflating: lines_w25/1712_b.gt.txt  \n",
            "  inflating: __MACOSX/lines_w25/._1712_b.gt.txt  \n",
            "  inflating: lines_w25/24188_b.gt.txt  \n",
            "  inflating: __MACOSX/lines_w25/._24188_b.gt.txt  \n",
            "  inflating: lines_w25/15625_b.gt.txt  \n",
            "  inflating: __MACOSX/lines_w25/._15625_b.gt.txt  \n",
            "  inflating: lines_w25/5474_a.png    \n",
            "  inflating: __MACOSX/lines_w25/._5474_a.png  \n",
            "  inflating: lines_w25/36211_a.png   \n",
            "  inflating: __MACOSX/lines_w25/._36211_a.png  \n",
            "  inflating: lines_w25/14308_a.png   \n",
            "  inflating: __MACOSX/lines_w25/._14308_a.png  \n",
            "  inflating: lines_w25/33477_a.png   \n",
            "  inflating: __MACOSX/lines_w25/._33477_a.png  \n",
            "  inflating: lines_w25/26707_a.png   \n",
            "  inflating: __MACOSX/lines_w25/._26707_a.png  \n",
            "  inflating: lines_w25/23161_a.png   \n",
            "  inflating: __MACOSX/lines_w25/._23161_a.png  \n",
            "  inflating: lines_w25/2927_a.png    \n",
            "  inflating: __MACOSX/lines_w25/._2927_a.png  \n",
            "  inflating: lines_w25/34924_a.png   \n",
            "  inflating: __MACOSX/lines_w25/._34924_a.png  \n",
            "  inflating: lines_w25/19297_a.png   \n",
            "  inflating: __MACOSX/lines_w25/._19297_a.png  \n",
            "  inflating: lines_w25/23049_b.gt.txt  \n",
            "  inflating: __MACOSX/lines_w25/._23049_b.gt.txt  \n",
            "  inflating: lines_w25/19603_a.png   \n",
            "  inflating: __MACOSX/lines_w25/._19603_a.png  \n",
            "  inflating: lines_w25/36685_a.png   \n",
            "  inflating: __MACOSX/lines_w25/._36685_a.png  \n",
            "  inflating: lines_w25/29939_a.png   \n",
            "  inflating: __MACOSX/lines_w25/._29939_a.png  \n",
            "  inflating: lines_w25/26393_a.png   \n",
            "  inflating: __MACOSX/lines_w25/._26393_a.png  \n",
            "  inflating: lines_w25/47744_a.gt.txt  \n",
            "  inflating: __MACOSX/lines_w25/._47744_a.gt.txt  \n",
            "  inflating: lines_w25/21216_a.gt.txt  \n",
            "  inflating: __MACOSX/lines_w25/._21216_a.gt.txt  \n",
            "  inflating: lines_w25/35675_b.gt.txt  \n",
            "  inflating: __MACOSX/lines_w25/._35675_b.gt.txt  \n",
            "  inflating: lines_w25/8902_a.gt.txt  \n",
            "  inflating: __MACOSX/lines_w25/._8902_a.gt.txt  \n",
            "  inflating: lines_w25/40685_a.gt.txt  \n",
            "  inflating: __MACOSX/lines_w25/._40685_a.gt.txt  \n",
            "  inflating: lines_w25/34583_a.gt.txt  \n",
            "  inflating: __MACOSX/lines_w25/._34583_a.gt.txt  \n",
            "  inflating: lines_w25/37984_b.gt.txt  \n",
            "  inflating: __MACOSX/lines_w25/._37984_b.gt.txt  \n",
            "  inflating: lines_w25/19605_a.gt.txt  \n",
            "  inflating: __MACOSX/lines_w25/._19605_a.gt.txt  \n",
            "  inflating: lines_w25/44059_b.png   \n",
            "  inflating: __MACOSX/lines_w25/._44059_b.png  \n",
            "  inflating: lines_w25/27021_b.gt.txt  \n",
            "  inflating: __MACOSX/lines_w25/._27021_b.gt.txt  \n",
            "  inflating: lines_w25/33442_a.gt.txt  \n",
            "  inflating: __MACOSX/lines_w25/._33442_a.gt.txt  \n",
            "  inflating: lines_w25/42974_a.gt.txt  \n",
            "  inflating: __MACOSX/lines_w25/._42974_a.gt.txt  \n",
            "  inflating: lines_w25/30845_b.gt.txt  \n",
            "  inflating: __MACOSX/lines_w25/._30845_b.gt.txt  \n",
            "  inflating: lines_w25/22904_b.png   \n",
            "  inflating: __MACOSX/lines_w25/._22904_b.png  \n",
            "  inflating: lines_w25/17058_b.png   \n",
            "  inflating: __MACOSX/lines_w25/._17058_b.png  \n",
            "  inflating: lines_w25/3142_b.png    \n",
            "  inflating: __MACOSX/lines_w25/._3142_b.png  \n",
            "  inflating: lines_w25/30727_b.png   \n",
            "  inflating: __MACOSX/lines_w25/._30727_b.png  \n",
            "  inflating: lines_w25/6724_b.png    \n",
            "  inflating: __MACOSX/lines_w25/._6724_b.png  \n",
            "  inflating: lines_w25/35141_b.png   \n",
            "  inflating: __MACOSX/lines_w25/._35141_b.png  \n",
            "  inflating: lines_w25/41573_b.gt.txt  \n",
            "  inflating: __MACOSX/lines_w25/._41573_b.gt.txt  \n",
            "  inflating: lines_w25/20231_b.png   \n",
            "  inflating: __MACOSX/lines_w25/._20231_b.png  \n",
            "  inflating: lines_w25/25457_b.png   \n",
            "  inflating: __MACOSX/lines_w25/._25457_b.png  \n",
            "  inflating: lines_w25/296_a.png     \n",
            "  inflating: __MACOSX/lines_w25/._296_a.png  \n",
            "  inflating: lines_w25/43612_b.gt.txt  \n",
            "  inflating: __MACOSX/lines_w25/._43612_b.gt.txt  \n",
            "  inflating: lines_w25/27721_b.png   \n",
            "  inflating: __MACOSX/lines_w25/._27721_b.png  \n",
            "  inflating: lines_w25/22147_b.png   \n",
            "  inflating: __MACOSX/lines_w25/._22147_b.png  \n",
            "  inflating: lines_w25/10548_b.png   \n",
            "  inflating: __MACOSX/lines_w25/._10548_b.png  \n",
            "  inflating: lines_w25/4452_b.png    \n",
            "  inflating: __MACOSX/lines_w25/._4452_b.png  \n",
            "  inflating: lines_w25/37237_b.png   \n",
            "  inflating: __MACOSX/lines_w25/._37237_b.png  \n",
            "  inflating: lines_w25/1234_b.png    \n",
            "  inflating: __MACOSX/lines_w25/._1234_b.png  \n",
            "  inflating: lines_w25/32451_b.png   \n",
            "  inflating: __MACOSX/lines_w25/._32451_b.png  \n",
            "  inflating: lines_w25/25340_b.gt.txt  \n",
            "  inflating: __MACOSX/lines_w25/._25340_b.gt.txt  \n",
            "  inflating: lines_w25/31723_a.gt.txt  \n",
            "  inflating: __MACOSX/lines_w25/._31723_a.gt.txt  \n",
            "  inflating: lines_w25/3901_b.png    \n",
            "  inflating: __MACOSX/lines_w25/._3901_b.png  \n",
            "  inflating: lines_w25/8592_a.gt.txt  \n",
            "  inflating: __MACOSX/lines_w25/._8592_a.gt.txt  \n",
            "  inflating: lines_w25/35902_b.png   \n",
            "  inflating: __MACOSX/lines_w25/._35902_b.png  \n",
            "  inflating: lines_w25/18963_b.gt.txt  \n",
            "  inflating: __MACOSX/lines_w25/._18963_b.gt.txt  \n",
            "  inflating: lines_w25/43549_b.png   \n",
            "  inflating: __MACOSX/lines_w25/._43549_b.png  \n",
            "  inflating: lines_w25/22281_b.gt.txt  \n",
            "  inflating: __MACOSX/lines_w25/._22281_b.gt.txt  \n",
            "  inflating: lines_w25/48574_a.png   \n",
            "  inflating: __MACOSX/lines_w25/._48574_a.png  \n",
            "  inflating: lines_w25/9664_b.gt.txt  \n",
            "  inflating: __MACOSX/lines_w25/._9664_b.gt.txt  \n",
            "  inflating: lines_w25/21683_a.png   \n",
            "  inflating: __MACOSX/lines_w25/._21683_a.png  \n",
            "  inflating: lines_w25/38_a.png      \n",
            "  inflating: __MACOSX/lines_w25/._38_a.png  \n",
            "  inflating: lines_w25/31395_a.png   \n",
            "  inflating: __MACOSX/lines_w25/._31395_a.png  \n",
            "  inflating: lines_w25/7396_a.png    \n",
            "  inflating: __MACOSX/lines_w25/._7396_a.png  \n",
            "  inflating: lines_w25/46822_b.gt.txt  \n",
            "  inflating: __MACOSX/lines_w25/._46822_b.gt.txt  \n",
            "  inflating: lines_w25/23177_a.gt.txt  \n",
            "  inflating: __MACOSX/lines_w25/._23177_a.gt.txt  \n",
            "  inflating: lines_w25/37514_b.gt.txt  \n",
            "  inflating: __MACOSX/lines_w25/._37514_b.gt.txt  \n",
            "  inflating: lines_w25/798_b.gt.txt  \n",
            "  inflating: __MACOSX/lines_w25/._798_b.gt.txt  \n",
            "  inflating: lines_w25/45425_a.gt.txt  \n",
            "  inflating: __MACOSX/lines_w25/._45425_a.gt.txt  \n",
            "  inflating: lines_w25/34913_a.gt.txt  \n",
            "  inflating: __MACOSX/lines_w25/._34913_a.gt.txt  \n",
            "  inflating: lines_w25/42782_a.gt.txt  \n",
            "  inflating: __MACOSX/lines_w25/._42782_a.gt.txt  \n",
            "  inflating: lines_w25/43198_b.png   \n",
            "  inflating: __MACOSX/lines_w25/._43198_b.png  \n",
            "  inflating: lines_w25/9402_b.gt.txt  \n",
            "  inflating: __MACOSX/lines_w25/._9402_b.gt.txt  \n",
            "  inflating: lines_w25/45643_a.gt.txt  \n",
            "  inflating: __MACOSX/lines_w25/._45643_a.gt.txt  \n",
            "  inflating: lines_w25/23311_a.gt.txt  \n",
            "  inflating: __MACOSX/lines_w25/._23311_a.gt.txt  \n",
            "  inflating: lines_w25/37772_b.gt.txt  \n",
            "  inflating: __MACOSX/lines_w25/._37772_b.gt.txt  \n",
            "  inflating: lines_w25/22596_b.png   \n",
            "  inflating: __MACOSX/lines_w25/._22596_b.png  \n",
            "  inflating: lines_w25/32080_b.png   \n",
            "  inflating: __MACOSX/lines_w25/._32080_b.png  \n",
            "  inflating: lines_w25/10199_b.png   \n",
            "  inflating: __MACOSX/lines_w25/._10199_b.png  \n",
            "  inflating: lines_w25/4083_b.png    \n",
            "  inflating: __MACOSX/lines_w25/._4083_b.png  \n",
            "  inflating: lines_w25/18660_b.png   \n",
            "  inflating: __MACOSX/lines_w25/._18660_b.png  \n",
            "  inflating: lines_w25/24434_a.png   \n",
            "  inflating: __MACOSX/lines_w25/._24434_a.png  \n",
            "  inflating: lines_w25/25126_b.gt.txt  \n",
            "  inflating: __MACOSX/lines_w25/._25126_b.gt.txt  \n",
            "  inflating: lines_w25/31545_a.gt.txt  \n",
            "  inflating: __MACOSX/lines_w25/._31545_a.gt.txt  \n",
            "  inflating: lines_w25/21252_a.png   \n",
            "  inflating: __MACOSX/lines_w25/._21252_a.png  \n",
            "  inflating: lines_w25/34122_a.png   \n",
            "  inflating: __MACOSX/lines_w25/._34122_a.png  \n",
            "  inflating: lines_w25/7747_a.png    \n",
            "  inflating: __MACOSX/lines_w25/._7747_a.png  \n",
            "  inflating: lines_w25/31744_a.png   \n",
            "  inflating: __MACOSX/lines_w25/._31744_a.png  \n",
            "  inflating: lines_w25/2121_a.png    \n",
            "  inflating: __MACOSX/lines_w25/._2121_a.png  \n",
            "  inflating: lines_w25/23967_a.png   \n",
            "  inflating: __MACOSX/lines_w25/._23967_a.png  \n",
            "  inflating: lines_w25/40873_a.gt.txt  \n",
            "  inflating: __MACOSX/lines_w25/._40873_a.gt.txt  \n",
            "  inflating: lines_w25/32942_b.gt.txt  \n",
            "  inflating: __MACOSX/lines_w25/._32942_b.gt.txt  \n",
            "  inflating: lines_w25/43474_b.gt.txt  \n",
            "  inflating: __MACOSX/lines_w25/._43474_b.gt.txt  \n",
            "  inflating: lines_w25/36484_a.gt.txt  \n",
            "  inflating: __MACOSX/lines_w25/._36484_a.gt.txt  \n",
            "  inflating: lines_w25/35883_b.gt.txt  \n",
            "  inflating: __MACOSX/lines_w25/._35883_b.gt.txt  \n",
            "  inflating: lines_w25/45879_a.png   \n",
            "  inflating: __MACOSX/lines_w25/._45879_a.png  \n",
            "  inflating: lines_w25/19463_a.gt.txt  \n",
            "  inflating: __MACOSX/lines_w25/._19463_a.gt.txt  \n",
            "  inflating: lines_w25/20386_b.gt.txt  \n",
            "  inflating: __MACOSX/lines_w25/._20386_b.gt.txt  \n",
            "  inflating: lines_w25/34961_a.png   \n",
            "  inflating: __MACOSX/lines_w25/._34961_a.png  \n",
            "  inflating: lines_w25/16878_a.png   \n",
            "  inflating: __MACOSX/lines_w25/._16878_a.png  \n",
            "  inflating: lines_w25/2962_a.png    \n",
            "  inflating: __MACOSX/lines_w25/._2962_a.png  \n",
            "  inflating: lines_w25/41715_b.gt.txt  \n",
            "  inflating: __MACOSX/lines_w25/._41715_b.gt.txt  \n",
            "  inflating: lines_w25/33432_a.png   \n",
            "  inflating: __MACOSX/lines_w25/._33432_a.png  \n",
            "  inflating: lines_w25/36254_a.png   \n",
            "  inflating: __MACOSX/lines_w25/._36254_a.png  \n",
            "  inflating: lines_w25/5431_a.png    \n",
            "  inflating: __MACOSX/lines_w25/._5431_a.png  \n",
            "  inflating: lines_w25/23124_a.png   \n",
            "  inflating: __MACOSX/lines_w25/._23124_a.png  \n",
            "  inflating: lines_w25/26742_a.png   \n",
            "  inflating: __MACOSX/lines_w25/._26742_a.png  \n",
            "  inflating: lines_w25/9892_b.gt.txt  \n",
            "  inflating: __MACOSX/lines_w25/._9892_b.gt.txt  \n",
            "  inflating: lines_w25/27247_b.gt.txt  \n",
            "  inflating: __MACOSX/lines_w25/._27247_b.gt.txt  \n",
            "  inflating: lines_w25/33624_a.gt.txt  \n",
            "  inflating: __MACOSX/lines_w25/._33624_a.gt.txt  \n",
            "  inflating: lines_w25/44925_b.gt.txt  \n",
            "  inflating: __MACOSX/lines_w25/._44925_b.gt.txt  \n",
            "  inflating: lines_w25/21070_a.gt.txt  \n",
            "  inflating: __MACOSX/lines_w25/._21070_a.gt.txt  \n",
            "  inflating: lines_w25/35413_b.gt.txt  \n",
            "  inflating: __MACOSX/lines_w25/._35413_b.gt.txt  \n",
            "  inflating: lines_w25/18795_b.gt.txt  \n",
            "  inflating: __MACOSX/lines_w25/._18795_b.gt.txt  \n",
            "  inflating: lines_w25/28119_b.png   \n",
            "  inflating: __MACOSX/lines_w25/._28119_b.png  \n",
            "  inflating: lines_w25/47522_a.gt.txt  \n",
            "  inflating: __MACOSX/lines_w25/._47522_a.gt.txt  \n",
            "  inflating: lines_w25/35590_b.png   \n",
            "  inflating: __MACOSX/lines_w25/._35590_b.png  \n",
            "  inflating: lines_w25/36814_a.gt.txt  \n",
            "  inflating: __MACOSX/lines_w25/._36814_a.gt.txt  \n",
            "  inflating: lines_w25/17489_b.png   \n",
            "  inflating: __MACOSX/lines_w25/._17489_b.png  \n",
            "  inflating: lines_w25/3593_b.png    \n",
            "  inflating: __MACOSX/lines_w25/._3593_b.png  \n",
            "  inflating: lines_w25/25086_b.png   \n",
            "  inflating: __MACOSX/lines_w25/._25086_b.png  \n",
            "  inflating: lines_w25/647_a.png     \n",
            "  inflating: __MACOSX/lines_w25/._647_a.png  \n",
            "  inflating: lines_w25/29038_b.gt.txt  \n",
            "  inflating: __MACOSX/lines_w25/._29038_b.gt.txt  \n",
            "  inflating: lines_w25/44488_b.png   \n",
            "  inflating: __MACOSX/lines_w25/._44488_b.png  \n",
            "  inflating: lines_w25/3248_b.gt.txt  \n",
            "  inflating: __MACOSX/lines_w25/._3248_b.gt.txt  \n",
            "  inflating: lines_w25/40180_b.gt.txt  \n",
            "  inflating: __MACOSX/lines_w25/._40180_b.gt.txt  \n",
            "  inflating: lines_w25/21513_b.gt.txt  \n",
            "  inflating: __MACOSX/lines_w25/._21513_b.gt.txt  \n",
            "  inflating: lines_w25/35170_a.gt.txt  \n",
            "  inflating: __MACOSX/lines_w25/._35170_a.gt.txt  \n",
            "  inflating: lines_w25/27931_a.png   \n",
            "  inflating: __MACOSX/lines_w25/._27931_a.png  \n",
            "  inflating: lines_w25/22914_a.gt.txt  \n",
            "  inflating: __MACOSX/lines_w25/._22914_a.gt.txt  \n",
            "  inflating: lines_w25/4389_b.gt.txt  \n",
            "  inflating: __MACOSX/lines_w25/._4389_b.gt.txt  \n",
            "  inflating: lines_w25/3711_a.png    \n",
            "  inflating: __MACOSX/lines_w25/._3711_a.png  \n",
            "  inflating: lines_w25/30174_a.png   \n",
            "  inflating: __MACOSX/lines_w25/._30174_a.png  \n",
            "  inflating: lines_w25/47041_b.gt.txt  \n",
            "  inflating: __MACOSX/lines_w25/._47041_b.gt.txt  \n",
            "  inflating: lines_w25/6177_a.png    \n",
            "  inflating: __MACOSX/lines_w25/._6177_a.png  \n",
            "  inflating: lines_w25/35712_a.png   \n",
            "  inflating: __MACOSX/lines_w25/._35712_a.png  \n",
            "  inflating: lines_w25/20462_a.png   \n",
            "  inflating: __MACOSX/lines_w25/._20462_a.png  \n",
            "  inflating: lines_w25/25204_a.png   \n",
            "  inflating: __MACOSX/lines_w25/._25204_a.png  \n",
            "  inflating: lines_w25/21893_b.png   \n",
            "  inflating: __MACOSX/lines_w25/._21893_b.png  \n",
            "  inflating: lines_w25/19050_b.png   \n",
            "  inflating: __MACOSX/lines_w25/._19050_b.png  \n",
            "  inflating: lines_w25/41276_a.gt.txt  \n",
            "  inflating: __MACOSX/lines_w25/._41276_a.gt.txt  \n",
            "  inflating: lines_w25/27724_a.gt.txt  \n",
            "  inflating: __MACOSX/lines_w25/._27724_a.gt.txt  \n",
            "  inflating: lines_w25/33347_b.gt.txt  \n",
            "  inflating: __MACOSX/lines_w25/._33347_b.gt.txt  \n",
            "  inflating: lines_w25/16089_a.gt.txt  \n",
            "  inflating: __MACOSX/lines_w25/._16089_a.gt.txt  \n",
            "  inflating: lines_w25/19100_b.gt.txt  \n",
            "  inflating: __MACOSX/lines_w25/._19100_b.gt.txt  \n",
            "  inflating: lines_w25/34286_b.gt.txt  \n",
            "  inflating: __MACOSX/lines_w25/._34286_b.gt.txt  \n",
            "  inflating: lines_w25/11148_a.gt.txt  \n",
            "  inflating: __MACOSX/lines_w25/._11148_a.gt.txt  \n",
            "  inflating: lines_w25/13229_a.gt.txt  \n",
            "  inflating: __MACOSX/lines_w25/._13229_a.gt.txt  \n",
            "  inflating: lines_w25/48327_b.png   \n",
            "  inflating: __MACOSX/lines_w25/._48327_b.png  \n",
            "  inflating: lines_w25/22584_a.gt.txt  \n",
            "  inflating: __MACOSX/lines_w25/._22584_a.gt.txt  \n",
            "  inflating: lines_w25/21983_b.gt.txt  \n",
            "  inflating: __MACOSX/lines_w25/._21983_b.gt.txt  \n",
            "  inflating: lines_w25/19813_b.png   \n",
            "  inflating: __MACOSX/lines_w25/._19813_b.png  \n",
            "  inflating: lines_w25/8297_b.gt.txt  \n",
            "  inflating: __MACOSX/lines_w25/._8297_b.gt.txt  \n",
            "  inflating: lines_w25/29729_b.png   \n",
            "  inflating: __MACOSX/lines_w25/._29729_b.png  \n",
            "  inflating: lines_w25/36895_b.png   \n",
            "  inflating: __MACOSX/lines_w25/._36895_b.png  \n",
            "  inflating: lines_w25/25445_a.gt.txt  \n",
            "  inflating: __MACOSX/lines_w25/._25445_a.gt.txt  \n",
            "  inflating: lines_w25/31026_b.gt.txt  \n",
            "  inflating: __MACOSX/lines_w25/._31026_b.gt.txt  \n",
            "  inflating: lines_w25/43117_a.gt.txt  \n",
            "  inflating: __MACOSX/lines_w25/._43117_a.gt.txt  \n",
            "  inflating: lines_w25/26842_b.gt.txt  \n",
            "  inflating: __MACOSX/lines_w25/._26842_b.gt.txt  \n",
            "  inflating: lines_w25/45320_b.gt.txt  \n",
            "  inflating: __MACOSX/lines_w25/._45320_b.gt.txt  \n",
            "  inflating: lines_w25/27172_a.png   \n",
            "  inflating: __MACOSX/lines_w25/._27172_a.png  \n",
            "  inflating: lines_w25/22714_a.png   \n",
            "  inflating: __MACOSX/lines_w25/._22714_a.png  \n",
            "  inflating: lines_w25/4201_a.png    \n",
            "  inflating: __MACOSX/lines_w25/._4201_a.png  \n",
            "  inflating: lines_w25/37464_a.png   \n",
            "  inflating: __MACOSX/lines_w25/._37464_a.png  \n",
            "  inflating: lines_w25/1467_a.png    \n",
            "  inflating: __MACOSX/lines_w25/._1467_a.png  \n",
            "  inflating: lines_w25/32202_a.png   \n",
            "  inflating: __MACOSX/lines_w25/._32202_a.png  \n",
            "  inflating: lines_w25/30937_a.png   \n",
            "  inflating: __MACOSX/lines_w25/._30937_a.png  \n",
            "  inflating: lines_w25/23672_b.gt.txt  \n",
            "  inflating: __MACOSX/lines_w25/._23672_b.gt.txt  \n",
            "  inflating: lines_w25/37211_a.gt.txt  \n",
            "  inflating: __MACOSX/lines_w25/._37211_a.gt.txt  \n",
            "  inflating: lines_w25/6934_a.png    \n",
            "  inflating: __MACOSX/lines_w25/._6934_a.png  \n",
            "  inflating: lines_w25/1129_b.gt.txt  \n",
            "  inflating: __MACOSX/lines_w25/._1129_b.gt.txt  \n",
            "  inflating: lines_w25/38398_b.gt.txt  \n",
            "  inflating: __MACOSX/lines_w25/._38398_b.gt.txt  \n",
            "  inflating: lines_w25/9161_a.gt.txt  \n",
            "  inflating: __MACOSX/lines_w25/._9161_a.gt.txt  \n",
            "  inflating: lines_w25/24267_b.png   \n",
            "  inflating: __MACOSX/lines_w25/._24267_b.png  \n",
            "  inflating: lines_w25/21401_b.png   \n",
            "  inflating: __MACOSX/lines_w25/._21401_b.png  \n",
            "  inflating: lines_w25/34771_b.png   \n",
            "  inflating: __MACOSX/lines_w25/._34771_b.png  \n",
            "  inflating: lines_w25/23414_b.gt.txt  \n",
            "  inflating: __MACOSX/lines_w25/._23414_b.gt.txt  \n",
            "  inflating: lines_w25/37077_a.gt.txt  \n",
            "  inflating: __MACOSX/lines_w25/._37077_a.gt.txt  \n",
            "  inflating: lines_w25/7114_b.png    \n",
            "  inflating: __MACOSX/lines_w25/._7114_b.png  \n",
            "  inflating: lines_w25/31117_b.png   \n",
            "  inflating: __MACOSX/lines_w25/._31117_b.png  \n",
            "  inflating: lines_w25/16668_b.png   \n",
            "  inflating: __MACOSX/lines_w25/._16668_b.png  \n",
            "  inflating: lines_w25/2772_b.png    \n",
            "  inflating: __MACOSX/lines_w25/._2772_b.png  \n",
            "  inflating: lines_w25/26952_b.png   \n",
            "  inflating: __MACOSX/lines_w25/._26952_b.png  \n",
            "  inflating: lines_w25/20813_a.gt.txt  \n",
            "  inflating: __MACOSX/lines_w25/._20813_a.gt.txt  \n",
            "  inflating: lines_w25/45146_b.gt.txt  \n",
            "  inflating: __MACOSX/lines_w25/._45146_b.gt.txt  \n",
            "  inflating: lines_w25/9307_a.gt.txt  \n",
            "  inflating: __MACOSX/lines_w25/._9307_a.gt.txt  \n",
            "  inflating: lines_w25/45669_b.png   \n",
            "  inflating: __MACOSX/lines_w25/._45669_b.png  \n",
            "  inflating: lines_w25/15278_b.gt.txt  \n",
            "  inflating: __MACOSX/lines_w25/._15278_b.gt.txt  \n",
            "  inflating: lines_w25/42087_b.gt.txt  \n",
            "  inflating: __MACOSX/lines_w25/._42087_b.gt.txt  \n",
            "  inflating: lines_w25/7178_a.gt.txt  \n",
            "  inflating: __MACOSX/lines_w25/._7178_a.gt.txt  \n",
            "  inflating: lines_w25/36381_b.gt.txt  \n",
            "  inflating: __MACOSX/lines_w25/._36381_b.gt.txt  \n",
            "  inflating: lines_w25/39208_a.gt.txt  \n",
            "  inflating: __MACOSX/lines_w25/._39208_a.gt.txt  \n",
            "  inflating: lines_w25/43371_a.gt.txt  \n",
            "  inflating: __MACOSX/lines_w25/._43371_a.gt.txt  \n",
            "  inflating: lines_w25/25623_a.gt.txt  \n",
            "  inflating: __MACOSX/lines_w25/._25623_a.gt.txt  \n",
            "  inflating: lines_w25/31240_b.gt.txt  \n",
            "  inflating: __MACOSX/lines_w25/._31240_b.gt.txt  \n",
            "  inflating: lines_w25/857_b.png     \n",
            "  inflating: __MACOSX/lines_w25/._857_b.png  \n",
            "  inflating: lines_w25/18033_a.png   \n",
            "  inflating: __MACOSX/lines_w25/._18033_a.png  \n",
            "  inflating: lines_w25/49058_b.gt.txt  \n",
            "  inflating: __MACOSX/lines_w25/._49058_b.gt.txt  \n",
            "  inflating: lines_w25/27542_a.gt.txt  \n",
            "  inflating: __MACOSX/lines_w25/._27542_a.gt.txt  \n",
            "  inflating: lines_w25/33121_b.gt.txt  \n",
            "  inflating: __MACOSX/lines_w25/._33121_b.gt.txt  \n",
            "  inflating: lines_w25/41010_a.gt.txt  \n",
            "  inflating: __MACOSX/lines_w25/._41010_a.gt.txt  \n",
            "  inflating: lines_w25/18870_a.png   \n",
            "  inflating: __MACOSX/lines_w25/._18870_a.png  \n",
            "  inflating: lines_w25/24945_b.gt.txt  \n",
            "  inflating: __MACOSX/lines_w25/._24945_b.gt.txt  \n",
            "  inflating: lines_w25/20483_a.gt.txt  \n",
            "  inflating: __MACOSX/lines_w25/._20483_a.gt.txt  \n",
            "  inflating: lines_w25/19366_b.gt.txt  \n",
            "  inflating: __MACOSX/lines_w25/._19366_b.gt.txt  \n",
            "  inflating: lines_w25/49344_a.png   \n",
            "  inflating: __MACOSX/lines_w25/._49344_a.png  \n",
            "  inflating: lines_w25/23884_b.gt.txt  \n",
            "  inflating: __MACOSX/lines_w25/._23884_b.gt.txt  \n",
            "  inflating: lines_w25/5219_a.gt.txt  \n",
            "  inflating: __MACOSX/lines_w25/._5219_a.gt.txt  \n",
            "  inflating: lines_w25/42379_b.png   \n",
            "  inflating: __MACOSX/lines_w25/._42379_b.png  \n",
            "  inflating: lines_w25/17119_b.gt.txt  \n",
            "  inflating: __MACOSX/lines_w25/._17119_b.gt.txt  \n",
            "  inflating: lines_w25/7957_b.png    \n",
            "  inflating: __MACOSX/lines_w25/._7957_b.png  \n",
            "  inflating: lines_w25/31954_b.png   \n",
            "  inflating: __MACOSX/lines_w25/._31954_b.png  \n",
            "  inflating: lines_w25/47227_b.gt.txt  \n",
            "  inflating: __MACOSX/lines_w25/._47227_b.gt.txt  \n",
            "  inflating: lines_w25/18090_a.gt.txt  \n",
            "  inflating: __MACOSX/lines_w25/._18090_a.gt.txt  \n",
            "  inflating: lines_w25/19481_b.png   \n",
            "  inflating: __MACOSX/lines_w25/._19481_b.png  \n",
            "  inflating: lines_w25/33261_b.png   \n",
            "  inflating: __MACOSX/lines_w25/._33261_b.png  \n",
            "  inflating: lines_w25/36407_b.png   \n",
            "  inflating: __MACOSX/lines_w25/._36407_b.png  \n",
            "  inflating: lines_w25/11378_b.png   \n",
            "  inflating: __MACOSX/lines_w25/._11378_b.png  \n",
            "  inflating: lines_w25/5262_b.png    \n",
            "  inflating: __MACOSX/lines_w25/._5262_b.png  \n",
            "  inflating: lines_w25/23777_b.png   \n",
            "  inflating: __MACOSX/lines_w25/._23777_b.png  \n",
            "  inflating: lines_w25/26111_b.png   \n",
            "  inflating: __MACOSX/lines_w25/._26111_b.png  \n",
            "  inflating: lines_w25/21775_b.gt.txt  \n",
            "  inflating: __MACOSX/lines_w25/._21775_b.gt.txt  \n",
            "  inflating: lines_w25/35316_a.gt.txt  \n",
            "  inflating: __MACOSX/lines_w25/._35316_a.gt.txt  \n",
            "  inflating: lines_w25/45078_a.gt.txt  \n",
            "  inflating: __MACOSX/lines_w25/._45078_a.gt.txt  \n",
            "  inflating: lines_w25/36093_b.png   \n",
            "  inflating: __MACOSX/lines_w25/._36093_b.png  \n",
            "  inflating: lines_w25/26585_b.png   \n",
            "  inflating: __MACOSX/lines_w25/._26585_b.png  \n",
            "  inflating: lines_w25/8769_b.png    \n",
            "  inflating: __MACOSX/lines_w25/._8769_b.png  \n",
            "  inflating: lines_w25/19015_b.png   \n",
            "  inflating: __MACOSX/lines_w25/._19015_b.png  \n",
            "  inflating: lines_w25/12287_a.gt.txt  \n",
            "  inflating: __MACOSX/lines_w25/._12287_a.gt.txt  \n",
            "  inflating: lines_w25/37149_b.gt.txt  \n",
            "  inflating: __MACOSX/lines_w25/._37149_b.gt.txt  \n",
            "  inflating: lines_w25/28965_a.gt.txt  \n",
            "  inflating: __MACOSX/lines_w25/._28965_a.gt.txt  \n",
            "  inflating: lines_w25/1271_a.gt.txt  \n",
            "  inflating: __MACOSX/lines_w25/._1271_a.gt.txt  \n",
            "  inflating: lines_w25/15346_a.gt.txt  \n",
            "  inflating: __MACOSX/lines_w25/._15346_a.gt.txt  \n",
            "  inflating: lines_w25/30088_b.gt.txt  \n",
            "  inflating: __MACOSX/lines_w25/._30088_b.gt.txt  \n",
            "  inflating: lines_w25/9239_b.gt.txt  \n",
            "  inflating: __MACOSX/lines_w25/._9239_b.gt.txt  \n",
            "  inflating: lines_w25/13171_b.gt.txt  \n",
            "  inflating: __MACOSX/lines_w25/._13171_b.gt.txt  \n",
            "  inflating: lines_w25/41029_a.png   \n",
            "  inflating: __MACOSX/lines_w25/._41029_a.png  \n",
            "  inflating: lines_w25/7046_b.gt.txt  \n",
            "  inflating: __MACOSX/lines_w25/._7046_b.gt.txt  \n",
            "  inflating: lines_w25/35757_a.png   \n",
            "  inflating: __MACOSX/lines_w25/._35757_a.png  \n",
            "  inflating: lines_w25/12028_a.png   \n",
            "  inflating: __MACOSX/lines_w25/._12028_a.png  \n",
            "  inflating: lines_w25/6132_a.png    \n",
            "  inflating: __MACOSX/lines_w25/._6132_a.png  \n",
            "  inflating: lines_w25/30131_a.png   \n",
            "  inflating: __MACOSX/lines_w25/._30131_a.png  \n",
            "  inflating: lines_w25/3754_a.png    \n",
            "  inflating: __MACOSX/lines_w25/._3754_a.png  \n",
            "  inflating: lines_w25/480_b.png     \n",
            "  inflating: __MACOSX/lines_w25/._480_b.png  \n",
            "  inflating: lines_w25/25241_a.png   \n",
            "  inflating: __MACOSX/lines_w25/._25241_a.png  \n",
            "  inflating: lines_w25/20427_a.png   \n",
            "  inflating: __MACOSX/lines_w25/._20427_a.png  \n",
            "  inflating: lines_w25/39336_b.gt.txt  \n",
            "  inflating: __MACOSX/lines_w25/._39336_b.gt.txt  \n",
            "  inflating: lines_w25/27974_a.png   \n",
            "  inflating: __MACOSX/lines_w25/._27974_a.png  \n",
            "  inflating: lines_w25/6971_a.png    \n",
            "  inflating: __MACOSX/lines_w25/._6971_a.png  \n",
            "  inflating: lines_w25/30972_a.png   \n",
            "  inflating: __MACOSX/lines_w25/._30972_a.png  \n",
            "  inflating: lines_w25/22751_a.png   \n",
            "  inflating: __MACOSX/lines_w25/._22751_a.png  \n",
            "  inflating: lines_w25/27137_a.png   \n",
            "  inflating: __MACOSX/lines_w25/._27137_a.png  \n",
            "  inflating: lines_w25/32247_a.png   \n",
            "  inflating: __MACOSX/lines_w25/._32247_a.png  \n",
            "  inflating: lines_w25/1422_a.png    \n",
            "  inflating: __MACOSX/lines_w25/._1422_a.png  \n",
            "  inflating: lines_w25/15538_a.png   \n",
            "  inflating: __MACOSX/lines_w25/._15538_a.png  \n",
            "  inflating: lines_w25/49166_a.gt.txt  \n",
            "  inflating: __MACOSX/lines_w25/._49166_a.gt.txt  \n",
            "  inflating: lines_w25/37421_a.png   \n",
            "  inflating: __MACOSX/lines_w25/._37421_a.png  \n",
            "  inflating: lines_w25/4244_a.png    \n",
            "  inflating: __MACOSX/lines_w25/._4244_a.png  \n",
            "  inflating: lines_w25/5327_b.gt.txt  \n",
            "  inflating: __MACOSX/lines_w25/._5327_b.gt.txt  \n",
            "  inflating: lines_w25/19258_a.gt.txt  \n",
            "  inflating: __MACOSX/lines_w25/._19258_a.gt.txt  \n",
            "  inflating: lines_w25/11210_b.gt.txt  \n",
            "  inflating: __MACOSX/lines_w25/._11210_b.gt.txt  \n",
            "  inflating: lines_w25/46539_a.png   \n",
            "  inflating: __MACOSX/lines_w25/._46539_a.png  \n",
            "  inflating: lines_w25/48362_b.png   \n",
            "  inflating: __MACOSX/lines_w25/._48362_b.png  \n",
            "  inflating: lines_w25/17027_a.gt.txt  \n",
            "  inflating: __MACOSX/lines_w25/._17027_a.gt.txt  \n",
            "  inflating: lines_w25/48290_b.gt.txt  \n",
            "  inflating: __MACOSX/lines_w25/._48290_b.gt.txt  \n",
            "  inflating: lines_w25/3110_a.gt.txt  \n",
            "  inflating: __MACOSX/lines_w25/._3110_a.gt.txt  \n",
            "  inflating: lines_w25/35228_b.gt.txt  \n",
            "  inflating: __MACOSX/lines_w25/._35228_b.gt.txt  \n",
            "  inflating: lines_w25/21095_b.png   \n",
            "  inflating: __MACOSX/lines_w25/._21095_b.png  \n",
            "  inflating: lines_w25/19856_b.png   \n",
            "  inflating: __MACOSX/lines_w25/._19856_b.png  \n",
            "  inflating: lines_w25/7580_b.png    \n",
            "  inflating: __MACOSX/lines_w25/._7580_b.png  \n",
            "  inflating: lines_w25/31583_b.png   \n",
            "  inflating: __MACOSX/lines_w25/._31583_b.png  \n",
            "  inflating: lines_w25/29603_b.gt.txt  \n",
            "  inflating: __MACOSX/lines_w25/._29603_b.gt.txt  \n",
            "  inflating: lines_w25/47319_a.gt.txt  \n",
            "  inflating: __MACOSX/lines_w25/._47319_a.gt.txt  \n",
            "  inflating: lines_w25/3376_a.gt.txt  \n",
            "  inflating: __MACOSX/lines_w25/._3376_a.gt.txt  \n",
            "  inflating: lines_w25/17241_a.gt.txt  \n",
            "  inflating: __MACOSX/lines_w25/._17241_a.gt.txt  \n",
            "  inflating: lines_w25/29465_b.gt.txt  \n",
            "  inflating: __MACOSX/lines_w25/._29465_b.gt.txt  \n",
            "  inflating: lines_w25/18076_a.png   \n",
            "  inflating: __MACOSX/lines_w25/._18076_a.png  \n",
            "  inflating: lines_w25/10380_a.gt.txt  \n",
            "  inflating: __MACOSX/lines_w25/._10380_a.gt.txt  \n",
            "  inflating: lines_w25/812_b.png     \n",
            "  inflating: __MACOSX/lines_w25/._812_b.png  \n",
            "  inflating: lines_w25/22380_a.png   \n",
            "  inflating: __MACOSX/lines_w25/._22380_a.png  \n",
            "  inflating: lines_w25/4695_a.png    \n",
            "  inflating: __MACOSX/lines_w25/._4695_a.png  \n",
            "  inflating: lines_w25/32696_a.png   \n",
            "  inflating: __MACOSX/lines_w25/._32696_a.png  \n",
            "  inflating: lines_w25/26917_b.png   \n",
            "  inflating: __MACOSX/lines_w25/._26917_b.png  \n",
            "  inflating: lines_w25/49300_a.gt.txt  \n",
            "  inflating: __MACOSX/lines_w25/._49300_a.gt.txt  \n",
            "  inflating: lines_w25/21444_b.png   \n",
            "  inflating: __MACOSX/lines_w25/._21444_b.png  \n",
            "  inflating: lines_w25/24222_b.png   \n",
            "  inflating: __MACOSX/lines_w25/._24222_b.png  \n",
            "  inflating: lines_w25/2737_b.png    \n",
            "  inflating: __MACOSX/lines_w25/._2737_b.png  \n",
            "  inflating: lines_w25/31152_b.png   \n",
            "  inflating: __MACOSX/lines_w25/._31152_b.png  \n",
            "  inflating: lines_w25/33279_a.gt.txt  \n",
            "  inflating: __MACOSX/lines_w25/._33279_a.gt.txt  \n",
            "  inflating: lines_w25/7151_b.png    \n",
            "  inflating: __MACOSX/lines_w25/._7151_b.png  \n",
            "  inflating: lines_w25/34734_b.png   \n",
            "  inflating: __MACOSX/lines_w25/._34734_b.png  \n",
            "  inflating: lines_w25/41348_b.gt.txt  \n",
            "  inflating: __MACOSX/lines_w25/._41348_b.gt.txt  \n",
            "  inflating: lines_w25/2080_b.gt.txt  \n",
            "  inflating: __MACOSX/lines_w25/._2080_b.gt.txt  \n",
            "  inflating: lines_w25/11076_b.gt.txt  \n",
            "  inflating: __MACOSX/lines_w25/._11076_b.gt.txt  \n",
            "  inflating: lines_w25/46289_b.gt.txt  \n",
            "  inflating: __MACOSX/lines_w25/._46289_b.gt.txt  \n",
            "  inflating: lines_w25/5141_b.gt.txt  \n",
            "  inflating: __MACOSX/lines_w25/._5141_b.gt.txt  \n",
            "  inflating: lines_w25/28793_a.gt.txt  \n",
            "  inflating: __MACOSX/lines_w25/._28793_a.gt.txt  \n",
            "  inflating: lines_w25/7220_b.gt.txt  \n",
            "  inflating: __MACOSX/lines_w25/._7220_b.gt.txt  \n",
            "  inflating: lines_w25/40809_b.png   \n",
            "  inflating: __MACOSX/lines_w25/._40809_b.png  \n",
            "  inflating: lines_w25/13317_b.gt.txt  \n",
            "  inflating: __MACOSX/lines_w25/._13317_b.gt.txt  \n",
            "  inflating: lines_w25/5227_b.png    \n",
            "  inflating: __MACOSX/lines_w25/._5227_b.png  \n",
            "  inflating: lines_w25/36442_b.png   \n",
            "  inflating: __MACOSX/lines_w25/._36442_b.png  \n",
            "  inflating: lines_w25/39150_b.gt.txt  \n",
            "  inflating: __MACOSX/lines_w25/._39150_b.gt.txt  \n",
            "  inflating: lines_w25/33224_b.png   \n",
            "  inflating: __MACOSX/lines_w25/._33224_b.png  \n",
            "  inflating: lines_w25/26154_b.png   \n",
            "  inflating: __MACOSX/lines_w25/._26154_b.png  \n",
            "  inflating: lines_w25/23732_b.png   \n",
            "  inflating: __MACOSX/lines_w25/._23732_b.png  \n",
            "  inflating: lines_w25/31911_b.png   \n",
            "  inflating: __MACOSX/lines_w25/._31911_b.png  \n",
            "  inflating: lines_w25/13808_b.png   \n",
            "  inflating: __MACOSX/lines_w25/._13808_b.png  \n",
            "  inflating: lines_w25/7912_b.png    \n",
            "  inflating: __MACOSX/lines_w25/._7912_b.png  \n",
            "  inflating: lines_w25/43029_b.gt.txt  \n",
            "  inflating: __MACOSX/lines_w25/._43029_b.gt.txt  \n",
            "  inflating: lines_w25/31118_a.gt.txt  \n",
            "  inflating: __MACOSX/lines_w25/._31118_a.gt.txt  \n",
            "  inflating: lines_w25/3385_a.png    \n",
            "  inflating: __MACOSX/lines_w25/._3385_a.png  \n",
            "  inflating: lines_w25/35386_a.png   \n",
            "  inflating: __MACOSX/lines_w25/._35386_a.png  \n",
            "  inflating: lines_w25/18835_a.png   \n",
            "  inflating: __MACOSX/lines_w25/._18835_a.png  \n",
            "  inflating: lines_w25/25690_a.png   \n",
            "  inflating: __MACOSX/lines_w25/._25690_a.png  \n",
            "  inflating: lines_w25/38219_a.png   \n",
            "  inflating: __MACOSX/lines_w25/._38219_a.png  \n",
            "  inflating: lines_w25/15120_a.gt.txt  \n",
            "  inflating: __MACOSX/lines_w25/._15120_a.gt.txt  \n",
            "  inflating: lines_w25/1017_a.gt.txt  \n",
            "  inflating: __MACOSX/lines_w25/._1017_a.gt.txt  \n",
            "  inflating: lines_w25/49301_a.png   \n",
            "  inflating: __MACOSX/lines_w25/._49301_a.png  \n",
            "  inflating: lines_w25/7179_a.gt.txt  \n",
            "  inflating: __MACOSX/lines_w25/._7179_a.gt.txt  \n",
            "  inflating: lines_w25/36380_b.gt.txt  \n",
            "  inflating: __MACOSX/lines_w25/._36380_b.gt.txt  \n",
            "  inflating: lines_w25/43370_a.gt.txt  \n",
            "  inflating: __MACOSX/lines_w25/._43370_a.gt.txt  \n",
            "  inflating: lines_w25/39209_a.gt.txt  \n",
            "  inflating: __MACOSX/lines_w25/._39209_a.gt.txt  \n",
            "  inflating: lines_w25/19033_a.png   \n",
            "  inflating: __MACOSX/lines_w25/._19033_a.png  \n",
            "  inflating: lines_w25/25622_a.gt.txt  \n",
            "  inflating: __MACOSX/lines_w25/._25622_a.gt.txt  \n",
            "  inflating: lines_w25/31241_b.gt.txt  \n",
            "  inflating: __MACOSX/lines_w25/._31241_b.gt.txt  \n",
            "  inflating: lines_w25/27952_b.png   \n",
            "  inflating: __MACOSX/lines_w25/._27952_b.png  \n",
            "  inflating: lines_w25/20401_b.png   \n",
            "  inflating: __MACOSX/lines_w25/._20401_b.png  \n",
            "  inflating: lines_w25/25267_b.png   \n",
            "  inflating: __MACOSX/lines_w25/._25267_b.png  \n",
            "  inflating: lines_w25/17668_b.png   \n",
            "  inflating: __MACOSX/lines_w25/._17668_b.png  \n",
            "  inflating: lines_w25/3772_b.png    \n",
            "  inflating: __MACOSX/lines_w25/._3772_b.png  \n",
            "  inflating: lines_w25/30117_b.png   \n",
            "  inflating: __MACOSX/lines_w25/._30117_b.png  \n",
            "  inflating: lines_w25/6114_b.png    \n",
            "  inflating: __MACOSX/lines_w25/._6114_b.png  \n",
            "  inflating: lines_w25/23415_b.gt.txt  \n",
            "  inflating: __MACOSX/lines_w25/._23415_b.gt.txt  \n",
            "  inflating: lines_w25/37076_a.gt.txt  \n",
            "  inflating: __MACOSX/lines_w25/._37076_a.gt.txt  \n",
            "  inflating: lines_w25/35771_b.png   \n",
            "  inflating: __MACOSX/lines_w25/._35771_b.png  \n",
            "  inflating: lines_w25/45147_b.gt.txt  \n",
            "  inflating: __MACOSX/lines_w25/._45147_b.gt.txt  \n",
            "  inflating: lines_w25/20812_a.gt.txt  \n",
            "  inflating: __MACOSX/lines_w25/._20812_a.gt.txt  \n",
            "  inflating: lines_w25/15279_b.gt.txt  \n",
            "  inflating: __MACOSX/lines_w25/._15279_b.gt.txt  \n",
            "  inflating: lines_w25/9306_a.gt.txt  \n",
            "  inflating: __MACOSX/lines_w25/._9306_a.gt.txt  \n",
            "  inflating: lines_w25/44669_b.png   \n",
            "  inflating: __MACOSX/lines_w25/._44669_b.png  \n",
            "  inflating: lines_w25/42086_b.gt.txt  \n",
            "  inflating: __MACOSX/lines_w25/._42086_b.gt.txt  \n",
            "  inflating: lines_w25/43379_b.png   \n",
            "  inflating: __MACOSX/lines_w25/._43379_b.png  \n",
            "  inflating: lines_w25/17118_b.gt.txt  \n",
            "  inflating: __MACOSX/lines_w25/._17118_b.gt.txt  \n",
            "  inflating: lines_w25/10378_b.png   \n",
            "  inflating: __MACOSX/lines_w25/._10378_b.png  \n",
            "  inflating: lines_w25/4262_b.png    \n",
            "  inflating: __MACOSX/lines_w25/._4262_b.png  \n",
            "  inflating: lines_w25/37407_b.png   \n",
            "  inflating: __MACOSX/lines_w25/._37407_b.png  \n",
            "  inflating: lines_w25/1404_b.png    \n",
            "  inflating: __MACOSX/lines_w25/._1404_b.png  \n",
            "  inflating: lines_w25/32261_b.png   \n",
            "  inflating: __MACOSX/lines_w25/._32261_b.png  \n",
            "  inflating: lines_w25/27111_b.png   \n",
            "  inflating: __MACOSX/lines_w25/._27111_b.png  \n",
            "  inflating: lines_w25/22777_b.png   \n",
            "  inflating: __MACOSX/lines_w25/._22777_b.png  \n",
            "  inflating: lines_w25/47226_b.gt.txt  \n",
            "  inflating: __MACOSX/lines_w25/._47226_b.gt.txt  \n",
            "  inflating: lines_w25/30954_b.png   \n",
            "  inflating: __MACOSX/lines_w25/._30954_b.png  \n",
            "  inflating: lines_w25/6957_b.png    \n",
            "  inflating: __MACOSX/lines_w25/._6957_b.png  \n",
            "  inflating: lines_w25/18481_b.png   \n",
            "  inflating: __MACOSX/lines_w25/._18481_b.png  \n",
            "  inflating: lines_w25/18091_a.gt.txt  \n",
            "  inflating: __MACOSX/lines_w25/._18091_a.gt.txt  \n",
            "  inflating: lines_w25/21774_b.gt.txt  \n",
            "  inflating: __MACOSX/lines_w25/._21774_b.gt.txt  \n",
            "  inflating: lines_w25/35317_a.gt.txt  \n",
            "  inflating: __MACOSX/lines_w25/._35317_a.gt.txt  \n",
            "  inflating: lines_w25/27543_a.gt.txt  \n",
            "  inflating: __MACOSX/lines_w25/._27543_a.gt.txt  \n",
            "  inflating: lines_w25/33120_b.gt.txt  \n",
            "  inflating: __MACOSX/lines_w25/._33120_b.gt.txt  \n",
            "  inflating: lines_w25/49059_b.gt.txt  \n",
            "  inflating: __MACOSX/lines_w25/._49059_b.gt.txt  \n",
            "  inflating: lines_w25/24944_b.gt.txt  \n",
            "  inflating: __MACOSX/lines_w25/._24944_b.gt.txt  \n",
            "  inflating: lines_w25/19870_a.png   \n",
            "  inflating: __MACOSX/lines_w25/._19870_a.png  \n",
            "  inflating: lines_w25/41011_a.gt.txt  \n",
            "  inflating: __MACOSX/lines_w25/._41011_a.gt.txt  \n",
            "  inflating: lines_w25/20482_a.gt.txt  \n",
            "  inflating: __MACOSX/lines_w25/._20482_a.gt.txt  \n",
            "  inflating: lines_w25/5218_a.gt.txt  \n",
            "  inflating: __MACOSX/lines_w25/._5218_a.gt.txt  \n",
            "  inflating: lines_w25/23885_b.gt.txt  \n",
            "  inflating: __MACOSX/lines_w25/._23885_b.gt.txt  \n",
            "  inflating: lines_w25/19367_b.gt.txt  \n",
            "  inflating: __MACOSX/lines_w25/._19367_b.gt.txt  \n",
            "  inflating: lines_w25/48344_a.png   \n",
            "  inflating: __MACOSX/lines_w25/._48344_a.png  \n",
            "  inflating: lines_w25/41277_a.gt.txt  \n",
            "  inflating: __MACOSX/lines_w25/._41277_a.gt.txt  \n",
            "  inflating: lines_w25/834_a.png     \n",
            "  inflating: __MACOSX/lines_w25/._834_a.png  \n",
            "  inflating: lines_w25/20893_b.png   \n",
            "  inflating: __MACOSX/lines_w25/._20893_b.png  \n",
            "  inflating: lines_w25/18050_b.png   \n",
            "  inflating: __MACOSX/lines_w25/._18050_b.png  \n",
            "  inflating: lines_w25/16088_a.gt.txt  \n",
            "  inflating: __MACOSX/lines_w25/._16088_a.gt.txt  \n",
            "  inflating: lines_w25/27725_a.gt.txt  \n",
            "  inflating: __MACOSX/lines_w25/._27725_a.gt.txt  \n",
            "  inflating: lines_w25/33346_b.gt.txt  \n",
            "  inflating: __MACOSX/lines_w25/._33346_b.gt.txt  \n",
            "  inflating: lines_w25/19101_b.gt.txt  \n",
            "  inflating: __MACOSX/lines_w25/._19101_b.gt.txt  \n",
            "  inflating: lines_w25/11149_a.gt.txt  \n",
            "  inflating: __MACOSX/lines_w25/._11149_a.gt.txt  \n",
            "  inflating: lines_w25/34287_b.gt.txt  \n",
            "  inflating: __MACOSX/lines_w25/._34287_b.gt.txt  \n",
            "  inflating: lines_w25/40181_b.gt.txt  \n",
            "  inflating: __MACOSX/lines_w25/._40181_b.gt.txt  \n",
            "  inflating: lines_w25/3249_b.gt.txt  \n",
            "  inflating: __MACOSX/lines_w25/._3249_b.gt.txt  \n",
            "  inflating: lines_w25/48795_a.png   \n",
            "  inflating: __MACOSX/lines_w25/._48795_a.png  \n",
            "  inflating: lines_w25/21512_b.gt.txt  \n",
            "  inflating: __MACOSX/lines_w25/._21512_b.gt.txt  \n",
            "  inflating: lines_w25/35171_a.gt.txt  \n",
            "  inflating: __MACOSX/lines_w25/._35171_a.gt.txt  \n",
            "  inflating: lines_w25/47040_b.gt.txt  \n",
            "  inflating: __MACOSX/lines_w25/._47040_b.gt.txt  \n",
            "  inflating: lines_w25/34712_a.png   \n",
            "  inflating: __MACOSX/lines_w25/._34712_a.png  \n",
            "  inflating: lines_w25/7177_a.png    \n",
            "  inflating: __MACOSX/lines_w25/._7177_a.png  \n",
            "  inflating: lines_w25/31174_a.png   \n",
            "  inflating: __MACOSX/lines_w25/._31174_a.png  \n",
            "  inflating: lines_w25/2711_a.png    \n",
            "  inflating: __MACOSX/lines_w25/._2711_a.png  \n",
            "  inflating: lines_w25/24204_a.png   \n",
            "  inflating: __MACOSX/lines_w25/._24204_a.png  \n",
            "  inflating: lines_w25/21462_a.png   \n",
            "  inflating: __MACOSX/lines_w25/._21462_a.png  \n",
            "  inflating: lines_w25/4388_b.gt.txt  \n",
            "  inflating: __MACOSX/lines_w25/._4388_b.gt.txt  \n",
            "  inflating: lines_w25/22915_a.gt.txt  \n",
            "  inflating: __MACOSX/lines_w25/._22915_a.gt.txt  \n",
            "  inflating: lines_w25/26931_a.png   \n",
            "  inflating: __MACOSX/lines_w25/._26931_a.png  \n",
            "  inflating: lines_w25/45321_b.gt.txt  \n",
            "  inflating: __MACOSX/lines_w25/._45321_b.gt.txt  \n",
            "  inflating: lines_w25/7934_a.png    \n",
            "  inflating: __MACOSX/lines_w25/._7934_a.png  \n",
            "  inflating: lines_w25/31937_a.png   \n",
            "  inflating: __MACOSX/lines_w25/._31937_a.png  \n",
            "  inflating: lines_w25/23673_b.gt.txt  \n",
            "  inflating: __MACOSX/lines_w25/._23673_b.gt.txt  \n",
            "  inflating: lines_w25/37210_a.gt.txt  \n",
            "  inflating: __MACOSX/lines_w25/._37210_a.gt.txt  \n",
            "  inflating: lines_w25/23714_a.png   \n",
            "  inflating: __MACOSX/lines_w25/._23714_a.png  \n",
            "  inflating: lines_w25/26172_a.png   \n",
            "  inflating: __MACOSX/lines_w25/._26172_a.png  \n",
            "  inflating: lines_w25/33202_a.png   \n",
            "  inflating: __MACOSX/lines_w25/._33202_a.png  \n",
            "  inflating: lines_w25/36464_a.png   \n",
            "  inflating: __MACOSX/lines_w25/._36464_a.png  \n",
            "  inflating: lines_w25/5201_a.png    \n",
            "  inflating: __MACOSX/lines_w25/._5201_a.png  \n",
            "  inflating: lines_w25/1128_b.gt.txt  \n",
            "  inflating: __MACOSX/lines_w25/._1128_b.gt.txt  \n",
            "  inflating: lines_w25/38399_b.gt.txt  \n",
            "  inflating: __MACOSX/lines_w25/._38399_b.gt.txt  \n",
            "  inflating: lines_w25/9160_a.gt.txt  \n",
            "  inflating: __MACOSX/lines_w25/._9160_a.gt.txt  \n",
            "  inflating: lines_w25/49327_b.png   \n",
            "  inflating: __MACOSX/lines_w25/._49327_b.png  \n",
            "  inflating: lines_w25/22585_a.gt.txt  \n",
            "  inflating: __MACOSX/lines_w25/._22585_a.gt.txt  \n",
            "  inflating: lines_w25/13228_a.gt.txt  \n",
            "  inflating: __MACOSX/lines_w25/._13228_a.gt.txt  \n",
            "  inflating: lines_w25/21982_b.gt.txt  \n",
            "  inflating: __MACOSX/lines_w25/._21982_b.gt.txt  \n",
            "  inflating: lines_w25/8296_b.gt.txt  \n",
            "  inflating: __MACOSX/lines_w25/._8296_b.gt.txt  \n",
            "  inflating: lines_w25/1896_b.png    \n",
            "  inflating: __MACOSX/lines_w25/._1896_b.png  \n",
            "  inflating: lines_w25/25444_a.gt.txt  \n",
            "  inflating: __MACOSX/lines_w25/._25444_a.gt.txt  \n",
            "  inflating: lines_w25/31027_b.gt.txt  \n",
            "  inflating: __MACOSX/lines_w25/._31027_b.gt.txt  \n",
            "  inflating: lines_w25/28729_b.png   \n",
            "  inflating: __MACOSX/lines_w25/._28729_b.png  \n",
            "  inflating: lines_w25/37895_b.png   \n",
            "  inflating: __MACOSX/lines_w25/._37895_b.png  \n",
            "  inflating: lines_w25/18813_b.png   \n",
            "  inflating: __MACOSX/lines_w25/._18813_b.png  \n",
            "  inflating: lines_w25/26843_b.gt.txt  \n",
            "  inflating: __MACOSX/lines_w25/._26843_b.gt.txt  \n",
            "  inflating: lines_w25/43116_a.gt.txt  \n",
            "  inflating: __MACOSX/lines_w25/._43116_a.gt.txt  \n",
            "  inflating: lines_w25/25222_b.png   \n",
            "  inflating: __MACOSX/lines_w25/._25222_b.png  \n",
            "  inflating: lines_w25/20444_b.png   \n",
            "  inflating: __MACOSX/lines_w25/._20444_b.png  \n",
            "  inflating: lines_w25/35734_b.png   \n",
            "  inflating: __MACOSX/lines_w25/._35734_b.png  \n",
            "  inflating: lines_w25/6151_b.png    \n",
            "  inflating: __MACOSX/lines_w25/._6151_b.png  \n",
            "  inflating: lines_w25/30152_b.png   \n",
            "  inflating: __MACOSX/lines_w25/._30152_b.png  \n",
            "  inflating: lines_w25/33278_a.gt.txt  \n",
            "  inflating: __MACOSX/lines_w25/._33278_a.gt.txt  \n",
            "  inflating: lines_w25/3737_b.png    \n",
            "  inflating: __MACOSX/lines_w25/._3737_b.png  \n",
            "  inflating: lines_w25/27917_b.png   \n",
            "  inflating: __MACOSX/lines_w25/._27917_b.png  \n",
            "  inflating: lines_w25/49301_a.gt.txt  \n",
            "  inflating: __MACOSX/lines_w25/._49301_a.gt.txt  \n",
            "  inflating: lines_w25/2081_b.gt.txt  \n",
            "  inflating: __MACOSX/lines_w25/._2081_b.gt.txt  \n",
            "  inflating: lines_w25/41349_b.gt.txt  \n",
            "  inflating: __MACOSX/lines_w25/._41349_b.gt.txt  \n",
            "  inflating: lines_w25/11077_b.gt.txt  \n",
            "  inflating: __MACOSX/lines_w25/._11077_b.gt.txt  \n",
            "  inflating: lines_w25/5140_b.gt.txt  \n",
            "  inflating: __MACOSX/lines_w25/._5140_b.gt.txt  \n",
            "  inflating: lines_w25/28792_a.gt.txt  \n",
            "  inflating: __MACOSX/lines_w25/._28792_a.gt.txt  \n",
            "  inflating: lines_w25/46288_b.gt.txt  \n",
            "  inflating: __MACOSX/lines_w25/._46288_b.gt.txt  \n",
            "  inflating: lines_w25/3377_a.gt.txt  \n",
            "  inflating: __MACOSX/lines_w25/._3377_a.gt.txt  \n",
            "  inflating: lines_w25/17240_a.gt.txt  \n",
            "  inflating: __MACOSX/lines_w25/._17240_a.gt.txt  \n",
            "  inflating: lines_w25/29464_b.gt.txt  \n",
            "  inflating: __MACOSX/lines_w25/._29464_b.gt.txt  \n",
            "  inflating: lines_w25/23380_a.png   \n",
            "  inflating: __MACOSX/lines_w25/._23380_a.png  \n",
            "  inflating: lines_w25/33696_a.png   \n",
            "  inflating: __MACOSX/lines_w25/._33696_a.png  \n",
            "  inflating: lines_w25/5695_a.png    \n",
            "  inflating: __MACOSX/lines_w25/._5695_a.png  \n",
            "  inflating: lines_w25/10381_a.gt.txt  \n",
            "  inflating: __MACOSX/lines_w25/._10381_a.gt.txt  \n",
            "  inflating: lines_w25/19076_a.png   \n",
            "  inflating: __MACOSX/lines_w25/._19076_a.png  \n",
            "  inflating: lines_w25/39219_a.png   \n",
            "  inflating: __MACOSX/lines_w25/._39219_a.png  \n",
            "  inflating: lines_w25/34386_a.png   \n",
            "  inflating: __MACOSX/lines_w25/._34386_a.png  \n",
            "  inflating: lines_w25/2385_a.png    \n",
            "  inflating: __MACOSX/lines_w25/._2385_a.png  \n",
            "  inflating: lines_w25/24690_a.png   \n",
            "  inflating: __MACOSX/lines_w25/._24690_a.png  \n",
            "  inflating: lines_w25/19835_a.png   \n",
            "  inflating: __MACOSX/lines_w25/._19835_a.png  \n",
            "  inflating: lines_w25/15121_a.gt.txt  \n",
            "  inflating: __MACOSX/lines_w25/._15121_a.gt.txt  \n",
            "  inflating: lines_w25/48301_a.png   \n",
            "  inflating: __MACOSX/lines_w25/._48301_a.png  \n",
            "  inflating: lines_w25/1016_a.gt.txt  \n",
            "  inflating: __MACOSX/lines_w25/._1016_a.gt.txt  \n",
            "  inflating: lines_w25/41809_b.png   \n",
            "  inflating: __MACOSX/lines_w25/._41809_b.png  \n",
            "  inflating: lines_w25/7221_b.gt.txt  \n",
            "  inflating: __MACOSX/lines_w25/._7221_b.gt.txt  \n",
            "  inflating: lines_w25/13316_b.gt.txt  \n",
            "  inflating: __MACOSX/lines_w25/._13316_b.gt.txt  \n",
            "  inflating: lines_w25/43028_b.gt.txt  \n",
            "  inflating: __MACOSX/lines_w25/._43028_b.gt.txt  \n",
            "  inflating: lines_w25/12808_b.png   \n",
            "  inflating: __MACOSX/lines_w25/._12808_b.png  \n",
            "  inflating: lines_w25/6912_b.png    \n",
            "  inflating: __MACOSX/lines_w25/._6912_b.png  \n",
            "  inflating: lines_w25/30911_b.png   \n",
            "  inflating: __MACOSX/lines_w25/._30911_b.png  \n",
            "  inflating: lines_w25/32224_b.png   \n",
            "  inflating: __MACOSX/lines_w25/._32224_b.png  \n",
            "  inflating: lines_w25/1441_b.png    \n",
            "  inflating: __MACOSX/lines_w25/._1441_b.png  \n",
            "  inflating: lines_w25/39151_b.gt.txt  \n",
            "  inflating: __MACOSX/lines_w25/._39151_b.gt.txt  \n",
            "  inflating: lines_w25/37442_b.png   \n",
            "  inflating: __MACOSX/lines_w25/._37442_b.png  \n",
            "  inflating: lines_w25/4227_b.png    \n",
            "  inflating: __MACOSX/lines_w25/._4227_b.png  \n",
            "  inflating: lines_w25/22732_b.png   \n",
            "  inflating: __MACOSX/lines_w25/._22732_b.png  \n",
            "  inflating: lines_w25/27154_b.png   \n",
            "  inflating: __MACOSX/lines_w25/._27154_b.png  \n",
            "  inflating: lines_w25/31119_a.gt.txt  \n",
            "  inflating: __MACOSX/lines_w25/._31119_a.gt.txt  \n",
            "  inflating: lines_w25/13170_b.gt.txt  \n",
            "  inflating: __MACOSX/lines_w25/._13170_b.gt.txt  \n",
            "  inflating: lines_w25/7047_b.gt.txt  \n",
            "  inflating: __MACOSX/lines_w25/._7047_b.gt.txt  \n",
            "  inflating: lines_w25/40029_a.png   \n",
            "  inflating: __MACOSX/lines_w25/._40029_a.png  \n",
            "  inflating: lines_w25/39337_b.gt.txt  \n",
            "  inflating: __MACOSX/lines_w25/._39337_b.gt.txt  \n",
            "  inflating: lines_w25/26974_a.png   \n",
            "  inflating: __MACOSX/lines_w25/._26974_a.png  \n",
            "  inflating: lines_w25/2754_a.png    \n",
            "  inflating: __MACOSX/lines_w25/._2754_a.png  \n",
            "  inflating: lines_w25/31131_a.png   \n",
            "  inflating: __MACOSX/lines_w25/._31131_a.png  \n",
            "  inflating: lines_w25/13028_a.png   \n",
            "  inflating: __MACOSX/lines_w25/._13028_a.png  \n",
            "  inflating: lines_w25/7132_a.png    \n",
            "  inflating: __MACOSX/lines_w25/._7132_a.png  \n",
            "  inflating: lines_w25/34757_a.png   \n",
            "  inflating: __MACOSX/lines_w25/._34757_a.png  \n",
            "  inflating: lines_w25/21427_a.png   \n",
            "  inflating: __MACOSX/lines_w25/._21427_a.png  \n",
            "  inflating: lines_w25/24241_a.png   \n",
            "  inflating: __MACOSX/lines_w25/._24241_a.png  \n",
            "  inflating: lines_w25/18015_b.png   \n",
            "  inflating: __MACOSX/lines_w25/._18015_b.png  \n",
            "  inflating: lines_w25/871_a.png     \n",
            "  inflating: __MACOSX/lines_w25/._871_a.png  \n",
            "  inflating: lines_w25/9769_b.png    \n",
            "  inflating: __MACOSX/lines_w25/._9769_b.png  \n",
            "  inflating: lines_w25/37093_b.png   \n",
            "  inflating: __MACOSX/lines_w25/._37093_b.png  \n",
            "  inflating: lines_w25/1090_b.png    \n",
            "  inflating: __MACOSX/lines_w25/._1090_b.png  \n",
            "  inflating: lines_w25/45079_a.gt.txt  \n",
            "  inflating: __MACOSX/lines_w25/._45079_a.gt.txt  \n",
            "  inflating: lines_w25/27585_b.png   \n",
            "  inflating: __MACOSX/lines_w25/._27585_b.png  \n",
            "  inflating: lines_w25/37148_b.gt.txt  \n",
            "  inflating: __MACOSX/lines_w25/._37148_b.gt.txt  \n",
            "  inflating: lines_w25/28964_a.gt.txt  \n",
            "  inflating: __MACOSX/lines_w25/._28964_a.gt.txt  \n",
            "  inflating: lines_w25/12286_a.gt.txt  \n",
            "  inflating: __MACOSX/lines_w25/._12286_a.gt.txt  \n",
            "  inflating: lines_w25/1270_a.gt.txt  \n",
            "  inflating: __MACOSX/lines_w25/._1270_a.gt.txt  \n",
            "  inflating: lines_w25/30089_b.gt.txt  \n",
            "  inflating: __MACOSX/lines_w25/._30089_b.gt.txt  \n",
            "  inflating: lines_w25/9238_b.gt.txt  \n",
            "  inflating: __MACOSX/lines_w25/._9238_b.gt.txt  \n",
            "  inflating: lines_w25/15347_a.gt.txt  \n",
            "  inflating: __MACOSX/lines_w25/._15347_a.gt.txt  \n",
            "  inflating: lines_w25/17026_a.gt.txt  \n",
            "  inflating: __MACOSX/lines_w25/._17026_a.gt.txt  \n",
            "  inflating: lines_w25/48291_b.gt.txt  \n",
            "  inflating: __MACOSX/lines_w25/._48291_b.gt.txt  \n",
            "  inflating: lines_w25/49362_b.png   \n",
            "  inflating: __MACOSX/lines_w25/._49362_b.png  \n",
            "  inflating: lines_w25/3111_a.gt.txt  \n",
            "  inflating: __MACOSX/lines_w25/._3111_a.gt.txt  \n",
            "  inflating: lines_w25/20095_b.png   \n",
            "  inflating: __MACOSX/lines_w25/._20095_b.png  \n",
            "  inflating: lines_w25/18856_b.png   \n",
            "  inflating: __MACOSX/lines_w25/._18856_b.png  \n",
            "  inflating: lines_w25/30583_b.png   \n",
            "  inflating: __MACOSX/lines_w25/._30583_b.png  \n",
            "  inflating: lines_w25/6580_b.png    \n",
            "  inflating: __MACOSX/lines_w25/._6580_b.png  \n",
            "  inflating: lines_w25/35229_b.gt.txt  \n",
            "  inflating: __MACOSX/lines_w25/._35229_b.gt.txt  \n",
            "  inflating: lines_w25/47318_a.gt.txt  \n",
            "  inflating: __MACOSX/lines_w25/._47318_a.gt.txt  \n",
            "  inflating: lines_w25/29602_b.gt.txt  \n",
            "  inflating: __MACOSX/lines_w25/._29602_b.gt.txt  \n",
            "  inflating: lines_w25/26137_a.png   \n",
            "  inflating: __MACOSX/lines_w25/._26137_a.png  \n",
            "  inflating: lines_w25/23751_a.png   \n",
            "  inflating: __MACOSX/lines_w25/._23751_a.png  \n",
            "  inflating: lines_w25/5244_a.png    \n",
            "  inflating: __MACOSX/lines_w25/._5244_a.png  \n",
            "  inflating: lines_w25/36421_a.png   \n",
            "  inflating: __MACOSX/lines_w25/._36421_a.png  \n",
            "  inflating: lines_w25/14538_a.png   \n",
            "  inflating: __MACOSX/lines_w25/._14538_a.png  \n",
            "  inflating: lines_w25/33247_a.png   \n",
            "  inflating: __MACOSX/lines_w25/._33247_a.png  \n",
            "  inflating: lines_w25/49167_a.gt.txt  \n",
            "  inflating: __MACOSX/lines_w25/._49167_a.gt.txt  \n",
            "  inflating: lines_w25/31972_a.png   \n",
            "  inflating: __MACOSX/lines_w25/._31972_a.png  \n",
            "  inflating: lines_w25/7971_a.png    \n",
            "  inflating: __MACOSX/lines_w25/._7971_a.png  \n",
            "  inflating: lines_w25/19259_a.gt.txt  \n",
            "  inflating: __MACOSX/lines_w25/._19259_a.gt.txt  \n",
            "  inflating: lines_w25/5326_b.gt.txt  \n",
            "  inflating: __MACOSX/lines_w25/._5326_b.gt.txt  \n",
            "  inflating: lines_w25/11211_b.gt.txt  \n",
            "  inflating: __MACOSX/lines_w25/._11211_b.gt.txt  \n",
            "  inflating: lines_w25/47539_a.png   \n",
            "  inflating: __MACOSX/lines_w25/._47539_a.png  \n",
            "  inflating: lines_w25/30578_a.gt.txt  \n",
            "  inflating: __MACOSX/lines_w25/._30578_a.gt.txt  \n",
            "  inflating: lines_w25/28802_b.png   \n",
            "  inflating: __MACOSX/lines_w25/._28802_b.png  \n",
            "  inflating: lines_w25/18738_b.png   \n",
            "  inflating: __MACOSX/lines_w25/._18738_b.png  \n",
            "  inflating: lines_w25/9044_b.png    \n",
            "  inflating: __MACOSX/lines_w25/._9044_b.png  \n",
            "  inflating: lines_w25/38530_b.gt.txt  \n",
            "  inflating: __MACOSX/lines_w25/._38530_b.gt.txt  \n",
            "  inflating: lines_w25/1781_b.gt.txt  \n",
            "  inflating: __MACOSX/lines_w25/._1781_b.gt.txt  \n",
            "  inflating: lines_w25/42449_b.gt.txt  \n",
            "  inflating: __MACOSX/lines_w25/._42449_b.gt.txt  \n",
            "  inflating: lines_w25/635_a.gt.txt  \n",
            "  inflating: __MACOSX/lines_w25/._635_a.gt.txt  \n",
            "  inflating: lines_w25/12777_b.gt.txt  \n",
            "  inflating: __MACOSX/lines_w25/._12777_b.gt.txt  \n",
            "  inflating: lines_w25/6640_b.gt.txt  \n",
            "  inflating: __MACOSX/lines_w25/._6640_b.gt.txt  \n",
            "  inflating: lines_w25/45588_b.gt.txt  \n",
            "  inflating: __MACOSX/lines_w25/._45588_b.gt.txt  \n",
            "  inflating: lines_w25/17947_b.gt.txt  \n",
            "  inflating: __MACOSX/lines_w25/._17947_b.gt.txt  \n",
            "  inflating: lines_w25/3870_b.gt.txt  \n",
            "  inflating: __MACOSX/lines_w25/._3870_b.gt.txt  \n",
            "  inflating: lines_w25/40704_a.png   \n",
            "  inflating: __MACOSX/lines_w25/._40704_a.png  \n",
            "  inflating: lines_w25/45162_a.png   \n",
            "  inflating: __MACOSX/lines_w25/._45162_a.png  \n",
            "  inflating: lines_w25/14540_a.gt.txt  \n",
            "  inflating: __MACOSX/lines_w25/._14540_a.gt.txt  \n",
            "  inflating: lines_w25/10886_b.gt.txt  \n",
            "  inflating: __MACOSX/lines_w25/._10886_b.gt.txt  \n",
            "  inflating: lines_w25/16163_a.png   \n",
            "  inflating: __MACOSX/lines_w25/._16163_a.png  \n",
            "  inflating: lines_w25/2079_a.png    \n",
            "  inflating: __MACOSX/lines_w25/._2079_a.png  \n",
            "  inflating: lines_w25/13705_a.png   \n",
            "  inflating: __MACOSX/lines_w25/._13705_a.png  \n",
            "  inflating: lines_w25/13481_a.gt.txt  \n",
            "  inflating: __MACOSX/lines_w25/._13481_a.gt.txt  \n",
            "  inflating: lines_w25/45918_b.gt.txt  \n",
            "  inflating: __MACOSX/lines_w25/._45918_b.gt.txt  \n",
            "  inflating: lines_w25/16920_a.png   \n",
            "  inflating: __MACOSX/lines_w25/._16920_a.png  \n",
            "  inflating: lines_w25/34839_a.png   \n",
            "  inflating: __MACOSX/lines_w25/._34839_a.png  \n",
            "  inflating: lines_w25/37829_a.gt.txt  \n",
            "  inflating: __MACOSX/lines_w25/._37829_a.gt.txt  \n",
            "  inflating: lines_w25/11473_a.png   \n",
            "  inflating: __MACOSX/lines_w25/._11473_a.png  \n",
            "  inflating: lines_w25/5569_a.png    \n",
            "  inflating: __MACOSX/lines_w25/._5569_a.png  \n",
            "  inflating: lines_w25/14215_a.png   \n",
            "  inflating: __MACOSX/lines_w25/._14215_a.png  \n",
            "  inflating: lines_w25/28005_b.gt.txt  \n",
            "  inflating: __MACOSX/lines_w25/._28005_b.gt.txt  \n",
            "  inflating: lines_w25/16621_a.gt.txt  \n",
            "  inflating: __MACOSX/lines_w25/._16621_a.gt.txt  \n",
            "  inflating: lines_w25/45921_a.png   \n",
            "  inflating: __MACOSX/lines_w25/._45921_a.png  \n",
            "  inflating: lines_w25/47214_a.png   \n",
            "  inflating: __MACOSX/lines_w25/._47214_a.png  \n",
            "  inflating: lines_w25/2716_a.gt.txt  \n",
            "  inflating: __MACOSX/lines_w25/._2716_a.gt.txt  \n",
            "  inflating: lines_w25/42472_a.png   \n",
            "  inflating: __MACOSX/lines_w25/._42472_a.png  \n",
            "  inflating: lines_w25/43883_b.png   \n",
            "  inflating: __MACOSX/lines_w25/._43883_b.png  \n",
            "  inflating: lines_w25/13811_a.gt.txt  \n",
            "  inflating: __MACOSX/lines_w25/._13811_a.gt.txt  \n",
            "  inflating: lines_w25/4521_b.gt.txt  \n",
            "  inflating: __MACOSX/lines_w25/._4521_b.gt.txt  \n",
            "  inflating: lines_w25/10416_b.gt.txt  \n",
            "  inflating: __MACOSX/lines_w25/._10416_b.gt.txt  \n",
            "  inflating: lines_w25/7926_a.gt.txt  \n",
            "  inflating: __MACOSX/lines_w25/._7926_a.gt.txt  \n",
            "  inflating: lines_w25/28041_b.png   \n",
            "  inflating: __MACOSX/lines_w25/._28041_b.png  \n",
            "  inflating: lines_w25/10882_b.png   \n",
            "  inflating: __MACOSX/lines_w25/._10882_b.png  \n",
            "  inflating: lines_w25/4998_b.png    \n",
            "  inflating: __MACOSX/lines_w25/._4998_b.png  \n",
            "  inflating: lines_w25/38557_b.png   \n",
            "  inflating: __MACOSX/lines_w25/._38557_b.png  \n",
            "  inflating: lines_w25/40728_b.gt.txt  \n",
            "  inflating: __MACOSX/lines_w25/._40728_b.gt.txt  \n",
            "  inflating: lines_w25/9807_b.png    \n",
            "  inflating: __MACOSX/lines_w25/._9807_b.png  \n",
            "  inflating: lines_w25/48760_a.gt.txt  \n",
            "  inflating: __MACOSX/lines_w25/._48760_a.gt.txt  \n",
            "  inflating: lines_w25/32619_a.gt.txt  \n",
            "  inflating: __MACOSX/lines_w25/._32619_a.gt.txt  \n",
            "  inflating: lines_w25/10670_b.gt.txt  \n",
            "  inflating: __MACOSX/lines_w25/._10670_b.gt.txt  \n",
            "  inflating: lines_w25/44888_a.gt.txt  \n",
            "  inflating: __MACOSX/lines_w25/._44888_a.gt.txt  \n",
            "  inflating: lines_w25/4747_b.gt.txt  \n",
            "  inflating: __MACOSX/lines_w25/._4747_b.gt.txt  \n",
            "  inflating: lines_w25/29195_a.gt.txt  \n",
            "  inflating: __MACOSX/lines_w25/._29195_a.gt.txt  \n",
            "  inflating: lines_w25/18638_a.gt.txt  \n",
            "  inflating: __MACOSX/lines_w25/._18638_a.gt.txt  \n",
            "  inflating: lines_w25/39830_a.gt.txt  \n",
            "  inflating: __MACOSX/lines_w25/._39830_a.gt.txt  \n",
            "  inflating: lines_w25/43949_a.gt.txt  \n",
            "  inflating: __MACOSX/lines_w25/._43949_a.gt.txt  \n",
            "  inflating: lines_w25/48506_a.gt.txt  \n",
            "  inflating: __MACOSX/lines_w25/._48506_a.gt.txt  \n",
            "  inflating: lines_w25/3686_b.gt.txt  \n",
            "  inflating: __MACOSX/lines_w25/._3686_b.gt.txt  \n",
            "  inflating: lines_w25/31878_b.gt.txt  \n",
            "  inflating: __MACOSX/lines_w25/._31878_b.gt.txt  \n",
            "  inflating: lines_w25/8027_a.png    \n",
            "  inflating: __MACOSX/lines_w25/._8027_a.png  \n",
            "  inflating: lines_w25/29861_a.png   \n",
            "  inflating: __MACOSX/lines_w25/._29861_a.png  \n",
            "  inflating: lines_w25/28490_b.png   \n",
            "  inflating: __MACOSX/lines_w25/._28490_b.png  \n",
            "  inflating: lines_w25/28263_b.gt.txt  \n",
            "  inflating: __MACOSX/lines_w25/._28263_b.gt.txt  \n",
            "  inflating: lines_w25/38186_b.png   \n",
            "  inflating: __MACOSX/lines_w25/._38186_b.png  \n",
            "  inflating: lines_w25/35019_b.png   \n",
            "  inflating: __MACOSX/lines_w25/._35019_b.png  \n",
            "  inflating: lines_w25/12766_b.png   \n",
            "  inflating: __MACOSX/lines_w25/._12766_b.png  \n",
            "  inflating: lines_w25/17100_b.png   \n",
            "  inflating: __MACOSX/lines_w25/._17100_b.png  \n",
            "  inflating: lines_w25/12981_b.gt.txt  \n",
            "  inflating: __MACOSX/lines_w25/._12981_b.gt.txt  \n",
            "  inflating: lines_w25/20369_b.png   \n",
            "  inflating: __MACOSX/lines_w25/._20369_b.png  \n",
            "  inflating: lines_w25/46779_a.gt.txt  \n",
            "  inflating: __MACOSX/lines_w25/._46779_a.gt.txt  \n",
            "  inflating: lines_w25/34648_b.gt.txt  \n",
            "  inflating: __MACOSX/lines_w25/._34648_b.gt.txt  \n",
            "  inflating: lines_w25/11586_a.gt.txt  \n",
            "  inflating: __MACOSX/lines_w25/._11586_a.gt.txt  \n",
            "  inflating: lines_w25/2570_a.gt.txt  \n",
            "  inflating: __MACOSX/lines_w25/._2570_a.gt.txt  \n",
            "  inflating: lines_w25/44101_b.png   \n",
            "  inflating: __MACOSX/lines_w25/._44101_b.png  \n",
            "  inflating: lines_w25/41767_b.png   \n",
            "  inflating: __MACOSX/lines_w25/._41767_b.png  \n",
            "  inflating: lines_w25/15840_b.gt.txt  \n",
            "  inflating: __MACOSX/lines_w25/._15840_b.gt.txt  \n",
            "  inflating: lines_w25/1977_b.gt.txt  \n",
            "  inflating: __MACOSX/lines_w25/._1977_b.gt.txt  \n",
            "  inflating: lines_w25/33789_b.gt.txt  \n",
            "  inflating: __MACOSX/lines_w25/._33789_b.gt.txt  \n",
            "  inflating: lines_w25/16447_a.gt.txt  \n",
            "  inflating: __MACOSX/lines_w25/._16447_a.gt.txt  \n",
            "  inflating: lines_w25/43411_b.png   \n",
            "  inflating: __MACOSX/lines_w25/._43411_b.png  \n",
            "  inflating: lines_w25/46277_b.png   \n",
            "  inflating: __MACOSX/lines_w25/._46277_b.png  \n",
            "  inflating: lines_w25/14726_a.gt.txt  \n",
            "  inflating: __MACOSX/lines_w25/._14726_a.gt.txt  \n",
            "  inflating: lines_w25/44942_b.png   \n",
            "  inflating: __MACOSX/lines_w25/._44942_b.png  \n",
            "  inflating: lines_w25/8659_b.gt.txt  \n",
            "  inflating: __MACOSX/lines_w25/._8659_b.gt.txt  \n",
            "  inflating: lines_w25/48996_a.gt.txt  \n",
            "  inflating: __MACOSX/lines_w25/._48996_a.gt.txt  \n",
            "  inflating: lines_w25/27679_b.png   \n",
            "  inflating: __MACOSX/lines_w25/._27679_b.png  \n",
            "  inflating: lines_w25/32509_b.png   \n",
            "  inflating: __MACOSX/lines_w25/._32509_b.png  \n",
            "  inflating: lines_w25/15276_b.png   \n",
            "  inflating: __MACOSX/lines_w25/._15276_b.png  \n",
            "  inflating: lines_w25/10410_b.png   \n",
            "  inflating: __MACOSX/lines_w25/._10410_b.png  \n",
            "  inflating: lines_w25/9495_b.png    \n",
            "  inflating: __MACOSX/lines_w25/._9495_b.png  \n",
            "  inflating: lines_w25/36529_b.gt.txt  \n",
            "  inflating: __MACOSX/lines_w25/._36529_b.gt.txt  \n",
            "  inflating: lines_w25/17943_b.png   \n",
            "  inflating: __MACOSX/lines_w25/._17943_b.png  \n",
            "  inflating: lines_w25/3859_b.png    \n",
            "  inflating: __MACOSX/lines_w25/._3859_b.png  \n",
            "  inflating: lines_w25/44418_a.gt.txt  \n",
            "  inflating: __MACOSX/lines_w25/._44418_a.gt.txt  \n",
            "  inflating: lines_w25/38756_b.gt.txt  \n",
            "  inflating: __MACOSX/lines_w25/._38756_b.gt.txt  \n",
            "  inflating: lines_w25/8864_a.png    \n",
            "  inflating: __MACOSX/lines_w25/._8864_a.png  \n",
            "  inflating: lines_w25/39534_a.png   \n",
            "  inflating: __MACOSX/lines_w25/._39534_a.png  \n",
            "  inflating: lines_w25/29022_a.png   \n",
            "  inflating: __MACOSX/lines_w25/._29022_a.png  \n",
            "  inflating: lines_w25/11916_a.gt.txt  \n",
            "  inflating: __MACOSX/lines_w25/._11916_a.gt.txt  \n",
            "  inflating: lines_w25/6426_b.gt.txt  \n",
            "  inflating: __MACOSX/lines_w25/._6426_b.gt.txt  \n",
            "  inflating: lines_w25/12511_b.gt.txt  \n",
            "  inflating: __MACOSX/lines_w25/._12511_b.gt.txt  \n",
            "  inflating: lines_w25/5821_a.gt.txt  \n",
            "  inflating: __MACOSX/lines_w25/._5821_a.gt.txt  \n",
            "  inflating: lines_w25/453_a.gt.txt  \n",
            "  inflating: __MACOSX/lines_w25/._453_a.gt.txt  \n",
            "  inflating: lines_w25/18706_b.gt.txt  \n",
            "  inflating: __MACOSX/lines_w25/._18706_b.gt.txt  \n",
            "  inflating: lines_w25/4679_a.gt.txt  \n",
            "  inflating: __MACOSX/lines_w25/._4679_a.gt.txt  \n",
            "  inflating: lines_w25/36887_a.gt.txt  \n",
            "  inflating: __MACOSX/lines_w25/._36887_a.gt.txt  \n",
            "  inflating: lines_w25/35480_b.gt.txt  \n",
            "  inflating: __MACOSX/lines_w25/._35480_b.gt.txt  \n",
            "  inflating: lines_w25/45127_a.png   \n",
            "  inflating: __MACOSX/lines_w25/._45127_a.png  \n",
            "  inflating: lines_w25/40741_a.png   \n",
            "  inflating: __MACOSX/lines_w25/._40741_a.png  \n",
            "  inflating: lines_w25/40470_a.gt.txt  \n",
            "  inflating: __MACOSX/lines_w25/._40470_a.gt.txt  \n",
            "  inflating: lines_w25/31946_a.gt.txt  \n",
            "  inflating: __MACOSX/lines_w25/._31946_a.gt.txt  \n",
            "  inflating: lines_w25/48438_b.gt.txt  \n",
            "  inflating: __MACOSX/lines_w25/._48438_b.gt.txt  \n",
            "  inflating: lines_w25/43877_b.gt.txt  \n",
            "  inflating: __MACOSX/lines_w25/._43877_b.gt.txt  \n",
            "  inflating: lines_w25/26122_a.gt.txt  \n",
            "  inflating: __MACOSX/lines_w25/._26122_a.gt.txt  \n",
            "  inflating: lines_w25/32541_b.gt.txt  \n",
            "  inflating: __MACOSX/lines_w25/._32541_b.gt.txt  \n",
            "  inflating: lines_w25/24529_a.png   \n",
            "  inflating: __MACOSX/lines_w25/._24529_a.png  \n",
            "  inflating: lines_w25/13740_a.png   \n",
            "  inflating: __MACOSX/lines_w25/._13740_a.png  \n",
            "  inflating: lines_w25/31659_a.png   \n",
            "  inflating: __MACOSX/lines_w25/._31659_a.png  \n",
            "  inflating: lines_w25/16126_a.png   \n",
            "  inflating: __MACOSX/lines_w25/._16126_a.png  \n",
            "  inflating: lines_w25/9001_b.png    \n",
            "  inflating: __MACOSX/lines_w25/._9001_b.png  \n",
            "  inflating: lines_w25/6988_a.gt.txt  \n",
            "  inflating: __MACOSX/lines_w25/._6988_a.gt.txt  \n",
            "  inflating: lines_w25/20315_b.gt.txt  \n",
            "  inflating: __MACOSX/lines_w25/._20315_b.gt.txt  \n",
            "  inflating: lines_w25/34776_a.gt.txt  \n",
            "  inflating: __MACOSX/lines_w25/._34776_a.gt.txt  \n",
            "  inflating: lines_w25/28847_b.png   \n",
            "  inflating: __MACOSX/lines_w25/._28847_b.png  \n",
            "  inflating: lines_w25/10084_b.png   \n",
            "  inflating: __MACOSX/lines_w25/._10084_b.png  \n",
            "  inflating: lines_w25/46647_b.gt.txt  \n",
            "  inflating: __MACOSX/lines_w25/._46647_b.gt.txt  \n",
            "  inflating: lines_w25/16579_b.gt.txt  \n",
            "  inflating: __MACOSX/lines_w25/._16579_b.gt.txt  \n",
            "  inflating: lines_w25/1849_a.gt.txt  \n",
            "  inflating: __MACOSX/lines_w25/._1849_a.gt.txt  \n",
            "  inflating: lines_w25/43085_b.png   \n",
            "  inflating: __MACOSX/lines_w25/._43085_b.png  \n",
            "  inflating: lines_w25/41786_b.gt.txt  \n",
            "  inflating: __MACOSX/lines_w25/._41786_b.gt.txt  \n",
            "  inflating: lines_w25/9801_b.gt.txt  \n",
            "  inflating: __MACOSX/lines_w25/._9801_b.gt.txt  \n",
            "  inflating: lines_w25/44595_b.png   \n",
            "  inflating: __MACOSX/lines_w25/._44595_b.png  \n",
            "  inflating: lines_w25/8767_a.gt.txt  \n",
            "  inflating: __MACOSX/lines_w25/._8767_a.gt.txt  \n",
            "  inflating: lines_w25/14618_b.gt.txt  \n",
            "  inflating: __MACOSX/lines_w25/._14618_b.gt.txt  \n",
            "  inflating: lines_w25/17594_b.png   \n",
            "  inflating: __MACOSX/lines_w25/._17594_b.png  \n",
            "  inflating: lines_w25/35810_b.gt.txt  \n",
            "  inflating: __MACOSX/lines_w25/._35810_b.gt.txt  \n",
            "  inflating: lines_w25/9842_b.png    \n",
            "  inflating: __MACOSX/lines_w25/._9842_b.png  \n",
            "  inflating: lines_w25/28004_b.png   \n",
            "  inflating: __MACOSX/lines_w25/._28004_b.png  \n",
            "  inflating: lines_w25/44526_b.gt.txt  \n",
            "  inflating: __MACOSX/lines_w25/._44526_b.gt.txt  \n",
            "  inflating: lines_w25/38512_b.png   \n",
            "  inflating: __MACOSX/lines_w25/._38512_b.png  \n",
            "  inflating: lines_w25/22074_b.gt.txt  \n",
            "  inflating: __MACOSX/lines_w25/._22074_b.gt.txt  \n",
            "  inflating: lines_w25/36417_a.gt.txt  \n",
            "  inflating: __MACOSX/lines_w25/._36417_a.gt.txt  \n",
            "  inflating: lines_w25/47921_a.gt.txt  \n",
            "  inflating: __MACOSX/lines_w25/._47921_a.gt.txt  \n",
            "  inflating: lines_w25/9491_b.gt.txt  \n",
            "  inflating: __MACOSX/lines_w25/._9491_b.gt.txt  \n",
            "  inflating: lines_w25/24243_a.gt.txt  \n",
            "  inflating: __MACOSX/lines_w25/._24243_a.gt.txt  \n",
            "  inflating: lines_w25/30620_b.gt.txt  \n",
            "  inflating: __MACOSX/lines_w25/._30620_b.gt.txt  \n",
            "  inflating: lines_w25/14250_a.png   \n",
            "  inflating: __MACOSX/lines_w25/._14250_a.png  \n",
            "  inflating: lines_w25/36349_a.png   \n",
            "  inflating: __MACOSX/lines_w25/._36349_a.png  \n",
            "  inflating: lines_w25/11436_a.png   \n",
            "  inflating: __MACOSX/lines_w25/._11436_a.png  \n",
            "  inflating: lines_w25/23039_a.png   \n",
            "  inflating: __MACOSX/lines_w25/._23039_a.png  \n",
            "  inflating: lines_w25/38668_a.gt.txt  \n",
            "  inflating: __MACOSX/lines_w25/._38668_a.gt.txt  \n",
            "  inflating: lines_w25/16965_a.png   \n",
            "  inflating: __MACOSX/lines_w25/._16965_a.png  \n",
            "  inflating: lines_w25/42711_a.gt.txt  \n",
            "  inflating: __MACOSX/lines_w25/._42711_a.gt.txt  \n",
            "  inflating: lines_w25/23382_a.gt.txt  \n",
            "  inflating: __MACOSX/lines_w25/._23382_a.gt.txt  \n",
            "  inflating: lines_w25/19860_a.gt.txt  \n",
            "  inflating: __MACOSX/lines_w25/._19860_a.gt.txt  \n",
            "  inflating: lines_w25/6518_a.gt.txt  \n",
            "  inflating: __MACOSX/lines_w25/._6518_a.gt.txt  \n",
            "  inflating: lines_w25/42437_a.png   \n",
            "  inflating: __MACOSX/lines_w25/._42437_a.png  \n",
            "  inflating: lines_w25/47251_a.png   \n",
            "  inflating: __MACOSX/lines_w25/._47251_a.png  \n",
            "  inflating: lines_w25/45964_a.png   \n",
            "  inflating: __MACOSX/lines_w25/._45964_a.png  \n",
            "  inflating: lines_w25/11828_b.gt.txt  \n",
            "  inflating: __MACOSX/lines_w25/._11828_b.gt.txt  \n",
            "  inflating: lines_w25/17145_b.png   \n",
            "  inflating: __MACOSX/lines_w25/._17145_b.png  \n",
            "  inflating: lines_w25/12723_b.png   \n",
            "  inflating: __MACOSX/lines_w25/._12723_b.png  \n",
            "  inflating: lines_w25/6639_b.png    \n",
            "  inflating: __MACOSX/lines_w25/._6639_b.png  \n",
            "  inflating: lines_w25/42577_a.gt.txt  \n",
            "  inflating: __MACOSX/lines_w25/._42577_a.gt.txt  \n",
            "  inflating: lines_w25/33841_a.gt.txt  \n",
            "  inflating: __MACOSX/lines_w25/._33841_a.gt.txt  \n",
            "  inflating: lines_w25/22819_b.png   \n",
            "  inflating: __MACOSX/lines_w25/._22819_b.png  \n",
            "  inflating: lines_w25/15788_a.gt.txt  \n",
            "  inflating: __MACOSX/lines_w25/._15788_a.gt.txt  \n",
            "  inflating: lines_w25/41970_b.gt.txt  \n",
            "  inflating: __MACOSX/lines_w25/._41970_b.gt.txt  \n",
            "  inflating: lines_w25/24025_a.gt.txt  \n",
            "  inflating: __MACOSX/lines_w25/._24025_a.gt.txt  \n",
            "  inflating: lines_w25/30446_b.gt.txt  \n",
            "  inflating: __MACOSX/lines_w25/._30446_b.gt.txt  \n",
            "  inflating: lines_w25/41722_b.png   \n",
            "  inflating: __MACOSX/lines_w25/._41722_b.png  \n",
            "  inflating: lines_w25/44144_b.png   \n",
            "  inflating: __MACOSX/lines_w25/._44144_b.png  \n",
            "  inflating: lines_w25/34980_a.gt.txt  \n",
            "  inflating: __MACOSX/lines_w25/._34980_a.gt.txt  \n",
            "  inflating: lines_w25/12649_a.gt.txt  \n",
            "  inflating: __MACOSX/lines_w25/._12649_a.gt.txt  \n",
            "  inflating: lines_w25/37587_b.gt.txt  \n",
            "  inflating: __MACOSX/lines_w25/._37587_b.gt.txt  \n",
            "  inflating: lines_w25/8501_a.gt.txt  \n",
            "  inflating: __MACOSX/lines_w25/._8501_a.gt.txt  \n",
            "  inflating: lines_w25/47680_a.png   \n",
            "  inflating: __MACOSX/lines_w25/._47680_a.png  \n",
            "  inflating: lines_w25/17879_a.gt.txt  \n",
            "  inflating: __MACOSX/lines_w25/._17879_a.gt.txt  \n",
            "  inflating: lines_w25/43681_b.gt.txt  \n",
            "  inflating: __MACOSX/lines_w25/._43681_b.gt.txt  \n",
            "  inflating: lines_w25/22212_b.gt.txt  \n",
            "  inflating: __MACOSX/lines_w25/._22212_b.gt.txt  \n",
            "  inflating: lines_w25/36671_a.gt.txt  \n",
            "  inflating: __MACOSX/lines_w25/._36671_a.gt.txt  \n",
            "  inflating: lines_w25/29824_a.png   \n",
            "  inflating: __MACOSX/lines_w25/._29824_a.png  \n",
            "  inflating: lines_w25/36798_a.png   \n",
            "  inflating: __MACOSX/lines_w25/._36798_a.png  \n",
            "  inflating: lines_w25/14681_a.png   \n",
            "  inflating: __MACOSX/lines_w25/._14681_a.png  \n",
            "  inflating: lines_w25/44740_b.gt.txt  \n",
            "  inflating: __MACOSX/lines_w25/._44740_b.gt.txt  \n",
            "  inflating: lines_w25/7488_b.gt.txt  \n",
            "  inflating: __MACOSX/lines_w25/._7488_b.gt.txt  \n",
            "  inflating: lines_w25/8062_a.png    \n",
            "  inflating: __MACOSX/lines_w25/._8062_a.png  \n",
            "  inflating: lines_w25/37917_b.gt.txt  \n",
            "  inflating: __MACOSX/lines_w25/._37917_b.gt.txt  \n",
            "  inflating: lines_w25/46421_b.gt.txt  \n",
            "  inflating: __MACOSX/lines_w25/._46421_b.gt.txt  \n",
            "  inflating: lines_w25/19696_a.gt.txt  \n",
            "  inflating: __MACOSX/lines_w25/._19696_a.gt.txt  \n",
            "  inflating: lines_w25/39571_a.png   \n",
            "  inflating: __MACOSX/lines_w25/._39571_a.png  \n",
            "  inflating: lines_w25/20173_b.gt.txt  \n",
            "  inflating: __MACOSX/lines_w25/._20173_b.gt.txt  \n",
            "  inflating: lines_w25/34510_a.gt.txt  \n",
            "  inflating: __MACOSX/lines_w25/._34510_a.gt.txt  \n",
            "  inflating: lines_w25/29067_a.png   \n",
            "  inflating: __MACOSX/lines_w25/._29067_a.png  \n",
            "  inflating: lines_w25/8821_a.png    \n",
            "  inflating: __MACOSX/lines_w25/._8821_a.png  \n",
            "  inflating: lines_w25/45826_a.gt.txt  \n",
            "  inflating: __MACOSX/lines_w25/._45826_a.gt.txt  \n",
            "  inflating: lines_w25/31288_a.png   \n",
            "  inflating: __MACOSX/lines_w25/._31288_a.png  \n",
            "  inflating: lines_w25/13391_a.png   \n",
            "  inflating: __MACOSX/lines_w25/._13391_a.png  \n",
            "  inflating: lines_w25/2628_b.gt.txt  \n",
            "  inflating: __MACOSX/lines_w25/._2628_b.gt.txt  \n",
            "  inflating: lines_w25/48469_a.png   \n",
            "  inflating: __MACOSX/lines_w25/._48469_a.png  \n",
            "  inflating: lines_w25/40390_a.png   \n",
            "  inflating: __MACOSX/lines_w25/._40390_a.png  \n",
            "  inflating: lines_w25/7818_b.gt.txt  \n",
            "  inflating: __MACOSX/lines_w25/._7818_b.gt.txt  \n",
            "  inflating: lines_w25/21285_a.gt.txt  \n",
            "  inflating: __MACOSX/lines_w25/._21285_a.gt.txt  \n",
            "  inflating: lines_w25/44907_b.png   \n",
            "  inflating: __MACOSX/lines_w25/._44907_b.png  \n",
            "  inflating: lines_w25/46232_b.png   \n",
            "  inflating: __MACOSX/lines_w25/._46232_b.png  \n",
            "  inflating: lines_w25/10528_a.gt.txt  \n",
            "  inflating: __MACOSX/lines_w25/._10528_a.gt.txt  \n",
            "  inflating: lines_w25/43454_b.png   \n",
            "  inflating: __MACOSX/lines_w25/._43454_b.png  \n",
            "  inflating: lines_w25/18560_b.gt.txt  \n",
            "  inflating: __MACOSX/lines_w25/._18560_b.gt.txt  \n",
            "  inflating: lines_w25/26344_a.gt.txt  \n",
            "  inflating: __MACOSX/lines_w25/._26344_a.gt.txt  \n",
            "  inflating: lines_w25/32727_b.gt.txt  \n",
            "  inflating: __MACOSX/lines_w25/._32727_b.gt.txt  \n",
            "  inflating: lines_w25/17906_b.png   \n",
            "  inflating: __MACOSX/lines_w25/._17906_b.png  \n",
            "  inflating: lines_w25/38980_b.png   \n",
            "  inflating: __MACOSX/lines_w25/._38980_b.png  \n",
            "  inflating: lines_w25/10455_b.png   \n",
            "  inflating: __MACOSX/lines_w25/._10455_b.png  \n",
            "  inflating: lines_w25/1329_b.png    \n",
            "  inflating: __MACOSX/lines_w25/._1329_b.png  \n",
            "  inflating: lines_w25/15233_b.png   \n",
            "  inflating: __MACOSX/lines_w25/._15233_b.png  \n",
            "  inflating: lines_w25/8991_a.gt.txt  \n",
            "  inflating: __MACOSX/lines_w25/._8991_a.gt.txt  \n",
            "  inflating: lines_w25/40616_a.gt.txt  \n",
            "  inflating: __MACOSX/lines_w25/._40616_a.gt.txt  \n",
            "  inflating: lines_w25/16100_b.png   \n",
            "  inflating: __MACOSX/lines_w25/._16100_b.png  \n",
            "  inflating: lines_w25/13766_b.png   \n",
            "  inflating: __MACOSX/lines_w25/._13766_b.png  \n",
            "  inflating: lines_w25/34019_b.png   \n",
            "  inflating: __MACOSX/lines_w25/._34019_b.png  \n",
            "  inflating: lines_w25/21369_b.png   \n",
            "  inflating: __MACOSX/lines_w25/._21369_b.png  \n",
            "  inflating: lines_w25/46778_a.gt.txt  \n",
            "  inflating: __MACOSX/lines_w25/._46778_a.gt.txt  \n",
            "  inflating: lines_w25/12980_b.gt.txt  \n",
            "  inflating: __MACOSX/lines_w25/._12980_b.gt.txt  \n",
            "  inflating: lines_w25/29490_b.png   \n",
            "  inflating: __MACOSX/lines_w25/._29490_b.png  \n",
            "  inflating: lines_w25/28262_b.gt.txt  \n",
            "  inflating: __MACOSX/lines_w25/._28262_b.gt.txt  \n",
            "  inflating: lines_w25/39186_b.png   \n",
            "  inflating: __MACOSX/lines_w25/._39186_b.png  \n",
            "  inflating: lines_w25/11587_a.gt.txt  \n",
            "  inflating: __MACOSX/lines_w25/._11587_a.gt.txt  \n",
            "  inflating: lines_w25/34649_b.gt.txt  \n",
            "  inflating: __MACOSX/lines_w25/._34649_b.gt.txt  \n",
            "  inflating: lines_w25/40767_b.png   \n",
            "  inflating: __MACOSX/lines_w25/._40767_b.png  \n",
            "  inflating: lines_w25/45101_b.png   \n",
            "  inflating: __MACOSX/lines_w25/._45101_b.png  \n",
            "  inflating: lines_w25/15841_b.gt.txt  \n",
            "  inflating: __MACOSX/lines_w25/._15841_b.gt.txt  \n",
            "  inflating: lines_w25/2571_a.gt.txt  \n",
            "  inflating: __MACOSX/lines_w25/._2571_a.gt.txt  \n",
            "  inflating: lines_w25/16446_a.gt.txt  \n",
            "  inflating: __MACOSX/lines_w25/._16446_a.gt.txt  \n",
            "  inflating: lines_w25/33788_b.gt.txt  \n",
            "  inflating: __MACOSX/lines_w25/._33788_b.gt.txt  \n",
            "  inflating: lines_w25/1976_b.gt.txt  \n",
            "  inflating: __MACOSX/lines_w25/._1976_b.gt.txt  \n",
            "  inflating: lines_w25/44889_a.gt.txt  \n",
            "  inflating: __MACOSX/lines_w25/._44889_a.gt.txt  \n",
            "  inflating: lines_w25/10671_b.gt.txt  \n",
            "  inflating: __MACOSX/lines_w25/._10671_b.gt.txt  \n",
            "  inflating: lines_w25/18639_a.gt.txt  \n",
            "  inflating: __MACOSX/lines_w25/._18639_a.gt.txt  \n",
            "  inflating: lines_w25/4746_b.gt.txt  \n",
            "  inflating: __MACOSX/lines_w25/._4746_b.gt.txt  \n",
            "  inflating: lines_w25/29194_a.gt.txt  \n",
            "  inflating: __MACOSX/lines_w25/._29194_a.gt.txt  \n",
            "  inflating: lines_w25/43948_a.gt.txt  \n",
            "  inflating: __MACOSX/lines_w25/._43948_a.gt.txt  \n",
            "  inflating: lines_w25/48507_a.gt.txt  \n",
            "  inflating: __MACOSX/lines_w25/._48507_a.gt.txt  \n",
            "  inflating: lines_w25/39831_a.gt.txt  \n",
            "  inflating: __MACOSX/lines_w25/._39831_a.gt.txt  \n",
            "  inflating: lines_w25/28861_a.png   \n",
            "  inflating: __MACOSX/lines_w25/._28861_a.png  \n",
            "  inflating: lines_w25/31879_b.gt.txt  \n",
            "  inflating: __MACOSX/lines_w25/._31879_b.gt.txt  \n",
            "  inflating: lines_w25/3687_b.gt.txt  \n",
            "  inflating: __MACOSX/lines_w25/._3687_b.gt.txt  \n",
            "  inflating: lines_w25/9027_a.png    \n",
            "  inflating: __MACOSX/lines_w25/._9027_a.png  \n",
            "  inflating: lines_w25/38757_b.gt.txt  \n",
            "  inflating: __MACOSX/lines_w25/._38757_b.gt.txt  \n",
            "  inflating: lines_w25/38534_a.png   \n",
            "  inflating: __MACOSX/lines_w25/._38534_a.png  \n",
            "  inflating: lines_w25/28022_a.png   \n",
            "  inflating: __MACOSX/lines_w25/._28022_a.png  \n",
            "  inflating: lines_w25/9864_a.png    \n",
            "  inflating: __MACOSX/lines_w25/._9864_a.png  \n",
            "  inflating: lines_w25/6427_b.gt.txt  \n",
            "  inflating: __MACOSX/lines_w25/._6427_b.gt.txt  \n",
            "  inflating: lines_w25/11917_a.gt.txt  \n",
            "  inflating: __MACOSX/lines_w25/._11917_a.gt.txt  \n",
            "  inflating: lines_w25/5820_a.gt.txt  \n",
            "  inflating: __MACOSX/lines_w25/._5820_a.gt.txt  \n",
            "  inflating: lines_w25/452_a.gt.txt  \n",
            "  inflating: __MACOSX/lines_w25/._452_a.gt.txt  \n",
            "  inflating: lines_w25/12510_b.gt.txt  \n",
            "  inflating: __MACOSX/lines_w25/._12510_b.gt.txt  \n",
            "  inflating: lines_w25/8658_b.gt.txt  \n",
            "  inflating: __MACOSX/lines_w25/._8658_b.gt.txt  \n",
            "  inflating: lines_w25/45942_b.png   \n",
            "  inflating: __MACOSX/lines_w25/._45942_b.png  \n",
            "  inflating: lines_w25/47277_b.png   \n",
            "  inflating: __MACOSX/lines_w25/._47277_b.png  \n",
            "  inflating: lines_w25/14727_a.gt.txt  \n",
            "  inflating: __MACOSX/lines_w25/._14727_a.gt.txt  \n",
            "  inflating: lines_w25/42411_b.png   \n",
            "  inflating: __MACOSX/lines_w25/._42411_b.png  \n",
            "  inflating: lines_w25/48997_a.gt.txt  \n",
            "  inflating: __MACOSX/lines_w25/._48997_a.gt.txt  \n",
            "  inflating: lines_w25/36528_b.gt.txt  \n",
            "  inflating: __MACOSX/lines_w25/._36528_b.gt.txt  \n",
            "  inflating: lines_w25/8495_b.png    \n",
            "  inflating: __MACOSX/lines_w25/._8495_b.png  \n",
            "  inflating: lines_w25/16943_b.png   \n",
            "  inflating: __MACOSX/lines_w25/._16943_b.png  \n",
            "  inflating: lines_w25/2859_b.png    \n",
            "  inflating: __MACOSX/lines_w25/._2859_b.png  \n",
            "  inflating: lines_w25/26679_b.png   \n",
            "  inflating: __MACOSX/lines_w25/._26679_b.png  \n",
            "  inflating: lines_w25/11410_b.png   \n",
            "  inflating: __MACOSX/lines_w25/._11410_b.png  \n",
            "  inflating: lines_w25/14276_b.png   \n",
            "  inflating: __MACOSX/lines_w25/._14276_b.png  \n",
            "  inflating: lines_w25/33509_b.png   \n",
            "  inflating: __MACOSX/lines_w25/._33509_b.png  \n",
            "  inflating: lines_w25/44419_a.gt.txt  \n",
            "  inflating: __MACOSX/lines_w25/._44419_a.gt.txt  \n",
            "  inflating: lines_w25/17946_b.gt.txt  \n",
            "  inflating: __MACOSX/lines_w25/._17946_b.gt.txt  \n",
            "  inflating: lines_w25/14541_a.gt.txt  \n",
            "  inflating: __MACOSX/lines_w25/._14541_a.gt.txt  \n",
            "  inflating: lines_w25/3871_b.gt.txt  \n",
            "  inflating: __MACOSX/lines_w25/._3871_b.gt.txt  \n",
            "  inflating: lines_w25/44162_a.png   \n",
            "  inflating: __MACOSX/lines_w25/._44162_a.png  \n",
            "  inflating: lines_w25/41704_a.png   \n",
            "  inflating: __MACOSX/lines_w25/._41704_a.png  \n",
            "  inflating: lines_w25/10887_b.gt.txt  \n",
            "  inflating: __MACOSX/lines_w25/._10887_b.gt.txt  \n",
            "  inflating: lines_w25/13480_a.gt.txt  \n",
            "  inflating: __MACOSX/lines_w25/._13480_a.gt.txt  \n",
            "  inflating: lines_w25/12705_a.png   \n",
            "  inflating: __MACOSX/lines_w25/._12705_a.png  \n",
            "  inflating: lines_w25/17163_a.png   \n",
            "  inflating: __MACOSX/lines_w25/._17163_a.png  \n",
            "  inflating: lines_w25/3079_a.png    \n",
            "  inflating: __MACOSX/lines_w25/._3079_a.png  \n",
            "  inflating: lines_w25/8044_b.png    \n",
            "  inflating: __MACOSX/lines_w25/._8044_b.png  \n",
            "  inflating: lines_w25/19738_b.png   \n",
            "  inflating: __MACOSX/lines_w25/._19738_b.png  \n",
            "  inflating: lines_w25/30579_a.gt.txt  \n",
            "  inflating: __MACOSX/lines_w25/._30579_a.gt.txt  \n",
            "  inflating: lines_w25/29802_b.png   \n",
            "  inflating: __MACOSX/lines_w25/._29802_b.png  \n",
            "  inflating: lines_w25/42448_b.gt.txt  \n",
            "  inflating: __MACOSX/lines_w25/._42448_b.gt.txt  \n",
            "  inflating: lines_w25/38531_b.gt.txt  \n",
            "  inflating: __MACOSX/lines_w25/._38531_b.gt.txt  \n",
            "  inflating: lines_w25/1780_b.gt.txt  \n",
            "  inflating: __MACOSX/lines_w25/._1780_b.gt.txt  \n",
            "  inflating: lines_w25/12776_b.gt.txt  \n",
            "  inflating: __MACOSX/lines_w25/._12776_b.gt.txt  \n",
            "  inflating: lines_w25/634_a.gt.txt  \n",
            "  inflating: __MACOSX/lines_w25/._634_a.gt.txt  \n",
            "  inflating: lines_w25/45589_b.gt.txt  \n",
            "  inflating: __MACOSX/lines_w25/._45589_b.gt.txt  \n",
            "  inflating: lines_w25/6641_b.gt.txt  \n",
            "  inflating: __MACOSX/lines_w25/._6641_b.gt.txt  \n",
            "  inflating: lines_w25/4520_b.gt.txt  \n",
            "  inflating: __MACOSX/lines_w25/._4520_b.gt.txt  \n",
            "  inflating: lines_w25/42883_b.png   \n",
            "  inflating: __MACOSX/lines_w25/._42883_b.png  \n",
            "  inflating: lines_w25/13810_a.gt.txt  \n",
            "  inflating: __MACOSX/lines_w25/._13810_a.gt.txt  \n",
            "  inflating: lines_w25/7927_a.gt.txt  \n",
            "  inflating: __MACOSX/lines_w25/._7927_a.gt.txt  \n",
            "  inflating: lines_w25/10417_b.gt.txt  \n",
            "  inflating: __MACOSX/lines_w25/._10417_b.gt.txt  \n",
            "  inflating: lines_w25/8807_b.png    \n",
            "  inflating: __MACOSX/lines_w25/._8807_b.png  \n",
            "  inflating: lines_w25/29041_b.png   \n",
            "  inflating: __MACOSX/lines_w25/._29041_b.png  \n",
            "  inflating: lines_w25/11882_b.png   \n",
            "  inflating: __MACOSX/lines_w25/._11882_b.png  \n",
            "  inflating: lines_w25/5998_b.png    \n",
            "  inflating: __MACOSX/lines_w25/._5998_b.png  \n",
            "  inflating: lines_w25/39557_b.png   \n",
            "  inflating: __MACOSX/lines_w25/._39557_b.png  \n",
            "  inflating: lines_w25/40729_b.gt.txt  \n",
            "  inflating: __MACOSX/lines_w25/._40729_b.gt.txt  \n",
            "  inflating: lines_w25/32618_a.gt.txt  \n",
            "  inflating: __MACOSX/lines_w25/._32618_a.gt.txt  \n",
            "  inflating: lines_w25/48761_a.gt.txt  \n",
            "  inflating: __MACOSX/lines_w25/._48761_a.gt.txt  \n",
            "  inflating: lines_w25/45919_b.gt.txt  \n",
            "  inflating: __MACOSX/lines_w25/._45919_b.gt.txt  \n",
            "  inflating: lines_w25/15215_a.png   \n",
            "  inflating: __MACOSX/lines_w25/._15215_a.png  \n",
            "  inflating: lines_w25/37828_a.gt.txt  \n",
            "  inflating: __MACOSX/lines_w25/._37828_a.gt.txt  \n",
            "  inflating: lines_w25/10473_a.png   \n",
            "  inflating: __MACOSX/lines_w25/._10473_a.png  \n",
            "  inflating: lines_w25/4569_a.png    \n",
            "  inflating: __MACOSX/lines_w25/._4569_a.png  \n",
            "  inflating: lines_w25/28004_b.gt.txt  \n",
            "  inflating: __MACOSX/lines_w25/._28004_b.gt.txt  \n",
            "  inflating: lines_w25/35839_a.png   \n",
            "  inflating: __MACOSX/lines_w25/._35839_a.png  \n",
            "  inflating: lines_w25/17920_a.png   \n",
            "  inflating: __MACOSX/lines_w25/._17920_a.png  \n",
            "  inflating: lines_w25/16620_a.gt.txt  \n",
            "  inflating: __MACOSX/lines_w25/._16620_a.gt.txt  \n",
            "  inflating: lines_w25/43472_a.png   \n",
            "  inflating: __MACOSX/lines_w25/._43472_a.png  \n",
            "  inflating: lines_w25/46214_a.png   \n",
            "  inflating: __MACOSX/lines_w25/._46214_a.png  \n",
            "  inflating: lines_w25/2717_a.gt.txt  \n",
            "  inflating: __MACOSX/lines_w25/._2717_a.gt.txt  \n",
            "  inflating: lines_w25/44921_a.png   \n",
            "  inflating: __MACOSX/lines_w25/._44921_a.png  \n",
            "  inflating: lines_w25/8500_a.gt.txt  \n",
            "  inflating: __MACOSX/lines_w25/._8500_a.gt.txt  \n",
            "  inflating: lines_w25/46680_a.png   \n",
            "  inflating: __MACOSX/lines_w25/._46680_a.png  \n",
            "  inflating: lines_w25/43680_b.gt.txt  \n",
            "  inflating: __MACOSX/lines_w25/._43680_b.gt.txt  \n",
            "  inflating: lines_w25/17878_a.gt.txt  \n",
            "  inflating: __MACOSX/lines_w25/._17878_a.gt.txt  \n",
            "  inflating: lines_w25/22213_b.gt.txt  \n",
            "  inflating: __MACOSX/lines_w25/._22213_b.gt.txt  \n",
            "  inflating: lines_w25/36670_a.gt.txt  \n",
            "  inflating: __MACOSX/lines_w25/._36670_a.gt.txt  \n",
            "  inflating: lines_w25/7489_b.gt.txt  \n",
            "  inflating: __MACOSX/lines_w25/._7489_b.gt.txt  \n",
            "  inflating: lines_w25/9062_a.png    \n",
            "  inflating: __MACOSX/lines_w25/._9062_a.png  \n",
            "  inflating: lines_w25/15681_a.png   \n",
            "  inflating: __MACOSX/lines_w25/._15681_a.png  \n",
            "  inflating: lines_w25/28824_a.png   \n",
            "  inflating: __MACOSX/lines_w25/._28824_a.png  \n",
            "  inflating: lines_w25/37798_a.png   \n",
            "  inflating: __MACOSX/lines_w25/._37798_a.png  \n",
            "  inflating: lines_w25/44741_b.gt.txt  \n",
            "  inflating: __MACOSX/lines_w25/._44741_b.gt.txt  \n",
            "  inflating: lines_w25/33840_a.gt.txt  \n",
            "  inflating: __MACOSX/lines_w25/._33840_a.gt.txt  \n",
            "  inflating: lines_w25/23819_b.png   \n",
            "  inflating: __MACOSX/lines_w25/._23819_b.png  \n",
            "  inflating: lines_w25/13723_b.png   \n",
            "  inflating: __MACOSX/lines_w25/._13723_b.png  \n",
            "  inflating: lines_w25/7639_b.png    \n",
            "  inflating: __MACOSX/lines_w25/._7639_b.png  \n",
            "  inflating: lines_w25/16145_b.png   \n",
            "  inflating: __MACOSX/lines_w25/._16145_b.png  \n",
            "  inflating: lines_w25/42576_a.gt.txt  \n",
            "  inflating: __MACOSX/lines_w25/._42576_a.gt.txt  \n",
            "  inflating: lines_w25/24024_a.gt.txt  \n",
            "  inflating: __MACOSX/lines_w25/._24024_a.gt.txt  \n",
            "  inflating: lines_w25/30447_b.gt.txt  \n",
            "  inflating: __MACOSX/lines_w25/._30447_b.gt.txt  \n",
            "  inflating: lines_w25/41971_b.gt.txt  \n",
            "  inflating: __MACOSX/lines_w25/._41971_b.gt.txt  \n",
            "  inflating: lines_w25/15789_a.gt.txt  \n",
            "  inflating: __MACOSX/lines_w25/._15789_a.gt.txt  \n",
            "  inflating: lines_w25/34981_a.gt.txt  \n",
            "  inflating: __MACOSX/lines_w25/._34981_a.gt.txt  \n",
            "  inflating: lines_w25/45144_b.png   \n",
            "  inflating: __MACOSX/lines_w25/._45144_b.png  \n",
            "  inflating: lines_w25/40722_b.png   \n",
            "  inflating: __MACOSX/lines_w25/._40722_b.png  \n",
            "  inflating: lines_w25/37586_b.gt.txt  \n",
            "  inflating: __MACOSX/lines_w25/._37586_b.gt.txt  \n",
            "  inflating: lines_w25/12648_a.gt.txt  \n",
            "  inflating: __MACOSX/lines_w25/._12648_a.gt.txt  \n",
            "  inflating: lines_w25/48898_b.png   \n",
            "  inflating: __MACOSX/lines_w25/._48898_b.png  \n",
            "  inflating: lines_w25/10529_a.gt.txt  \n",
            "  inflating: __MACOSX/lines_w25/._10529_a.gt.txt  \n",
            "  inflating: lines_w25/42454_b.png   \n",
            "  inflating: __MACOSX/lines_w25/._42454_b.png  \n",
            "  inflating: lines_w25/47232_b.png   \n",
            "  inflating: __MACOSX/lines_w25/._47232_b.png  \n",
            "  inflating: lines_w25/21284_a.gt.txt  \n",
            "  inflating: __MACOSX/lines_w25/._21284_a.gt.txt  \n",
            "  inflating: lines_w25/7819_b.gt.txt  \n",
            "  inflating: __MACOSX/lines_w25/._7819_b.gt.txt  \n",
            "  inflating: lines_w25/45907_b.png   \n",
            "  inflating: __MACOSX/lines_w25/._45907_b.png  \n",
            "  inflating: lines_w25/18561_b.gt.txt  \n",
            "  inflating: __MACOSX/lines_w25/._18561_b.gt.txt  \n",
            "  inflating: lines_w25/39980_b.png   \n",
            "  inflating: __MACOSX/lines_w25/._39980_b.png  \n",
            "  inflating: lines_w25/14233_b.png   \n",
            "  inflating: __MACOSX/lines_w25/._14233_b.png  \n",
            "  inflating: lines_w25/11455_b.png   \n",
            "  inflating: __MACOSX/lines_w25/._11455_b.png  \n",
            "  inflating: lines_w25/26345_a.gt.txt  \n",
            "  inflating: __MACOSX/lines_w25/._26345_a.gt.txt  \n",
            "  inflating: lines_w25/32726_b.gt.txt  \n",
            "  inflating: __MACOSX/lines_w25/._32726_b.gt.txt  \n",
            "  inflating: lines_w25/16906_b.png   \n",
            "  inflating: __MACOSX/lines_w25/._16906_b.png  \n",
            "  inflating: lines_w25/40617_a.gt.txt  \n",
            "  inflating: __MACOSX/lines_w25/._40617_a.gt.txt  \n",
            "  inflating: lines_w25/8990_a.gt.txt  \n",
            "  inflating: __MACOSX/lines_w25/._8990_a.gt.txt  \n",
            "  inflating: lines_w25/46420_b.gt.txt  \n",
            "  inflating: __MACOSX/lines_w25/._46420_b.gt.txt  \n",
            "  inflating: lines_w25/19697_a.gt.txt  \n",
            "  inflating: __MACOSX/lines_w25/._19697_a.gt.txt  \n",
            "  inflating: lines_w25/37916_b.gt.txt  \n",
            "  inflating: __MACOSX/lines_w25/._37916_b.gt.txt  \n",
            "  inflating: lines_w25/739_b.png     \n",
            "  inflating: __MACOSX/lines_w25/._739_b.png  \n",
            "  inflating: lines_w25/9821_a.png    \n",
            "  inflating: __MACOSX/lines_w25/._9821_a.png  \n",
            "  inflating: lines_w25/12391_a.png   \n",
            "  inflating: __MACOSX/lines_w25/._12391_a.png  \n",
            "  inflating: lines_w25/30288_a.png   \n",
            "  inflating: __MACOSX/lines_w25/._30288_a.png  \n",
            "  inflating: lines_w25/45827_a.gt.txt  \n",
            "  inflating: __MACOSX/lines_w25/._45827_a.gt.txt  \n",
            "  inflating: lines_w25/20172_b.gt.txt  \n",
            "  inflating: __MACOSX/lines_w25/._20172_b.gt.txt  \n",
            "  inflating: lines_w25/34511_a.gt.txt  \n",
            "  inflating: __MACOSX/lines_w25/._34511_a.gt.txt  \n",
            "  inflating: lines_w25/38571_a.png   \n",
            "  inflating: __MACOSX/lines_w25/._38571_a.png  \n",
            "  inflating: lines_w25/28067_a.png   \n",
            "  inflating: __MACOSX/lines_w25/._28067_a.png  \n",
            "  inflating: lines_w25/2629_b.gt.txt  \n",
            "  inflating: __MACOSX/lines_w25/._2629_b.gt.txt  \n",
            "  inflating: lines_w25/41390_a.png   \n",
            "  inflating: __MACOSX/lines_w25/._41390_a.png  \n",
            "  inflating: lines_w25/20314_b.gt.txt  \n",
            "  inflating: __MACOSX/lines_w25/._20314_b.gt.txt  \n",
            "  inflating: lines_w25/34777_a.gt.txt  \n",
            "  inflating: __MACOSX/lines_w25/._34777_a.gt.txt  \n",
            "  inflating: lines_w25/6989_a.gt.txt  \n",
            "  inflating: __MACOSX/lines_w25/._6989_a.gt.txt  \n",
            "  inflating: lines_w25/29847_b.png   \n",
            "  inflating: __MACOSX/lines_w25/._29847_b.png  \n",
            "  inflating: lines_w25/11084_b.png   \n",
            "  inflating: __MACOSX/lines_w25/._11084_b.png  \n",
            "  inflating: lines_w25/8001_b.png    \n",
            "  inflating: __MACOSX/lines_w25/._8001_b.png  \n",
            "  inflating: lines_w25/46646_b.gt.txt  \n",
            "  inflating: __MACOSX/lines_w25/._46646_b.gt.txt  \n",
            "  inflating: lines_w25/1848_a.gt.txt  \n",
            "  inflating: __MACOSX/lines_w25/._1848_a.gt.txt  \n",
            "  inflating: lines_w25/42085_b.png   \n",
            "  inflating: __MACOSX/lines_w25/._42085_b.png  \n",
            "  inflating: lines_w25/16578_b.gt.txt  \n",
            "  inflating: __MACOSX/lines_w25/._16578_b.gt.txt  \n",
            "  inflating: lines_w25/9800_b.gt.txt  \n",
            "  inflating: __MACOSX/lines_w25/._9800_b.gt.txt  \n",
            "  inflating: lines_w25/41787_b.gt.txt  \n",
            "  inflating: __MACOSX/lines_w25/._41787_b.gt.txt  \n",
            "  inflating: lines_w25/36886_a.gt.txt  \n",
            "  inflating: __MACOSX/lines_w25/._36886_a.gt.txt  \n",
            "  inflating: lines_w25/4678_a.gt.txt  \n",
            "  inflating: __MACOSX/lines_w25/._4678_a.gt.txt  \n",
            "  inflating: lines_w25/18707_b.gt.txt  \n",
            "  inflating: __MACOSX/lines_w25/._18707_b.gt.txt  \n",
            "  inflating: lines_w25/35481_b.gt.txt  \n",
            "  inflating: __MACOSX/lines_w25/._35481_b.gt.txt  \n",
            "  inflating: lines_w25/41741_a.png   \n",
            "  inflating: __MACOSX/lines_w25/._41741_a.png  \n",
            "  inflating: lines_w25/44127_a.png   \n",
            "  inflating: __MACOSX/lines_w25/._44127_a.png  \n",
            "  inflating: lines_w25/31947_a.gt.txt  \n",
            "  inflating: __MACOSX/lines_w25/._31947_a.gt.txt  \n",
            "  inflating: lines_w25/40471_a.gt.txt  \n",
            "  inflating: __MACOSX/lines_w25/._40471_a.gt.txt  \n",
            "  inflating: lines_w25/25529_a.png   \n",
            "  inflating: __MACOSX/lines_w25/._25529_a.png  \n",
            "  inflating: lines_w25/26123_a.gt.txt  \n",
            "  inflating: __MACOSX/lines_w25/._26123_a.gt.txt  \n",
            "  inflating: lines_w25/32540_b.gt.txt  \n",
            "  inflating: __MACOSX/lines_w25/._32540_b.gt.txt  \n",
            "  inflating: lines_w25/17126_a.png   \n",
            "  inflating: __MACOSX/lines_w25/._17126_a.png  \n",
            "  inflating: lines_w25/30659_a.png   \n",
            "  inflating: __MACOSX/lines_w25/._30659_a.png  \n",
            "  inflating: lines_w25/12740_a.png   \n",
            "  inflating: __MACOSX/lines_w25/._12740_a.png  \n",
            "  inflating: lines_w25/48439_b.gt.txt  \n",
            "  inflating: __MACOSX/lines_w25/._48439_b.gt.txt  \n",
            "  inflating: lines_w25/43876_b.gt.txt  \n",
            "  inflating: __MACOSX/lines_w25/._43876_b.gt.txt  \n",
            "  inflating: lines_w25/9490_b.gt.txt  \n",
            "  inflating: __MACOSX/lines_w25/._9490_b.gt.txt  \n",
            "  inflating: lines_w25/24242_a.gt.txt  \n",
            "  inflating: __MACOSX/lines_w25/._24242_a.gt.txt  \n",
            "  inflating: lines_w25/30621_b.gt.txt  \n",
            "  inflating: __MACOSX/lines_w25/._30621_b.gt.txt  \n",
            "  inflating: lines_w25/17965_a.png   \n",
            "  inflating: __MACOSX/lines_w25/._17965_a.png  \n",
            "  inflating: lines_w25/42710_a.gt.txt  \n",
            "  inflating: __MACOSX/lines_w25/._42710_a.gt.txt  \n",
            "  inflating: lines_w25/10436_a.png   \n",
            "  inflating: __MACOSX/lines_w25/._10436_a.png  \n",
            "  inflating: lines_w25/37349_a.png   \n",
            "  inflating: __MACOSX/lines_w25/._37349_a.png  \n",
            "  inflating: lines_w25/15250_a.png   \n",
            "  inflating: __MACOSX/lines_w25/._15250_a.png  \n",
            "  inflating: lines_w25/38669_a.gt.txt  \n",
            "  inflating: __MACOSX/lines_w25/._38669_a.gt.txt  \n",
            "  inflating: lines_w25/22039_a.png   \n",
            "  inflating: __MACOSX/lines_w25/._22039_a.png  \n",
            "  inflating: lines_w25/19861_a.gt.txt  \n",
            "  inflating: __MACOSX/lines_w25/._19861_a.gt.txt  \n",
            "  inflating: lines_w25/23383_a.gt.txt  \n",
            "  inflating: __MACOSX/lines_w25/._23383_a.gt.txt  \n",
            "  inflating: lines_w25/44964_a.png   \n",
            "  inflating: __MACOSX/lines_w25/._44964_a.png  \n",
            "  inflating: lines_w25/11829_b.gt.txt  \n",
            "  inflating: __MACOSX/lines_w25/._11829_b.gt.txt  \n",
            "  inflating: lines_w25/46251_a.png   \n",
            "  inflating: __MACOSX/lines_w25/._46251_a.png  \n",
            "  inflating: lines_w25/6519_a.gt.txt  \n",
            "  inflating: __MACOSX/lines_w25/._6519_a.gt.txt  \n",
            "  inflating: lines_w25/43437_a.png   \n",
            "  inflating: __MACOSX/lines_w25/._43437_a.png  \n",
            "  inflating: lines_w25/45595_b.png   \n",
            "  inflating: __MACOSX/lines_w25/._45595_b.png  \n",
            "  inflating: lines_w25/14619_b.gt.txt  \n",
            "  inflating: __MACOSX/lines_w25/._14619_b.gt.txt  \n",
            "  inflating: lines_w25/8766_a.gt.txt  \n",
            "  inflating: __MACOSX/lines_w25/._8766_a.gt.txt  \n",
            "  inflating: lines_w25/29004_b.png   \n",
            "  inflating: __MACOSX/lines_w25/._29004_b.png  \n",
            "  inflating: lines_w25/39512_b.png   \n",
            "  inflating: __MACOSX/lines_w25/._39512_b.png  \n",
            "  inflating: lines_w25/44527_b.gt.txt  \n",
            "  inflating: __MACOSX/lines_w25/._44527_b.gt.txt  \n",
            "  inflating: lines_w25/16594_b.png   \n",
            "  inflating: __MACOSX/lines_w25/._16594_b.png  \n",
            "  inflating: lines_w25/35811_b.gt.txt  \n",
            "  inflating: __MACOSX/lines_w25/._35811_b.gt.txt  \n",
            "  inflating: lines_w25/8842_b.png    \n",
            "  inflating: __MACOSX/lines_w25/._8842_b.png  \n",
            "  inflating: lines_w25/47920_a.gt.txt  \n",
            "  inflating: __MACOSX/lines_w25/._47920_a.gt.txt  \n",
            "  inflating: lines_w25/22075_b.gt.txt  \n",
            "  inflating: __MACOSX/lines_w25/._22075_b.gt.txt  \n",
            "  inflating: lines_w25/36416_a.gt.txt  \n",
            "  inflating: __MACOSX/lines_w25/._36416_a.gt.txt  \n",
            "  inflating: lines_w25/26548_b.gt.txt  \n",
            "  inflating: __MACOSX/lines_w25/._26548_b.gt.txt  \n",
            "  inflating: lines_w25/48052_a.gt.txt  \n",
            "  inflating: __MACOSX/lines_w25/._48052_a.gt.txt  \n",
            "  inflating: lines_w25/23476_b.png   \n",
            "  inflating: __MACOSX/lines_w25/._23476_b.png  \n",
            "  inflating: lines_w25/26210_b.png   \n",
            "  inflating: __MACOSX/lines_w25/._26210_b.png  \n",
            "  inflating: lines_w25/33160_b.png   \n",
            "  inflating: __MACOSX/lines_w25/._33160_b.png  \n",
            "  inflating: lines_w25/36706_b.png   \n",
            "  inflating: __MACOSX/lines_w25/._36706_b.png  \n",
            "  inflating: lines_w25/11079_b.png   \n",
            "  inflating: __MACOSX/lines_w25/._11079_b.png  \n",
            "  inflating: lines_w25/5163_b.png    \n",
            "  inflating: __MACOSX/lines_w25/._5163_b.png  \n",
            "  inflating: lines_w25/24925_b.png   \n",
            "  inflating: __MACOSX/lines_w25/._24925_b.png  \n",
            "  inflating: lines_w25/19780_b.png   \n",
            "  inflating: __MACOSX/lines_w25/._19780_b.png  \n",
            "  inflating: lines_w25/21489_b.gt.txt  \n",
            "  inflating: __MACOSX/lines_w25/._21489_b.gt.txt  \n",
            "  inflating: lines_w25/10324_b.gt.txt  \n",
            "  inflating: __MACOSX/lines_w25/._10324_b.gt.txt  \n",
            "  inflating: lines_w25/42078_b.png   \n",
            "  inflating: __MACOSX/lines_w25/._42078_b.png  \n",
            "  inflating: lines_w25/4213_b.gt.txt  \n",
            "  inflating: __MACOSX/lines_w25/._4213_b.gt.txt  \n",
            "  inflating: lines_w25/2024_a.gt.txt  \n",
            "  inflating: __MACOSX/lines_w25/._2024_a.gt.txt  \n",
            "  inflating: lines_w25/49045_a.png   \n",
            "  inflating: __MACOSX/lines_w25/._49045_a.png  \n",
            "  inflating: lines_w25/16113_a.gt.txt  \n",
            "  inflating: __MACOSX/lines_w25/._16113_a.gt.txt  \n",
            "  inflating: lines_w25/315_b.png     \n",
            "  inflating: __MACOSX/lines_w25/._315_b.png  \n",
            "  inflating: lines_w25/28737_b.gt.txt  \n",
            "  inflating: __MACOSX/lines_w25/._28737_b.gt.txt  \n",
            "  inflating: lines_w25/22887_a.png   \n",
            "  inflating: __MACOSX/lines_w25/._22887_a.png  \n",
            "  inflating: lines_w25/35881_a.png   \n",
            "  inflating: __MACOSX/lines_w25/._35881_a.png  \n",
            "  inflating: lines_w25/17998_a.png   \n",
            "  inflating: __MACOSX/lines_w25/._17998_a.png  \n",
            "  inflating: lines_w25/3882_a.png    \n",
            "  inflating: __MACOSX/lines_w25/._3882_a.png  \n",
            "  inflating: lines_w25/18332_a.png   \n",
            "  inflating: __MACOSX/lines_w25/._18332_a.png  \n",
            "  inflating: lines_w25/29851_a.gt.txt  \n",
            "  inflating: __MACOSX/lines_w25/._29851_a.gt.txt  \n",
            "  inflating: lines_w25/7284_a.gt.txt  \n",
            "  inflating: __MACOSX/lines_w25/._7284_a.gt.txt  \n",
            "  inflating: lines_w25/21819_b.gt.txt  \n",
            "  inflating: __MACOSX/lines_w25/._21819_b.gt.txt  \n",
            "  inflating: lines_w25/44999_a.png   \n",
            "  inflating: __MACOSX/lines_w25/._44999_a.png  \n",
            "  inflating: lines_w25/14272_a.gt.txt  \n",
            "  inflating: __MACOSX/lines_w25/._14272_a.gt.txt  \n",
            "  inflating: lines_w25/6172_b.gt.txt  \n",
            "  inflating: __MACOSX/lines_w25/._6172_b.gt.txt  \n",
            "  inflating: lines_w25/12045_b.gt.txt  \n",
            "  inflating: __MACOSX/lines_w25/._12045_b.gt.txt  \n",
            "  inflating: lines_w25/45568_b.png   \n",
            "  inflating: __MACOSX/lines_w25/._45568_b.png  \n",
            "  inflating: lines_w25/107_a.gt.txt  \n",
            "  inflating: __MACOSX/lines_w25/._107_a.gt.txt  \n",
            "  inflating: lines_w25/38202_b.gt.txt  \n",
            "  inflating: __MACOSX/lines_w25/._38202_b.gt.txt  \n",
            "  inflating: lines_w25/15184_b.gt.txt  \n",
            "  inflating: __MACOSX/lines_w25/._15184_b.gt.txt  \n",
            "  inflating: lines_w25/33923_b.png   \n",
            "  inflating: __MACOSX/lines_w25/._33923_b.png  \n",
            "  inflating: lines_w25/5920_b.png    \n",
            "  inflating: __MACOSX/lines_w25/._5920_b.png  \n",
            "  inflating: lines_w25/34470_b.png   \n",
            "  inflating: __MACOSX/lines_w25/._34470_b.png  \n",
            "  inflating: lines_w25/7215_b.png    \n",
            "  inflating: __MACOSX/lines_w25/._7215_b.png  \n",
            "  inflating: lines_w25/31216_b.png   \n",
            "  inflating: __MACOSX/lines_w25/._31216_b.png  \n",
            "  inflating: lines_w25/16569_b.png   \n",
            "  inflating: __MACOSX/lines_w25/._16569_b.png  \n",
            "  inflating: lines_w25/2473_b.png    \n",
            "  inflating: __MACOSX/lines_w25/._2473_b.png  \n",
            "  inflating: lines_w25/24629_b.gt.txt  \n",
            "  inflating: __MACOSX/lines_w25/._24629_b.gt.txt  \n",
            "  inflating: lines_w25/24166_b.png   \n",
            "  inflating: __MACOSX/lines_w25/._24166_b.png  \n",
            "  inflating: lines_w25/21700_b.png   \n",
            "  inflating: __MACOSX/lines_w25/._21700_b.png  \n",
            "  inflating: lines_w25/361_a.gt.txt  \n",
            "  inflating: __MACOSX/lines_w25/._361_a.gt.txt  \n",
            "  inflating: lines_w25/12223_b.gt.txt  \n",
            "  inflating: __MACOSX/lines_w25/._12223_b.gt.txt  \n",
            "  inflating: lines_w25/6314_b.gt.txt  \n",
            "  inflating: __MACOSX/lines_w25/._6314_b.gt.txt  \n",
            "  inflating: lines_w25/20989_a.gt.txt  \n",
            "  inflating: __MACOSX/lines_w25/._20989_a.gt.txt  \n",
            "  inflating: lines_w25/25946_a.png   \n",
            "  inflating: __MACOSX/lines_w25/._25946_a.png  \n",
            "  inflating: lines_w25/4100_a.png    \n",
            "  inflating: __MACOSX/lines_w25/._4100_a.png  \n",
            "  inflating: lines_w25/37765_a.png   \n",
            "  inflating: __MACOSX/lines_w25/._37765_a.png  \n",
            "  inflating: lines_w25/1766_a.png    \n",
            "  inflating: __MACOSX/lines_w25/._1766_a.png  \n",
            "  inflating: lines_w25/32103_a.png   \n",
            "  inflating: __MACOSX/lines_w25/._32103_a.png  \n",
            "  inflating: lines_w25/27273_a.png   \n",
            "  inflating: __MACOSX/lines_w25/._27273_a.png  \n",
            "  inflating: lines_w25/22415_a.png   \n",
            "  inflating: __MACOSX/lines_w25/._22415_a.png  \n",
            "  inflating: lines_w25/27848_a.gt.txt  \n",
            "  inflating: __MACOSX/lines_w25/._27848_a.gt.txt  \n",
            "  inflating: lines_w25/38064_b.gt.txt  \n",
            "  inflating: __MACOSX/lines_w25/._38064_b.gt.txt  \n",
            "  inflating: lines_w25/29428_b.png   \n",
            "  inflating: __MACOSX/lines_w25/._29428_b.png  \n",
            "  inflating: lines_w25/22678_a.gt.txt  \n",
            "  inflating: __MACOSX/lines_w25/._22678_a.gt.txt  \n",
            "  inflating: lines_w25/39392_a.gt.txt  \n",
            "  inflating: __MACOSX/lines_w25/._39392_a.gt.txt  \n",
            "  inflating: lines_w25/48026_b.png   \n",
            "  inflating: __MACOSX/lines_w25/._48026_b.png  \n",
            "  inflating: lines_w25/14014_a.gt.txt  \n",
            "  inflating: __MACOSX/lines_w25/._14014_a.gt.txt  \n",
            "  inflating: lines_w25/16375_a.gt.txt  \n",
            "  inflating: __MACOSX/lines_w25/._16375_a.gt.txt  \n",
            "  inflating: lines_w25/48865_b.png   \n",
            "  inflating: __MACOSX/lines_w25/._48865_b.png  \n",
            "  inflating: lines_w25/2242_a.gt.txt  \n",
            "  inflating: __MACOSX/lines_w25/._2242_a.gt.txt  \n",
            "  inflating: lines_w25/20519_a.gt.txt  \n",
            "  inflating: __MACOSX/lines_w25/._20519_a.gt.txt  \n",
            "  inflating: lines_w25/28551_b.gt.txt  \n",
            "  inflating: __MACOSX/lines_w25/._28551_b.gt.txt  \n",
            "  inflating: lines_w25/19351_b.png   \n",
            "  inflating: __MACOSX/lines_w25/._19351_b.png  \n",
            "  inflating: lines_w25/5383_a.gt.txt  \n",
            "  inflating: __MACOSX/lines_w25/._5383_a.gt.txt  \n",
            "  inflating: lines_w25/20763_a.png   \n",
            "  inflating: __MACOSX/lines_w25/._20763_a.png  \n",
            "  inflating: lines_w25/25105_a.png   \n",
            "  inflating: __MACOSX/lines_w25/._25105_a.png  \n",
            "  inflating: lines_w25/3410_a.png    \n",
            "  inflating: __MACOSX/lines_w25/._3410_a.png  \n",
            "  inflating: lines_w25/30275_a.png   \n",
            "  inflating: __MACOSX/lines_w25/._30275_a.png  \n",
            "  inflating: lines_w25/6276_a.png    \n",
            "  inflating: __MACOSX/lines_w25/._6276_a.png  \n",
            "  inflating: lines_w25/35413_a.png   \n",
            "  inflating: __MACOSX/lines_w25/._35413_a.png  \n",
            "  inflating: lines_w25/10859_a.png   \n",
            "  inflating: __MACOSX/lines_w25/._10859_a.png  \n",
            "  inflating: lines_w25/4943_a.png    \n",
            "  inflating: __MACOSX/lines_w25/._4943_a.png  \n",
            "  inflating: lines_w25/32940_a.png   \n",
            "  inflating: __MACOSX/lines_w25/._32940_a.png  \n",
            "  inflating: lines_w25/48234_a.gt.txt  \n",
            "  inflating: __MACOSX/lines_w25/._48234_a.gt.txt  \n",
            "  inflating: lines_w25/17083_b.gt.txt  \n",
            "  inflating: __MACOSX/lines_w25/._17083_b.gt.txt  \n",
            "  inflating: lines_w25/4075_b.gt.txt  \n",
            "  inflating: __MACOSX/lines_w25/._4075_b.gt.txt  \n",
            "  inflating: lines_w25/43858_a.png   \n",
            "  inflating: __MACOSX/lines_w25/._43858_a.png  \n",
            "  inflating: lines_w25/10142_b.gt.txt  \n",
            "  inflating: __MACOSX/lines_w25/._10142_b.gt.txt  \n",
            "  inflating: lines_w25/49000_a.png   \n",
            "  inflating: __MACOSX/lines_w25/._49000_a.png  \n",
            "  inflating: lines_w25/38118_a.png   \n",
            "  inflating: __MACOSX/lines_w25/._38118_a.png  \n",
            "  inflating: lines_w25/42023_a.gt.txt  \n",
            "  inflating: __MACOSX/lines_w25/._42023_a.gt.txt  \n",
            "  inflating: lines_w25/350_b.png     \n",
            "  inflating: __MACOSX/lines_w25/._350_b.png  \n",
            "  inflating: lines_w25/25591_a.png   \n",
            "  inflating: __MACOSX/lines_w25/._25591_a.png  \n",
            "  inflating: lines_w25/3084_a.png    \n",
            "  inflating: __MACOSX/lines_w25/._3084_a.png  \n",
            "  inflating: lines_w25/27976_b.gt.txt  \n",
            "  inflating: __MACOSX/lines_w25/._27976_b.gt.txt  \n",
            "  inflating: lines_w25/35087_a.png   \n",
            "  inflating: __MACOSX/lines_w25/._35087_a.png  \n",
            "  inflating: lines_w25/24571_a.gt.txt  \n",
            "  inflating: __MACOSX/lines_w25/._24571_a.gt.txt  \n",
            "  inflating: lines_w25/30112_b.gt.txt  \n",
            "  inflating: __MACOSX/lines_w25/._30112_b.gt.txt  \n",
            "  inflating: lines_w25/22746_b.gt.txt  \n",
            "  inflating: __MACOSX/lines_w25/._22746_b.gt.txt  \n",
            "  inflating: lines_w25/36325_a.gt.txt  \n",
            "  inflating: __MACOSX/lines_w25/._36325_a.gt.txt  \n",
            "  inflating: lines_w25/44214_b.gt.txt  \n",
            "  inflating: __MACOSX/lines_w25/._44214_b.gt.txt  \n",
            "  inflating: lines_w25/24960_b.png   \n",
            "  inflating: __MACOSX/lines_w25/._24960_b.png  \n",
            "  inflating: lines_w25/26255_b.png   \n",
            "  inflating: __MACOSX/lines_w25/._26255_b.png  \n",
            "  inflating: lines_w25/23433_b.png   \n",
            "  inflating: __MACOSX/lines_w25/._23433_b.png  \n",
            "  inflating: lines_w25/5126_b.png    \n",
            "  inflating: __MACOSX/lines_w25/._5126_b.png  \n",
            "  inflating: lines_w25/36743_b.png   \n",
            "  inflating: __MACOSX/lines_w25/._36743_b.png  \n",
            "  inflating: lines_w25/33125_b.png   \n",
            "  inflating: __MACOSX/lines_w25/._33125_b.png  \n",
            "  inflating: lines_w25/25687_b.gt.txt  \n",
            "  inflating: __MACOSX/lines_w25/._25687_b.gt.txt  \n",
            "  inflating: lines_w25/8055_a.gt.txt  \n",
            "  inflating: __MACOSX/lines_w25/._8055_a.gt.txt  \n",
            "  inflating: lines_w25/33185_a.gt.txt  \n",
            "  inflating: __MACOSX/lines_w25/._33185_a.gt.txt  \n",
            "  inflating: lines_w25/23820_a.gt.txt  \n",
            "  inflating: __MACOSX/lines_w25/._23820_a.gt.txt  \n",
            "  inflating: lines_w25/46175_b.gt.txt  \n",
            "  inflating: __MACOSX/lines_w25/._46175_b.gt.txt  \n",
            "  inflating: lines_w25/2436_b.png    \n",
            "  inflating: __MACOSX/lines_w25/._2436_b.png  \n",
            "  inflating: lines_w25/31253_b.png   \n",
            "  inflating: __MACOSX/lines_w25/._31253_b.png  \n",
            "  inflating: lines_w25/7250_b.png    \n",
            "  inflating: __MACOSX/lines_w25/._7250_b.png  \n",
            "  inflating: lines_w25/34435_b.png   \n",
            "  inflating: __MACOSX/lines_w25/._34435_b.png  \n",
            "  inflating: lines_w25/21745_b.png   \n",
            "  inflating: __MACOSX/lines_w25/._21745_b.png  \n",
            "  inflating: lines_w25/20427_b.gt.txt  \n",
            "  inflating: __MACOSX/lines_w25/._20427_b.gt.txt  \n",
            "  inflating: lines_w25/34044_a.gt.txt  \n",
            "  inflating: __MACOSX/lines_w25/._34044_a.gt.txt  \n",
            "  inflating: lines_w25/24123_b.png   \n",
            "  inflating: __MACOSX/lines_w25/._24123_b.png  \n",
            "  inflating: lines_w25/5965_b.png    \n",
            "  inflating: __MACOSX/lines_w25/._5965_b.png  \n",
            "  inflating: lines_w25/33966_b.png   \n",
            "  inflating: __MACOSX/lines_w25/._33966_b.png  \n",
            "  inflating: lines_w25/4594_a.png    \n",
            "  inflating: __MACOSX/lines_w25/._4594_a.png  \n",
            "  inflating: lines_w25/32597_a.png   \n",
            "  inflating: __MACOSX/lines_w25/._32597_a.png  \n",
            "  inflating: lines_w25/22081_a.png   \n",
            "  inflating: __MACOSX/lines_w25/._22081_a.png  \n",
            "  inflating: lines_w25/26610_a.gt.txt  \n",
            "  inflating: __MACOSX/lines_w25/._26610_a.gt.txt  \n",
            "  inflating: lines_w25/32273_b.gt.txt  \n",
            "  inflating: __MACOSX/lines_w25/._32273_b.gt.txt  \n",
            "  inflating: lines_w25/18377_a.png   \n",
            "  inflating: __MACOSX/lines_w25/._18377_a.png  \n",
            "  inflating: lines_w25/40342_a.gt.txt  \n",
            "  inflating: __MACOSX/lines_w25/._40342_a.gt.txt  \n",
            "  inflating: lines_w25/29799_b.gt.txt  \n",
            "  inflating: __MACOSX/lines_w25/._29799_b.gt.txt  \n",
            "  inflating: lines_w25/18034_b.gt.txt  \n",
            "  inflating: __MACOSX/lines_w25/._18034_b.gt.txt  \n",
            "  inflating: lines_w25/47283_a.gt.txt  \n",
            "  inflating: __MACOSX/lines_w25/._47283_a.gt.txt  \n",
            "  inflating: lines_w25/40124_a.gt.txt  \n",
            "  inflating: __MACOSX/lines_w25/._40124_a.gt.txt  \n",
            "  inflating: lines_w25/25871_b.gt.txt  \n",
            "  inflating: __MACOSX/lines_w25/._25871_b.gt.txt  \n",
            "  inflating: lines_w25/7681_b.png    \n",
            "  inflating: __MACOSX/lines_w25/._7681_b.png  \n",
            "  inflating: lines_w25/31682_b.png   \n",
            "  inflating: __MACOSX/lines_w25/._31682_b.png  \n",
            "  inflating: lines_w25/21394_b.png   \n",
            "  inflating: __MACOSX/lines_w25/._21394_b.png  \n",
            "  inflating: lines_w25/26476_a.gt.txt  \n",
            "  inflating: __MACOSX/lines_w25/._26476_a.gt.txt  \n",
            "  inflating: lines_w25/32015_b.gt.txt  \n",
            "  inflating: __MACOSX/lines_w25/._32015_b.gt.txt  \n",
            "  inflating: lines_w25/18252_b.gt.txt  \n",
            "  inflating: __MACOSX/lines_w25/._18252_b.gt.txt  \n",
            "  inflating: lines_w25/48063_b.png   \n",
            "  inflating: __MACOSX/lines_w25/._48063_b.png  \n",
            "  inflating: lines_w25/46638_a.png   \n",
            "  inflating: __MACOSX/lines_w25/._46638_a.png  \n",
            "  inflating: lines_w25/27780_b.gt.txt  \n",
            "  inflating: __MACOSX/lines_w25/._27780_b.gt.txt  \n",
            "  inflating: lines_w25/32146_a.png   \n",
            "  inflating: __MACOSX/lines_w25/._32146_a.png  \n",
            "  inflating: lines_w25/15639_a.png   \n",
            "  inflating: __MACOSX/lines_w25/._15639_a.png  \n",
            "  inflating: lines_w25/1723_a.png    \n",
            "  inflating: __MACOSX/lines_w25/._1723_a.png  \n",
            "  inflating: lines_w25/37720_a.png   \n",
            "  inflating: __MACOSX/lines_w25/._37720_a.png  \n",
            "  inflating: lines_w25/4145_a.png    \n",
            "  inflating: __MACOSX/lines_w25/._4145_a.png  \n",
            "  inflating: lines_w25/22450_a.png   \n",
            "  inflating: __MACOSX/lines_w25/._22450_a.png  \n",
            "  inflating: lines_w25/27236_a.png   \n",
            "  inflating: __MACOSX/lines_w25/._27236_a.png  \n",
            "  inflating: lines_w25/20641_b.gt.txt  \n",
            "  inflating: __MACOSX/lines_w25/._20641_b.gt.txt  \n",
            "  inflating: lines_w25/25903_a.png   \n",
            "  inflating: __MACOSX/lines_w25/._25903_a.png  \n",
            "  inflating: lines_w25/34222_a.gt.txt  \n",
            "  inflating: __MACOSX/lines_w25/._34222_a.gt.txt  \n",
            "  inflating: lines_w25/46313_b.gt.txt  \n",
            "  inflating: __MACOSX/lines_w25/._46313_b.gt.txt  \n",
            "  inflating: lines_w25/28609_a.gt.txt  \n",
            "  inflating: __MACOSX/lines_w25/._28609_a.gt.txt  \n",
            "  inflating: lines_w25/32905_a.png   \n",
            "  inflating: __MACOSX/lines_w25/._32905_a.png  \n",
            "  inflating: lines_w25/21927_a.gt.txt  \n",
            "  inflating: __MACOSX/lines_w25/._21927_a.gt.txt  \n",
            "  inflating: lines_w25/4906_a.png    \n",
            "  inflating: __MACOSX/lines_w25/._4906_a.png  \n",
            "  inflating: lines_w25/781_b.png     \n",
            "  inflating: __MACOSX/lines_w25/._781_b.png  \n",
            "  inflating: lines_w25/9899_a.png    \n",
            "  inflating: __MACOSX/lines_w25/._9899_a.png  \n",
            "  inflating: lines_w25/25140_a.png   \n",
            "  inflating: __MACOSX/lines_w25/._25140_a.png  \n",
            "  inflating: lines_w25/20726_a.png   \n",
            "  inflating: __MACOSX/lines_w25/._20726_a.png  \n",
            "  inflating: lines_w25/44072_b.gt.txt  \n",
            "  inflating: __MACOSX/lines_w25/._44072_b.gt.txt  \n",
            "  inflating: lines_w25/35456_a.png   \n",
            "  inflating: __MACOSX/lines_w25/._35456_a.png  \n",
            "  inflating: lines_w25/12329_a.png   \n",
            "  inflating: __MACOSX/lines_w25/._12329_a.png  \n",
            "  inflating: lines_w25/6233_a.png    \n",
            "  inflating: __MACOSX/lines_w25/._6233_a.png  \n",
            "  inflating: lines_w25/30230_a.png   \n",
            "  inflating: __MACOSX/lines_w25/._30230_a.png  \n",
            "  inflating: lines_w25/3455_a.png    \n",
            "  inflating: __MACOSX/lines_w25/._3455_a.png  \n",
            "  inflating: lines_w25/22520_b.gt.txt  \n",
            "  inflating: __MACOSX/lines_w25/._22520_b.gt.txt  \n",
            "  inflating: lines_w25/36143_a.gt.txt  \n",
            "  inflating: __MACOSX/lines_w25/._36143_a.gt.txt  \n",
            "  inflating: lines_w25/41328_a.png   \n",
            "  inflating: __MACOSX/lines_w25/._41328_a.png  \n",
            "  inflating: lines_w25/31082_a.gt.txt  \n",
            "  inflating: __MACOSX/lines_w25/._31082_a.gt.txt  \n",
            "  inflating: lines_w25/8233_a.gt.txt  \n",
            "  inflating: __MACOSX/lines_w25/._8233_a.gt.txt  \n",
            "  inflating: lines_w25/48820_b.png   \n",
            "  inflating: __MACOSX/lines_w25/._48820_b.png  \n",
            "  inflating: lines_w25/45384_a.gt.txt  \n",
            "  inflating: __MACOSX/lines_w25/._45384_a.gt.txt  \n",
            "  inflating: lines_w25/24717_a.gt.txt  \n",
            "  inflating: __MACOSX/lines_w25/._24717_a.gt.txt  \n",
            "  inflating: lines_w25/30374_b.gt.txt  \n",
            "  inflating: __MACOSX/lines_w25/._30374_b.gt.txt  \n",
            "  inflating: lines_w25/8468_b.png    \n",
            "  inflating: __MACOSX/lines_w25/._8468_b.png  \n",
            "  inflating: lines_w25/19314_b.png   \n",
            "  inflating: __MACOSX/lines_w25/._19314_b.png  \n",
            "  inflating: lines_w25/42245_a.gt.txt  \n",
            "  inflating: __MACOSX/lines_w25/._42245_a.gt.txt  \n",
            "  inflating: lines_w25/39938_b.png   \n",
            "  inflating: __MACOSX/lines_w25/._39938_b.png  \n",
            "  inflating: lines_w25/26684_b.png   \n",
            "  inflating: __MACOSX/lines_w25/._26684_b.png  \n",
            "  inflating: lines_w25/36392_b.png   \n",
            "  inflating: __MACOSX/lines_w25/._36392_b.png  \n",
            "  inflating: lines_w25/376_a.png     \n",
            "  inflating: __MACOSX/lines_w25/._376_a.png  \n",
            "  inflating: lines_w25/28428_b.png   \n",
            "  inflating: __MACOSX/lines_w25/._28428_b.png  \n",
            "  inflating: lines_w25/22679_a.gt.txt  \n",
            "  inflating: __MACOSX/lines_w25/._22679_a.gt.txt  \n",
            "  inflating: lines_w25/39393_a.gt.txt  \n",
            "  inflating: __MACOSX/lines_w25/._39393_a.gt.txt  \n",
            "  inflating: lines_w25/14015_a.gt.txt  \n",
            "  inflating: __MACOSX/lines_w25/._14015_a.gt.txt  \n",
            "  inflating: lines_w25/49026_b.png   \n",
            "  inflating: __MACOSX/lines_w25/._49026_b.png  \n",
            "  inflating: lines_w25/12222_b.gt.txt  \n",
            "  inflating: __MACOSX/lines_w25/._12222_b.gt.txt  \n",
            "  inflating: lines_w25/360_a.gt.txt  \n",
            "  inflating: __MACOSX/lines_w25/._360_a.gt.txt  \n",
            "  inflating: lines_w25/20988_a.gt.txt  \n",
            "  inflating: __MACOSX/lines_w25/._20988_a.gt.txt  \n",
            "  inflating: lines_w25/6315_b.gt.txt  \n",
            "  inflating: __MACOSX/lines_w25/._6315_b.gt.txt  \n",
            "  inflating: lines_w25/33103_a.png   \n",
            "  inflating: __MACOSX/lines_w25/._33103_a.png  \n",
            "  inflating: lines_w25/36765_a.png   \n",
            "  inflating: __MACOSX/lines_w25/._36765_a.png  \n",
            "  inflating: lines_w25/5100_a.png    \n",
            "  inflating: __MACOSX/lines_w25/._5100_a.png  \n",
            "  inflating: lines_w25/23415_a.png   \n",
            "  inflating: __MACOSX/lines_w25/._23415_a.png  \n",
            "  inflating: lines_w25/26273_a.png   \n",
            "  inflating: __MACOSX/lines_w25/._26273_a.png  \n",
            "  inflating: lines_w25/24946_a.png   \n",
            "  inflating: __MACOSX/lines_w25/._24946_a.png  \n",
            "  inflating: lines_w25/27849_a.gt.txt  \n",
            "  inflating: __MACOSX/lines_w25/._27849_a.gt.txt  \n",
            "  inflating: lines_w25/38065_b.gt.txt  \n",
            "  inflating: __MACOSX/lines_w25/._38065_b.gt.txt  \n",
            "  inflating: lines_w25/33940_a.png   \n",
            "  inflating: __MACOSX/lines_w25/._33940_a.png  \n",
            "  inflating: lines_w25/11859_a.png   \n",
            "  inflating: __MACOSX/lines_w25/._11859_a.png  \n",
            "  inflating: lines_w25/5943_a.png    \n",
            "  inflating: __MACOSX/lines_w25/._5943_a.png  \n",
            "  inflating: lines_w25/24105_a.png   \n",
            "  inflating: __MACOSX/lines_w25/._24105_a.png  \n",
            "  inflating: lines_w25/21763_a.png   \n",
            "  inflating: __MACOSX/lines_w25/._21763_a.png  \n",
            "  inflating: lines_w25/34413_a.png   \n",
            "  inflating: __MACOSX/lines_w25/._34413_a.png  \n",
            "  inflating: lines_w25/7276_a.png    \n",
            "  inflating: __MACOSX/lines_w25/._7276_a.png  \n",
            "  inflating: lines_w25/31275_a.png   \n",
            "  inflating: __MACOSX/lines_w25/._31275_a.png  \n",
            "  inflating: lines_w25/2410_a.png    \n",
            "  inflating: __MACOSX/lines_w25/._2410_a.png  \n",
            "  inflating: lines_w25/48235_a.gt.txt  \n",
            "  inflating: __MACOSX/lines_w25/._48235_a.gt.txt  \n",
            "  inflating: lines_w25/17082_b.gt.txt  \n",
            "  inflating: __MACOSX/lines_w25/._17082_b.gt.txt  \n",
            "  inflating: lines_w25/48494_a.png   \n",
            "  inflating: __MACOSX/lines_w25/._48494_a.png  \n",
            "  inflating: lines_w25/42858_a.png   \n",
            "  inflating: __MACOSX/lines_w25/._42858_a.png  \n",
            "  inflating: lines_w25/4074_b.gt.txt  \n",
            "  inflating: __MACOSX/lines_w25/._4074_b.gt.txt  \n",
            "  inflating: lines_w25/10143_b.gt.txt  \n",
            "  inflating: __MACOSX/lines_w25/._10143_b.gt.txt  \n",
            "  inflating: lines_w25/16374_a.gt.txt  \n",
            "  inflating: __MACOSX/lines_w25/._16374_a.gt.txt  \n",
            "  inflating: lines_w25/2243_a.gt.txt  \n",
            "  inflating: __MACOSX/lines_w25/._2243_a.gt.txt  \n",
            "  inflating: lines_w25/20518_a.gt.txt  \n",
            "  inflating: __MACOSX/lines_w25/._20518_a.gt.txt  \n",
            "  inflating: lines_w25/28550_b.gt.txt  \n",
            "  inflating: __MACOSX/lines_w25/._28550_b.gt.txt  \n",
            "  inflating: lines_w25/18351_b.png   \n",
            "  inflating: __MACOSX/lines_w25/._18351_b.png  \n",
            "  inflating: lines_w25/5382_a.gt.txt  \n",
            "  inflating: __MACOSX/lines_w25/._5382_a.gt.txt  \n",
            "  inflating: lines_w25/48045_a.png   \n",
            "  inflating: __MACOSX/lines_w25/._48045_a.png  \n",
            "  inflating: lines_w25/2025_a.gt.txt  \n",
            "  inflating: __MACOSX/lines_w25/._2025_a.gt.txt  \n",
            "  inflating: lines_w25/16112_a.gt.txt  \n",
            "  inflating: __MACOSX/lines_w25/._16112_a.gt.txt  \n",
            "  inflating: lines_w25/23887_a.png   \n",
            "  inflating: __MACOSX/lines_w25/._23887_a.png  \n",
            "  inflating: lines_w25/28736_b.gt.txt  \n",
            "  inflating: __MACOSX/lines_w25/._28736_b.gt.txt  \n",
            "  inflating: lines_w25/48053_a.gt.txt  \n",
            "  inflating: __MACOSX/lines_w25/._48053_a.gt.txt  \n",
            "  inflating: lines_w25/26549_b.gt.txt  \n",
            "  inflating: __MACOSX/lines_w25/._26549_b.gt.txt  \n",
            "  inflating: lines_w25/18780_b.png   \n",
            "  inflating: __MACOSX/lines_w25/._18780_b.png  \n",
            "  inflating: lines_w25/25925_b.png   \n",
            "  inflating: __MACOSX/lines_w25/._25925_b.png  \n",
            "  inflating: lines_w25/27210_b.png   \n",
            "  inflating: __MACOSX/lines_w25/._27210_b.png  \n",
            "  inflating: lines_w25/22476_b.png   \n",
            "  inflating: __MACOSX/lines_w25/._22476_b.png  \n",
            "  inflating: lines_w25/10079_b.png   \n",
            "  inflating: __MACOSX/lines_w25/._10079_b.png  \n",
            "  inflating: lines_w25/4163_b.png    \n",
            "  inflating: __MACOSX/lines_w25/._4163_b.png  \n",
            "  inflating: lines_w25/37706_b.png   \n",
            "  inflating: __MACOSX/lines_w25/._37706_b.png  \n",
            "  inflating: lines_w25/1705_b.png    \n",
            "  inflating: __MACOSX/lines_w25/._1705_b.png  \n",
            "  inflating: lines_w25/32160_b.png   \n",
            "  inflating: __MACOSX/lines_w25/._32160_b.png  \n",
            "  inflating: lines_w25/10325_b.gt.txt  \n",
            "  inflating: __MACOSX/lines_w25/._10325_b.gt.txt  \n",
            "  inflating: lines_w25/21488_b.gt.txt  \n",
            "  inflating: __MACOSX/lines_w25/._21488_b.gt.txt  \n",
            "  inflating: lines_w25/4212_b.gt.txt  \n",
            "  inflating: __MACOSX/lines_w25/._4212_b.gt.txt  \n",
            "  inflating: lines_w25/43078_b.png   \n",
            "  inflating: __MACOSX/lines_w25/._43078_b.png  \n",
            "  inflating: lines_w25/6173_b.gt.txt  \n",
            "  inflating: __MACOSX/lines_w25/._6173_b.gt.txt  \n",
            "  inflating: lines_w25/106_a.gt.txt  \n",
            "  inflating: __MACOSX/lines_w25/._106_a.gt.txt  \n",
            "  inflating: lines_w25/44568_b.png   \n",
            "  inflating: __MACOSX/lines_w25/._44568_b.png  \n",
            "  inflating: lines_w25/12044_b.gt.txt  \n",
            "  inflating: __MACOSX/lines_w25/._12044_b.gt.txt  \n",
            "  inflating: lines_w25/38203_b.gt.txt  \n",
            "  inflating: __MACOSX/lines_w25/._38203_b.gt.txt  \n",
            "  inflating: lines_w25/17569_b.png   \n",
            "  inflating: __MACOSX/lines_w25/._17569_b.png  \n",
            "  inflating: lines_w25/3473_b.png    \n",
            "  inflating: __MACOSX/lines_w25/._3473_b.png  \n",
            "  inflating: lines_w25/30216_b.png   \n",
            "  inflating: __MACOSX/lines_w25/._30216_b.png  \n",
            "  inflating: lines_w25/6215_b.png    \n",
            "  inflating: __MACOSX/lines_w25/._6215_b.png  \n",
            "  inflating: lines_w25/35470_b.png   \n",
            "  inflating: __MACOSX/lines_w25/._35470_b.png  \n",
            "  inflating: lines_w25/20700_b.png   \n",
            "  inflating: __MACOSX/lines_w25/._20700_b.png  \n",
            "  inflating: lines_w25/24628_b.gt.txt  \n",
            "  inflating: __MACOSX/lines_w25/._24628_b.gt.txt  \n",
            "  inflating: lines_w25/25166_b.png   \n",
            "  inflating: __MACOSX/lines_w25/._25166_b.png  \n",
            "  inflating: lines_w25/4920_b.png    \n",
            "  inflating: __MACOSX/lines_w25/._4920_b.png  \n",
            "  inflating: lines_w25/32923_b.png   \n",
            "  inflating: __MACOSX/lines_w25/._32923_b.png  \n",
            "  inflating: lines_w25/15185_b.gt.txt  \n",
            "  inflating: __MACOSX/lines_w25/._15185_b.gt.txt  \n",
            "  inflating: lines_w25/29850_a.gt.txt  \n",
            "  inflating: __MACOSX/lines_w25/._29850_a.gt.txt  \n",
            "  inflating: lines_w25/16998_a.png   \n",
            "  inflating: __MACOSX/lines_w25/._16998_a.png  \n",
            "  inflating: lines_w25/2882_a.png    \n",
            "  inflating: __MACOSX/lines_w25/._2882_a.png  \n",
            "  inflating: lines_w25/34881_a.png   \n",
            "  inflating: __MACOSX/lines_w25/._34881_a.png  \n",
            "  inflating: lines_w25/19332_a.png   \n",
            "  inflating: __MACOSX/lines_w25/._19332_a.png  \n",
            "  inflating: lines_w25/21818_b.gt.txt  \n",
            "  inflating: __MACOSX/lines_w25/._21818_b.gt.txt  \n",
            "  inflating: lines_w25/7285_a.gt.txt  \n",
            "  inflating: __MACOSX/lines_w25/._7285_a.gt.txt  \n",
            "  inflating: lines_w25/48806_a.png   \n",
            "  inflating: __MACOSX/lines_w25/._48806_a.png  \n",
            "  inflating: lines_w25/45999_a.png   \n",
            "  inflating: __MACOSX/lines_w25/._45999_a.png  \n",
            "  inflating: lines_w25/14273_a.gt.txt  \n",
            "  inflating: __MACOSX/lines_w25/._14273_a.gt.txt  \n",
            "  inflating: lines_w25/27781_b.gt.txt  \n",
            "  inflating: __MACOSX/lines_w25/._27781_b.gt.txt  \n",
            "  inflating: lines_w25/47638_a.png   \n",
            "  inflating: __MACOSX/lines_w25/._47638_a.png  \n",
            "  inflating: lines_w25/20640_b.gt.txt  \n",
            "  inflating: __MACOSX/lines_w25/._20640_b.gt.txt  \n",
            "  inflating: lines_w25/24903_a.png   \n",
            "  inflating: __MACOSX/lines_w25/._24903_a.png  \n",
            "  inflating: lines_w25/34223_a.gt.txt  \n",
            "  inflating: __MACOSX/lines_w25/._34223_a.gt.txt  \n",
            "  inflating: lines_w25/5145_a.png    \n",
            "  inflating: __MACOSX/lines_w25/._5145_a.png  \n",
            "  inflating: lines_w25/36720_a.png   \n",
            "  inflating: __MACOSX/lines_w25/._36720_a.png  \n",
            "  inflating: lines_w25/14639_a.png   \n",
            "  inflating: __MACOSX/lines_w25/._14639_a.png  \n",
            "  inflating: lines_w25/33146_a.png   \n",
            "  inflating: __MACOSX/lines_w25/._33146_a.png  \n",
            "  inflating: lines_w25/26236_a.png   \n",
            "  inflating: __MACOSX/lines_w25/._26236_a.png  \n",
            "  inflating: lines_w25/23450_a.png   \n",
            "  inflating: __MACOSX/lines_w25/._23450_a.png  \n",
            "  inflating: lines_w25/28608_a.gt.txt  \n",
            "  inflating: __MACOSX/lines_w25/._28608_a.gt.txt  \n",
            "  inflating: lines_w25/46312_b.gt.txt  \n",
            "  inflating: __MACOSX/lines_w25/._46312_b.gt.txt  \n",
            "  inflating: lines_w25/25870_b.gt.txt  \n",
            "  inflating: __MACOSX/lines_w25/._25870_b.gt.txt  \n",
            "  inflating: lines_w25/40125_a.gt.txt  \n",
            "  inflating: __MACOSX/lines_w25/._40125_a.gt.txt  \n",
            "  inflating: lines_w25/0_b.png       \n",
            "  inflating: __MACOSX/lines_w25/._0_b.png  \n",
            "  inflating: lines_w25/26477_a.gt.txt  \n",
            "  inflating: __MACOSX/lines_w25/._26477_a.gt.txt  \n",
            "  inflating: lines_w25/32014_b.gt.txt  \n",
            "  inflating: __MACOSX/lines_w25/._32014_b.gt.txt  \n",
            "  inflating: lines_w25/30682_b.png   \n",
            "  inflating: __MACOSX/lines_w25/._30682_b.png  \n",
            "  inflating: lines_w25/6681_b.png    \n",
            "  inflating: __MACOSX/lines_w25/._6681_b.png  \n",
            "  inflating: lines_w25/20394_b.png   \n",
            "  inflating: __MACOSX/lines_w25/._20394_b.png  \n",
            "  inflating: lines_w25/333_a.png     \n",
            "  inflating: __MACOSX/lines_w25/._333_a.png  \n",
            "  inflating: lines_w25/18253_b.gt.txt  \n",
            "  inflating: __MACOSX/lines_w25/._18253_b.gt.txt  \n",
            "  inflating: lines_w25/49063_b.png   \n",
            "  inflating: __MACOSX/lines_w25/._49063_b.png  \n",
            "  inflating: lines_w25/45385_a.gt.txt  \n",
            "  inflating: __MACOSX/lines_w25/._45385_a.gt.txt  \n",
            "  inflating: lines_w25/24716_a.gt.txt  \n",
            "  inflating: __MACOSX/lines_w25/._24716_a.gt.txt  \n",
            "  inflating: lines_w25/30375_b.gt.txt  \n",
            "  inflating: __MACOSX/lines_w25/._30375_b.gt.txt  \n",
            "  inflating: lines_w25/38938_b.png   \n",
            "  inflating: __MACOSX/lines_w25/._38938_b.png  \n",
            "  inflating: lines_w25/27684_b.png   \n",
            "  inflating: __MACOSX/lines_w25/._27684_b.png  \n",
            "  inflating: lines_w25/42244_a.gt.txt  \n",
            "  inflating: __MACOSX/lines_w25/._42244_a.gt.txt  \n",
            "  inflating: lines_w25/37392_b.png   \n",
            "  inflating: __MACOSX/lines_w25/._37392_b.png  \n",
            "  inflating: lines_w25/1391_b.png    \n",
            "  inflating: __MACOSX/lines_w25/._1391_b.png  \n",
            "  inflating: lines_w25/18314_b.png   \n",
            "  inflating: __MACOSX/lines_w25/._18314_b.png  \n",
            "  inflating: lines_w25/9468_b.png    \n",
            "  inflating: __MACOSX/lines_w25/._9468_b.png  \n",
            "  inflating: lines_w25/44073_b.gt.txt  \n",
            "  inflating: __MACOSX/lines_w25/._44073_b.gt.txt  \n",
            "  inflating: lines_w25/21726_a.png   \n",
            "  inflating: __MACOSX/lines_w25/._21726_a.png  \n",
            "  inflating: lines_w25/8899_a.png    \n",
            "  inflating: __MACOSX/lines_w25/._8899_a.png  \n",
            "  inflating: lines_w25/24140_a.png   \n",
            "  inflating: __MACOSX/lines_w25/._24140_a.png  \n",
            "  inflating: lines_w25/2455_a.png    \n",
            "  inflating: __MACOSX/lines_w25/._2455_a.png  \n",
            "  inflating: lines_w25/31230_a.png   \n",
            "  inflating: __MACOSX/lines_w25/._31230_a.png  \n",
            "  inflating: lines_w25/13329_a.png   \n",
            "  inflating: __MACOSX/lines_w25/._13329_a.png  \n",
            "  inflating: lines_w25/7233_a.png    \n",
            "  inflating: __MACOSX/lines_w25/._7233_a.png  \n",
            "  inflating: lines_w25/34456_a.png   \n",
            "  inflating: __MACOSX/lines_w25/._34456_a.png  \n",
            "  inflating: lines_w25/5906_a.png    \n",
            "  inflating: __MACOSX/lines_w25/._5906_a.png  \n",
            "  inflating: lines_w25/33905_a.png   \n",
            "  inflating: __MACOSX/lines_w25/._33905_a.png  \n",
            "  inflating: lines_w25/21926_a.gt.txt  \n",
            "  inflating: __MACOSX/lines_w25/._21926_a.gt.txt  \n",
            "  inflating: lines_w25/22521_b.gt.txt  \n",
            "  inflating: __MACOSX/lines_w25/._22521_b.gt.txt  \n",
            "  inflating: lines_w25/36142_a.gt.txt  \n",
            "  inflating: __MACOSX/lines_w25/._36142_a.gt.txt  \n",
            "  inflating: lines_w25/40328_a.png   \n",
            "  inflating: __MACOSX/lines_w25/._40328_a.png  \n",
            "  inflating: lines_w25/31083_a.gt.txt  \n",
            "  inflating: __MACOSX/lines_w25/._31083_a.gt.txt  \n",
            "  inflating: lines_w25/8232_a.gt.txt  \n",
            "  inflating: __MACOSX/lines_w25/._8232_a.gt.txt  \n",
            "  inflating: lines_w25/22747_b.gt.txt  \n",
            "  inflating: __MACOSX/lines_w25/._22747_b.gt.txt  \n",
            "  inflating: lines_w25/36324_a.gt.txt  \n",
            "  inflating: __MACOSX/lines_w25/._36324_a.gt.txt  \n",
            "  inflating: lines_w25/22433_b.png   \n",
            "  inflating: __MACOSX/lines_w25/._22433_b.png  \n",
            "  inflating: lines_w25/27255_b.png   \n",
            "  inflating: __MACOSX/lines_w25/._27255_b.png  \n",
            "  inflating: lines_w25/32125_b.png   \n",
            "  inflating: __MACOSX/lines_w25/._32125_b.png  \n",
            "  inflating: lines_w25/1740_b.png    \n",
            "  inflating: __MACOSX/lines_w25/._1740_b.png  \n",
            "  inflating: lines_w25/37743_b.png   \n",
            "  inflating: __MACOSX/lines_w25/._37743_b.png  \n",
            "  inflating: lines_w25/4126_b.png    \n",
            "  inflating: __MACOSX/lines_w25/._4126_b.png  \n",
            "  inflating: lines_w25/44215_b.gt.txt  \n",
            "  inflating: __MACOSX/lines_w25/._44215_b.gt.txt  \n",
            "  inflating: lines_w25/25960_b.png   \n",
            "  inflating: __MACOSX/lines_w25/._25960_b.png  \n",
            "  inflating: lines_w25/25686_b.gt.txt  \n",
            "  inflating: __MACOSX/lines_w25/._25686_b.gt.txt  \n",
            "  inflating: lines_w25/8054_a.gt.txt  \n",
            "  inflating: __MACOSX/lines_w25/._8054_a.gt.txt  \n",
            "  inflating: lines_w25/48000_a.png   \n",
            "  inflating: __MACOSX/lines_w25/._48000_a.png  \n",
            "  inflating: lines_w25/24591_a.png   \n",
            "  inflating: __MACOSX/lines_w25/._24591_a.png  \n",
            "  inflating: lines_w25/34087_a.png   \n",
            "  inflating: __MACOSX/lines_w25/._34087_a.png  \n",
            "  inflating: lines_w25/27977_b.gt.txt  \n",
            "  inflating: __MACOSX/lines_w25/._27977_b.gt.txt  \n",
            "  inflating: lines_w25/2084_a.png    \n",
            "  inflating: __MACOSX/lines_w25/._2084_a.png  \n",
            "  inflating: lines_w25/39118_a.png   \n",
            "  inflating: __MACOSX/lines_w25/._39118_a.png  \n",
            "  inflating: lines_w25/42022_a.gt.txt  \n",
            "  inflating: __MACOSX/lines_w25/._42022_a.gt.txt  \n",
            "  inflating: lines_w25/24570_a.gt.txt  \n",
            "  inflating: __MACOSX/lines_w25/._24570_a.gt.txt  \n",
            "  inflating: lines_w25/30113_b.gt.txt  \n",
            "  inflating: __MACOSX/lines_w25/._30113_b.gt.txt  \n",
            "  inflating: lines_w25/19377_a.png   \n",
            "  inflating: __MACOSX/lines_w25/._19377_a.png  \n",
            "  inflating: lines_w25/33597_a.png   \n",
            "  inflating: __MACOSX/lines_w25/._33597_a.png  \n",
            "  inflating: lines_w25/5594_a.png    \n",
            "  inflating: __MACOSX/lines_w25/._5594_a.png  \n",
            "  inflating: lines_w25/23081_a.png   \n",
            "  inflating: __MACOSX/lines_w25/._23081_a.png  \n",
            "  inflating: lines_w25/26611_a.gt.txt  \n",
            "  inflating: __MACOSX/lines_w25/._26611_a.gt.txt  \n",
            "  inflating: lines_w25/32272_b.gt.txt  \n",
            "  inflating: __MACOSX/lines_w25/._32272_b.gt.txt  \n",
            "  inflating: lines_w25/40343_a.gt.txt  \n",
            "  inflating: __MACOSX/lines_w25/._40343_a.gt.txt  \n",
            "  inflating: lines_w25/48843_a.png   \n",
            "  inflating: __MACOSX/lines_w25/._48843_a.png  \n",
            "  inflating: lines_w25/18035_b.gt.txt  \n",
            "  inflating: __MACOSX/lines_w25/._18035_b.gt.txt  \n",
            "  inflating: lines_w25/47282_a.gt.txt  \n",
            "  inflating: __MACOSX/lines_w25/._47282_a.gt.txt  \n",
            "  inflating: lines_w25/29798_b.gt.txt  \n",
            "  inflating: __MACOSX/lines_w25/._29798_b.gt.txt  \n",
            "  inflating: lines_w25/33184_a.gt.txt  \n",
            "  inflating: __MACOSX/lines_w25/._33184_a.gt.txt  \n",
            "  inflating: lines_w25/46174_b.gt.txt  \n",
            "  inflating: __MACOSX/lines_w25/._46174_b.gt.txt  \n",
            "  inflating: lines_w25/23821_a.gt.txt  \n",
            "  inflating: __MACOSX/lines_w25/._23821_a.gt.txt  \n",
            "  inflating: lines_w25/32966_b.png   \n",
            "  inflating: __MACOSX/lines_w25/._32966_b.png  \n",
            "  inflating: lines_w25/4965_b.png    \n",
            "  inflating: __MACOSX/lines_w25/._4965_b.png  \n",
            "  inflating: lines_w25/35435_b.png   \n",
            "  inflating: __MACOSX/lines_w25/._35435_b.png  \n",
            "  inflating: lines_w25/6250_b.png    \n",
            "  inflating: __MACOSX/lines_w25/._6250_b.png  \n",
            "  inflating: lines_w25/30253_b.png   \n",
            "  inflating: __MACOSX/lines_w25/._30253_b.png  \n",
            "  inflating: lines_w25/3436_b.png    \n",
            "  inflating: __MACOSX/lines_w25/._3436_b.png  \n",
            "  inflating: lines_w25/25123_b.png   \n",
            "  inflating: __MACOSX/lines_w25/._25123_b.png  \n",
            "  inflating: lines_w25/20745_b.png   \n",
            "  inflating: __MACOSX/lines_w25/._20745_b.png  \n",
            "  inflating: lines_w25/20426_b.gt.txt  \n",
            "  inflating: __MACOSX/lines_w25/._20426_b.gt.txt  \n",
            "  inflating: lines_w25/34045_a.gt.txt  \n",
            "  inflating: __MACOSX/lines_w25/._34045_a.gt.txt  \n",
            "  inflating: lines_w25/24081_b.gt.txt  \n",
            "  inflating: __MACOSX/lines_w25/._24081_b.gt.txt  \n",
            "  inflating: lines_w25/9653_a.gt.txt  \n",
            "  inflating: __MACOSX/lines_w25/._9653_a.gt.txt  \n",
            "  inflating: lines_w25/29323_a.png   \n",
            "  inflating: __MACOSX/lines_w25/._29323_a.png  \n",
            "  inflating: lines_w25/23140_b.gt.txt  \n",
            "  inflating: __MACOSX/lines_w25/._23140_b.gt.txt  \n",
            "  inflating: lines_w25/37523_a.gt.txt  \n",
            "  inflating: __MACOSX/lines_w25/._37523_a.gt.txt  \n",
            "  inflating: lines_w25/39635_a.png   \n",
            "  inflating: __MACOSX/lines_w25/._39635_a.png  \n",
            "  inflating: lines_w25/26989_a.png   \n",
            "  inflating: __MACOSX/lines_w25/._26989_a.png  \n",
            "  inflating: lines_w25/46815_a.gt.txt  \n",
            "  inflating: __MACOSX/lines_w25/._46815_a.gt.txt  \n",
            "  inflating: lines_w25/34924_b.gt.txt  \n",
            "  inflating: __MACOSX/lines_w25/._34924_b.gt.txt  \n",
            "  inflating: lines_w25/45412_b.gt.txt  \n",
            "  inflating: __MACOSX/lines_w25/._45412_b.gt.txt  \n",
            "  inflating: lines_w25/43625_a.gt.txt  \n",
            "  inflating: __MACOSX/lines_w25/._43625_a.gt.txt  \n",
            "  inflating: lines_w25/25377_a.gt.txt  \n",
            "  inflating: __MACOSX/lines_w25/._25377_a.gt.txt  \n",
            "  inflating: lines_w25/31714_b.gt.txt  \n",
            "  inflating: __MACOSX/lines_w25/._31714_b.gt.txt  \n",
            "  inflating: lines_w25/9794_b.png    \n",
            "  inflating: __MACOSX/lines_w25/._9794_b.png  \n",
            "  inflating: lines_w25/32608_b.png   \n",
            "  inflating: __MACOSX/lines_w25/._32608_b.png  \n",
            "  inflating: lines_w25/15177_b.png   \n",
            "  inflating: __MACOSX/lines_w25/._15177_b.png  \n",
            "  inflating: lines_w25/10711_b.png   \n",
            "  inflating: __MACOSX/lines_w25/._10711_b.png  \n",
            "  inflating: lines_w25/27578_b.png   \n",
            "  inflating: __MACOSX/lines_w25/._27578_b.png  \n",
            "  inflating: lines_w25/18954_a.gt.txt  \n",
            "  inflating: __MACOSX/lines_w25/._18954_a.gt.txt  \n",
            "  inflating: lines_w25/43710_b.png   \n",
            "  inflating: __MACOSX/lines_w25/._43710_b.png  \n",
            "  inflating: lines_w25/46176_b.png   \n",
            "  inflating: __MACOSX/lines_w25/._46176_b.png  \n",
            "  inflating: lines_w25/45882_b.gt.txt  \n",
            "  inflating: __MACOSX/lines_w25/._45882_b.gt.txt  \n",
            "  inflating: lines_w25/19632_b.gt.txt  \n",
            "  inflating: __MACOSX/lines_w25/._19632_b.gt.txt  \n",
            "  inflating: lines_w25/44200_b.png   \n",
            "  inflating: __MACOSX/lines_w25/._44200_b.png  \n",
            "  inflating: lines_w25/46485_a.gt.txt  \n",
            "  inflating: __MACOSX/lines_w25/._46485_a.gt.txt  \n",
            "  inflating: lines_w25/41466_b.png   \n",
            "  inflating: __MACOSX/lines_w25/._41466_b.png  \n",
            "  inflating: lines_w25/46935_b.png   \n",
            "  inflating: __MACOSX/lines_w25/._46935_b.png  \n",
            "  inflating: lines_w25/42943_b.gt.txt  \n",
            "  inflating: __MACOSX/lines_w25/._42943_b.gt.txt  \n",
            "  inflating: lines_w25/27016_a.gt.txt  \n",
            "  inflating: __MACOSX/lines_w25/._27016_a.gt.txt  \n",
            "  inflating: lines_w25/33475_b.gt.txt  \n",
            "  inflating: __MACOSX/lines_w25/._33475_b.gt.txt  \n",
            "  inflating: lines_w25/20068_b.png   \n",
            "  inflating: __MACOSX/lines_w25/._20068_b.png  \n",
            "  inflating: lines_w25/35318_b.png   \n",
            "  inflating: __MACOSX/lines_w25/._35318_b.png  \n",
            "  inflating: lines_w25/12467_b.png   \n",
            "  inflating: __MACOSX/lines_w25/._12467_b.png  \n",
            "  inflating: lines_w25/17201_b.png   \n",
            "  inflating: __MACOSX/lines_w25/._17201_b.png  \n",
            "  inflating: lines_w25/41544_a.gt.txt  \n",
            "  inflating: __MACOSX/lines_w25/._41544_a.gt.txt  \n",
            "  inflating: lines_w25/30872_a.gt.txt  \n",
            "  inflating: __MACOSX/lines_w25/._30872_a.gt.txt  \n",
            "  inflating: lines_w25/38287_b.png   \n",
            "  inflating: __MACOSX/lines_w25/._38287_b.png  \n",
            "  inflating: lines_w25/15934_b.png   \n",
            "  inflating: __MACOSX/lines_w25/._15934_b.png  \n",
            "  inflating: lines_w25/28791_b.png   \n",
            "  inflating: __MACOSX/lines_w25/._28791_b.png  \n",
            "  inflating: lines_w25/47773_b.gt.txt  \n",
            "  inflating: __MACOSX/lines_w25/._47773_b.gt.txt  \n",
            "  inflating: lines_w25/8326_a.png    \n",
            "  inflating: __MACOSX/lines_w25/._8326_a.png  \n",
            "  inflating: lines_w25/29269_a.gt.txt  \n",
            "  inflating: __MACOSX/lines_w25/._29269_a.gt.txt  \n",
            "  inflating: lines_w25/13896_a.png   \n",
            "  inflating: __MACOSX/lines_w25/._13896_a.png  \n",
            "  inflating: lines_w25/21221_b.gt.txt  \n",
            "  inflating: __MACOSX/lines_w25/._21221_b.gt.txt  \n",
            "  inflating: lines_w25/35642_a.gt.txt  \n",
            "  inflating: __MACOSX/lines_w25/._35642_a.gt.txt  \n",
            "  inflating: lines_w25/8935_b.gt.txt  \n",
            "  inflating: __MACOSX/lines_w25/._8935_b.gt.txt  \n",
            "  inflating: lines_w25/40897_a.png   \n",
            "  inflating: __MACOSX/lines_w25/._40897_a.png  \n",
            "  inflating: lines_w25/32783_a.gt.txt  \n",
            "  inflating: __MACOSX/lines_w25/._32783_a.gt.txt  \n",
            "  inflating: lines_w25/21047_b.gt.txt  \n",
            "  inflating: __MACOSX/lines_w25/._21047_b.gt.txt  \n",
            "  inflating: lines_w25/35424_a.gt.txt  \n",
            "  inflating: __MACOSX/lines_w25/._35424_a.gt.txt  \n",
            "  inflating: lines_w25/44912_a.gt.txt  \n",
            "  inflating: __MACOSX/lines_w25/._44912_a.gt.txt  \n",
            "  inflating: lines_w25/36823_b.gt.txt  \n",
            "  inflating: __MACOSX/lines_w25/._36823_b.gt.txt  \n",
            "  inflating: lines_w25/38656_b.png   \n",
            "  inflating: __MACOSX/lines_w25/._38656_b.png  \n",
            "  inflating: lines_w25/47515_b.gt.txt  \n",
            "  inflating: __MACOSX/lines_w25/._47515_b.gt.txt  \n",
            "  inflating: lines_w25/28340_b.png   \n",
            "  inflating: __MACOSX/lines_w25/._28340_b.png  \n",
            "  inflating: lines_w25/26186_b.gt.txt  \n",
            "  inflating: __MACOSX/lines_w25/._26186_b.gt.txt  \n",
            "  inflating: lines_w25/47115_a.png   \n",
            "  inflating: __MACOSX/lines_w25/._47115_a.png  \n",
            "  inflating: lines_w25/959_a.gt.txt  \n",
            "  inflating: __MACOSX/lines_w25/._959_a.gt.txt  \n",
            "  inflating: lines_w25/42773_a.png   \n",
            "  inflating: __MACOSX/lines_w25/._42773_a.png  \n",
            "  inflating: lines_w25/19454_b.gt.txt  \n",
            "  inflating: __MACOSX/lines_w25/._19454_b.gt.txt  \n",
            "  inflating: lines_w25/11772_a.png   \n",
            "  inflating: __MACOSX/lines_w25/._11772_a.png  \n",
            "  inflating: lines_w25/5668_a.png    \n",
            "  inflating: __MACOSX/lines_w25/._5668_a.png  \n",
            "  inflating: lines_w25/14114_a.png   \n",
            "  inflating: __MACOSX/lines_w25/._14114_a.png  \n",
            "  inflating: lines_w25/21848_a.png   \n",
            "  inflating: __MACOSX/lines_w25/._21848_a.png  \n",
            "  inflating: lines_w25/41722_a.gt.txt  \n",
            "  inflating: __MACOSX/lines_w25/._41722_a.gt.txt  \n",
            "  inflating: lines_w25/27270_a.gt.txt  \n",
            "  inflating: __MACOSX/lines_w25/._27270_a.gt.txt  \n",
            "  inflating: lines_w25/33613_b.gt.txt  \n",
            "  inflating: __MACOSX/lines_w25/._33613_b.gt.txt  \n",
            "  inflating: lines_w25/14957_a.png   \n",
            "  inflating: __MACOSX/lines_w25/._14957_a.png  \n",
            "  inflating: lines_w25/40844_b.gt.txt  \n",
            "  inflating: __MACOSX/lines_w25/._40844_b.gt.txt  \n",
            "  inflating: lines_w25/16262_a.png   \n",
            "  inflating: __MACOSX/lines_w25/._16262_a.png  \n",
            "  inflating: lines_w25/2378_a.png    \n",
            "  inflating: __MACOSX/lines_w25/._2378_a.png  \n",
            "  inflating: lines_w25/25111_a.gt.txt  \n",
            "  inflating: __MACOSX/lines_w25/._25111_a.gt.txt  \n",
            "  inflating: lines_w25/31572_b.gt.txt  \n",
            "  inflating: __MACOSX/lines_w25/._31572_b.gt.txt  \n",
            "  inflating: lines_w25/13404_a.png   \n",
            "  inflating: __MACOSX/lines_w25/._13404_a.png  \n",
            "  inflating: lines_w25/43443_a.gt.txt  \n",
            "  inflating: __MACOSX/lines_w25/._43443_a.gt.txt  \n",
            "  inflating: lines_w25/32975_a.gt.txt  \n",
            "  inflating: __MACOSX/lines_w25/._32975_a.gt.txt  \n",
            "  inflating: lines_w25/47956_a.png   \n",
            "  inflating: __MACOSX/lines_w25/._47956_a.png  \n",
            "  inflating: lines_w25/47985_b.gt.txt  \n",
            "  inflating: __MACOSX/lines_w25/._47985_b.gt.txt  \n",
            "  inflating: lines_w25/40405_a.png   \n",
            "  inflating: __MACOSX/lines_w25/._40405_a.png  \n",
            "  inflating: lines_w25/45263_a.png   \n",
            "  inflating: __MACOSX/lines_w25/._45263_a.png  \n",
            "  inflating: lines_w25/44582_a.gt.txt  \n",
            "  inflating: __MACOSX/lines_w25/._44582_a.gt.txt  \n",
            "  inflating: lines_w25/30684_a.gt.txt  \n",
            "  inflating: __MACOSX/lines_w25/._30684_a.gt.txt  \n",
            "  inflating: lines_w25/9435_a.gt.txt  \n",
            "  inflating: __MACOSX/lines_w25/._9435_a.gt.txt  \n",
            "  inflating: lines_w25/45674_b.gt.txt  \n",
            "  inflating: __MACOSX/lines_w25/._45674_b.gt.txt  \n",
            "  inflating: lines_w25/18439_b.png   \n",
            "  inflating: __MACOSX/lines_w25/._18439_b.png  \n",
            "  inflating: lines_w25/9345_b.png    \n",
            "  inflating: __MACOSX/lines_w25/._9345_b.png  \n",
            "  inflating: lines_w25/23326_b.gt.txt  \n",
            "  inflating: __MACOSX/lines_w25/._23326_b.gt.txt  \n",
            "  inflating: lines_w25/37745_a.gt.txt  \n",
            "  inflating: __MACOSX/lines_w25/._37745_a.gt.txt  \n",
            "  inflating: lines_w25/29131_b.gt.txt  \n",
            "  inflating: __MACOSX/lines_w25/._29131_b.gt.txt  \n",
            "  inflating: lines_w25/10754_b.png   \n",
            "  inflating: __MACOSX/lines_w25/._10754_b.png  \n",
            "  inflating: lines_w25/1028_b.png    \n",
            "  inflating: __MACOSX/lines_w25/._1028_b.png  \n",
            "  inflating: lines_w25/15132_b.png   \n",
            "  inflating: __MACOSX/lines_w25/._15132_b.png  \n",
            "  inflating: lines_w25/21179_a.gt.txt  \n",
            "  inflating: __MACOSX/lines_w25/._21179_a.gt.txt  \n",
            "  inflating: lines_w25/3622_a.gt.txt  \n",
            "  inflating: __MACOSX/lines_w25/._3622_a.gt.txt  \n",
            "  inflating: lines_w25/46133_b.png   \n",
            "  inflating: __MACOSX/lines_w25/._46133_b.png  \n",
            "  inflating: lines_w25/43755_b.png   \n",
            "  inflating: __MACOSX/lines_w25/._43755_b.png  \n",
            "  inflating: lines_w25/17715_a.gt.txt  \n",
            "  inflating: __MACOSX/lines_w25/._17715_a.gt.txt  \n",
            "  inflating: lines_w25/39894_b.gt.txt  \n",
            "  inflating: __MACOSX/lines_w25/._39894_b.gt.txt  \n",
            "  inflating: lines_w25/40091_a.png   \n",
            "  inflating: __MACOSX/lines_w25/._40091_a.png  \n",
            "  inflating: lines_w25/11522_b.gt.txt  \n",
            "  inflating: __MACOSX/lines_w25/._11522_b.gt.txt  \n",
            "  inflating: lines_w25/6812_a.gt.txt  \n",
            "  inflating: __MACOSX/lines_w25/._6812_a.gt.txt  \n",
            "  inflating: lines_w25/48768_a.png   \n",
            "  inflating: __MACOSX/lines_w25/._48768_a.png  \n",
            "  inflating: lines_w25/12925_a.gt.txt  \n",
            "  inflating: __MACOSX/lines_w25/._12925_a.gt.txt  \n",
            "  inflating: lines_w25/867_b.gt.txt  \n",
            "  inflating: __MACOSX/lines_w25/._867_b.gt.txt  \n",
            "  inflating: lines_w25/5415_b.gt.txt  \n",
            "  inflating: __MACOSX/lines_w25/._5415_b.gt.txt  \n",
            "  inflating: lines_w25/31189_a.png   \n",
            "  inflating: __MACOSX/lines_w25/._31189_a.png  \n",
            "  inflating: lines_w25/13090_a.png   \n",
            "  inflating: __MACOSX/lines_w25/._13090_a.png  \n",
            "  inflating: lines_w25/29366_a.png   \n",
            "  inflating: __MACOSX/lines_w25/._29366_a.png  \n",
            "  inflating: lines_w25/39670_a.png   \n",
            "  inflating: __MACOSX/lines_w25/._39670_a.png  \n",
            "  inflating: lines_w25/8363_a.png    \n",
            "  inflating: __MACOSX/lines_w25/._8363_a.png  \n",
            "  inflating: lines_w25/39404_b.gt.txt  \n",
            "  inflating: __MACOSX/lines_w25/._39404_b.gt.txt  \n",
            "  inflating: lines_w25/48932_b.gt.txt  \n",
            "  inflating: __MACOSX/lines_w25/._48932_b.gt.txt  \n",
            "  inflating: lines_w25/36499_a.png   \n",
            "  inflating: __MACOSX/lines_w25/._36499_a.png  \n",
            "  inflating: lines_w25/14580_a.png   \n",
            "  inflating: __MACOSX/lines_w25/._14580_a.png  \n",
            "  inflating: lines_w25/14782_b.gt.txt  \n",
            "  inflating: __MACOSX/lines_w25/._14782_b.gt.txt  \n",
            "  inflating: lines_w25/7774_b.gt.txt  \n",
            "  inflating: __MACOSX/lines_w25/._7774_b.gt.txt  \n",
            "  inflating: lines_w25/47581_a.png   \n",
            "  inflating: __MACOSX/lines_w25/._47581_a.png  \n",
            "  inflating: lines_w25/13643_b.gt.txt  \n",
            "  inflating: __MACOSX/lines_w25/._13643_b.gt.txt  \n",
            "  inflating: lines_w25/2944_b.gt.txt  \n",
            "  inflating: __MACOSX/lines_w25/._2944_b.gt.txt  \n",
            "  inflating: lines_w25/15474_a.gt.txt  \n",
            "  inflating: __MACOSX/lines_w25/._15474_a.gt.txt  \n",
            "  inflating: lines_w25/1543_a.gt.txt  \n",
            "  inflating: __MACOSX/lines_w25/._1543_a.gt.txt  \n",
            "  inflating: lines_w25/46970_b.png   \n",
            "  inflating: __MACOSX/lines_w25/._46970_b.png  \n",
            "  inflating: lines_w25/41423_b.png   \n",
            "  inflating: __MACOSX/lines_w25/._41423_b.png  \n",
            "  inflating: lines_w25/44245_b.png   \n",
            "  inflating: __MACOSX/lines_w25/._44245_b.png  \n",
            "  inflating: lines_w25/16873_b.gt.txt  \n",
            "  inflating: __MACOSX/lines_w25/._16873_b.gt.txt  \n",
            "  inflating: lines_w25/23218_a.gt.txt  \n",
            "  inflating: __MACOSX/lines_w25/._23218_a.gt.txt  \n",
            "  inflating: lines_w25/5885_b.gt.txt  \n",
            "  inflating: __MACOSX/lines_w25/._5885_b.gt.txt  \n",
            "  inflating: lines_w25/6482_a.gt.txt  \n",
            "  inflating: __MACOSX/lines_w25/._6482_a.gt.txt  \n",
            "  inflating: lines_w25/37868_b.png   \n",
            "  inflating: __MACOSX/lines_w25/._37868_b.png  \n",
            "  inflating: lines_w25/15971_b.png   \n",
            "  inflating: __MACOSX/lines_w25/._15971_b.png  \n",
            "  inflating: lines_w25/17244_b.png   \n",
            "  inflating: __MACOSX/lines_w25/._17244_b.png  \n",
            "  inflating: lines_w25/12422_b.png   \n",
            "  inflating: __MACOSX/lines_w25/._12422_b.png  \n",
            "  inflating: lines_w25/6538_b.png    \n",
            "  inflating: __MACOSX/lines_w25/._6538_b.png  \n",
            "  inflating: lines_w25/1725_a.gt.txt  \n",
            "  inflating: __MACOSX/lines_w25/._1725_a.gt.txt  \n",
            "  inflating: lines_w25/42736_a.png   \n",
            "  inflating: __MACOSX/lines_w25/._42736_a.png  \n",
            "  inflating: lines_w25/38594_a.gt.txt  \n",
            "  inflating: __MACOSX/lines_w25/._38594_a.gt.txt  \n",
            "  inflating: lines_w25/47150_a.png   \n",
            "  inflating: __MACOSX/lines_w25/._47150_a.png  \n",
            "  inflating: lines_w25/15612_a.gt.txt  \n",
            "  inflating: __MACOSX/lines_w25/._15612_a.gt.txt  \n",
            "  inflating: lines_w25/23338_a.png   \n",
            "  inflating: __MACOSX/lines_w25/._23338_a.png  \n",
            "  inflating: lines_w25/14151_a.png   \n",
            "  inflating: __MACOSX/lines_w25/._14151_a.png  \n",
            "  inflating: lines_w25/36048_a.png   \n",
            "  inflating: __MACOSX/lines_w25/._36048_a.png  \n",
            "  inflating: lines_w25/11737_a.png   \n",
            "  inflating: __MACOSX/lines_w25/._11737_a.png  \n",
            "  inflating: lines_w25/691_b.gt.txt  \n",
            "  inflating: __MACOSX/lines_w25/._691_b.gt.txt  \n",
            "  inflating: lines_w25/25249_b.gt.txt  \n",
            "  inflating: __MACOSX/lines_w25/._25249_b.gt.txt  \n",
            "  inflating: lines_w25/38613_b.png   \n",
            "  inflating: __MACOSX/lines_w25/._38613_b.png  \n",
            "  inflating: lines_w25/28305_b.png   \n",
            "  inflating: __MACOSX/lines_w25/._28305_b.png  \n",
            "  inflating: lines_w25/39662_b.gt.txt  \n",
            "  inflating: __MACOSX/lines_w25/._39662_b.gt.txt  \n",
            "  inflating: lines_w25/17695_b.png   \n",
            "  inflating: __MACOSX/lines_w25/._17695_b.png  \n",
            "  inflating: lines_w25/13425_b.gt.txt  \n",
            "  inflating: __MACOSX/lines_w25/._13425_b.gt.txt  \n",
            "  inflating: lines_w25/22388_b.gt.txt  \n",
            "  inflating: __MACOSX/lines_w25/._22388_b.gt.txt  \n",
            "  inflating: lines_w25/4915_a.gt.txt  \n",
            "  inflating: __MACOSX/lines_w25/._4915_a.gt.txt  \n",
            "  inflating: lines_w25/10822_a.gt.txt  \n",
            "  inflating: __MACOSX/lines_w25/._10822_a.gt.txt  \n",
            "  inflating: lines_w25/7512_b.gt.txt  \n",
            "  inflating: __MACOSX/lines_w25/._7512_b.gt.txt  \n",
            "  inflating: lines_w25/44694_b.png   \n",
            "  inflating: __MACOSX/lines_w25/._44694_b.png  \n",
            "  inflating: lines_w25/5673_b.gt.txt  \n",
            "  inflating: __MACOSX/lines_w25/._5673_b.gt.txt  \n",
            "  inflating: lines_w25/43384_b.png   \n",
            "  inflating: __MACOSX/lines_w25/._43384_b.png  \n",
            "  inflating: lines_w25/11744_b.gt.txt  \n",
            "  inflating: __MACOSX/lines_w25/._11744_b.gt.txt  \n",
            "  inflating: lines_w25/27128_b.gt.txt  \n",
            "  inflating: __MACOSX/lines_w25/._27128_b.gt.txt  \n",
            "  inflating: lines_w25/10385_b.png   \n",
            "  inflating: __MACOSX/lines_w25/._10385_b.png  \n",
            "  inflating: lines_w25/38904_a.gt.txt  \n",
            "  inflating: __MACOSX/lines_w25/._38904_a.gt.txt  \n",
            "  inflating: lines_w25/49432_a.gt.txt  \n",
            "  inflating: __MACOSX/lines_w25/._49432_a.gt.txt  \n",
            "  inflating: lines_w25/9300_b.png    \n",
            "  inflating: __MACOSX/lines_w25/._9300_b.png  \n",
            "  inflating: lines_w25/16685_b.gt.txt  \n",
            "  inflating: __MACOSX/lines_w25/._16685_b.gt.txt  \n",
            "  inflating: lines_w25/13441_a.png   \n",
            "  inflating: __MACOSX/lines_w25/._13441_a.png  \n",
            "  inflating: lines_w25/31558_a.png   \n",
            "  inflating: __MACOSX/lines_w25/._31558_a.png  \n",
            "  inflating: lines_w25/16227_a.png   \n",
            "  inflating: __MACOSX/lines_w25/._16227_a.png  \n",
            "  inflating: lines_w25/7982_b.gt.txt  \n",
            "  inflating: __MACOSX/lines_w25/._7982_b.gt.txt  \n",
            "  inflating: lines_w25/24628_a.png   \n",
            "  inflating: __MACOSX/lines_w25/._24628_a.png  \n",
            "  inflating: lines_w25/14912_a.png   \n",
            "  inflating: __MACOSX/lines_w25/._14912_a.png  \n",
            "  inflating: lines_w25/29357_b.gt.txt  \n",
            "  inflating: __MACOSX/lines_w25/._29357_b.gt.txt  \n",
            "  inflating: lines_w25/4585_a.gt.txt  \n",
            "  inflating: __MACOSX/lines_w25/._4585_a.gt.txt  \n",
            "  inflating: lines_w25/45226_a.png   \n",
            "  inflating: __MACOSX/lines_w25/._45226_a.png  \n",
            "  inflating: lines_w25/40440_a.png   \n",
            "  inflating: __MACOSX/lines_w25/._40440_a.png  \n",
            "  inflating: lines_w25/47913_a.png   \n",
            "  inflating: __MACOSX/lines_w25/._47913_a.png  \n",
            "  inflating: lines_w25/17573_a.gt.txt  \n",
            "  inflating: __MACOSX/lines_w25/._17573_a.gt.txt  \n",
            "  inflating: lines_w25/3444_a.gt.txt  \n",
            "  inflating: __MACOSX/lines_w25/._3444_a.gt.txt  \n",
            "  inflating: lines_w25/14974_b.gt.txt  \n",
            "  inflating: __MACOSX/lines_w25/._14974_b.gt.txt  \n",
            "  inflating: lines_w25/19455_b.gt.txt  \n",
            "  inflating: __MACOSX/lines_w25/._19455_b.gt.txt  \n",
            "  inflating: lines_w25/43773_a.png   \n",
            "  inflating: __MACOSX/lines_w25/._43773_a.png  \n",
            "  inflating: lines_w25/46115_a.png   \n",
            "  inflating: __MACOSX/lines_w25/._46115_a.png  \n",
            "  inflating: lines_w25/958_a.gt.txt  \n",
            "  inflating: __MACOSX/lines_w25/._958_a.gt.txt  \n",
            "  inflating: lines_w25/20848_a.png   \n",
            "  inflating: __MACOSX/lines_w25/._20848_a.png  \n",
            "  inflating: lines_w25/41723_a.gt.txt  \n",
            "  inflating: __MACOSX/lines_w25/._41723_a.gt.txt  \n",
            "  inflating: lines_w25/15114_a.png   \n",
            "  inflating: __MACOSX/lines_w25/._15114_a.png  \n",
            "  inflating: lines_w25/10772_a.png   \n",
            "  inflating: __MACOSX/lines_w25/._10772_a.png  \n",
            "  inflating: lines_w25/4668_a.png    \n",
            "  inflating: __MACOSX/lines_w25/._4668_a.png  \n",
            "  inflating: lines_w25/27271_a.gt.txt  \n",
            "  inflating: __MACOSX/lines_w25/._27271_a.gt.txt  \n",
            "  inflating: lines_w25/33612_b.gt.txt  \n",
            "  inflating: __MACOSX/lines_w25/._33612_b.gt.txt  \n",
            "  inflating: lines_w25/44913_a.gt.txt  \n",
            "  inflating: __MACOSX/lines_w25/._44913_a.gt.txt  \n",
            "  inflating: lines_w25/21046_b.gt.txt  \n",
            "  inflating: __MACOSX/lines_w25/._21046_b.gt.txt  \n",
            "  inflating: lines_w25/35425_a.gt.txt  \n",
            "  inflating: __MACOSX/lines_w25/._35425_a.gt.txt  \n",
            "  inflating: lines_w25/39656_b.png   \n",
            "  inflating: __MACOSX/lines_w25/._39656_b.png  \n",
            "  inflating: lines_w25/29340_b.png   \n",
            "  inflating: __MACOSX/lines_w25/._29340_b.png  \n",
            "  inflating: lines_w25/47514_b.gt.txt  \n",
            "  inflating: __MACOSX/lines_w25/._47514_b.gt.txt  \n",
            "  inflating: lines_w25/36822_b.gt.txt  \n",
            "  inflating: __MACOSX/lines_w25/._36822_b.gt.txt  \n",
            "  inflating: lines_w25/26187_b.gt.txt  \n",
            "  inflating: __MACOSX/lines_w25/._26187_b.gt.txt  \n",
            "  inflating: lines_w25/30685_a.gt.txt  \n",
            "  inflating: __MACOSX/lines_w25/._30685_a.gt.txt  \n",
            "  inflating: lines_w25/9434_a.gt.txt  \n",
            "  inflating: __MACOSX/lines_w25/._9434_a.gt.txt  \n",
            "  inflating: lines_w25/45675_b.gt.txt  \n",
            "  inflating: __MACOSX/lines_w25/._45675_b.gt.txt  \n",
            "  inflating: lines_w25/23327_b.gt.txt  \n",
            "  inflating: __MACOSX/lines_w25/._23327_b.gt.txt  \n",
            "  inflating: lines_w25/37744_a.gt.txt  \n",
            "  inflating: __MACOSX/lines_w25/._37744_a.gt.txt  \n",
            "  inflating: lines_w25/8345_b.png    \n",
            "  inflating: __MACOSX/lines_w25/._8345_b.png  \n",
            "  inflating: lines_w25/19439_b.png   \n",
            "  inflating: __MACOSX/lines_w25/._19439_b.png  \n",
            "  inflating: lines_w25/12404_a.png   \n",
            "  inflating: __MACOSX/lines_w25/._12404_a.png  \n",
            "  inflating: lines_w25/17262_a.png   \n",
            "  inflating: __MACOSX/lines_w25/._17262_a.png  \n",
            "  inflating: lines_w25/3378_a.png    \n",
            "  inflating: __MACOSX/lines_w25/._3378_a.png  \n",
            "  inflating: lines_w25/25110_a.gt.txt  \n",
            "  inflating: __MACOSX/lines_w25/._25110_a.gt.txt  \n",
            "  inflating: lines_w25/31573_b.gt.txt  \n",
            "  inflating: __MACOSX/lines_w25/._31573_b.gt.txt  \n",
            "  inflating: lines_w25/15957_a.png   \n",
            "  inflating: __MACOSX/lines_w25/._15957_a.png  \n",
            "  inflating: lines_w25/40845_b.gt.txt  \n",
            "  inflating: __MACOSX/lines_w25/._40845_b.gt.txt  \n",
            "  inflating: lines_w25/32974_a.gt.txt  \n",
            "  inflating: __MACOSX/lines_w25/._32974_a.gt.txt  \n",
            "  inflating: lines_w25/43442_a.gt.txt  \n",
            "  inflating: __MACOSX/lines_w25/._43442_a.gt.txt  \n",
            "  inflating: lines_w25/44263_a.png   \n",
            "  inflating: __MACOSX/lines_w25/._44263_a.png  \n",
            "  inflating: lines_w25/41405_a.png   \n",
            "  inflating: __MACOSX/lines_w25/._41405_a.png  \n",
            "  inflating: lines_w25/46956_a.png   \n",
            "  inflating: __MACOSX/lines_w25/._46956_a.png  \n",
            "  inflating: lines_w25/47984_b.gt.txt  \n",
            "  inflating: __MACOSX/lines_w25/._47984_b.gt.txt  \n",
            "  inflating: lines_w25/44583_a.gt.txt  \n",
            "  inflating: __MACOSX/lines_w25/._44583_a.gt.txt  \n",
            "  inflating: lines_w25/43624_a.gt.txt  \n",
            "  inflating: __MACOSX/lines_w25/._43624_a.gt.txt  \n",
            "  inflating: lines_w25/11711_b.png   \n",
            "  inflating: __MACOSX/lines_w25/._11711_b.png  \n",
            "  inflating: lines_w25/14177_b.png   \n",
            "  inflating: __MACOSX/lines_w25/._14177_b.png  \n",
            "  inflating: lines_w25/33608_b.png   \n",
            "  inflating: __MACOSX/lines_w25/._33608_b.png  \n",
            "  inflating: lines_w25/26578_b.png   \n",
            "  inflating: __MACOSX/lines_w25/._26578_b.png  \n",
            "  inflating: lines_w25/25376_a.gt.txt  \n",
            "  inflating: __MACOSX/lines_w25/._25376_a.gt.txt  \n",
            "  inflating: lines_w25/31715_b.gt.txt  \n",
            "  inflating: __MACOSX/lines_w25/._31715_b.gt.txt  \n",
            "  inflating: lines_w25/8794_b.png    \n",
            "  inflating: __MACOSX/lines_w25/._8794_b.png  \n",
            "  inflating: lines_w25/47176_b.png   \n",
            "  inflating: __MACOSX/lines_w25/._47176_b.png  \n",
            "  inflating: lines_w25/18955_a.gt.txt  \n",
            "  inflating: __MACOSX/lines_w25/._18955_a.gt.txt  \n",
            "  inflating: lines_w25/42710_b.png   \n",
            "  inflating: __MACOSX/lines_w25/._42710_b.png  \n",
            "  inflating: lines_w25/24080_b.gt.txt  \n",
            "  inflating: __MACOSX/lines_w25/._24080_b.gt.txt  \n",
            "  inflating: lines_w25/9652_a.gt.txt  \n",
            "  inflating: __MACOSX/lines_w25/._9652_a.gt.txt  \n",
            "  inflating: lines_w25/46814_a.gt.txt  \n",
            "  inflating: __MACOSX/lines_w25/._46814_a.gt.txt  \n",
            "  inflating: lines_w25/28323_a.png   \n",
            "  inflating: __MACOSX/lines_w25/._28323_a.png  \n",
            "  inflating: lines_w25/23141_b.gt.txt  \n",
            "  inflating: __MACOSX/lines_w25/._23141_b.gt.txt  \n",
            "  inflating: lines_w25/37522_a.gt.txt  \n",
            "  inflating: __MACOSX/lines_w25/._37522_a.gt.txt  \n",
            "  inflating: lines_w25/38635_a.png   \n",
            "  inflating: __MACOSX/lines_w25/._38635_a.png  \n",
            "  inflating: lines_w25/27989_a.png   \n",
            "  inflating: __MACOSX/lines_w25/._27989_a.png  \n",
            "  inflating: lines_w25/45413_b.gt.txt  \n",
            "  inflating: __MACOSX/lines_w25/._45413_b.gt.txt  \n",
            "  inflating: lines_w25/34925_b.gt.txt  \n",
            "  inflating: __MACOSX/lines_w25/._34925_b.gt.txt  \n",
            "  inflating: lines_w25/9326_a.png    \n",
            "  inflating: __MACOSX/lines_w25/._9326_a.png  \n",
            "  inflating: lines_w25/12896_a.png   \n",
            "  inflating: __MACOSX/lines_w25/._12896_a.png  \n",
            "  inflating: lines_w25/29268_a.gt.txt  \n",
            "  inflating: __MACOSX/lines_w25/._29268_a.gt.txt  \n",
            "  inflating: lines_w25/47772_b.gt.txt  \n",
            "  inflating: __MACOSX/lines_w25/._47772_b.gt.txt  \n",
            "  inflating: lines_w25/21220_b.gt.txt  \n",
            "  inflating: __MACOSX/lines_w25/._21220_b.gt.txt  \n",
            "  inflating: lines_w25/35643_a.gt.txt  \n",
            "  inflating: __MACOSX/lines_w25/._35643_a.gt.txt  \n",
            "  inflating: lines_w25/41897_a.png   \n",
            "  inflating: __MACOSX/lines_w25/._41897_a.png  \n",
            "  inflating: lines_w25/8934_b.gt.txt  \n",
            "  inflating: __MACOSX/lines_w25/._8934_b.gt.txt  \n",
            "  inflating: lines_w25/32782_a.gt.txt  \n",
            "  inflating: __MACOSX/lines_w25/._32782_a.gt.txt  \n",
            "  inflating: lines_w25/45883_b.gt.txt  \n",
            "  inflating: __MACOSX/lines_w25/._45883_b.gt.txt  \n",
            "  inflating: lines_w25/47935_b.png   \n",
            "  inflating: __MACOSX/lines_w25/._47935_b.png  \n",
            "  inflating: lines_w25/19633_b.gt.txt  \n",
            "  inflating: __MACOSX/lines_w25/._19633_b.gt.txt  \n",
            "  inflating: lines_w25/40466_b.png   \n",
            "  inflating: __MACOSX/lines_w25/._40466_b.png  \n",
            "  inflating: lines_w25/45200_b.png   \n",
            "  inflating: __MACOSX/lines_w25/._45200_b.png  \n",
            "  inflating: lines_w25/46484_a.gt.txt  \n",
            "  inflating: __MACOSX/lines_w25/._46484_a.gt.txt  \n",
            "  inflating: lines_w25/27017_a.gt.txt  \n",
            "  inflating: __MACOSX/lines_w25/._27017_a.gt.txt  \n",
            "  inflating: lines_w25/33474_b.gt.txt  \n",
            "  inflating: __MACOSX/lines_w25/._33474_b.gt.txt  \n",
            "  inflating: lines_w25/42942_b.gt.txt  \n",
            "  inflating: __MACOSX/lines_w25/._42942_b.gt.txt  \n",
            "  inflating: lines_w25/39287_b.png   \n",
            "  inflating: __MACOSX/lines_w25/._39287_b.png  \n",
            "  inflating: lines_w25/30873_a.gt.txt  \n",
            "  inflating: __MACOSX/lines_w25/._30873_a.gt.txt  \n",
            "  inflating: lines_w25/29791_b.png   \n",
            "  inflating: __MACOSX/lines_w25/._29791_b.png  \n",
            "  inflating: lines_w25/14934_b.png   \n",
            "  inflating: __MACOSX/lines_w25/._14934_b.png  \n",
            "  inflating: lines_w25/21068_b.png   \n",
            "  inflating: __MACOSX/lines_w25/._21068_b.png  \n",
            "  inflating: lines_w25/41545_a.gt.txt  \n",
            "  inflating: __MACOSX/lines_w25/._41545_a.gt.txt  \n",
            "  inflating: lines_w25/16201_b.png   \n",
            "  inflating: __MACOSX/lines_w25/._16201_b.png  \n",
            "  inflating: lines_w25/13467_b.png   \n",
            "  inflating: __MACOSX/lines_w25/._13467_b.png  \n",
            "  inflating: lines_w25/34318_b.png   \n",
            "  inflating: __MACOSX/lines_w25/._34318_b.png  \n",
            "  inflating: lines_w25/25248_b.gt.txt  \n",
            "  inflating: __MACOSX/lines_w25/._25248_b.gt.txt  \n",
            "  inflating: lines_w25/16695_b.png   \n",
            "  inflating: __MACOSX/lines_w25/._16695_b.png  \n",
            "  inflating: lines_w25/39663_b.gt.txt  \n",
            "  inflating: __MACOSX/lines_w25/._39663_b.gt.txt  \n",
            "  inflating: lines_w25/39613_b.png   \n",
            "  inflating: __MACOSX/lines_w25/._39613_b.png  \n",
            "  inflating: lines_w25/29305_b.png   \n",
            "  inflating: __MACOSX/lines_w25/._29305_b.png  \n",
            "  inflating: lines_w25/4914_a.gt.txt  \n",
            "  inflating: __MACOSX/lines_w25/._4914_a.gt.txt  \n",
            "  inflating: lines_w25/22389_b.gt.txt  \n",
            "  inflating: __MACOSX/lines_w25/._22389_b.gt.txt  \n",
            "  inflating: lines_w25/13424_b.gt.txt  \n",
            "  inflating: __MACOSX/lines_w25/._13424_b.gt.txt  \n",
            "  inflating: lines_w25/7513_b.gt.txt  \n",
            "  inflating: __MACOSX/lines_w25/._7513_b.gt.txt  \n",
            "  inflating: lines_w25/45694_b.png   \n",
            "  inflating: __MACOSX/lines_w25/._45694_b.png  \n",
            "  inflating: lines_w25/10823_a.gt.txt  \n",
            "  inflating: __MACOSX/lines_w25/._10823_a.gt.txt  \n",
            "  inflating: lines_w25/1724_a.gt.txt  \n",
            "  inflating: __MACOSX/lines_w25/._1724_a.gt.txt  \n",
            "  inflating: lines_w25/46150_a.png   \n",
            "  inflating: __MACOSX/lines_w25/._46150_a.png  \n",
            "  inflating: lines_w25/38595_a.gt.txt  \n",
            "  inflating: __MACOSX/lines_w25/._38595_a.gt.txt  \n",
            "  inflating: lines_w25/43736_a.png   \n",
            "  inflating: __MACOSX/lines_w25/._43736_a.png  \n",
            "  inflating: lines_w25/15613_a.gt.txt  \n",
            "  inflating: __MACOSX/lines_w25/._15613_a.gt.txt  \n",
            "  inflating: lines_w25/22338_a.png   \n",
            "  inflating: __MACOSX/lines_w25/._22338_a.png  \n",
            "  inflating: lines_w25/10737_a.png   \n",
            "  inflating: __MACOSX/lines_w25/._10737_a.png  \n",
            "  inflating: lines_w25/37048_a.png   \n",
            "  inflating: __MACOSX/lines_w25/._37048_a.png  \n",
            "  inflating: lines_w25/15151_a.png   \n",
            "  inflating: __MACOSX/lines_w25/._15151_a.png  \n",
            "  inflating: lines_w25/690_b.gt.txt  \n",
            "  inflating: __MACOSX/lines_w25/._690_b.gt.txt  \n",
            "  inflating: lines_w25/15912_a.png   \n",
            "  inflating: __MACOSX/lines_w25/._15912_a.png  \n",
            "  inflating: lines_w25/1808_a.png    \n",
            "  inflating: __MACOSX/lines_w25/._1808_a.png  \n",
            "  inflating: lines_w25/17227_a.png   \n",
            "  inflating: __MACOSX/lines_w25/._17227_a.png  \n",
            "  inflating: lines_w25/7983_b.gt.txt  \n",
            "  inflating: __MACOSX/lines_w25/._7983_b.gt.txt  \n",
            "  inflating: lines_w25/30558_a.png   \n",
            "  inflating: __MACOSX/lines_w25/._30558_a.png  \n",
            "  inflating: lines_w25/12441_a.png   \n",
            "  inflating: __MACOSX/lines_w25/._12441_a.png  \n",
            "  inflating: lines_w25/25628_a.png   \n",
            "  inflating: __MACOSX/lines_w25/._25628_a.png  \n",
            "  inflating: lines_w25/29356_b.gt.txt  \n",
            "  inflating: __MACOSX/lines_w25/._29356_b.gt.txt  \n",
            "  inflating: lines_w25/4584_a.gt.txt  \n",
            "  inflating: __MACOSX/lines_w25/._4584_a.gt.txt  \n",
            "  inflating: lines_w25/46913_a.png   \n",
            "  inflating: __MACOSX/lines_w25/._46913_a.png  \n",
            "  inflating: lines_w25/17572_a.gt.txt  \n",
            "  inflating: __MACOSX/lines_w25/._17572_a.gt.txt  \n",
            "  inflating: lines_w25/41440_a.png   \n",
            "  inflating: __MACOSX/lines_w25/._41440_a.png  \n",
            "  inflating: lines_w25/44226_a.png   \n",
            "  inflating: __MACOSX/lines_w25/._44226_a.png  \n",
            "  inflating: lines_w25/14975_b.gt.txt  \n",
            "  inflating: __MACOSX/lines_w25/._14975_b.gt.txt  \n",
            "  inflating: lines_w25/3445_a.gt.txt  \n",
            "  inflating: __MACOSX/lines_w25/._3445_a.gt.txt  \n",
            "  inflating: lines_w25/5672_b.gt.txt  \n",
            "  inflating: __MACOSX/lines_w25/._5672_b.gt.txt  \n",
            "  inflating: lines_w25/11745_b.gt.txt  \n",
            "  inflating: __MACOSX/lines_w25/._11745_b.gt.txt  \n",
            "  inflating: lines_w25/42384_b.png   \n",
            "  inflating: __MACOSX/lines_w25/._42384_b.png  \n",
            "  inflating: lines_w25/49433_a.gt.txt  \n",
            "  inflating: __MACOSX/lines_w25/._49433_a.gt.txt  \n",
            "  inflating: lines_w25/16684_b.gt.txt  \n",
            "  inflating: __MACOSX/lines_w25/._16684_b.gt.txt  \n",
            "  inflating: lines_w25/8300_b.png    \n",
            "  inflating: __MACOSX/lines_w25/._8300_b.png  \n",
            "  inflating: lines_w25/27129_b.gt.txt  \n",
            "  inflating: __MACOSX/lines_w25/._27129_b.gt.txt  \n",
            "  inflating: lines_w25/11385_b.png   \n",
            "  inflating: __MACOSX/lines_w25/._11385_b.png  \n",
            "  inflating: lines_w25/38905_a.gt.txt  \n",
            "  inflating: __MACOSX/lines_w25/._38905_a.gt.txt  \n",
            "  inflating: lines_w25/6813_a.gt.txt  \n",
            "  inflating: __MACOSX/lines_w25/._6813_a.gt.txt  \n",
            "  inflating: lines_w25/41091_a.png   \n",
            "  inflating: __MACOSX/lines_w25/._41091_a.png  \n",
            "  inflating: lines_w25/11523_b.gt.txt  \n",
            "  inflating: __MACOSX/lines_w25/._11523_b.gt.txt  \n",
            "  inflating: lines_w25/866_b.gt.txt  \n",
            "  inflating: __MACOSX/lines_w25/._866_b.gt.txt  \n",
            "  inflating: lines_w25/5414_b.gt.txt  \n",
            "  inflating: __MACOSX/lines_w25/._5414_b.gt.txt  \n",
            "  inflating: lines_w25/12924_a.gt.txt  \n",
            "  inflating: __MACOSX/lines_w25/._12924_a.gt.txt  \n",
            "  inflating: lines_w25/28366_a.png   \n",
            "  inflating: __MACOSX/lines_w25/._28366_a.png  \n",
            "  inflating: lines_w25/38670_a.png   \n",
            "  inflating: __MACOSX/lines_w25/._38670_a.png  \n",
            "  inflating: lines_w25/12090_a.png   \n",
            "  inflating: __MACOSX/lines_w25/._12090_a.png  \n",
            "  inflating: lines_w25/30189_a.png   \n",
            "  inflating: __MACOSX/lines_w25/._30189_a.png  \n",
            "  inflating: lines_w25/438_b.png     \n",
            "  inflating: __MACOSX/lines_w25/._438_b.png  \n",
            "  inflating: lines_w25/29130_b.gt.txt  \n",
            "  inflating: __MACOSX/lines_w25/._29130_b.gt.txt  \n",
            "  inflating: lines_w25/21178_a.gt.txt  \n",
            "  inflating: __MACOSX/lines_w25/._21178_a.gt.txt  \n",
            "  inflating: lines_w25/14132_b.png   \n",
            "  inflating: __MACOSX/lines_w25/._14132_b.png  \n",
            "  inflating: lines_w25/11754_b.png   \n",
            "  inflating: __MACOSX/lines_w25/._11754_b.png  \n",
            "  inflating: lines_w25/3623_a.gt.txt  \n",
            "  inflating: __MACOSX/lines_w25/._3623_a.gt.txt  \n",
            "  inflating: lines_w25/39895_b.gt.txt  \n",
            "  inflating: __MACOSX/lines_w25/._39895_b.gt.txt  \n",
            "  inflating: lines_w25/42755_b.png   \n",
            "  inflating: __MACOSX/lines_w25/._42755_b.png  \n",
            "  inflating: lines_w25/47133_b.png   \n",
            "  inflating: __MACOSX/lines_w25/._47133_b.png  \n",
            "  inflating: lines_w25/17714_a.gt.txt  \n",
            "  inflating: __MACOSX/lines_w25/._17714_a.gt.txt  \n",
            "  inflating: lines_w25/15475_a.gt.txt  \n",
            "  inflating: __MACOSX/lines_w25/._15475_a.gt.txt  \n",
            "  inflating: lines_w25/2945_b.gt.txt  \n",
            "  inflating: __MACOSX/lines_w25/._2945_b.gt.txt  \n",
            "  inflating: lines_w25/45245_b.png   \n",
            "  inflating: __MACOSX/lines_w25/._45245_b.png  \n",
            "  inflating: lines_w25/16872_b.gt.txt  \n",
            "  inflating: __MACOSX/lines_w25/._16872_b.gt.txt  \n",
            "  inflating: lines_w25/40423_b.png   \n",
            "  inflating: __MACOSX/lines_w25/._40423_b.png  \n",
            "  inflating: lines_w25/1542_a.gt.txt  \n",
            "  inflating: __MACOSX/lines_w25/._1542_a.gt.txt  \n",
            "  inflating: lines_w25/47970_b.png   \n",
            "  inflating: __MACOSX/lines_w25/._47970_b.png  \n",
            "  inflating: lines_w25/5884_b.gt.txt  \n",
            "  inflating: __MACOSX/lines_w25/._5884_b.gt.txt  \n",
            "  inflating: lines_w25/23219_a.gt.txt  \n",
            "  inflating: __MACOSX/lines_w25/._23219_a.gt.txt  \n",
            "  inflating: lines_w25/13422_b.png   \n",
            "  inflating: __MACOSX/lines_w25/._13422_b.png  \n",
            "  inflating: lines_w25/7538_b.png    \n",
            "  inflating: __MACOSX/lines_w25/._7538_b.png  \n",
            "  inflating: lines_w25/16244_b.png   \n",
            "  inflating: __MACOSX/lines_w25/._16244_b.png  \n",
            "  inflating: lines_w25/6483_a.gt.txt  \n",
            "  inflating: __MACOSX/lines_w25/._6483_a.gt.txt  \n",
            "  inflating: lines_w25/14971_b.png   \n",
            "  inflating: __MACOSX/lines_w25/._14971_b.png  \n",
            "  inflating: lines_w25/36868_b.png   \n",
            "  inflating: __MACOSX/lines_w25/._36868_b.png  \n",
            "  inflating: lines_w25/48933_b.gt.txt  \n",
            "  inflating: __MACOSX/lines_w25/._48933_b.gt.txt  \n",
            "  inflating: lines_w25/15580_a.png   \n",
            "  inflating: __MACOSX/lines_w25/._15580_a.png  \n",
            "  inflating: lines_w25/37499_a.png   \n",
            "  inflating: __MACOSX/lines_w25/._37499_a.png  \n",
            "  inflating: lines_w25/9363_a.png    \n",
            "  inflating: __MACOSX/lines_w25/._9363_a.png  \n",
            "  inflating: lines_w25/39405_b.gt.txt  \n",
            "  inflating: __MACOSX/lines_w25/._39405_b.gt.txt  \n",
            "  inflating: lines_w25/14783_b.gt.txt  \n",
            "  inflating: __MACOSX/lines_w25/._14783_b.gt.txt  \n",
            "  inflating: lines_w25/46581_a.png   \n",
            "  inflating: __MACOSX/lines_w25/._46581_a.png  \n",
            "  inflating: lines_w25/7775_b.gt.txt  \n",
            "  inflating: __MACOSX/lines_w25/._7775_b.gt.txt  \n",
            "  inflating: lines_w25/13642_b.gt.txt  \n",
            "  inflating: __MACOSX/lines_w25/._13642_b.gt.txt  \n"
          ]
        }
      ],
      "source": [
        "!unzip /content/drive/MyDrive/text_rec_data/lines_w25.zip"
      ]
    },
    {
      "cell_type": "markdown",
      "source": [
        "Сбор путей до изображений и их текстов. +1 делается, так как в папке есть лишний файл на первом месте = .DS_store."
      ],
      "metadata": {
        "id": "CAWhze6PlPAV"
      }
    },
    {
      "cell_type": "code",
      "execution_count": null,
      "metadata": {
        "id": "UwKDzEdBlIin"
      },
      "outputs": [],
      "source": [
        "path = '/content/drive/MyDrive/text_rec_data/lines_w25/'\n",
        "file_paths = os.listdir(path)\n",
        "file_paths.sort()\n",
        "label_paths = []\n",
        "img_paths = []\n",
        "for i in range(1, len(file_paths)-1, 2):\n",
        "  #print(file_paths[i], file_paths[i+1])\n",
        "  label_paths.append(file_paths[i])\n",
        "  try:\n",
        "    img_paths.append(file_paths[i+1])\n",
        "  except:\n",
        "    print('len of file_paths:',len(file_paths), 'i+1=',i+1)"
      ]
    },
    {
      "cell_type": "code",
      "execution_count": null,
      "metadata": {
        "id": "lwXBVNBSzEek",
        "colab": {
          "base_uri": "https://localhost:8080/"
        },
        "outputId": "4525b17e-b124-4739-8b13-06eabbb71396"
      },
      "outputs": [
        {
          "output_type": "execute_result",
          "data": {
            "text/plain": [
              "(98879, 98879)"
            ]
          },
          "metadata": {},
          "execution_count": 6
        }
      ],
      "source": [
        "len(label_paths), len(img_paths)"
      ]
    },
    {
      "cell_type": "markdown",
      "source": [
        "Кодирование элементов строки"
      ],
      "metadata": {
        "id": "k3fkfpD5lmwH"
      }
    },
    {
      "cell_type": "code",
      "execution_count": null,
      "metadata": {
        "id": "YjciCi2Hzror"
      },
      "outputs": [],
      "source": [
        "alphabet = 'аАбБвВгГдДеЕёЁжЖзЗиИйЙкКлЛмМнНоОпПрРсСтТуУфФхХцЦчЧшШщЩъЪыЫьЬэЭюЮяЯ0123456789-.,: !()\"?;'\n",
        "\n",
        "def encode_to_labels(txt):\n",
        "    dig_lst = []\n",
        "    for index, char in enumerate(txt):\n",
        "        try:\n",
        "            dig_lst.append(alphabet.index(char)+1)\n",
        "        except:\n",
        "            print(char)\n",
        "    return np.array(dig_lst)\n",
        "\n",
        "def decode_to_string(arr):\n",
        "  dec_str = ''\n",
        "  for elem in arr:\n",
        "    dec_str = dec_str + alphabet[elem-1]\n",
        "  return dec_str"
      ]
    },
    {
      "cell_type": "markdown",
      "source": [
        "Кастомный датасет с изображением лейблом и длиной лейбла"
      ],
      "metadata": {
        "id": "jKXe377YlxsW"
      }
    },
    {
      "cell_type": "code",
      "execution_count": null,
      "metadata": {
        "id": "MzvYCKMAzsBc"
      },
      "outputs": [],
      "source": [
        "class rec_Dataset(Dataset):\n",
        "\n",
        "  def __init__(self, img_paths, label_paths, transform_list = None):\n",
        "    self.img_paths = img_paths\n",
        "    self.label_paths = label_paths\n",
        "    self.transform = transforms.Compose(transform_list)\n",
        "\n",
        "  def __len__(self):\n",
        "    return len(self.img_paths)\n",
        "\n",
        "  def __getitem__(self, index):\n",
        "\n",
        "    img = Image.open('/content/drive/MyDrive/text_rec_data/lines_w25/'+self.img_paths[index])\n",
        "    #img = cv2.imread('/content/drive/MyDrive/testFolder/'+self.img_paths[index])\n",
        "    #img = torch.from_numpy(img.transpose((2, 0, 1))).float()\n",
        "    with open('/content/drive/MyDrive/text_rec_data/lines_w25/'+self.label_paths[index], 'r') as file:\n",
        "      seq = file.read().replace('\\n', '')\n",
        "      seq = torch.Tensor(encode_to_labels(seq))\n",
        "\n",
        "    #seq_len = torch.Tensor(len(seq))\n",
        "    seq_len = len(seq)\n",
        "\n",
        "    if self.transform is not None:\n",
        "      img = self.transform(img)\n",
        "\n",
        "    sample = {\"img\": img.cuda(), \"seq\": seq.cuda(), \"seq_len\": seq_len}\n",
        "\n",
        "    return sample"
      ]
    },
    {
      "cell_type": "markdown",
      "source": [
        "Функция для выравнивания текста батча под один размер"
      ],
      "metadata": {
        "id": "Q_ABbKJYl3xK"
      }
    },
    {
      "cell_type": "code",
      "execution_count": null,
      "metadata": {
        "id": "y0E-UNsMz1t1"
      },
      "outputs": [],
      "source": [
        "def text_collate(batch):\n",
        "    img = list()\n",
        "    seq = list()\n",
        "    seq_len = list()\n",
        "    for sample in batch:\n",
        "        #print(sample[\"img\"])\n",
        "        img.append(sample[\"img\"])\n",
        "        seq.extend(sample[\"seq\"])\n",
        "        seq_len.append(sample[\"seq_len\"])\n",
        "    img = torch.stack(img)\n",
        "    seq = torch.Tensor(seq).int()\n",
        "    seq_len = torch.Tensor(seq_len).int()\n",
        "    batch = {\"img\": img, \"seq\": seq, \"seq_len\": seq_len}\n",
        "    return batch"
      ]
    },
    {
      "cell_type": "markdown",
      "source": [
        "Деление на трейн и валидацию и возвращаем сразу готовые dataloader's в нужной пропорции"
      ],
      "metadata": {
        "id": "xP6DfdAmmGwQ"
      }
    },
    {
      "cell_type": "code",
      "execution_count": null,
      "metadata": {
        "id": "zLbNIc4lz19O"
      },
      "outputs": [],
      "source": [
        "def get_loaders(img_paths, label_paths, train_size = 75, btch_size = 256):\n",
        "    \n",
        "  data_transf = [transforms.Grayscale(1),\n",
        "                 transforms.ToTensor(),\n",
        "                 transforms.Resize((32, 128)),\n",
        "                 transforms.Normalize(0.5, 0.25)]\n",
        "  dataset = rec_Dataset(img_paths, label_paths, data_transf)\n",
        "\n",
        "  train_size = (len(dataset)*train_size)//100\n",
        "  val_size = len(dataset) - train_size\n",
        "  train_data, val_data = random_split(dataset, [train_size, val_size])\n",
        "\n",
        "  train_loader = DataLoader(train_data, batch_size = btch_size, shuffle = True, collate_fn=text_collate)\n",
        "  val_loader = DataLoader(val_data,  batch_size = btch_size, shuffle = False, collate_fn=text_collate)\n",
        "\n",
        "  return train_loader, val_loader"
      ]
    },
    {
      "cell_type": "code",
      "execution_count": null,
      "metadata": {
        "id": "s51qPfzTz4Y1"
      },
      "outputs": [],
      "source": [
        "train_loader, val_loader = get_loaders(img_paths, label_paths)"
      ]
    },
    {
      "cell_type": "markdown",
      "source": [
        "Испольуем слой двухнаправленного LSTM  в связке с CRNN"
      ],
      "metadata": {
        "id": "YFCIrHdjmdQW"
      }
    },
    {
      "cell_type": "code",
      "execution_count": 3,
      "metadata": {
        "id": "p0xWkpdx0OJn"
      },
      "outputs": [],
      "source": [
        "class BidirectionalLSTM(nn.Module):\n",
        "\n",
        "    def __init__(self, nIn, nHidden, nOut):\n",
        "        super(BidirectionalLSTM, self).__init__()\n",
        "\n",
        "        self.rnn = nn.LSTM(nIn, nHidden, bidirectional=True)\n",
        "        self.embedding = nn.Linear(nHidden * 2, nOut)\n",
        "\n",
        "    def forward(self, input):\n",
        "        recurrent, _ = self.rnn(input)\n",
        "        T, b, h = recurrent.size()\n",
        "        t_rec = recurrent.view(T * b, h)\n",
        "\n",
        "        output = self.embedding(t_rec)  # [T * b, nOut]\n",
        "        output = output.view(T, b, -1)\n",
        "        return output"
      ]
    },
    {
      "cell_type": "code",
      "execution_count": 4,
      "metadata": {
        "id": "S-8TQ-Ig0Rds"
      },
      "outputs": [],
      "source": [
        "class CRNN_LSTM(nn.Module):\n",
        "\n",
        "  def __init__(self, imgH = 32, nc = 1, nclass = 88, nh = 256 ):\n",
        "    super(CRNN_LSTM, self).__init__()\n",
        "    #\n",
        "    assert imgH % 16 == 0, 'imgH has to be a multiple of 16'\n",
        "\n",
        "    self.conv1 = nn.Conv2d(nc, 64, 3, 1, 1)\n",
        "    self.relu = nn.ReLU(True)\n",
        "    self.pool = nn.MaxPool2d(2)\n",
        "\n",
        "    self.conv2 = nn.Conv2d(64, 128, 3, 1, 1)\n",
        "\n",
        "    self.conv3_1 = nn.Conv2d(128, 256, 3, 1, 1)\n",
        "    self.bn3 = nn.BatchNorm2d(256)\n",
        "    self.conv3_2 = nn.Conv2d(256, 256, 3, 1, 1)\n",
        "    \n",
        "    self.pool_34 = nn.MaxPool2d((2, 2), (2, 1), (0, 1))\n",
        "\n",
        "    self.conv4_1 = nn.Conv2d(256, 512, 3, 1, 1)\n",
        "    self.conv4_2 = nn.Conv2d(512, 512, 3, 1, 1)\n",
        "\n",
        "    self.bn_45 = nn.BatchNorm2d(512)\n",
        "\n",
        "    self.conv5 = nn.Conv2d(512, 512, 2, 1, 0)\n",
        "\n",
        "    self.rnn = nn.Sequential(BidirectionalLSTM(512, nh, nh),\n",
        "                             BidirectionalLSTM(nh, nh, nclass))\n",
        "    \n",
        "  def forward(self, input):\n",
        "\n",
        "    x = self.pool(self.relu(self.conv1(input)))\n",
        "    x = self.pool(self.relu(self.conv2(x)))\n",
        "    x = self.pool_34(self.relu(self.conv3_2(self.relu(self.bn3(self.conv3_1(x))))))\n",
        "    x = self.pool_34(self.relu(self.conv4_2(self.relu(self.bn_45(self.conv4_1(x))))))\n",
        "    conv = self.relu(self.bn_45(self.conv5(x)))\n",
        "\n",
        "    b, c, h, w = conv.size()\n",
        "    assert h == 1, \"the height of conv must be 1\"\n",
        "\n",
        "    conv = conv.squeeze(2)\n",
        "    conv = conv.permute(2, 0, 1)  # [w, b, c]\n",
        "\n",
        "    output = self.rnn(conv)\n",
        "\n",
        "    return output"
      ]
    },
    {
      "cell_type": "markdown",
      "source": [
        "Функция обучения, где перед подачей преобразуем все нужные переменные для лосса в правильный формат и передаем для подсчета, после скейлер передает значения и оптимизирует параметры"
      ],
      "metadata": {
        "id": "MzeDYxSsm2me"
      }
    },
    {
      "cell_type": "code",
      "execution_count": null,
      "metadata": {
        "id": "faJEawUM0S-y"
      },
      "outputs": [],
      "source": [
        "def train_fun(loader, model, optimizer, loss_func, scaler):\n",
        "  batch_size = loader.batch_size\n",
        "  iterator = tqdm(loader)\n",
        "\n",
        "  device_2use = torch.device(\"cuda\" if torch.cuda.is_available() else \"cpu\")\n",
        "\n",
        "  for sample in iterator:\n",
        "\n",
        "    imgs = Variable(sample['img']).to(device_2use)\n",
        "    label = Variable(sample['seq'].view(-1))\n",
        "    label_len = Variable(sample['seq_len'])\n",
        "\n",
        "    with torch.cuda.amp.autocast():\n",
        "      predictions = model(imgs)\n",
        "      log_probs = predictions.log_softmax(2).requires_grad_()\n",
        "      #preds_size = Variable(torch.IntTensor([predictions.size(0)] * batch_size))\n",
        "      input_lengths=Variable( torch.full((log_probs.shape[1],), log_probs.shape[0], dtype=torch.long) )\n",
        "\n",
        "      loss = loss_func(log_probs, label, input_lengths, label_len)\n",
        "\n",
        "    # backward\n",
        "    optimizer.zero_grad()\n",
        "    scaler.scale(loss).backward()\n",
        "    scaler.step(optimizer)\n",
        "    scaler.update()\n",
        "\n",
        "    # update tqdm loop\n",
        "    iterator.set_postfix(loss=loss.item())"
      ]
    },
    {
      "cell_type": "markdown",
      "source": [
        "Адам оптимизатор как самый популярный выбор на равне с SGD, ресурсы не позволяли эксперименты с более верным, так как не осталось аккаунтов, с возможностью работать в колабе на ГПУ. Запускал на 100 эпох, но ресурсы закончились примерно на 50ой эпохе"
      ],
      "metadata": {
        "id": "gwiQ2mxCnPvS"
      }
    },
    {
      "cell_type": "code",
      "execution_count": null,
      "metadata": {
        "colab": {
          "base_uri": "https://localhost:8080/"
        },
        "id": "vc_sMTvk09xX",
        "outputId": "9c5866e7-2407-4d04-9f1e-a75924a7f981"
      },
      "outputs": [
        {
          "output_type": "stream",
          "name": "stderr",
          "text": [
            "  5%|▌         | 15/290 [59:03<48:04, 10.49s/it, loss=4.56]  "
          ]
        },
        {
          "output_type": "stream",
          "name": "stdout",
          "text": [
            ">\n",
            ">\n"
          ]
        },
        {
          "output_type": "stream",
          "name": "stderr",
          "text": [
            "  8%|▊         | 23/290 [59:15<08:36,  1.93s/it, loss=3.93]"
          ]
        },
        {
          "output_type": "stream",
          "name": "stdout",
          "text": [
            "*\n",
            "*\n",
            "*\n"
          ]
        },
        {
          "output_type": "stream",
          "name": "stderr",
          "text": [
            " 10%|█         | 29/290 [59:23<06:25,  1.48s/it, loss=3.74]"
          ]
        },
        {
          "output_type": "stream",
          "name": "stdout",
          "text": [
            "[\n"
          ]
        },
        {
          "output_type": "stream",
          "name": "stderr",
          "text": [
            " 13%|█▎        | 38/290 [59:36<06:00,  1.43s/it, loss=3.54]"
          ]
        },
        {
          "output_type": "stream",
          "name": "stdout",
          "text": [
            ">\n"
          ]
        },
        {
          "output_type": "stream",
          "name": "stderr",
          "text": [
            " 17%|█▋        | 50/290 [59:54<05:47,  1.45s/it, loss=3.39]"
          ]
        },
        {
          "output_type": "stream",
          "name": "stdout",
          "text": [
            ">\n",
            ">\n"
          ]
        },
        {
          "output_type": "stream",
          "name": "stderr",
          "text": [
            " 21%|██        | 60/290 [1:00:08<05:19,  1.39s/it, loss=3.35]"
          ]
        },
        {
          "output_type": "stream",
          "name": "stdout",
          "text": [
            ">\n",
            ">\n"
          ]
        },
        {
          "output_type": "stream",
          "name": "stderr",
          "text": [
            " 23%|██▎       | 67/290 [1:00:17<05:12,  1.40s/it, loss=3.3]"
          ]
        },
        {
          "output_type": "stream",
          "name": "stdout",
          "text": [
            "]\n"
          ]
        },
        {
          "output_type": "stream",
          "name": "stderr",
          "text": [
            " 24%|██▍       | 70/290 [1:00:22<05:03,  1.38s/it, loss=3.31]"
          ]
        },
        {
          "output_type": "stream",
          "name": "stdout",
          "text": [
            "]\n",
            "[\n",
            "]\n"
          ]
        },
        {
          "output_type": "stream",
          "name": "stderr",
          "text": [
            " 27%|██▋       | 79/290 [1:00:34<04:58,  1.41s/it, loss=3.3]"
          ]
        },
        {
          "output_type": "stream",
          "name": "stdout",
          "text": [
            ">\n"
          ]
        },
        {
          "output_type": "stream",
          "name": "stderr",
          "text": [
            " 28%|██▊       | 80/290 [1:00:36<04:53,  1.40s/it, loss=3.29]"
          ]
        },
        {
          "output_type": "stream",
          "name": "stdout",
          "text": [
            "*\n",
            "*\n",
            "*\n"
          ]
        },
        {
          "output_type": "stream",
          "name": "stderr",
          "text": [
            " 28%|██▊       | 82/290 [1:00:38<04:48,  1.39s/it, loss=3.29]"
          ]
        },
        {
          "output_type": "stream",
          "name": "stdout",
          "text": [
            "[\n",
            "]\n"
          ]
        },
        {
          "output_type": "stream",
          "name": "stderr",
          "text": [
            " 31%|███       | 89/290 [1:00:48<04:45,  1.42s/it, loss=3.27]"
          ]
        },
        {
          "output_type": "stream",
          "name": "stdout",
          "text": [
            "]\n"
          ]
        },
        {
          "output_type": "stream",
          "name": "stderr",
          "text": [
            " 40%|████      | 117/290 [1:01:29<04:10,  1.45s/it, loss=3.21]"
          ]
        },
        {
          "output_type": "stream",
          "name": "stdout",
          "text": [
            "[\n"
          ]
        },
        {
          "output_type": "stream",
          "name": "stderr",
          "text": [
            " 47%|████▋     | 137/290 [1:01:58<03:44,  1.47s/it, loss=3.19]"
          ]
        },
        {
          "output_type": "stream",
          "name": "stdout",
          "text": [
            "*\n",
            "*\n",
            "*\n"
          ]
        },
        {
          "output_type": "stream",
          "name": "stderr",
          "text": [
            " 52%|█████▏    | 151/290 [1:02:19<03:33,  1.54s/it, loss=3.17]"
          ]
        },
        {
          "output_type": "stream",
          "name": "stdout",
          "text": [
            "*\n",
            "*\n",
            "*\n"
          ]
        },
        {
          "output_type": "stream",
          "name": "stderr",
          "text": [
            " 67%|██████▋   | 194/290 [1:03:22<02:19,  1.46s/it, loss=3.15]"
          ]
        },
        {
          "output_type": "stream",
          "name": "stdout",
          "text": [
            ">\n",
            ">\n",
            "]\n",
            "[\n",
            "]\n"
          ]
        },
        {
          "output_type": "stream",
          "name": "stderr",
          "text": [
            " 68%|██████▊   | 196/290 [1:03:25<02:21,  1.51s/it, loss=3.15]"
          ]
        },
        {
          "output_type": "stream",
          "name": "stdout",
          "text": [
            "[\n"
          ]
        },
        {
          "output_type": "stream",
          "name": "stderr",
          "text": [
            " 70%|███████   | 204/290 [1:03:37<02:09,  1.51s/it, loss=3.42]"
          ]
        },
        {
          "output_type": "stream",
          "name": "stdout",
          "text": [
            ">\n",
            ">\n",
            ">\n"
          ]
        },
        {
          "output_type": "stream",
          "name": "stderr",
          "text": [
            " 74%|███████▍  | 215/290 [1:03:54<01:55,  1.54s/it, loss=3.35]"
          ]
        },
        {
          "output_type": "stream",
          "name": "stdout",
          "text": [
            "<\n"
          ]
        },
        {
          "output_type": "stream",
          "name": "stderr",
          "text": [
            " 77%|███████▋  | 224/290 [1:04:08<01:39,  1.51s/it, loss=3.25]"
          ]
        },
        {
          "output_type": "stream",
          "name": "stdout",
          "text": [
            ">\n",
            ">\n"
          ]
        },
        {
          "output_type": "stream",
          "name": "stderr",
          "text": [
            " 80%|███████▉  | 231/290 [1:04:18<01:25,  1.45s/it, loss=3.21]"
          ]
        },
        {
          "output_type": "stream",
          "name": "stdout",
          "text": [
            "<\n"
          ]
        },
        {
          "output_type": "stream",
          "name": "stderr",
          "text": [
            " 81%|████████  | 235/290 [1:04:24<01:22,  1.49s/it, loss=3.18]"
          ]
        },
        {
          "output_type": "stream",
          "name": "stdout",
          "text": [
            ">\n",
            ">\n"
          ]
        },
        {
          "output_type": "stream",
          "name": "stderr",
          "text": [
            " 84%|████████▍ | 243/290 [1:04:36<01:10,  1.49s/it, loss=3.13]"
          ]
        },
        {
          "output_type": "stream",
          "name": "stdout",
          "text": [
            "[\n",
            ">\n",
            ">\n"
          ]
        },
        {
          "output_type": "stream",
          "name": "stderr",
          "text": [
            " 84%|████████▍ | 245/290 [1:04:39<01:08,  1.52s/it, loss=3.14]"
          ]
        },
        {
          "output_type": "stream",
          "name": "stdout",
          "text": [
            "[\n",
            "]\n"
          ]
        },
        {
          "output_type": "stream",
          "name": "stderr",
          "text": [
            " 87%|████████▋ | 252/290 [1:04:49<00:56,  1.48s/it, loss=3.09]"
          ]
        },
        {
          "output_type": "stream",
          "name": "stdout",
          "text": [
            ">\n",
            ">\n"
          ]
        },
        {
          "output_type": "stream",
          "name": "stderr",
          "text": [
            " 91%|█████████▏| 265/290 [1:05:09<00:36,  1.45s/it, loss=3.21]"
          ]
        },
        {
          "output_type": "stream",
          "name": "stdout",
          "text": [
            ">\n"
          ]
        },
        {
          "output_type": "stream",
          "name": "stderr",
          "text": [
            " 92%|█████████▏| 268/290 [1:05:13<00:32,  1.50s/it, loss=3.1]"
          ]
        },
        {
          "output_type": "stream",
          "name": "stdout",
          "text": [
            "[\n",
            "]\n"
          ]
        },
        {
          "output_type": "stream",
          "name": "stderr",
          "text": [
            " 94%|█████████▍| 272/290 [1:05:19<00:26,  1.49s/it, loss=3.2]"
          ]
        },
        {
          "output_type": "stream",
          "name": "stdout",
          "text": [
            ">\n",
            ">\n"
          ]
        },
        {
          "output_type": "stream",
          "name": "stderr",
          "text": [
            " 97%|█████████▋| 280/290 [1:05:31<00:14,  1.48s/it, loss=3.53]"
          ]
        },
        {
          "output_type": "stream",
          "name": "stdout",
          "text": [
            ">\n",
            ">\n"
          ]
        },
        {
          "output_type": "stream",
          "name": "stderr",
          "text": [
            " 98%|█████████▊| 285/290 [1:05:39<00:07,  1.56s/it, loss=3.75]"
          ]
        },
        {
          "output_type": "stream",
          "name": "stdout",
          "text": [
            "[\n",
            "]\n"
          ]
        },
        {
          "output_type": "stream",
          "name": "stderr",
          "text": [
            "100%|██████████| 290/290 [1:05:46<00:00, 13.61s/it, loss=3.28]\n",
            "  3%|▎         | 9/290 [00:09<05:07,  1.09s/it, loss=3.19]"
          ]
        },
        {
          "output_type": "stream",
          "name": "stdout",
          "text": [
            ">\n"
          ]
        },
        {
          "output_type": "stream",
          "name": "stderr",
          "text": [
            "  4%|▍         | 13/290 [00:14<04:57,  1.08s/it, loss=3.2]"
          ]
        },
        {
          "output_type": "stream",
          "name": "stdout",
          "text": [
            ">\n",
            ">\n"
          ]
        },
        {
          "output_type": "stream",
          "name": "stderr",
          "text": [
            "  7%|▋         | 20/290 [00:21<04:49,  1.07s/it, loss=3.2]"
          ]
        },
        {
          "output_type": "stream",
          "name": "stdout",
          "text": [
            "]\n"
          ]
        },
        {
          "output_type": "stream",
          "name": "stderr",
          "text": [
            "  9%|▉         | 27/290 [00:29<04:52,  1.11s/it, loss=3.15]"
          ]
        },
        {
          "output_type": "stream",
          "name": "stdout",
          "text": [
            ">\n",
            ">\n"
          ]
        },
        {
          "output_type": "stream",
          "name": "stderr",
          "text": [
            " 10%|▉         | 28/290 [00:30<04:51,  1.11s/it, loss=3.11]"
          ]
        },
        {
          "output_type": "stream",
          "name": "stdout",
          "text": [
            ">\n",
            ">\n"
          ]
        },
        {
          "output_type": "stream",
          "name": "stderr",
          "text": [
            " 12%|█▏        | 34/290 [00:36<04:38,  1.09s/it, loss=3.13]"
          ]
        },
        {
          "output_type": "stream",
          "name": "stdout",
          "text": [
            "*\n",
            "*\n",
            "*\n"
          ]
        },
        {
          "output_type": "stream",
          "name": "stderr",
          "text": [
            " 12%|█▏        | 36/290 [00:38<04:37,  1.09s/it, loss=3.09]"
          ]
        },
        {
          "output_type": "stream",
          "name": "stdout",
          "text": [
            ">\n"
          ]
        },
        {
          "output_type": "stream",
          "name": "stderr",
          "text": [
            " 15%|█▌        | 44/290 [00:47<04:30,  1.10s/it, loss=3.05]"
          ]
        },
        {
          "output_type": "stream",
          "name": "stdout",
          "text": [
            "*\n",
            "*\n",
            "*\n"
          ]
        },
        {
          "output_type": "stream",
          "name": "stderr",
          "text": [
            " 16%|█▌        | 47/290 [00:50<04:23,  1.09s/it, loss=3.09]"
          ]
        },
        {
          "output_type": "stream",
          "name": "stdout",
          "text": [
            ">\n",
            ">\n",
            ">\n",
            ">\n"
          ]
        },
        {
          "output_type": "stream",
          "name": "stderr",
          "text": [
            " 19%|█▉        | 55/290 [00:59<04:17,  1.10s/it, loss=3.11]"
          ]
        },
        {
          "output_type": "stream",
          "name": "stdout",
          "text": [
            ">\n",
            ">\n"
          ]
        },
        {
          "output_type": "stream",
          "name": "stderr",
          "text": [
            " 27%|██▋       | 78/290 [01:24<03:52,  1.09s/it, loss=3.03]"
          ]
        },
        {
          "output_type": "stream",
          "name": "stdout",
          "text": [
            "[\n"
          ]
        },
        {
          "output_type": "stream",
          "name": "stderr",
          "text": [
            " 31%|███       | 90/290 [01:37<03:39,  1.10s/it, loss=3.07]"
          ]
        },
        {
          "output_type": "stream",
          "name": "stdout",
          "text": [
            ">\n",
            ">\n"
          ]
        },
        {
          "output_type": "stream",
          "name": "stderr",
          "text": [
            " 31%|███▏      | 91/290 [01:38<03:37,  1.10s/it, loss=3.05]"
          ]
        },
        {
          "output_type": "stream",
          "name": "stdout",
          "text": [
            "<\n"
          ]
        },
        {
          "output_type": "stream",
          "name": "stderr",
          "text": [
            " 32%|███▏      | 94/290 [01:41<03:36,  1.10s/it, loss=3]"
          ]
        },
        {
          "output_type": "stream",
          "name": "stdout",
          "text": [
            "[\n",
            "]\n"
          ]
        },
        {
          "output_type": "stream",
          "name": "stderr",
          "text": [
            " 39%|███▉      | 113/290 [02:02<03:14,  1.10s/it, loss=3.05]"
          ]
        },
        {
          "output_type": "stream",
          "name": "stdout",
          "text": [
            "]\n",
            "[\n",
            "]\n"
          ]
        },
        {
          "output_type": "stream",
          "name": "stderr",
          "text": [
            " 40%|███▉      | 115/290 [02:04<03:12,  1.10s/it, loss=3]"
          ]
        },
        {
          "output_type": "stream",
          "name": "stdout",
          "text": [
            "[\n"
          ]
        },
        {
          "output_type": "stream",
          "name": "stderr",
          "text": [
            " 60%|██████    | 174/290 [03:08<02:03,  1.06s/it, loss=2.96]"
          ]
        },
        {
          "output_type": "stream",
          "name": "stdout",
          "text": [
            "[\n"
          ]
        },
        {
          "output_type": "stream",
          "name": "stderr",
          "text": [
            " 69%|██████▉   | 200/290 [03:36<01:38,  1.09s/it, loss=2.94]"
          ]
        },
        {
          "output_type": "stream",
          "name": "stdout",
          "text": [
            "*\n",
            "*\n",
            "*\n"
          ]
        },
        {
          "output_type": "stream",
          "name": "stderr",
          "text": [
            " 70%|███████   | 204/290 [03:41<01:33,  1.09s/it, loss=2.91]"
          ]
        },
        {
          "output_type": "stream",
          "name": "stdout",
          "text": [
            ">\n",
            ">\n"
          ]
        },
        {
          "output_type": "stream",
          "name": "stderr",
          "text": [
            " 72%|███████▏  | 208/290 [03:45<01:25,  1.05s/it, loss=2.89]"
          ]
        },
        {
          "output_type": "stream",
          "name": "stdout",
          "text": [
            ">\n",
            ">\n"
          ]
        },
        {
          "output_type": "stream",
          "name": "stderr",
          "text": [
            " 76%|███████▌  | 221/290 [03:58<01:13,  1.07s/it, loss=2.81]"
          ]
        },
        {
          "output_type": "stream",
          "name": "stdout",
          "text": [
            "*\n",
            "*\n",
            "*\n"
          ]
        },
        {
          "output_type": "stream",
          "name": "stderr",
          "text": [
            " 77%|███████▋  | 222/290 [04:00<01:13,  1.08s/it, loss=2.83]"
          ]
        },
        {
          "output_type": "stream",
          "name": "stdout",
          "text": [
            "[\n",
            "]\n"
          ]
        },
        {
          "output_type": "stream",
          "name": "stderr",
          "text": [
            " 78%|███████▊  | 227/290 [04:05<01:09,  1.10s/it, loss=2.79]"
          ]
        },
        {
          "output_type": "stream",
          "name": "stdout",
          "text": [
            ">\n"
          ]
        },
        {
          "output_type": "stream",
          "name": "stderr",
          "text": [
            " 79%|███████▉  | 229/290 [04:07<01:05,  1.07s/it, loss=2.74]"
          ]
        },
        {
          "output_type": "stream",
          "name": "stdout",
          "text": [
            "<\n"
          ]
        },
        {
          "output_type": "stream",
          "name": "stderr",
          "text": [
            " 90%|█████████ | 262/290 [04:43<00:29,  1.06s/it, loss=2.68]"
          ]
        },
        {
          "output_type": "stream",
          "name": "stdout",
          "text": [
            ">\n",
            ">\n",
            "[\n",
            "]\n"
          ]
        },
        {
          "output_type": "stream",
          "name": "stderr",
          "text": [
            " 91%|█████████ | 263/290 [04:44<00:29,  1.08s/it, loss=2.74]"
          ]
        },
        {
          "output_type": "stream",
          "name": "stdout",
          "text": [
            "]\n",
            "[\n",
            "]\n",
            "[\n"
          ]
        },
        {
          "output_type": "stream",
          "name": "stderr",
          "text": [
            " 92%|█████████▏| 266/290 [04:47<00:25,  1.05s/it, loss=2.71]"
          ]
        },
        {
          "output_type": "stream",
          "name": "stdout",
          "text": [
            "[\n",
            "]\n"
          ]
        },
        {
          "output_type": "stream",
          "name": "stderr",
          "text": [
            " 93%|█████████▎| 270/290 [04:51<00:20,  1.04s/it, loss=2.67]"
          ]
        },
        {
          "output_type": "stream",
          "name": "stdout",
          "text": [
            "]\n"
          ]
        },
        {
          "output_type": "stream",
          "name": "stderr",
          "text": [
            " 98%|█████████▊| 285/290 [05:07<00:05,  1.06s/it, loss=2.65]"
          ]
        },
        {
          "output_type": "stream",
          "name": "stdout",
          "text": [
            ">\n",
            ">\n",
            ">\n"
          ]
        },
        {
          "output_type": "stream",
          "name": "stderr",
          "text": [
            "100%|██████████| 290/290 [05:12<00:00,  1.08s/it, loss=2.69]\n"
          ]
        },
        {
          "output_type": "stream",
          "name": "stdout",
          "text": [
            "checkpoint_ep1.pth.tar saved\n"
          ]
        },
        {
          "output_type": "stream",
          "name": "stderr",
          "text": [
            "  1%|          | 3/290 [00:03<05:07,  1.07s/it, loss=2.62]"
          ]
        },
        {
          "output_type": "stream",
          "name": "stdout",
          "text": [
            ">\n",
            ">\n"
          ]
        },
        {
          "output_type": "stream",
          "name": "stderr",
          "text": [
            "  3%|▎         | 8/290 [00:08<04:58,  1.06s/it, loss=2.6]"
          ]
        },
        {
          "output_type": "stream",
          "name": "stdout",
          "text": [
            "[\n"
          ]
        },
        {
          "output_type": "stream",
          "name": "stderr",
          "text": [
            " 12%|█▏        | 34/290 [00:36<04:30,  1.06s/it, loss=2.7]"
          ]
        },
        {
          "output_type": "stream",
          "name": "stdout",
          "text": [
            ">\n",
            ">\n"
          ]
        },
        {
          "output_type": "stream",
          "name": "stderr",
          "text": [
            " 13%|█▎        | 38/290 [00:40<04:26,  1.06s/it, loss=2.98]"
          ]
        },
        {
          "output_type": "stream",
          "name": "stdout",
          "text": [
            ">\n",
            ">\n"
          ]
        },
        {
          "output_type": "stream",
          "name": "stderr",
          "text": [
            " 15%|█▌        | 44/290 [00:46<04:24,  1.08s/it, loss=2.84]"
          ]
        },
        {
          "output_type": "stream",
          "name": "stdout",
          "text": [
            "*\n",
            "*\n",
            "*\n"
          ]
        },
        {
          "output_type": "stream",
          "name": "stderr",
          "text": [
            " 20%|█▉        | 57/290 [01:00<04:03,  1.04s/it, loss=2.72]"
          ]
        },
        {
          "output_type": "stream",
          "name": "stdout",
          "text": [
            ">\n",
            ">\n"
          ]
        },
        {
          "output_type": "stream",
          "name": "stderr",
          "text": [
            " 32%|███▏      | 92/290 [01:37<03:27,  1.05s/it, loss=2.62]"
          ]
        },
        {
          "output_type": "stream",
          "name": "stdout",
          "text": [
            "]\n",
            "[\n",
            "]\n"
          ]
        },
        {
          "output_type": "stream",
          "name": "stderr",
          "text": [
            " 32%|███▏      | 94/290 [01:39<03:29,  1.07s/it, loss=2.63]"
          ]
        },
        {
          "output_type": "stream",
          "name": "stdout",
          "text": [
            "[\n",
            "]\n"
          ]
        },
        {
          "output_type": "stream",
          "name": "stderr",
          "text": [
            " 34%|███▍      | 99/290 [01:45<03:28,  1.09s/it, loss=2.61]"
          ]
        },
        {
          "output_type": "stream",
          "name": "stdout",
          "text": [
            ">\n",
            ">\n"
          ]
        },
        {
          "output_type": "stream",
          "name": "stderr",
          "text": [
            " 42%|████▏     | 122/290 [02:09<02:58,  1.06s/it, loss=2.47]"
          ]
        },
        {
          "output_type": "stream",
          "name": "stdout",
          "text": [
            "*\n",
            "*\n",
            "*\n"
          ]
        },
        {
          "output_type": "stream",
          "name": "stderr",
          "text": [
            " 47%|████▋     | 135/290 [02:23<02:47,  1.08s/it, loss=2.45]"
          ]
        },
        {
          "output_type": "stream",
          "name": "stdout",
          "text": [
            "[\n",
            "]\n"
          ]
        },
        {
          "output_type": "stream",
          "name": "stderr",
          "text": [
            " 47%|████▋     | 137/290 [02:25<02:45,  1.08s/it, loss=2.43]"
          ]
        },
        {
          "output_type": "stream",
          "name": "stdout",
          "text": [
            ">\n"
          ]
        },
        {
          "output_type": "stream",
          "name": "stderr",
          "text": [
            " 48%|████▊     | 138/290 [02:26<02:43,  1.07s/it, loss=2.47]"
          ]
        },
        {
          "output_type": "stream",
          "name": "stdout",
          "text": [
            "[\n"
          ]
        },
        {
          "output_type": "stream",
          "name": "stderr",
          "text": [
            " 49%|████▉     | 142/290 [02:31<02:37,  1.06s/it, loss=2.56]"
          ]
        },
        {
          "output_type": "stream",
          "name": "stdout",
          "text": [
            "]\n"
          ]
        },
        {
          "output_type": "stream",
          "name": "stderr",
          "text": [
            " 51%|█████     | 147/290 [02:36<02:31,  1.06s/it, loss=2.69]"
          ]
        },
        {
          "output_type": "stream",
          "name": "stdout",
          "text": [
            "[\n",
            "]\n"
          ]
        },
        {
          "output_type": "stream",
          "name": "stderr",
          "text": [
            " 53%|█████▎    | 155/290 [02:45<02:26,  1.08s/it, loss=2.54]"
          ]
        },
        {
          "output_type": "stream",
          "name": "stdout",
          "text": [
            "<\n"
          ]
        },
        {
          "output_type": "stream",
          "name": "stderr",
          "text": [
            " 67%|██████▋   | 193/290 [03:26<01:43,  1.06s/it, loss=2.46]"
          ]
        },
        {
          "output_type": "stream",
          "name": "stdout",
          "text": [
            "<\n"
          ]
        },
        {
          "output_type": "stream",
          "name": "stderr",
          "text": [
            " 68%|██████▊   | 198/290 [03:31<01:38,  1.07s/it, loss=2.46]"
          ]
        },
        {
          "output_type": "stream",
          "name": "stdout",
          "text": [
            ">\n"
          ]
        },
        {
          "output_type": "stream",
          "name": "stderr",
          "text": [
            " 73%|███████▎  | 212/290 [03:46<01:23,  1.07s/it, loss=2.49]"
          ]
        },
        {
          "output_type": "stream",
          "name": "stdout",
          "text": [
            "*\n",
            "*\n",
            "*\n"
          ]
        },
        {
          "output_type": "stream",
          "name": "stderr",
          "text": [
            " 73%|███████▎  | 213/290 [03:47<01:26,  1.12s/it, loss=2.49]"
          ]
        },
        {
          "output_type": "stream",
          "name": "stdout",
          "text": [
            "[\n",
            "]\n"
          ]
        },
        {
          "output_type": "stream",
          "name": "stderr",
          "text": [
            " 75%|███████▌  | 218/290 [03:53<01:19,  1.10s/it, loss=2.49]"
          ]
        },
        {
          "output_type": "stream",
          "name": "stdout",
          "text": [
            "[\n"
          ]
        },
        {
          "output_type": "stream",
          "name": "stderr",
          "text": [
            " 76%|███████▌  | 220/290 [03:55<01:15,  1.09s/it, loss=2.46]"
          ]
        },
        {
          "output_type": "stream",
          "name": "stdout",
          "text": [
            ">\n",
            ">\n",
            ">\n"
          ]
        },
        {
          "output_type": "stream",
          "name": "stderr",
          "text": [
            " 77%|███████▋  | 223/290 [03:58<01:10,  1.05s/it, loss=2.45]"
          ]
        },
        {
          "output_type": "stream",
          "name": "stdout",
          "text": [
            ">\n"
          ]
        },
        {
          "output_type": "stream",
          "name": "stderr",
          "text": [
            " 78%|███████▊  | 225/290 [04:00<01:08,  1.06s/it, loss=2.43]"
          ]
        },
        {
          "output_type": "stream",
          "name": "stdout",
          "text": [
            "*\n",
            "*\n",
            "*\n"
          ]
        },
        {
          "output_type": "stream",
          "name": "stderr",
          "text": [
            " 79%|███████▊  | 228/290 [04:03<01:05,  1.06s/it, loss=2.45]"
          ]
        },
        {
          "output_type": "stream",
          "name": "stdout",
          "text": [
            ">\n",
            ">\n"
          ]
        },
        {
          "output_type": "stream",
          "name": "stderr",
          "text": [
            " 81%|████████  | 235/290 [04:11<00:58,  1.06s/it, loss=2.36]"
          ]
        },
        {
          "output_type": "stream",
          "name": "stdout",
          "text": [
            "]\n"
          ]
        },
        {
          "output_type": "stream",
          "name": "stderr",
          "text": [
            " 84%|████████▍ | 245/290 [04:22<00:50,  1.13s/it, loss=2.43]"
          ]
        },
        {
          "output_type": "stream",
          "name": "stdout",
          "text": [
            ">\n",
            ">\n"
          ]
        },
        {
          "output_type": "stream",
          "name": "stderr",
          "text": [
            " 85%|████████▌ | 247/290 [04:24<00:47,  1.10s/it, loss=2.5]"
          ]
        },
        {
          "output_type": "stream",
          "name": "stdout",
          "text": [
            ">\n",
            ">\n"
          ]
        },
        {
          "output_type": "stream",
          "name": "stderr",
          "text": [
            " 87%|████████▋ | 251/290 [04:28<00:41,  1.06s/it, loss=2.52]"
          ]
        },
        {
          "output_type": "stream",
          "name": "stdout",
          "text": [
            "]\n",
            "[\n",
            "]\n"
          ]
        },
        {
          "output_type": "stream",
          "name": "stderr",
          "text": [
            " 91%|█████████ | 264/290 [04:42<00:27,  1.06s/it, loss=2.41]"
          ]
        },
        {
          "output_type": "stream",
          "name": "stdout",
          "text": [
            ">\n",
            ">\n"
          ]
        },
        {
          "output_type": "stream",
          "name": "stderr",
          "text": [
            " 92%|█████████▏| 267/290 [04:45<00:24,  1.05s/it, loss=2.31]"
          ]
        },
        {
          "output_type": "stream",
          "name": "stdout",
          "text": [
            "[\n"
          ]
        },
        {
          "output_type": "stream",
          "name": "stderr",
          "text": [
            " 92%|█████████▏| 268/290 [04:46<00:23,  1.05s/it, loss=2.34]"
          ]
        },
        {
          "output_type": "stream",
          "name": "stdout",
          "text": [
            ">\n",
            ">\n"
          ]
        },
        {
          "output_type": "stream",
          "name": "stderr",
          "text": [
            "100%|██████████| 290/290 [05:09<00:00,  1.07s/it, loss=2.3]\n",
            "  2%|▏         | 6/290 [00:06<05:10,  1.09s/it, loss=2.23]"
          ]
        },
        {
          "output_type": "stream",
          "name": "stdout",
          "text": [
            ">\n",
            ">\n"
          ]
        },
        {
          "output_type": "stream",
          "name": "stderr",
          "text": [
            "  3%|▎         | 8/290 [00:08<05:03,  1.08s/it, loss=2.26]"
          ]
        },
        {
          "output_type": "stream",
          "name": "stdout",
          "text": [
            "*\n",
            "*\n",
            "*\n"
          ]
        },
        {
          "output_type": "stream",
          "name": "stderr",
          "text": [
            "  9%|▊         | 25/290 [00:26<04:44,  1.07s/it, loss=2.21]"
          ]
        },
        {
          "output_type": "stream",
          "name": "stdout",
          "text": [
            "[\n",
            "]\n"
          ]
        },
        {
          "output_type": "stream",
          "name": "stderr",
          "text": [
            " 11%|█         | 32/290 [00:34<04:29,  1.04s/it, loss=2.19]"
          ]
        },
        {
          "output_type": "stream",
          "name": "stdout",
          "text": [
            ">\n"
          ]
        },
        {
          "output_type": "stream",
          "name": "stderr",
          "text": [
            " 13%|█▎        | 37/290 [00:39<04:33,  1.08s/it, loss=2.21]"
          ]
        },
        {
          "output_type": "stream",
          "name": "stdout",
          "text": [
            ">\n",
            ">\n"
          ]
        },
        {
          "output_type": "stream",
          "name": "stderr",
          "text": [
            " 20%|█▉        | 57/290 [01:00<04:11,  1.08s/it, loss=2.26]"
          ]
        },
        {
          "output_type": "stream",
          "name": "stdout",
          "text": [
            ">\n",
            ">\n",
            ">\n"
          ]
        },
        {
          "output_type": "stream",
          "name": "stderr",
          "text": [
            " 20%|██        | 59/290 [01:02<04:03,  1.05s/it, loss=2.17]"
          ]
        },
        {
          "output_type": "stream",
          "name": "stdout",
          "text": [
            "*\n",
            "*\n",
            "*\n"
          ]
        },
        {
          "output_type": "stream",
          "name": "stderr",
          "text": [
            " 21%|██        | 61/290 [01:04<04:00,  1.05s/it, loss=2.23]"
          ]
        },
        {
          "output_type": "stream",
          "name": "stdout",
          "text": [
            ">\n",
            ">\n"
          ]
        },
        {
          "output_type": "stream",
          "name": "stderr",
          "text": [
            " 25%|██▌       | 73/290 [01:17<03:54,  1.08s/it, loss=2.15]"
          ]
        },
        {
          "output_type": "stream",
          "name": "stdout",
          "text": [
            "]\n"
          ]
        },
        {
          "output_type": "stream",
          "name": "stderr",
          "text": [
            " 28%|██▊       | 81/290 [01:26<03:43,  1.07s/it, loss=2.21]"
          ]
        },
        {
          "output_type": "stream",
          "name": "stdout",
          "text": [
            "]\n"
          ]
        },
        {
          "output_type": "stream",
          "name": "stderr",
          "text": [
            " 32%|███▏      | 94/290 [01:40<03:34,  1.10s/it, loss=2.16]"
          ]
        },
        {
          "output_type": "stream",
          "name": "stdout",
          "text": [
            ">\n",
            ">\n"
          ]
        },
        {
          "output_type": "stream",
          "name": "stderr",
          "text": [
            " 33%|███▎      | 97/290 [01:43<03:40,  1.14s/it, loss=2.11]"
          ]
        },
        {
          "output_type": "stream",
          "name": "stdout",
          "text": [
            "[\n"
          ]
        },
        {
          "output_type": "stream",
          "name": "stderr",
          "text": [
            " 34%|███▍      | 98/290 [01:44<03:38,  1.14s/it, loss=2.22]"
          ]
        },
        {
          "output_type": "stream",
          "name": "stdout",
          "text": [
            ">\n",
            ">\n"
          ]
        },
        {
          "output_type": "stream",
          "name": "stderr",
          "text": [
            " 34%|███▍      | 100/290 [01:47<03:31,  1.11s/it, loss=2.29]"
          ]
        },
        {
          "output_type": "stream",
          "name": "stdout",
          "text": [
            "[\n",
            "]\n"
          ]
        },
        {
          "output_type": "stream",
          "name": "stderr",
          "text": [
            " 35%|███▌      | 102/290 [01:49<03:28,  1.11s/it, loss=2.2]"
          ]
        },
        {
          "output_type": "stream",
          "name": "stdout",
          "text": [
            ">\n"
          ]
        },
        {
          "output_type": "stream",
          "name": "stderr",
          "text": [
            " 40%|███▉      | 115/290 [02:02<03:06,  1.06s/it, loss=2.2]"
          ]
        },
        {
          "output_type": "stream",
          "name": "stdout",
          "text": [
            "[\n",
            "]\n"
          ]
        },
        {
          "output_type": "stream",
          "name": "stderr",
          "text": [
            " 41%|████      | 119/290 [02:07<03:01,  1.06s/it, loss=2.11]"
          ]
        },
        {
          "output_type": "stream",
          "name": "stdout",
          "text": [
            "]\n",
            "[\n",
            "]\n"
          ]
        },
        {
          "output_type": "stream",
          "name": "stderr",
          "text": [
            " 42%|████▏     | 123/290 [02:11<03:01,  1.09s/it, loss=2.15]"
          ]
        },
        {
          "output_type": "stream",
          "name": "stdout",
          "text": [
            "]\n",
            "[\n",
            "]\n"
          ]
        },
        {
          "output_type": "stream",
          "name": "stderr",
          "text": [
            " 49%|████▊     | 141/290 [02:30<02:36,  1.05s/it, loss=2.45]"
          ]
        },
        {
          "output_type": "stream",
          "name": "stdout",
          "text": [
            "[\n"
          ]
        },
        {
          "output_type": "stream",
          "name": "stderr",
          "text": [
            " 55%|█████▍    | 159/290 [02:49<02:17,  1.05s/it, loss=2.11]"
          ]
        },
        {
          "output_type": "stream",
          "name": "stdout",
          "text": [
            ">\n"
          ]
        },
        {
          "output_type": "stream",
          "name": "stderr",
          "text": [
            " 60%|██████    | 175/290 [03:06<02:00,  1.05s/it, loss=2.17]"
          ]
        },
        {
          "output_type": "stream",
          "name": "stdout",
          "text": [
            "[\n"
          ]
        },
        {
          "output_type": "stream",
          "name": "stderr",
          "text": [
            " 64%|██████▍   | 185/290 [03:17<01:57,  1.12s/it, loss=2.12]"
          ]
        },
        {
          "output_type": "stream",
          "name": "stdout",
          "text": [
            ">\n",
            ">\n"
          ]
        },
        {
          "output_type": "stream",
          "name": "stderr",
          "text": [
            " 64%|██████▍   | 187/290 [03:19<01:54,  1.11s/it, loss=2.12]"
          ]
        },
        {
          "output_type": "stream",
          "name": "stdout",
          "text": [
            ">\n",
            ">\n"
          ]
        },
        {
          "output_type": "stream",
          "name": "stderr",
          "text": [
            " 67%|██████▋   | 195/290 [03:28<01:39,  1.05s/it, loss=2.11]"
          ]
        },
        {
          "output_type": "stream",
          "name": "stdout",
          "text": [
            "*\n",
            "*\n",
            "*\n"
          ]
        },
        {
          "output_type": "stream",
          "name": "stderr",
          "text": [
            " 75%|███████▌  | 218/290 [03:52<01:15,  1.05s/it, loss=1.95]"
          ]
        },
        {
          "output_type": "stream",
          "name": "stdout",
          "text": [
            ">\n",
            ">\n"
          ]
        },
        {
          "output_type": "stream",
          "name": "stderr",
          "text": [
            " 78%|███████▊  | 227/290 [04:02<01:08,  1.08s/it, loss=1.99]"
          ]
        },
        {
          "output_type": "stream",
          "name": "stdout",
          "text": [
            "*\n",
            "*\n",
            "*\n"
          ]
        },
        {
          "output_type": "stream",
          "name": "stderr",
          "text": [
            " 86%|████████▌ | 248/290 [04:25<00:45,  1.08s/it, loss=2.03]"
          ]
        },
        {
          "output_type": "stream",
          "name": "stdout",
          "text": [
            "<\n"
          ]
        },
        {
          "output_type": "stream",
          "name": "stderr",
          "text": [
            " 86%|████████▌ | 249/290 [04:26<00:44,  1.08s/it, loss=2.07]"
          ]
        },
        {
          "output_type": "stream",
          "name": "stdout",
          "text": [
            ">\n",
            ">\n"
          ]
        },
        {
          "output_type": "stream",
          "name": "stderr",
          "text": [
            " 86%|████████▌ | 250/290 [04:27<00:43,  1.09s/it, loss=2.08]"
          ]
        },
        {
          "output_type": "stream",
          "name": "stdout",
          "text": [
            "[\n",
            "]\n"
          ]
        },
        {
          "output_type": "stream",
          "name": "stderr",
          "text": [
            " 87%|████████▋ | 251/290 [04:28<00:42,  1.10s/it, loss=2.01]"
          ]
        },
        {
          "output_type": "stream",
          "name": "stdout",
          "text": [
            "[\n"
          ]
        },
        {
          "output_type": "stream",
          "name": "stderr",
          "text": [
            " 90%|████████▉ | 260/290 [04:37<00:31,  1.06s/it, loss=1.93]"
          ]
        },
        {
          "output_type": "stream",
          "name": "stdout",
          "text": [
            ">\n",
            ">\n",
            "<\n"
          ]
        },
        {
          "output_type": "stream",
          "name": "stderr",
          "text": [
            "100%|██████████| 290/290 [05:09<00:00,  1.07s/it, loss=1.88]\n"
          ]
        },
        {
          "output_type": "stream",
          "name": "stdout",
          "text": [
            "checkpoint_ep3.pth.tar saved\n"
          ]
        },
        {
          "output_type": "stream",
          "name": "stderr",
          "text": [
            "  6%|▌         | 16/290 [00:16<04:53,  1.07s/it, loss=1.82]"
          ]
        },
        {
          "output_type": "stream",
          "name": "stdout",
          "text": [
            "]\n",
            "[\n",
            "]\n"
          ]
        },
        {
          "output_type": "stream",
          "name": "stderr",
          "text": [
            "  6%|▌         | 17/290 [00:18<04:50,  1.07s/it, loss=1.89]"
          ]
        },
        {
          "output_type": "stream",
          "name": "stdout",
          "text": [
            ">\n",
            ">\n"
          ]
        },
        {
          "output_type": "stream",
          "name": "stderr",
          "text": [
            " 12%|█▏        | 36/290 [00:38<04:34,  1.08s/it, loss=1.83]"
          ]
        },
        {
          "output_type": "stream",
          "name": "stdout",
          "text": [
            "]\n"
          ]
        },
        {
          "output_type": "stream",
          "name": "stderr",
          "text": [
            " 16%|█▌        | 45/290 [00:47<04:22,  1.07s/it, loss=1.79]"
          ]
        },
        {
          "output_type": "stream",
          "name": "stdout",
          "text": [
            "[\n"
          ]
        },
        {
          "output_type": "stream",
          "name": "stderr",
          "text": [
            " 18%|█▊        | 52/290 [00:55<04:09,  1.05s/it, loss=1.75]"
          ]
        },
        {
          "output_type": "stream",
          "name": "stdout",
          "text": [
            "[\n"
          ]
        },
        {
          "output_type": "stream",
          "name": "stderr",
          "text": [
            " 20%|██        | 58/290 [01:01<04:09,  1.08s/it, loss=1.76]"
          ]
        },
        {
          "output_type": "stream",
          "name": "stdout",
          "text": [
            "<\n"
          ]
        },
        {
          "output_type": "stream",
          "name": "stderr",
          "text": [
            " 21%|██▏       | 62/290 [01:05<04:04,  1.07s/it, loss=1.84]"
          ]
        },
        {
          "output_type": "stream",
          "name": "stdout",
          "text": [
            "*\n",
            "*\n",
            "*\n",
            "[\n",
            "]\n"
          ]
        },
        {
          "output_type": "stream",
          "name": "stderr",
          "text": [
            " 22%|██▏       | 63/290 [01:07<04:09,  1.10s/it, loss=1.69]"
          ]
        },
        {
          "output_type": "stream",
          "name": "stdout",
          "text": [
            ">\n",
            ">\n"
          ]
        },
        {
          "output_type": "stream",
          "name": "stderr",
          "text": [
            " 27%|██▋       | 77/290 [01:21<03:44,  1.06s/it, loss=1.79]"
          ]
        },
        {
          "output_type": "stream",
          "name": "stdout",
          "text": [
            ">\n"
          ]
        },
        {
          "output_type": "stream",
          "name": "stderr",
          "text": [
            " 33%|███▎      | 96/290 [01:42<03:31,  1.09s/it, loss=1.95]"
          ]
        },
        {
          "output_type": "stream",
          "name": "stdout",
          "text": [
            "]\n",
            "[\n",
            "]\n"
          ]
        },
        {
          "output_type": "stream",
          "name": "stderr",
          "text": [
            " 36%|███▌      | 105/290 [01:51<03:15,  1.06s/it, loss=1.7]"
          ]
        },
        {
          "output_type": "stream",
          "name": "stdout",
          "text": [
            ">\n",
            ">\n"
          ]
        },
        {
          "output_type": "stream",
          "name": "stderr",
          "text": [
            " 37%|███▋      | 106/290 [01:52<03:13,  1.05s/it, loss=1.72]"
          ]
        },
        {
          "output_type": "stream",
          "name": "stdout",
          "text": [
            ">\n",
            ">\n"
          ]
        },
        {
          "output_type": "stream",
          "name": "stderr",
          "text": [
            " 37%|███▋      | 107/290 [01:54<03:14,  1.06s/it, loss=1.77]"
          ]
        },
        {
          "output_type": "stream",
          "name": "stdout",
          "text": [
            "*\n",
            "*\n",
            "*\n"
          ]
        },
        {
          "output_type": "stream",
          "name": "stderr",
          "text": [
            " 37%|███▋      | 108/290 [01:55<03:16,  1.08s/it, loss=1.8]"
          ]
        },
        {
          "output_type": "stream",
          "name": "stdout",
          "text": [
            ">\n",
            ">\n"
          ]
        },
        {
          "output_type": "stream",
          "name": "stderr",
          "text": [
            " 41%|████▏     | 120/290 [02:07<03:04,  1.09s/it, loss=1.63]"
          ]
        },
        {
          "output_type": "stream",
          "name": "stdout",
          "text": [
            "[\n"
          ]
        },
        {
          "output_type": "stream",
          "name": "stderr",
          "text": [
            " 47%|████▋     | 136/290 [02:24<02:44,  1.07s/it, loss=1.68]"
          ]
        },
        {
          "output_type": "stream",
          "name": "stdout",
          "text": [
            "[\n"
          ]
        },
        {
          "output_type": "stream",
          "name": "stderr",
          "text": [
            " 48%|████▊     | 140/290 [02:29<02:42,  1.08s/it, loss=1.6]"
          ]
        },
        {
          "output_type": "stream",
          "name": "stdout",
          "text": [
            ">\n"
          ]
        },
        {
          "output_type": "stream",
          "name": "stderr",
          "text": [
            " 51%|█████     | 147/290 [02:36<02:32,  1.07s/it, loss=1.62]"
          ]
        },
        {
          "output_type": "stream",
          "name": "stdout",
          "text": [
            ">\n",
            ">\n"
          ]
        },
        {
          "output_type": "stream",
          "name": "stderr",
          "text": [
            " 57%|█████▋    | 165/290 [02:55<02:13,  1.07s/it, loss=1.96]"
          ]
        },
        {
          "output_type": "stream",
          "name": "stdout",
          "text": [
            "*\n",
            "*\n",
            "*\n"
          ]
        },
        {
          "output_type": "stream",
          "name": "stderr",
          "text": [
            " 63%|██████▎   | 184/290 [03:16<01:56,  1.10s/it, loss=1.81]"
          ]
        },
        {
          "output_type": "stream",
          "name": "stdout",
          "text": [
            ">\n",
            ">\n",
            ">\n"
          ]
        },
        {
          "output_type": "stream",
          "name": "stderr",
          "text": [
            " 69%|██████▊   | 199/290 [03:32<01:36,  1.06s/it, loss=1.65]"
          ]
        },
        {
          "output_type": "stream",
          "name": "stdout",
          "text": [
            "[\n",
            "]\n"
          ]
        },
        {
          "output_type": "stream",
          "name": "stderr",
          "text": [
            " 70%|███████   | 204/290 [03:37<01:32,  1.08s/it, loss=1.67]"
          ]
        },
        {
          "output_type": "stream",
          "name": "stdout",
          "text": [
            ">\n",
            ">\n"
          ]
        },
        {
          "output_type": "stream",
          "name": "stderr",
          "text": [
            " 71%|███████   | 205/290 [03:38<01:32,  1.08s/it, loss=1.66]"
          ]
        },
        {
          "output_type": "stream",
          "name": "stdout",
          "text": [
            ">\n"
          ]
        },
        {
          "output_type": "stream",
          "name": "stderr",
          "text": [
            " 72%|███████▏  | 208/290 [03:41<01:26,  1.06s/it, loss=1.67]"
          ]
        },
        {
          "output_type": "stream",
          "name": "stdout",
          "text": [
            "*\n",
            "*\n",
            "*\n"
          ]
        },
        {
          "output_type": "stream",
          "name": "stderr",
          "text": [
            " 76%|███████▌  | 220/290 [03:54<01:15,  1.07s/it, loss=1.66]"
          ]
        },
        {
          "output_type": "stream",
          "name": "stdout",
          "text": [
            "<\n"
          ]
        },
        {
          "output_type": "stream",
          "name": "stderr",
          "text": [
            " 84%|████████▍ | 245/290 [04:21<00:47,  1.06s/it, loss=1.78]"
          ]
        },
        {
          "output_type": "stream",
          "name": "stdout",
          "text": [
            ">\n",
            ">\n"
          ]
        },
        {
          "output_type": "stream",
          "name": "stderr",
          "text": [
            " 86%|████████▌ | 248/290 [04:24<00:44,  1.07s/it, loss=1.75]"
          ]
        },
        {
          "output_type": "stream",
          "name": "stdout",
          "text": [
            ">\n",
            ">\n"
          ]
        },
        {
          "output_type": "stream",
          "name": "stderr",
          "text": [
            " 90%|█████████ | 261/290 [04:38<00:30,  1.05s/it, loss=2.07]"
          ]
        },
        {
          "output_type": "stream",
          "name": "stdout",
          "text": [
            "]\n",
            "[\n",
            "]\n"
          ]
        },
        {
          "output_type": "stream",
          "name": "stderr",
          "text": [
            " 94%|█████████▍| 273/290 [04:51<00:17,  1.04s/it, loss=1.74]"
          ]
        },
        {
          "output_type": "stream",
          "name": "stdout",
          "text": [
            ">\n",
            ">\n"
          ]
        },
        {
          "output_type": "stream",
          "name": "stderr",
          "text": [
            " 98%|█████████▊| 283/290 [05:01<00:07,  1.03s/it, loss=1.61]"
          ]
        },
        {
          "output_type": "stream",
          "name": "stdout",
          "text": [
            "[\n",
            "]\n"
          ]
        },
        {
          "output_type": "stream",
          "name": "stderr",
          "text": [
            "100%|██████████| 290/290 [05:08<00:00,  1.06s/it, loss=1.61]\n",
            "  2%|▏         | 7/290 [00:07<04:58,  1.05s/it, loss=1.53]"
          ]
        },
        {
          "output_type": "stream",
          "name": "stdout",
          "text": [
            ">\n",
            ">\n"
          ]
        },
        {
          "output_type": "stream",
          "name": "stderr",
          "text": [
            "  3%|▎         | 10/290 [00:10<04:53,  1.05s/it, loss=1.6]"
          ]
        },
        {
          "output_type": "stream",
          "name": "stdout",
          "text": [
            "]\n",
            "[\n",
            "]\n"
          ]
        },
        {
          "output_type": "stream",
          "name": "stderr",
          "text": [
            "  5%|▍         | 14/290 [00:15<04:55,  1.07s/it, loss=1.55]"
          ]
        },
        {
          "output_type": "stream",
          "name": "stdout",
          "text": [
            ">\n",
            ">\n"
          ]
        },
        {
          "output_type": "stream",
          "name": "stderr",
          "text": [
            "  9%|▉         | 27/290 [00:28<04:41,  1.07s/it, loss=1.54]"
          ]
        },
        {
          "output_type": "stream",
          "name": "stdout",
          "text": [
            "]\n"
          ]
        },
        {
          "output_type": "stream",
          "name": "stderr",
          "text": [
            " 10%|▉         | 28/290 [00:29<04:39,  1.07s/it, loss=1.53]"
          ]
        },
        {
          "output_type": "stream",
          "name": "stdout",
          "text": [
            ">\n",
            ">\n"
          ]
        },
        {
          "output_type": "stream",
          "name": "stderr",
          "text": [
            " 12%|█▏        | 35/290 [00:37<04:27,  1.05s/it, loss=1.53]"
          ]
        },
        {
          "output_type": "stream",
          "name": "stdout",
          "text": [
            ">\n"
          ]
        },
        {
          "output_type": "stream",
          "name": "stderr",
          "text": [
            " 13%|█▎        | 38/290 [00:40<04:23,  1.05s/it, loss=1.5]"
          ]
        },
        {
          "output_type": "stream",
          "name": "stdout",
          "text": [
            "[\n",
            "]\n"
          ]
        },
        {
          "output_type": "stream",
          "name": "stderr",
          "text": [
            " 20%|█▉        | 57/290 [01:00<04:02,  1.04s/it, loss=1.45]"
          ]
        },
        {
          "output_type": "stream",
          "name": "stdout",
          "text": [
            "]\n",
            "[\n",
            "]\n"
          ]
        },
        {
          "output_type": "stream",
          "name": "stderr",
          "text": [
            " 26%|██▌       | 75/290 [01:19<03:48,  1.06s/it, loss=1.42]"
          ]
        },
        {
          "output_type": "stream",
          "name": "stdout",
          "text": [
            ">\n",
            ">\n"
          ]
        },
        {
          "output_type": "stream",
          "name": "stderr",
          "text": [
            " 27%|██▋       | 79/290 [01:23<03:46,  1.07s/it, loss=1.46]"
          ]
        },
        {
          "output_type": "stream",
          "name": "stdout",
          "text": [
            "*\n",
            "*\n",
            "*\n",
            ">\n",
            ">\n"
          ]
        },
        {
          "output_type": "stream",
          "name": "stderr",
          "text": [
            " 33%|███▎      | 96/290 [01:41<03:22,  1.05s/it, loss=1.41]"
          ]
        },
        {
          "output_type": "stream",
          "name": "stdout",
          "text": [
            ">\n"
          ]
        },
        {
          "output_type": "stream",
          "name": "stderr",
          "text": [
            " 33%|███▎      | 97/290 [01:42<03:21,  1.04s/it, loss=1.41]"
          ]
        },
        {
          "output_type": "stream",
          "name": "stdout",
          "text": [
            "*\n",
            "*\n",
            "*\n"
          ]
        },
        {
          "output_type": "stream",
          "name": "stderr",
          "text": [
            " 36%|███▌      | 103/290 [01:48<03:14,  1.04s/it, loss=1.42]"
          ]
        },
        {
          "output_type": "stream",
          "name": "stdout",
          "text": [
            "<\n"
          ]
        },
        {
          "output_type": "stream",
          "name": "stderr",
          "text": [
            " 38%|███▊      | 111/290 [01:57<03:14,  1.09s/it, loss=1.42]"
          ]
        },
        {
          "output_type": "stream",
          "name": "stdout",
          "text": [
            "]\n"
          ]
        },
        {
          "output_type": "stream",
          "name": "stderr",
          "text": [
            " 40%|████      | 117/290 [02:03<03:06,  1.08s/it, loss=1.42]"
          ]
        },
        {
          "output_type": "stream",
          "name": "stdout",
          "text": [
            "[\n"
          ]
        },
        {
          "output_type": "stream",
          "name": "stderr",
          "text": [
            " 43%|████▎     | 125/290 [02:12<02:59,  1.09s/it, loss=1.42]"
          ]
        },
        {
          "output_type": "stream",
          "name": "stdout",
          "text": [
            "*\n",
            "*\n",
            "*\n"
          ]
        },
        {
          "output_type": "stream",
          "name": "stderr",
          "text": [
            " 45%|████▌     | 131/290 [02:18<02:52,  1.09s/it, loss=1.34]"
          ]
        },
        {
          "output_type": "stream",
          "name": "stdout",
          "text": [
            ">\n"
          ]
        },
        {
          "output_type": "stream",
          "name": "stderr",
          "text": [
            " 53%|█████▎    | 154/290 [02:42<02:19,  1.03s/it, loss=1.36]"
          ]
        },
        {
          "output_type": "stream",
          "name": "stdout",
          "text": [
            "*\n",
            "*\n",
            "*\n"
          ]
        },
        {
          "output_type": "stream",
          "name": "stderr",
          "text": [
            " 57%|█████▋    | 165/290 [02:54<02:11,  1.05s/it, loss=1.34]"
          ]
        },
        {
          "output_type": "stream",
          "name": "stdout",
          "text": [
            ">\n",
            ">\n"
          ]
        },
        {
          "output_type": "stream",
          "name": "stderr",
          "text": [
            " 61%|██████    | 176/290 [03:05<02:01,  1.07s/it, loss=1.23]"
          ]
        },
        {
          "output_type": "stream",
          "name": "stdout",
          "text": [
            ">\n",
            ">\n"
          ]
        },
        {
          "output_type": "stream",
          "name": "stderr",
          "text": [
            " 66%|██████▌   | 192/290 [03:23<01:44,  1.07s/it, loss=1.31]"
          ]
        },
        {
          "output_type": "stream",
          "name": "stdout",
          "text": [
            "[\n"
          ]
        },
        {
          "output_type": "stream",
          "name": "stderr",
          "text": [
            " 71%|███████   | 205/290 [03:37<01:28,  1.05s/it, loss=1.17]"
          ]
        },
        {
          "output_type": "stream",
          "name": "stdout",
          "text": [
            "[\n"
          ]
        },
        {
          "output_type": "stream",
          "name": "stderr",
          "text": [
            " 71%|███████   | 206/290 [03:38<01:28,  1.05s/it, loss=1.29]"
          ]
        },
        {
          "output_type": "stream",
          "name": "stdout",
          "text": [
            "[\n",
            "]\n"
          ]
        },
        {
          "output_type": "stream",
          "name": "stderr",
          "text": [
            " 74%|███████▍  | 214/290 [03:46<01:19,  1.05s/it, loss=1.27]"
          ]
        },
        {
          "output_type": "stream",
          "name": "stdout",
          "text": [
            ">\n",
            ">\n"
          ]
        },
        {
          "output_type": "stream",
          "name": "stderr",
          "text": [
            " 75%|███████▍  | 217/290 [03:49<01:17,  1.06s/it, loss=1.21]"
          ]
        },
        {
          "output_type": "stream",
          "name": "stdout",
          "text": [
            "[\n"
          ]
        },
        {
          "output_type": "stream",
          "name": "stderr",
          "text": [
            " 76%|███████▌  | 219/290 [03:51<01:13,  1.04s/it, loss=1.28]"
          ]
        },
        {
          "output_type": "stream",
          "name": "stdout",
          "text": [
            ">\n",
            ">\n"
          ]
        },
        {
          "output_type": "stream",
          "name": "stderr",
          "text": [
            " 88%|████████▊ | 255/290 [04:30<00:37,  1.07s/it, loss=1.15]"
          ]
        },
        {
          "output_type": "stream",
          "name": "stdout",
          "text": [
            ">\n",
            ">\n",
            ">\n"
          ]
        },
        {
          "output_type": "stream",
          "name": "stderr",
          "text": [
            " 94%|█████████▍| 274/290 [04:50<00:16,  1.04s/it, loss=1.44]"
          ]
        },
        {
          "output_type": "stream",
          "name": "stdout",
          "text": [
            "[\n",
            "]\n"
          ]
        },
        {
          "output_type": "stream",
          "name": "stderr",
          "text": [
            " 97%|█████████▋| 281/290 [04:57<00:09,  1.06s/it, loss=1.32]"
          ]
        },
        {
          "output_type": "stream",
          "name": "stdout",
          "text": [
            "<\n"
          ]
        },
        {
          "output_type": "stream",
          "name": "stderr",
          "text": [
            " 99%|█████████▉| 288/290 [05:05<00:02,  1.03s/it, loss=1.2]"
          ]
        },
        {
          "output_type": "stream",
          "name": "stdout",
          "text": [
            ">\n",
            ">\n"
          ]
        },
        {
          "output_type": "stream",
          "name": "stderr",
          "text": [
            "100%|█████████▉| 289/290 [05:06<00:01,  1.03s/it, loss=1.26]"
          ]
        },
        {
          "output_type": "stream",
          "name": "stdout",
          "text": [
            "[\n",
            "]\n"
          ]
        },
        {
          "output_type": "stream",
          "name": "stderr",
          "text": [
            "100%|██████████| 290/290 [05:06<00:00,  1.06s/it, loss=1.28]\n"
          ]
        },
        {
          "output_type": "stream",
          "name": "stdout",
          "text": [
            "checkpoint_ep5.pth.tar saved\n"
          ]
        },
        {
          "output_type": "stream",
          "name": "stderr",
          "text": [
            "  5%|▍         | 14/290 [00:14<04:52,  1.06s/it, loss=1.12]"
          ]
        },
        {
          "output_type": "stream",
          "name": "stdout",
          "text": [
            ">\n",
            ">\n"
          ]
        },
        {
          "output_type": "stream",
          "name": "stderr",
          "text": [
            "  7%|▋         | 20/290 [00:21<04:48,  1.07s/it, loss=1.23]"
          ]
        },
        {
          "output_type": "stream",
          "name": "stdout",
          "text": [
            ">\n"
          ]
        },
        {
          "output_type": "stream",
          "name": "stderr",
          "text": [
            " 10%|█         | 29/290 [00:30<04:33,  1.05s/it, loss=1.18]"
          ]
        },
        {
          "output_type": "stream",
          "name": "stdout",
          "text": [
            ">\n",
            ">\n"
          ]
        },
        {
          "output_type": "stream",
          "name": "stderr",
          "text": [
            " 14%|█▍        | 40/290 [00:42<04:21,  1.04s/it, loss=1.29]"
          ]
        },
        {
          "output_type": "stream",
          "name": "stdout",
          "text": [
            "<\n"
          ]
        },
        {
          "output_type": "stream",
          "name": "stderr",
          "text": [
            " 14%|█▍        | 41/290 [00:43<04:21,  1.05s/it, loss=1.25]"
          ]
        },
        {
          "output_type": "stream",
          "name": "stdout",
          "text": [
            ">\n",
            ">\n"
          ]
        },
        {
          "output_type": "stream",
          "name": "stderr",
          "text": [
            " 16%|█▌        | 45/290 [00:47<04:19,  1.06s/it, loss=1.21]"
          ]
        },
        {
          "output_type": "stream",
          "name": "stdout",
          "text": [
            "[\n",
            "]\n"
          ]
        },
        {
          "output_type": "stream",
          "name": "stderr",
          "text": [
            " 16%|█▌        | 46/290 [00:48<04:19,  1.06s/it, loss=1.19]"
          ]
        },
        {
          "output_type": "stream",
          "name": "stdout",
          "text": [
            "[\n"
          ]
        },
        {
          "output_type": "stream",
          "name": "stderr",
          "text": [
            " 24%|██▍       | 71/290 [01:15<03:55,  1.07s/it, loss=1.07]"
          ]
        },
        {
          "output_type": "stream",
          "name": "stdout",
          "text": [
            ">\n",
            ">\n"
          ]
        },
        {
          "output_type": "stream",
          "name": "stderr",
          "text": [
            " 25%|██▍       | 72/290 [01:16<03:52,  1.07s/it, loss=1.12]"
          ]
        },
        {
          "output_type": "stream",
          "name": "stdout",
          "text": [
            "*\n",
            "*\n",
            "*\n"
          ]
        },
        {
          "output_type": "stream",
          "name": "stderr",
          "text": [
            " 28%|██▊       | 80/290 [01:24<03:41,  1.05s/it, loss=1.11]"
          ]
        },
        {
          "output_type": "stream",
          "name": "stdout",
          "text": [
            "]\n",
            "[\n",
            "]\n"
          ]
        },
        {
          "output_type": "stream",
          "name": "stderr",
          "text": [
            " 29%|██▊       | 83/290 [01:27<03:37,  1.05s/it, loss=1.09]"
          ]
        },
        {
          "output_type": "stream",
          "name": "stdout",
          "text": [
            "]\n"
          ]
        },
        {
          "output_type": "stream",
          "name": "stderr",
          "text": [
            " 29%|██▉       | 85/290 [01:29<03:38,  1.06s/it, loss=1.09]"
          ]
        },
        {
          "output_type": "stream",
          "name": "stdout",
          "text": [
            ">\n",
            ">\n"
          ]
        },
        {
          "output_type": "stream",
          "name": "stderr",
          "text": [
            " 32%|███▏      | 92/290 [01:37<03:38,  1.11s/it, loss=1.12]"
          ]
        },
        {
          "output_type": "stream",
          "name": "stdout",
          "text": [
            "[\n",
            "]\n"
          ]
        },
        {
          "output_type": "stream",
          "name": "stderr",
          "text": [
            " 33%|███▎      | 95/290 [01:40<03:30,  1.08s/it, loss=1.08]"
          ]
        },
        {
          "output_type": "stream",
          "name": "stdout",
          "text": [
            "<\n"
          ]
        },
        {
          "output_type": "stream",
          "name": "stderr",
          "text": [
            " 36%|███▌      | 103/290 [01:49<03:21,  1.08s/it, loss=1.1]"
          ]
        },
        {
          "output_type": "stream",
          "name": "stdout",
          "text": [
            ">\n",
            ">\n"
          ]
        },
        {
          "output_type": "stream",
          "name": "stderr",
          "text": [
            " 39%|███▊      | 112/290 [01:59<03:09,  1.06s/it, loss=1.19]"
          ]
        },
        {
          "output_type": "stream",
          "name": "stdout",
          "text": [
            "*\n",
            "*\n",
            "*\n"
          ]
        },
        {
          "output_type": "stream",
          "name": "stderr",
          "text": [
            " 40%|████      | 116/290 [02:03<03:12,  1.11s/it, loss=1.08]"
          ]
        },
        {
          "output_type": "stream",
          "name": "stdout",
          "text": [
            "[\n",
            "]\n"
          ]
        },
        {
          "output_type": "stream",
          "name": "stderr",
          "text": [
            " 43%|████▎     | 126/290 [02:14<02:54,  1.06s/it, loss=1.11]"
          ]
        },
        {
          "output_type": "stream",
          "name": "stdout",
          "text": [
            "[\n"
          ]
        },
        {
          "output_type": "stream",
          "name": "stderr",
          "text": [
            " 44%|████▍     | 127/290 [02:15<02:53,  1.07s/it, loss=1.04]"
          ]
        },
        {
          "output_type": "stream",
          "name": "stdout",
          "text": [
            ">\n"
          ]
        },
        {
          "output_type": "stream",
          "name": "stderr",
          "text": [
            " 53%|█████▎    | 154/290 [02:43<02:24,  1.07s/it, loss=0.989]"
          ]
        },
        {
          "output_type": "stream",
          "name": "stdout",
          "text": [
            "*\n",
            "*\n",
            "*\n"
          ]
        },
        {
          "output_type": "stream",
          "name": "stderr",
          "text": [
            " 61%|██████▏   | 178/290 [03:09<01:59,  1.07s/it, loss=1.09]"
          ]
        },
        {
          "output_type": "stream",
          "name": "stdout",
          "text": [
            "[\n"
          ]
        },
        {
          "output_type": "stream",
          "name": "stderr",
          "text": [
            " 67%|██████▋   | 195/290 [03:27<01:40,  1.06s/it, loss=0.848]"
          ]
        },
        {
          "output_type": "stream",
          "name": "stdout",
          "text": [
            "*\n",
            "*\n",
            "*\n"
          ]
        },
        {
          "output_type": "stream",
          "name": "stderr",
          "text": [
            " 68%|██████▊   | 196/290 [03:28<01:40,  1.07s/it, loss=1.04]"
          ]
        },
        {
          "output_type": "stream",
          "name": "stdout",
          "text": [
            ">\n"
          ]
        },
        {
          "output_type": "stream",
          "name": "stderr",
          "text": [
            " 68%|██████▊   | 198/290 [03:30<01:36,  1.05s/it, loss=0.998]"
          ]
        },
        {
          "output_type": "stream",
          "name": "stdout",
          "text": [
            "]\n",
            "[\n",
            "]\n"
          ]
        },
        {
          "output_type": "stream",
          "name": "stderr",
          "text": [
            " 69%|██████▉   | 200/290 [03:32<01:35,  1.06s/it, loss=1.03]"
          ]
        },
        {
          "output_type": "stream",
          "name": "stdout",
          "text": [
            ">\n",
            ">\n",
            ">\n"
          ]
        },
        {
          "output_type": "stream",
          "name": "stderr",
          "text": [
            " 73%|███████▎  | 212/290 [03:45<01:21,  1.05s/it, loss=0.944]"
          ]
        },
        {
          "output_type": "stream",
          "name": "stdout",
          "text": [
            ">\n",
            ">\n"
          ]
        },
        {
          "output_type": "stream",
          "name": "stderr",
          "text": [
            " 75%|███████▍  | 217/290 [03:50<01:15,  1.04s/it, loss=0.951]"
          ]
        },
        {
          "output_type": "stream",
          "name": "stdout",
          "text": [
            ">\n",
            ">\n"
          ]
        },
        {
          "output_type": "stream",
          "name": "stderr",
          "text": [
            " 80%|████████  | 233/290 [04:07<01:00,  1.06s/it, loss=0.862]"
          ]
        },
        {
          "output_type": "stream",
          "name": "stdout",
          "text": [
            "[\n",
            "]\n"
          ]
        },
        {
          "output_type": "stream",
          "name": "stderr",
          "text": [
            " 89%|████████▉ | 258/290 [04:34<00:34,  1.06s/it, loss=0.919]"
          ]
        },
        {
          "output_type": "stream",
          "name": "stdout",
          "text": [
            "[\n",
            "]\n"
          ]
        },
        {
          "output_type": "stream",
          "name": "stderr",
          "text": [
            " 89%|████████▉ | 259/290 [04:35<00:33,  1.07s/it, loss=0.925]"
          ]
        },
        {
          "output_type": "stream",
          "name": "stdout",
          "text": [
            ">\n",
            ">\n"
          ]
        },
        {
          "output_type": "stream",
          "name": "stderr",
          "text": [
            " 91%|█████████ | 264/290 [04:40<00:27,  1.07s/it, loss=0.914]"
          ]
        },
        {
          "output_type": "stream",
          "name": "stdout",
          "text": [
            ">\n",
            ">\n"
          ]
        },
        {
          "output_type": "stream",
          "name": "stderr",
          "text": [
            "100%|██████████| 290/290 [05:08<00:00,  1.06s/it, loss=0.905]\n",
            "  1%|          | 3/290 [00:03<05:01,  1.05s/it, loss=0.892]"
          ]
        },
        {
          "output_type": "stream",
          "name": "stdout",
          "text": [
            ">\n"
          ]
        },
        {
          "output_type": "stream",
          "name": "stderr",
          "text": [
            "  9%|▉         | 27/290 [00:29<04:46,  1.09s/it, loss=0.889]"
          ]
        },
        {
          "output_type": "stream",
          "name": "stdout",
          "text": [
            ">\n",
            ">\n"
          ]
        },
        {
          "output_type": "stream",
          "name": "stderr",
          "text": [
            " 10%|█         | 29/290 [00:31<04:40,  1.07s/it, loss=0.859]"
          ]
        },
        {
          "output_type": "stream",
          "name": "stdout",
          "text": [
            "]\n"
          ]
        },
        {
          "output_type": "stream",
          "name": "stderr",
          "text": [
            " 11%|█▏        | 33/290 [00:36<04:43,  1.10s/it, loss=0.911]"
          ]
        },
        {
          "output_type": "stream",
          "name": "stdout",
          "text": [
            ">\n",
            ">\n"
          ]
        },
        {
          "output_type": "stream",
          "name": "stderr",
          "text": [
            " 14%|█▍        | 42/290 [00:45<04:29,  1.09s/it, loss=0.878]"
          ]
        },
        {
          "output_type": "stream",
          "name": "stdout",
          "text": [
            ">\n",
            ">\n"
          ]
        },
        {
          "output_type": "stream",
          "name": "stderr",
          "text": [
            " 16%|█▌        | 45/290 [00:49<04:21,  1.07s/it, loss=0.861]"
          ]
        },
        {
          "output_type": "stream",
          "name": "stdout",
          "text": [
            ">\n",
            ">\n"
          ]
        },
        {
          "output_type": "stream",
          "name": "stderr",
          "text": [
            " 16%|█▌        | 46/290 [00:50<04:22,  1.08s/it, loss=0.895]"
          ]
        },
        {
          "output_type": "stream",
          "name": "stdout",
          "text": [
            ">\n"
          ]
        },
        {
          "output_type": "stream",
          "name": "stderr",
          "text": [
            " 17%|█▋        | 49/290 [00:53<04:15,  1.06s/it, loss=0.864]"
          ]
        },
        {
          "output_type": "stream",
          "name": "stdout",
          "text": [
            "[\n",
            "*\n",
            "*\n",
            "*\n"
          ]
        },
        {
          "output_type": "stream",
          "name": "stderr",
          "text": [
            " 17%|█▋        | 50/290 [00:54<04:11,  1.05s/it, loss=0.86]"
          ]
        },
        {
          "output_type": "stream",
          "name": "stdout",
          "text": [
            "[\n",
            "]\n",
            "]\n",
            "[\n",
            "]\n"
          ]
        },
        {
          "output_type": "stream",
          "name": "stderr",
          "text": [
            " 18%|█▊        | 53/290 [00:57<04:22,  1.11s/it, loss=0.847]"
          ]
        },
        {
          "output_type": "stream",
          "name": "stdout",
          "text": [
            "[\n"
          ]
        },
        {
          "output_type": "stream",
          "name": "stderr",
          "text": [
            " 24%|██▍       | 71/290 [01:17<04:00,  1.10s/it, loss=0.879]"
          ]
        },
        {
          "output_type": "stream",
          "name": "stdout",
          "text": [
            ">\n",
            ">\n"
          ]
        },
        {
          "output_type": "stream",
          "name": "stderr",
          "text": [
            " 27%|██▋       | 79/290 [01:25<03:42,  1.05s/it, loss=0.993]"
          ]
        },
        {
          "output_type": "stream",
          "name": "stdout",
          "text": [
            "<\n"
          ]
        },
        {
          "output_type": "stream",
          "name": "stderr",
          "text": [
            " 42%|████▏     | 122/290 [02:11<02:57,  1.06s/it, loss=0.865]"
          ]
        },
        {
          "output_type": "stream",
          "name": "stdout",
          "text": [
            "*\n",
            "*\n",
            "*\n"
          ]
        },
        {
          "output_type": "stream",
          "name": "stderr",
          "text": [
            " 44%|████▍     | 129/290 [02:19<02:48,  1.04s/it, loss=0.755]"
          ]
        },
        {
          "output_type": "stream",
          "name": "stdout",
          "text": [
            "[\n"
          ]
        },
        {
          "output_type": "stream",
          "name": "stderr",
          "text": [
            " 45%|████▌     | 131/290 [02:21<02:46,  1.05s/it, loss=0.752]"
          ]
        },
        {
          "output_type": "stream",
          "name": "stdout",
          "text": [
            "[\n"
          ]
        },
        {
          "output_type": "stream",
          "name": "stderr",
          "text": [
            " 64%|██████▍   | 186/290 [03:19<01:51,  1.08s/it, loss=0.728]"
          ]
        },
        {
          "output_type": "stream",
          "name": "stdout",
          "text": [
            "*\n",
            "*\n",
            "*\n"
          ]
        },
        {
          "output_type": "stream",
          "name": "stderr",
          "text": [
            " 69%|██████▊   | 199/290 [03:34<01:37,  1.07s/it, loss=0.732]"
          ]
        },
        {
          "output_type": "stream",
          "name": "stdout",
          "text": [
            "<\n"
          ]
        },
        {
          "output_type": "stream",
          "name": "stderr",
          "text": [
            " 71%|███████   | 205/290 [03:40<01:29,  1.05s/it, loss=0.76]"
          ]
        },
        {
          "output_type": "stream",
          "name": "stdout",
          "text": [
            "*\n",
            "*\n",
            "*\n"
          ]
        },
        {
          "output_type": "stream",
          "name": "stderr",
          "text": [
            " 72%|███████▏  | 208/290 [03:43<01:25,  1.05s/it, loss=0.73]"
          ]
        },
        {
          "output_type": "stream",
          "name": "stdout",
          "text": [
            ">\n",
            ">\n"
          ]
        },
        {
          "output_type": "stream",
          "name": "stderr",
          "text": [
            " 75%|███████▍  | 217/290 [03:53<01:18,  1.07s/it, loss=0.687]"
          ]
        },
        {
          "output_type": "stream",
          "name": "stdout",
          "text": [
            ">\n",
            ">\n"
          ]
        },
        {
          "output_type": "stream",
          "name": "stderr",
          "text": [
            " 77%|███████▋  | 224/290 [04:00<01:08,  1.04s/it, loss=0.745]"
          ]
        },
        {
          "output_type": "stream",
          "name": "stdout",
          "text": [
            ">\n",
            ">\n"
          ]
        },
        {
          "output_type": "stream",
          "name": "stderr",
          "text": [
            " 79%|███████▉  | 229/290 [04:06<01:05,  1.07s/it, loss=0.761]"
          ]
        },
        {
          "output_type": "stream",
          "name": "stdout",
          "text": [
            ">\n",
            ">\n"
          ]
        },
        {
          "output_type": "stream",
          "name": "stderr",
          "text": [
            " 80%|████████  | 232/290 [04:09<01:01,  1.05s/it, loss=0.77]"
          ]
        },
        {
          "output_type": "stream",
          "name": "stdout",
          "text": [
            ">\n"
          ]
        },
        {
          "output_type": "stream",
          "name": "stderr",
          "text": [
            " 84%|████████▍ | 244/290 [04:22<00:50,  1.09s/it, loss=0.69]"
          ]
        },
        {
          "output_type": "stream",
          "name": "stdout",
          "text": [
            "]\n"
          ]
        },
        {
          "output_type": "stream",
          "name": "stderr",
          "text": [
            " 86%|████████▌ | 250/290 [04:28<00:42,  1.05s/it, loss=0.664]"
          ]
        },
        {
          "output_type": "stream",
          "name": "stdout",
          "text": [
            "[\n",
            "]\n"
          ]
        },
        {
          "output_type": "stream",
          "name": "stderr",
          "text": [
            " 94%|█████████▍| 273/290 [04:53<00:17,  1.06s/it, loss=0.713]"
          ]
        },
        {
          "output_type": "stream",
          "name": "stdout",
          "text": [
            "[\n",
            "]\n"
          ]
        },
        {
          "output_type": "stream",
          "name": "stderr",
          "text": [
            " 95%|█████████▍| 275/290 [04:55<00:15,  1.06s/it, loss=0.803]"
          ]
        },
        {
          "output_type": "stream",
          "name": "stdout",
          "text": [
            "[\n",
            "]\n"
          ]
        },
        {
          "output_type": "stream",
          "name": "stderr",
          "text": [
            " 96%|█████████▌| 278/290 [04:58<00:12,  1.04s/it, loss=0.652]"
          ]
        },
        {
          "output_type": "stream",
          "name": "stdout",
          "text": [
            "]\n",
            "[\n",
            "]\n"
          ]
        },
        {
          "output_type": "stream",
          "name": "stderr",
          "text": [
            " 97%|█████████▋| 280/290 [05:00<00:10,  1.07s/it, loss=0.749]"
          ]
        },
        {
          "output_type": "stream",
          "name": "stdout",
          "text": [
            ">\n",
            ">\n"
          ]
        },
        {
          "output_type": "stream",
          "name": "stderr",
          "text": [
            " 97%|█████████▋| 282/290 [05:02<00:08,  1.07s/it, loss=0.662]"
          ]
        },
        {
          "output_type": "stream",
          "name": "stdout",
          "text": [
            ">\n",
            ">\n",
            ">\n"
          ]
        },
        {
          "output_type": "stream",
          "name": "stderr",
          "text": [
            "100%|██████████| 290/290 [05:10<00:00,  1.07s/it, loss=0.7]\n"
          ]
        },
        {
          "output_type": "stream",
          "name": "stdout",
          "text": [
            "checkpoint_ep7.pth.tar saved\n"
          ]
        },
        {
          "output_type": "stream",
          "name": "stderr",
          "text": [
            "  0%|          | 1/290 [00:01<05:19,  1.11s/it, loss=0.772]"
          ]
        },
        {
          "output_type": "stream",
          "name": "stdout",
          "text": [
            "]\n"
          ]
        },
        {
          "output_type": "stream",
          "name": "stderr",
          "text": [
            "  4%|▍         | 13/290 [00:13<04:50,  1.05s/it, loss=0.637]"
          ]
        },
        {
          "output_type": "stream",
          "name": "stdout",
          "text": [
            "[\n"
          ]
        },
        {
          "output_type": "stream",
          "name": "stderr",
          "text": [
            "  7%|▋         | 21/290 [00:22<04:44,  1.06s/it, loss=0.643]"
          ]
        },
        {
          "output_type": "stream",
          "name": "stdout",
          "text": [
            ">\n"
          ]
        },
        {
          "output_type": "stream",
          "name": "stderr",
          "text": [
            " 10%|█         | 29/290 [00:30<04:30,  1.04s/it, loss=0.619]"
          ]
        },
        {
          "output_type": "stream",
          "name": "stdout",
          "text": [
            "]\n",
            "[\n",
            "]\n"
          ]
        },
        {
          "output_type": "stream",
          "name": "stderr",
          "text": [
            " 16%|█▌        | 47/290 [00:49<04:19,  1.07s/it, loss=0.632]"
          ]
        },
        {
          "output_type": "stream",
          "name": "stdout",
          "text": [
            "[\n",
            "]\n"
          ]
        },
        {
          "output_type": "stream",
          "name": "stderr",
          "text": [
            " 18%|█▊        | 52/290 [00:54<04:13,  1.07s/it, loss=0.656]"
          ]
        },
        {
          "output_type": "stream",
          "name": "stdout",
          "text": [
            ">\n",
            ">\n"
          ]
        },
        {
          "output_type": "stream",
          "name": "stderr",
          "text": [
            " 22%|██▏       | 65/290 [01:08<03:58,  1.06s/it, loss=0.625]"
          ]
        },
        {
          "output_type": "stream",
          "name": "stdout",
          "text": [
            ">\n",
            ">\n"
          ]
        },
        {
          "output_type": "stream",
          "name": "stderr",
          "text": [
            " 25%|██▍       | 72/290 [01:15<03:44,  1.03s/it, loss=0.614]"
          ]
        },
        {
          "output_type": "stream",
          "name": "stdout",
          "text": [
            "<\n"
          ]
        },
        {
          "output_type": "stream",
          "name": "stderr",
          "text": [
            " 27%|██▋       | 77/290 [01:21<03:40,  1.04s/it, loss=0.578]"
          ]
        },
        {
          "output_type": "stream",
          "name": "stdout",
          "text": [
            ">\n",
            ">\n"
          ]
        },
        {
          "output_type": "stream",
          "name": "stderr",
          "text": [
            " 27%|██▋       | 78/290 [01:22<03:47,  1.07s/it, loss=0.603]"
          ]
        },
        {
          "output_type": "stream",
          "name": "stdout",
          "text": [
            "[\n"
          ]
        },
        {
          "output_type": "stream",
          "name": "stderr",
          "text": [
            " 28%|██▊       | 82/290 [01:26<03:41,  1.07s/it, loss=0.662]"
          ]
        },
        {
          "output_type": "stream",
          "name": "stdout",
          "text": [
            ">\n",
            ">\n"
          ]
        },
        {
          "output_type": "stream",
          "name": "stderr",
          "text": [
            " 30%|███       | 88/290 [01:32<03:29,  1.04s/it, loss=0.608]"
          ]
        },
        {
          "output_type": "stream",
          "name": "stdout",
          "text": [
            ">\n",
            ">\n"
          ]
        },
        {
          "output_type": "stream",
          "name": "stderr",
          "text": [
            " 32%|███▏      | 94/290 [01:39<03:30,  1.08s/it, loss=0.556]"
          ]
        },
        {
          "output_type": "stream",
          "name": "stdout",
          "text": [
            "<\n"
          ]
        },
        {
          "output_type": "stream",
          "name": "stderr",
          "text": [
            " 33%|███▎      | 97/290 [01:42<03:24,  1.06s/it, loss=0.661]"
          ]
        },
        {
          "output_type": "stream",
          "name": "stdout",
          "text": [
            "[\n"
          ]
        },
        {
          "output_type": "stream",
          "name": "stderr",
          "text": [
            " 41%|████      | 118/290 [02:04<03:05,  1.08s/it, loss=0.613]"
          ]
        },
        {
          "output_type": "stream",
          "name": "stdout",
          "text": [
            "[\n",
            "]\n",
            "*\n",
            "*\n",
            "*\n"
          ]
        },
        {
          "output_type": "stream",
          "name": "stderr",
          "text": [
            " 47%|████▋     | 136/290 [02:23<02:41,  1.05s/it, loss=0.578]"
          ]
        },
        {
          "output_type": "stream",
          "name": "stdout",
          "text": [
            "*\n",
            "*\n",
            "*\n"
          ]
        },
        {
          "output_type": "stream",
          "name": "stderr",
          "text": [
            " 51%|█████▏    | 149/290 [02:37<02:31,  1.08s/it, loss=0.568]"
          ]
        },
        {
          "output_type": "stream",
          "name": "stdout",
          "text": [
            ">\n"
          ]
        },
        {
          "output_type": "stream",
          "name": "stderr",
          "text": [
            " 57%|█████▋    | 164/290 [02:53<02:13,  1.06s/it, loss=0.583]"
          ]
        },
        {
          "output_type": "stream",
          "name": "stdout",
          "text": [
            "*\n",
            "*\n",
            "*\n"
          ]
        },
        {
          "output_type": "stream",
          "name": "stderr",
          "text": [
            " 66%|██████▌   | 191/290 [03:22<01:47,  1.09s/it, loss=0.623]"
          ]
        },
        {
          "output_type": "stream",
          "name": "stdout",
          "text": [
            "*\n",
            "*\n",
            "*\n",
            ">\n",
            ">\n"
          ]
        },
        {
          "output_type": "stream",
          "name": "stderr",
          "text": [
            " 74%|███████▍  | 216/290 [03:49<01:19,  1.07s/it, loss=0.562]"
          ]
        },
        {
          "output_type": "stream",
          "name": "stdout",
          "text": [
            ">\n",
            ">\n"
          ]
        },
        {
          "output_type": "stream",
          "name": "stderr",
          "text": [
            " 78%|███████▊  | 226/290 [03:59<01:11,  1.12s/it, loss=0.553]"
          ]
        },
        {
          "output_type": "stream",
          "name": "stdout",
          "text": [
            ">\n",
            ">\n",
            ">\n"
          ]
        },
        {
          "output_type": "stream",
          "name": "stderr",
          "text": [
            " 80%|███████▉  | 231/290 [04:05<01:01,  1.05s/it, loss=0.569]"
          ]
        },
        {
          "output_type": "stream",
          "name": "stdout",
          "text": [
            ">\n",
            ">\n"
          ]
        },
        {
          "output_type": "stream",
          "name": "stderr",
          "text": [
            " 81%|████████  | 235/290 [04:09<00:56,  1.03s/it, loss=0.538]"
          ]
        },
        {
          "output_type": "stream",
          "name": "stdout",
          "text": [
            "[\n",
            "]\n"
          ]
        },
        {
          "output_type": "stream",
          "name": "stderr",
          "text": [
            " 81%|████████▏ | 236/290 [04:10<00:56,  1.05s/it, loss=0.543]"
          ]
        },
        {
          "output_type": "stream",
          "name": "stdout",
          "text": [
            "[\n"
          ]
        },
        {
          "output_type": "stream",
          "name": "stderr",
          "text": [
            " 82%|████████▏ | 237/290 [04:11<00:55,  1.04s/it, loss=0.544]"
          ]
        },
        {
          "output_type": "stream",
          "name": "stdout",
          "text": [
            "[\n",
            "]\n"
          ]
        },
        {
          "output_type": "stream",
          "name": "stderr",
          "text": [
            " 96%|█████████▌| 277/290 [04:54<00:13,  1.06s/it, loss=0.674]"
          ]
        },
        {
          "output_type": "stream",
          "name": "stdout",
          "text": [
            ">\n"
          ]
        },
        {
          "output_type": "stream",
          "name": "stderr",
          "text": [
            " 96%|█████████▌| 278/290 [04:55<00:12,  1.06s/it, loss=0.559]"
          ]
        },
        {
          "output_type": "stream",
          "name": "stdout",
          "text": [
            "]\n",
            "[\n",
            "]\n",
            ">\n",
            ">\n"
          ]
        },
        {
          "output_type": "stream",
          "name": "stderr",
          "text": [
            " 98%|█████████▊| 283/290 [05:01<00:07,  1.08s/it, loss=0.54]"
          ]
        },
        {
          "output_type": "stream",
          "name": "stdout",
          "text": [
            ">\n",
            ">\n",
            "]\n"
          ]
        },
        {
          "output_type": "stream",
          "name": "stderr",
          "text": [
            "100%|██████████| 290/290 [05:08<00:00,  1.06s/it, loss=0.598]\n",
            "  0%|          | 0/290 [00:00<?, ?it/s]"
          ]
        },
        {
          "output_type": "stream",
          "name": "stdout",
          "text": [
            "[\n"
          ]
        },
        {
          "output_type": "stream",
          "name": "stderr",
          "text": [
            "  1%|          | 2/290 [00:02<05:08,  1.07s/it, loss=0.515]"
          ]
        },
        {
          "output_type": "stream",
          "name": "stdout",
          "text": [
            ">\n",
            ">\n",
            "]\n"
          ]
        },
        {
          "output_type": "stream",
          "name": "stderr",
          "text": [
            "  9%|▉         | 27/290 [00:28<04:35,  1.05s/it, loss=0.486]"
          ]
        },
        {
          "output_type": "stream",
          "name": "stdout",
          "text": [
            ">\n",
            ">\n"
          ]
        },
        {
          "output_type": "stream",
          "name": "stderr",
          "text": [
            " 10%|█         | 29/290 [00:30<04:33,  1.05s/it, loss=0.514]"
          ]
        },
        {
          "output_type": "stream",
          "name": "stdout",
          "text": [
            "]\n"
          ]
        },
        {
          "output_type": "stream",
          "name": "stderr",
          "text": [
            " 13%|█▎        | 37/290 [00:38<04:29,  1.06s/it, loss=0.545]"
          ]
        },
        {
          "output_type": "stream",
          "name": "stdout",
          "text": [
            "[\n",
            "]\n"
          ]
        },
        {
          "output_type": "stream",
          "name": "stderr",
          "text": [
            " 14%|█▍        | 41/290 [00:43<04:25,  1.07s/it, loss=0.494]"
          ]
        },
        {
          "output_type": "stream",
          "name": "stdout",
          "text": [
            ">\n",
            ">\n"
          ]
        },
        {
          "output_type": "stream",
          "name": "stderr",
          "text": [
            " 16%|█▌        | 45/290 [00:47<04:15,  1.04s/it, loss=0.502]"
          ]
        },
        {
          "output_type": "stream",
          "name": "stdout",
          "text": [
            ">\n",
            ">\n"
          ]
        },
        {
          "output_type": "stream",
          "name": "stderr",
          "text": [
            " 19%|█▉        | 55/290 [00:58<04:04,  1.04s/it, loss=0.512]"
          ]
        },
        {
          "output_type": "stream",
          "name": "stdout",
          "text": [
            "[\n",
            "]\n"
          ]
        },
        {
          "output_type": "stream",
          "name": "stderr",
          "text": [
            " 20%|█▉        | 57/290 [01:00<04:09,  1.07s/it, loss=0.509]"
          ]
        },
        {
          "output_type": "stream",
          "name": "stdout",
          "text": [
            ">\n",
            ">\n",
            ">\n"
          ]
        },
        {
          "output_type": "stream",
          "name": "stderr",
          "text": [
            " 34%|███▍      | 99/290 [01:44<03:22,  1.06s/it, loss=0.537]"
          ]
        },
        {
          "output_type": "stream",
          "name": "stdout",
          "text": [
            "]\n",
            "[\n",
            "]\n"
          ]
        },
        {
          "output_type": "stream",
          "name": "stderr",
          "text": [
            " 35%|███▌      | 102/290 [01:47<03:19,  1.06s/it, loss=0.49]"
          ]
        },
        {
          "output_type": "stream",
          "name": "stdout",
          "text": [
            "[\n",
            "]\n"
          ]
        },
        {
          "output_type": "stream",
          "name": "stderr",
          "text": [
            " 36%|███▌      | 103/290 [01:48<03:18,  1.06s/it, loss=0.484]"
          ]
        },
        {
          "output_type": "stream",
          "name": "stdout",
          "text": [
            ">\n",
            ">\n"
          ]
        },
        {
          "output_type": "stream",
          "name": "stderr",
          "text": [
            " 38%|███▊      | 109/290 [01:55<03:18,  1.10s/it, loss=0.448]"
          ]
        },
        {
          "output_type": "stream",
          "name": "stdout",
          "text": [
            "[\n",
            "]\n"
          ]
        },
        {
          "output_type": "stream",
          "name": "stderr",
          "text": [
            " 56%|█████▌    | 161/290 [02:50<02:15,  1.05s/it, loss=0.551]"
          ]
        },
        {
          "output_type": "stream",
          "name": "stdout",
          "text": [
            "*\n",
            "*\n",
            "*\n"
          ]
        },
        {
          "output_type": "stream",
          "name": "stderr",
          "text": [
            " 58%|█████▊    | 169/290 [02:59<02:10,  1.08s/it, loss=0.56]"
          ]
        },
        {
          "output_type": "stream",
          "name": "stdout",
          "text": [
            ">\n"
          ]
        },
        {
          "output_type": "stream",
          "name": "stderr",
          "text": [
            " 60%|██████    | 174/290 [03:04<02:04,  1.07s/it, loss=0.502]"
          ]
        },
        {
          "output_type": "stream",
          "name": "stdout",
          "text": [
            ">\n",
            ">\n"
          ]
        },
        {
          "output_type": "stream",
          "name": "stderr",
          "text": [
            " 64%|██████▍   | 185/290 [03:16<01:49,  1.04s/it, loss=0.438]"
          ]
        },
        {
          "output_type": "stream",
          "name": "stdout",
          "text": [
            "*\n",
            "*\n",
            "*\n"
          ]
        },
        {
          "output_type": "stream",
          "name": "stderr",
          "text": [
            " 66%|██████▌   | 190/290 [03:21<01:46,  1.07s/it, loss=0.441]"
          ]
        },
        {
          "output_type": "stream",
          "name": "stdout",
          "text": [
            "<\n"
          ]
        },
        {
          "output_type": "stream",
          "name": "stderr",
          "text": [
            " 74%|███████▍  | 215/290 [03:48<01:19,  1.06s/it, loss=0.451]"
          ]
        },
        {
          "output_type": "stream",
          "name": "stdout",
          "text": [
            "[\n"
          ]
        },
        {
          "output_type": "stream",
          "name": "stderr",
          "text": [
            " 79%|███████▉  | 229/290 [04:03<01:04,  1.06s/it, loss=0.471]"
          ]
        },
        {
          "output_type": "stream",
          "name": "stdout",
          "text": [
            ">\n",
            ">\n"
          ]
        },
        {
          "output_type": "stream",
          "name": "stderr",
          "text": [
            " 80%|████████  | 232/290 [04:06<01:00,  1.04s/it, loss=0.464]"
          ]
        },
        {
          "output_type": "stream",
          "name": "stdout",
          "text": [
            "*\n",
            "*\n",
            "*\n",
            ">\n",
            ">\n"
          ]
        },
        {
          "output_type": "stream",
          "name": "stderr",
          "text": [
            " 80%|████████  | 233/290 [04:07<00:59,  1.04s/it, loss=0.438]"
          ]
        },
        {
          "output_type": "stream",
          "name": "stdout",
          "text": [
            ">\n",
            ">\n"
          ]
        },
        {
          "output_type": "stream",
          "name": "stderr",
          "text": [
            " 82%|████████▏ | 239/290 [04:13<00:54,  1.06s/it, loss=0.452]"
          ]
        },
        {
          "output_type": "stream",
          "name": "stdout",
          "text": [
            "<\n",
            "*\n",
            "*\n",
            "*\n"
          ]
        },
        {
          "output_type": "stream",
          "name": "stderr",
          "text": [
            " 83%|████████▎ | 241/290 [04:15<00:51,  1.05s/it, loss=0.436]"
          ]
        },
        {
          "output_type": "stream",
          "name": "stdout",
          "text": [
            ">\n",
            ">\n"
          ]
        },
        {
          "output_type": "stream",
          "name": "stderr",
          "text": [
            " 85%|████████▍ | 246/290 [04:21<00:46,  1.07s/it, loss=0.425]"
          ]
        },
        {
          "output_type": "stream",
          "name": "stdout",
          "text": [
            "]\n",
            "[\n",
            "]\n"
          ]
        },
        {
          "output_type": "stream",
          "name": "stderr",
          "text": [
            " 90%|█████████ | 262/290 [04:38<00:31,  1.11s/it, loss=0.429]"
          ]
        },
        {
          "output_type": "stream",
          "name": "stdout",
          "text": [
            "[\n"
          ]
        },
        {
          "output_type": "stream",
          "name": "stderr",
          "text": [
            " 93%|█████████▎| 271/290 [04:48<00:20,  1.07s/it, loss=0.482]"
          ]
        },
        {
          "output_type": "stream",
          "name": "stdout",
          "text": [
            ">\n",
            ">\n"
          ]
        },
        {
          "output_type": "stream",
          "name": "stderr",
          "text": [
            " 96%|█████████▌| 277/290 [04:54<00:13,  1.05s/it, loss=0.391]"
          ]
        },
        {
          "output_type": "stream",
          "name": "stdout",
          "text": [
            "[\n"
          ]
        },
        {
          "output_type": "stream",
          "name": "stderr",
          "text": [
            "100%|██████████| 290/290 [05:08<00:00,  1.06s/it, loss=0.491]\n"
          ]
        },
        {
          "output_type": "stream",
          "name": "stdout",
          "text": [
            "checkpoint_ep9.pth.tar saved\n"
          ]
        },
        {
          "output_type": "stream",
          "name": "stderr",
          "text": [
            "  0%|          | 1/290 [00:01<05:19,  1.11s/it, loss=0.535]"
          ]
        },
        {
          "output_type": "stream",
          "name": "stdout",
          "text": [
            ">\n",
            ">\n"
          ]
        },
        {
          "output_type": "stream",
          "name": "stderr",
          "text": [
            "  1%|          | 3/290 [00:03<05:03,  1.06s/it, loss=0.543]"
          ]
        },
        {
          "output_type": "stream",
          "name": "stdout",
          "text": [
            "*\n",
            "*\n",
            "*\n"
          ]
        },
        {
          "output_type": "stream",
          "name": "stderr",
          "text": [
            "  2%|▏         | 7/290 [00:07<04:54,  1.04s/it, loss=0.497]"
          ]
        },
        {
          "output_type": "stream",
          "name": "stdout",
          "text": [
            "*\n",
            "*\n",
            "*\n"
          ]
        },
        {
          "output_type": "stream",
          "name": "stderr",
          "text": [
            "  4%|▍         | 11/290 [00:11<04:52,  1.05s/it, loss=0.568]"
          ]
        },
        {
          "output_type": "stream",
          "name": "stdout",
          "text": [
            "*\n",
            "*\n",
            "*\n"
          ]
        },
        {
          "output_type": "stream",
          "name": "stderr",
          "text": [
            "  9%|▊         | 25/290 [00:26<04:40,  1.06s/it, loss=0.456]"
          ]
        },
        {
          "output_type": "stream",
          "name": "stdout",
          "text": [
            "]\n"
          ]
        },
        {
          "output_type": "stream",
          "name": "stderr",
          "text": [
            " 18%|█▊        | 52/290 [00:54<04:10,  1.05s/it, loss=0.439]"
          ]
        },
        {
          "output_type": "stream",
          "name": "stdout",
          "text": [
            "<\n"
          ]
        },
        {
          "output_type": "stream",
          "name": "stderr",
          "text": [
            " 22%|██▏       | 63/290 [01:06<03:56,  1.04s/it, loss=0.398]"
          ]
        },
        {
          "output_type": "stream",
          "name": "stdout",
          "text": [
            "[\n",
            "]\n"
          ]
        },
        {
          "output_type": "stream",
          "name": "stderr",
          "text": [
            " 23%|██▎       | 67/290 [01:10<03:59,  1.07s/it, loss=0.444]"
          ]
        },
        {
          "output_type": "stream",
          "name": "stdout",
          "text": [
            "[\n"
          ]
        },
        {
          "output_type": "stream",
          "name": "stderr",
          "text": [
            " 23%|██▎       | 68/290 [01:11<03:54,  1.06s/it, loss=0.408]"
          ]
        },
        {
          "output_type": "stream",
          "name": "stdout",
          "text": [
            ">\n",
            ">\n"
          ]
        },
        {
          "output_type": "stream",
          "name": "stderr",
          "text": [
            " 29%|██▊       | 83/290 [01:27<03:34,  1.04s/it, loss=0.392]"
          ]
        },
        {
          "output_type": "stream",
          "name": "stdout",
          "text": [
            "[\n"
          ]
        },
        {
          "output_type": "stream",
          "name": "stderr",
          "text": [
            " 29%|██▉       | 84/290 [01:28<03:32,  1.03s/it, loss=0.377]"
          ]
        },
        {
          "output_type": "stream",
          "name": "stdout",
          "text": [
            "*\n",
            "*\n",
            "*\n"
          ]
        },
        {
          "output_type": "stream",
          "name": "stderr",
          "text": [
            " 30%|███       | 87/290 [01:31<03:32,  1.05s/it, loss=0.416]"
          ]
        },
        {
          "output_type": "stream",
          "name": "stdout",
          "text": [
            "]\n",
            "[\n",
            "]\n"
          ]
        },
        {
          "output_type": "stream",
          "name": "stderr",
          "text": [
            " 32%|███▏      | 92/290 [01:36<03:35,  1.09s/it, loss=0.436]"
          ]
        },
        {
          "output_type": "stream",
          "name": "stdout",
          "text": [
            ">\n",
            ">\n"
          ]
        },
        {
          "output_type": "stream",
          "name": "stderr",
          "text": [
            " 38%|███▊      | 109/290 [01:54<03:07,  1.04s/it, loss=0.403]"
          ]
        },
        {
          "output_type": "stream",
          "name": "stdout",
          "text": [
            ">\n",
            ">\n"
          ]
        },
        {
          "output_type": "stream",
          "name": "stderr",
          "text": [
            " 40%|████      | 116/290 [02:01<03:00,  1.04s/it, loss=0.384]"
          ]
        },
        {
          "output_type": "stream",
          "name": "stdout",
          "text": [
            "[\n"
          ]
        },
        {
          "output_type": "stream",
          "name": "stderr",
          "text": [
            " 49%|████▉     | 143/290 [02:30<02:34,  1.05s/it, loss=0.386]"
          ]
        },
        {
          "output_type": "stream",
          "name": "stdout",
          "text": [
            ">\n"
          ]
        },
        {
          "output_type": "stream",
          "name": "stderr",
          "text": [
            " 53%|█████▎    | 155/290 [02:43<02:25,  1.08s/it, loss=0.386]"
          ]
        },
        {
          "output_type": "stream",
          "name": "stdout",
          "text": [
            ">\n",
            ">\n"
          ]
        },
        {
          "output_type": "stream",
          "name": "stderr",
          "text": [
            " 58%|█████▊    | 168/290 [02:57<02:05,  1.03s/it, loss=0.363]"
          ]
        },
        {
          "output_type": "stream",
          "name": "stdout",
          "text": [
            ">\n",
            ">\n",
            "[\n",
            "]\n"
          ]
        },
        {
          "output_type": "stream",
          "name": "stderr",
          "text": [
            " 58%|█████▊    | 169/290 [02:58<02:06,  1.05s/it, loss=0.372]"
          ]
        },
        {
          "output_type": "stream",
          "name": "stdout",
          "text": [
            "]\n",
            "[\n",
            "]\n",
            ">\n",
            ">\n"
          ]
        },
        {
          "output_type": "stream",
          "name": "stderr",
          "text": [
            " 60%|██████    | 175/290 [03:04<02:00,  1.05s/it, loss=0.345]"
          ]
        },
        {
          "output_type": "stream",
          "name": "stdout",
          "text": [
            "[\n",
            "]\n"
          ]
        },
        {
          "output_type": "stream",
          "name": "stderr",
          "text": [
            " 72%|███████▏  | 208/290 [03:39<01:25,  1.05s/it, loss=0.39]"
          ]
        },
        {
          "output_type": "stream",
          "name": "stdout",
          "text": [
            ">\n"
          ]
        },
        {
          "output_type": "stream",
          "name": "stderr",
          "text": [
            " 77%|███████▋  | 222/290 [03:54<01:12,  1.06s/it, loss=0.358]"
          ]
        },
        {
          "output_type": "stream",
          "name": "stdout",
          "text": [
            ">\n",
            ">\n"
          ]
        },
        {
          "output_type": "stream",
          "name": "stderr",
          "text": [
            " 87%|████████▋ | 253/290 [04:27<00:39,  1.06s/it, loss=0.354]"
          ]
        },
        {
          "output_type": "stream",
          "name": "stdout",
          "text": [
            ">\n",
            ">\n"
          ]
        },
        {
          "output_type": "stream",
          "name": "stderr",
          "text": [
            " 94%|█████████▍| 272/290 [04:47<00:19,  1.06s/it, loss=0.347]"
          ]
        },
        {
          "output_type": "stream",
          "name": "stdout",
          "text": [
            ">\n"
          ]
        },
        {
          "output_type": "stream",
          "name": "stderr",
          "text": [
            " 95%|█████████▌| 276/290 [04:52<00:15,  1.12s/it, loss=0.361]"
          ]
        },
        {
          "output_type": "stream",
          "name": "stdout",
          "text": [
            ">\n",
            ">\n"
          ]
        },
        {
          "output_type": "stream",
          "name": "stderr",
          "text": [
            " 98%|█████████▊| 284/290 [05:00<00:06,  1.05s/it, loss=0.363]"
          ]
        },
        {
          "output_type": "stream",
          "name": "stdout",
          "text": [
            "]\n",
            "[\n",
            "]\n"
          ]
        },
        {
          "output_type": "stream",
          "name": "stderr",
          "text": [
            " 98%|█████████▊| 285/290 [05:01<00:05,  1.04s/it, loss=0.346]"
          ]
        },
        {
          "output_type": "stream",
          "name": "stdout",
          "text": [
            "[\n"
          ]
        },
        {
          "output_type": "stream",
          "name": "stderr",
          "text": [
            " 99%|█████████▉| 287/290 [05:03<00:03,  1.02s/it, loss=0.375]"
          ]
        },
        {
          "output_type": "stream",
          "name": "stdout",
          "text": [
            "<\n"
          ]
        },
        {
          "output_type": "stream",
          "name": "stderr",
          "text": [
            " 99%|█████████▉| 288/290 [05:04<00:02,  1.03s/it, loss=0.341]"
          ]
        },
        {
          "output_type": "stream",
          "name": "stdout",
          "text": [
            ">\n",
            ">\n",
            ">\n"
          ]
        },
        {
          "output_type": "stream",
          "name": "stderr",
          "text": [
            "100%|██████████| 290/290 [05:06<00:00,  1.06s/it, loss=0.338]\n",
            "  1%|          | 2/290 [00:02<05:00,  1.04s/it, loss=0.335]"
          ]
        },
        {
          "output_type": "stream",
          "name": "stdout",
          "text": [
            ">\n"
          ]
        },
        {
          "output_type": "stream",
          "name": "stderr",
          "text": [
            "  8%|▊         | 24/290 [00:25<04:42,  1.06s/it, loss=0.34]"
          ]
        },
        {
          "output_type": "stream",
          "name": "stdout",
          "text": [
            "<\n"
          ]
        },
        {
          "output_type": "stream",
          "name": "stderr",
          "text": [
            " 12%|█▏        | 35/290 [00:36<04:25,  1.04s/it, loss=0.288]"
          ]
        },
        {
          "output_type": "stream",
          "name": "stdout",
          "text": [
            "*\n",
            "*\n",
            "*\n"
          ]
        },
        {
          "output_type": "stream",
          "name": "stderr",
          "text": [
            " 14%|█▍        | 42/290 [00:44<04:18,  1.04s/it, loss=0.363]"
          ]
        },
        {
          "output_type": "stream",
          "name": "stdout",
          "text": [
            "[\n"
          ]
        },
        {
          "output_type": "stream",
          "name": "stderr",
          "text": [
            " 18%|█▊        | 52/290 [00:54<04:08,  1.04s/it, loss=0.305]"
          ]
        },
        {
          "output_type": "stream",
          "name": "stdout",
          "text": [
            "[\n",
            "]\n"
          ]
        },
        {
          "output_type": "stream",
          "name": "stderr",
          "text": [
            " 25%|██▌       | 73/290 [01:16<03:44,  1.03s/it, loss=0.337]"
          ]
        },
        {
          "output_type": "stream",
          "name": "stdout",
          "text": [
            "*\n",
            "*\n",
            "*\n"
          ]
        },
        {
          "output_type": "stream",
          "name": "stderr",
          "text": [
            " 27%|██▋       | 79/290 [01:23<03:43,  1.06s/it, loss=0.361]"
          ]
        },
        {
          "output_type": "stream",
          "name": "stdout",
          "text": [
            ">\n",
            ">\n"
          ]
        },
        {
          "output_type": "stream",
          "name": "stderr",
          "text": [
            " 35%|███▍      | 101/290 [01:45<03:18,  1.05s/it, loss=0.28]"
          ]
        },
        {
          "output_type": "stream",
          "name": "stdout",
          "text": [
            ">\n",
            ">\n"
          ]
        },
        {
          "output_type": "stream",
          "name": "stderr",
          "text": [
            " 41%|████      | 119/290 [02:04<02:56,  1.03s/it, loss=0.313]"
          ]
        },
        {
          "output_type": "stream",
          "name": "stdout",
          "text": [
            "<\n"
          ]
        },
        {
          "output_type": "stream",
          "name": "stderr",
          "text": [
            " 43%|████▎     | 125/290 [02:10<02:49,  1.03s/it, loss=0.322]"
          ]
        },
        {
          "output_type": "stream",
          "name": "stdout",
          "text": [
            "*\n",
            "*\n",
            "*\n"
          ]
        },
        {
          "output_type": "stream",
          "name": "stderr",
          "text": [
            " 52%|█████▏    | 152/290 [02:39<02:22,  1.03s/it, loss=0.359]"
          ]
        },
        {
          "output_type": "stream",
          "name": "stdout",
          "text": [
            "[\n",
            "]\n"
          ]
        },
        {
          "output_type": "stream",
          "name": "stderr",
          "text": [
            " 53%|█████▎    | 154/290 [02:41<02:19,  1.03s/it, loss=0.297]"
          ]
        },
        {
          "output_type": "stream",
          "name": "stdout",
          "text": [
            "[\n"
          ]
        },
        {
          "output_type": "stream",
          "name": "stderr",
          "text": [
            " 54%|█████▍    | 156/290 [02:43<02:15,  1.01s/it, loss=0.296]"
          ]
        },
        {
          "output_type": "stream",
          "name": "stdout",
          "text": [
            ">\n",
            ">\n"
          ]
        },
        {
          "output_type": "stream",
          "name": "stderr",
          "text": [
            " 55%|█████▌    | 160/290 [02:47<02:11,  1.01s/it, loss=0.307]"
          ]
        },
        {
          "output_type": "stream",
          "name": "stdout",
          "text": [
            ">\n",
            ">\n"
          ]
        },
        {
          "output_type": "stream",
          "name": "stderr",
          "text": [
            " 57%|█████▋    | 164/290 [02:51<02:11,  1.05s/it, loss=0.301]"
          ]
        },
        {
          "output_type": "stream",
          "name": "stdout",
          "text": [
            ">\n"
          ]
        },
        {
          "output_type": "stream",
          "name": "stderr",
          "text": [
            " 61%|██████    | 176/290 [03:04<01:58,  1.04s/it, loss=0.334]"
          ]
        },
        {
          "output_type": "stream",
          "name": "stdout",
          "text": [
            "]\n",
            "[\n",
            "]\n"
          ]
        },
        {
          "output_type": "stream",
          "name": "stderr",
          "text": [
            " 64%|██████▍   | 185/290 [03:13<01:49,  1.04s/it, loss=0.325]"
          ]
        },
        {
          "output_type": "stream",
          "name": "stdout",
          "text": [
            "[\n"
          ]
        },
        {
          "output_type": "stream",
          "name": "stderr",
          "text": [
            " 66%|██████▌   | 191/290 [03:19<01:40,  1.02s/it, loss=0.309]"
          ]
        },
        {
          "output_type": "stream",
          "name": "stdout",
          "text": [
            "[\n",
            "]\n"
          ]
        },
        {
          "output_type": "stream",
          "name": "stderr",
          "text": [
            " 74%|███████▍  | 215/290 [03:45<01:17,  1.03s/it, loss=0.29]"
          ]
        },
        {
          "output_type": "stream",
          "name": "stdout",
          "text": [
            "]\n"
          ]
        },
        {
          "output_type": "stream",
          "name": "stderr",
          "text": [
            " 74%|███████▍  | 216/290 [03:46<01:17,  1.04s/it, loss=0.304]"
          ]
        },
        {
          "output_type": "stream",
          "name": "stdout",
          "text": [
            ">\n",
            ">\n"
          ]
        },
        {
          "output_type": "stream",
          "name": "stderr",
          "text": [
            " 77%|███████▋  | 223/290 [03:53<01:10,  1.05s/it, loss=0.289]"
          ]
        },
        {
          "output_type": "stream",
          "name": "stdout",
          "text": [
            "]\n",
            "[\n",
            "]\n"
          ]
        },
        {
          "output_type": "stream",
          "name": "stderr",
          "text": [
            " 77%|███████▋  | 224/290 [03:54<01:09,  1.06s/it, loss=0.283]"
          ]
        },
        {
          "output_type": "stream",
          "name": "stdout",
          "text": [
            ">\n",
            ">\n"
          ]
        },
        {
          "output_type": "stream",
          "name": "stderr",
          "text": [
            " 80%|████████  | 232/290 [04:03<00:59,  1.02s/it, loss=0.268]"
          ]
        },
        {
          "output_type": "stream",
          "name": "stdout",
          "text": [
            "[\n"
          ]
        },
        {
          "output_type": "stream",
          "name": "stderr",
          "text": [
            " 82%|████████▏ | 238/290 [04:09<00:54,  1.04s/it, loss=0.335]"
          ]
        },
        {
          "output_type": "stream",
          "name": "stdout",
          "text": [
            "]\n"
          ]
        },
        {
          "output_type": "stream",
          "name": "stderr",
          "text": [
            " 83%|████████▎ | 240/290 [04:11<00:52,  1.04s/it, loss=0.34]"
          ]
        },
        {
          "output_type": "stream",
          "name": "stdout",
          "text": [
            ">\n",
            ">\n"
          ]
        },
        {
          "output_type": "stream",
          "name": "stderr",
          "text": [
            " 84%|████████▍ | 245/290 [04:16<00:46,  1.03s/it, loss=0.27]"
          ]
        },
        {
          "output_type": "stream",
          "name": "stdout",
          "text": [
            ">\n",
            ">\n"
          ]
        },
        {
          "output_type": "stream",
          "name": "stderr",
          "text": [
            " 86%|████████▌ | 249/290 [04:20<00:42,  1.04s/it, loss=0.266]"
          ]
        },
        {
          "output_type": "stream",
          "name": "stdout",
          "text": [
            ">\n",
            ">\n",
            ">\n"
          ]
        },
        {
          "output_type": "stream",
          "name": "stderr",
          "text": [
            " 94%|█████████▍| 273/290 [04:45<00:17,  1.03s/it, loss=0.286]"
          ]
        },
        {
          "output_type": "stream",
          "name": "stdout",
          "text": [
            ">\n",
            ">\n"
          ]
        },
        {
          "output_type": "stream",
          "name": "stderr",
          "text": [
            " 98%|█████████▊| 283/290 [04:56<00:07,  1.04s/it, loss=0.287]"
          ]
        },
        {
          "output_type": "stream",
          "name": "stdout",
          "text": [
            "[\n",
            "]\n"
          ]
        },
        {
          "output_type": "stream",
          "name": "stderr",
          "text": [
            " 99%|█████████▉| 287/290 [05:00<00:03,  1.07s/it, loss=0.279]"
          ]
        },
        {
          "output_type": "stream",
          "name": "stdout",
          "text": [
            ">\n",
            ">\n",
            ">\n"
          ]
        },
        {
          "output_type": "stream",
          "name": "stderr",
          "text": [
            " 99%|█████████▉| 288/290 [05:01<00:02,  1.06s/it, loss=0.277]"
          ]
        },
        {
          "output_type": "stream",
          "name": "stdout",
          "text": [
            "*\n",
            "*\n",
            "*\n"
          ]
        },
        {
          "output_type": "stream",
          "name": "stderr",
          "text": [
            "100%|██████████| 290/290 [05:03<00:00,  1.05s/it, loss=0.33]\n"
          ]
        },
        {
          "output_type": "stream",
          "name": "stdout",
          "text": [
            "checkpoint_ep11.pth.tar saved\n"
          ]
        },
        {
          "output_type": "stream",
          "name": "stderr",
          "text": [
            "  2%|▏         | 7/290 [00:07<04:49,  1.02s/it, loss=0.249]"
          ]
        },
        {
          "output_type": "stream",
          "name": "stdout",
          "text": [
            "[\n",
            "]\n"
          ]
        },
        {
          "output_type": "stream",
          "name": "stderr",
          "text": [
            "  4%|▍         | 12/290 [00:12<05:02,  1.09s/it, loss=0.272]"
          ]
        },
        {
          "output_type": "stream",
          "name": "stdout",
          "text": [
            "*\n",
            "*\n",
            "*\n"
          ]
        },
        {
          "output_type": "stream",
          "name": "stderr",
          "text": [
            "  7%|▋         | 21/290 [00:22<04:42,  1.05s/it, loss=0.265]"
          ]
        },
        {
          "output_type": "stream",
          "name": "stdout",
          "text": [
            "*\n",
            "*\n",
            "*\n"
          ]
        },
        {
          "output_type": "stream",
          "name": "stderr",
          "text": [
            " 12%|█▏        | 34/290 [00:35<04:25,  1.04s/it, loss=0.272]"
          ]
        },
        {
          "output_type": "stream",
          "name": "stdout",
          "text": [
            "]\n"
          ]
        },
        {
          "output_type": "stream",
          "name": "stderr",
          "text": [
            " 19%|█▉        | 55/290 [00:57<04:02,  1.03s/it, loss=0.267]"
          ]
        },
        {
          "output_type": "stream",
          "name": "stdout",
          "text": [
            ">\n",
            ">\n"
          ]
        },
        {
          "output_type": "stream",
          "name": "stderr",
          "text": [
            " 22%|██▏       | 64/290 [01:07<03:57,  1.05s/it, loss=0.255]"
          ]
        },
        {
          "output_type": "stream",
          "name": "stdout",
          "text": [
            ">\n",
            ">\n"
          ]
        },
        {
          "output_type": "stream",
          "name": "stderr",
          "text": [
            " 25%|██▌       | 73/290 [01:16<03:53,  1.08s/it, loss=0.254]"
          ]
        },
        {
          "output_type": "stream",
          "name": "stdout",
          "text": [
            ">\n"
          ]
        },
        {
          "output_type": "stream",
          "name": "stderr",
          "text": [
            " 26%|██▌       | 76/290 [01:20<03:53,  1.09s/it, loss=0.313]"
          ]
        },
        {
          "output_type": "stream",
          "name": "stdout",
          "text": [
            ">\n",
            ">\n"
          ]
        },
        {
          "output_type": "stream",
          "name": "stderr",
          "text": [
            " 27%|██▋       | 78/290 [01:22<03:47,  1.07s/it, loss=0.238]"
          ]
        },
        {
          "output_type": "stream",
          "name": "stdout",
          "text": [
            "[\n"
          ]
        },
        {
          "output_type": "stream",
          "name": "stderr",
          "text": [
            " 28%|██▊       | 80/290 [01:24<03:50,  1.10s/it, loss=0.263]"
          ]
        },
        {
          "output_type": "stream",
          "name": "stdout",
          "text": [
            "<\n"
          ]
        },
        {
          "output_type": "stream",
          "name": "stderr",
          "text": [
            " 32%|███▏      | 93/290 [01:38<03:27,  1.05s/it, loss=0.272]"
          ]
        },
        {
          "output_type": "stream",
          "name": "stdout",
          "text": [
            "*\n",
            "*\n",
            "*\n"
          ]
        },
        {
          "output_type": "stream",
          "name": "stderr",
          "text": [
            " 36%|███▌      | 105/290 [01:51<03:16,  1.06s/it, loss=0.266]"
          ]
        },
        {
          "output_type": "stream",
          "name": "stdout",
          "text": [
            "*\n",
            "*\n",
            "*\n"
          ]
        },
        {
          "output_type": "stream",
          "name": "stderr",
          "text": [
            " 39%|███▊      | 112/290 [01:58<03:08,  1.06s/it, loss=0.264]"
          ]
        },
        {
          "output_type": "stream",
          "name": "stdout",
          "text": [
            ">\n"
          ]
        },
        {
          "output_type": "stream",
          "name": "stderr",
          "text": [
            " 44%|████▍     | 129/290 [02:16<02:49,  1.05s/it, loss=0.237]"
          ]
        },
        {
          "output_type": "stream",
          "name": "stdout",
          "text": [
            "[\n"
          ]
        },
        {
          "output_type": "stream",
          "name": "stderr",
          "text": [
            " 47%|████▋     | 137/290 [02:24<02:40,  1.05s/it, loss=0.253]"
          ]
        },
        {
          "output_type": "stream",
          "name": "stdout",
          "text": [
            "[\n",
            "]\n"
          ]
        },
        {
          "output_type": "stream",
          "name": "stderr",
          "text": [
            " 48%|████▊     | 139/290 [02:27<02:39,  1.06s/it, loss=0.264]"
          ]
        },
        {
          "output_type": "stream",
          "name": "stdout",
          "text": [
            "<\n"
          ]
        },
        {
          "output_type": "stream",
          "name": "stderr",
          "text": [
            " 51%|█████     | 147/290 [02:35<02:29,  1.04s/it, loss=0.273]"
          ]
        },
        {
          "output_type": "stream",
          "name": "stdout",
          "text": [
            "[\n",
            "]\n"
          ]
        },
        {
          "output_type": "stream",
          "name": "stderr",
          "text": [
            " 53%|█████▎    | 153/290 [02:41<02:23,  1.05s/it, loss=0.28]"
          ]
        },
        {
          "output_type": "stream",
          "name": "stdout",
          "text": [
            ">\n"
          ]
        },
        {
          "output_type": "stream",
          "name": "stderr",
          "text": [
            " 54%|█████▍    | 158/290 [02:46<02:16,  1.03s/it, loss=0.243]"
          ]
        },
        {
          "output_type": "stream",
          "name": "stdout",
          "text": [
            "[\n",
            "]\n"
          ]
        },
        {
          "output_type": "stream",
          "name": "stderr",
          "text": [
            " 57%|█████▋    | 166/290 [02:55<02:19,  1.12s/it, loss=0.237]"
          ]
        },
        {
          "output_type": "stream",
          "name": "stdout",
          "text": [
            ">\n",
            ">\n"
          ]
        },
        {
          "output_type": "stream",
          "name": "stderr",
          "text": [
            " 66%|██████▌   | 192/290 [03:23<01:44,  1.06s/it, loss=0.262]"
          ]
        },
        {
          "output_type": "stream",
          "name": "stdout",
          "text": [
            "]\n"
          ]
        },
        {
          "output_type": "stream",
          "name": "stderr",
          "text": [
            " 77%|███████▋  | 224/290 [03:57<01:08,  1.04s/it, loss=0.237]"
          ]
        },
        {
          "output_type": "stream",
          "name": "stdout",
          "text": [
            "[\n"
          ]
        },
        {
          "output_type": "stream",
          "name": "stderr",
          "text": [
            " 84%|████████▍ | 245/290 [04:19<00:48,  1.07s/it, loss=0.25]"
          ]
        },
        {
          "output_type": "stream",
          "name": "stdout",
          "text": [
            ">\n",
            ">\n"
          ]
        },
        {
          "output_type": "stream",
          "name": "stderr",
          "text": [
            " 86%|████████▌ | 249/290 [04:24<00:43,  1.05s/it, loss=0.253]"
          ]
        },
        {
          "output_type": "stream",
          "name": "stdout",
          "text": [
            ">\n",
            ">\n",
            ">\n"
          ]
        },
        {
          "output_type": "stream",
          "name": "stderr",
          "text": [
            " 87%|████████▋ | 251/290 [04:26<00:41,  1.06s/it, loss=0.216]"
          ]
        },
        {
          "output_type": "stream",
          "name": "stdout",
          "text": [
            "]\n",
            "[\n",
            "]\n",
            ">\n",
            ">\n"
          ]
        },
        {
          "output_type": "stream",
          "name": "stderr",
          "text": [
            " 87%|████████▋ | 252/290 [04:27<00:40,  1.08s/it, loss=0.264]"
          ]
        },
        {
          "output_type": "stream",
          "name": "stdout",
          "text": [
            "]\n",
            "[\n",
            "]\n"
          ]
        },
        {
          "output_type": "stream",
          "name": "stderr",
          "text": [
            " 90%|█████████ | 261/290 [04:36<00:30,  1.05s/it, loss=0.221]"
          ]
        },
        {
          "output_type": "stream",
          "name": "stdout",
          "text": [
            ">\n",
            ">\n"
          ]
        },
        {
          "output_type": "stream",
          "name": "stderr",
          "text": [
            " 91%|█████████▏| 265/290 [04:40<00:26,  1.05s/it, loss=0.254]"
          ]
        },
        {
          "output_type": "stream",
          "name": "stdout",
          "text": [
            ">\n",
            ">\n"
          ]
        },
        {
          "output_type": "stream",
          "name": "stderr",
          "text": [
            " 97%|█████████▋| 280/290 [04:56<00:10,  1.04s/it, loss=0.294]"
          ]
        },
        {
          "output_type": "stream",
          "name": "stdout",
          "text": [
            ">\n",
            ">\n"
          ]
        },
        {
          "output_type": "stream",
          "name": "stderr",
          "text": [
            " 97%|█████████▋| 282/290 [04:58<00:08,  1.03s/it, loss=0.29]"
          ]
        },
        {
          "output_type": "stream",
          "name": "stdout",
          "text": [
            "[\n"
          ]
        },
        {
          "output_type": "stream",
          "name": "stderr",
          "text": [
            " 98%|█████████▊| 285/290 [05:02<00:05,  1.08s/it, loss=0.224]"
          ]
        },
        {
          "output_type": "stream",
          "name": "stdout",
          "text": [
            ">\n",
            ">\n"
          ]
        },
        {
          "output_type": "stream",
          "name": "stderr",
          "text": [
            "100%|██████████| 290/290 [05:06<00:00,  1.06s/it, loss=0.251]\n",
            "  0%|          | 1/290 [00:01<04:58,  1.03s/it, loss=0.192]"
          ]
        },
        {
          "output_type": "stream",
          "name": "stdout",
          "text": [
            ">\n",
            ">\n"
          ]
        },
        {
          "output_type": "stream",
          "name": "stderr",
          "text": [
            "  9%|▉         | 27/290 [00:28<04:40,  1.07s/it, loss=0.203]"
          ]
        },
        {
          "output_type": "stream",
          "name": "stdout",
          "text": [
            "*\n",
            "*\n",
            "*\n"
          ]
        },
        {
          "output_type": "stream",
          "name": "stderr",
          "text": [
            " 14%|█▍        | 41/290 [00:43<04:17,  1.03s/it, loss=0.228]"
          ]
        },
        {
          "output_type": "stream",
          "name": "stdout",
          "text": [
            "]\n",
            "[\n",
            "]\n"
          ]
        },
        {
          "output_type": "stream",
          "name": "stderr",
          "text": [
            " 16%|█▌        | 47/290 [00:49<04:15,  1.05s/it, loss=0.254]"
          ]
        },
        {
          "output_type": "stream",
          "name": "stdout",
          "text": [
            "*\n",
            "*\n",
            "*\n"
          ]
        },
        {
          "output_type": "stream",
          "name": "stderr",
          "text": [
            " 20%|█▉        | 57/290 [01:00<04:04,  1.05s/it, loss=0.235]"
          ]
        },
        {
          "output_type": "stream",
          "name": "stdout",
          "text": [
            ">\n",
            ">\n"
          ]
        },
        {
          "output_type": "stream",
          "name": "stderr",
          "text": [
            " 23%|██▎       | 67/290 [01:10<03:52,  1.04s/it, loss=0.229]"
          ]
        },
        {
          "output_type": "stream",
          "name": "stdout",
          "text": [
            "]\n",
            "[\n",
            "]\n"
          ]
        },
        {
          "output_type": "stream",
          "name": "stderr",
          "text": [
            " 25%|██▌       | 73/290 [01:17<03:47,  1.05s/it, loss=0.217]"
          ]
        },
        {
          "output_type": "stream",
          "name": "stdout",
          "text": [
            "[\n",
            "]\n"
          ]
        },
        {
          "output_type": "stream",
          "name": "stderr",
          "text": [
            " 28%|██▊       | 80/290 [01:24<03:42,  1.06s/it, loss=0.208]"
          ]
        },
        {
          "output_type": "stream",
          "name": "stdout",
          "text": [
            ">\n",
            ">\n"
          ]
        },
        {
          "output_type": "stream",
          "name": "stderr",
          "text": [
            " 29%|██▉       | 85/290 [01:29<03:37,  1.06s/it, loss=0.272]"
          ]
        },
        {
          "output_type": "stream",
          "name": "stdout",
          "text": [
            "*\n",
            "*\n",
            "*\n"
          ]
        },
        {
          "output_type": "stream",
          "name": "stderr",
          "text": [
            " 33%|███▎      | 97/290 [01:42<03:22,  1.05s/it, loss=0.201]"
          ]
        },
        {
          "output_type": "stream",
          "name": "stdout",
          "text": [
            ">\n",
            ">\n"
          ]
        },
        {
          "output_type": "stream",
          "name": "stderr",
          "text": [
            " 39%|███▉      | 113/290 [01:59<03:04,  1.04s/it, loss=0.209]"
          ]
        },
        {
          "output_type": "stream",
          "name": "stdout",
          "text": [
            ">\n",
            ">\n"
          ]
        },
        {
          "output_type": "stream",
          "name": "stderr",
          "text": [
            " 41%|████▏     | 120/290 [02:06<03:03,  1.08s/it, loss=0.206]"
          ]
        },
        {
          "output_type": "stream",
          "name": "stdout",
          "text": [
            "[\n",
            "]\n"
          ]
        },
        {
          "output_type": "stream",
          "name": "stderr",
          "text": [
            " 51%|█████     | 148/290 [02:36<02:29,  1.06s/it, loss=0.236]"
          ]
        },
        {
          "output_type": "stream",
          "name": "stdout",
          "text": [
            ">\n",
            ">\n"
          ]
        },
        {
          "output_type": "stream",
          "name": "stderr",
          "text": [
            " 59%|█████▉    | 171/290 [03:00<02:04,  1.05s/it, loss=0.292]"
          ]
        },
        {
          "output_type": "stream",
          "name": "stdout",
          "text": [
            ">\n"
          ]
        },
        {
          "output_type": "stream",
          "name": "stderr",
          "text": [
            " 61%|██████▏   | 178/290 [03:07<01:56,  1.04s/it, loss=0.205]"
          ]
        },
        {
          "output_type": "stream",
          "name": "stdout",
          "text": [
            ">\n",
            ">\n"
          ]
        },
        {
          "output_type": "stream",
          "name": "stderr",
          "text": [
            " 64%|██████▍   | 187/290 [03:17<01:54,  1.12s/it, loss=0.209]"
          ]
        },
        {
          "output_type": "stream",
          "name": "stdout",
          "text": [
            "[\n",
            "]\n"
          ]
        },
        {
          "output_type": "stream",
          "name": "stderr",
          "text": [
            " 65%|██████▌   | 189/290 [03:19<01:49,  1.09s/it, loss=0.18]"
          ]
        },
        {
          "output_type": "stream",
          "name": "stdout",
          "text": [
            ">\n"
          ]
        },
        {
          "output_type": "stream",
          "name": "stderr",
          "text": [
            " 67%|██████▋   | 195/290 [03:26<01:42,  1.08s/it, loss=0.207]"
          ]
        },
        {
          "output_type": "stream",
          "name": "stdout",
          "text": [
            "<\n"
          ]
        },
        {
          "output_type": "stream",
          "name": "stderr",
          "text": [
            " 70%|███████   | 204/290 [03:35<01:30,  1.05s/it, loss=0.227]"
          ]
        },
        {
          "output_type": "stream",
          "name": "stdout",
          "text": [
            "[\n"
          ]
        },
        {
          "output_type": "stream",
          "name": "stderr",
          "text": [
            " 72%|███████▏  | 209/290 [03:41<01:28,  1.09s/it, loss=0.204]"
          ]
        },
        {
          "output_type": "stream",
          "name": "stdout",
          "text": [
            ">\n",
            ">\n"
          ]
        },
        {
          "output_type": "stream",
          "name": "stderr",
          "text": [
            " 76%|███████▌  | 219/290 [03:51<01:14,  1.05s/it, loss=0.234]"
          ]
        },
        {
          "output_type": "stream",
          "name": "stdout",
          "text": [
            ">\n"
          ]
        },
        {
          "output_type": "stream",
          "name": "stderr",
          "text": [
            " 78%|███████▊  | 226/290 [03:59<01:09,  1.09s/it, loss=0.237]"
          ]
        },
        {
          "output_type": "stream",
          "name": "stdout",
          "text": [
            "]\n"
          ]
        },
        {
          "output_type": "stream",
          "name": "stderr",
          "text": [
            " 79%|███████▉  | 230/290 [04:03<01:03,  1.07s/it, loss=0.221]"
          ]
        },
        {
          "output_type": "stream",
          "name": "stdout",
          "text": [
            "[\n"
          ]
        },
        {
          "output_type": "stream",
          "name": "stderr",
          "text": [
            " 83%|████████▎ | 241/290 [04:15<00:51,  1.05s/it, loss=0.217]"
          ]
        },
        {
          "output_type": "stream",
          "name": "stdout",
          "text": [
            "[\n",
            "]\n"
          ]
        },
        {
          "output_type": "stream",
          "name": "stderr",
          "text": [
            " 84%|████████▍ | 243/290 [04:17<00:50,  1.07s/it, loss=0.249]"
          ]
        },
        {
          "output_type": "stream",
          "name": "stdout",
          "text": [
            "[\n"
          ]
        },
        {
          "output_type": "stream",
          "name": "stderr",
          "text": [
            " 84%|████████▍ | 244/290 [04:18<00:49,  1.08s/it, loss=0.208]"
          ]
        },
        {
          "output_type": "stream",
          "name": "stdout",
          "text": [
            "*\n",
            "*\n",
            "*\n",
            ">\n",
            ">\n"
          ]
        },
        {
          "output_type": "stream",
          "name": "stderr",
          "text": [
            " 87%|████████▋ | 253/290 [04:27<00:38,  1.05s/it, loss=0.204]"
          ]
        },
        {
          "output_type": "stream",
          "name": "stdout",
          "text": [
            "<\n"
          ]
        },
        {
          "output_type": "stream",
          "name": "stderr",
          "text": [
            " 89%|████████▉ | 259/290 [04:34<00:32,  1.04s/it, loss=0.237]"
          ]
        },
        {
          "output_type": "stream",
          "name": "stdout",
          "text": [
            ">\n",
            ">\n"
          ]
        },
        {
          "output_type": "stream",
          "name": "stderr",
          "text": [
            " 91%|█████████▏| 265/290 [04:40<00:25,  1.03s/it, loss=0.212]"
          ]
        },
        {
          "output_type": "stream",
          "name": "stdout",
          "text": [
            "[\n"
          ]
        },
        {
          "output_type": "stream",
          "name": "stderr",
          "text": [
            " 92%|█████████▏| 267/290 [04:42<00:23,  1.04s/it, loss=0.165]"
          ]
        },
        {
          "output_type": "stream",
          "name": "stdout",
          "text": [
            "]\n"
          ]
        },
        {
          "output_type": "stream",
          "name": "stderr",
          "text": [
            " 97%|█████████▋| 280/290 [04:56<00:10,  1.05s/it, loss=0.187]"
          ]
        },
        {
          "output_type": "stream",
          "name": "stdout",
          "text": [
            ">\n",
            ">\n",
            ">\n"
          ]
        },
        {
          "output_type": "stream",
          "name": "stderr",
          "text": [
            "100%|██████████| 290/290 [05:06<00:00,  1.06s/it, loss=0.206]\n"
          ]
        },
        {
          "output_type": "stream",
          "name": "stdout",
          "text": [
            "checkpoint_ep13.pth.tar saved\n"
          ]
        },
        {
          "output_type": "stream",
          "name": "stderr",
          "text": [
            "  3%|▎         | 8/290 [00:08<04:54,  1.04s/it, loss=0.159]"
          ]
        },
        {
          "output_type": "stream",
          "name": "stdout",
          "text": [
            "]\n"
          ]
        },
        {
          "output_type": "stream",
          "name": "stderr",
          "text": [
            "  7%|▋         | 20/290 [00:21<04:47,  1.06s/it, loss=0.17]"
          ]
        },
        {
          "output_type": "stream",
          "name": "stdout",
          "text": [
            "<\n"
          ]
        },
        {
          "output_type": "stream",
          "name": "stderr",
          "text": [
            "  8%|▊         | 22/290 [00:23<04:45,  1.07s/it, loss=0.157]"
          ]
        },
        {
          "output_type": "stream",
          "name": "stdout",
          "text": [
            "*\n",
            "*\n",
            "*\n"
          ]
        },
        {
          "output_type": "stream",
          "name": "stderr",
          "text": [
            "  8%|▊         | 24/290 [00:25<04:40,  1.06s/it, loss=0.181]"
          ]
        },
        {
          "output_type": "stream",
          "name": "stdout",
          "text": [
            "[\n"
          ]
        },
        {
          "output_type": "stream",
          "name": "stderr",
          "text": [
            " 12%|█▏        | 35/290 [00:36<04:22,  1.03s/it, loss=0.173]"
          ]
        },
        {
          "output_type": "stream",
          "name": "stdout",
          "text": [
            "*\n",
            "*\n",
            "*\n"
          ]
        },
        {
          "output_type": "stream",
          "name": "stderr",
          "text": [
            " 15%|█▍        | 43/290 [00:45<04:20,  1.06s/it, loss=0.176]"
          ]
        },
        {
          "output_type": "stream",
          "name": "stdout",
          "text": [
            "[\n"
          ]
        },
        {
          "output_type": "stream",
          "name": "stderr",
          "text": [
            " 21%|██▏       | 62/290 [01:05<04:00,  1.05s/it, loss=0.201]"
          ]
        },
        {
          "output_type": "stream",
          "name": "stdout",
          "text": [
            ">\n",
            ">\n"
          ]
        },
        {
          "output_type": "stream",
          "name": "stderr",
          "text": [
            " 23%|██▎       | 68/290 [01:12<03:55,  1.06s/it, loss=0.2]"
          ]
        },
        {
          "output_type": "stream",
          "name": "stdout",
          "text": [
            "[\n"
          ]
        },
        {
          "output_type": "stream",
          "name": "stderr",
          "text": [
            " 27%|██▋       | 79/290 [01:23<03:42,  1.06s/it, loss=0.199]"
          ]
        },
        {
          "output_type": "stream",
          "name": "stdout",
          "text": [
            "[\n",
            "]\n"
          ]
        },
        {
          "output_type": "stream",
          "name": "stderr",
          "text": [
            " 28%|██▊       | 81/290 [01:26<03:38,  1.05s/it, loss=0.175]"
          ]
        },
        {
          "output_type": "stream",
          "name": "stdout",
          "text": [
            ">\n"
          ]
        },
        {
          "output_type": "stream",
          "name": "stderr",
          "text": [
            " 36%|███▌      | 103/290 [01:49<03:20,  1.07s/it, loss=0.174]"
          ]
        },
        {
          "output_type": "stream",
          "name": "stdout",
          "text": [
            "]\n",
            "[\n",
            "]\n"
          ]
        },
        {
          "output_type": "stream",
          "name": "stderr",
          "text": [
            " 41%|████      | 119/290 [02:06<03:00,  1.05s/it, loss=0.166]"
          ]
        },
        {
          "output_type": "stream",
          "name": "stdout",
          "text": [
            ">\n",
            ">\n"
          ]
        },
        {
          "output_type": "stream",
          "name": "stderr",
          "text": [
            " 43%|████▎     | 124/290 [02:11<02:50,  1.03s/it, loss=0.163]"
          ]
        },
        {
          "output_type": "stream",
          "name": "stdout",
          "text": [
            ">\n",
            ">\n"
          ]
        },
        {
          "output_type": "stream",
          "name": "stderr",
          "text": [
            " 48%|████▊     | 138/290 [02:26<02:40,  1.05s/it, loss=0.186]"
          ]
        },
        {
          "output_type": "stream",
          "name": "stdout",
          "text": [
            "[\n",
            "]\n"
          ]
        },
        {
          "output_type": "stream",
          "name": "stderr",
          "text": [
            " 51%|█████     | 148/290 [02:36<02:27,  1.04s/it, loss=0.197]"
          ]
        },
        {
          "output_type": "stream",
          "name": "stdout",
          "text": [
            ">\n",
            ">\n"
          ]
        },
        {
          "output_type": "stream",
          "name": "stderr",
          "text": [
            " 53%|█████▎    | 153/290 [02:41<02:26,  1.07s/it, loss=0.182]"
          ]
        },
        {
          "output_type": "stream",
          "name": "stdout",
          "text": [
            "<\n"
          ]
        },
        {
          "output_type": "stream",
          "name": "stderr",
          "text": [
            " 59%|█████▊    | 170/290 [02:59<02:04,  1.04s/it, loss=0.144]"
          ]
        },
        {
          "output_type": "stream",
          "name": "stdout",
          "text": [
            ">\n",
            ">\n"
          ]
        },
        {
          "output_type": "stream",
          "name": "stderr",
          "text": [
            " 64%|██████▍   | 187/290 [03:17<01:47,  1.04s/it, loss=0.16]"
          ]
        },
        {
          "output_type": "stream",
          "name": "stdout",
          "text": [
            "*\n",
            "*\n",
            "*\n"
          ]
        },
        {
          "output_type": "stream",
          "name": "stderr",
          "text": [
            " 66%|██████▌   | 191/290 [03:21<01:42,  1.04s/it, loss=0.161]"
          ]
        },
        {
          "output_type": "stream",
          "name": "stdout",
          "text": [
            ">\n",
            ">\n"
          ]
        },
        {
          "output_type": "stream",
          "name": "stderr",
          "text": [
            " 70%|███████   | 203/290 [03:34<01:32,  1.06s/it, loss=0.169]"
          ]
        },
        {
          "output_type": "stream",
          "name": "stdout",
          "text": [
            "*\n",
            "*\n",
            "*\n"
          ]
        },
        {
          "output_type": "stream",
          "name": "stderr",
          "text": [
            " 73%|███████▎  | 211/290 [03:42<01:24,  1.07s/it, loss=0.156]"
          ]
        },
        {
          "output_type": "stream",
          "name": "stdout",
          "text": [
            ">\n",
            ">\n"
          ]
        },
        {
          "output_type": "stream",
          "name": "stderr",
          "text": [
            " 74%|███████▍  | 215/290 [03:46<01:21,  1.08s/it, loss=0.179]"
          ]
        },
        {
          "output_type": "stream",
          "name": "stdout",
          "text": [
            ">\n",
            ">\n"
          ]
        },
        {
          "output_type": "stream",
          "name": "stderr",
          "text": [
            " 76%|███████▌  | 221/290 [03:53<01:13,  1.06s/it, loss=0.161]"
          ]
        },
        {
          "output_type": "stream",
          "name": "stdout",
          "text": [
            ">\n",
            ">\n"
          ]
        },
        {
          "output_type": "stream",
          "name": "stderr",
          "text": [
            " 78%|███████▊  | 227/290 [03:59<01:06,  1.05s/it, loss=0.176]"
          ]
        },
        {
          "output_type": "stream",
          "name": "stdout",
          "text": [
            ">\n"
          ]
        },
        {
          "output_type": "stream",
          "name": "stderr",
          "text": [
            " 79%|███████▉  | 229/290 [04:01<01:03,  1.05s/it, loss=0.15]"
          ]
        },
        {
          "output_type": "stream",
          "name": "stdout",
          "text": [
            ">\n",
            ">\n",
            ">\n"
          ]
        },
        {
          "output_type": "stream",
          "name": "stderr",
          "text": [
            " 79%|███████▉  | 230/290 [04:02<01:05,  1.09s/it, loss=0.163]"
          ]
        },
        {
          "output_type": "stream",
          "name": "stdout",
          "text": [
            "[\n",
            "]\n"
          ]
        },
        {
          "output_type": "stream",
          "name": "stderr",
          "text": [
            " 80%|████████  | 232/290 [04:04<01:01,  1.06s/it, loss=0.162]"
          ]
        },
        {
          "output_type": "stream",
          "name": "stdout",
          "text": [
            ">\n",
            ">\n"
          ]
        },
        {
          "output_type": "stream",
          "name": "stderr",
          "text": [
            " 82%|████████▏ | 237/290 [04:10<00:54,  1.04s/it, loss=0.193]"
          ]
        },
        {
          "output_type": "stream",
          "name": "stdout",
          "text": [
            "]\n",
            "[\n",
            "]\n"
          ]
        },
        {
          "output_type": "stream",
          "name": "stderr",
          "text": [
            " 85%|████████▍ | 246/290 [04:19<00:47,  1.07s/it, loss=0.172]"
          ]
        },
        {
          "output_type": "stream",
          "name": "stdout",
          "text": [
            ">\n"
          ]
        },
        {
          "output_type": "stream",
          "name": "stderr",
          "text": [
            " 87%|████████▋ | 251/290 [04:25<00:41,  1.07s/it, loss=0.187]"
          ]
        },
        {
          "output_type": "stream",
          "name": "stdout",
          "text": [
            "[\n"
          ]
        },
        {
          "output_type": "stream",
          "name": "stderr",
          "text": [
            " 91%|█████████ | 264/290 [04:39<00:27,  1.07s/it, loss=0.162]"
          ]
        },
        {
          "output_type": "stream",
          "name": "stdout",
          "text": [
            "[\n",
            "]\n"
          ]
        },
        {
          "output_type": "stream",
          "name": "stderr",
          "text": [
            " 93%|█████████▎| 271/290 [04:46<00:20,  1.09s/it, loss=0.216]"
          ]
        },
        {
          "output_type": "stream",
          "name": "stdout",
          "text": [
            "]\n"
          ]
        },
        {
          "output_type": "stream",
          "name": "stderr",
          "text": [
            "100%|██████████| 290/290 [05:06<00:00,  1.06s/it, loss=0.149]\n",
            "  1%|▏         | 4/290 [00:04<05:03,  1.06s/it, loss=0.14]"
          ]
        },
        {
          "output_type": "stream",
          "name": "stdout",
          "text": [
            ">\n",
            ">\n"
          ]
        },
        {
          "output_type": "stream",
          "name": "stderr",
          "text": [
            "  4%|▍         | 11/290 [00:11<05:01,  1.08s/it, loss=0.127]"
          ]
        },
        {
          "output_type": "stream",
          "name": "stdout",
          "text": [
            ">\n"
          ]
        },
        {
          "output_type": "stream",
          "name": "stderr",
          "text": [
            " 12%|█▏        | 36/290 [00:38<04:23,  1.04s/it, loss=0.125]"
          ]
        },
        {
          "output_type": "stream",
          "name": "stdout",
          "text": [
            "[\n"
          ]
        },
        {
          "output_type": "stream",
          "name": "stderr",
          "text": [
            " 21%|██        | 61/290 [01:04<04:00,  1.05s/it, loss=0.203]"
          ]
        },
        {
          "output_type": "stream",
          "name": "stdout",
          "text": [
            "[\n"
          ]
        },
        {
          "output_type": "stream",
          "name": "stderr",
          "text": [
            " 26%|██▌       | 74/290 [01:18<04:05,  1.14s/it, loss=0.158]"
          ]
        },
        {
          "output_type": "stream",
          "name": "stdout",
          "text": [
            ">\n",
            ">\n"
          ]
        },
        {
          "output_type": "stream",
          "name": "stderr",
          "text": [
            " 32%|███▏      | 93/290 [01:39<03:29,  1.06s/it, loss=0.127]"
          ]
        },
        {
          "output_type": "stream",
          "name": "stdout",
          "text": [
            "[\n"
          ]
        },
        {
          "output_type": "stream",
          "name": "stderr",
          "text": [
            " 39%|███▉      | 114/290 [02:01<03:08,  1.07s/it, loss=0.12]"
          ]
        },
        {
          "output_type": "stream",
          "name": "stdout",
          "text": [
            ">\n",
            ">\n"
          ]
        },
        {
          "output_type": "stream",
          "name": "stderr",
          "text": [
            " 42%|████▏     | 122/290 [02:10<02:54,  1.04s/it, loss=0.144]"
          ]
        },
        {
          "output_type": "stream",
          "name": "stdout",
          "text": [
            ">\n"
          ]
        },
        {
          "output_type": "stream",
          "name": "stderr",
          "text": [
            " 42%|████▏     | 123/290 [02:11<02:55,  1.05s/it, loss=0.137]"
          ]
        },
        {
          "output_type": "stream",
          "name": "stdout",
          "text": [
            "]\n",
            "[\n",
            "]\n"
          ]
        },
        {
          "output_type": "stream",
          "name": "stderr",
          "text": [
            " 48%|████▊     | 140/290 [02:29<02:43,  1.09s/it, loss=0.144]"
          ]
        },
        {
          "output_type": "stream",
          "name": "stdout",
          "text": [
            "*\n",
            "*\n",
            "*\n",
            ">\n",
            ">\n",
            ">\n",
            "[\n",
            "]\n"
          ]
        },
        {
          "output_type": "stream",
          "name": "stderr",
          "text": [
            " 50%|████▉     | 144/290 [02:33<02:37,  1.08s/it, loss=0.195]"
          ]
        },
        {
          "output_type": "stream",
          "name": "stdout",
          "text": [
            "[\n",
            "]\n"
          ]
        },
        {
          "output_type": "stream",
          "name": "stderr",
          "text": [
            " 53%|█████▎    | 153/290 [02:43<02:24,  1.05s/it, loss=0.18]"
          ]
        },
        {
          "output_type": "stream",
          "name": "stdout",
          "text": [
            "]\n"
          ]
        },
        {
          "output_type": "stream",
          "name": "stderr",
          "text": [
            " 54%|█████▍    | 158/290 [02:48<02:21,  1.07s/it, loss=0.135]"
          ]
        },
        {
          "output_type": "stream",
          "name": "stdout",
          "text": [
            "[\n",
            "]\n"
          ]
        },
        {
          "output_type": "stream",
          "name": "stderr",
          "text": [
            " 57%|█████▋    | 166/290 [02:57<02:12,  1.07s/it, loss=0.156]"
          ]
        },
        {
          "output_type": "stream",
          "name": "stdout",
          "text": [
            "[\n"
          ]
        },
        {
          "output_type": "stream",
          "name": "stderr",
          "text": [
            " 58%|█████▊    | 169/290 [03:00<02:11,  1.09s/it, loss=0.188]"
          ]
        },
        {
          "output_type": "stream",
          "name": "stdout",
          "text": [
            ">\n",
            ">\n"
          ]
        },
        {
          "output_type": "stream",
          "name": "stderr",
          "text": [
            " 64%|██████▍   | 187/290 [03:19<01:48,  1.05s/it, loss=0.125]"
          ]
        },
        {
          "output_type": "stream",
          "name": "stdout",
          "text": [
            "<\n"
          ]
        },
        {
          "output_type": "stream",
          "name": "stderr",
          "text": [
            " 65%|██████▌   | 189/290 [03:21<01:47,  1.06s/it, loss=0.141]"
          ]
        },
        {
          "output_type": "stream",
          "name": "stdout",
          "text": [
            ">\n",
            ">\n",
            "<\n"
          ]
        },
        {
          "output_type": "stream",
          "name": "stderr",
          "text": [
            " 68%|██████▊   | 197/290 [03:30<01:39,  1.07s/it, loss=0.134]"
          ]
        },
        {
          "output_type": "stream",
          "name": "stdout",
          "text": [
            "[\n",
            "]\n"
          ]
        },
        {
          "output_type": "stream",
          "name": "stderr",
          "text": [
            " 73%|███████▎  | 213/290 [03:47<01:24,  1.10s/it, loss=0.131]"
          ]
        },
        {
          "output_type": "stream",
          "name": "stdout",
          "text": [
            ">\n",
            ">\n"
          ]
        },
        {
          "output_type": "stream",
          "name": "stderr",
          "text": [
            " 77%|███████▋  | 222/290 [03:57<01:14,  1.09s/it, loss=0.136]"
          ]
        },
        {
          "output_type": "stream",
          "name": "stdout",
          "text": [
            "*\n",
            "*\n",
            "*\n"
          ]
        },
        {
          "output_type": "stream",
          "name": "stderr",
          "text": [
            " 78%|███████▊  | 225/290 [04:00<01:11,  1.10s/it, loss=0.129]"
          ]
        },
        {
          "output_type": "stream",
          "name": "stdout",
          "text": [
            ">\n",
            ">\n"
          ]
        },
        {
          "output_type": "stream",
          "name": "stderr",
          "text": [
            " 83%|████████▎ | 240/290 [04:17<00:54,  1.09s/it, loss=0.154]"
          ]
        },
        {
          "output_type": "stream",
          "name": "stdout",
          "text": [
            ">\n",
            ">\n"
          ]
        },
        {
          "output_type": "stream",
          "name": "stderr",
          "text": [
            " 84%|████████▍ | 243/290 [04:20<00:50,  1.07s/it, loss=0.181]"
          ]
        },
        {
          "output_type": "stream",
          "name": "stdout",
          "text": [
            ">\n"
          ]
        },
        {
          "output_type": "stream",
          "name": "stderr",
          "text": [
            " 87%|████████▋ | 251/290 [04:28<00:39,  1.03s/it, loss=0.139]"
          ]
        },
        {
          "output_type": "stream",
          "name": "stdout",
          "text": [
            ">\n",
            ">\n"
          ]
        },
        {
          "output_type": "stream",
          "name": "stderr",
          "text": [
            " 87%|████████▋ | 252/290 [04:29<00:39,  1.04s/it, loss=0.125]"
          ]
        },
        {
          "output_type": "stream",
          "name": "stdout",
          "text": [
            ">\n",
            ">\n"
          ]
        },
        {
          "output_type": "stream",
          "name": "stderr",
          "text": [
            " 91%|█████████ | 263/290 [04:41<00:29,  1.10s/it, loss=0.139]"
          ]
        },
        {
          "output_type": "stream",
          "name": "stdout",
          "text": [
            "*\n",
            "*\n",
            "*\n"
          ]
        },
        {
          "output_type": "stream",
          "name": "stderr",
          "text": [
            " 97%|█████████▋| 280/290 [04:59<00:10,  1.05s/it, loss=0.162]"
          ]
        },
        {
          "output_type": "stream",
          "name": "stdout",
          "text": [
            "*\n",
            "*\n",
            "*\n"
          ]
        },
        {
          "output_type": "stream",
          "name": "stderr",
          "text": [
            " 98%|█████████▊| 283/290 [05:02<00:07,  1.04s/it, loss=0.159]"
          ]
        },
        {
          "output_type": "stream",
          "name": "stdout",
          "text": [
            "]\n"
          ]
        },
        {
          "output_type": "stream",
          "name": "stderr",
          "text": [
            " 99%|█████████▉| 287/290 [05:07<00:03,  1.07s/it, loss=0.167]"
          ]
        },
        {
          "output_type": "stream",
          "name": "stdout",
          "text": [
            "]\n",
            "[\n",
            "]\n"
          ]
        },
        {
          "output_type": "stream",
          "name": "stderr",
          "text": [
            "100%|██████████| 290/290 [05:09<00:00,  1.07s/it, loss=0.132]\n"
          ]
        },
        {
          "output_type": "stream",
          "name": "stdout",
          "text": [
            "checkpoint_ep15.pth.tar saved\n"
          ]
        },
        {
          "output_type": "stream",
          "name": "stderr",
          "text": [
            "  6%|▌         | 17/290 [00:18<04:51,  1.07s/it, loss=0.147]"
          ]
        },
        {
          "output_type": "stream",
          "name": "stdout",
          "text": [
            "<\n"
          ]
        },
        {
          "output_type": "stream",
          "name": "stderr",
          "text": [
            "  9%|▉         | 27/290 [00:28<04:44,  1.08s/it, loss=0.125]"
          ]
        },
        {
          "output_type": "stream",
          "name": "stdout",
          "text": [
            "[\n",
            "]\n"
          ]
        },
        {
          "output_type": "stream",
          "name": "stderr",
          "text": [
            " 17%|█▋        | 50/290 [00:53<04:12,  1.05s/it, loss=0.145]"
          ]
        },
        {
          "output_type": "stream",
          "name": "stdout",
          "text": [
            ">\n",
            ">\n"
          ]
        },
        {
          "output_type": "stream",
          "name": "stderr",
          "text": [
            " 20%|█▉        | 57/290 [01:00<04:08,  1.07s/it, loss=0.11]"
          ]
        },
        {
          "output_type": "stream",
          "name": "stdout",
          "text": [
            "[\n",
            "]\n"
          ]
        },
        {
          "output_type": "stream",
          "name": "stderr",
          "text": [
            " 22%|██▏       | 63/290 [01:06<04:01,  1.06s/it, loss=0.133]"
          ]
        },
        {
          "output_type": "stream",
          "name": "stdout",
          "text": [
            "[\n",
            "]\n"
          ]
        },
        {
          "output_type": "stream",
          "name": "stderr",
          "text": [
            " 26%|██▌       | 75/290 [01:19<03:43,  1.04s/it, loss=0.11]"
          ]
        },
        {
          "output_type": "stream",
          "name": "stdout",
          "text": [
            "]\n",
            "[\n",
            "]\n"
          ]
        },
        {
          "output_type": "stream",
          "name": "stderr",
          "text": [
            " 28%|██▊       | 82/290 [01:27<03:39,  1.06s/it, loss=0.128]"
          ]
        },
        {
          "output_type": "stream",
          "name": "stdout",
          "text": [
            ">\n",
            ">\n",
            ">\n"
          ]
        },
        {
          "output_type": "stream",
          "name": "stderr",
          "text": [
            " 33%|███▎      | 95/290 [01:41<03:35,  1.10s/it, loss=0.142]"
          ]
        },
        {
          "output_type": "stream",
          "name": "stdout",
          "text": [
            ">\n"
          ]
        },
        {
          "output_type": "stream",
          "name": "stderr",
          "text": [
            " 34%|███▍      | 100/290 [01:46<03:22,  1.07s/it, loss=0.145]"
          ]
        },
        {
          "output_type": "stream",
          "name": "stdout",
          "text": [
            "<\n",
            ">\n",
            ">\n"
          ]
        },
        {
          "output_type": "stream",
          "name": "stderr",
          "text": [
            " 35%|███▌      | 102/290 [01:48<03:16,  1.05s/it, loss=0.117]"
          ]
        },
        {
          "output_type": "stream",
          "name": "stdout",
          "text": [
            ">\n"
          ]
        },
        {
          "output_type": "stream",
          "name": "stderr",
          "text": [
            " 42%|████▏     | 122/290 [02:09<02:57,  1.06s/it, loss=0.13]"
          ]
        },
        {
          "output_type": "stream",
          "name": "stdout",
          "text": [
            "]\n",
            "[\n",
            "]\n"
          ]
        },
        {
          "output_type": "stream",
          "name": "stderr",
          "text": [
            " 43%|████▎     | 124/290 [02:12<02:58,  1.07s/it, loss=0.134]"
          ]
        },
        {
          "output_type": "stream",
          "name": "stdout",
          "text": [
            "*\n",
            "*\n",
            "*\n"
          ]
        },
        {
          "output_type": "stream",
          "name": "stderr",
          "text": [
            " 43%|████▎     | 126/290 [02:14<02:55,  1.07s/it, loss=0.134]"
          ]
        },
        {
          "output_type": "stream",
          "name": "stdout",
          "text": [
            ">\n",
            ">\n"
          ]
        },
        {
          "output_type": "stream",
          "name": "stderr",
          "text": [
            " 52%|█████▏    | 150/290 [02:39<02:27,  1.05s/it, loss=0.126]"
          ]
        },
        {
          "output_type": "stream",
          "name": "stdout",
          "text": [
            "[\n",
            "]\n"
          ]
        },
        {
          "output_type": "stream",
          "name": "stderr",
          "text": [
            " 53%|█████▎    | 155/290 [02:44<02:24,  1.07s/it, loss=0.116]"
          ]
        },
        {
          "output_type": "stream",
          "name": "stdout",
          "text": [
            "[\n"
          ]
        },
        {
          "output_type": "stream",
          "name": "stderr",
          "text": [
            " 56%|█████▌    | 163/290 [02:53<02:14,  1.06s/it, loss=0.108]"
          ]
        },
        {
          "output_type": "stream",
          "name": "stdout",
          "text": [
            "[\n",
            "]\n"
          ]
        },
        {
          "output_type": "stream",
          "name": "stderr",
          "text": [
            " 60%|██████    | 174/290 [03:04<02:03,  1.06s/it, loss=0.152]"
          ]
        },
        {
          "output_type": "stream",
          "name": "stdout",
          "text": [
            ">\n",
            ">\n"
          ]
        },
        {
          "output_type": "stream",
          "name": "stderr",
          "text": [
            " 61%|██████    | 177/290 [03:08<02:02,  1.08s/it, loss=0.154]"
          ]
        },
        {
          "output_type": "stream",
          "name": "stdout",
          "text": [
            ">\n"
          ]
        },
        {
          "output_type": "stream",
          "name": "stderr",
          "text": [
            " 62%|██████▏   | 180/290 [03:11<01:59,  1.09s/it, loss=0.11]"
          ]
        },
        {
          "output_type": "stream",
          "name": "stdout",
          "text": [
            ">\n",
            ">\n"
          ]
        },
        {
          "output_type": "stream",
          "name": "stderr",
          "text": [
            " 64%|██████▍   | 185/290 [03:16<01:53,  1.08s/it, loss=0.133]"
          ]
        },
        {
          "output_type": "stream",
          "name": "stdout",
          "text": [
            "*\n",
            "*\n",
            "*\n"
          ]
        },
        {
          "output_type": "stream",
          "name": "stderr",
          "text": [
            " 65%|██████▍   | 188/290 [03:20<01:51,  1.10s/it, loss=0.119]"
          ]
        },
        {
          "output_type": "stream",
          "name": "stdout",
          "text": [
            ">\n",
            ">\n"
          ]
        },
        {
          "output_type": "stream",
          "name": "stderr",
          "text": [
            " 70%|██████▉   | 202/290 [03:34<01:33,  1.06s/it, loss=0.128]"
          ]
        },
        {
          "output_type": "stream",
          "name": "stdout",
          "text": [
            "*\n",
            "*\n",
            "*\n"
          ]
        },
        {
          "output_type": "stream",
          "name": "stderr",
          "text": [
            " 70%|███████   | 204/290 [03:37<01:31,  1.07s/it, loss=0.147]"
          ]
        },
        {
          "output_type": "stream",
          "name": "stdout",
          "text": [
            ">\n",
            ">\n",
            ">\n",
            ">\n"
          ]
        },
        {
          "output_type": "stream",
          "name": "stderr",
          "text": [
            " 72%|███████▏  | 208/290 [03:41<01:30,  1.10s/it, loss=0.124]"
          ]
        },
        {
          "output_type": "stream",
          "name": "stdout",
          "text": [
            ">\n",
            ">\n"
          ]
        },
        {
          "output_type": "stream",
          "name": "stderr",
          "text": [
            " 90%|█████████ | 262/290 [04:38<00:28,  1.03s/it, loss=0.115]"
          ]
        },
        {
          "output_type": "stream",
          "name": "stdout",
          "text": [
            "*\n",
            "*\n",
            "*\n"
          ]
        },
        {
          "output_type": "stream",
          "name": "stderr",
          "text": [
            " 92%|█████████▏| 266/290 [04:42<00:25,  1.04s/it, loss=0.125]"
          ]
        },
        {
          "output_type": "stream",
          "name": "stdout",
          "text": [
            "]\n"
          ]
        },
        {
          "output_type": "stream",
          "name": "stderr",
          "text": [
            " 94%|█████████▍| 272/290 [04:48<00:18,  1.02s/it, loss=0.104]"
          ]
        },
        {
          "output_type": "stream",
          "name": "stdout",
          "text": [
            "[\n"
          ]
        },
        {
          "output_type": "stream",
          "name": "stderr",
          "text": [
            " 95%|█████████▍| 275/290 [04:51<00:15,  1.04s/it, loss=0.143]"
          ]
        },
        {
          "output_type": "stream",
          "name": "stdout",
          "text": [
            ">\n",
            ">\n"
          ]
        },
        {
          "output_type": "stream",
          "name": "stderr",
          "text": [
            " 99%|█████████▊| 286/290 [05:02<00:04,  1.03s/it, loss=0.151]"
          ]
        },
        {
          "output_type": "stream",
          "name": "stdout",
          "text": [
            "[\n"
          ]
        },
        {
          "output_type": "stream",
          "name": "stderr",
          "text": [
            "100%|██████████| 290/290 [05:06<00:00,  1.06s/it, loss=0.159]\n",
            "  2%|▏         | 5/290 [00:05<04:53,  1.03s/it, loss=0.0948]"
          ]
        },
        {
          "output_type": "stream",
          "name": "stdout",
          "text": [
            "[\n"
          ]
        },
        {
          "output_type": "stream",
          "name": "stderr",
          "text": [
            "  5%|▌         | 15/290 [00:15<04:49,  1.05s/it, loss=0.117]"
          ]
        },
        {
          "output_type": "stream",
          "name": "stdout",
          "text": [
            "]\n",
            "[\n",
            "]\n"
          ]
        },
        {
          "output_type": "stream",
          "name": "stderr",
          "text": [
            "  7%|▋         | 21/290 [00:21<04:36,  1.03s/it, loss=0.12]"
          ]
        },
        {
          "output_type": "stream",
          "name": "stdout",
          "text": [
            ">\n",
            ">\n"
          ]
        },
        {
          "output_type": "stream",
          "name": "stderr",
          "text": [
            " 11%|█         | 31/290 [00:31<04:21,  1.01s/it, loss=0.111]"
          ]
        },
        {
          "output_type": "stream",
          "name": "stdout",
          "text": [
            ">\n"
          ]
        },
        {
          "output_type": "stream",
          "name": "stderr",
          "text": [
            " 11%|█▏        | 33/290 [00:33<04:26,  1.04s/it, loss=0.113]"
          ]
        },
        {
          "output_type": "stream",
          "name": "stdout",
          "text": [
            ">\n",
            ">\n"
          ]
        },
        {
          "output_type": "stream",
          "name": "stderr",
          "text": [
            " 19%|█▉        | 56/290 [00:57<03:58,  1.02s/it, loss=0.097]"
          ]
        },
        {
          "output_type": "stream",
          "name": "stdout",
          "text": [
            "*\n",
            "*\n",
            "*\n"
          ]
        },
        {
          "output_type": "stream",
          "name": "stderr",
          "text": [
            " 20%|█▉        | 57/290 [00:58<03:57,  1.02s/it, loss=0.13]"
          ]
        },
        {
          "output_type": "stream",
          "name": "stdout",
          "text": [
            "]\n"
          ]
        },
        {
          "output_type": "stream",
          "name": "stderr",
          "text": [
            " 23%|██▎       | 67/290 [01:08<03:48,  1.03s/it, loss=0.0963]"
          ]
        },
        {
          "output_type": "stream",
          "name": "stdout",
          "text": [
            "[\n",
            "]\n"
          ]
        },
        {
          "output_type": "stream",
          "name": "stderr",
          "text": [
            " 26%|██▌       | 76/290 [01:17<03:37,  1.02s/it, loss=0.116]"
          ]
        },
        {
          "output_type": "stream",
          "name": "stdout",
          "text": [
            ">\n",
            ">\n"
          ]
        },
        {
          "output_type": "stream",
          "name": "stderr",
          "text": [
            " 34%|███▍      | 99/290 [01:41<03:08,  1.01it/s, loss=0.116]"
          ]
        },
        {
          "output_type": "stream",
          "name": "stdout",
          "text": [
            "*\n",
            "*\n",
            "*\n"
          ]
        },
        {
          "output_type": "stream",
          "name": "stderr",
          "text": [
            " 41%|████▏     | 120/290 [02:02<02:55,  1.03s/it, loss=0.0828]"
          ]
        },
        {
          "output_type": "stream",
          "name": "stdout",
          "text": [
            ">\n",
            ">\n",
            ">\n"
          ]
        },
        {
          "output_type": "stream",
          "name": "stderr",
          "text": [
            " 42%|████▏     | 123/290 [02:05<02:51,  1.03s/it, loss=0.0872]"
          ]
        },
        {
          "output_type": "stream",
          "name": "stdout",
          "text": [
            "[\n",
            "]\n"
          ]
        },
        {
          "output_type": "stream",
          "name": "stderr",
          "text": [
            " 47%|████▋     | 136/290 [02:19<02:41,  1.05s/it, loss=0.116]"
          ]
        },
        {
          "output_type": "stream",
          "name": "stdout",
          "text": [
            "[\n"
          ]
        },
        {
          "output_type": "stream",
          "name": "stderr",
          "text": [
            " 51%|█████▏    | 149/290 [02:33<02:22,  1.01s/it, loss=0.114]"
          ]
        },
        {
          "output_type": "stream",
          "name": "stdout",
          "text": [
            ">\n",
            ">\n"
          ]
        },
        {
          "output_type": "stream",
          "name": "stderr",
          "text": [
            " 53%|█████▎    | 155/290 [02:39<02:19,  1.03s/it, loss=0.103]"
          ]
        },
        {
          "output_type": "stream",
          "name": "stdout",
          "text": [
            ">\n",
            ">\n"
          ]
        },
        {
          "output_type": "stream",
          "name": "stderr",
          "text": [
            " 56%|█████▌    | 162/290 [02:46<02:13,  1.04s/it, loss=0.119]"
          ]
        },
        {
          "output_type": "stream",
          "name": "stdout",
          "text": [
            ">\n",
            ">\n"
          ]
        },
        {
          "output_type": "stream",
          "name": "stderr",
          "text": [
            " 57%|█████▋    | 166/290 [02:50<02:04,  1.01s/it, loss=0.0825]"
          ]
        },
        {
          "output_type": "stream",
          "name": "stdout",
          "text": [
            "]\n",
            "[\n",
            "]\n"
          ]
        },
        {
          "output_type": "stream",
          "name": "stderr",
          "text": [
            " 58%|█████▊    | 168/290 [02:52<02:04,  1.02s/it, loss=0.105]"
          ]
        },
        {
          "output_type": "stream",
          "name": "stdout",
          "text": [
            "[\n",
            "]\n"
          ]
        },
        {
          "output_type": "stream",
          "name": "stderr",
          "text": [
            " 59%|█████▉    | 171/290 [02:55<02:03,  1.04s/it, loss=0.0847]"
          ]
        },
        {
          "output_type": "stream",
          "name": "stdout",
          "text": [
            ">\n"
          ]
        },
        {
          "output_type": "stream",
          "name": "stderr",
          "text": [
            " 60%|██████    | 175/290 [03:00<01:58,  1.03s/it, loss=0.131]"
          ]
        },
        {
          "output_type": "stream",
          "name": "stdout",
          "text": [
            "<\n"
          ]
        },
        {
          "output_type": "stream",
          "name": "stderr",
          "text": [
            " 66%|██████▌   | 191/290 [03:16<01:46,  1.07s/it, loss=0.0838]"
          ]
        },
        {
          "output_type": "stream",
          "name": "stdout",
          "text": [
            ">\n",
            ">\n"
          ]
        },
        {
          "output_type": "stream",
          "name": "stderr",
          "text": [
            " 68%|██████▊   | 198/290 [03:24<01:35,  1.04s/it, loss=0.117]"
          ]
        },
        {
          "output_type": "stream",
          "name": "stdout",
          "text": [
            "[\n"
          ]
        },
        {
          "output_type": "stream",
          "name": "stderr",
          "text": [
            " 72%|███████▏  | 210/290 [03:36<01:22,  1.04s/it, loss=0.0934]"
          ]
        },
        {
          "output_type": "stream",
          "name": "stdout",
          "text": [
            "[\n",
            "]\n"
          ]
        },
        {
          "output_type": "stream",
          "name": "stderr",
          "text": [
            " 74%|███████▍  | 215/290 [03:41<01:15,  1.01s/it, loss=0.153]"
          ]
        },
        {
          "output_type": "stream",
          "name": "stdout",
          "text": [
            "]\n"
          ]
        },
        {
          "output_type": "stream",
          "name": "stderr",
          "text": [
            " 74%|███████▍  | 216/290 [03:42<01:16,  1.03s/it, loss=0.126]"
          ]
        },
        {
          "output_type": "stream",
          "name": "stdout",
          "text": [
            "<\n"
          ]
        },
        {
          "output_type": "stream",
          "name": "stderr",
          "text": [
            " 76%|███████▌  | 219/290 [03:45<01:15,  1.07s/it, loss=0.0975]"
          ]
        },
        {
          "output_type": "stream",
          "name": "stdout",
          "text": [
            "*\n",
            "*\n",
            "*\n"
          ]
        },
        {
          "output_type": "stream",
          "name": "stderr",
          "text": [
            " 82%|████████▏ | 237/290 [04:04<00:55,  1.05s/it, loss=0.107]"
          ]
        },
        {
          "output_type": "stream",
          "name": "stdout",
          "text": [
            "[\n"
          ]
        },
        {
          "output_type": "stream",
          "name": "stderr",
          "text": [
            " 85%|████████▌ | 247/290 [04:14<00:43,  1.01s/it, loss=0.0861]"
          ]
        },
        {
          "output_type": "stream",
          "name": "stdout",
          "text": [
            ">\n",
            ">\n"
          ]
        },
        {
          "output_type": "stream",
          "name": "stderr",
          "text": [
            " 86%|████████▌ | 248/290 [04:15<00:42,  1.02s/it, loss=0.107]"
          ]
        },
        {
          "output_type": "stream",
          "name": "stdout",
          "text": [
            ">\n"
          ]
        },
        {
          "output_type": "stream",
          "name": "stderr",
          "text": [
            " 89%|████████▉ | 258/290 [04:26<00:33,  1.04s/it, loss=0.109]"
          ]
        },
        {
          "output_type": "stream",
          "name": "stdout",
          "text": [
            ">\n",
            ">\n"
          ]
        },
        {
          "output_type": "stream",
          "name": "stderr",
          "text": [
            " 95%|█████████▍| 275/290 [04:43<00:15,  1.03s/it, loss=0.0901]"
          ]
        },
        {
          "output_type": "stream",
          "name": "stdout",
          "text": [
            "*\n",
            "*\n",
            "*\n"
          ]
        },
        {
          "output_type": "stream",
          "name": "stderr",
          "text": [
            " 98%|█████████▊| 285/290 [04:53<00:04,  1.01it/s, loss=0.0864]"
          ]
        },
        {
          "output_type": "stream",
          "name": "stdout",
          "text": [
            ">\n",
            ">\n"
          ]
        },
        {
          "output_type": "stream",
          "name": "stderr",
          "text": [
            "100%|██████████| 290/290 [04:58<00:00,  1.03s/it, loss=0.111]\n"
          ]
        },
        {
          "output_type": "stream",
          "name": "stdout",
          "text": [
            "checkpoint_ep17.pth.tar saved\n"
          ]
        },
        {
          "output_type": "stream",
          "name": "stderr",
          "text": [
            "  1%|          | 2/290 [00:02<04:58,  1.04s/it, loss=0.0905]"
          ]
        },
        {
          "output_type": "stream",
          "name": "stdout",
          "text": [
            "*\n",
            "*\n",
            "*\n"
          ]
        },
        {
          "output_type": "stream",
          "name": "stderr",
          "text": [
            "  2%|▏         | 5/290 [00:05<05:03,  1.06s/it, loss=0.0762]"
          ]
        },
        {
          "output_type": "stream",
          "name": "stdout",
          "text": [
            ">\n"
          ]
        },
        {
          "output_type": "stream",
          "name": "stderr",
          "text": [
            "  3%|▎         | 10/290 [00:10<04:48,  1.03s/it, loss=0.116]"
          ]
        },
        {
          "output_type": "stream",
          "name": "stdout",
          "text": [
            "[\n",
            "]\n"
          ]
        },
        {
          "output_type": "stream",
          "name": "stderr",
          "text": [
            "  6%|▌         | 16/290 [00:16<04:38,  1.02s/it, loss=0.0782]"
          ]
        },
        {
          "output_type": "stream",
          "name": "stdout",
          "text": [
            "[\n",
            "[\n"
          ]
        },
        {
          "output_type": "stream",
          "name": "stderr",
          "text": [
            "  7%|▋         | 20/290 [00:20<04:36,  1.02s/it, loss=0.0642]"
          ]
        },
        {
          "output_type": "stream",
          "name": "stdout",
          "text": [
            ">\n",
            ">\n",
            ">\n",
            ">\n"
          ]
        },
        {
          "output_type": "stream",
          "name": "stderr",
          "text": [
            " 10%|█         | 29/290 [00:30<04:26,  1.02s/it, loss=0.0923]"
          ]
        },
        {
          "output_type": "stream",
          "name": "stdout",
          "text": [
            "*\n",
            "*\n",
            "*\n"
          ]
        },
        {
          "output_type": "stream",
          "name": "stderr",
          "text": [
            " 13%|█▎        | 39/290 [00:40<04:11,  1.00s/it, loss=0.0755]"
          ]
        },
        {
          "output_type": "stream",
          "name": "stdout",
          "text": [
            ">\n",
            ">\n",
            ">\n"
          ]
        },
        {
          "output_type": "stream",
          "name": "stderr",
          "text": [
            " 16%|█▌        | 45/290 [00:46<04:10,  1.02s/it, loss=0.0989]"
          ]
        },
        {
          "output_type": "stream",
          "name": "stdout",
          "text": [
            "]\n"
          ]
        },
        {
          "output_type": "stream",
          "name": "stderr",
          "text": [
            " 20%|█▉        | 57/290 [00:58<03:59,  1.03s/it, loss=0.0745]"
          ]
        },
        {
          "output_type": "stream",
          "name": "stdout",
          "text": [
            ">\n",
            ">\n",
            ">\n",
            ">\n"
          ]
        },
        {
          "output_type": "stream",
          "name": "stderr",
          "text": [
            " 20%|██        | 58/290 [00:59<03:58,  1.03s/it, loss=0.107]"
          ]
        },
        {
          "output_type": "stream",
          "name": "stdout",
          "text": [
            "<\n"
          ]
        },
        {
          "output_type": "stream",
          "name": "stderr",
          "text": [
            " 23%|██▎       | 66/290 [01:07<03:47,  1.01s/it, loss=0.11]"
          ]
        },
        {
          "output_type": "stream",
          "name": "stdout",
          "text": [
            "]\n",
            "[\n",
            "]\n"
          ]
        },
        {
          "output_type": "stream",
          "name": "stderr",
          "text": [
            " 25%|██▍       | 72/290 [01:13<03:41,  1.02s/it, loss=0.0993]"
          ]
        },
        {
          "output_type": "stream",
          "name": "stdout",
          "text": [
            ">\n",
            ">\n"
          ]
        },
        {
          "output_type": "stream",
          "name": "stderr",
          "text": [
            " 32%|███▏      | 92/290 [01:34<03:18,  1.00s/it, loss=0.0852]"
          ]
        },
        {
          "output_type": "stream",
          "name": "stdout",
          "text": [
            "[\n"
          ]
        },
        {
          "output_type": "stream",
          "name": "stderr",
          "text": [
            " 33%|███▎      | 95/290 [01:37<03:20,  1.03s/it, loss=0.102]"
          ]
        },
        {
          "output_type": "stream",
          "name": "stdout",
          "text": [
            ">\n",
            ">\n",
            ">\n"
          ]
        },
        {
          "output_type": "stream",
          "name": "stderr",
          "text": [
            " 40%|████      | 117/290 [01:59<02:56,  1.02s/it, loss=0.0724]"
          ]
        },
        {
          "output_type": "stream",
          "name": "stdout",
          "text": [
            "[\n"
          ]
        },
        {
          "output_type": "stream",
          "name": "stderr",
          "text": [
            " 46%|████▌     | 133/290 [02:16<02:44,  1.05s/it, loss=0.0888]"
          ]
        },
        {
          "output_type": "stream",
          "name": "stdout",
          "text": [
            "[\n",
            "]\n"
          ]
        },
        {
          "output_type": "stream",
          "name": "stderr",
          "text": [
            " 47%|████▋     | 137/290 [02:20<02:39,  1.04s/it, loss=0.0861]"
          ]
        },
        {
          "output_type": "stream",
          "name": "stdout",
          "text": [
            "<\n"
          ]
        },
        {
          "output_type": "stream",
          "name": "stderr",
          "text": [
            " 48%|████▊     | 140/290 [02:23<02:32,  1.01s/it, loss=0.0726]"
          ]
        },
        {
          "output_type": "stream",
          "name": "stdout",
          "text": [
            "[\n",
            "]\n"
          ]
        },
        {
          "output_type": "stream",
          "name": "stderr",
          "text": [
            " 50%|█████     | 146/290 [02:29<02:27,  1.02s/it, loss=0.0907]"
          ]
        },
        {
          "output_type": "stream",
          "name": "stdout",
          "text": [
            ">\n"
          ]
        },
        {
          "output_type": "stream",
          "name": "stderr",
          "text": [
            " 51%|█████▏    | 149/290 [02:32<02:26,  1.04s/it, loss=0.144]"
          ]
        },
        {
          "output_type": "stream",
          "name": "stdout",
          "text": [
            ">\n",
            ">\n"
          ]
        },
        {
          "output_type": "stream",
          "name": "stderr",
          "text": [
            " 63%|██████▎   | 184/290 [03:08<01:50,  1.04s/it, loss=0.0763]"
          ]
        },
        {
          "output_type": "stream",
          "name": "stdout",
          "text": [
            "]\n"
          ]
        },
        {
          "output_type": "stream",
          "name": "stderr",
          "text": [
            " 64%|██████▍   | 185/290 [03:09<01:48,  1.04s/it, loss=0.0942]"
          ]
        },
        {
          "output_type": "stream",
          "name": "stdout",
          "text": [
            "*\n",
            "*\n",
            "*\n"
          ]
        },
        {
          "output_type": "stream",
          "name": "stderr",
          "text": [
            " 80%|████████  | 232/290 [03:57<00:59,  1.03s/it, loss=0.0993]"
          ]
        },
        {
          "output_type": "stream",
          "name": "stdout",
          "text": [
            ">\n",
            ">\n"
          ]
        },
        {
          "output_type": "stream",
          "name": "stderr",
          "text": [
            " 87%|████████▋ | 252/290 [04:18<00:38,  1.03s/it, loss=0.0599]"
          ]
        },
        {
          "output_type": "stream",
          "name": "stdout",
          "text": [
            "]\n",
            "[\n",
            "]\n"
          ]
        },
        {
          "output_type": "stream",
          "name": "stderr",
          "text": [
            " 90%|█████████ | 261/290 [04:27<00:29,  1.03s/it, loss=0.114]"
          ]
        },
        {
          "output_type": "stream",
          "name": "stdout",
          "text": [
            "*\n",
            "*\n",
            "*\n"
          ]
        },
        {
          "output_type": "stream",
          "name": "stderr",
          "text": [
            " 91%|█████████ | 263/290 [04:29<00:27,  1.01s/it, loss=0.0687]"
          ]
        },
        {
          "output_type": "stream",
          "name": "stdout",
          "text": [
            "[\n",
            "]\n"
          ]
        },
        {
          "output_type": "stream",
          "name": "stderr",
          "text": [
            " 97%|█████████▋| 280/290 [04:47<00:10,  1.03s/it, loss=0.123]"
          ]
        },
        {
          "output_type": "stream",
          "name": "stdout",
          "text": [
            ">\n",
            ">\n"
          ]
        },
        {
          "output_type": "stream",
          "name": "stderr",
          "text": [
            " 98%|█████████▊| 283/290 [04:50<00:07,  1.03s/it, loss=0.114]"
          ]
        },
        {
          "output_type": "stream",
          "name": "stdout",
          "text": [
            ">\n",
            ">\n"
          ]
        },
        {
          "output_type": "stream",
          "name": "stderr",
          "text": [
            "100%|██████████| 290/290 [04:57<00:00,  1.02s/it, loss=0.0784]\n",
            "  1%|          | 2/290 [00:02<05:00,  1.04s/it, loss=0.102]"
          ]
        },
        {
          "output_type": "stream",
          "name": "stdout",
          "text": [
            ">\n",
            ">\n"
          ]
        },
        {
          "output_type": "stream",
          "name": "stderr",
          "text": [
            "  1%|          | 3/290 [00:03<04:49,  1.01s/it, loss=0.0893]"
          ]
        },
        {
          "output_type": "stream",
          "name": "stdout",
          "text": [
            ">\n",
            ">\n"
          ]
        },
        {
          "output_type": "stream",
          "name": "stderr",
          "text": [
            "  6%|▌         | 18/290 [00:18<04:32,  1.00s/it, loss=0.0712]"
          ]
        },
        {
          "output_type": "stream",
          "name": "stdout",
          "text": [
            ">\n",
            ">\n"
          ]
        },
        {
          "output_type": "stream",
          "name": "stderr",
          "text": [
            "  8%|▊         | 24/290 [00:24<04:30,  1.02s/it, loss=0.0767]"
          ]
        },
        {
          "output_type": "stream",
          "name": "stdout",
          "text": [
            "]\n"
          ]
        },
        {
          "output_type": "stream",
          "name": "stderr",
          "text": [
            " 10%|▉         | 28/290 [00:28<04:35,  1.05s/it, loss=0.0888]"
          ]
        },
        {
          "output_type": "stream",
          "name": "stdout",
          "text": [
            "[\n"
          ]
        },
        {
          "output_type": "stream",
          "name": "stderr",
          "text": [
            " 11%|█         | 31/290 [00:31<04:25,  1.03s/it, loss=0.0849]"
          ]
        },
        {
          "output_type": "stream",
          "name": "stdout",
          "text": [
            ">\n"
          ]
        },
        {
          "output_type": "stream",
          "name": "stderr",
          "text": [
            " 16%|█▌        | 46/290 [00:47<04:14,  1.04s/it, loss=0.0677]"
          ]
        },
        {
          "output_type": "stream",
          "name": "stdout",
          "text": [
            "[\n"
          ]
        },
        {
          "output_type": "stream",
          "name": "stderr",
          "text": [
            " 19%|█▊        | 54/290 [00:55<04:12,  1.07s/it, loss=0.0972]"
          ]
        },
        {
          "output_type": "stream",
          "name": "stdout",
          "text": [
            "[\n",
            "]\n"
          ]
        },
        {
          "output_type": "stream",
          "name": "stderr",
          "text": [
            " 29%|██▉       | 85/290 [01:27<03:31,  1.03s/it, loss=0.0839]"
          ]
        },
        {
          "output_type": "stream",
          "name": "stdout",
          "text": [
            "*\n",
            "*\n",
            "*\n"
          ]
        },
        {
          "output_type": "stream",
          "name": "stderr",
          "text": [
            " 31%|███       | 90/290 [01:32<03:24,  1.02s/it, loss=0.0985]"
          ]
        },
        {
          "output_type": "stream",
          "name": "stdout",
          "text": [
            ">\n"
          ]
        },
        {
          "output_type": "stream",
          "name": "stderr",
          "text": [
            " 32%|███▏      | 94/290 [01:36<03:26,  1.05s/it, loss=0.0667]"
          ]
        },
        {
          "output_type": "stream",
          "name": "stdout",
          "text": [
            "<\n"
          ]
        },
        {
          "output_type": "stream",
          "name": "stderr",
          "text": [
            " 37%|███▋      | 106/290 [01:49<03:07,  1.02s/it, loss=0.0892]"
          ]
        },
        {
          "output_type": "stream",
          "name": "stdout",
          "text": [
            ">\n",
            ">\n",
            ">\n"
          ]
        },
        {
          "output_type": "stream",
          "name": "stderr",
          "text": [
            " 42%|████▏     | 121/290 [02:04<02:54,  1.03s/it, loss=0.0706]"
          ]
        },
        {
          "output_type": "stream",
          "name": "stdout",
          "text": [
            ">\n"
          ]
        },
        {
          "output_type": "stream",
          "name": "stderr",
          "text": [
            " 48%|████▊     | 139/290 [02:22<02:34,  1.02s/it, loss=0.0929]"
          ]
        },
        {
          "output_type": "stream",
          "name": "stdout",
          "text": [
            "]\n",
            "[\n",
            "]\n",
            ">\n",
            ">\n"
          ]
        },
        {
          "output_type": "stream",
          "name": "stderr",
          "text": [
            " 49%|████▉     | 142/290 [02:26<02:31,  1.02s/it, loss=0.0666]"
          ]
        },
        {
          "output_type": "stream",
          "name": "stdout",
          "text": [
            "[\n",
            "]\n"
          ]
        },
        {
          "output_type": "stream",
          "name": "stderr",
          "text": [
            " 52%|█████▏    | 152/290 [02:36<02:20,  1.02s/it, loss=0.0795]"
          ]
        },
        {
          "output_type": "stream",
          "name": "stdout",
          "text": [
            "[\n",
            "]\n"
          ]
        },
        {
          "output_type": "stream",
          "name": "stderr",
          "text": [
            " 53%|█████▎    | 154/290 [02:38<02:18,  1.02s/it, loss=0.0765]"
          ]
        },
        {
          "output_type": "stream",
          "name": "stdout",
          "text": [
            "]\n"
          ]
        },
        {
          "output_type": "stream",
          "name": "stderr",
          "text": [
            " 55%|█████▍    | 159/290 [02:43<02:18,  1.05s/it, loss=0.115]"
          ]
        },
        {
          "output_type": "stream",
          "name": "stdout",
          "text": [
            "[\n",
            "]\n",
            "*\n",
            "*\n",
            "*\n"
          ]
        },
        {
          "output_type": "stream",
          "name": "stderr",
          "text": [
            " 56%|█████▌    | 162/290 [02:46<02:13,  1.04s/it, loss=0.119]"
          ]
        },
        {
          "output_type": "stream",
          "name": "stdout",
          "text": [
            "[\n"
          ]
        },
        {
          "output_type": "stream",
          "name": "stderr",
          "text": [
            " 63%|██████▎   | 183/290 [03:08<01:48,  1.02s/it, loss=0.0807]"
          ]
        },
        {
          "output_type": "stream",
          "name": "stdout",
          "text": [
            "*\n",
            "*\n",
            "*\n"
          ]
        },
        {
          "output_type": "stream",
          "name": "stderr",
          "text": [
            " 67%|██████▋   | 194/290 [03:19<01:38,  1.03s/it, loss=0.0745]"
          ]
        },
        {
          "output_type": "stream",
          "name": "stdout",
          "text": [
            ">\n",
            ">\n"
          ]
        },
        {
          "output_type": "stream",
          "name": "stderr",
          "text": [
            " 71%|███████▏  | 207/290 [03:32<01:25,  1.03s/it, loss=0.0529]"
          ]
        },
        {
          "output_type": "stream",
          "name": "stdout",
          "text": [
            ">\n",
            ">\n"
          ]
        },
        {
          "output_type": "stream",
          "name": "stderr",
          "text": [
            " 81%|████████▏ | 236/290 [04:02<00:55,  1.02s/it, loss=0.108]"
          ]
        },
        {
          "output_type": "stream",
          "name": "stdout",
          "text": [
            "]\n",
            "[\n",
            "]\n"
          ]
        },
        {
          "output_type": "stream",
          "name": "stderr",
          "text": [
            " 82%|████████▏ | 238/290 [04:04<00:52,  1.02s/it, loss=0.0784]"
          ]
        },
        {
          "output_type": "stream",
          "name": "stdout",
          "text": [
            ">\n",
            ">\n"
          ]
        },
        {
          "output_type": "stream",
          "name": "stderr",
          "text": [
            " 83%|████████▎ | 242/290 [04:08<00:50,  1.05s/it, loss=0.0797]"
          ]
        },
        {
          "output_type": "stream",
          "name": "stdout",
          "text": [
            "*\n",
            "*\n",
            "*\n"
          ]
        },
        {
          "output_type": "stream",
          "name": "stderr",
          "text": [
            " 84%|████████▍ | 243/290 [04:09<00:49,  1.05s/it, loss=0.0669]"
          ]
        },
        {
          "output_type": "stream",
          "name": "stdout",
          "text": [
            ">\n",
            ">\n"
          ]
        },
        {
          "output_type": "stream",
          "name": "stderr",
          "text": [
            " 89%|████████▉ | 259/290 [04:26<00:32,  1.04s/it, loss=0.0852]"
          ]
        },
        {
          "output_type": "stream",
          "name": "stdout",
          "text": [
            "<\n"
          ]
        },
        {
          "output_type": "stream",
          "name": "stderr",
          "text": [
            " 91%|█████████ | 264/290 [04:31<00:26,  1.03s/it, loss=0.0657]"
          ]
        },
        {
          "output_type": "stream",
          "name": "stdout",
          "text": [
            ">\n",
            ">\n"
          ]
        },
        {
          "output_type": "stream",
          "name": "stderr",
          "text": [
            " 96%|█████████▌| 278/290 [04:45<00:12,  1.03s/it, loss=0.0587]"
          ]
        },
        {
          "output_type": "stream",
          "name": "stdout",
          "text": [
            "[\n"
          ]
        },
        {
          "output_type": "stream",
          "name": "stderr",
          "text": [
            " 97%|█████████▋| 281/290 [04:48<00:09,  1.02s/it, loss=0.0645]"
          ]
        },
        {
          "output_type": "stream",
          "name": "stdout",
          "text": [
            ">\n",
            ">\n"
          ]
        },
        {
          "output_type": "stream",
          "name": "stderr",
          "text": [
            "100%|██████████| 290/290 [04:57<00:00,  1.02s/it, loss=0.116]\n"
          ]
        },
        {
          "output_type": "stream",
          "name": "stdout",
          "text": [
            "checkpoint_ep19.pth.tar saved\n"
          ]
        },
        {
          "output_type": "stream",
          "name": "stderr",
          "text": [
            "  1%|▏         | 4/290 [00:04<04:51,  1.02s/it, loss=0.0842]"
          ]
        },
        {
          "output_type": "stream",
          "name": "stdout",
          "text": [
            ">\n",
            ">\n"
          ]
        },
        {
          "output_type": "stream",
          "name": "stderr",
          "text": [
            " 10%|▉         | 28/290 [00:28<04:23,  1.00s/it, loss=0.0663]"
          ]
        },
        {
          "output_type": "stream",
          "name": "stdout",
          "text": [
            ">\n",
            ">\n"
          ]
        },
        {
          "output_type": "stream",
          "name": "stderr",
          "text": [
            " 20%|██        | 58/290 [00:58<03:53,  1.01s/it, loss=0.0728]"
          ]
        },
        {
          "output_type": "stream",
          "name": "stdout",
          "text": [
            "]\n"
          ]
        },
        {
          "output_type": "stream",
          "name": "stderr",
          "text": [
            " 21%|██        | 61/290 [01:01<03:50,  1.01s/it, loss=0.109]"
          ]
        },
        {
          "output_type": "stream",
          "name": "stdout",
          "text": [
            "[\n"
          ]
        },
        {
          "output_type": "stream",
          "name": "stderr",
          "text": [
            " 23%|██▎       | 66/290 [01:06<03:47,  1.02s/it, loss=0.0836]"
          ]
        },
        {
          "output_type": "stream",
          "name": "stdout",
          "text": [
            ">\n",
            ">\n"
          ]
        },
        {
          "output_type": "stream",
          "name": "stderr",
          "text": [
            " 28%|██▊       | 80/290 [01:20<03:30,  1.00s/it, loss=0.0689]"
          ]
        },
        {
          "output_type": "stream",
          "name": "stdout",
          "text": [
            "*\n",
            "*\n",
            "*\n"
          ]
        },
        {
          "output_type": "stream",
          "name": "stderr",
          "text": [
            " 32%|███▏      | 94/290 [01:34<03:16,  1.00s/it, loss=0.0857]"
          ]
        },
        {
          "output_type": "stream",
          "name": "stdout",
          "text": [
            "[\n"
          ]
        },
        {
          "output_type": "stream",
          "name": "stderr",
          "text": [
            " 35%|███▍      | 101/290 [01:41<03:19,  1.06s/it, loss=0.0688]"
          ]
        },
        {
          "output_type": "stream",
          "name": "stdout",
          "text": [
            ">\n",
            "[\n"
          ]
        },
        {
          "output_type": "stream",
          "name": "stderr",
          "text": [
            " 35%|███▌      | 102/290 [01:42<03:17,  1.05s/it, loss=0.0914]"
          ]
        },
        {
          "output_type": "stream",
          "name": "stdout",
          "text": [
            "[\n",
            "]\n",
            ">\n",
            ">\n"
          ]
        },
        {
          "output_type": "stream",
          "name": "stderr",
          "text": [
            " 38%|███▊      | 110/290 [01:50<03:03,  1.02s/it, loss=0.0679]"
          ]
        },
        {
          "output_type": "stream",
          "name": "stdout",
          "text": [
            "<\n"
          ]
        },
        {
          "output_type": "stream",
          "name": "stderr",
          "text": [
            " 43%|████▎     | 124/290 [02:05<02:51,  1.03s/it, loss=0.0719]"
          ]
        },
        {
          "output_type": "stream",
          "name": "stdout",
          "text": [
            ">\n",
            ">\n"
          ]
        },
        {
          "output_type": "stream",
          "name": "stderr",
          "text": [
            " 43%|████▎     | 126/290 [02:07<02:46,  1.02s/it, loss=0.0622]"
          ]
        },
        {
          "output_type": "stream",
          "name": "stdout",
          "text": [
            ">\n",
            ">\n"
          ]
        },
        {
          "output_type": "stream",
          "name": "stderr",
          "text": [
            " 46%|████▌     | 132/290 [02:13<02:38,  1.00s/it, loss=0.101]"
          ]
        },
        {
          "output_type": "stream",
          "name": "stdout",
          "text": [
            ">\n",
            ">\n"
          ]
        },
        {
          "output_type": "stream",
          "name": "stderr",
          "text": [
            " 47%|████▋     | 136/290 [02:17<02:32,  1.01it/s, loss=0.0621]"
          ]
        },
        {
          "output_type": "stream",
          "name": "stdout",
          "text": [
            "<\n"
          ]
        },
        {
          "output_type": "stream",
          "name": "stderr",
          "text": [
            " 48%|████▊     | 138/290 [02:19<02:34,  1.02s/it, loss=0.0721]"
          ]
        },
        {
          "output_type": "stream",
          "name": "stdout",
          "text": [
            "*\n",
            "*\n",
            "*\n"
          ]
        },
        {
          "output_type": "stream",
          "name": "stderr",
          "text": [
            " 50%|█████     | 146/290 [02:27<02:22,  1.01it/s, loss=0.0534]"
          ]
        },
        {
          "output_type": "stream",
          "name": "stdout",
          "text": [
            "]\n"
          ]
        },
        {
          "output_type": "stream",
          "name": "stderr",
          "text": [
            " 52%|█████▏    | 151/290 [02:32<02:18,  1.01it/s, loss=0.0857]"
          ]
        },
        {
          "output_type": "stream",
          "name": "stdout",
          "text": [
            ">\n"
          ]
        },
        {
          "output_type": "stream",
          "name": "stderr",
          "text": [
            " 56%|█████▌    | 162/290 [02:43<02:11,  1.03s/it, loss=0.127]"
          ]
        },
        {
          "output_type": "stream",
          "name": "stdout",
          "text": [
            "]\n",
            "[\n",
            "]\n"
          ]
        },
        {
          "output_type": "stream",
          "name": "stderr",
          "text": [
            " 62%|██████▏   | 180/290 [03:01<01:53,  1.03s/it, loss=0.0707]"
          ]
        },
        {
          "output_type": "stream",
          "name": "stdout",
          "text": [
            "[\n"
          ]
        },
        {
          "output_type": "stream",
          "name": "stderr",
          "text": [
            " 63%|██████▎   | 182/290 [03:03<01:48,  1.00s/it, loss=0.0729]"
          ]
        },
        {
          "output_type": "stream",
          "name": "stdout",
          "text": [
            "[\n",
            "]\n"
          ]
        },
        {
          "output_type": "stream",
          "name": "stderr",
          "text": [
            " 64%|██████▍   | 186/290 [03:07<01:46,  1.02s/it, loss=0.0748]"
          ]
        },
        {
          "output_type": "stream",
          "name": "stdout",
          "text": [
            ">\n",
            ">\n"
          ]
        },
        {
          "output_type": "stream",
          "name": "stderr",
          "text": [
            " 77%|███████▋  | 224/290 [03:48<01:06,  1.01s/it, loss=0.0787]"
          ]
        },
        {
          "output_type": "stream",
          "name": "stdout",
          "text": [
            "]\n",
            "[\n",
            "]\n"
          ]
        },
        {
          "output_type": "stream",
          "name": "stderr",
          "text": [
            " 78%|███████▊  | 227/290 [03:51<01:04,  1.02s/it, loss=0.0667]"
          ]
        },
        {
          "output_type": "stream",
          "name": "stdout",
          "text": [
            "[\n",
            "]\n"
          ]
        },
        {
          "output_type": "stream",
          "name": "stderr",
          "text": [
            " 80%|████████  | 232/290 [03:56<00:57,  1.00it/s, loss=0.0547]"
          ]
        },
        {
          "output_type": "stream",
          "name": "stdout",
          "text": [
            ">\n",
            ">\n"
          ]
        },
        {
          "output_type": "stream",
          "name": "stderr",
          "text": [
            " 87%|████████▋ | 251/290 [04:15<00:38,  1.00it/s, loss=0.0603]"
          ]
        },
        {
          "output_type": "stream",
          "name": "stdout",
          "text": [
            "*\n",
            "*\n",
            "*\n"
          ]
        },
        {
          "output_type": "stream",
          "name": "stderr",
          "text": [
            " 88%|████████▊ | 255/290 [04:19<00:36,  1.03s/it, loss=0.0604]"
          ]
        },
        {
          "output_type": "stream",
          "name": "stdout",
          "text": [
            ">\n"
          ]
        },
        {
          "output_type": "stream",
          "name": "stderr",
          "text": [
            " 91%|█████████▏| 265/290 [04:29<00:25,  1.03s/it, loss=0.0525]"
          ]
        },
        {
          "output_type": "stream",
          "name": "stdout",
          "text": [
            "*\n",
            "*\n",
            "*\n"
          ]
        },
        {
          "output_type": "stream",
          "name": "stderr",
          "text": [
            " 92%|█████████▏| 266/290 [04:30<00:24,  1.04s/it, loss=0.0615]"
          ]
        },
        {
          "output_type": "stream",
          "name": "stdout",
          "text": [
            "[\n",
            "]\n"
          ]
        },
        {
          "output_type": "stream",
          "name": "stderr",
          "text": [
            " 92%|█████████▏| 268/290 [04:32<00:23,  1.08s/it, loss=0.0597]"
          ]
        },
        {
          "output_type": "stream",
          "name": "stdout",
          "text": [
            ">\n",
            ">\n"
          ]
        },
        {
          "output_type": "stream",
          "name": "stderr",
          "text": [
            " 99%|█████████▊| 286/290 [04:51<00:04,  1.01s/it, loss=0.0613]"
          ]
        },
        {
          "output_type": "stream",
          "name": "stdout",
          "text": [
            ">\n",
            ">\n",
            ">\n"
          ]
        },
        {
          "output_type": "stream",
          "name": "stderr",
          "text": [
            "100%|██████████| 290/290 [04:54<00:00,  1.02s/it, loss=0.0737]\n",
            "  2%|▏         | 6/290 [00:06<04:42,  1.00it/s, loss=0.0676]"
          ]
        },
        {
          "output_type": "stream",
          "name": "stdout",
          "text": [
            ">\n",
            ">\n",
            ">\n",
            ">\n"
          ]
        },
        {
          "output_type": "stream",
          "name": "stderr",
          "text": [
            "  9%|▉         | 27/290 [00:27<04:23,  1.00s/it, loss=0.0425]"
          ]
        },
        {
          "output_type": "stream",
          "name": "stdout",
          "text": [
            "[\n",
            "]\n"
          ]
        },
        {
          "output_type": "stream",
          "name": "stderr",
          "text": [
            " 15%|█▌        | 44/290 [00:44<04:06,  1.00s/it, loss=0.0566]"
          ]
        },
        {
          "output_type": "stream",
          "name": "stdout",
          "text": [
            "]\n",
            "[\n",
            "]\n"
          ]
        },
        {
          "output_type": "stream",
          "name": "stderr",
          "text": [
            " 17%|█▋        | 48/290 [00:48<04:01,  1.00it/s, loss=0.062]"
          ]
        },
        {
          "output_type": "stream",
          "name": "stdout",
          "text": [
            "]\n"
          ]
        },
        {
          "output_type": "stream",
          "name": "stderr",
          "text": [
            " 17%|█▋        | 49/290 [00:49<04:03,  1.01s/it, loss=0.0555]"
          ]
        },
        {
          "output_type": "stream",
          "name": "stdout",
          "text": [
            "[\n"
          ]
        },
        {
          "output_type": "stream",
          "name": "stderr",
          "text": [
            " 19%|█▉        | 55/290 [00:55<03:53,  1.01it/s, loss=0.053]"
          ]
        },
        {
          "output_type": "stream",
          "name": "stdout",
          "text": [
            ">\n",
            ">\n"
          ]
        },
        {
          "output_type": "stream",
          "name": "stderr",
          "text": [
            " 22%|██▏       | 63/290 [01:03<03:46,  1.00it/s, loss=0.0531]"
          ]
        },
        {
          "output_type": "stream",
          "name": "stdout",
          "text": [
            ">\n",
            ">\n"
          ]
        },
        {
          "output_type": "stream",
          "name": "stderr",
          "text": [
            " 27%|██▋       | 78/290 [01:18<03:29,  1.01it/s, loss=0.0551]"
          ]
        },
        {
          "output_type": "stream",
          "name": "stdout",
          "text": [
            "<\n"
          ]
        },
        {
          "output_type": "stream",
          "name": "stderr",
          "text": [
            " 29%|██▊       | 83/290 [01:23<03:26,  1.00it/s, loss=0.0744]"
          ]
        },
        {
          "output_type": "stream",
          "name": "stdout",
          "text": [
            "<\n"
          ]
        },
        {
          "output_type": "stream",
          "name": "stderr",
          "text": [
            " 29%|██▉       | 84/290 [01:24<03:26,  1.00s/it, loss=0.0417]"
          ]
        },
        {
          "output_type": "stream",
          "name": "stdout",
          "text": [
            "*\n",
            "*\n",
            "*\n"
          ]
        },
        {
          "output_type": "stream",
          "name": "stderr",
          "text": [
            " 33%|███▎      | 97/290 [01:37<03:14,  1.01s/it, loss=0.0775]"
          ]
        },
        {
          "output_type": "stream",
          "name": "stdout",
          "text": [
            ">\n"
          ]
        },
        {
          "output_type": "stream",
          "name": "stderr",
          "text": [
            " 35%|███▍      | 101/290 [01:41<03:08,  1.00it/s, loss=0.0531]"
          ]
        },
        {
          "output_type": "stream",
          "name": "stdout",
          "text": [
            "[\n",
            "]\n"
          ]
        },
        {
          "output_type": "stream",
          "name": "stderr",
          "text": [
            " 37%|███▋      | 107/290 [01:47<03:03,  1.01s/it, loss=0.0575]"
          ]
        },
        {
          "output_type": "stream",
          "name": "stdout",
          "text": [
            ">\n",
            ">\n"
          ]
        },
        {
          "output_type": "stream",
          "name": "stderr",
          "text": [
            " 39%|███▉      | 114/290 [01:54<02:55,  1.00it/s, loss=0.0712]"
          ]
        },
        {
          "output_type": "stream",
          "name": "stdout",
          "text": [
            ">\n",
            ">\n"
          ]
        },
        {
          "output_type": "stream",
          "name": "stderr",
          "text": [
            " 40%|████      | 116/290 [01:56<02:55,  1.01s/it, loss=0.0553]"
          ]
        },
        {
          "output_type": "stream",
          "name": "stdout",
          "text": [
            ">\n",
            ">\n"
          ]
        },
        {
          "output_type": "stream",
          "name": "stderr",
          "text": [
            " 45%|████▌     | 131/290 [02:11<02:38,  1.01it/s, loss=0.236]"
          ]
        },
        {
          "output_type": "stream",
          "name": "stdout",
          "text": [
            "*\n",
            "*\n",
            "*\n"
          ]
        },
        {
          "output_type": "stream",
          "name": "stderr",
          "text": [
            " 50%|█████     | 146/290 [02:26<02:21,  1.02it/s, loss=0.141]"
          ]
        },
        {
          "output_type": "stream",
          "name": "stdout",
          "text": [
            ">\n",
            ">\n"
          ]
        },
        {
          "output_type": "stream",
          "name": "stderr",
          "text": [
            " 53%|█████▎    | 154/290 [02:35<02:25,  1.07s/it, loss=0.141]"
          ]
        },
        {
          "output_type": "stream",
          "name": "stdout",
          "text": [
            "[\n",
            "]\n"
          ]
        },
        {
          "output_type": "stream",
          "name": "stderr",
          "text": [
            " 64%|██████▍   | 185/290 [03:06<01:44,  1.00it/s, loss=0.0849]"
          ]
        },
        {
          "output_type": "stream",
          "name": "stdout",
          "text": [
            ">\n",
            ">\n"
          ]
        },
        {
          "output_type": "stream",
          "name": "stderr",
          "text": [
            " 64%|██████▍   | 187/290 [03:08<01:45,  1.02s/it, loss=0.123]"
          ]
        },
        {
          "output_type": "stream",
          "name": "stdout",
          "text": [
            ">\n",
            ">\n"
          ]
        },
        {
          "output_type": "stream",
          "name": "stderr",
          "text": [
            " 67%|██████▋   | 194/290 [03:15<01:37,  1.02s/it, loss=0.0945]"
          ]
        },
        {
          "output_type": "stream",
          "name": "stdout",
          "text": [
            "]\n",
            "[\n",
            "]\n"
          ]
        },
        {
          "output_type": "stream",
          "name": "stderr",
          "text": [
            " 70%|██████▉   | 202/290 [03:23<01:27,  1.00it/s, loss=0.111]"
          ]
        },
        {
          "output_type": "stream",
          "name": "stdout",
          "text": [
            "[\n"
          ]
        },
        {
          "output_type": "stream",
          "name": "stderr",
          "text": [
            " 72%|███████▏  | 208/290 [03:29<01:22,  1.00s/it, loss=0.115]"
          ]
        },
        {
          "output_type": "stream",
          "name": "stdout",
          "text": [
            "*\n",
            "*\n",
            "*\n"
          ]
        },
        {
          "output_type": "stream",
          "name": "stderr",
          "text": [
            " 72%|███████▏  | 209/290 [03:30<01:21,  1.01s/it, loss=0.0742]"
          ]
        },
        {
          "output_type": "stream",
          "name": "stdout",
          "text": [
            ">\n"
          ]
        },
        {
          "output_type": "stream",
          "name": "stderr",
          "text": [
            " 74%|███████▍  | 216/290 [03:37<01:15,  1.02s/it, loss=0.0962]"
          ]
        },
        {
          "output_type": "stream",
          "name": "stdout",
          "text": [
            "*\n",
            "*\n",
            "*\n"
          ]
        },
        {
          "output_type": "stream",
          "name": "stderr",
          "text": [
            " 81%|████████  | 234/290 [03:55<00:55,  1.01it/s, loss=0.492]"
          ]
        },
        {
          "output_type": "stream",
          "name": "stdout",
          "text": [
            ">\n"
          ]
        },
        {
          "output_type": "stream",
          "name": "stderr",
          "text": [
            " 83%|████████▎ | 241/290 [04:02<00:49,  1.00s/it, loss=2.39]"
          ]
        },
        {
          "output_type": "stream",
          "name": "stdout",
          "text": [
            "[\n",
            "]\n"
          ]
        },
        {
          "output_type": "stream",
          "name": "stderr",
          "text": [
            " 83%|████████▎ | 242/290 [04:03<00:47,  1.01it/s, loss=2.57]"
          ]
        },
        {
          "output_type": "stream",
          "name": "stdout",
          "text": [
            "]\n"
          ]
        },
        {
          "output_type": "stream",
          "name": "stderr",
          "text": [
            " 84%|████████▍ | 244/290 [04:05<00:45,  1.00it/s, loss=1.81]"
          ]
        },
        {
          "output_type": "stream",
          "name": "stdout",
          "text": [
            ">\n",
            ">\n",
            ">\n"
          ]
        },
        {
          "output_type": "stream",
          "name": "stderr",
          "text": [
            " 85%|████████▍ | 246/290 [04:07<00:43,  1.01it/s, loss=2.48]"
          ]
        },
        {
          "output_type": "stream",
          "name": "stdout",
          "text": [
            "[\n"
          ]
        },
        {
          "output_type": "stream",
          "name": "stderr",
          "text": [
            " 92%|█████████▏| 266/290 [04:27<00:23,  1.00it/s, loss=1.74]"
          ]
        },
        {
          "output_type": "stream",
          "name": "stdout",
          "text": [
            "[\n"
          ]
        },
        {
          "output_type": "stream",
          "name": "stderr",
          "text": [
            "100%|██████████| 290/290 [04:52<00:00,  1.01s/it, loss=0.904]\n"
          ]
        },
        {
          "output_type": "stream",
          "name": "stdout",
          "text": [
            "checkpoint_ep21.pth.tar saved\n"
          ]
        },
        {
          "output_type": "stream",
          "name": "stderr",
          "text": [
            "  2%|▏         | 5/290 [00:05<04:51,  1.02s/it, loss=0.927]"
          ]
        },
        {
          "output_type": "stream",
          "name": "stdout",
          "text": [
            "*\n",
            "*\n",
            "*\n"
          ]
        },
        {
          "output_type": "stream",
          "name": "stderr",
          "text": [
            "  4%|▍         | 12/290 [00:12<04:43,  1.02s/it, loss=0.748]"
          ]
        },
        {
          "output_type": "stream",
          "name": "stdout",
          "text": [
            "*\n",
            "*\n",
            "*\n"
          ]
        },
        {
          "output_type": "stream",
          "name": "stderr",
          "text": [
            "  9%|▉         | 27/290 [00:27<04:31,  1.03s/it, loss=0.653]"
          ]
        },
        {
          "output_type": "stream",
          "name": "stdout",
          "text": [
            ">\n",
            ">\n"
          ]
        },
        {
          "output_type": "stream",
          "name": "stderr",
          "text": [
            " 11%|█         | 32/290 [00:32<04:18,  1.00s/it, loss=0.693]"
          ]
        },
        {
          "output_type": "stream",
          "name": "stdout",
          "text": [
            ">\n",
            ">\n"
          ]
        },
        {
          "output_type": "stream",
          "name": "stderr",
          "text": [
            " 13%|█▎        | 37/290 [00:37<04:20,  1.03s/it, loss=1.82]"
          ]
        },
        {
          "output_type": "stream",
          "name": "stdout",
          "text": [
            "*\n",
            "*\n",
            "*\n"
          ]
        },
        {
          "output_type": "stream",
          "name": "stderr",
          "text": [
            " 16%|█▌        | 46/290 [00:46<04:03,  1.00it/s, loss=1.55]"
          ]
        },
        {
          "output_type": "stream",
          "name": "stdout",
          "text": [
            "[\n",
            "]\n"
          ]
        },
        {
          "output_type": "stream",
          "name": "stderr",
          "text": [
            " 22%|██▏       | 63/290 [01:03<03:48,  1.01s/it, loss=0.823]"
          ]
        },
        {
          "output_type": "stream",
          "name": "stdout",
          "text": [
            ">\n",
            ">\n"
          ]
        },
        {
          "output_type": "stream",
          "name": "stderr",
          "text": [
            " 24%|██▍       | 69/290 [01:09<03:42,  1.01s/it, loss=0.698]"
          ]
        },
        {
          "output_type": "stream",
          "name": "stdout",
          "text": [
            "]\n",
            "[\n",
            "]\n"
          ]
        },
        {
          "output_type": "stream",
          "name": "stderr",
          "text": [
            " 25%|██▍       | 72/290 [01:13<03:41,  1.02s/it, loss=0.9]"
          ]
        },
        {
          "output_type": "stream",
          "name": "stdout",
          "text": [
            ">\n"
          ]
        },
        {
          "output_type": "stream",
          "name": "stderr",
          "text": [
            " 25%|██▌       | 73/290 [01:14<03:40,  1.02s/it, loss=0.784]"
          ]
        },
        {
          "output_type": "stream",
          "name": "stdout",
          "text": [
            ">\n",
            ">\n"
          ]
        },
        {
          "output_type": "stream",
          "name": "stderr",
          "text": [
            " 28%|██▊       | 81/290 [01:22<03:27,  1.01it/s, loss=1.06]"
          ]
        },
        {
          "output_type": "stream",
          "name": "stdout",
          "text": [
            "[\n",
            "]\n",
            ">\n",
            ">\n"
          ]
        },
        {
          "output_type": "stream",
          "name": "stderr",
          "text": [
            " 29%|██▉       | 85/290 [01:26<03:25,  1.00s/it, loss=0.561]"
          ]
        },
        {
          "output_type": "stream",
          "name": "stdout",
          "text": [
            ">\n"
          ]
        },
        {
          "output_type": "stream",
          "name": "stderr",
          "text": [
            " 31%|███       | 90/290 [01:31<03:21,  1.01s/it, loss=0.558]"
          ]
        },
        {
          "output_type": "stream",
          "name": "stdout",
          "text": [
            "<\n"
          ]
        },
        {
          "output_type": "stream",
          "name": "stderr",
          "text": [
            " 34%|███▍      | 100/290 [01:41<03:08,  1.01it/s, loss=0.678]"
          ]
        },
        {
          "output_type": "stream",
          "name": "stdout",
          "text": [
            "*\n",
            "*\n",
            "*\n"
          ]
        },
        {
          "output_type": "stream",
          "name": "stderr",
          "text": [
            " 36%|███▌      | 104/290 [01:45<03:08,  1.01s/it, loss=0.61]"
          ]
        },
        {
          "output_type": "stream",
          "name": "stdout",
          "text": [
            ">\n",
            ">\n",
            ">\n"
          ]
        },
        {
          "output_type": "stream",
          "name": "stderr",
          "text": [
            " 36%|███▌      | 105/290 [01:46<03:09,  1.02s/it, loss=0.534]"
          ]
        },
        {
          "output_type": "stream",
          "name": "stdout",
          "text": [
            "[\n",
            "]\n"
          ]
        },
        {
          "output_type": "stream",
          "name": "stderr",
          "text": [
            " 42%|████▏     | 122/290 [02:03<02:55,  1.04s/it, loss=0.466]"
          ]
        },
        {
          "output_type": "stream",
          "name": "stdout",
          "text": [
            ">\n",
            ">\n"
          ]
        },
        {
          "output_type": "stream",
          "name": "stderr",
          "text": [
            " 52%|█████▏    | 152/290 [02:33<02:15,  1.02it/s, loss=1.35]"
          ]
        },
        {
          "output_type": "stream",
          "name": "stdout",
          "text": [
            ">\n",
            ">\n"
          ]
        },
        {
          "output_type": "stream",
          "name": "stderr",
          "text": [
            " 55%|█████▍    | 159/290 [02:40<02:09,  1.01it/s, loss=1.08]"
          ]
        },
        {
          "output_type": "stream",
          "name": "stdout",
          "text": [
            "<\n"
          ]
        },
        {
          "output_type": "stream",
          "name": "stderr",
          "text": [
            " 60%|█████▉    | 173/290 [02:54<01:55,  1.01it/s, loss=0.683]"
          ]
        },
        {
          "output_type": "stream",
          "name": "stdout",
          "text": [
            ">\n",
            ">\n"
          ]
        },
        {
          "output_type": "stream",
          "name": "stderr",
          "text": [
            " 62%|██████▏   | 179/290 [03:00<01:50,  1.01it/s, loss=0.725]"
          ]
        },
        {
          "output_type": "stream",
          "name": "stdout",
          "text": [
            "[\n",
            "]\n"
          ]
        },
        {
          "output_type": "stream",
          "name": "stderr",
          "text": [
            " 70%|███████   | 203/290 [03:24<01:29,  1.03s/it, loss=1.18]"
          ]
        },
        {
          "output_type": "stream",
          "name": "stdout",
          "text": [
            ">\n",
            ">\n"
          ]
        },
        {
          "output_type": "stream",
          "name": "stderr",
          "text": [
            " 71%|███████▏  | 207/290 [03:28<01:24,  1.01s/it, loss=0.975]"
          ]
        },
        {
          "output_type": "stream",
          "name": "stdout",
          "text": [
            "[\n"
          ]
        },
        {
          "output_type": "stream",
          "name": "stderr",
          "text": [
            " 76%|███████▌  | 219/290 [03:41<01:13,  1.04s/it, loss=0.766]"
          ]
        },
        {
          "output_type": "stream",
          "name": "stdout",
          "text": [
            "[\n"
          ]
        },
        {
          "output_type": "stream",
          "name": "stderr",
          "text": [
            " 79%|███████▊  | 228/290 [03:50<01:03,  1.02s/it, loss=1.1]"
          ]
        },
        {
          "output_type": "stream",
          "name": "stdout",
          "text": [
            "]\n",
            "[\n",
            "]\n"
          ]
        },
        {
          "output_type": "stream",
          "name": "stderr",
          "text": [
            " 79%|███████▉  | 229/290 [03:51<01:01,  1.01s/it, loss=0.578]"
          ]
        },
        {
          "output_type": "stream",
          "name": "stdout",
          "text": [
            ">\n"
          ]
        },
        {
          "output_type": "stream",
          "name": "stderr",
          "text": [
            " 83%|████████▎ | 240/290 [04:02<00:51,  1.02s/it, loss=0.675]"
          ]
        },
        {
          "output_type": "stream",
          "name": "stdout",
          "text": [
            "]\n"
          ]
        },
        {
          "output_type": "stream",
          "name": "stderr",
          "text": [
            " 84%|████████▍ | 244/290 [04:06<00:46,  1.01s/it, loss=0.78]"
          ]
        },
        {
          "output_type": "stream",
          "name": "stdout",
          "text": [
            "[\n"
          ]
        },
        {
          "output_type": "stream",
          "name": "stderr",
          "text": [
            " 88%|████████▊ | 256/290 [04:18<00:34,  1.02s/it, loss=1.18]"
          ]
        },
        {
          "output_type": "stream",
          "name": "stdout",
          "text": [
            ">\n",
            ">\n"
          ]
        },
        {
          "output_type": "stream",
          "name": "stderr",
          "text": [
            " 97%|█████████▋| 282/290 [04:44<00:07,  1.00it/s, loss=0.443]"
          ]
        },
        {
          "output_type": "stream",
          "name": "stdout",
          "text": [
            "[\n"
          ]
        },
        {
          "output_type": "stream",
          "name": "stderr",
          "text": [
            "100%|█████████▉| 289/290 [04:51<00:01,  1.00s/it, loss=0.499]"
          ]
        },
        {
          "output_type": "stream",
          "name": "stdout",
          "text": [
            "]\n"
          ]
        },
        {
          "output_type": "stream",
          "name": "stderr",
          "text": [
            "100%|██████████| 290/290 [04:52<00:00,  1.01s/it, loss=0.417]\n",
            "  8%|▊         | 22/290 [00:22<04:28,  1.00s/it, loss=0.429]"
          ]
        },
        {
          "output_type": "stream",
          "name": "stdout",
          "text": [
            "[\n",
            "]\n"
          ]
        },
        {
          "output_type": "stream",
          "name": "stderr",
          "text": [
            "  8%|▊         | 24/290 [00:24<04:31,  1.02s/it, loss=0.42]"
          ]
        },
        {
          "output_type": "stream",
          "name": "stdout",
          "text": [
            "[\n",
            "]\n",
            ">\n"
          ]
        },
        {
          "output_type": "stream",
          "name": "stderr",
          "text": [
            " 10%|█         | 30/290 [00:30<04:18,  1.00it/s, loss=0.579]"
          ]
        },
        {
          "output_type": "stream",
          "name": "stdout",
          "text": [
            "*\n",
            "*\n",
            "*\n"
          ]
        },
        {
          "output_type": "stream",
          "name": "stderr",
          "text": [
            " 12%|█▏        | 36/290 [00:36<04:10,  1.02it/s, loss=0.39]"
          ]
        },
        {
          "output_type": "stream",
          "name": "stdout",
          "text": [
            ">\n",
            ">\n",
            "]\n",
            "[\n",
            "]\n"
          ]
        },
        {
          "output_type": "stream",
          "name": "stderr",
          "text": [
            " 13%|█▎        | 38/290 [00:38<04:22,  1.04s/it, loss=0.453]"
          ]
        },
        {
          "output_type": "stream",
          "name": "stdout",
          "text": [
            ">\n",
            ">\n"
          ]
        },
        {
          "output_type": "stream",
          "name": "stderr",
          "text": [
            " 15%|█▌        | 44/290 [00:44<04:06,  1.00s/it, loss=0.518]"
          ]
        },
        {
          "output_type": "stream",
          "name": "stdout",
          "text": [
            "<\n"
          ]
        },
        {
          "output_type": "stream",
          "name": "stderr",
          "text": [
            " 23%|██▎       | 68/290 [01:08<03:42,  1.00s/it, loss=0.428]"
          ]
        },
        {
          "output_type": "stream",
          "name": "stdout",
          "text": [
            ">\n",
            ">\n"
          ]
        },
        {
          "output_type": "stream",
          "name": "stderr",
          "text": [
            " 24%|██▍       | 71/290 [01:11<03:41,  1.01s/it, loss=0.366]"
          ]
        },
        {
          "output_type": "stream",
          "name": "stdout",
          "text": [
            "<\n"
          ]
        },
        {
          "output_type": "stream",
          "name": "stderr",
          "text": [
            " 26%|██▌       | 76/290 [01:17<03:34,  1.00s/it, loss=0.365]"
          ]
        },
        {
          "output_type": "stream",
          "name": "stdout",
          "text": [
            ">\n",
            ">\n"
          ]
        },
        {
          "output_type": "stream",
          "name": "stderr",
          "text": [
            " 33%|███▎      | 96/290 [01:37<03:16,  1.01s/it, loss=0.313]"
          ]
        },
        {
          "output_type": "stream",
          "name": "stdout",
          "text": [
            "[\n",
            "]\n"
          ]
        },
        {
          "output_type": "stream",
          "name": "stderr",
          "text": [
            " 36%|███▌      | 103/290 [01:44<03:13,  1.03s/it, loss=0.303]"
          ]
        },
        {
          "output_type": "stream",
          "name": "stdout",
          "text": [
            "[\n"
          ]
        },
        {
          "output_type": "stream",
          "name": "stderr",
          "text": [
            " 38%|███▊      | 110/290 [01:51<03:02,  1.01s/it, loss=0.328]"
          ]
        },
        {
          "output_type": "stream",
          "name": "stdout",
          "text": [
            "]\n",
            "[\n",
            "]\n"
          ]
        },
        {
          "output_type": "stream",
          "name": "stderr",
          "text": [
            " 42%|████▏     | 122/290 [02:03<02:51,  1.02s/it, loss=0.317]"
          ]
        },
        {
          "output_type": "stream",
          "name": "stdout",
          "text": [
            ">\n",
            ">\n",
            ">\n"
          ]
        },
        {
          "output_type": "stream",
          "name": "stderr",
          "text": [
            " 50%|█████     | 145/290 [02:26<02:27,  1.02s/it, loss=0.324]"
          ]
        },
        {
          "output_type": "stream",
          "name": "stdout",
          "text": [
            "[\n"
          ]
        },
        {
          "output_type": "stream",
          "name": "stderr",
          "text": [
            " 52%|█████▏    | 151/290 [02:32<02:19,  1.00s/it, loss=0.357]"
          ]
        },
        {
          "output_type": "stream",
          "name": "stdout",
          "text": [
            "*\n",
            "*\n",
            "*\n"
          ]
        },
        {
          "output_type": "stream",
          "name": "stderr",
          "text": [
            " 56%|█████▌    | 162/290 [02:43<02:11,  1.03s/it, loss=0.335]"
          ]
        },
        {
          "output_type": "stream",
          "name": "stdout",
          "text": [
            ">\n",
            ">\n"
          ]
        },
        {
          "output_type": "stream",
          "name": "stderr",
          "text": [
            " 56%|█████▌    | 163/290 [02:44<02:09,  1.02s/it, loss=0.35]"
          ]
        },
        {
          "output_type": "stream",
          "name": "stdout",
          "text": [
            "]\n"
          ]
        },
        {
          "output_type": "stream",
          "name": "stderr",
          "text": [
            " 58%|█████▊    | 168/290 [02:49<02:00,  1.01it/s, loss=0.354]"
          ]
        },
        {
          "output_type": "stream",
          "name": "stdout",
          "text": [
            "[\n",
            "]\n"
          ]
        },
        {
          "output_type": "stream",
          "name": "stderr",
          "text": [
            " 61%|██████    | 177/290 [02:58<01:54,  1.02s/it, loss=0.319]"
          ]
        },
        {
          "output_type": "stream",
          "name": "stdout",
          "text": [
            "]\n"
          ]
        },
        {
          "output_type": "stream",
          "name": "stderr",
          "text": [
            " 69%|██████▊   | 199/290 [03:20<01:30,  1.00it/s, loss=0.268]"
          ]
        },
        {
          "output_type": "stream",
          "name": "stdout",
          "text": [
            "[\n"
          ]
        },
        {
          "output_type": "stream",
          "name": "stderr",
          "text": [
            " 71%|███████▏  | 207/290 [03:28<01:22,  1.01it/s, loss=0.274]"
          ]
        },
        {
          "output_type": "stream",
          "name": "stdout",
          "text": [
            ">\n",
            ">\n"
          ]
        },
        {
          "output_type": "stream",
          "name": "stderr",
          "text": [
            " 73%|███████▎  | 211/290 [03:32<01:19,  1.01s/it, loss=0.249]"
          ]
        },
        {
          "output_type": "stream",
          "name": "stdout",
          "text": [
            "*\n",
            "*\n",
            "*\n"
          ]
        },
        {
          "output_type": "stream",
          "name": "stderr",
          "text": [
            " 73%|███████▎  | 213/290 [03:34<01:16,  1.01it/s, loss=0.258]"
          ]
        },
        {
          "output_type": "stream",
          "name": "stdout",
          "text": [
            "[\n"
          ]
        },
        {
          "output_type": "stream",
          "name": "stderr",
          "text": [
            " 74%|███████▍  | 215/290 [03:36<01:14,  1.01it/s, loss=0.315]"
          ]
        },
        {
          "output_type": "stream",
          "name": "stdout",
          "text": [
            ">\n",
            ">\n"
          ]
        },
        {
          "output_type": "stream",
          "name": "stderr",
          "text": [
            " 77%|███████▋  | 224/290 [03:45<01:08,  1.04s/it, loss=0.252]"
          ]
        },
        {
          "output_type": "stream",
          "name": "stdout",
          "text": [
            "*\n",
            "*\n",
            "*\n"
          ]
        },
        {
          "output_type": "stream",
          "name": "stderr",
          "text": [
            " 83%|████████▎ | 242/290 [04:04<00:48,  1.01s/it, loss=0.288]"
          ]
        },
        {
          "output_type": "stream",
          "name": "stdout",
          "text": [
            ">\n"
          ]
        },
        {
          "output_type": "stream",
          "name": "stderr",
          "text": [
            " 89%|████████▉ | 258/290 [04:20<00:32,  1.03s/it, loss=0.265]"
          ]
        },
        {
          "output_type": "stream",
          "name": "stdout",
          "text": [
            ">\n",
            ">\n"
          ]
        },
        {
          "output_type": "stream",
          "name": "stderr",
          "text": [
            " 96%|█████████▌| 279/290 [04:41<00:10,  1.00it/s, loss=0.291]"
          ]
        },
        {
          "output_type": "stream",
          "name": "stdout",
          "text": [
            ">\n",
            ">\n"
          ]
        },
        {
          "output_type": "stream",
          "name": "stderr",
          "text": [
            " 99%|█████████▉| 287/290 [04:49<00:02,  1.00it/s, loss=0.24]"
          ]
        },
        {
          "output_type": "stream",
          "name": "stdout",
          "text": [
            ">\n",
            ">\n",
            ">\n"
          ]
        },
        {
          "output_type": "stream",
          "name": "stderr",
          "text": [
            "100%|██████████| 290/290 [04:51<00:00,  1.01s/it, loss=0.278]\n"
          ]
        },
        {
          "output_type": "stream",
          "name": "stdout",
          "text": [
            "checkpoint_ep23.pth.tar saved\n"
          ]
        },
        {
          "output_type": "stream",
          "name": "stderr",
          "text": [
            "  4%|▍         | 11/290 [00:10<04:34,  1.02it/s, loss=0.28]"
          ]
        },
        {
          "output_type": "stream",
          "name": "stdout",
          "text": [
            ">\n"
          ]
        },
        {
          "output_type": "stream",
          "name": "stderr",
          "text": [
            "  5%|▌         | 15/290 [00:14<04:29,  1.02it/s, loss=0.267]"
          ]
        },
        {
          "output_type": "stream",
          "name": "stdout",
          "text": [
            "[\n",
            "]\n"
          ]
        },
        {
          "output_type": "stream",
          "name": "stderr",
          "text": [
            "  7%|▋         | 21/290 [00:20<04:27,  1.01it/s, loss=0.235]"
          ]
        },
        {
          "output_type": "stream",
          "name": "stdout",
          "text": [
            ">\n",
            ">\n"
          ]
        },
        {
          "output_type": "stream",
          "name": "stderr",
          "text": [
            "  9%|▊         | 25/290 [00:25<04:31,  1.02s/it, loss=0.208]"
          ]
        },
        {
          "output_type": "stream",
          "name": "stdout",
          "text": [
            ">\n",
            ">\n"
          ]
        },
        {
          "output_type": "stream",
          "name": "stderr",
          "text": [
            "  9%|▉         | 27/290 [00:27<04:27,  1.02s/it, loss=0.237]"
          ]
        },
        {
          "output_type": "stream",
          "name": "stdout",
          "text": [
            ">\n",
            ">\n"
          ]
        },
        {
          "output_type": "stream",
          "name": "stderr",
          "text": [
            " 10%|█         | 29/290 [00:29<04:24,  1.01s/it, loss=0.247]"
          ]
        },
        {
          "output_type": "stream",
          "name": "stdout",
          "text": [
            "[\n",
            "]\n"
          ]
        },
        {
          "output_type": "stream",
          "name": "stderr",
          "text": [
            " 11%|█         | 32/290 [00:32<04:23,  1.02s/it, loss=0.239]"
          ]
        },
        {
          "output_type": "stream",
          "name": "stdout",
          "text": [
            ">\n"
          ]
        },
        {
          "output_type": "stream",
          "name": "stderr",
          "text": [
            " 15%|█▍        | 43/290 [00:43<04:05,  1.01it/s, loss=0.274]"
          ]
        },
        {
          "output_type": "stream",
          "name": "stdout",
          "text": [
            ">\n",
            ">\n"
          ]
        },
        {
          "output_type": "stream",
          "name": "stderr",
          "text": [
            " 16%|█▌        | 45/290 [00:45<04:01,  1.02it/s, loss=0.27]"
          ]
        },
        {
          "output_type": "stream",
          "name": "stdout",
          "text": [
            "*\n",
            "*\n",
            "*\n"
          ]
        },
        {
          "output_type": "stream",
          "name": "stderr",
          "text": [
            " 16%|█▌        | 47/290 [00:47<03:59,  1.01it/s, loss=0.275]"
          ]
        },
        {
          "output_type": "stream",
          "name": "stdout",
          "text": [
            ">\n",
            ">\n"
          ]
        },
        {
          "output_type": "stream",
          "name": "stderr",
          "text": [
            " 18%|█▊        | 51/290 [00:51<03:54,  1.02it/s, loss=0.26]"
          ]
        },
        {
          "output_type": "stream",
          "name": "stdout",
          "text": [
            ">\n",
            ">\n",
            ">\n"
          ]
        },
        {
          "output_type": "stream",
          "name": "stderr",
          "text": [
            " 19%|█▉        | 56/290 [00:56<03:56,  1.01s/it, loss=0.232]"
          ]
        },
        {
          "output_type": "stream",
          "name": "stdout",
          "text": [
            ">\n",
            ">\n"
          ]
        },
        {
          "output_type": "stream",
          "name": "stderr",
          "text": [
            " 20%|██        | 58/290 [00:58<03:53,  1.01s/it, loss=0.244]"
          ]
        },
        {
          "output_type": "stream",
          "name": "stdout",
          "text": [
            "[\n"
          ]
        },
        {
          "output_type": "stream",
          "name": "stderr",
          "text": [
            " 20%|██        | 59/290 [00:59<03:50,  1.00it/s, loss=0.29]"
          ]
        },
        {
          "output_type": "stream",
          "name": "stdout",
          "text": [
            ">\n",
            ">\n"
          ]
        },
        {
          "output_type": "stream",
          "name": "stderr",
          "text": [
            " 21%|██        | 61/290 [01:00<03:44,  1.02it/s, loss=0.265]"
          ]
        },
        {
          "output_type": "stream",
          "name": "stdout",
          "text": [
            "]\n",
            "[\n",
            "]\n"
          ]
        },
        {
          "output_type": "stream",
          "name": "stderr",
          "text": [
            " 32%|███▏      | 92/290 [01:31<03:18,  1.00s/it, loss=0.254]"
          ]
        },
        {
          "output_type": "stream",
          "name": "stdout",
          "text": [
            ">\n",
            ">\n"
          ]
        },
        {
          "output_type": "stream",
          "name": "stderr",
          "text": [
            " 34%|███▍      | 100/290 [01:39<03:07,  1.01it/s, loss=0.205]"
          ]
        },
        {
          "output_type": "stream",
          "name": "stdout",
          "text": [
            "]\n"
          ]
        },
        {
          "output_type": "stream",
          "name": "stderr",
          "text": [
            " 38%|███▊      | 110/290 [01:49<02:58,  1.01it/s, loss=0.223]"
          ]
        },
        {
          "output_type": "stream",
          "name": "stdout",
          "text": [
            "<\n"
          ]
        },
        {
          "output_type": "stream",
          "name": "stderr",
          "text": [
            " 40%|████      | 117/290 [01:56<02:52,  1.00it/s, loss=0.202]"
          ]
        },
        {
          "output_type": "stream",
          "name": "stdout",
          "text": [
            ">\n"
          ]
        },
        {
          "output_type": "stream",
          "name": "stderr",
          "text": [
            " 43%|████▎     | 124/290 [02:03<02:42,  1.02it/s, loss=0.201]"
          ]
        },
        {
          "output_type": "stream",
          "name": "stdout",
          "text": [
            "[\n",
            "]\n"
          ]
        },
        {
          "output_type": "stream",
          "name": "stderr",
          "text": [
            " 44%|████▍     | 127/290 [02:06<02:40,  1.01it/s, loss=0.232]"
          ]
        },
        {
          "output_type": "stream",
          "name": "stdout",
          "text": [
            "[\n"
          ]
        },
        {
          "output_type": "stream",
          "name": "stderr",
          "text": [
            " 45%|████▍     | 130/290 [02:09<02:39,  1.00it/s, loss=0.212]"
          ]
        },
        {
          "output_type": "stream",
          "name": "stdout",
          "text": [
            ">\n",
            ">\n"
          ]
        },
        {
          "output_type": "stream",
          "name": "stderr",
          "text": [
            " 59%|█████▉    | 172/290 [02:52<01:59,  1.01s/it, loss=0.2]"
          ]
        },
        {
          "output_type": "stream",
          "name": "stdout",
          "text": [
            "*\n",
            "*\n",
            "*\n"
          ]
        },
        {
          "output_type": "stream",
          "name": "stderr",
          "text": [
            " 69%|██████▉   | 201/290 [03:21<01:30,  1.02s/it, loss=0.247]"
          ]
        },
        {
          "output_type": "stream",
          "name": "stdout",
          "text": [
            "[\n"
          ]
        },
        {
          "output_type": "stream",
          "name": "stderr",
          "text": [
            " 71%|███████   | 206/290 [03:26<01:27,  1.04s/it, loss=0.212]"
          ]
        },
        {
          "output_type": "stream",
          "name": "stdout",
          "text": [
            "[\n",
            "]\n"
          ]
        },
        {
          "output_type": "stream",
          "name": "stderr",
          "text": [
            " 73%|███████▎  | 211/290 [03:37<02:27,  1.86s/it, loss=0.211]"
          ]
        },
        {
          "output_type": "stream",
          "name": "stdout",
          "text": [
            "<\n"
          ]
        },
        {
          "output_type": "stream",
          "name": "stderr",
          "text": [
            " 73%|███████▎  | 212/290 [03:38<02:07,  1.63s/it, loss=0.193]"
          ]
        },
        {
          "output_type": "stream",
          "name": "stdout",
          "text": [
            "[\n"
          ]
        },
        {
          "output_type": "stream",
          "name": "stderr",
          "text": [
            " 78%|███████▊  | 227/290 [03:53<01:02,  1.01it/s, loss=0.194]"
          ]
        },
        {
          "output_type": "stream",
          "name": "stdout",
          "text": [
            ">\n",
            ">\n"
          ]
        },
        {
          "output_type": "stream",
          "name": "stderr",
          "text": [
            " 80%|███████▉  | 231/290 [03:57<01:01,  1.04s/it, loss=0.197]"
          ]
        },
        {
          "output_type": "stream",
          "name": "stdout",
          "text": [
            "*\n",
            "*\n",
            "*\n"
          ]
        },
        {
          "output_type": "stream",
          "name": "stderr",
          "text": [
            " 83%|████████▎ | 242/290 [04:08<00:48,  1.02s/it, loss=0.197]"
          ]
        },
        {
          "output_type": "stream",
          "name": "stdout",
          "text": [
            "]\n"
          ]
        },
        {
          "output_type": "stream",
          "name": "stderr",
          "text": [
            " 88%|████████▊ | 256/290 [04:22<00:33,  1.01it/s, loss=0.193]"
          ]
        },
        {
          "output_type": "stream",
          "name": "stdout",
          "text": [
            "]\n",
            "[\n",
            "]\n"
          ]
        },
        {
          "output_type": "stream",
          "name": "stderr",
          "text": [
            " 94%|█████████▍| 272/290 [04:38<00:18,  1.00s/it, loss=0.209]"
          ]
        },
        {
          "output_type": "stream",
          "name": "stdout",
          "text": [
            "*\n",
            "*\n",
            "*\n"
          ]
        },
        {
          "output_type": "stream",
          "name": "stderr",
          "text": [
            "100%|██████████| 290/290 [04:56<00:00,  1.02s/it, loss=0.18]\n",
            "  1%|          | 2/290 [00:02<04:51,  1.01s/it, loss=0.165]"
          ]
        },
        {
          "output_type": "stream",
          "name": "stdout",
          "text": [
            "]\n"
          ]
        },
        {
          "output_type": "stream",
          "name": "stderr",
          "text": [
            "  2%|▏         | 7/290 [00:07<04:49,  1.02s/it, loss=0.188]"
          ]
        },
        {
          "output_type": "stream",
          "name": "stdout",
          "text": [
            ">\n",
            ">\n"
          ]
        },
        {
          "output_type": "stream",
          "name": "stderr",
          "text": [
            "  5%|▍         | 14/290 [00:13<04:30,  1.02it/s, loss=0.16]"
          ]
        },
        {
          "output_type": "stream",
          "name": "stdout",
          "text": [
            "*\n",
            "*\n",
            "*\n"
          ]
        },
        {
          "output_type": "stream",
          "name": "stderr",
          "text": [
            "  6%|▌         | 17/290 [00:16<04:25,  1.03it/s, loss=0.172]"
          ]
        },
        {
          "output_type": "stream",
          "name": "stdout",
          "text": [
            ">\n",
            ">\n"
          ]
        },
        {
          "output_type": "stream",
          "name": "stderr",
          "text": [
            " 11%|█▏        | 33/290 [00:33<04:24,  1.03s/it, loss=0.187]"
          ]
        },
        {
          "output_type": "stream",
          "name": "stdout",
          "text": [
            ">\n"
          ]
        },
        {
          "output_type": "stream",
          "name": "stderr",
          "text": [
            " 12%|█▏        | 36/290 [00:36<04:21,  1.03s/it, loss=0.165]"
          ]
        },
        {
          "output_type": "stream",
          "name": "stdout",
          "text": [
            ">\n",
            ">\n"
          ]
        },
        {
          "output_type": "stream",
          "name": "stderr",
          "text": [
            " 17%|█▋        | 50/290 [00:50<04:06,  1.03s/it, loss=0.152]"
          ]
        },
        {
          "output_type": "stream",
          "name": "stdout",
          "text": [
            "[\n"
          ]
        },
        {
          "output_type": "stream",
          "name": "stderr",
          "text": [
            " 19%|█▊        | 54/290 [00:54<04:02,  1.03s/it, loss=0.179]"
          ]
        },
        {
          "output_type": "stream",
          "name": "stdout",
          "text": [
            ">\n"
          ]
        },
        {
          "output_type": "stream",
          "name": "stderr",
          "text": [
            " 20%|██        | 59/290 [00:59<03:51,  1.00s/it, loss=0.164]"
          ]
        },
        {
          "output_type": "stream",
          "name": "stdout",
          "text": [
            ">\n",
            ">\n",
            ">\n"
          ]
        },
        {
          "output_type": "stream",
          "name": "stderr",
          "text": [
            " 23%|██▎       | 68/290 [01:09<03:42,  1.00s/it, loss=0.208]"
          ]
        },
        {
          "output_type": "stream",
          "name": "stdout",
          "text": [
            ">\n",
            ">\n"
          ]
        },
        {
          "output_type": "stream",
          "name": "stderr",
          "text": [
            " 32%|███▏      | 92/290 [01:33<03:26,  1.04s/it, loss=0.157]"
          ]
        },
        {
          "output_type": "stream",
          "name": "stdout",
          "text": [
            ">\n",
            ">\n"
          ]
        },
        {
          "output_type": "stream",
          "name": "stderr",
          "text": [
            " 32%|███▏      | 93/290 [01:34<03:21,  1.02s/it, loss=0.187]"
          ]
        },
        {
          "output_type": "stream",
          "name": "stdout",
          "text": [
            "*\n",
            "*\n",
            "*\n"
          ]
        },
        {
          "output_type": "stream",
          "name": "stderr",
          "text": [
            " 43%|████▎     | 124/290 [02:05<02:49,  1.02s/it, loss=0.188]"
          ]
        },
        {
          "output_type": "stream",
          "name": "stdout",
          "text": [
            "]\n",
            "[\n",
            "]\n"
          ]
        },
        {
          "output_type": "stream",
          "name": "stderr",
          "text": [
            " 43%|████▎     | 126/290 [02:07<02:46,  1.01s/it, loss=0.184]"
          ]
        },
        {
          "output_type": "stream",
          "name": "stdout",
          "text": [
            "<\n"
          ]
        },
        {
          "output_type": "stream",
          "name": "stderr",
          "text": [
            " 44%|████▍     | 128/290 [02:09<02:43,  1.01s/it, loss=0.142]"
          ]
        },
        {
          "output_type": "stream",
          "name": "stdout",
          "text": [
            "*\n",
            "*\n",
            "*\n"
          ]
        },
        {
          "output_type": "stream",
          "name": "stderr",
          "text": [
            " 44%|████▍     | 129/290 [02:10<02:44,  1.02s/it, loss=0.146]"
          ]
        },
        {
          "output_type": "stream",
          "name": "stdout",
          "text": [
            "[\n",
            "]\n",
            "[\n",
            "]\n"
          ]
        },
        {
          "output_type": "stream",
          "name": "stderr",
          "text": [
            " 46%|████▌     | 132/290 [02:13<02:39,  1.01s/it, loss=0.205]"
          ]
        },
        {
          "output_type": "stream",
          "name": "stdout",
          "text": [
            "]\n",
            "[\n",
            "]\n"
          ]
        },
        {
          "output_type": "stream",
          "name": "stderr",
          "text": [
            " 47%|████▋     | 137/290 [02:19<02:35,  1.02s/it, loss=0.159]"
          ]
        },
        {
          "output_type": "stream",
          "name": "stdout",
          "text": [
            ">\n",
            ">\n"
          ]
        },
        {
          "output_type": "stream",
          "name": "stderr",
          "text": [
            " 48%|████▊     | 138/290 [02:20<02:34,  1.01s/it, loss=0.141]"
          ]
        },
        {
          "output_type": "stream",
          "name": "stdout",
          "text": [
            "[\n"
          ]
        },
        {
          "output_type": "stream",
          "name": "stderr",
          "text": [
            " 51%|█████     | 147/290 [02:29<02:25,  1.02s/it, loss=0.169]"
          ]
        },
        {
          "output_type": "stream",
          "name": "stdout",
          "text": [
            "[\n",
            "]\n"
          ]
        },
        {
          "output_type": "stream",
          "name": "stderr",
          "text": [
            " 59%|█████▉    | 171/290 [02:53<02:01,  1.02s/it, loss=0.182]"
          ]
        },
        {
          "output_type": "stream",
          "name": "stdout",
          "text": [
            "]\n"
          ]
        },
        {
          "output_type": "stream",
          "name": "stderr",
          "text": [
            " 60%|██████    | 174/290 [02:56<01:54,  1.01it/s, loss=0.144]"
          ]
        },
        {
          "output_type": "stream",
          "name": "stdout",
          "text": [
            ">\n",
            ">\n"
          ]
        },
        {
          "output_type": "stream",
          "name": "stderr",
          "text": [
            " 67%|██████▋   | 194/290 [03:16<01:35,  1.00it/s, loss=0.172]"
          ]
        },
        {
          "output_type": "stream",
          "name": "stdout",
          "text": [
            "*\n",
            "*\n",
            "*\n"
          ]
        },
        {
          "output_type": "stream",
          "name": "stderr",
          "text": [
            " 71%|███████   | 205/290 [03:27<01:25,  1.01s/it, loss=0.155]"
          ]
        },
        {
          "output_type": "stream",
          "name": "stdout",
          "text": [
            "<\n"
          ]
        },
        {
          "output_type": "stream",
          "name": "stderr",
          "text": [
            " 72%|███████▏  | 210/290 [03:32<01:20,  1.00s/it, loss=0.156]"
          ]
        },
        {
          "output_type": "stream",
          "name": "stdout",
          "text": [
            "[\n"
          ]
        },
        {
          "output_type": "stream",
          "name": "stderr",
          "text": [
            " 77%|███████▋  | 222/290 [03:44<01:10,  1.03s/it, loss=0.164]"
          ]
        },
        {
          "output_type": "stream",
          "name": "stdout",
          "text": [
            "[\n"
          ]
        },
        {
          "output_type": "stream",
          "name": "stderr",
          "text": [
            " 80%|████████  | 233/290 [03:55<00:57,  1.00s/it, loss=0.148]"
          ]
        },
        {
          "output_type": "stream",
          "name": "stdout",
          "text": [
            ">\n",
            ">\n"
          ]
        },
        {
          "output_type": "stream",
          "name": "stderr",
          "text": [
            " 89%|████████▉ | 258/290 [04:21<00:32,  1.01s/it, loss=0.121]"
          ]
        },
        {
          "output_type": "stream",
          "name": "stdout",
          "text": [
            "[\n",
            "]\n"
          ]
        },
        {
          "output_type": "stream",
          "name": "stderr",
          "text": [
            " 94%|█████████▍| 274/290 [04:37<00:16,  1.04s/it, loss=0.162]"
          ]
        },
        {
          "output_type": "stream",
          "name": "stdout",
          "text": [
            ">\n",
            ">\n"
          ]
        },
        {
          "output_type": "stream",
          "name": "stderr",
          "text": [
            " 96%|█████████▌| 277/290 [04:40<00:13,  1.04s/it, loss=0.142]"
          ]
        },
        {
          "output_type": "stream",
          "name": "stdout",
          "text": [
            ">\n",
            ">\n",
            ">\n"
          ]
        },
        {
          "output_type": "stream",
          "name": "stderr",
          "text": [
            "100%|██████████| 290/290 [04:53<00:00,  1.01s/it, loss=0.161]\n"
          ]
        },
        {
          "output_type": "stream",
          "name": "stdout",
          "text": [
            "checkpoint_ep25.pth.tar saved\n"
          ]
        },
        {
          "output_type": "stream",
          "name": "stderr",
          "text": [
            "  1%|          | 2/290 [00:01<04:45,  1.01it/s, loss=0.137]"
          ]
        },
        {
          "output_type": "stream",
          "name": "stdout",
          "text": [
            "*\n",
            "*\n",
            "*\n"
          ]
        },
        {
          "output_type": "stream",
          "name": "stderr",
          "text": [
            "  6%|▌         | 18/290 [00:18<04:33,  1.01s/it, loss=0.116]"
          ]
        },
        {
          "output_type": "stream",
          "name": "stdout",
          "text": [
            ">\n",
            ">\n",
            "[\n",
            "]\n"
          ]
        },
        {
          "output_type": "stream",
          "name": "stderr",
          "text": [
            "  7%|▋         | 19/290 [00:19<04:35,  1.02s/it, loss=0.151]"
          ]
        },
        {
          "output_type": "stream",
          "name": "stdout",
          "text": [
            "]\n"
          ]
        },
        {
          "output_type": "stream",
          "name": "stderr",
          "text": [
            " 10%|█         | 29/290 [00:29<04:29,  1.03s/it, loss=0.154]"
          ]
        },
        {
          "output_type": "stream",
          "name": "stdout",
          "text": [
            ">\n"
          ]
        },
        {
          "output_type": "stream",
          "name": "stderr",
          "text": [
            " 11%|█         | 31/290 [00:31<04:24,  1.02s/it, loss=0.154]"
          ]
        },
        {
          "output_type": "stream",
          "name": "stdout",
          "text": [
            "[\n"
          ]
        },
        {
          "output_type": "stream",
          "name": "stderr",
          "text": [
            " 16%|█▌        | 47/290 [00:47<04:07,  1.02s/it, loss=0.112]"
          ]
        },
        {
          "output_type": "stream",
          "name": "stdout",
          "text": [
            ">\n",
            ">\n",
            ">\n"
          ]
        },
        {
          "output_type": "stream",
          "name": "stderr",
          "text": [
            " 29%|██▊       | 83/290 [01:24<03:27,  1.00s/it, loss=0.153]"
          ]
        },
        {
          "output_type": "stream",
          "name": "stdout",
          "text": [
            ">\n"
          ]
        },
        {
          "output_type": "stream",
          "name": "stderr",
          "text": [
            " 29%|██▉       | 84/290 [01:25<03:26,  1.00s/it, loss=0.157]"
          ]
        },
        {
          "output_type": "stream",
          "name": "stdout",
          "text": [
            ">\n",
            ">\n"
          ]
        },
        {
          "output_type": "stream",
          "name": "stderr",
          "text": [
            " 33%|███▎      | 96/290 [01:37<03:13,  1.00it/s, loss=0.136]"
          ]
        },
        {
          "output_type": "stream",
          "name": "stdout",
          "text": [
            "*\n",
            "*\n",
            "*\n"
          ]
        },
        {
          "output_type": "stream",
          "name": "stderr",
          "text": [
            " 35%|███▍      | 101/290 [01:42<03:06,  1.01it/s, loss=0.15]"
          ]
        },
        {
          "output_type": "stream",
          "name": "stdout",
          "text": [
            ">\n",
            ">\n"
          ]
        },
        {
          "output_type": "stream",
          "name": "stderr",
          "text": [
            " 36%|███▌      | 103/290 [01:44<03:09,  1.01s/it, loss=0.11]"
          ]
        },
        {
          "output_type": "stream",
          "name": "stdout",
          "text": [
            "[\n",
            "]\n"
          ]
        },
        {
          "output_type": "stream",
          "name": "stderr",
          "text": [
            " 44%|████▍     | 129/290 [02:11<02:41,  1.00s/it, loss=0.182]"
          ]
        },
        {
          "output_type": "stream",
          "name": "stdout",
          "text": [
            ">\n",
            ">\n"
          ]
        },
        {
          "output_type": "stream",
          "name": "stderr",
          "text": [
            " 48%|████▊     | 138/290 [02:20<02:35,  1.02s/it, loss=0.126]"
          ]
        },
        {
          "output_type": "stream",
          "name": "stdout",
          "text": [
            "]\n",
            ">\n",
            ">\n"
          ]
        },
        {
          "output_type": "stream",
          "name": "stderr",
          "text": [
            " 48%|████▊     | 140/290 [02:22<02:30,  1.00s/it, loss=0.122]"
          ]
        },
        {
          "output_type": "stream",
          "name": "stdout",
          "text": [
            ">\n",
            ">\n"
          ]
        },
        {
          "output_type": "stream",
          "name": "stderr",
          "text": [
            " 49%|████▉     | 142/290 [02:24<02:28,  1.00s/it, loss=0.152]"
          ]
        },
        {
          "output_type": "stream",
          "name": "stdout",
          "text": [
            "[\n"
          ]
        },
        {
          "output_type": "stream",
          "name": "stderr",
          "text": [
            " 57%|█████▋    | 164/290 [02:46<02:09,  1.03s/it, loss=0.129]"
          ]
        },
        {
          "output_type": "stream",
          "name": "stdout",
          "text": [
            ">\n",
            ">\n"
          ]
        },
        {
          "output_type": "stream",
          "name": "stderr",
          "text": [
            " 57%|█████▋    | 166/290 [02:48<02:05,  1.01s/it, loss=0.136]"
          ]
        },
        {
          "output_type": "stream",
          "name": "stdout",
          "text": [
            "[\n"
          ]
        },
        {
          "output_type": "stream",
          "name": "stderr",
          "text": [
            " 60%|█████▉    | 173/290 [02:55<02:01,  1.04s/it, loss=0.128]"
          ]
        },
        {
          "output_type": "stream",
          "name": "stdout",
          "text": [
            "<\n"
          ]
        },
        {
          "output_type": "stream",
          "name": "stderr",
          "text": [
            " 61%|██████    | 177/290 [02:59<01:56,  1.03s/it, loss=0.116]"
          ]
        },
        {
          "output_type": "stream",
          "name": "stdout",
          "text": [
            "[\n",
            "]\n"
          ]
        },
        {
          "output_type": "stream",
          "name": "stderr",
          "text": [
            " 61%|██████▏   | 178/290 [03:00<01:56,  1.04s/it, loss=0.126]"
          ]
        },
        {
          "output_type": "stream",
          "name": "stdout",
          "text": [
            "<\n"
          ]
        },
        {
          "output_type": "stream",
          "name": "stderr",
          "text": [
            " 63%|██████▎   | 182/290 [03:04<01:48,  1.00s/it, loss=0.117]"
          ]
        },
        {
          "output_type": "stream",
          "name": "stdout",
          "text": [
            ">\n",
            ">\n"
          ]
        },
        {
          "output_type": "stream",
          "name": "stderr",
          "text": [
            " 70%|███████   | 203/290 [03:26<01:27,  1.00s/it, loss=0.0999]"
          ]
        },
        {
          "output_type": "stream",
          "name": "stdout",
          "text": [
            "*\n",
            "*\n",
            "*\n"
          ]
        },
        {
          "output_type": "stream",
          "name": "stderr",
          "text": [
            " 72%|███████▏  | 210/290 [03:33<01:21,  1.02s/it, loss=0.19]"
          ]
        },
        {
          "output_type": "stream",
          "name": "stdout",
          "text": [
            "]\n",
            "[\n",
            "]\n",
            "[\n",
            "]\n"
          ]
        },
        {
          "output_type": "stream",
          "name": "stderr",
          "text": [
            " 76%|███████▌  | 220/290 [03:43<01:09,  1.00it/s, loss=0.145]"
          ]
        },
        {
          "output_type": "stream",
          "name": "stdout",
          "text": [
            ">\n",
            ">\n"
          ]
        },
        {
          "output_type": "stream",
          "name": "stderr",
          "text": [
            " 78%|███████▊  | 225/290 [03:48<01:06,  1.02s/it, loss=0.124]"
          ]
        },
        {
          "output_type": "stream",
          "name": "stdout",
          "text": [
            ">\n",
            ">\n"
          ]
        },
        {
          "output_type": "stream",
          "name": "stderr",
          "text": [
            " 83%|████████▎ | 242/290 [04:05<00:48,  1.02s/it, loss=0.103]"
          ]
        },
        {
          "output_type": "stream",
          "name": "stdout",
          "text": [
            "]\n",
            "[\n",
            "]\n"
          ]
        },
        {
          "output_type": "stream",
          "name": "stderr",
          "text": [
            " 86%|████████▌ | 249/290 [04:12<00:40,  1.00it/s, loss=0.12]"
          ]
        },
        {
          "output_type": "stream",
          "name": "stdout",
          "text": [
            "*\n",
            "*\n",
            "*\n"
          ]
        },
        {
          "output_type": "stream",
          "name": "stderr",
          "text": [
            " 91%|█████████ | 264/290 [04:27<00:26,  1.01s/it, loss=0.149]"
          ]
        },
        {
          "output_type": "stream",
          "name": "stdout",
          "text": [
            ">\n"
          ]
        },
        {
          "output_type": "stream",
          "name": "stderr",
          "text": [
            " 91%|█████████▏| 265/290 [04:28<00:25,  1.01s/it, loss=0.141]"
          ]
        },
        {
          "output_type": "stream",
          "name": "stdout",
          "text": [
            "[\n"
          ]
        },
        {
          "output_type": "stream",
          "name": "stderr",
          "text": [
            "100%|██████████| 290/290 [04:53<00:00,  1.01s/it, loss=0.136]\n",
            "  3%|▎         | 9/290 [00:09<04:44,  1.01s/it, loss=0.0888]"
          ]
        },
        {
          "output_type": "stream",
          "name": "stdout",
          "text": [
            ">\n"
          ]
        },
        {
          "output_type": "stream",
          "name": "stderr",
          "text": [
            "  6%|▌         | 17/290 [00:17<04:34,  1.01s/it, loss=0.127]"
          ]
        },
        {
          "output_type": "stream",
          "name": "stdout",
          "text": [
            "[\n"
          ]
        },
        {
          "output_type": "stream",
          "name": "stderr",
          "text": [
            " 14%|█▍        | 40/290 [00:40<04:14,  1.02s/it, loss=0.108]"
          ]
        },
        {
          "output_type": "stream",
          "name": "stdout",
          "text": [
            "]\n"
          ]
        },
        {
          "output_type": "stream",
          "name": "stderr",
          "text": [
            " 16%|█▌        | 47/290 [00:47<04:07,  1.02s/it, loss=0.106]"
          ]
        },
        {
          "output_type": "stream",
          "name": "stdout",
          "text": [
            "*\n",
            "*\n",
            "*\n"
          ]
        },
        {
          "output_type": "stream",
          "name": "stderr",
          "text": [
            " 18%|█▊        | 52/290 [00:52<03:57,  1.00it/s, loss=0.117]"
          ]
        },
        {
          "output_type": "stream",
          "name": "stdout",
          "text": [
            ">\n",
            ">\n"
          ]
        },
        {
          "output_type": "stream",
          "name": "stderr",
          "text": [
            " 19%|█▉        | 56/290 [00:56<04:04,  1.04s/it, loss=0.103]"
          ]
        },
        {
          "output_type": "stream",
          "name": "stdout",
          "text": [
            ">\n",
            ">\n"
          ]
        },
        {
          "output_type": "stream",
          "name": "stderr",
          "text": [
            " 34%|███▍      | 99/290 [01:40<03:10,  1.00it/s, loss=0.121]"
          ]
        },
        {
          "output_type": "stream",
          "name": "stdout",
          "text": [
            "]\n"
          ]
        },
        {
          "output_type": "stream",
          "name": "stderr",
          "text": [
            " 38%|███▊      | 111/290 [01:52<03:02,  1.02s/it, loss=0.122]"
          ]
        },
        {
          "output_type": "stream",
          "name": "stdout",
          "text": [
            "[\n",
            "]\n"
          ]
        },
        {
          "output_type": "stream",
          "name": "stderr",
          "text": [
            " 41%|████      | 118/290 [01:59<02:52,  1.00s/it, loss=0.0981]"
          ]
        },
        {
          "output_type": "stream",
          "name": "stdout",
          "text": [
            "[\n",
            "]\n"
          ]
        },
        {
          "output_type": "stream",
          "name": "stderr",
          "text": [
            " 43%|████▎     | 125/290 [02:06<02:46,  1.01s/it, loss=0.117]"
          ]
        },
        {
          "output_type": "stream",
          "name": "stdout",
          "text": [
            "*\n",
            "*\n",
            "*\n"
          ]
        },
        {
          "output_type": "stream",
          "name": "stderr",
          "text": [
            " 44%|████▍     | 127/290 [02:08<02:45,  1.02s/it, loss=0.105]"
          ]
        },
        {
          "output_type": "stream",
          "name": "stdout",
          "text": [
            ">\n"
          ]
        },
        {
          "output_type": "stream",
          "name": "stderr",
          "text": [
            " 47%|████▋     | 135/290 [02:16<02:38,  1.02s/it, loss=0.096]"
          ]
        },
        {
          "output_type": "stream",
          "name": "stdout",
          "text": [
            ">\n",
            ">\n"
          ]
        },
        {
          "output_type": "stream",
          "name": "stderr",
          "text": [
            " 49%|████▉     | 142/290 [02:24<02:31,  1.02s/it, loss=0.118]"
          ]
        },
        {
          "output_type": "stream",
          "name": "stdout",
          "text": [
            ">\n",
            ">\n"
          ]
        },
        {
          "output_type": "stream",
          "name": "stderr",
          "text": [
            " 49%|████▉     | 143/290 [02:25<02:28,  1.01s/it, loss=0.111]"
          ]
        },
        {
          "output_type": "stream",
          "name": "stdout",
          "text": [
            "[\n",
            "]\n"
          ]
        },
        {
          "output_type": "stream",
          "name": "stderr",
          "text": [
            " 50%|█████     | 145/290 [02:27<02:28,  1.02s/it, loss=0.103]"
          ]
        },
        {
          "output_type": "stream",
          "name": "stdout",
          "text": [
            ">\n",
            ">\n",
            ">\n"
          ]
        },
        {
          "output_type": "stream",
          "name": "stderr",
          "text": [
            " 50%|█████     | 146/290 [02:28<02:24,  1.01s/it, loss=0.104]"
          ]
        },
        {
          "output_type": "stream",
          "name": "stdout",
          "text": [
            "[\n"
          ]
        },
        {
          "output_type": "stream",
          "name": "stderr",
          "text": [
            " 53%|█████▎    | 154/290 [02:36<02:16,  1.00s/it, loss=0.093]"
          ]
        },
        {
          "output_type": "stream",
          "name": "stdout",
          "text": [
            "*\n",
            "*\n",
            "*\n"
          ]
        },
        {
          "output_type": "stream",
          "name": "stderr",
          "text": [
            " 56%|█████▌    | 162/290 [02:44<02:08,  1.00s/it, loss=0.13]"
          ]
        },
        {
          "output_type": "stream",
          "name": "stdout",
          "text": [
            "<\n"
          ]
        },
        {
          "output_type": "stream",
          "name": "stderr",
          "text": [
            " 63%|██████▎   | 182/290 [03:04<01:51,  1.04s/it, loss=0.0863]"
          ]
        },
        {
          "output_type": "stream",
          "name": "stdout",
          "text": [
            ">\n",
            ">\n"
          ]
        },
        {
          "output_type": "stream",
          "name": "stderr",
          "text": [
            " 64%|██████▍   | 186/290 [03:08<01:44,  1.01s/it, loss=0.11]"
          ]
        },
        {
          "output_type": "stream",
          "name": "stdout",
          "text": [
            ">\n",
            ">\n"
          ]
        },
        {
          "output_type": "stream",
          "name": "stderr",
          "text": [
            " 69%|██████▉   | 201/290 [03:23<01:30,  1.02s/it, loss=0.0969]"
          ]
        },
        {
          "output_type": "stream",
          "name": "stdout",
          "text": [
            "]\n",
            "[\n",
            "]\n"
          ]
        },
        {
          "output_type": "stream",
          "name": "stderr",
          "text": [
            " 74%|███████▍  | 214/290 [03:37<01:16,  1.01s/it, loss=0.103]"
          ]
        },
        {
          "output_type": "stream",
          "name": "stdout",
          "text": [
            ">\n",
            ">\n"
          ]
        },
        {
          "output_type": "stream",
          "name": "stderr",
          "text": [
            " 81%|████████  | 235/290 [03:58<00:54,  1.00it/s, loss=0.0862]"
          ]
        },
        {
          "output_type": "stream",
          "name": "stdout",
          "text": [
            ">\n",
            ">\n"
          ]
        },
        {
          "output_type": "stream",
          "name": "stderr",
          "text": [
            " 85%|████████▌ | 247/290 [04:10<00:42,  1.01it/s, loss=0.134]"
          ]
        },
        {
          "output_type": "stream",
          "name": "stdout",
          "text": [
            "[\n"
          ]
        },
        {
          "output_type": "stream",
          "name": "stderr",
          "text": [
            " 87%|████████▋ | 253/290 [04:17<00:42,  1.15s/it, loss=0.134]"
          ]
        },
        {
          "output_type": "stream",
          "name": "stdout",
          "text": [
            "[\n",
            "]\n"
          ]
        },
        {
          "output_type": "stream",
          "name": "stderr",
          "text": [
            " 90%|████████▉ | 260/290 [04:24<00:30,  1.00s/it, loss=0.0965]"
          ]
        },
        {
          "output_type": "stream",
          "name": "stdout",
          "text": [
            "<\n"
          ]
        },
        {
          "output_type": "stream",
          "name": "stderr",
          "text": [
            " 90%|█████████ | 261/290 [04:25<00:29,  1.02s/it, loss=0.109]"
          ]
        },
        {
          "output_type": "stream",
          "name": "stdout",
          "text": [
            "[\n"
          ]
        },
        {
          "output_type": "stream",
          "name": "stderr",
          "text": [
            " 91%|█████████ | 264/290 [04:28<00:26,  1.01s/it, loss=0.097]"
          ]
        },
        {
          "output_type": "stream",
          "name": "stdout",
          "text": [
            "*\n",
            "*\n",
            "*\n"
          ]
        },
        {
          "output_type": "stream",
          "name": "stderr",
          "text": [
            " 94%|█████████▍| 274/290 [04:38<00:15,  1.01it/s, loss=0.127]"
          ]
        },
        {
          "output_type": "stream",
          "name": "stdout",
          "text": [
            ">\n"
          ]
        },
        {
          "output_type": "stream",
          "name": "stderr",
          "text": [
            " 96%|█████████▌| 277/290 [04:41<00:13,  1.02s/it, loss=0.114]"
          ]
        },
        {
          "output_type": "stream",
          "name": "stdout",
          "text": [
            ">\n",
            ">\n"
          ]
        },
        {
          "output_type": "stream",
          "name": "stderr",
          "text": [
            " 97%|█████████▋| 280/290 [04:44<00:10,  1.02s/it, loss=0.14]"
          ]
        },
        {
          "output_type": "stream",
          "name": "stdout",
          "text": [
            "]\n",
            "[\n",
            "]\n"
          ]
        },
        {
          "output_type": "stream",
          "name": "stderr",
          "text": [
            "100%|█████████▉| 289/290 [04:53<00:00,  1.02it/s, loss=0.115]"
          ]
        },
        {
          "output_type": "stream",
          "name": "stdout",
          "text": [
            ">\n",
            ">\n"
          ]
        },
        {
          "output_type": "stream",
          "name": "stderr",
          "text": [
            "100%|██████████| 290/290 [04:54<00:00,  1.01s/it, loss=0.085]\n"
          ]
        },
        {
          "output_type": "stream",
          "name": "stdout",
          "text": [
            "checkpoint_ep27.pth.tar saved\n"
          ]
        },
        {
          "output_type": "stream",
          "name": "stderr",
          "text": [
            "  3%|▎         | 10/290 [00:10<04:39,  1.00it/s, loss=0.101]"
          ]
        },
        {
          "output_type": "stream",
          "name": "stdout",
          "text": [
            "*\n",
            "*\n",
            "*\n"
          ]
        },
        {
          "output_type": "stream",
          "name": "stderr",
          "text": [
            "  5%|▌         | 15/290 [00:15<04:29,  1.02it/s, loss=0.0944]"
          ]
        },
        {
          "output_type": "stream",
          "name": "stdout",
          "text": [
            ">\n"
          ]
        },
        {
          "output_type": "stream",
          "name": "stderr",
          "text": [
            "  6%|▌         | 16/290 [00:16<04:39,  1.02s/it, loss=0.109]"
          ]
        },
        {
          "output_type": "stream",
          "name": "stdout",
          "text": [
            ">\n",
            ">\n"
          ]
        },
        {
          "output_type": "stream",
          "name": "stderr",
          "text": [
            "  6%|▌         | 18/290 [00:18<04:34,  1.01s/it, loss=0.123]"
          ]
        },
        {
          "output_type": "stream",
          "name": "stdout",
          "text": [
            "[\n",
            "]\n",
            "[\n"
          ]
        },
        {
          "output_type": "stream",
          "name": "stderr",
          "text": [
            "  7%|▋         | 21/290 [00:21<04:33,  1.02s/it, loss=0.0908]"
          ]
        },
        {
          "output_type": "stream",
          "name": "stdout",
          "text": [
            ">\n",
            ">\n"
          ]
        },
        {
          "output_type": "stream",
          "name": "stderr",
          "text": [
            " 14%|█▍        | 41/290 [00:41<04:12,  1.01s/it, loss=0.133]"
          ]
        },
        {
          "output_type": "stream",
          "name": "stdout",
          "text": [
            ">\n",
            ">\n"
          ]
        },
        {
          "output_type": "stream",
          "name": "stderr",
          "text": [
            " 15%|█▌        | 44/290 [00:44<04:06,  1.00s/it, loss=0.104]"
          ]
        },
        {
          "output_type": "stream",
          "name": "stdout",
          "text": [
            ">\n"
          ]
        },
        {
          "output_type": "stream",
          "name": "stderr",
          "text": [
            " 17%|█▋        | 50/290 [00:50<04:00,  1.00s/it, loss=0.137]"
          ]
        },
        {
          "output_type": "stream",
          "name": "stdout",
          "text": [
            "*\n",
            "*\n",
            "*\n"
          ]
        },
        {
          "output_type": "stream",
          "name": "stderr",
          "text": [
            " 18%|█▊        | 52/290 [00:52<03:59,  1.01s/it, loss=0.129]"
          ]
        },
        {
          "output_type": "stream",
          "name": "stdout",
          "text": [
            "*\n",
            "*\n",
            "*\n",
            ">\n",
            ">\n"
          ]
        },
        {
          "output_type": "stream",
          "name": "stderr",
          "text": [
            " 21%|██▏       | 62/290 [01:02<03:49,  1.01s/it, loss=0.103]"
          ]
        },
        {
          "output_type": "stream",
          "name": "stdout",
          "text": [
            ">\n",
            ">\n"
          ]
        },
        {
          "output_type": "stream",
          "name": "stderr",
          "text": [
            " 28%|██▊       | 80/290 [01:20<03:30,  1.00s/it, loss=0.0983]"
          ]
        },
        {
          "output_type": "stream",
          "name": "stdout",
          "text": [
            "[\n",
            "]\n"
          ]
        },
        {
          "output_type": "stream",
          "name": "stderr",
          "text": [
            " 28%|██▊       | 81/290 [01:21<03:28,  1.00it/s, loss=0.065]"
          ]
        },
        {
          "output_type": "stream",
          "name": "stdout",
          "text": [
            "[\n"
          ]
        },
        {
          "output_type": "stream",
          "name": "stderr",
          "text": [
            " 31%|███       | 90/290 [01:31<03:28,  1.04s/it, loss=0.107]"
          ]
        },
        {
          "output_type": "stream",
          "name": "stdout",
          "text": [
            "*\n",
            "*\n",
            "*\n"
          ]
        },
        {
          "output_type": "stream",
          "name": "stderr",
          "text": [
            " 36%|███▌      | 105/290 [01:46<03:05,  1.00s/it, loss=0.0954]"
          ]
        },
        {
          "output_type": "stream",
          "name": "stdout",
          "text": [
            ">\n",
            ">\n"
          ]
        },
        {
          "output_type": "stream",
          "name": "stderr",
          "text": [
            " 38%|███▊      | 109/290 [01:50<03:05,  1.03s/it, loss=0.0829]"
          ]
        },
        {
          "output_type": "stream",
          "name": "stdout",
          "text": [
            ">\n",
            ">\n"
          ]
        },
        {
          "output_type": "stream",
          "name": "stderr",
          "text": [
            " 41%|████▏     | 120/290 [02:01<02:52,  1.01s/it, loss=0.0915]"
          ]
        },
        {
          "output_type": "stream",
          "name": "stdout",
          "text": [
            ">\n",
            ">\n",
            ">\n"
          ]
        },
        {
          "output_type": "stream",
          "name": "stderr",
          "text": [
            " 43%|████▎     | 126/290 [02:07<02:49,  1.03s/it, loss=0.0995]"
          ]
        },
        {
          "output_type": "stream",
          "name": "stdout",
          "text": [
            ">\n",
            ">\n"
          ]
        },
        {
          "output_type": "stream",
          "name": "stderr",
          "text": [
            " 44%|████▍     | 129/290 [02:10<02:41,  1.00s/it, loss=0.101]"
          ]
        },
        {
          "output_type": "stream",
          "name": "stdout",
          "text": [
            ">\n",
            ">\n"
          ]
        },
        {
          "output_type": "stream",
          "name": "stderr",
          "text": [
            " 47%|████▋     | 136/290 [02:17<02:31,  1.02it/s, loss=0.115]"
          ]
        },
        {
          "output_type": "stream",
          "name": "stdout",
          "text": [
            ">\n"
          ]
        },
        {
          "output_type": "stream",
          "name": "stderr",
          "text": [
            " 50%|█████     | 146/290 [02:27<02:22,  1.01it/s, loss=0.115]"
          ]
        },
        {
          "output_type": "stream",
          "name": "stdout",
          "text": [
            "[\n",
            "]\n"
          ]
        },
        {
          "output_type": "stream",
          "name": "stderr",
          "text": [
            " 52%|█████▏    | 152/290 [02:33<02:20,  1.02s/it, loss=0.106]"
          ]
        },
        {
          "output_type": "stream",
          "name": "stdout",
          "text": [
            "<\n"
          ]
        },
        {
          "output_type": "stream",
          "name": "stderr",
          "text": [
            " 53%|█████▎    | 153/290 [02:34<02:17,  1.00s/it, loss=0.0956]"
          ]
        },
        {
          "output_type": "stream",
          "name": "stdout",
          "text": [
            "<\n"
          ]
        },
        {
          "output_type": "stream",
          "name": "stderr",
          "text": [
            " 63%|██████▎   | 184/290 [03:05<01:44,  1.01it/s, loss=0.131]"
          ]
        },
        {
          "output_type": "stream",
          "name": "stdout",
          "text": [
            "]\n"
          ]
        },
        {
          "output_type": "stream",
          "name": "stderr",
          "text": [
            " 66%|██████▌   | 192/290 [03:14<01:38,  1.00s/it, loss=0.0904]"
          ]
        },
        {
          "output_type": "stream",
          "name": "stdout",
          "text": [
            "[\n"
          ]
        },
        {
          "output_type": "stream",
          "name": "stderr",
          "text": [
            " 68%|██████▊   | 198/290 [03:20<01:32,  1.01s/it, loss=0.0843]"
          ]
        },
        {
          "output_type": "stream",
          "name": "stdout",
          "text": [
            "]\n"
          ]
        },
        {
          "output_type": "stream",
          "name": "stderr",
          "text": [
            " 69%|██████▉   | 201/290 [03:23<01:28,  1.00it/s, loss=0.106]"
          ]
        },
        {
          "output_type": "stream",
          "name": "stdout",
          "text": [
            "]\n",
            "[\n",
            "]\n"
          ]
        },
        {
          "output_type": "stream",
          "name": "stderr",
          "text": [
            " 71%|███████▏  | 207/290 [03:28<01:22,  1.01it/s, loss=0.0907]"
          ]
        },
        {
          "output_type": "stream",
          "name": "stdout",
          "text": [
            ">\n",
            ">\n"
          ]
        },
        {
          "output_type": "stream",
          "name": "stderr",
          "text": [
            " 79%|███████▉  | 229/290 [03:51<01:00,  1.01it/s, loss=0.0869]"
          ]
        },
        {
          "output_type": "stream",
          "name": "stdout",
          "text": [
            "[\n"
          ]
        },
        {
          "output_type": "stream",
          "name": "stderr",
          "text": [
            " 96%|█████████▌| 278/290 [04:40<00:12,  1.02s/it, loss=0.0964]"
          ]
        },
        {
          "output_type": "stream",
          "name": "stdout",
          "text": [
            "]\n",
            "[\n",
            "]\n",
            "[\n",
            "]\n"
          ]
        },
        {
          "output_type": "stream",
          "name": "stderr",
          "text": [
            "100%|██████████| 290/290 [04:52<00:00,  1.01s/it, loss=0.105]\n",
            " 11%|█         | 31/290 [00:31<04:20,  1.01s/it, loss=0.102]"
          ]
        },
        {
          "output_type": "stream",
          "name": "stdout",
          "text": [
            ">\n"
          ]
        },
        {
          "output_type": "stream",
          "name": "stderr",
          "text": [
            " 14%|█▍        | 41/290 [00:41<04:07,  1.00it/s, loss=0.0816]"
          ]
        },
        {
          "output_type": "stream",
          "name": "stdout",
          "text": [
            ">\n"
          ]
        },
        {
          "output_type": "stream",
          "name": "stderr",
          "text": [
            " 14%|█▍        | 42/290 [00:42<04:11,  1.01s/it, loss=0.0648]"
          ]
        },
        {
          "output_type": "stream",
          "name": "stdout",
          "text": [
            ">\n",
            ">\n"
          ]
        },
        {
          "output_type": "stream",
          "name": "stderr",
          "text": [
            " 15%|█▍        | 43/290 [00:43<04:13,  1.03s/it, loss=0.0833]"
          ]
        },
        {
          "output_type": "stream",
          "name": "stdout",
          "text": [
            "]\n",
            "[\n",
            "]\n"
          ]
        },
        {
          "output_type": "stream",
          "name": "stderr",
          "text": [
            " 16%|█▌        | 47/290 [00:47<04:06,  1.01s/it, loss=0.0741]"
          ]
        },
        {
          "output_type": "stream",
          "name": "stdout",
          "text": [
            ">\n",
            ">\n"
          ]
        },
        {
          "output_type": "stream",
          "name": "stderr",
          "text": [
            " 17%|█▋        | 48/290 [00:48<04:09,  1.03s/it, loss=0.11]"
          ]
        },
        {
          "output_type": "stream",
          "name": "stdout",
          "text": [
            ">\n",
            ">\n"
          ]
        },
        {
          "output_type": "stream",
          "name": "stderr",
          "text": [
            " 20%|██        | 58/290 [00:58<03:52,  1.00s/it, loss=0.0797]"
          ]
        },
        {
          "output_type": "stream",
          "name": "stdout",
          "text": [
            "<\n"
          ]
        },
        {
          "output_type": "stream",
          "name": "stderr",
          "text": [
            " 21%|██▏       | 62/290 [01:02<03:46,  1.01it/s, loss=0.0693]"
          ]
        },
        {
          "output_type": "stream",
          "name": "stdout",
          "text": [
            ">\n"
          ]
        },
        {
          "output_type": "stream",
          "name": "stderr",
          "text": [
            " 22%|██▏       | 63/290 [01:03<03:45,  1.01it/s, loss=0.0783]"
          ]
        },
        {
          "output_type": "stream",
          "name": "stdout",
          "text": [
            ">\n",
            ">\n"
          ]
        },
        {
          "output_type": "stream",
          "name": "stderr",
          "text": [
            " 23%|██▎       | 67/290 [01:07<03:40,  1.01it/s, loss=0.0842]"
          ]
        },
        {
          "output_type": "stream",
          "name": "stdout",
          "text": [
            "*\n",
            "*\n",
            "*\n"
          ]
        },
        {
          "output_type": "stream",
          "name": "stderr",
          "text": [
            " 35%|███▌      | 102/290 [01:42<03:12,  1.02s/it, loss=0.0658]"
          ]
        },
        {
          "output_type": "stream",
          "name": "stdout",
          "text": [
            "<\n"
          ]
        },
        {
          "output_type": "stream",
          "name": "stderr",
          "text": [
            " 36%|███▌      | 104/290 [01:44<03:09,  1.02s/it, loss=0.074]"
          ]
        },
        {
          "output_type": "stream",
          "name": "stdout",
          "text": [
            "]\n"
          ]
        },
        {
          "output_type": "stream",
          "name": "stderr",
          "text": [
            " 37%|███▋      | 106/290 [01:46<03:05,  1.01s/it, loss=0.0781]"
          ]
        },
        {
          "output_type": "stream",
          "name": "stdout",
          "text": [
            "*\n",
            "*\n",
            "*\n"
          ]
        },
        {
          "output_type": "stream",
          "name": "stderr",
          "text": [
            " 38%|███▊      | 110/290 [01:50<03:08,  1.05s/it, loss=0.0802]"
          ]
        },
        {
          "output_type": "stream",
          "name": "stdout",
          "text": [
            "[\n",
            "]\n"
          ]
        },
        {
          "output_type": "stream",
          "name": "stderr",
          "text": [
            " 41%|████▏     | 120/290 [02:00<02:54,  1.02s/it, loss=0.0984]"
          ]
        },
        {
          "output_type": "stream",
          "name": "stdout",
          "text": [
            "[\n",
            "]\n"
          ]
        },
        {
          "output_type": "stream",
          "name": "stderr",
          "text": [
            " 43%|████▎     | 124/290 [02:04<02:50,  1.03s/it, loss=0.0693]"
          ]
        },
        {
          "output_type": "stream",
          "name": "stdout",
          "text": [
            "]\n",
            "[\n",
            "]\n"
          ]
        },
        {
          "output_type": "stream",
          "name": "stderr",
          "text": [
            " 43%|████▎     | 125/290 [02:05<02:47,  1.02s/it, loss=0.0769]"
          ]
        },
        {
          "output_type": "stream",
          "name": "stdout",
          "text": [
            ">\n",
            ">\n"
          ]
        },
        {
          "output_type": "stream",
          "name": "stderr",
          "text": [
            " 46%|████▌     | 132/290 [02:12<02:37,  1.00it/s, loss=0.0845]"
          ]
        },
        {
          "output_type": "stream",
          "name": "stdout",
          "text": [
            ">\n",
            ">\n"
          ]
        },
        {
          "output_type": "stream",
          "name": "stderr",
          "text": [
            " 46%|████▌     | 133/290 [02:13<02:36,  1.00it/s, loss=0.114]"
          ]
        },
        {
          "output_type": "stream",
          "name": "stdout",
          "text": [
            "[\n",
            "]\n"
          ]
        },
        {
          "output_type": "stream",
          "name": "stderr",
          "text": [
            " 46%|████▌     | 134/290 [02:15<02:37,  1.01s/it, loss=0.0865]"
          ]
        },
        {
          "output_type": "stream",
          "name": "stdout",
          "text": [
            ">\n",
            ">\n"
          ]
        },
        {
          "output_type": "stream",
          "name": "stderr",
          "text": [
            " 49%|████▊     | 141/290 [02:22<02:31,  1.01s/it, loss=0.0673]"
          ]
        },
        {
          "output_type": "stream",
          "name": "stdout",
          "text": [
            "]\n"
          ]
        },
        {
          "output_type": "stream",
          "name": "stderr",
          "text": [
            " 52%|█████▏    | 151/290 [02:32<02:21,  1.02s/it, loss=0.0738]"
          ]
        },
        {
          "output_type": "stream",
          "name": "stdout",
          "text": [
            "[\n",
            "]\n"
          ]
        },
        {
          "output_type": "stream",
          "name": "stderr",
          "text": [
            " 54%|█████▍    | 157/290 [02:38<02:17,  1.04s/it, loss=0.0604]"
          ]
        },
        {
          "output_type": "stream",
          "name": "stdout",
          "text": [
            "[\n"
          ]
        },
        {
          "output_type": "stream",
          "name": "stderr",
          "text": [
            " 58%|█████▊    | 168/290 [02:49<02:00,  1.01it/s, loss=0.0925]"
          ]
        },
        {
          "output_type": "stream",
          "name": "stdout",
          "text": [
            "*\n",
            "*\n",
            "*\n"
          ]
        },
        {
          "output_type": "stream",
          "name": "stderr",
          "text": [
            " 70%|███████   | 203/290 [03:24<01:28,  1.02s/it, loss=0.0866]"
          ]
        },
        {
          "output_type": "stream",
          "name": "stdout",
          "text": [
            "*\n",
            "*\n",
            "*\n"
          ]
        },
        {
          "output_type": "stream",
          "name": "stderr",
          "text": [
            " 71%|███████   | 206/290 [03:27<01:25,  1.02s/it, loss=0.101]"
          ]
        },
        {
          "output_type": "stream",
          "name": "stdout",
          "text": [
            "[\n"
          ]
        },
        {
          "output_type": "stream",
          "name": "stderr",
          "text": [
            " 72%|███████▏  | 209/290 [03:30<01:21,  1.00s/it, loss=0.086]"
          ]
        },
        {
          "output_type": "stream",
          "name": "stdout",
          "text": [
            ">\n",
            ">\n",
            ">\n"
          ]
        },
        {
          "output_type": "stream",
          "name": "stderr",
          "text": [
            " 82%|████████▏ | 239/290 [04:01<00:51,  1.00s/it, loss=0.0799]"
          ]
        },
        {
          "output_type": "stream",
          "name": "stdout",
          "text": [
            ">\n",
            ">\n"
          ]
        },
        {
          "output_type": "stream",
          "name": "stderr",
          "text": [
            " 86%|████████▌ | 249/290 [04:11<00:40,  1.00it/s, loss=0.0689]"
          ]
        },
        {
          "output_type": "stream",
          "name": "stdout",
          "text": [
            "[\n"
          ]
        },
        {
          "output_type": "stream",
          "name": "stderr",
          "text": [
            " 87%|████████▋ | 253/290 [04:15<00:37,  1.01s/it, loss=0.0695]"
          ]
        },
        {
          "output_type": "stream",
          "name": "stdout",
          "text": [
            "[\n"
          ]
        },
        {
          "output_type": "stream",
          "name": "stderr",
          "text": [
            " 92%|█████████▏| 267/290 [04:29<00:23,  1.00s/it, loss=0.0813]"
          ]
        },
        {
          "output_type": "stream",
          "name": "stdout",
          "text": [
            ">\n",
            ">\n"
          ]
        },
        {
          "output_type": "stream",
          "name": "stderr",
          "text": [
            " 94%|█████████▍| 272/290 [04:34<00:18,  1.01s/it, loss=0.0966]"
          ]
        },
        {
          "output_type": "stream",
          "name": "stdout",
          "text": [
            ">\n",
            ">\n"
          ]
        },
        {
          "output_type": "stream",
          "name": "stderr",
          "text": [
            "100%|██████████| 290/290 [04:52<00:00,  1.01s/it, loss=0.0438]\n"
          ]
        },
        {
          "output_type": "stream",
          "name": "stdout",
          "text": [
            "checkpoint_ep29.pth.tar saved\n"
          ]
        },
        {
          "output_type": "stream",
          "name": "stderr",
          "text": [
            "  1%|▏         | 4/290 [00:04<04:48,  1.01s/it, loss=0.0657]"
          ]
        },
        {
          "output_type": "stream",
          "name": "stdout",
          "text": [
            "*\n",
            "*\n",
            "*\n"
          ]
        },
        {
          "output_type": "stream",
          "name": "stderr",
          "text": [
            "  2%|▏         | 6/290 [00:06<04:50,  1.02s/it, loss=0.0959]"
          ]
        },
        {
          "output_type": "stream",
          "name": "stdout",
          "text": [
            ">\n",
            ">\n",
            ">\n",
            "<\n"
          ]
        },
        {
          "output_type": "stream",
          "name": "stderr",
          "text": [
            " 10%|█         | 29/290 [00:29<04:24,  1.01s/it, loss=0.0583]"
          ]
        },
        {
          "output_type": "stream",
          "name": "stdout",
          "text": [
            "]\n"
          ]
        },
        {
          "output_type": "stream",
          "name": "stderr",
          "text": [
            " 11%|█▏        | 33/290 [00:33<04:31,  1.06s/it, loss=0.0774]"
          ]
        },
        {
          "output_type": "stream",
          "name": "stdout",
          "text": [
            ">\n",
            ">\n"
          ]
        },
        {
          "output_type": "stream",
          "name": "stderr",
          "text": [
            " 12%|█▏        | 36/290 [00:36<04:19,  1.02s/it, loss=0.0589]"
          ]
        },
        {
          "output_type": "stream",
          "name": "stdout",
          "text": [
            ">\n",
            ">\n"
          ]
        },
        {
          "output_type": "stream",
          "name": "stderr",
          "text": [
            " 14%|█▍        | 40/290 [00:40<04:16,  1.03s/it, loss=0.0833]"
          ]
        },
        {
          "output_type": "stream",
          "name": "stdout",
          "text": [
            "*\n",
            "*\n",
            "*\n"
          ]
        },
        {
          "output_type": "stream",
          "name": "stderr",
          "text": [
            " 16%|█▌        | 45/290 [00:45<04:10,  1.02s/it, loss=0.0848]"
          ]
        },
        {
          "output_type": "stream",
          "name": "stdout",
          "text": [
            ">\n",
            ">\n"
          ]
        },
        {
          "output_type": "stream",
          "name": "stderr",
          "text": [
            " 20%|██        | 58/290 [00:58<03:55,  1.01s/it, loss=0.0894]"
          ]
        },
        {
          "output_type": "stream",
          "name": "stdout",
          "text": [
            "[\n",
            "]\n",
            "*\n",
            "*\n",
            "*\n"
          ]
        },
        {
          "output_type": "stream",
          "name": "stderr",
          "text": [
            " 34%|███▍      | 99/290 [01:39<03:08,  1.01it/s, loss=0.0882]"
          ]
        },
        {
          "output_type": "stream",
          "name": "stdout",
          "text": [
            "]\n",
            "[\n",
            "]\n"
          ]
        },
        {
          "output_type": "stream",
          "name": "stderr",
          "text": [
            " 35%|███▌      | 102/290 [01:43<03:11,  1.02s/it, loss=0.0523]"
          ]
        },
        {
          "output_type": "stream",
          "name": "stdout",
          "text": [
            ">\n",
            ">\n"
          ]
        },
        {
          "output_type": "stream",
          "name": "stderr",
          "text": [
            " 38%|███▊      | 111/290 [01:51<02:57,  1.01it/s, loss=0.0683]"
          ]
        },
        {
          "output_type": "stream",
          "name": "stdout",
          "text": [
            ">\n",
            ">\n"
          ]
        },
        {
          "output_type": "stream",
          "name": "stderr",
          "text": [
            " 41%|████      | 118/290 [01:58<02:52,  1.00s/it, loss=0.0839]"
          ]
        },
        {
          "output_type": "stream",
          "name": "stdout",
          "text": [
            ">\n",
            ">\n"
          ]
        },
        {
          "output_type": "stream",
          "name": "stderr",
          "text": [
            " 42%|████▏     | 122/290 [02:03<03:00,  1.07s/it, loss=0.0889]"
          ]
        },
        {
          "output_type": "stream",
          "name": "stdout",
          "text": [
            "[\n",
            "]\n"
          ]
        },
        {
          "output_type": "stream",
          "name": "stderr",
          "text": [
            " 46%|████▌     | 133/290 [02:14<02:37,  1.00s/it, loss=0.0623]"
          ]
        },
        {
          "output_type": "stream",
          "name": "stdout",
          "text": [
            ">\n"
          ]
        },
        {
          "output_type": "stream",
          "name": "stderr",
          "text": [
            " 48%|████▊     | 139/290 [02:20<02:33,  1.02s/it, loss=0.0665]"
          ]
        },
        {
          "output_type": "stream",
          "name": "stdout",
          "text": [
            "<\n"
          ]
        },
        {
          "output_type": "stream",
          "name": "stderr",
          "text": [
            " 49%|████▉     | 142/290 [02:23<02:31,  1.02s/it, loss=0.0783]"
          ]
        },
        {
          "output_type": "stream",
          "name": "stdout",
          "text": [
            ">\n",
            ">\n"
          ]
        },
        {
          "output_type": "stream",
          "name": "stderr",
          "text": [
            " 52%|█████▏    | 152/290 [02:33<02:20,  1.02s/it, loss=0.065]"
          ]
        },
        {
          "output_type": "stream",
          "name": "stdout",
          "text": [
            ">\n",
            ">\n"
          ]
        },
        {
          "output_type": "stream",
          "name": "stderr",
          "text": [
            " 56%|█████▌    | 161/290 [02:42<02:07,  1.01it/s, loss=0.0603]"
          ]
        },
        {
          "output_type": "stream",
          "name": "stdout",
          "text": [
            ">\n",
            ">\n"
          ]
        },
        {
          "output_type": "stream",
          "name": "stderr",
          "text": [
            " 61%|██████    | 176/290 [02:57<01:54,  1.01s/it, loss=0.0747]"
          ]
        },
        {
          "output_type": "stream",
          "name": "stdout",
          "text": [
            "*\n",
            "*\n",
            "*\n"
          ]
        },
        {
          "output_type": "stream",
          "name": "stderr",
          "text": [
            " 65%|██████▌   | 189/290 [03:11<01:42,  1.01s/it, loss=0.0693]"
          ]
        },
        {
          "output_type": "stream",
          "name": "stdout",
          "text": [
            "[\n"
          ]
        },
        {
          "output_type": "stream",
          "name": "stderr",
          "text": [
            " 66%|██████▌   | 191/290 [03:13<01:39,  1.01s/it, loss=0.0937]"
          ]
        },
        {
          "output_type": "stream",
          "name": "stdout",
          "text": [
            "[\n"
          ]
        },
        {
          "output_type": "stream",
          "name": "stderr",
          "text": [
            " 74%|███████▍  | 215/290 [03:37<01:15,  1.01s/it, loss=0.0542]"
          ]
        },
        {
          "output_type": "stream",
          "name": "stdout",
          "text": [
            "]\n",
            "[\n",
            "]\n"
          ]
        },
        {
          "output_type": "stream",
          "name": "stderr",
          "text": [
            " 79%|███████▊  | 228/290 [03:50<01:05,  1.06s/it, loss=0.0706]"
          ]
        },
        {
          "output_type": "stream",
          "name": "stdout",
          "text": [
            ">\n",
            ">\n"
          ]
        },
        {
          "output_type": "stream",
          "name": "stderr",
          "text": [
            " 83%|████████▎ | 242/290 [04:05<00:49,  1.03s/it, loss=0.0997]"
          ]
        },
        {
          "output_type": "stream",
          "name": "stdout",
          "text": [
            "]\n"
          ]
        },
        {
          "output_type": "stream",
          "name": "stderr",
          "text": [
            " 91%|█████████ | 264/290 [04:27<00:26,  1.01s/it, loss=0.06]"
          ]
        },
        {
          "output_type": "stream",
          "name": "stdout",
          "text": [
            "[\n",
            "]\n"
          ]
        },
        {
          "output_type": "stream",
          "name": "stderr",
          "text": [
            " 94%|█████████▍| 274/290 [04:37<00:16,  1.02s/it, loss=0.0632]"
          ]
        },
        {
          "output_type": "stream",
          "name": "stdout",
          "text": [
            "[\n",
            "]\n",
            ">\n"
          ]
        },
        {
          "output_type": "stream",
          "name": "stderr",
          "text": [
            " 95%|█████████▍| 275/290 [04:38<00:15,  1.01s/it, loss=0.0717]"
          ]
        },
        {
          "output_type": "stream",
          "name": "stdout",
          "text": [
            ">\n"
          ]
        },
        {
          "output_type": "stream",
          "name": "stderr",
          "text": [
            " 96%|█████████▌| 277/290 [04:40<00:12,  1.01it/s, loss=0.0852]"
          ]
        },
        {
          "output_type": "stream",
          "name": "stdout",
          "text": [
            "[\n"
          ]
        },
        {
          "output_type": "stream",
          "name": "stderr",
          "text": [
            " 98%|█████████▊| 283/290 [04:46<00:06,  1.02it/s, loss=0.0438]"
          ]
        },
        {
          "output_type": "stream",
          "name": "stdout",
          "text": [
            "[\n"
          ]
        },
        {
          "output_type": "stream",
          "name": "stderr",
          "text": [
            "100%|██████████| 290/290 [04:53<00:00,  1.01s/it, loss=0.0676]\n",
            "  1%|          | 2/290 [00:01<04:47,  1.00it/s, loss=0.0871]"
          ]
        },
        {
          "output_type": "stream",
          "name": "stdout",
          "text": [
            "]\n"
          ]
        },
        {
          "output_type": "stream",
          "name": "stderr",
          "text": [
            "  4%|▍         | 12/290 [00:12<04:50,  1.04s/it, loss=0.0528]"
          ]
        },
        {
          "output_type": "stream",
          "name": "stdout",
          "text": [
            ">\n",
            ">\n"
          ]
        },
        {
          "output_type": "stream",
          "name": "stderr",
          "text": [
            "  4%|▍         | 13/290 [00:13<04:54,  1.06s/it, loss=0.0571]"
          ]
        },
        {
          "output_type": "stream",
          "name": "stdout",
          "text": [
            "<\n"
          ]
        },
        {
          "output_type": "stream",
          "name": "stderr",
          "text": [
            "  7%|▋         | 20/290 [00:20<04:32,  1.01s/it, loss=0.0543]"
          ]
        },
        {
          "output_type": "stream",
          "name": "stdout",
          "text": [
            "*\n",
            "*\n",
            "*\n"
          ]
        },
        {
          "output_type": "stream",
          "name": "stderr",
          "text": [
            " 11%|█▏        | 33/290 [00:33<04:14,  1.01it/s, loss=0.0575]"
          ]
        },
        {
          "output_type": "stream",
          "name": "stdout",
          "text": [
            "*\n",
            "*\n",
            "*\n"
          ]
        },
        {
          "output_type": "stream",
          "name": "stderr",
          "text": [
            " 15%|█▍        | 43/290 [00:43<04:13,  1.03s/it, loss=0.051]"
          ]
        },
        {
          "output_type": "stream",
          "name": "stdout",
          "text": [
            "]\n"
          ]
        },
        {
          "output_type": "stream",
          "name": "stderr",
          "text": [
            " 18%|█▊        | 51/290 [00:51<03:56,  1.01it/s, loss=0.0595]"
          ]
        },
        {
          "output_type": "stream",
          "name": "stdout",
          "text": [
            "[\n"
          ]
        },
        {
          "output_type": "stream",
          "name": "stderr",
          "text": [
            " 18%|█▊        | 52/290 [00:52<03:58,  1.00s/it, loss=0.0651]"
          ]
        },
        {
          "output_type": "stream",
          "name": "stdout",
          "text": [
            ">\n"
          ]
        },
        {
          "output_type": "stream",
          "name": "stderr",
          "text": [
            " 25%|██▌       | 73/290 [01:13<03:42,  1.03s/it, loss=0.068]"
          ]
        },
        {
          "output_type": "stream",
          "name": "stdout",
          "text": [
            "[\n",
            "]\n"
          ]
        },
        {
          "output_type": "stream",
          "name": "stderr",
          "text": [
            " 29%|██▉       | 85/290 [01:25<03:27,  1.01s/it, loss=0.0608]"
          ]
        },
        {
          "output_type": "stream",
          "name": "stdout",
          "text": [
            "[\n",
            "]\n"
          ]
        },
        {
          "output_type": "stream",
          "name": "stderr",
          "text": [
            " 33%|███▎      | 95/290 [01:35<03:12,  1.01it/s, loss=0.0628]"
          ]
        },
        {
          "output_type": "stream",
          "name": "stdout",
          "text": [
            ">\n",
            ">\n"
          ]
        },
        {
          "output_type": "stream",
          "name": "stderr",
          "text": [
            " 36%|███▌      | 105/290 [01:45<03:06,  1.01s/it, loss=0.0735]"
          ]
        },
        {
          "output_type": "stream",
          "name": "stdout",
          "text": [
            ">\n",
            ">\n"
          ]
        },
        {
          "output_type": "stream",
          "name": "stderr",
          "text": [
            " 42%|████▏     | 122/290 [02:02<02:52,  1.03s/it, loss=0.059]"
          ]
        },
        {
          "output_type": "stream",
          "name": "stdout",
          "text": [
            ">\n"
          ]
        },
        {
          "output_type": "stream",
          "name": "stderr",
          "text": [
            " 50%|████▉     | 144/290 [02:25<02:30,  1.03s/it, loss=0.0781]"
          ]
        },
        {
          "output_type": "stream",
          "name": "stdout",
          "text": [
            "[\n",
            "]\n"
          ]
        },
        {
          "output_type": "stream",
          "name": "stderr",
          "text": [
            " 54%|█████▍    | 158/290 [02:39<02:12,  1.01s/it, loss=0.076]"
          ]
        },
        {
          "output_type": "stream",
          "name": "stdout",
          "text": [
            ">\n",
            ">\n"
          ]
        },
        {
          "output_type": "stream",
          "name": "stderr",
          "text": [
            " 56%|█████▌    | 161/290 [02:42<02:08,  1.00it/s, loss=0.0675]"
          ]
        },
        {
          "output_type": "stream",
          "name": "stdout",
          "text": [
            "[\n"
          ]
        },
        {
          "output_type": "stream",
          "name": "stderr",
          "text": [
            " 58%|█████▊    | 168/290 [02:49<02:04,  1.02s/it, loss=0.0553]"
          ]
        },
        {
          "output_type": "stream",
          "name": "stdout",
          "text": [
            "*\n",
            "*\n",
            "*\n"
          ]
        },
        {
          "output_type": "stream",
          "name": "stderr",
          "text": [
            " 59%|█████▊    | 170/290 [02:51<02:01,  1.01s/it, loss=0.0543]"
          ]
        },
        {
          "output_type": "stream",
          "name": "stdout",
          "text": [
            ">\n",
            ">\n"
          ]
        },
        {
          "output_type": "stream",
          "name": "stderr",
          "text": [
            " 60%|██████    | 175/290 [02:56<01:55,  1.01s/it, loss=0.069]"
          ]
        },
        {
          "output_type": "stream",
          "name": "stdout",
          "text": [
            ">\n"
          ]
        },
        {
          "output_type": "stream",
          "name": "stderr",
          "text": [
            " 64%|██████▍   | 185/290 [03:06<01:45,  1.00s/it, loss=0.081]"
          ]
        },
        {
          "output_type": "stream",
          "name": "stdout",
          "text": [
            ">\n",
            ">\n"
          ]
        },
        {
          "output_type": "stream",
          "name": "stderr",
          "text": [
            " 72%|███████▏  | 209/290 [03:31<01:21,  1.00s/it, loss=0.0464]"
          ]
        },
        {
          "output_type": "stream",
          "name": "stdout",
          "text": [
            "<\n"
          ]
        },
        {
          "output_type": "stream",
          "name": "stderr",
          "text": [
            " 76%|███████▌  | 219/290 [03:41<01:09,  1.02it/s, loss=0.0756]"
          ]
        },
        {
          "output_type": "stream",
          "name": "stdout",
          "text": [
            "[\n",
            "]\n"
          ]
        },
        {
          "output_type": "stream",
          "name": "stderr",
          "text": [
            " 76%|███████▌  | 220/290 [03:41<01:08,  1.02it/s, loss=0.0699]"
          ]
        },
        {
          "output_type": "stream",
          "name": "stdout",
          "text": [
            "[\n"
          ]
        },
        {
          "output_type": "stream",
          "name": "stderr",
          "text": [
            " 77%|███████▋  | 223/290 [03:45<01:08,  1.02s/it, loss=0.067]"
          ]
        },
        {
          "output_type": "stream",
          "name": "stdout",
          "text": [
            "]\n",
            "[\n",
            "]\n"
          ]
        },
        {
          "output_type": "stream",
          "name": "stderr",
          "text": [
            " 80%|████████  | 232/290 [03:54<00:58,  1.00s/it, loss=0.0607]"
          ]
        },
        {
          "output_type": "stream",
          "name": "stdout",
          "text": [
            "*\n",
            "*\n",
            "*\n"
          ]
        },
        {
          "output_type": "stream",
          "name": "stderr",
          "text": [
            " 87%|████████▋ | 252/290 [04:14<00:37,  1.01it/s, loss=0.0806]"
          ]
        },
        {
          "output_type": "stream",
          "name": "stdout",
          "text": [
            ">\n",
            ">\n",
            "]\n",
            "[\n",
            "]\n"
          ]
        },
        {
          "output_type": "stream",
          "name": "stderr",
          "text": [
            " 89%|████████▉ | 259/290 [04:21<00:31,  1.01s/it, loss=0.0486]"
          ]
        },
        {
          "output_type": "stream",
          "name": "stdout",
          "text": [
            ">\n",
            ">\n"
          ]
        },
        {
          "output_type": "stream",
          "name": "stderr",
          "text": [
            " 96%|█████████▌| 278/290 [04:40<00:12,  1.01s/it, loss=0.103]"
          ]
        },
        {
          "output_type": "stream",
          "name": "stdout",
          "text": [
            ">\n",
            ">\n",
            ">\n"
          ]
        },
        {
          "output_type": "stream",
          "name": "stderr",
          "text": [
            " 97%|█████████▋| 281/290 [04:43<00:09,  1.00s/it, loss=0.0637]"
          ]
        },
        {
          "output_type": "stream",
          "name": "stdout",
          "text": [
            "[\n"
          ]
        },
        {
          "output_type": "stream",
          "name": "stderr",
          "text": [
            " 99%|█████████▊| 286/290 [04:48<00:04,  1.01s/it, loss=0.0801]"
          ]
        },
        {
          "output_type": "stream",
          "name": "stdout",
          "text": [
            ">\n",
            ">\n"
          ]
        },
        {
          "output_type": "stream",
          "name": "stderr",
          "text": [
            " 99%|█████████▉| 288/290 [04:50<00:02,  1.02s/it, loss=0.0666]"
          ]
        },
        {
          "output_type": "stream",
          "name": "stdout",
          "text": [
            ">\n",
            ">\n"
          ]
        },
        {
          "output_type": "stream",
          "name": "stderr",
          "text": [
            "100%|██████████| 290/290 [04:52<00:00,  1.01s/it, loss=0.0768]\n"
          ]
        },
        {
          "output_type": "stream",
          "name": "stdout",
          "text": [
            "checkpoint_ep31.pth.tar saved\n"
          ]
        },
        {
          "output_type": "stream",
          "name": "stderr",
          "text": [
            "\r  0%|          | 0/290 [00:00<?, ?it/s]"
          ]
        },
        {
          "output_type": "stream",
          "name": "stdout",
          "text": [
            ">\n",
            ">\n"
          ]
        },
        {
          "output_type": "stream",
          "name": "stderr",
          "text": [
            "  0%|          | 1/290 [00:01<05:07,  1.06s/it, loss=0.0573]"
          ]
        },
        {
          "output_type": "stream",
          "name": "stdout",
          "text": [
            "[\n",
            "]\n"
          ]
        },
        {
          "output_type": "stream",
          "name": "stderr",
          "text": [
            "  6%|▌         | 16/290 [00:15<04:30,  1.01it/s, loss=0.0564]"
          ]
        },
        {
          "output_type": "stream",
          "name": "stdout",
          "text": [
            "[\n",
            "]\n"
          ]
        },
        {
          "output_type": "stream",
          "name": "stderr",
          "text": [
            "  7%|▋         | 21/290 [00:20<04:30,  1.00s/it, loss=0.0777]"
          ]
        },
        {
          "output_type": "stream",
          "name": "stdout",
          "text": [
            "[\n"
          ]
        },
        {
          "output_type": "stream",
          "name": "stderr",
          "text": [
            "  8%|▊         | 24/290 [00:24<04:34,  1.03s/it, loss=0.0587]"
          ]
        },
        {
          "output_type": "stream",
          "name": "stdout",
          "text": [
            ">\n",
            ">\n"
          ]
        },
        {
          "output_type": "stream",
          "name": "stderr",
          "text": [
            " 10%|█         | 29/290 [00:29<04:34,  1.05s/it, loss=0.057]"
          ]
        },
        {
          "output_type": "stream",
          "name": "stdout",
          "text": [
            "<\n"
          ]
        },
        {
          "output_type": "stream",
          "name": "stderr",
          "text": [
            " 16%|█▌        | 46/290 [00:46<04:11,  1.03s/it, loss=0.068]"
          ]
        },
        {
          "output_type": "stream",
          "name": "stdout",
          "text": [
            ">\n",
            ">\n"
          ]
        },
        {
          "output_type": "stream",
          "name": "stderr",
          "text": [
            " 23%|██▎       | 67/290 [01:07<03:38,  1.02it/s, loss=0.0509]"
          ]
        },
        {
          "output_type": "stream",
          "name": "stdout",
          "text": [
            "*\n",
            "*\n",
            "*\n"
          ]
        },
        {
          "output_type": "stream",
          "name": "stderr",
          "text": [
            " 24%|██▍       | 70/290 [01:10<03:39,  1.00it/s, loss=0.0538]"
          ]
        },
        {
          "output_type": "stream",
          "name": "stdout",
          "text": [
            ">\n",
            ">\n"
          ]
        },
        {
          "output_type": "stream",
          "name": "stderr",
          "text": [
            " 30%|███       | 88/290 [01:28<03:28,  1.03s/it, loss=0.087]"
          ]
        },
        {
          "output_type": "stream",
          "name": "stdout",
          "text": [
            "]\n"
          ]
        },
        {
          "output_type": "stream",
          "name": "stderr",
          "text": [
            " 37%|███▋      | 107/290 [01:47<03:03,  1.00s/it, loss=0.0558]"
          ]
        },
        {
          "output_type": "stream",
          "name": "stdout",
          "text": [
            ">\n"
          ]
        },
        {
          "output_type": "stream",
          "name": "stderr",
          "text": [
            " 39%|███▊      | 112/290 [01:53<03:00,  1.01s/it, loss=0.0757]"
          ]
        },
        {
          "output_type": "stream",
          "name": "stdout",
          "text": [
            "]\n",
            "[\n",
            "]\n"
          ]
        },
        {
          "output_type": "stream",
          "name": "stderr",
          "text": [
            " 41%|████      | 119/290 [02:00<02:56,  1.03s/it, loss=0.0636]"
          ]
        },
        {
          "output_type": "stream",
          "name": "stdout",
          "text": [
            "[\n",
            "]\n"
          ]
        },
        {
          "output_type": "stream",
          "name": "stderr",
          "text": [
            " 42%|████▏     | 122/290 [02:03<02:49,  1.01s/it, loss=0.0639]"
          ]
        },
        {
          "output_type": "stream",
          "name": "stdout",
          "text": [
            ">\n",
            ">\n"
          ]
        },
        {
          "output_type": "stream",
          "name": "stderr",
          "text": [
            " 44%|████▍     | 128/290 [02:09<02:43,  1.01s/it, loss=0.0412]"
          ]
        },
        {
          "output_type": "stream",
          "name": "stdout",
          "text": [
            ">\n",
            ">\n"
          ]
        },
        {
          "output_type": "stream",
          "name": "stderr",
          "text": [
            " 45%|████▌     | 131/290 [02:12<02:41,  1.02s/it, loss=0.0595]"
          ]
        },
        {
          "output_type": "stream",
          "name": "stdout",
          "text": [
            "[\n"
          ]
        },
        {
          "output_type": "stream",
          "name": "stderr",
          "text": [
            " 47%|████▋     | 135/290 [02:16<02:40,  1.03s/it, loss=0.0527]"
          ]
        },
        {
          "output_type": "stream",
          "name": "stdout",
          "text": [
            "[\n"
          ]
        },
        {
          "output_type": "stream",
          "name": "stderr",
          "text": [
            " 47%|████▋     | 137/290 [02:18<02:36,  1.02s/it, loss=0.0612]"
          ]
        },
        {
          "output_type": "stream",
          "name": "stdout",
          "text": [
            "*\n",
            "*\n",
            "*\n"
          ]
        },
        {
          "output_type": "stream",
          "name": "stderr",
          "text": [
            " 50%|█████     | 146/290 [02:27<02:25,  1.01s/it, loss=0.0521]"
          ]
        },
        {
          "output_type": "stream",
          "name": "stdout",
          "text": [
            ">\n",
            ">\n"
          ]
        },
        {
          "output_type": "stream",
          "name": "stderr",
          "text": [
            " 53%|█████▎    | 155/290 [02:36<02:18,  1.03s/it, loss=0.0576]"
          ]
        },
        {
          "output_type": "stream",
          "name": "stdout",
          "text": [
            "*\n",
            "*\n",
            "*\n"
          ]
        },
        {
          "output_type": "stream",
          "name": "stderr",
          "text": [
            " 63%|██████▎   | 182/290 [03:04<01:47,  1.00it/s, loss=0.0508]"
          ]
        },
        {
          "output_type": "stream",
          "name": "stdout",
          "text": [
            ">\n",
            ">\n"
          ]
        },
        {
          "output_type": "stream",
          "name": "stderr",
          "text": [
            " 64%|██████▍   | 185/290 [03:07<01:45,  1.00s/it, loss=0.0677]"
          ]
        },
        {
          "output_type": "stream",
          "name": "stdout",
          "text": [
            "[\n"
          ]
        },
        {
          "output_type": "stream",
          "name": "stderr",
          "text": [
            " 64%|██████▍   | 187/290 [03:09<01:42,  1.01it/s, loss=0.048]"
          ]
        },
        {
          "output_type": "stream",
          "name": "stdout",
          "text": [
            ">\n"
          ]
        },
        {
          "output_type": "stream",
          "name": "stderr",
          "text": [
            " 66%|██████▌   | 191/290 [03:13<01:38,  1.01it/s, loss=0.0532]"
          ]
        },
        {
          "output_type": "stream",
          "name": "stdout",
          "text": [
            "*\n",
            "*\n",
            "*\n"
          ]
        },
        {
          "output_type": "stream",
          "name": "stderr",
          "text": [
            " 67%|██████▋   | 195/290 [03:17<01:35,  1.00s/it, loss=0.0366]"
          ]
        },
        {
          "output_type": "stream",
          "name": "stdout",
          "text": [
            "]\n"
          ]
        },
        {
          "output_type": "stream",
          "name": "stderr",
          "text": [
            " 76%|███████▌  | 220/290 [03:42<01:11,  1.03s/it, loss=0.0346]"
          ]
        },
        {
          "output_type": "stream",
          "name": "stdout",
          "text": [
            "]\n",
            "[\n",
            "]\n"
          ]
        },
        {
          "output_type": "stream",
          "name": "stderr",
          "text": [
            " 79%|███████▊  | 228/290 [03:50<01:01,  1.01it/s, loss=0.0518]"
          ]
        },
        {
          "output_type": "stream",
          "name": "stdout",
          "text": [
            "[\n",
            "]\n"
          ]
        },
        {
          "output_type": "stream",
          "name": "stderr",
          "text": [
            " 84%|████████▍ | 243/290 [04:05<00:46,  1.01it/s, loss=0.0583]"
          ]
        },
        {
          "output_type": "stream",
          "name": "stdout",
          "text": [
            ">\n",
            ">\n"
          ]
        },
        {
          "output_type": "stream",
          "name": "stderr",
          "text": [
            " 89%|████████▉ | 259/290 [04:22<00:31,  1.01s/it, loss=0.0597]"
          ]
        },
        {
          "output_type": "stream",
          "name": "stdout",
          "text": [
            "<\n"
          ]
        },
        {
          "output_type": "stream",
          "name": "stderr",
          "text": [
            " 97%|█████████▋| 280/290 [04:43<00:09,  1.00it/s, loss=0.0507]"
          ]
        },
        {
          "output_type": "stream",
          "name": "stdout",
          "text": [
            ">\n"
          ]
        },
        {
          "output_type": "stream",
          "name": "stderr",
          "text": [
            " 97%|█████████▋| 281/290 [04:44<00:08,  1.01it/s, loss=0.0622]"
          ]
        },
        {
          "output_type": "stream",
          "name": "stdout",
          "text": [
            ">\n",
            ">\n"
          ]
        },
        {
          "output_type": "stream",
          "name": "stderr",
          "text": [
            " 98%|█████████▊| 283/290 [04:46<00:07,  1.01s/it, loss=0.0583]"
          ]
        },
        {
          "output_type": "stream",
          "name": "stdout",
          "text": [
            ">\n",
            ">\n",
            ">\n"
          ]
        },
        {
          "output_type": "stream",
          "name": "stderr",
          "text": [
            "100%|██████████| 290/290 [04:53<00:00,  1.01s/it, loss=0.0424]\n",
            "  1%|          | 2/290 [00:02<04:50,  1.01s/it, loss=0.0447]"
          ]
        },
        {
          "output_type": "stream",
          "name": "stdout",
          "text": [
            "<\n"
          ]
        },
        {
          "output_type": "stream",
          "name": "stderr",
          "text": [
            "  6%|▌         | 18/290 [00:18<04:31,  1.00it/s, loss=0.0409]"
          ]
        },
        {
          "output_type": "stream",
          "name": "stdout",
          "text": [
            ">\n",
            ">\n"
          ]
        },
        {
          "output_type": "stream",
          "name": "stderr",
          "text": [
            "  7%|▋         | 20/290 [00:20<04:35,  1.02s/it, loss=0.044]"
          ]
        },
        {
          "output_type": "stream",
          "name": "stdout",
          "text": [
            ">\n"
          ]
        },
        {
          "output_type": "stream",
          "name": "stderr",
          "text": [
            " 10%|█         | 29/290 [00:29<04:25,  1.02s/it, loss=0.0586]"
          ]
        },
        {
          "output_type": "stream",
          "name": "stdout",
          "text": [
            ">\n",
            ">\n"
          ]
        },
        {
          "output_type": "stream",
          "name": "stderr",
          "text": [
            " 16%|█▌        | 45/290 [00:45<04:07,  1.01s/it, loss=0.0599]"
          ]
        },
        {
          "output_type": "stream",
          "name": "stdout",
          "text": [
            ">\n"
          ]
        },
        {
          "output_type": "stream",
          "name": "stderr",
          "text": [
            " 16%|█▌        | 46/290 [00:46<04:05,  1.01s/it, loss=0.0347]"
          ]
        },
        {
          "output_type": "stream",
          "name": "stdout",
          "text": [
            "[\n",
            "]\n"
          ]
        },
        {
          "output_type": "stream",
          "name": "stderr",
          "text": [
            " 17%|█▋        | 48/290 [00:48<04:03,  1.01s/it, loss=0.0453]"
          ]
        },
        {
          "output_type": "stream",
          "name": "stdout",
          "text": [
            "]\n",
            "[\n",
            "]\n"
          ]
        },
        {
          "output_type": "stream",
          "name": "stderr",
          "text": [
            " 26%|██▌       | 74/290 [01:14<03:32,  1.02it/s, loss=0.0495]"
          ]
        },
        {
          "output_type": "stream",
          "name": "stdout",
          "text": [
            "*\n",
            "*\n",
            "*\n"
          ]
        },
        {
          "output_type": "stream",
          "name": "stderr",
          "text": [
            " 26%|██▌       | 75/290 [01:15<03:31,  1.02it/s, loss=0.0676]"
          ]
        },
        {
          "output_type": "stream",
          "name": "stdout",
          "text": [
            "[\n"
          ]
        },
        {
          "output_type": "stream",
          "name": "stderr",
          "text": [
            " 27%|██▋       | 78/290 [01:18<03:30,  1.01it/s, loss=0.0401]"
          ]
        },
        {
          "output_type": "stream",
          "name": "stdout",
          "text": [
            ">\n",
            ">\n"
          ]
        },
        {
          "output_type": "stream",
          "name": "stderr",
          "text": [
            " 28%|██▊       | 80/290 [01:20<03:29,  1.00it/s, loss=0.0752]"
          ]
        },
        {
          "output_type": "stream",
          "name": "stdout",
          "text": [
            "]\n",
            "[\n",
            "]\n"
          ]
        },
        {
          "output_type": "stream",
          "name": "stderr",
          "text": [
            " 35%|███▌      | 102/290 [01:42<03:11,  1.02s/it, loss=0.0554]"
          ]
        },
        {
          "output_type": "stream",
          "name": "stdout",
          "text": [
            "<\n"
          ]
        },
        {
          "output_type": "stream",
          "name": "stderr",
          "text": [
            " 39%|███▉      | 113/290 [01:53<03:04,  1.04s/it, loss=0.0441]"
          ]
        },
        {
          "output_type": "stream",
          "name": "stdout",
          "text": [
            "*\n",
            "*\n",
            "*\n"
          ]
        },
        {
          "output_type": "stream",
          "name": "stderr",
          "text": [
            " 46%|████▌     | 133/290 [02:13<02:38,  1.01s/it, loss=0.0456]"
          ]
        },
        {
          "output_type": "stream",
          "name": "stdout",
          "text": [
            "[\n",
            "]\n"
          ]
        },
        {
          "output_type": "stream",
          "name": "stderr",
          "text": [
            " 46%|████▌     | 134/290 [02:14<02:36,  1.00s/it, loss=0.0619]"
          ]
        },
        {
          "output_type": "stream",
          "name": "stdout",
          "text": [
            "[\n"
          ]
        },
        {
          "output_type": "stream",
          "name": "stderr",
          "text": [
            " 54%|█████▍    | 158/290 [02:38<02:09,  1.02it/s, loss=0.0385]"
          ]
        },
        {
          "output_type": "stream",
          "name": "stdout",
          "text": [
            "]\n"
          ]
        },
        {
          "output_type": "stream",
          "name": "stderr",
          "text": [
            " 61%|██████▏   | 178/290 [02:58<01:53,  1.02s/it, loss=0.0665]"
          ]
        },
        {
          "output_type": "stream",
          "name": "stdout",
          "text": [
            "*\n",
            "*\n",
            "*\n"
          ]
        },
        {
          "output_type": "stream",
          "name": "stderr",
          "text": [
            " 63%|██████▎   | 182/290 [03:03<01:51,  1.03s/it, loss=0.0602]"
          ]
        },
        {
          "output_type": "stream",
          "name": "stdout",
          "text": [
            ">\n",
            ">\n"
          ]
        },
        {
          "output_type": "stream",
          "name": "stderr",
          "text": [
            " 64%|██████▍   | 185/290 [03:06<01:46,  1.02s/it, loss=0.0536]"
          ]
        },
        {
          "output_type": "stream",
          "name": "stdout",
          "text": [
            ">\n",
            ">\n"
          ]
        },
        {
          "output_type": "stream",
          "name": "stderr",
          "text": [
            " 69%|██████▉   | 201/290 [03:22<01:30,  1.02s/it, loss=0.0456]"
          ]
        },
        {
          "output_type": "stream",
          "name": "stdout",
          "text": [
            "*\n",
            "*\n",
            "*\n"
          ]
        },
        {
          "output_type": "stream",
          "name": "stderr",
          "text": [
            " 74%|███████▍  | 214/290 [03:35<01:14,  1.02it/s, loss=0.0613]"
          ]
        },
        {
          "output_type": "stream",
          "name": "stdout",
          "text": [
            ">\n",
            ">\n"
          ]
        },
        {
          "output_type": "stream",
          "name": "stderr",
          "text": [
            " 74%|███████▍  | 215/290 [03:36<01:13,  1.02it/s, loss=0.0479]"
          ]
        },
        {
          "output_type": "stream",
          "name": "stdout",
          "text": [
            ">\n",
            ">\n"
          ]
        },
        {
          "output_type": "stream",
          "name": "stderr",
          "text": [
            " 79%|███████▊  | 228/290 [03:49<01:01,  1.00it/s, loss=0.0581]"
          ]
        },
        {
          "output_type": "stream",
          "name": "stdout",
          "text": [
            ">\n",
            ">\n"
          ]
        },
        {
          "output_type": "stream",
          "name": "stderr",
          "text": [
            " 79%|███████▉  | 229/290 [03:50<01:00,  1.01it/s, loss=0.0406]"
          ]
        },
        {
          "output_type": "stream",
          "name": "stdout",
          "text": [
            "[\n"
          ]
        },
        {
          "output_type": "stream",
          "name": "stderr",
          "text": [
            " 81%|████████  | 234/290 [03:55<00:55,  1.00it/s, loss=0.0485]"
          ]
        },
        {
          "output_type": "stream",
          "name": "stdout",
          "text": [
            ">\n",
            ">\n"
          ]
        },
        {
          "output_type": "stream",
          "name": "stderr",
          "text": [
            " 84%|████████▍ | 243/290 [04:04<00:46,  1.00it/s, loss=0.0526]"
          ]
        },
        {
          "output_type": "stream",
          "name": "stdout",
          "text": [
            ">\n"
          ]
        },
        {
          "output_type": "stream",
          "name": "stderr",
          "text": [
            " 87%|████████▋ | 251/290 [04:12<00:39,  1.01s/it, loss=0.0687]"
          ]
        },
        {
          "output_type": "stream",
          "name": "stdout",
          "text": [
            "[\n",
            ">\n",
            ">\n",
            ">\n"
          ]
        },
        {
          "output_type": "stream",
          "name": "stderr",
          "text": [
            " 87%|████████▋ | 253/290 [04:14<00:40,  1.09s/it, loss=0.0644]"
          ]
        },
        {
          "output_type": "stream",
          "name": "stdout",
          "text": [
            "[\n",
            "]\n"
          ]
        },
        {
          "output_type": "stream",
          "name": "stderr",
          "text": [
            " 96%|█████████▌| 277/290 [04:38<00:13,  1.01s/it, loss=0.0478]"
          ]
        },
        {
          "output_type": "stream",
          "name": "stdout",
          "text": [
            ">\n",
            ">\n"
          ]
        },
        {
          "output_type": "stream",
          "name": "stderr",
          "text": [
            " 98%|█████████▊| 284/290 [04:45<00:06,  1.02s/it, loss=0.0625]"
          ]
        },
        {
          "output_type": "stream",
          "name": "stdout",
          "text": [
            "[\n",
            "]\n"
          ]
        },
        {
          "output_type": "stream",
          "name": "stderr",
          "text": [
            " 99%|█████████▉| 287/290 [04:48<00:03,  1.01s/it, loss=0.0469]"
          ]
        },
        {
          "output_type": "stream",
          "name": "stdout",
          "text": [
            "]\n"
          ]
        },
        {
          "output_type": "stream",
          "name": "stderr",
          "text": [
            "100%|██████████| 290/290 [04:51<00:00,  1.00s/it, loss=0.0547]\n"
          ]
        },
        {
          "output_type": "stream",
          "name": "stdout",
          "text": [
            "checkpoint_ep33.pth.tar saved\n"
          ]
        },
        {
          "output_type": "stream",
          "name": "stderr",
          "text": [
            "  8%|▊         | 24/290 [00:24<04:28,  1.01s/it, loss=0.0814]"
          ]
        },
        {
          "output_type": "stream",
          "name": "stdout",
          "text": [
            ">\n",
            ">\n"
          ]
        },
        {
          "output_type": "stream",
          "name": "stderr",
          "text": [
            " 16%|█▌        | 46/290 [00:46<04:00,  1.01it/s, loss=0.0439]"
          ]
        },
        {
          "output_type": "stream",
          "name": "stdout",
          "text": [
            ">\n"
          ]
        },
        {
          "output_type": "stream",
          "name": "stderr",
          "text": [
            " 17%|█▋        | 50/290 [00:50<04:02,  1.01s/it, loss=0.0247]"
          ]
        },
        {
          "output_type": "stream",
          "name": "stdout",
          "text": [
            "<\n"
          ]
        },
        {
          "output_type": "stream",
          "name": "stderr",
          "text": [
            " 18%|█▊        | 52/290 [00:52<03:57,  1.00it/s, loss=0.0393]"
          ]
        },
        {
          "output_type": "stream",
          "name": "stdout",
          "text": [
            "[\n",
            "]\n"
          ]
        },
        {
          "output_type": "stream",
          "name": "stderr",
          "text": [
            " 22%|██▏       | 65/290 [01:05<03:44,  1.00it/s, loss=0.0482]"
          ]
        },
        {
          "output_type": "stream",
          "name": "stdout",
          "text": [
            "]\n"
          ]
        },
        {
          "output_type": "stream",
          "name": "stderr",
          "text": [
            " 25%|██▌       | 73/290 [01:13<03:38,  1.01s/it, loss=0.0358]"
          ]
        },
        {
          "output_type": "stream",
          "name": "stdout",
          "text": [
            "[\n"
          ]
        },
        {
          "output_type": "stream",
          "name": "stderr",
          "text": [
            " 26%|██▌       | 76/290 [01:16<03:37,  1.02s/it, loss=0.0403]"
          ]
        },
        {
          "output_type": "stream",
          "name": "stdout",
          "text": [
            "[\n",
            "]\n"
          ]
        },
        {
          "output_type": "stream",
          "name": "stderr",
          "text": [
            " 27%|██▋       | 79/290 [01:19<03:30,  1.00it/s, loss=0.0427]"
          ]
        },
        {
          "output_type": "stream",
          "name": "stdout",
          "text": [
            ">\n",
            ">\n"
          ]
        },
        {
          "output_type": "stream",
          "name": "stderr",
          "text": [
            " 32%|███▏      | 93/290 [01:33<03:17,  1.00s/it, loss=0.0385]"
          ]
        },
        {
          "output_type": "stream",
          "name": "stdout",
          "text": [
            "]\n"
          ]
        },
        {
          "output_type": "stream",
          "name": "stderr",
          "text": [
            " 36%|███▌      | 105/290 [01:45<03:07,  1.01s/it, loss=0.0554]"
          ]
        },
        {
          "output_type": "stream",
          "name": "stdout",
          "text": [
            "[\n",
            "]\n"
          ]
        },
        {
          "output_type": "stream",
          "name": "stderr",
          "text": [
            " 44%|████▍     | 129/290 [02:09<02:41,  1.00s/it, loss=0.0424]"
          ]
        },
        {
          "output_type": "stream",
          "name": "stdout",
          "text": [
            ">\n",
            ">\n"
          ]
        },
        {
          "output_type": "stream",
          "name": "stderr",
          "text": [
            " 48%|████▊     | 140/290 [02:20<02:27,  1.01it/s, loss=0.0311]"
          ]
        },
        {
          "output_type": "stream",
          "name": "stdout",
          "text": [
            ">\n",
            ">\n"
          ]
        },
        {
          "output_type": "stream",
          "name": "stderr",
          "text": [
            " 49%|████▊     | 141/290 [02:21<02:25,  1.02it/s, loss=0.0595]"
          ]
        },
        {
          "output_type": "stream",
          "name": "stdout",
          "text": [
            ">\n",
            ">\n",
            ">\n"
          ]
        },
        {
          "output_type": "stream",
          "name": "stderr",
          "text": [
            " 49%|████▉     | 143/290 [02:23<02:30,  1.02s/it, loss=0.0547]"
          ]
        },
        {
          "output_type": "stream",
          "name": "stdout",
          "text": [
            ">\n"
          ]
        },
        {
          "output_type": "stream",
          "name": "stderr",
          "text": [
            " 50%|█████     | 145/290 [02:25<02:26,  1.01s/it, loss=0.0371]"
          ]
        },
        {
          "output_type": "stream",
          "name": "stdout",
          "text": [
            "*\n",
            "*\n",
            "*\n"
          ]
        },
        {
          "output_type": "stream",
          "name": "stderr",
          "text": [
            " 53%|█████▎    | 153/290 [02:33<02:15,  1.01it/s, loss=0.0382]"
          ]
        },
        {
          "output_type": "stream",
          "name": "stdout",
          "text": [
            "]\n",
            "[\n",
            "]\n"
          ]
        },
        {
          "output_type": "stream",
          "name": "stderr",
          "text": [
            " 56%|█████▌    | 161/290 [02:41<02:07,  1.01it/s, loss=0.0292]"
          ]
        },
        {
          "output_type": "stream",
          "name": "stdout",
          "text": [
            "]\n",
            "[\n",
            "]\n"
          ]
        },
        {
          "output_type": "stream",
          "name": "stderr",
          "text": [
            " 56%|█████▌    | 162/290 [02:42<02:06,  1.01it/s, loss=0.0636]"
          ]
        },
        {
          "output_type": "stream",
          "name": "stdout",
          "text": [
            ">\n",
            ">\n"
          ]
        },
        {
          "output_type": "stream",
          "name": "stderr",
          "text": [
            " 64%|██████▍   | 187/290 [03:07<01:42,  1.00it/s, loss=0.0862]"
          ]
        },
        {
          "output_type": "stream",
          "name": "stdout",
          "text": [
            "*\n",
            "*\n",
            "*\n"
          ]
        },
        {
          "output_type": "stream",
          "name": "stderr",
          "text": [
            " 66%|██████▌   | 190/290 [03:10<01:42,  1.02s/it, loss=0.0436]"
          ]
        },
        {
          "output_type": "stream",
          "name": "stdout",
          "text": [
            "[\n"
          ]
        },
        {
          "output_type": "stream",
          "name": "stderr",
          "text": [
            " 66%|██████▌   | 192/290 [03:13<01:43,  1.05s/it, loss=0.024]"
          ]
        },
        {
          "output_type": "stream",
          "name": "stdout",
          "text": [
            ">\n",
            ">\n"
          ]
        },
        {
          "output_type": "stream",
          "name": "stderr",
          "text": [
            " 68%|██████▊   | 198/290 [03:19<01:34,  1.03s/it, loss=0.0502]"
          ]
        },
        {
          "output_type": "stream",
          "name": "stdout",
          "text": [
            ">\n"
          ]
        },
        {
          "output_type": "stream",
          "name": "stderr",
          "text": [
            " 70%|██████▉   | 202/290 [03:23<01:31,  1.04s/it, loss=0.0465]"
          ]
        },
        {
          "output_type": "stream",
          "name": "stdout",
          "text": [
            "[\n",
            "]\n"
          ]
        },
        {
          "output_type": "stream",
          "name": "stderr",
          "text": [
            " 71%|███████▏  | 207/290 [03:28<01:24,  1.02s/it, loss=0.0453]"
          ]
        },
        {
          "output_type": "stream",
          "name": "stdout",
          "text": [
            ">\n",
            ">\n"
          ]
        },
        {
          "output_type": "stream",
          "name": "stderr",
          "text": [
            " 73%|███████▎  | 213/290 [03:34<01:16,  1.00it/s, loss=0.0447]"
          ]
        },
        {
          "output_type": "stream",
          "name": "stdout",
          "text": [
            "*\n",
            "*\n",
            "*\n"
          ]
        },
        {
          "output_type": "stream",
          "name": "stderr",
          "text": [
            " 77%|███████▋  | 223/290 [03:44<01:08,  1.02s/it, loss=0.0334]"
          ]
        },
        {
          "output_type": "stream",
          "name": "stdout",
          "text": [
            "[\n"
          ]
        },
        {
          "output_type": "stream",
          "name": "stderr",
          "text": [
            " 80%|███████▉  | 231/290 [03:52<00:59,  1.00s/it, loss=0.0414]"
          ]
        },
        {
          "output_type": "stream",
          "name": "stdout",
          "text": [
            "<\n"
          ]
        },
        {
          "output_type": "stream",
          "name": "stderr",
          "text": [
            " 86%|████████▌ | 250/290 [04:11<00:40,  1.02s/it, loss=0.0614]"
          ]
        },
        {
          "output_type": "stream",
          "name": "stdout",
          "text": [
            ">\n",
            ">\n"
          ]
        },
        {
          "output_type": "stream",
          "name": "stderr",
          "text": [
            " 88%|████████▊ | 255/290 [04:17<00:35,  1.01s/it, loss=0.0441]"
          ]
        },
        {
          "output_type": "stream",
          "name": "stdout",
          "text": [
            "*\n",
            "*\n",
            "*\n"
          ]
        },
        {
          "output_type": "stream",
          "name": "stderr",
          "text": [
            " 90%|█████████ | 262/290 [04:24<00:28,  1.02s/it, loss=0.0356]"
          ]
        },
        {
          "output_type": "stream",
          "name": "stdout",
          "text": [
            ">\n",
            ">\n"
          ]
        },
        {
          "output_type": "stream",
          "name": "stderr",
          "text": [
            " 92%|█████████▏| 267/290 [04:29<00:23,  1.00s/it, loss=0.0482]"
          ]
        },
        {
          "output_type": "stream",
          "name": "stdout",
          "text": [
            ">\n",
            ">\n"
          ]
        },
        {
          "output_type": "stream",
          "name": "stderr",
          "text": [
            " 97%|█████████▋| 280/290 [04:42<00:09,  1.01it/s, loss=0.0362]"
          ]
        },
        {
          "output_type": "stream",
          "name": "stdout",
          "text": [
            "[\n"
          ]
        },
        {
          "output_type": "stream",
          "name": "stderr",
          "text": [
            "100%|██████████| 290/290 [04:52<00:00,  1.01s/it, loss=0.035]\n",
            "  3%|▎         | 9/290 [00:09<04:37,  1.01it/s, loss=0.0285]"
          ]
        },
        {
          "output_type": "stream",
          "name": "stdout",
          "text": [
            "[\n",
            "]\n"
          ]
        },
        {
          "output_type": "stream",
          "name": "stderr",
          "text": [
            "  8%|▊         | 24/290 [00:24<04:23,  1.01it/s, loss=0.0246]"
          ]
        },
        {
          "output_type": "stream",
          "name": "stdout",
          "text": [
            ">\n",
            ">\n",
            "]\n"
          ]
        },
        {
          "output_type": "stream",
          "name": "stderr",
          "text": [
            " 13%|█▎        | 38/290 [00:37<04:10,  1.01it/s, loss=0.0368]"
          ]
        },
        {
          "output_type": "stream",
          "name": "stdout",
          "text": [
            ">\n",
            ">\n"
          ]
        },
        {
          "output_type": "stream",
          "name": "stderr",
          "text": [
            " 14%|█▍        | 40/290 [00:39<04:09,  1.00it/s, loss=0.0312]"
          ]
        },
        {
          "output_type": "stream",
          "name": "stdout",
          "text": [
            "[\n"
          ]
        },
        {
          "output_type": "stream",
          "name": "stderr",
          "text": [
            " 18%|█▊        | 53/290 [00:52<03:53,  1.01it/s, loss=0.043]"
          ]
        },
        {
          "output_type": "stream",
          "name": "stdout",
          "text": [
            "[\n",
            "]\n"
          ]
        },
        {
          "output_type": "stream",
          "name": "stderr",
          "text": [
            " 20%|██        | 59/290 [00:58<03:49,  1.00it/s, loss=0.0317]"
          ]
        },
        {
          "output_type": "stream",
          "name": "stdout",
          "text": [
            ">\n",
            ">\n",
            ">\n"
          ]
        },
        {
          "output_type": "stream",
          "name": "stderr",
          "text": [
            " 30%|██▉       | 86/290 [01:25<03:23,  1.00it/s, loss=0.0382]"
          ]
        },
        {
          "output_type": "stream",
          "name": "stdout",
          "text": [
            ">\n",
            ">\n"
          ]
        },
        {
          "output_type": "stream",
          "name": "stderr",
          "text": [
            " 33%|███▎      | 95/290 [01:34<03:18,  1.02s/it, loss=0.0423]"
          ]
        },
        {
          "output_type": "stream",
          "name": "stdout",
          "text": [
            ">\n",
            ">\n"
          ]
        },
        {
          "output_type": "stream",
          "name": "stderr",
          "text": [
            " 37%|███▋      | 106/290 [01:45<03:02,  1.01it/s, loss=0.0581]"
          ]
        },
        {
          "output_type": "stream",
          "name": "stdout",
          "text": [
            ">\n"
          ]
        },
        {
          "output_type": "stream",
          "name": "stderr",
          "text": [
            " 37%|███▋      | 108/290 [01:47<03:00,  1.01it/s, loss=0.0541]"
          ]
        },
        {
          "output_type": "stream",
          "name": "stdout",
          "text": [
            ">\n",
            ">\n"
          ]
        },
        {
          "output_type": "stream",
          "name": "stderr",
          "text": [
            " 39%|███▊      | 112/290 [01:51<02:55,  1.02it/s, loss=0.0587]"
          ]
        },
        {
          "output_type": "stream",
          "name": "stdout",
          "text": [
            ">\n",
            ">\n"
          ]
        },
        {
          "output_type": "stream",
          "name": "stderr",
          "text": [
            " 40%|████      | 116/290 [01:55<02:52,  1.01it/s, loss=0.045]"
          ]
        },
        {
          "output_type": "stream",
          "name": "stdout",
          "text": [
            "]\n",
            "[\n",
            "]\n"
          ]
        },
        {
          "output_type": "stream",
          "name": "stderr",
          "text": [
            " 41%|████      | 118/290 [01:57<02:56,  1.03s/it, loss=0.0461]"
          ]
        },
        {
          "output_type": "stream",
          "name": "stdout",
          "text": [
            "[\n"
          ]
        },
        {
          "output_type": "stream",
          "name": "stderr",
          "text": [
            " 54%|█████▍    | 158/290 [02:38<02:13,  1.01s/it, loss=0.0362]"
          ]
        },
        {
          "output_type": "stream",
          "name": "stdout",
          "text": [
            "*\n",
            "*\n",
            "*\n"
          ]
        },
        {
          "output_type": "stream",
          "name": "stderr",
          "text": [
            " 58%|█████▊    | 167/290 [02:47<02:00,  1.02it/s, loss=0.0351]"
          ]
        },
        {
          "output_type": "stream",
          "name": "stdout",
          "text": [
            ">\n",
            ">\n"
          ]
        },
        {
          "output_type": "stream",
          "name": "stderr",
          "text": [
            " 58%|█████▊    | 169/290 [02:49<02:03,  1.02s/it, loss=0.0442]"
          ]
        },
        {
          "output_type": "stream",
          "name": "stdout",
          "text": [
            "<\n"
          ]
        },
        {
          "output_type": "stream",
          "name": "stderr",
          "text": [
            " 62%|██████▏   | 181/290 [03:01<01:48,  1.00it/s, loss=0.0359]"
          ]
        },
        {
          "output_type": "stream",
          "name": "stdout",
          "text": [
            "[\n",
            "[\n",
            "]\n"
          ]
        },
        {
          "output_type": "stream",
          "name": "stderr",
          "text": [
            " 63%|██████▎   | 184/290 [03:04<01:45,  1.01it/s, loss=0.0557]"
          ]
        },
        {
          "output_type": "stream",
          "name": "stdout",
          "text": [
            ">\n",
            ">\n"
          ]
        },
        {
          "output_type": "stream",
          "name": "stderr",
          "text": [
            " 65%|██████▍   | 188/290 [03:08<01:42,  1.01s/it, loss=0.0363]"
          ]
        },
        {
          "output_type": "stream",
          "name": "stdout",
          "text": [
            "*\n",
            "*\n",
            "*\n"
          ]
        },
        {
          "output_type": "stream",
          "name": "stderr",
          "text": [
            " 73%|███████▎  | 213/290 [03:33<01:17,  1.01s/it, loss=0.0505]"
          ]
        },
        {
          "output_type": "stream",
          "name": "stdout",
          "text": [
            ">\n"
          ]
        },
        {
          "output_type": "stream",
          "name": "stderr",
          "text": [
            " 74%|███████▍  | 216/290 [03:36<01:15,  1.02s/it, loss=0.0424]"
          ]
        },
        {
          "output_type": "stream",
          "name": "stdout",
          "text": [
            "*\n",
            "*\n",
            "*\n",
            "[\n",
            "]\n"
          ]
        },
        {
          "output_type": "stream",
          "name": "stderr",
          "text": [
            " 79%|███████▉  | 230/290 [03:50<01:00,  1.00s/it, loss=0.0284]"
          ]
        },
        {
          "output_type": "stream",
          "name": "stdout",
          "text": [
            "]\n",
            "[\n",
            "]\n"
          ]
        },
        {
          "output_type": "stream",
          "name": "stderr",
          "text": [
            " 86%|████████▌ | 249/290 [04:10<00:42,  1.04s/it, loss=0.037]"
          ]
        },
        {
          "output_type": "stream",
          "name": "stdout",
          "text": [
            ">\n"
          ]
        },
        {
          "output_type": "stream",
          "name": "stderr",
          "text": [
            " 86%|████████▌ | 250/290 [04:10<00:40,  1.02s/it, loss=0.0478]"
          ]
        },
        {
          "output_type": "stream",
          "name": "stdout",
          "text": [
            "[\n",
            "]\n"
          ]
        },
        {
          "output_type": "stream",
          "name": "stderr",
          "text": [
            " 87%|████████▋ | 251/290 [04:11<00:39,  1.01s/it, loss=0.0456]"
          ]
        },
        {
          "output_type": "stream",
          "name": "stdout",
          "text": [
            ">\n",
            ">\n"
          ]
        },
        {
          "output_type": "stream",
          "name": "stderr",
          "text": [
            " 87%|████████▋ | 252/290 [04:12<00:38,  1.00s/it, loss=0.0357]"
          ]
        },
        {
          "output_type": "stream",
          "name": "stdout",
          "text": [
            "<\n"
          ]
        },
        {
          "output_type": "stream",
          "name": "stderr",
          "text": [
            " 87%|████████▋ | 253/290 [04:13<00:37,  1.01s/it, loss=0.0549]"
          ]
        },
        {
          "output_type": "stream",
          "name": "stdout",
          "text": [
            ">\n",
            ">\n"
          ]
        },
        {
          "output_type": "stream",
          "name": "stderr",
          "text": [
            " 90%|████████▉ | 260/290 [04:20<00:29,  1.01it/s, loss=0.0371]"
          ]
        },
        {
          "output_type": "stream",
          "name": "stdout",
          "text": [
            "*\n",
            "*\n",
            "*\n"
          ]
        },
        {
          "output_type": "stream",
          "name": "stderr",
          "text": [
            "100%|██████████| 290/290 [04:50<00:00,  1.00s/it, loss=0.0579]\n"
          ]
        },
        {
          "output_type": "stream",
          "name": "stdout",
          "text": [
            "checkpoint_ep35.pth.tar saved\n"
          ]
        },
        {
          "output_type": "stream",
          "name": "stderr",
          "text": [
            "  2%|▏         | 6/290 [00:06<04:54,  1.04s/it, loss=0.0364]"
          ]
        },
        {
          "output_type": "stream",
          "name": "stdout",
          "text": [
            ">\n",
            ">\n"
          ]
        },
        {
          "output_type": "stream",
          "name": "stderr",
          "text": [
            "  4%|▍         | 11/290 [00:11<04:38,  1.00it/s, loss=0.0327]"
          ]
        },
        {
          "output_type": "stream",
          "name": "stdout",
          "text": [
            ">\n",
            ">\n",
            ">\n"
          ]
        },
        {
          "output_type": "stream",
          "name": "stderr",
          "text": [
            " 12%|█▏        | 35/290 [00:35<04:13,  1.01it/s, loss=0.0374]"
          ]
        },
        {
          "output_type": "stream",
          "name": "stdout",
          "text": [
            ">\n",
            ">\n"
          ]
        },
        {
          "output_type": "stream",
          "name": "stderr",
          "text": [
            " 13%|█▎        | 39/290 [00:39<04:10,  1.00it/s, loss=0.0396]"
          ]
        },
        {
          "output_type": "stream",
          "name": "stdout",
          "text": [
            "]\n",
            "[\n",
            "]\n"
          ]
        },
        {
          "output_type": "stream",
          "name": "stderr",
          "text": [
            " 14%|█▍        | 40/290 [00:40<04:08,  1.01it/s, loss=0.028]"
          ]
        },
        {
          "output_type": "stream",
          "name": "stdout",
          "text": [
            "*\n",
            "*\n",
            "*\n"
          ]
        },
        {
          "output_type": "stream",
          "name": "stderr",
          "text": [
            " 17%|█▋        | 50/290 [00:50<04:08,  1.04s/it, loss=0.0359]"
          ]
        },
        {
          "output_type": "stream",
          "name": "stdout",
          "text": [
            "[\n"
          ]
        },
        {
          "output_type": "stream",
          "name": "stderr",
          "text": [
            " 19%|█▉        | 56/290 [00:56<03:56,  1.01s/it, loss=0.0347]"
          ]
        },
        {
          "output_type": "stream",
          "name": "stdout",
          "text": [
            "[\n"
          ]
        },
        {
          "output_type": "stream",
          "name": "stderr",
          "text": [
            " 20%|██        | 58/290 [00:58<03:51,  1.00it/s, loss=0.0468]"
          ]
        },
        {
          "output_type": "stream",
          "name": "stdout",
          "text": [
            ">\n",
            ">\n"
          ]
        },
        {
          "output_type": "stream",
          "name": "stderr",
          "text": [
            " 20%|██        | 59/290 [00:59<03:50,  1.00it/s, loss=0.0693]"
          ]
        },
        {
          "output_type": "stream",
          "name": "stdout",
          "text": [
            "]\n",
            "[\n",
            "]\n",
            "<\n"
          ]
        },
        {
          "output_type": "stream",
          "name": "stderr",
          "text": [
            " 21%|██        | 60/290 [01:00<03:48,  1.01it/s, loss=0.0355]"
          ]
        },
        {
          "output_type": "stream",
          "name": "stdout",
          "text": [
            "*\n",
            "*\n",
            "*\n"
          ]
        },
        {
          "output_type": "stream",
          "name": "stderr",
          "text": [
            " 22%|██▏       | 64/290 [01:04<03:45,  1.00it/s, loss=0.0239]"
          ]
        },
        {
          "output_type": "stream",
          "name": "stdout",
          "text": [
            ">\n"
          ]
        },
        {
          "output_type": "stream",
          "name": "stderr",
          "text": [
            " 24%|██▍       | 69/290 [01:09<03:38,  1.01it/s, loss=0.0312]"
          ]
        },
        {
          "output_type": "stream",
          "name": "stdout",
          "text": [
            ">\n",
            ">\n"
          ]
        },
        {
          "output_type": "stream",
          "name": "stderr",
          "text": [
            " 24%|██▍       | 71/290 [01:11<03:36,  1.01it/s, loss=0.0367]"
          ]
        },
        {
          "output_type": "stream",
          "name": "stdout",
          "text": [
            "[\n",
            "]\n"
          ]
        },
        {
          "output_type": "stream",
          "name": "stderr",
          "text": [
            " 27%|██▋       | 79/290 [01:19<03:31,  1.00s/it, loss=0.0409]"
          ]
        },
        {
          "output_type": "stream",
          "name": "stdout",
          "text": [
            "[\n"
          ]
        },
        {
          "output_type": "stream",
          "name": "stderr",
          "text": [
            " 35%|███▍      | 101/290 [01:41<03:10,  1.01s/it, loss=0.0644]"
          ]
        },
        {
          "output_type": "stream",
          "name": "stdout",
          "text": [
            "]\n"
          ]
        },
        {
          "output_type": "stream",
          "name": "stderr",
          "text": [
            " 35%|███▌      | 102/290 [01:42<03:08,  1.00s/it, loss=0.046]"
          ]
        },
        {
          "output_type": "stream",
          "name": "stdout",
          "text": [
            ">\n",
            ">\n",
            "[\n",
            "]\n"
          ]
        },
        {
          "output_type": "stream",
          "name": "stderr",
          "text": [
            " 44%|████▍     | 129/290 [02:09<02:39,  1.01it/s, loss=0.0478]"
          ]
        },
        {
          "output_type": "stream",
          "name": "stdout",
          "text": [
            "<\n"
          ]
        },
        {
          "output_type": "stream",
          "name": "stderr",
          "text": [
            " 49%|████▉     | 142/290 [02:22<02:31,  1.02s/it, loss=0.0259]"
          ]
        },
        {
          "output_type": "stream",
          "name": "stdout",
          "text": [
            ">\n"
          ]
        },
        {
          "output_type": "stream",
          "name": "stderr",
          "text": [
            " 53%|█████▎    | 154/290 [02:34<02:13,  1.02it/s, loss=0.043]"
          ]
        },
        {
          "output_type": "stream",
          "name": "stdout",
          "text": [
            ">\n",
            ">\n"
          ]
        },
        {
          "output_type": "stream",
          "name": "stderr",
          "text": [
            " 54%|█████▍    | 157/290 [02:37<02:10,  1.02it/s, loss=0.0316]"
          ]
        },
        {
          "output_type": "stream",
          "name": "stdout",
          "text": [
            ">\n",
            ">\n"
          ]
        },
        {
          "output_type": "stream",
          "name": "stderr",
          "text": [
            " 57%|█████▋    | 164/290 [02:44<02:06,  1.00s/it, loss=0.0577]"
          ]
        },
        {
          "output_type": "stream",
          "name": "stdout",
          "text": [
            "*\n",
            "*\n",
            "*\n"
          ]
        },
        {
          "output_type": "stream",
          "name": "stderr",
          "text": [
            " 57%|█████▋    | 166/290 [02:46<02:04,  1.00s/it, loss=0.0548]"
          ]
        },
        {
          "output_type": "stream",
          "name": "stdout",
          "text": [
            "[\n",
            "]\n"
          ]
        },
        {
          "output_type": "stream",
          "name": "stderr",
          "text": [
            " 63%|██████▎   | 182/290 [03:02<01:46,  1.02it/s, loss=0.0431]"
          ]
        },
        {
          "output_type": "stream",
          "name": "stdout",
          "text": [
            ">\n",
            ">\n"
          ]
        },
        {
          "output_type": "stream",
          "name": "stderr",
          "text": [
            " 71%|███████▏  | 207/290 [03:27<01:23,  1.00s/it, loss=0.0505]"
          ]
        },
        {
          "output_type": "stream",
          "name": "stdout",
          "text": [
            ">\n",
            ">\n"
          ]
        },
        {
          "output_type": "stream",
          "name": "stderr",
          "text": [
            " 80%|████████  | 233/290 [03:54<00:59,  1.04s/it, loss=0.0314]"
          ]
        },
        {
          "output_type": "stream",
          "name": "stdout",
          "text": [
            ">\n"
          ]
        },
        {
          "output_type": "stream",
          "name": "stderr",
          "text": [
            " 82%|████████▏ | 237/290 [03:58<00:54,  1.03s/it, loss=0.0339]"
          ]
        },
        {
          "output_type": "stream",
          "name": "stdout",
          "text": [
            "[\n",
            "]\n"
          ]
        },
        {
          "output_type": "stream",
          "name": "stderr",
          "text": [
            " 84%|████████▍ | 245/290 [04:06<00:45,  1.00s/it, loss=0.0498]"
          ]
        },
        {
          "output_type": "stream",
          "name": "stdout",
          "text": [
            "*\n",
            "*\n",
            "*\n"
          ]
        },
        {
          "output_type": "stream",
          "name": "stderr",
          "text": [
            " 87%|████████▋ | 252/290 [04:13<00:38,  1.03s/it, loss=0.0291]"
          ]
        },
        {
          "output_type": "stream",
          "name": "stdout",
          "text": [
            "[\n"
          ]
        },
        {
          "output_type": "stream",
          "name": "stderr",
          "text": [
            " 91%|█████████▏| 265/290 [04:26<00:25,  1.01s/it, loss=0.038]"
          ]
        },
        {
          "output_type": "stream",
          "name": "stdout",
          "text": [
            ">\n",
            ">\n"
          ]
        },
        {
          "output_type": "stream",
          "name": "stderr",
          "text": [
            " 98%|█████████▊| 285/290 [04:47<00:05,  1.01s/it, loss=0.0278]"
          ]
        },
        {
          "output_type": "stream",
          "name": "stdout",
          "text": [
            "]\n"
          ]
        },
        {
          "output_type": "stream",
          "name": "stderr",
          "text": [
            "100%|██████████| 290/290 [04:51<00:00,  1.01s/it, loss=0.0364]\n",
            "  2%|▏         | 5/290 [00:05<04:52,  1.03s/it, loss=0.0342]"
          ]
        },
        {
          "output_type": "stream",
          "name": "stdout",
          "text": [
            "<\n"
          ]
        },
        {
          "output_type": "stream",
          "name": "stderr",
          "text": [
            "  5%|▍         | 14/290 [00:14<04:34,  1.00it/s, loss=0.0227]"
          ]
        },
        {
          "output_type": "stream",
          "name": "stdout",
          "text": [
            ">\n"
          ]
        },
        {
          "output_type": "stream",
          "name": "stderr",
          "text": [
            " 10%|▉         | 28/290 [00:28<04:21,  1.00it/s, loss=0.0387]"
          ]
        },
        {
          "output_type": "stream",
          "name": "stdout",
          "text": [
            "[\n"
          ]
        },
        {
          "output_type": "stream",
          "name": "stderr",
          "text": [
            " 12%|█▏        | 34/290 [00:34<04:23,  1.03s/it, loss=0.0223]"
          ]
        },
        {
          "output_type": "stream",
          "name": "stdout",
          "text": [
            "[\n",
            "]\n"
          ]
        },
        {
          "output_type": "stream",
          "name": "stderr",
          "text": [
            " 17%|█▋        | 49/290 [00:49<03:59,  1.01it/s, loss=0.0412]"
          ]
        },
        {
          "output_type": "stream",
          "name": "stdout",
          "text": [
            "]\n"
          ]
        },
        {
          "output_type": "stream",
          "name": "stderr",
          "text": [
            " 18%|█▊        | 51/290 [00:51<03:56,  1.01it/s, loss=0.0399]"
          ]
        },
        {
          "output_type": "stream",
          "name": "stdout",
          "text": [
            "[\n"
          ]
        },
        {
          "output_type": "stream",
          "name": "stderr",
          "text": [
            " 24%|██▍       | 71/290 [01:11<03:35,  1.02it/s, loss=0.0314]"
          ]
        },
        {
          "output_type": "stream",
          "name": "stdout",
          "text": [
            ">\n",
            ">\n"
          ]
        },
        {
          "output_type": "stream",
          "name": "stderr",
          "text": [
            " 25%|██▌       | 73/290 [01:13<03:42,  1.03s/it, loss=0.025]"
          ]
        },
        {
          "output_type": "stream",
          "name": "stdout",
          "text": [
            ">\n",
            ">\n"
          ]
        },
        {
          "output_type": "stream",
          "name": "stderr",
          "text": [
            " 27%|██▋       | 78/290 [01:18<03:31,  1.00it/s, loss=0.0377]"
          ]
        },
        {
          "output_type": "stream",
          "name": "stdout",
          "text": [
            "[\n",
            "]\n"
          ]
        },
        {
          "output_type": "stream",
          "name": "stderr",
          "text": [
            " 31%|███       | 90/290 [01:30<03:23,  1.02s/it, loss=0.0293]"
          ]
        },
        {
          "output_type": "stream",
          "name": "stdout",
          "text": [
            "[\n",
            "]\n"
          ]
        },
        {
          "output_type": "stream",
          "name": "stderr",
          "text": [
            " 34%|███▍      | 99/290 [01:39<03:10,  1.00it/s, loss=0.0404]"
          ]
        },
        {
          "output_type": "stream",
          "name": "stdout",
          "text": [
            ">\n",
            ">\n",
            ">\n",
            ">\n"
          ]
        },
        {
          "output_type": "stream",
          "name": "stderr",
          "text": [
            " 36%|███▌      | 104/290 [01:44<03:04,  1.01it/s, loss=0.0361]"
          ]
        },
        {
          "output_type": "stream",
          "name": "stdout",
          "text": [
            ">\n",
            ">\n"
          ]
        },
        {
          "output_type": "stream",
          "name": "stderr",
          "text": [
            " 44%|████▍     | 128/290 [02:08<02:44,  1.02s/it, loss=0.0337]"
          ]
        },
        {
          "output_type": "stream",
          "name": "stdout",
          "text": [
            ">\n",
            ">\n"
          ]
        },
        {
          "output_type": "stream",
          "name": "stderr",
          "text": [
            " 50%|████▉     | 144/290 [02:24<02:24,  1.01it/s, loss=0.0264]"
          ]
        },
        {
          "output_type": "stream",
          "name": "stdout",
          "text": [
            ">\n",
            ">\n"
          ]
        },
        {
          "output_type": "stream",
          "name": "stderr",
          "text": [
            " 55%|█████▍    | 159/290 [02:39<02:09,  1.01it/s, loss=0.0275]"
          ]
        },
        {
          "output_type": "stream",
          "name": "stdout",
          "text": [
            "*\n",
            "*\n",
            "*\n"
          ]
        },
        {
          "output_type": "stream",
          "name": "stderr",
          "text": [
            " 59%|█████▉    | 171/290 [02:51<01:58,  1.01it/s, loss=0.0429]"
          ]
        },
        {
          "output_type": "stream",
          "name": "stdout",
          "text": [
            ">\n",
            ">\n"
          ]
        },
        {
          "output_type": "stream",
          "name": "stderr",
          "text": [
            " 59%|█████▉    | 172/290 [02:52<01:59,  1.02s/it, loss=0.0343]"
          ]
        },
        {
          "output_type": "stream",
          "name": "stdout",
          "text": [
            ">\n",
            ">\n",
            ">\n"
          ]
        },
        {
          "output_type": "stream",
          "name": "stderr",
          "text": [
            " 61%|██████    | 176/290 [02:56<01:55,  1.01s/it, loss=0.0257]"
          ]
        },
        {
          "output_type": "stream",
          "name": "stdout",
          "text": [
            "]\n"
          ]
        },
        {
          "output_type": "stream",
          "name": "stderr",
          "text": [
            " 62%|██████▏   | 181/290 [03:01<01:49,  1.00s/it, loss=0.0461]"
          ]
        },
        {
          "output_type": "stream",
          "name": "stdout",
          "text": [
            "[\n",
            "]\n"
          ]
        },
        {
          "output_type": "stream",
          "name": "stderr",
          "text": [
            " 65%|██████▍   | 188/290 [03:09<01:42,  1.00s/it, loss=0.0383]"
          ]
        },
        {
          "output_type": "stream",
          "name": "stdout",
          "text": [
            "]\n",
            "[\n",
            "]\n",
            ">\n",
            ">\n"
          ]
        },
        {
          "output_type": "stream",
          "name": "stderr",
          "text": [
            " 66%|██████▌   | 192/290 [03:13<01:38,  1.01s/it, loss=0.0424]"
          ]
        },
        {
          "output_type": "stream",
          "name": "stdout",
          "text": [
            "<\n"
          ]
        },
        {
          "output_type": "stream",
          "name": "stderr",
          "text": [
            " 73%|███████▎  | 213/290 [03:34<01:19,  1.04s/it, loss=0.0329]"
          ]
        },
        {
          "output_type": "stream",
          "name": "stdout",
          "text": [
            "*\n",
            "*\n",
            "*\n"
          ]
        },
        {
          "output_type": "stream",
          "name": "stderr",
          "text": [
            " 79%|███████▉  | 229/290 [03:50<01:00,  1.00it/s, loss=0.0268]"
          ]
        },
        {
          "output_type": "stream",
          "name": "stdout",
          "text": [
            "[\n"
          ]
        },
        {
          "output_type": "stream",
          "name": "stderr",
          "text": [
            " 81%|████████  | 235/290 [03:56<00:54,  1.01it/s, loss=0.0498]"
          ]
        },
        {
          "output_type": "stream",
          "name": "stdout",
          "text": [
            "]\n",
            "[\n",
            "]\n"
          ]
        },
        {
          "output_type": "stream",
          "name": "stderr",
          "text": [
            " 83%|████████▎ | 242/290 [04:03<00:49,  1.03s/it, loss=0.0391]"
          ]
        },
        {
          "output_type": "stream",
          "name": "stdout",
          "text": [
            ">\n",
            ">\n",
            ">\n"
          ]
        },
        {
          "output_type": "stream",
          "name": "stderr",
          "text": [
            " 84%|████████▍ | 243/290 [04:04<00:47,  1.02s/it, loss=0.041]"
          ]
        },
        {
          "output_type": "stream",
          "name": "stdout",
          "text": [
            "*\n",
            "*\n",
            "*\n"
          ]
        },
        {
          "output_type": "stream",
          "name": "stderr",
          "text": [
            " 86%|████████▌ | 249/290 [04:10<00:42,  1.04s/it, loss=0.0498]"
          ]
        },
        {
          "output_type": "stream",
          "name": "stdout",
          "text": [
            ">\n"
          ]
        },
        {
          "output_type": "stream",
          "name": "stderr",
          "text": [
            " 95%|█████████▍| 275/290 [04:36<00:15,  1.01s/it, loss=0.0284]"
          ]
        },
        {
          "output_type": "stream",
          "name": "stdout",
          "text": [
            "[\n"
          ]
        },
        {
          "output_type": "stream",
          "name": "stderr",
          "text": [
            " 98%|█████████▊| 283/290 [04:44<00:07,  1.00s/it, loss=0.0193]"
          ]
        },
        {
          "output_type": "stream",
          "name": "stdout",
          "text": [
            "*\n",
            "*\n",
            "*\n"
          ]
        },
        {
          "output_type": "stream",
          "name": "stderr",
          "text": [
            "100%|██████████| 290/290 [04:51<00:00,  1.00s/it, loss=0.0352]\n"
          ]
        },
        {
          "output_type": "stream",
          "name": "stdout",
          "text": [
            "checkpoint_ep37.pth.tar saved\n"
          ]
        },
        {
          "output_type": "stream",
          "name": "stderr",
          "text": [
            "  8%|▊         | 23/290 [00:23<04:27,  1.00s/it, loss=0.0214]"
          ]
        },
        {
          "output_type": "stream",
          "name": "stdout",
          "text": [
            "]\n",
            "[\n",
            "]\n"
          ]
        },
        {
          "output_type": "stream",
          "name": "stderr",
          "text": [
            "  9%|▉         | 26/290 [00:26<04:29,  1.02s/it, loss=0.0415]"
          ]
        },
        {
          "output_type": "stream",
          "name": "stdout",
          "text": [
            "<\n"
          ]
        },
        {
          "output_type": "stream",
          "name": "stderr",
          "text": [
            " 11%|█         | 32/290 [00:32<04:33,  1.06s/it, loss=0.0527]"
          ]
        },
        {
          "output_type": "stream",
          "name": "stdout",
          "text": [
            "*\n",
            "*\n",
            "*\n"
          ]
        },
        {
          "output_type": "stream",
          "name": "stderr",
          "text": [
            " 20%|█▉        | 57/290 [00:58<03:51,  1.01it/s, loss=0.0209]"
          ]
        },
        {
          "output_type": "stream",
          "name": "stdout",
          "text": [
            "*\n",
            "*\n",
            "*\n",
            ">\n",
            ">\n"
          ]
        },
        {
          "output_type": "stream",
          "name": "stderr",
          "text": [
            " 22%|██▏       | 64/290 [01:05<03:47,  1.01s/it, loss=0.0442]"
          ]
        },
        {
          "output_type": "stream",
          "name": "stdout",
          "text": [
            "]\n"
          ]
        },
        {
          "output_type": "stream",
          "name": "stderr",
          "text": [
            " 28%|██▊       | 82/290 [01:23<03:28,  1.00s/it, loss=0.0282]"
          ]
        },
        {
          "output_type": "stream",
          "name": "stdout",
          "text": [
            "<\n"
          ]
        },
        {
          "output_type": "stream",
          "name": "stderr",
          "text": [
            " 29%|██▉       | 84/290 [01:25<03:27,  1.01s/it, loss=0.0505]"
          ]
        },
        {
          "output_type": "stream",
          "name": "stdout",
          "text": [
            "[\n",
            "[\n"
          ]
        },
        {
          "output_type": "stream",
          "name": "stderr",
          "text": [
            " 34%|███▍      | 100/290 [01:41<03:10,  1.00s/it, loss=0.0326]"
          ]
        },
        {
          "output_type": "stream",
          "name": "stdout",
          "text": [
            ">\n",
            ">\n"
          ]
        },
        {
          "output_type": "stream",
          "name": "stderr",
          "text": [
            " 36%|███▌      | 105/290 [01:46<03:01,  1.02it/s, loss=0.0306]"
          ]
        },
        {
          "output_type": "stream",
          "name": "stdout",
          "text": [
            ">\n",
            ">\n"
          ]
        },
        {
          "output_type": "stream",
          "name": "stderr",
          "text": [
            " 46%|████▌     | 132/290 [02:13<02:41,  1.02s/it, loss=0.0284]"
          ]
        },
        {
          "output_type": "stream",
          "name": "stdout",
          "text": [
            ">\n",
            ">\n"
          ]
        },
        {
          "output_type": "stream",
          "name": "stderr",
          "text": [
            " 49%|████▉     | 143/290 [02:24<02:30,  1.02s/it, loss=0.0247]"
          ]
        },
        {
          "output_type": "stream",
          "name": "stdout",
          "text": [
            "[\n",
            "]\n"
          ]
        },
        {
          "output_type": "stream",
          "name": "stderr",
          "text": [
            " 51%|█████     | 148/290 [02:29<02:22,  1.00s/it, loss=0.0215]"
          ]
        },
        {
          "output_type": "stream",
          "name": "stdout",
          "text": [
            "]\n",
            "[\n",
            "]\n"
          ]
        },
        {
          "output_type": "stream",
          "name": "stderr",
          "text": [
            " 61%|██████    | 177/290 [02:59<01:53,  1.00s/it, loss=0.0412]"
          ]
        },
        {
          "output_type": "stream",
          "name": "stdout",
          "text": [
            ">\n",
            ">\n"
          ]
        },
        {
          "output_type": "stream",
          "name": "stderr",
          "text": [
            " 62%|██████▏   | 181/290 [03:03<01:49,  1.01s/it, loss=0.0429]"
          ]
        },
        {
          "output_type": "stream",
          "name": "stdout",
          "text": [
            "*\n",
            "*\n",
            "*\n"
          ]
        },
        {
          "output_type": "stream",
          "name": "stderr",
          "text": [
            " 66%|██████▌   | 191/290 [03:13<01:39,  1.01s/it, loss=0.0264]"
          ]
        },
        {
          "output_type": "stream",
          "name": "stdout",
          "text": [
            ">\n",
            ">\n",
            ">\n"
          ]
        },
        {
          "output_type": "stream",
          "name": "stderr",
          "text": [
            " 70%|███████   | 204/290 [03:26<01:25,  1.00it/s, loss=0.0251]"
          ]
        },
        {
          "output_type": "stream",
          "name": "stdout",
          "text": [
            "[\n",
            ">\n",
            ">\n"
          ]
        },
        {
          "output_type": "stream",
          "name": "stderr",
          "text": [
            " 71%|███████   | 206/290 [03:28<01:24,  1.01s/it, loss=0.0255]"
          ]
        },
        {
          "output_type": "stream",
          "name": "stdout",
          "text": [
            "[\n",
            "]\n"
          ]
        },
        {
          "output_type": "stream",
          "name": "stderr",
          "text": [
            " 73%|███████▎  | 213/290 [03:35<01:16,  1.00it/s, loss=0.0239]"
          ]
        },
        {
          "output_type": "stream",
          "name": "stdout",
          "text": [
            "[\n",
            "]\n"
          ]
        },
        {
          "output_type": "stream",
          "name": "stderr",
          "text": [
            " 75%|███████▍  | 217/290 [03:39<01:14,  1.02s/it, loss=0.0404]"
          ]
        },
        {
          "output_type": "stream",
          "name": "stdout",
          "text": [
            "[\n",
            "]\n"
          ]
        },
        {
          "output_type": "stream",
          "name": "stderr",
          "text": [
            " 77%|███████▋  | 222/290 [03:44<01:07,  1.01it/s, loss=0.0289]"
          ]
        },
        {
          "output_type": "stream",
          "name": "stdout",
          "text": [
            ">\n"
          ]
        },
        {
          "output_type": "stream",
          "name": "stderr",
          "text": [
            " 80%|███████▉  | 231/290 [03:54<01:01,  1.04s/it, loss=0.0374]"
          ]
        },
        {
          "output_type": "stream",
          "name": "stdout",
          "text": [
            ">\n",
            ">\n"
          ]
        },
        {
          "output_type": "stream",
          "name": "stderr",
          "text": [
            " 84%|████████▍ | 245/290 [04:08<00:44,  1.01it/s, loss=0.0374]"
          ]
        },
        {
          "output_type": "stream",
          "name": "stdout",
          "text": [
            ">\n",
            ">\n"
          ]
        },
        {
          "output_type": "stream",
          "name": "stderr",
          "text": [
            " 85%|████████▍ | 246/290 [04:09<00:43,  1.01it/s, loss=0.0414]"
          ]
        },
        {
          "output_type": "stream",
          "name": "stdout",
          "text": [
            "]\n"
          ]
        },
        {
          "output_type": "stream",
          "name": "stderr",
          "text": [
            " 88%|████████▊ | 254/290 [04:17<00:36,  1.00s/it, loss=0.0351]"
          ]
        },
        {
          "output_type": "stream",
          "name": "stdout",
          "text": [
            ">\n"
          ]
        },
        {
          "output_type": "stream",
          "name": "stderr",
          "text": [
            " 89%|████████▊ | 257/290 [04:20<00:34,  1.03s/it, loss=0.0229]"
          ]
        },
        {
          "output_type": "stream",
          "name": "stdout",
          "text": [
            ">\n"
          ]
        },
        {
          "output_type": "stream",
          "name": "stderr",
          "text": [
            " 90%|█████████ | 261/290 [04:24<00:29,  1.03s/it, loss=0.0224]"
          ]
        },
        {
          "output_type": "stream",
          "name": "stdout",
          "text": [
            ">\n",
            ">\n"
          ]
        },
        {
          "output_type": "stream",
          "name": "stderr",
          "text": [
            " 96%|█████████▌| 277/290 [04:41<00:13,  1.00s/it, loss=0.0175]"
          ]
        },
        {
          "output_type": "stream",
          "name": "stdout",
          "text": [
            "[\n"
          ]
        },
        {
          "output_type": "stream",
          "name": "stderr",
          "text": [
            " 98%|█████████▊| 285/290 [04:49<00:05,  1.01s/it, loss=0.0388]"
          ]
        },
        {
          "output_type": "stream",
          "name": "stdout",
          "text": [
            ">\n",
            ">\n"
          ]
        },
        {
          "output_type": "stream",
          "name": "stderr",
          "text": [
            " 99%|█████████▊| 286/290 [04:50<00:04,  1.06s/it, loss=0.0447]"
          ]
        },
        {
          "output_type": "stream",
          "name": "stdout",
          "text": [
            "*\n",
            "*\n",
            "*\n"
          ]
        },
        {
          "output_type": "stream",
          "name": "stderr",
          "text": [
            "100%|██████████| 290/290 [04:53<00:00,  1.01s/it, loss=0.041]\n",
            "  0%|          | 0/290 [00:00<?, ?it/s]"
          ]
        },
        {
          "output_type": "stream",
          "name": "stdout",
          "text": [
            "[\n"
          ]
        },
        {
          "output_type": "stream",
          "name": "stderr",
          "text": [
            "  0%|          | 1/290 [00:00<04:47,  1.00it/s, loss=0.0169]"
          ]
        },
        {
          "output_type": "stream",
          "name": "stdout",
          "text": [
            "[\n"
          ]
        },
        {
          "output_type": "stream",
          "name": "stderr",
          "text": [
            "  1%|          | 3/290 [00:03<04:59,  1.04s/it, loss=0.0186]"
          ]
        },
        {
          "output_type": "stream",
          "name": "stdout",
          "text": [
            "]\n",
            "[\n",
            "]\n"
          ]
        },
        {
          "output_type": "stream",
          "name": "stderr",
          "text": [
            "  4%|▍         | 13/290 [00:13<04:44,  1.03s/it, loss=0.0273]"
          ]
        },
        {
          "output_type": "stream",
          "name": "stdout",
          "text": [
            "]\n"
          ]
        },
        {
          "output_type": "stream",
          "name": "stderr",
          "text": [
            "  6%|▌         | 17/290 [00:17<04:36,  1.01s/it, loss=0.0453]"
          ]
        },
        {
          "output_type": "stream",
          "name": "stdout",
          "text": [
            "*\n",
            "*\n",
            "*\n"
          ]
        },
        {
          "output_type": "stream",
          "name": "stderr",
          "text": [
            "  9%|▊         | 25/290 [00:25<04:21,  1.01it/s, loss=0.0357]"
          ]
        },
        {
          "output_type": "stream",
          "name": "stdout",
          "text": [
            ">\n",
            ">\n"
          ]
        },
        {
          "output_type": "stream",
          "name": "stderr",
          "text": [
            " 12%|█▏        | 36/290 [00:36<04:15,  1.00s/it, loss=0.0245]"
          ]
        },
        {
          "output_type": "stream",
          "name": "stdout",
          "text": [
            ">\n",
            ">\n",
            "[\n",
            "]\n"
          ]
        },
        {
          "output_type": "stream",
          "name": "stderr",
          "text": [
            " 18%|█▊        | 52/290 [00:52<03:53,  1.02it/s, loss=0.0336]"
          ]
        },
        {
          "output_type": "stream",
          "name": "stdout",
          "text": [
            "<\n"
          ]
        },
        {
          "output_type": "stream",
          "name": "stderr",
          "text": [
            " 20%|██        | 58/290 [00:58<04:00,  1.03s/it, loss=0.0284]"
          ]
        },
        {
          "output_type": "stream",
          "name": "stdout",
          "text": [
            ">\n"
          ]
        },
        {
          "output_type": "stream",
          "name": "stderr",
          "text": [
            " 21%|██▏       | 62/290 [01:02<03:47,  1.00it/s, loss=0.0345]"
          ]
        },
        {
          "output_type": "stream",
          "name": "stdout",
          "text": [
            ">\n",
            ">\n"
          ]
        },
        {
          "output_type": "stream",
          "name": "stderr",
          "text": [
            " 24%|██▍       | 70/290 [01:10<03:40,  1.00s/it, loss=0.0224]"
          ]
        },
        {
          "output_type": "stream",
          "name": "stdout",
          "text": [
            ">\n"
          ]
        },
        {
          "output_type": "stream",
          "name": "stderr",
          "text": [
            " 24%|██▍       | 71/290 [01:11<03:42,  1.01s/it, loss=0.0223]"
          ]
        },
        {
          "output_type": "stream",
          "name": "stdout",
          "text": [
            "[\n"
          ]
        },
        {
          "output_type": "stream",
          "name": "stderr",
          "text": [
            " 27%|██▋       | 77/290 [01:17<03:33,  1.00s/it, loss=0.0195]"
          ]
        },
        {
          "output_type": "stream",
          "name": "stdout",
          "text": [
            ">\n",
            ">\n",
            "[\n",
            "]\n"
          ]
        },
        {
          "output_type": "stream",
          "name": "stderr",
          "text": [
            " 27%|██▋       | 79/290 [01:19<03:28,  1.01it/s, loss=0.0206]"
          ]
        },
        {
          "output_type": "stream",
          "name": "stdout",
          "text": [
            ">\n",
            ">\n"
          ]
        },
        {
          "output_type": "stream",
          "name": "stderr",
          "text": [
            " 33%|███▎      | 95/290 [01:35<03:20,  1.03s/it, loss=0.0216]"
          ]
        },
        {
          "output_type": "stream",
          "name": "stdout",
          "text": [
            ">\n",
            ">\n"
          ]
        },
        {
          "output_type": "stream",
          "name": "stderr",
          "text": [
            " 34%|███▍      | 100/290 [01:40<03:09,  1.00it/s, loss=0.00388]"
          ]
        },
        {
          "output_type": "stream",
          "name": "stdout",
          "text": [
            "*\n",
            "*\n",
            "*\n"
          ]
        },
        {
          "output_type": "stream",
          "name": "stderr",
          "text": [
            " 35%|███▍      | 101/290 [01:41<03:10,  1.01s/it, loss=0.0241]"
          ]
        },
        {
          "output_type": "stream",
          "name": "stdout",
          "text": [
            ">\n"
          ]
        },
        {
          "output_type": "stream",
          "name": "stderr",
          "text": [
            " 38%|███▊      | 110/290 [01:51<03:02,  1.01s/it, loss=0.0372]"
          ]
        },
        {
          "output_type": "stream",
          "name": "stdout",
          "text": [
            ">\n",
            ">\n"
          ]
        },
        {
          "output_type": "stream",
          "name": "stderr",
          "text": [
            " 40%|████      | 117/290 [01:58<02:59,  1.04s/it, loss=0.0386]"
          ]
        },
        {
          "output_type": "stream",
          "name": "stdout",
          "text": [
            ">\n",
            ">\n"
          ]
        },
        {
          "output_type": "stream",
          "name": "stderr",
          "text": [
            " 43%|████▎     | 124/290 [02:05<02:46,  1.00s/it, loss=0.0266]"
          ]
        },
        {
          "output_type": "stream",
          "name": "stdout",
          "text": [
            ">\n",
            ">\n"
          ]
        },
        {
          "output_type": "stream",
          "name": "stderr",
          "text": [
            " 43%|████▎     | 125/290 [02:06<02:44,  1.00it/s, loss=0.0247]"
          ]
        },
        {
          "output_type": "stream",
          "name": "stdout",
          "text": [
            "[\n"
          ]
        },
        {
          "output_type": "stream",
          "name": "stderr",
          "text": [
            " 58%|█████▊    | 169/290 [02:50<02:01,  1.01s/it, loss=0.0804]"
          ]
        },
        {
          "output_type": "stream",
          "name": "stdout",
          "text": [
            "[\n",
            "]\n"
          ]
        },
        {
          "output_type": "stream",
          "name": "stderr",
          "text": [
            " 71%|███████   | 206/290 [03:27<01:22,  1.02it/s, loss=0.0512]"
          ]
        },
        {
          "output_type": "stream",
          "name": "stdout",
          "text": [
            "*\n",
            "*\n",
            "*\n"
          ]
        },
        {
          "output_type": "stream",
          "name": "stderr",
          "text": [
            " 76%|███████▌  | 220/290 [03:42<01:09,  1.01it/s, loss=0.0455]"
          ]
        },
        {
          "output_type": "stream",
          "name": "stdout",
          "text": [
            "]\n"
          ]
        },
        {
          "output_type": "stream",
          "name": "stderr",
          "text": [
            " 78%|███████▊  | 226/290 [03:48<01:03,  1.02it/s, loss=0.0302]"
          ]
        },
        {
          "output_type": "stream",
          "name": "stdout",
          "text": [
            "]\n",
            "[\n",
            "]\n"
          ]
        },
        {
          "output_type": "stream",
          "name": "stderr",
          "text": [
            " 79%|███████▉  | 230/290 [03:52<01:00,  1.01s/it, loss=0.0344]"
          ]
        },
        {
          "output_type": "stream",
          "name": "stdout",
          "text": [
            ">\n",
            ">\n"
          ]
        },
        {
          "output_type": "stream",
          "name": "stderr",
          "text": [
            " 83%|████████▎ | 242/290 [04:04<00:47,  1.01it/s, loss=0.0472]"
          ]
        },
        {
          "output_type": "stream",
          "name": "stdout",
          "text": [
            "*\n",
            "*\n",
            "*\n"
          ]
        },
        {
          "output_type": "stream",
          "name": "stderr",
          "text": [
            " 89%|████████▊ | 257/290 [04:19<00:32,  1.01it/s, loss=0.0513]"
          ]
        },
        {
          "output_type": "stream",
          "name": "stdout",
          "text": [
            "[\n",
            "]\n"
          ]
        },
        {
          "output_type": "stream",
          "name": "stderr",
          "text": [
            " 98%|█████████▊| 283/290 [04:45<00:07,  1.05s/it, loss=0.0187]"
          ]
        },
        {
          "output_type": "stream",
          "name": "stdout",
          "text": [
            ">\n",
            ">\n",
            ">\n"
          ]
        },
        {
          "output_type": "stream",
          "name": "stderr",
          "text": [
            " 99%|█████████▉| 288/290 [04:50<00:02,  1.06s/it, loss=0.0303]"
          ]
        },
        {
          "output_type": "stream",
          "name": "stdout",
          "text": [
            "<\n"
          ]
        },
        {
          "output_type": "stream",
          "name": "stderr",
          "text": [
            "100%|██████████| 290/290 [04:52<00:00,  1.01s/it, loss=0.035]\n"
          ]
        },
        {
          "output_type": "stream",
          "name": "stdout",
          "text": [
            "checkpoint_ep39.pth.tar saved\n"
          ]
        },
        {
          "output_type": "stream",
          "name": "stderr",
          "text": [
            "  1%|▏         | 4/290 [00:04<04:46,  1.00s/it, loss=0.03]"
          ]
        },
        {
          "output_type": "stream",
          "name": "stdout",
          "text": [
            "[\n",
            "]\n"
          ]
        },
        {
          "output_type": "stream",
          "name": "stderr",
          "text": [
            " 11%|█         | 32/290 [00:31<04:13,  1.02it/s, loss=0.0455]"
          ]
        },
        {
          "output_type": "stream",
          "name": "stdout",
          "text": [
            ">\n"
          ]
        },
        {
          "output_type": "stream",
          "name": "stderr",
          "text": [
            " 13%|█▎        | 39/290 [00:39<04:25,  1.06s/it, loss=0.0356]"
          ]
        },
        {
          "output_type": "stream",
          "name": "stdout",
          "text": [
            ">\n",
            ">\n",
            ">\n"
          ]
        },
        {
          "output_type": "stream",
          "name": "stderr",
          "text": [
            " 15%|█▌        | 44/290 [00:44<04:11,  1.02s/it, loss=0.0346]"
          ]
        },
        {
          "output_type": "stream",
          "name": "stdout",
          "text": [
            ">\n"
          ]
        },
        {
          "output_type": "stream",
          "name": "stderr",
          "text": [
            " 17%|█▋        | 50/290 [00:50<04:00,  1.00s/it, loss=0.0278]"
          ]
        },
        {
          "output_type": "stream",
          "name": "stdout",
          "text": [
            "*\n",
            "*\n",
            "*\n"
          ]
        },
        {
          "output_type": "stream",
          "name": "stderr",
          "text": [
            " 18%|█▊        | 52/290 [00:52<03:57,  1.00it/s, loss=0.0566]"
          ]
        },
        {
          "output_type": "stream",
          "name": "stdout",
          "text": [
            "<\n"
          ]
        },
        {
          "output_type": "stream",
          "name": "stderr",
          "text": [
            " 27%|██▋       | 77/290 [01:17<03:33,  1.00s/it, loss=0.0312]"
          ]
        },
        {
          "output_type": "stream",
          "name": "stdout",
          "text": [
            "*\n",
            "*\n",
            "*\n"
          ]
        },
        {
          "output_type": "stream",
          "name": "stderr",
          "text": [
            " 30%|██▉       | 86/290 [01:26<03:18,  1.03it/s, loss=0.0262]"
          ]
        },
        {
          "output_type": "stream",
          "name": "stdout",
          "text": [
            ">\n",
            ">\n"
          ]
        },
        {
          "output_type": "stream",
          "name": "stderr",
          "text": [
            " 42%|████▏     | 121/290 [02:01<02:49,  1.00s/it, loss=0.0253]"
          ]
        },
        {
          "output_type": "stream",
          "name": "stdout",
          "text": [
            ">\n",
            ">\n"
          ]
        },
        {
          "output_type": "stream",
          "name": "stderr",
          "text": [
            " 44%|████▍     | 129/290 [02:09<02:42,  1.01s/it, loss=0.0284]"
          ]
        },
        {
          "output_type": "stream",
          "name": "stdout",
          "text": [
            "[\n",
            "]\n"
          ]
        },
        {
          "output_type": "stream",
          "name": "stderr",
          "text": [
            " 46%|████▌     | 133/290 [02:13<02:37,  1.00s/it, loss=0.0284]"
          ]
        },
        {
          "output_type": "stream",
          "name": "stdout",
          "text": [
            "]\n",
            "[\n",
            "]\n"
          ]
        },
        {
          "output_type": "stream",
          "name": "stderr",
          "text": [
            " 49%|████▉     | 143/290 [02:23<02:27,  1.00s/it, loss=0.0281]"
          ]
        },
        {
          "output_type": "stream",
          "name": "stdout",
          "text": [
            "*\n",
            "*\n",
            "*\n"
          ]
        },
        {
          "output_type": "stream",
          "name": "stderr",
          "text": [
            " 52%|█████▏    | 150/290 [02:30<02:18,  1.01it/s, loss=0.0418]"
          ]
        },
        {
          "output_type": "stream",
          "name": "stdout",
          "text": [
            "[\n"
          ]
        },
        {
          "output_type": "stream",
          "name": "stderr",
          "text": [
            " 57%|█████▋    | 166/290 [02:46<02:05,  1.01s/it, loss=0.0261]"
          ]
        },
        {
          "output_type": "stream",
          "name": "stdout",
          "text": [
            "<\n"
          ]
        },
        {
          "output_type": "stream",
          "name": "stderr",
          "text": [
            " 60%|██████    | 175/290 [02:55<01:58,  1.03s/it, loss=0.0357]"
          ]
        },
        {
          "output_type": "stream",
          "name": "stdout",
          "text": [
            ">\n",
            ">\n"
          ]
        },
        {
          "output_type": "stream",
          "name": "stderr",
          "text": [
            " 62%|██████▏   | 181/290 [03:01<01:48,  1.00it/s, loss=0.0205]"
          ]
        },
        {
          "output_type": "stream",
          "name": "stdout",
          "text": [
            "]\n"
          ]
        },
        {
          "output_type": "stream",
          "name": "stderr",
          "text": [
            " 64%|██████▍   | 185/290 [03:05<01:45,  1.00s/it, loss=0.0247]"
          ]
        },
        {
          "output_type": "stream",
          "name": "stdout",
          "text": [
            ">\n",
            ">\n"
          ]
        },
        {
          "output_type": "stream",
          "name": "stderr",
          "text": [
            " 65%|██████▌   | 189/290 [03:09<01:41,  1.01s/it, loss=0.0416]"
          ]
        },
        {
          "output_type": "stream",
          "name": "stdout",
          "text": [
            "]\n",
            "[\n",
            "]\n"
          ]
        },
        {
          "output_type": "stream",
          "name": "stderr",
          "text": [
            " 73%|███████▎  | 211/290 [03:31<01:19,  1.00s/it, loss=0.0271]"
          ]
        },
        {
          "output_type": "stream",
          "name": "stdout",
          "text": [
            ">\n",
            ">\n"
          ]
        },
        {
          "output_type": "stream",
          "name": "stderr",
          "text": [
            " 77%|███████▋  | 222/290 [03:42<01:07,  1.00it/s, loss=0.0336]"
          ]
        },
        {
          "output_type": "stream",
          "name": "stdout",
          "text": [
            ">\n",
            ">\n",
            ">\n",
            ">\n"
          ]
        },
        {
          "output_type": "stream",
          "name": "stderr",
          "text": [
            " 80%|████████  | 232/290 [03:52<00:58,  1.00s/it, loss=0.0347]"
          ]
        },
        {
          "output_type": "stream",
          "name": "stdout",
          "text": [
            ">\n"
          ]
        },
        {
          "output_type": "stream",
          "name": "stderr",
          "text": [
            " 81%|████████▏ | 236/290 [03:57<00:56,  1.05s/it, loss=0.0275]"
          ]
        },
        {
          "output_type": "stream",
          "name": "stdout",
          "text": [
            "[\n"
          ]
        },
        {
          "output_type": "stream",
          "name": "stderr",
          "text": [
            " 83%|████████▎ | 242/290 [04:03<00:48,  1.01s/it, loss=0.0351]"
          ]
        },
        {
          "output_type": "stream",
          "name": "stdout",
          "text": [
            "]\n"
          ]
        },
        {
          "output_type": "stream",
          "name": "stderr",
          "text": [
            " 84%|████████▍ | 245/290 [04:06<00:45,  1.01s/it, loss=0.0559]"
          ]
        },
        {
          "output_type": "stream",
          "name": "stdout",
          "text": [
            ">\n",
            ">\n"
          ]
        },
        {
          "output_type": "stream",
          "name": "stderr",
          "text": [
            " 86%|████████▌ | 248/290 [04:09<00:41,  1.01it/s, loss=0.0175]"
          ]
        },
        {
          "output_type": "stream",
          "name": "stdout",
          "text": [
            "[\n"
          ]
        },
        {
          "output_type": "stream",
          "name": "stderr",
          "text": [
            " 87%|████████▋ | 253/290 [04:14<00:37,  1.01s/it, loss=0.051]"
          ]
        },
        {
          "output_type": "stream",
          "name": "stdout",
          "text": [
            ">\n",
            ">\n"
          ]
        },
        {
          "output_type": "stream",
          "name": "stderr",
          "text": [
            " 91%|█████████ | 264/290 [04:25<00:25,  1.00it/s, loss=0.0402]"
          ]
        },
        {
          "output_type": "stream",
          "name": "stdout",
          "text": [
            ">\n",
            ">\n"
          ]
        },
        {
          "output_type": "stream",
          "name": "stderr",
          "text": [
            " 92%|█████████▏| 266/290 [04:27<00:23,  1.01it/s, loss=0.0435]"
          ]
        },
        {
          "output_type": "stream",
          "name": "stdout",
          "text": [
            "[\n"
          ]
        },
        {
          "output_type": "stream",
          "name": "stderr",
          "text": [
            " 93%|█████████▎| 271/290 [04:32<00:18,  1.02it/s, loss=0.0571]"
          ]
        },
        {
          "output_type": "stream",
          "name": "stdout",
          "text": [
            "[\n",
            "]\n"
          ]
        },
        {
          "output_type": "stream",
          "name": "stderr",
          "text": [
            " 94%|█████████▍| 272/290 [04:33<00:17,  1.00it/s, loss=0.0284]"
          ]
        },
        {
          "output_type": "stream",
          "name": "stdout",
          "text": [
            "[\n",
            "]\n"
          ]
        },
        {
          "output_type": "stream",
          "name": "stderr",
          "text": [
            " 94%|█████████▍| 273/290 [04:34<00:16,  1.00it/s, loss=0.0626]"
          ]
        },
        {
          "output_type": "stream",
          "name": "stdout",
          "text": [
            "*\n",
            "*\n",
            "*\n"
          ]
        },
        {
          "output_type": "stream",
          "name": "stderr",
          "text": [
            "100%|██████████| 290/290 [04:51<00:00,  1.00s/it, loss=0.0635]\n",
            "  1%|          | 3/290 [00:02<04:44,  1.01it/s, loss=0.0275]"
          ]
        },
        {
          "output_type": "stream",
          "name": "stdout",
          "text": [
            "[\n",
            "]\n"
          ]
        },
        {
          "output_type": "stream",
          "name": "stderr",
          "text": [
            " 13%|█▎        | 37/290 [00:37<04:16,  1.01s/it, loss=0.0252]"
          ]
        },
        {
          "output_type": "stream",
          "name": "stdout",
          "text": [
            "[\n"
          ]
        },
        {
          "output_type": "stream",
          "name": "stderr",
          "text": [
            " 14%|█▍        | 42/290 [00:42<04:06,  1.01it/s, loss=0.0284]"
          ]
        },
        {
          "output_type": "stream",
          "name": "stdout",
          "text": [
            ">\n"
          ]
        },
        {
          "output_type": "stream",
          "name": "stderr",
          "text": [
            " 28%|██▊       | 81/290 [01:22<03:29,  1.00s/it, loss=0.0248]"
          ]
        },
        {
          "output_type": "stream",
          "name": "stdout",
          "text": [
            ">\n",
            ">\n"
          ]
        },
        {
          "output_type": "stream",
          "name": "stderr",
          "text": [
            " 36%|███▌      | 104/290 [01:45<03:04,  1.01it/s, loss=0.0252]"
          ]
        },
        {
          "output_type": "stream",
          "name": "stdout",
          "text": [
            ">\n",
            ">\n"
          ]
        },
        {
          "output_type": "stream",
          "name": "stderr",
          "text": [
            " 40%|███▉      | 115/290 [01:56<02:58,  1.02s/it, loss=0.0268]"
          ]
        },
        {
          "output_type": "stream",
          "name": "stdout",
          "text": [
            "[\n"
          ]
        },
        {
          "output_type": "stream",
          "name": "stderr",
          "text": [
            " 40%|████      | 116/290 [01:57<02:55,  1.01s/it, loss=0.0235]"
          ]
        },
        {
          "output_type": "stream",
          "name": "stdout",
          "text": [
            ">\n",
            ">\n"
          ]
        },
        {
          "output_type": "stream",
          "name": "stderr",
          "text": [
            " 46%|████▌     | 134/290 [02:15<02:37,  1.01s/it, loss=0.0358]"
          ]
        },
        {
          "output_type": "stream",
          "name": "stdout",
          "text": [
            ">\n"
          ]
        },
        {
          "output_type": "stream",
          "name": "stderr",
          "text": [
            " 47%|████▋     | 137/290 [02:18<02:31,  1.01it/s, loss=0.0172]"
          ]
        },
        {
          "output_type": "stream",
          "name": "stdout",
          "text": [
            "*\n",
            "*\n",
            "*\n"
          ]
        },
        {
          "output_type": "stream",
          "name": "stderr",
          "text": [
            " 49%|████▉     | 142/290 [02:23<02:34,  1.04s/it, loss=0.0293]"
          ]
        },
        {
          "output_type": "stream",
          "name": "stdout",
          "text": [
            "<\n"
          ]
        },
        {
          "output_type": "stream",
          "name": "stderr",
          "text": [
            " 50%|████▉     | 144/290 [02:25<02:36,  1.07s/it, loss=0.0486]"
          ]
        },
        {
          "output_type": "stream",
          "name": "stdout",
          "text": [
            "[\n"
          ]
        },
        {
          "output_type": "stream",
          "name": "stderr",
          "text": [
            " 56%|█████▌    | 161/290 [02:43<02:12,  1.03s/it, loss=0.0201]"
          ]
        },
        {
          "output_type": "stream",
          "name": "stdout",
          "text": [
            ">\n",
            ">\n"
          ]
        },
        {
          "output_type": "stream",
          "name": "stderr",
          "text": [
            " 57%|█████▋    | 165/290 [02:47<02:04,  1.00it/s, loss=0.0221]"
          ]
        },
        {
          "output_type": "stream",
          "name": "stdout",
          "text": [
            "]\n",
            "[\n",
            "]\n"
          ]
        },
        {
          "output_type": "stream",
          "name": "stderr",
          "text": [
            " 57%|█████▋    | 166/290 [02:48<02:07,  1.03s/it, loss=0.0314]"
          ]
        },
        {
          "output_type": "stream",
          "name": "stdout",
          "text": [
            ">\n"
          ]
        },
        {
          "output_type": "stream",
          "name": "stderr",
          "text": [
            " 58%|█████▊    | 169/290 [02:51<02:00,  1.01it/s, loss=0.0341]"
          ]
        },
        {
          "output_type": "stream",
          "name": "stdout",
          "text": [
            "[\n",
            "]\n"
          ]
        },
        {
          "output_type": "stream",
          "name": "stderr",
          "text": [
            " 59%|█████▉    | 171/290 [02:53<01:57,  1.01it/s, loss=0.0278]"
          ]
        },
        {
          "output_type": "stream",
          "name": "stdout",
          "text": [
            "*\n",
            "*\n",
            "*\n"
          ]
        },
        {
          "output_type": "stream",
          "name": "stderr",
          "text": [
            " 61%|██████    | 176/290 [02:58<01:53,  1.01it/s, loss=0.0244]"
          ]
        },
        {
          "output_type": "stream",
          "name": "stdout",
          "text": [
            "[\n",
            "]\n"
          ]
        },
        {
          "output_type": "stream",
          "name": "stderr",
          "text": [
            " 62%|██████▏   | 179/290 [03:01<01:54,  1.03s/it, loss=0.0454]"
          ]
        },
        {
          "output_type": "stream",
          "name": "stdout",
          "text": [
            "]\n"
          ]
        },
        {
          "output_type": "stream",
          "name": "stderr",
          "text": [
            " 65%|██████▌   | 189/290 [03:11<01:40,  1.00it/s, loss=0.0253]"
          ]
        },
        {
          "output_type": "stream",
          "name": "stdout",
          "text": [
            ">\n",
            ">\n"
          ]
        },
        {
          "output_type": "stream",
          "name": "stderr",
          "text": [
            " 67%|██████▋   | 195/290 [03:17<01:36,  1.02s/it, loss=0.0214]"
          ]
        },
        {
          "output_type": "stream",
          "name": "stdout",
          "text": [
            ">\n",
            ">\n"
          ]
        },
        {
          "output_type": "stream",
          "name": "stderr",
          "text": [
            " 74%|███████▍  | 216/290 [03:38<01:14,  1.00s/it, loss=0.0174]"
          ]
        },
        {
          "output_type": "stream",
          "name": "stdout",
          "text": [
            ">\n",
            ">\n"
          ]
        },
        {
          "output_type": "stream",
          "name": "stderr",
          "text": [
            " 77%|███████▋  | 224/290 [03:46<01:06,  1.01s/it, loss=0.0227]"
          ]
        },
        {
          "output_type": "stream",
          "name": "stdout",
          "text": [
            "]\n",
            "[\n",
            "]\n"
          ]
        },
        {
          "output_type": "stream",
          "name": "stderr",
          "text": [
            " 79%|███████▉  | 229/290 [03:51<01:01,  1.00s/it, loss=0.0153]"
          ]
        },
        {
          "output_type": "stream",
          "name": "stdout",
          "text": [
            "*\n",
            "*\n",
            "*\n"
          ]
        },
        {
          "output_type": "stream",
          "name": "stderr",
          "text": [
            " 88%|████████▊ | 254/290 [04:16<00:36,  1.01s/it, loss=0.0539]"
          ]
        },
        {
          "output_type": "stream",
          "name": "stdout",
          "text": [
            "[\n"
          ]
        },
        {
          "output_type": "stream",
          "name": "stderr",
          "text": [
            " 88%|████████▊ | 256/290 [04:18<00:34,  1.01s/it, loss=0.0198]"
          ]
        },
        {
          "output_type": "stream",
          "name": "stdout",
          "text": [
            ">\n",
            ">\n",
            "*\n",
            "*\n",
            "*\n"
          ]
        },
        {
          "output_type": "stream",
          "name": "stderr",
          "text": [
            " 89%|████████▉ | 258/290 [04:20<00:32,  1.00s/it, loss=0.0275]"
          ]
        },
        {
          "output_type": "stream",
          "name": "stdout",
          "text": [
            "[\n",
            "]\n"
          ]
        },
        {
          "output_type": "stream",
          "name": "stderr",
          "text": [
            " 95%|█████████▌| 276/290 [04:38<00:13,  1.00it/s, loss=0.0212]"
          ]
        },
        {
          "output_type": "stream",
          "name": "stdout",
          "text": [
            ">\n",
            ">\n"
          ]
        },
        {
          "output_type": "stream",
          "name": "stderr",
          "text": [
            " 96%|█████████▌| 277/290 [04:39<00:13,  1.04s/it, loss=0.0299]"
          ]
        },
        {
          "output_type": "stream",
          "name": "stdout",
          "text": [
            ">\n",
            ">\n"
          ]
        },
        {
          "output_type": "stream",
          "name": "stderr",
          "text": [
            " 96%|█████████▌| 279/290 [04:41<00:11,  1.01s/it, loss=0.0197]"
          ]
        },
        {
          "output_type": "stream",
          "name": "stdout",
          "text": [
            ">\n",
            ">\n",
            ">\n"
          ]
        },
        {
          "output_type": "stream",
          "name": "stderr",
          "text": [
            " 97%|█████████▋| 280/290 [04:42<00:10,  1.00s/it, loss=0.038]"
          ]
        },
        {
          "output_type": "stream",
          "name": "stdout",
          "text": [
            "]\n"
          ]
        },
        {
          "output_type": "stream",
          "name": "stderr",
          "text": [
            " 99%|█████████▉| 287/290 [04:49<00:02,  1.02it/s, loss=0.0294]"
          ]
        },
        {
          "output_type": "stream",
          "name": "stdout",
          "text": [
            "<\n"
          ]
        },
        {
          "output_type": "stream",
          "name": "stderr",
          "text": [
            "100%|██████████| 290/290 [04:52<00:00,  1.01s/it, loss=0.044]\n"
          ]
        },
        {
          "output_type": "stream",
          "name": "stdout",
          "text": [
            "checkpoint_ep41.pth.tar saved\n"
          ]
        },
        {
          "output_type": "stream",
          "name": "stderr",
          "text": [
            "  0%|          | 1/290 [00:00<04:45,  1.01it/s, loss=0.0169]"
          ]
        },
        {
          "output_type": "stream",
          "name": "stdout",
          "text": [
            "*\n",
            "*\n",
            "*\n"
          ]
        },
        {
          "output_type": "stream",
          "name": "stderr",
          "text": [
            "  1%|          | 3/290 [00:03<04:51,  1.01s/it, loss=0.029]"
          ]
        },
        {
          "output_type": "stream",
          "name": "stdout",
          "text": [
            "]\n",
            "[\n",
            "]\n"
          ]
        },
        {
          "output_type": "stream",
          "name": "stderr",
          "text": [
            "  4%|▍         | 13/290 [00:13<04:35,  1.00it/s, loss=0.0349]"
          ]
        },
        {
          "output_type": "stream",
          "name": "stdout",
          "text": [
            "*\n",
            "*\n",
            "*\n"
          ]
        },
        {
          "output_type": "stream",
          "name": "stderr",
          "text": [
            "  5%|▌         | 15/290 [00:15<04:32,  1.01it/s, loss=0.0276]"
          ]
        },
        {
          "output_type": "stream",
          "name": "stdout",
          "text": [
            ">\n",
            ">\n"
          ]
        },
        {
          "output_type": "stream",
          "name": "stderr",
          "text": [
            " 11%|█▏        | 33/290 [00:33<04:20,  1.02s/it, loss=0.0244]"
          ]
        },
        {
          "output_type": "stream",
          "name": "stdout",
          "text": [
            ">\n",
            ">\n"
          ]
        },
        {
          "output_type": "stream",
          "name": "stderr",
          "text": [
            " 12%|█▏        | 35/290 [00:35<04:23,  1.03s/it, loss=0.0365]"
          ]
        },
        {
          "output_type": "stream",
          "name": "stdout",
          "text": [
            ">\n",
            ">\n"
          ]
        },
        {
          "output_type": "stream",
          "name": "stderr",
          "text": [
            " 29%|██▉       | 84/290 [01:25<03:22,  1.02it/s, loss=0.0298]"
          ]
        },
        {
          "output_type": "stream",
          "name": "stdout",
          "text": [
            "*\n",
            "*\n",
            "*\n"
          ]
        },
        {
          "output_type": "stream",
          "name": "stderr",
          "text": [
            " 33%|███▎      | 96/290 [01:37<03:18,  1.02s/it, loss=0.0299]"
          ]
        },
        {
          "output_type": "stream",
          "name": "stdout",
          "text": [
            ">\n",
            ">\n",
            ">\n"
          ]
        },
        {
          "output_type": "stream",
          "name": "stderr",
          "text": [
            " 34%|███▍      | 98/290 [01:39<03:14,  1.01s/it, loss=0.0285]"
          ]
        },
        {
          "output_type": "stream",
          "name": "stdout",
          "text": [
            "]\n"
          ]
        },
        {
          "output_type": "stream",
          "name": "stderr",
          "text": [
            " 34%|███▍      | 100/290 [01:41<03:10,  1.00s/it, loss=0.0255]"
          ]
        },
        {
          "output_type": "stream",
          "name": "stdout",
          "text": [
            "[\n",
            "]\n"
          ]
        },
        {
          "output_type": "stream",
          "name": "stderr",
          "text": [
            " 36%|███▌      | 104/290 [01:45<03:07,  1.01s/it, loss=0.0236]"
          ]
        },
        {
          "output_type": "stream",
          "name": "stdout",
          "text": [
            "[\n"
          ]
        },
        {
          "output_type": "stream",
          "name": "stderr",
          "text": [
            " 38%|███▊      | 109/290 [01:50<03:01,  1.00s/it, loss=0.021]"
          ]
        },
        {
          "output_type": "stream",
          "name": "stdout",
          "text": [
            "[\n",
            "]\n"
          ]
        },
        {
          "output_type": "stream",
          "name": "stderr",
          "text": [
            " 39%|███▉      | 114/290 [01:55<02:56,  1.00s/it, loss=0.00771]"
          ]
        },
        {
          "output_type": "stream",
          "name": "stdout",
          "text": [
            "[\n"
          ]
        },
        {
          "output_type": "stream",
          "name": "stderr",
          "text": [
            " 48%|████▊     | 140/290 [02:21<02:30,  1.00s/it, loss=0.0236]"
          ]
        },
        {
          "output_type": "stream",
          "name": "stdout",
          "text": [
            "]\n",
            "[\n",
            "]\n"
          ]
        },
        {
          "output_type": "stream",
          "name": "stderr",
          "text": [
            " 50%|████▉     | 144/290 [02:25<02:25,  1.00it/s, loss=0.0252]"
          ]
        },
        {
          "output_type": "stream",
          "name": "stdout",
          "text": [
            "[\n"
          ]
        },
        {
          "output_type": "stream",
          "name": "stderr",
          "text": [
            " 54%|█████▍    | 156/290 [02:37<02:13,  1.00it/s, loss=0.0186]"
          ]
        },
        {
          "output_type": "stream",
          "name": "stdout",
          "text": [
            ">\n",
            ">\n"
          ]
        },
        {
          "output_type": "stream",
          "name": "stderr",
          "text": [
            " 56%|█████▌    | 161/290 [02:42<02:10,  1.01s/it, loss=0.0319]"
          ]
        },
        {
          "output_type": "stream",
          "name": "stdout",
          "text": [
            ">\n",
            ">\n"
          ]
        },
        {
          "output_type": "stream",
          "name": "stderr",
          "text": [
            " 58%|█████▊    | 169/290 [02:50<02:03,  1.02s/it, loss=0.0305]"
          ]
        },
        {
          "output_type": "stream",
          "name": "stdout",
          "text": [
            "<\n"
          ]
        },
        {
          "output_type": "stream",
          "name": "stderr",
          "text": [
            " 60%|██████    | 175/290 [02:56<01:59,  1.04s/it, loss=0.0198]"
          ]
        },
        {
          "output_type": "stream",
          "name": "stdout",
          "text": [
            ">\n",
            ">\n"
          ]
        },
        {
          "output_type": "stream",
          "name": "stderr",
          "text": [
            " 66%|██████▌   | 191/290 [03:13<01:41,  1.02s/it, loss=0.0645]"
          ]
        },
        {
          "output_type": "stream",
          "name": "stdout",
          "text": [
            ">\n",
            ">\n"
          ]
        },
        {
          "output_type": "stream",
          "name": "stderr",
          "text": [
            " 66%|██████▌   | 192/290 [03:14<01:40,  1.03s/it, loss=0.0187]"
          ]
        },
        {
          "output_type": "stream",
          "name": "stdout",
          "text": [
            "*\n",
            "*\n",
            "*\n"
          ]
        },
        {
          "output_type": "stream",
          "name": "stderr",
          "text": [
            " 70%|███████   | 204/290 [03:26<01:25,  1.01it/s, loss=0.0216]"
          ]
        },
        {
          "output_type": "stream",
          "name": "stdout",
          "text": [
            "[\n",
            "]\n"
          ]
        },
        {
          "output_type": "stream",
          "name": "stderr",
          "text": [
            " 79%|███████▊  | 228/290 [03:50<01:02,  1.00s/it, loss=0.0232]"
          ]
        },
        {
          "output_type": "stream",
          "name": "stdout",
          "text": [
            "[\n"
          ]
        },
        {
          "output_type": "stream",
          "name": "stderr",
          "text": [
            " 79%|███████▉  | 229/290 [03:51<01:00,  1.00it/s, loss=0.0204]"
          ]
        },
        {
          "output_type": "stream",
          "name": "stdout",
          "text": [
            ">\n",
            ">\n"
          ]
        },
        {
          "output_type": "stream",
          "name": "stderr",
          "text": [
            " 83%|████████▎ | 240/290 [04:02<00:49,  1.01it/s, loss=0.0272]"
          ]
        },
        {
          "output_type": "stream",
          "name": "stdout",
          "text": [
            "]\n"
          ]
        },
        {
          "output_type": "stream",
          "name": "stderr",
          "text": [
            " 84%|████████▍ | 245/290 [04:07<00:47,  1.06s/it, loss=0.0264]"
          ]
        },
        {
          "output_type": "stream",
          "name": "stdout",
          "text": [
            "<\n"
          ]
        },
        {
          "output_type": "stream",
          "name": "stderr",
          "text": [
            " 85%|████████▌ | 247/290 [04:09<00:46,  1.08s/it, loss=0.0346]"
          ]
        },
        {
          "output_type": "stream",
          "name": "stdout",
          "text": [
            "[\n",
            "]\n"
          ]
        },
        {
          "output_type": "stream",
          "name": "stderr",
          "text": [
            " 86%|████████▌ | 249/290 [04:12<00:43,  1.05s/it, loss=0.0447]"
          ]
        },
        {
          "output_type": "stream",
          "name": "stdout",
          "text": [
            ">\n",
            ">\n"
          ]
        },
        {
          "output_type": "stream",
          "name": "stderr",
          "text": [
            " 87%|████████▋ | 252/290 [04:15<00:38,  1.02s/it, loss=0.0354]"
          ]
        },
        {
          "output_type": "stream",
          "name": "stdout",
          "text": [
            ">\n"
          ]
        },
        {
          "output_type": "stream",
          "name": "stderr",
          "text": [
            " 89%|████████▉ | 259/290 [04:22<00:31,  1.02s/it, loss=0.0391]"
          ]
        },
        {
          "output_type": "stream",
          "name": "stdout",
          "text": [
            ">\n"
          ]
        },
        {
          "output_type": "stream",
          "name": "stderr",
          "text": [
            " 99%|█████████▉| 287/290 [04:50<00:02,  1.01it/s, loss=0.0222]"
          ]
        },
        {
          "output_type": "stream",
          "name": "stdout",
          "text": [
            ">\n",
            ">\n"
          ]
        },
        {
          "output_type": "stream",
          "name": "stderr",
          "text": [
            "100%|█████████▉| 289/290 [04:52<00:01,  1.00s/it, loss=0.0476]"
          ]
        },
        {
          "output_type": "stream",
          "name": "stdout",
          "text": [
            ">\n"
          ]
        },
        {
          "output_type": "stream",
          "name": "stderr",
          "text": [
            "100%|██████████| 290/290 [04:52<00:00,  1.01s/it, loss=0.0394]\n",
            " 10%|▉         | 28/290 [00:28<04:20,  1.01it/s, loss=0.0268]"
          ]
        },
        {
          "output_type": "stream",
          "name": "stdout",
          "text": [
            ">\n",
            ">\n"
          ]
        },
        {
          "output_type": "stream",
          "name": "stderr",
          "text": [
            " 13%|█▎        | 37/290 [00:37<04:13,  1.00s/it, loss=0.0266]"
          ]
        },
        {
          "output_type": "stream",
          "name": "stdout",
          "text": [
            ">\n",
            ">\n"
          ]
        },
        {
          "output_type": "stream",
          "name": "stderr",
          "text": [
            " 18%|█▊        | 53/290 [00:53<03:58,  1.01s/it, loss=0.0242]"
          ]
        },
        {
          "output_type": "stream",
          "name": "stdout",
          "text": [
            ">\n"
          ]
        },
        {
          "output_type": "stream",
          "name": "stderr",
          "text": [
            " 21%|██        | 61/290 [01:01<03:52,  1.02s/it, loss=0.0217]"
          ]
        },
        {
          "output_type": "stream",
          "name": "stdout",
          "text": [
            ">\n",
            ">\n"
          ]
        },
        {
          "output_type": "stream",
          "name": "stderr",
          "text": [
            " 22%|██▏       | 65/290 [01:05<03:44,  1.00it/s, loss=0.0296]"
          ]
        },
        {
          "output_type": "stream",
          "name": "stdout",
          "text": [
            ">\n"
          ]
        },
        {
          "output_type": "stream",
          "name": "stderr",
          "text": [
            " 25%|██▍       | 72/290 [01:12<03:40,  1.01s/it, loss=0.0134]"
          ]
        },
        {
          "output_type": "stream",
          "name": "stdout",
          "text": [
            "]\n",
            "[\n",
            "]\n"
          ]
        },
        {
          "output_type": "stream",
          "name": "stderr",
          "text": [
            " 31%|███       | 89/290 [01:30<03:25,  1.02s/it, loss=0.021]"
          ]
        },
        {
          "output_type": "stream",
          "name": "stdout",
          "text": [
            "<\n"
          ]
        },
        {
          "output_type": "stream",
          "name": "stderr",
          "text": [
            " 35%|███▌      | 102/290 [01:43<03:06,  1.01it/s, loss=0.0292]"
          ]
        },
        {
          "output_type": "stream",
          "name": "stdout",
          "text": [
            "*\n",
            "*\n",
            "*\n"
          ]
        },
        {
          "output_type": "stream",
          "name": "stderr",
          "text": [
            " 37%|███▋      | 108/290 [01:49<03:10,  1.05s/it, loss=0.0323]"
          ]
        },
        {
          "output_type": "stream",
          "name": "stdout",
          "text": [
            "*\n",
            "*\n",
            "*\n"
          ]
        },
        {
          "output_type": "stream",
          "name": "stderr",
          "text": [
            " 42%|████▏     | 122/290 [02:03<02:48,  1.00s/it, loss=0.0141]"
          ]
        },
        {
          "output_type": "stream",
          "name": "stdout",
          "text": [
            "[\n"
          ]
        },
        {
          "output_type": "stream",
          "name": "stderr",
          "text": [
            " 42%|████▏     | 123/290 [02:04<02:46,  1.01it/s, loss=0.0202]"
          ]
        },
        {
          "output_type": "stream",
          "name": "stdout",
          "text": [
            ">\n",
            ">\n"
          ]
        },
        {
          "output_type": "stream",
          "name": "stderr",
          "text": [
            " 45%|████▌     | 131/290 [02:12<02:37,  1.01it/s, loss=0.0245]"
          ]
        },
        {
          "output_type": "stream",
          "name": "stdout",
          "text": [
            "*\n",
            "*\n",
            "*\n"
          ]
        },
        {
          "output_type": "stream",
          "name": "stderr",
          "text": [
            " 46%|████▌     | 132/290 [02:13<02:37,  1.00it/s, loss=0.0299]"
          ]
        },
        {
          "output_type": "stream",
          "name": "stdout",
          "text": [
            ">\n",
            ">\n"
          ]
        },
        {
          "output_type": "stream",
          "name": "stderr",
          "text": [
            " 46%|████▌     | 133/290 [02:14<02:36,  1.01it/s, loss=0.0202]"
          ]
        },
        {
          "output_type": "stream",
          "name": "stdout",
          "text": [
            ">\n",
            ">\n"
          ]
        },
        {
          "output_type": "stream",
          "name": "stderr",
          "text": [
            " 52%|█████▏    | 151/290 [02:32<02:26,  1.05s/it, loss=0.0181]"
          ]
        },
        {
          "output_type": "stream",
          "name": "stdout",
          "text": [
            "]\n"
          ]
        },
        {
          "output_type": "stream",
          "name": "stderr",
          "text": [
            " 53%|█████▎    | 155/290 [02:36<02:16,  1.01s/it, loss=0.0257]"
          ]
        },
        {
          "output_type": "stream",
          "name": "stdout",
          "text": [
            "[\n"
          ]
        },
        {
          "output_type": "stream",
          "name": "stderr",
          "text": [
            " 58%|█████▊    | 167/290 [02:48<02:02,  1.01it/s, loss=0.028]"
          ]
        },
        {
          "output_type": "stream",
          "name": "stdout",
          "text": [
            "[\n",
            "]\n"
          ]
        },
        {
          "output_type": "stream",
          "name": "stderr",
          "text": [
            " 60%|██████    | 174/290 [02:55<01:58,  1.02s/it, loss=0.0425]"
          ]
        },
        {
          "output_type": "stream",
          "name": "stdout",
          "text": [
            ">\n",
            ">\n"
          ]
        },
        {
          "output_type": "stream",
          "name": "stderr",
          "text": [
            " 61%|██████    | 176/290 [02:57<01:55,  1.01s/it, loss=0.0479]"
          ]
        },
        {
          "output_type": "stream",
          "name": "stdout",
          "text": [
            ">\n",
            ">\n"
          ]
        },
        {
          "output_type": "stream",
          "name": "stderr",
          "text": [
            " 66%|██████▌   | 192/290 [03:13<01:37,  1.00it/s, loss=0.0285]"
          ]
        },
        {
          "output_type": "stream",
          "name": "stdout",
          "text": [
            "[\n"
          ]
        },
        {
          "output_type": "stream",
          "name": "stderr",
          "text": [
            " 67%|██████▋   | 194/290 [03:15<01:35,  1.01it/s, loss=0.0303]"
          ]
        },
        {
          "output_type": "stream",
          "name": "stdout",
          "text": [
            ">\n",
            ">\n"
          ]
        },
        {
          "output_type": "stream",
          "name": "stderr",
          "text": [
            " 68%|██████▊   | 197/290 [03:18<01:32,  1.01it/s, loss=0.0276]"
          ]
        },
        {
          "output_type": "stream",
          "name": "stdout",
          "text": [
            ">\n"
          ]
        },
        {
          "output_type": "stream",
          "name": "stderr",
          "text": [
            " 69%|██████▉   | 200/290 [03:21<01:31,  1.02s/it, loss=0.0346]"
          ]
        },
        {
          "output_type": "stream",
          "name": "stdout",
          "text": [
            "]\n",
            "[\n",
            "]\n"
          ]
        },
        {
          "output_type": "stream",
          "name": "stderr",
          "text": [
            " 79%|███████▉  | 229/290 [03:50<01:01,  1.01s/it, loss=0.0282]"
          ]
        },
        {
          "output_type": "stream",
          "name": "stdout",
          "text": [
            "[\n",
            "]\n"
          ]
        },
        {
          "output_type": "stream",
          "name": "stderr",
          "text": [
            " 80%|████████  | 233/290 [03:54<00:56,  1.01it/s, loss=0.024]"
          ]
        },
        {
          "output_type": "stream",
          "name": "stdout",
          "text": [
            "<\n"
          ]
        },
        {
          "output_type": "stream",
          "name": "stderr",
          "text": [
            " 82%|████████▏ | 237/290 [03:58<00:52,  1.01it/s, loss=0.0294]"
          ]
        },
        {
          "output_type": "stream",
          "name": "stdout",
          "text": [
            ">\n",
            ">\n",
            ">\n"
          ]
        },
        {
          "output_type": "stream",
          "name": "stderr",
          "text": [
            " 83%|████████▎ | 241/290 [04:02<00:48,  1.01it/s, loss=0.0328]"
          ]
        },
        {
          "output_type": "stream",
          "name": "stdout",
          "text": [
            "[\n",
            "]\n"
          ]
        },
        {
          "output_type": "stream",
          "name": "stderr",
          "text": [
            " 87%|████████▋ | 251/290 [04:12<00:38,  1.00it/s, loss=0.0337]"
          ]
        },
        {
          "output_type": "stream",
          "name": "stdout",
          "text": [
            "[\n",
            "]\n"
          ]
        },
        {
          "output_type": "stream",
          "name": "stderr",
          "text": [
            " 94%|█████████▍| 273/290 [04:34<00:17,  1.01s/it, loss=0.0417]"
          ]
        },
        {
          "output_type": "stream",
          "name": "stdout",
          "text": [
            ">\n",
            ">\n"
          ]
        },
        {
          "output_type": "stream",
          "name": "stderr",
          "text": [
            " 95%|█████████▌| 276/290 [04:37<00:14,  1.00s/it, loss=0.03]"
          ]
        },
        {
          "output_type": "stream",
          "name": "stdout",
          "text": [
            "[\n"
          ]
        },
        {
          "output_type": "stream",
          "name": "stderr",
          "text": [
            " 99%|█████████▊| 286/290 [04:47<00:03,  1.02it/s, loss=0.0376]"
          ]
        },
        {
          "output_type": "stream",
          "name": "stdout",
          "text": [
            "]\n"
          ]
        },
        {
          "output_type": "stream",
          "name": "stderr",
          "text": [
            " 99%|█████████▉| 288/290 [04:49<00:01,  1.01it/s, loss=0.0244]"
          ]
        },
        {
          "output_type": "stream",
          "name": "stdout",
          "text": [
            "*\n",
            "*\n",
            "*\n"
          ]
        },
        {
          "output_type": "stream",
          "name": "stderr",
          "text": [
            "100%|██████████| 290/290 [04:51<00:00,  1.00s/it, loss=0.0328]\n"
          ]
        },
        {
          "output_type": "stream",
          "name": "stdout",
          "text": [
            "checkpoint_ep43.pth.tar saved\n"
          ]
        },
        {
          "output_type": "stream",
          "name": "stderr",
          "text": [
            "  3%|▎         | 10/290 [00:10<04:42,  1.01s/it, loss=0.0303]"
          ]
        },
        {
          "output_type": "stream",
          "name": "stdout",
          "text": [
            "[\n"
          ]
        },
        {
          "output_type": "stream",
          "name": "stderr",
          "text": [
            "  4%|▍         | 11/290 [00:11<04:39,  1.00s/it, loss=0.0321]"
          ]
        },
        {
          "output_type": "stream",
          "name": "stdout",
          "text": [
            ">\n",
            ">\n"
          ]
        },
        {
          "output_type": "stream",
          "name": "stderr",
          "text": [
            "  4%|▍         | 12/290 [00:12<04:39,  1.01s/it, loss=0.0397]"
          ]
        },
        {
          "output_type": "stream",
          "name": "stdout",
          "text": [
            "*\n",
            "*\n",
            "*\n"
          ]
        },
        {
          "output_type": "stream",
          "name": "stderr",
          "text": [
            "  6%|▌         | 18/290 [00:18<04:31,  1.00it/s, loss=0.0211]"
          ]
        },
        {
          "output_type": "stream",
          "name": "stdout",
          "text": [
            ">\n",
            ">\n"
          ]
        },
        {
          "output_type": "stream",
          "name": "stderr",
          "text": [
            "  8%|▊         | 22/290 [00:22<04:32,  1.02s/it, loss=0.0312]"
          ]
        },
        {
          "output_type": "stream",
          "name": "stdout",
          "text": [
            "*\n",
            "*\n",
            "*\n"
          ]
        },
        {
          "output_type": "stream",
          "name": "stderr",
          "text": [
            " 10%|█         | 29/290 [00:29<04:20,  1.00it/s, loss=0.0355]"
          ]
        },
        {
          "output_type": "stream",
          "name": "stdout",
          "text": [
            ">\n"
          ]
        },
        {
          "output_type": "stream",
          "name": "stderr",
          "text": [
            " 21%|██        | 61/290 [01:01<03:54,  1.02s/it, loss=0.0174]"
          ]
        },
        {
          "output_type": "stream",
          "name": "stdout",
          "text": [
            "]\n"
          ]
        },
        {
          "output_type": "stream",
          "name": "stderr",
          "text": [
            " 22%|██▏       | 63/290 [01:04<04:04,  1.08s/it, loss=0.0395]"
          ]
        },
        {
          "output_type": "stream",
          "name": "stdout",
          "text": [
            "]\n",
            "[\n",
            "]\n"
          ]
        },
        {
          "output_type": "stream",
          "name": "stderr",
          "text": [
            " 24%|██▍       | 70/290 [01:11<03:48,  1.04s/it, loss=0.0217]"
          ]
        },
        {
          "output_type": "stream",
          "name": "stdout",
          "text": [
            "[\n"
          ]
        },
        {
          "output_type": "stream",
          "name": "stderr",
          "text": [
            " 25%|██▍       | 72/290 [01:13<03:48,  1.05s/it, loss=0.0212]"
          ]
        },
        {
          "output_type": "stream",
          "name": "stdout",
          "text": [
            "[\n",
            "]\n"
          ]
        },
        {
          "output_type": "stream",
          "name": "stderr",
          "text": [
            " 26%|██▌       | 75/290 [01:16<03:39,  1.02s/it, loss=0.0227]"
          ]
        },
        {
          "output_type": "stream",
          "name": "stdout",
          "text": [
            ">\n",
            ">\n"
          ]
        },
        {
          "output_type": "stream",
          "name": "stderr",
          "text": [
            " 39%|███▊      | 112/290 [01:53<03:02,  1.02s/it, loss=0.029]"
          ]
        },
        {
          "output_type": "stream",
          "name": "stdout",
          "text": [
            ">\n",
            ">\n",
            ">\n"
          ]
        },
        {
          "output_type": "stream",
          "name": "stderr",
          "text": [
            " 40%|████      | 117/290 [01:58<02:52,  1.01it/s, loss=0.0217]"
          ]
        },
        {
          "output_type": "stream",
          "name": "stdout",
          "text": [
            ">\n",
            ">\n"
          ]
        },
        {
          "output_type": "stream",
          "name": "stderr",
          "text": [
            " 42%|████▏     | 121/290 [02:02<02:53,  1.03s/it, loss=0.0223]"
          ]
        },
        {
          "output_type": "stream",
          "name": "stdout",
          "text": [
            ">\n"
          ]
        },
        {
          "output_type": "stream",
          "name": "stderr",
          "text": [
            " 43%|████▎     | 124/290 [02:06<02:52,  1.04s/it, loss=0.734]"
          ]
        },
        {
          "output_type": "stream",
          "name": "stdout",
          "text": [
            "]\n",
            "[\n",
            "]\n"
          ]
        },
        {
          "output_type": "stream",
          "name": "stderr",
          "text": [
            " 46%|████▌     | 132/290 [02:14<02:37,  1.00it/s, loss=0.523]"
          ]
        },
        {
          "output_type": "stream",
          "name": "stdout",
          "text": [
            ">\n",
            ">\n",
            "[\n",
            "]\n"
          ]
        },
        {
          "output_type": "stream",
          "name": "stderr",
          "text": [
            " 52%|█████▏    | 150/290 [02:32<02:19,  1.00it/s, loss=1.16]"
          ]
        },
        {
          "output_type": "stream",
          "name": "stdout",
          "text": [
            "*\n",
            "*\n",
            "*\n"
          ]
        },
        {
          "output_type": "stream",
          "name": "stderr",
          "text": [
            " 52%|█████▏    | 151/290 [02:33<02:22,  1.02s/it, loss=1.21]"
          ]
        },
        {
          "output_type": "stream",
          "name": "stdout",
          "text": [
            "[\n",
            "]\n"
          ]
        },
        {
          "output_type": "stream",
          "name": "stderr",
          "text": [
            " 59%|█████▉    | 171/290 [02:53<02:02,  1.03s/it, loss=0.556]"
          ]
        },
        {
          "output_type": "stream",
          "name": "stdout",
          "text": [
            "[\n"
          ]
        },
        {
          "output_type": "stream",
          "name": "stderr",
          "text": [
            " 63%|██████▎   | 184/290 [03:06<01:46,  1.01s/it, loss=0.404]"
          ]
        },
        {
          "output_type": "stream",
          "name": "stdout",
          "text": [
            ">\n",
            ">\n"
          ]
        },
        {
          "output_type": "stream",
          "name": "stderr",
          "text": [
            " 65%|██████▍   | 188/290 [03:10<01:40,  1.01it/s, loss=0.426]"
          ]
        },
        {
          "output_type": "stream",
          "name": "stdout",
          "text": [
            ">\n",
            ">\n"
          ]
        },
        {
          "output_type": "stream",
          "name": "stderr",
          "text": [
            " 66%|██████▌   | 191/290 [03:13<01:39,  1.00s/it, loss=0.357]"
          ]
        },
        {
          "output_type": "stream",
          "name": "stdout",
          "text": [
            ">\n",
            ">\n"
          ]
        },
        {
          "output_type": "stream",
          "name": "stderr",
          "text": [
            " 72%|███████▏  | 209/290 [03:31<01:20,  1.00it/s, loss=0.3]"
          ]
        },
        {
          "output_type": "stream",
          "name": "stdout",
          "text": [
            "[\n"
          ]
        },
        {
          "output_type": "stream",
          "name": "stderr",
          "text": [
            " 76%|███████▌  | 219/290 [03:41<01:10,  1.01it/s, loss=2.94]"
          ]
        },
        {
          "output_type": "stream",
          "name": "stdout",
          "text": [
            "[\n",
            "]\n"
          ]
        },
        {
          "output_type": "stream",
          "name": "stderr",
          "text": [
            " 76%|███████▌  | 221/290 [03:43<01:08,  1.01it/s, loss=2.84]"
          ]
        },
        {
          "output_type": "stream",
          "name": "stdout",
          "text": [
            "<\n"
          ]
        },
        {
          "output_type": "stream",
          "name": "stderr",
          "text": [
            " 81%|████████  | 234/290 [03:56<00:55,  1.01it/s, loss=1.48]"
          ]
        },
        {
          "output_type": "stream",
          "name": "stdout",
          "text": [
            "*\n",
            "*\n",
            "*\n"
          ]
        },
        {
          "output_type": "stream",
          "name": "stderr",
          "text": [
            " 90%|████████▉ | 260/290 [04:22<00:30,  1.01s/it, loss=1.25]"
          ]
        },
        {
          "output_type": "stream",
          "name": "stdout",
          "text": [
            "]\n"
          ]
        },
        {
          "output_type": "stream",
          "name": "stderr",
          "text": [
            " 92%|█████████▏| 266/290 [04:28<00:24,  1.00s/it, loss=1.16]"
          ]
        },
        {
          "output_type": "stream",
          "name": "stdout",
          "text": [
            ">\n",
            ">\n"
          ]
        },
        {
          "output_type": "stream",
          "name": "stderr",
          "text": [
            " 97%|█████████▋| 280/290 [04:42<00:10,  1.00s/it, loss=1.14]"
          ]
        },
        {
          "output_type": "stream",
          "name": "stdout",
          "text": [
            ">\n"
          ]
        },
        {
          "output_type": "stream",
          "name": "stderr",
          "text": [
            " 97%|█████████▋| 282/290 [04:44<00:07,  1.00it/s, loss=0.652]"
          ]
        },
        {
          "output_type": "stream",
          "name": "stdout",
          "text": [
            "<\n"
          ]
        },
        {
          "output_type": "stream",
          "name": "stderr",
          "text": [
            " 98%|█████████▊| 284/290 [04:46<00:06,  1.01s/it, loss=0.589]"
          ]
        },
        {
          "output_type": "stream",
          "name": "stdout",
          "text": [
            ">\n",
            ">\n"
          ]
        },
        {
          "output_type": "stream",
          "name": "stderr",
          "text": [
            "100%|██████████| 290/290 [04:52<00:00,  1.01s/it, loss=0.566]\n",
            "  9%|▉         | 27/290 [00:27<04:21,  1.01it/s, loss=1.22]"
          ]
        },
        {
          "output_type": "stream",
          "name": "stdout",
          "text": [
            ">\n"
          ]
        },
        {
          "output_type": "stream",
          "name": "stderr",
          "text": [
            " 10%|█         | 29/290 [00:29<04:19,  1.01it/s, loss=1.86]"
          ]
        },
        {
          "output_type": "stream",
          "name": "stdout",
          "text": [
            "<\n"
          ]
        },
        {
          "output_type": "stream",
          "name": "stderr",
          "text": [
            " 11%|█▏        | 33/290 [00:32<04:12,  1.02it/s, loss=0.789]"
          ]
        },
        {
          "output_type": "stream",
          "name": "stdout",
          "text": [
            ">\n"
          ]
        },
        {
          "output_type": "stream",
          "name": "stderr",
          "text": [
            " 12%|█▏        | 34/290 [00:33<04:18,  1.01s/it, loss=0.786]"
          ]
        },
        {
          "output_type": "stream",
          "name": "stdout",
          "text": [
            ">\n",
            ">\n"
          ]
        },
        {
          "output_type": "stream",
          "name": "stderr",
          "text": [
            " 18%|█▊        | 53/290 [00:53<04:01,  1.02s/it, loss=0.528]"
          ]
        },
        {
          "output_type": "stream",
          "name": "stdout",
          "text": [
            "]\n",
            "[\n",
            "]\n"
          ]
        },
        {
          "output_type": "stream",
          "name": "stderr",
          "text": [
            " 21%|██        | 61/290 [01:01<03:54,  1.03s/it, loss=0.506]"
          ]
        },
        {
          "output_type": "stream",
          "name": "stdout",
          "text": [
            "[\n",
            "]\n"
          ]
        },
        {
          "output_type": "stream",
          "name": "stderr",
          "text": [
            " 24%|██▍       | 70/290 [01:10<03:40,  1.00s/it, loss=0.516]"
          ]
        },
        {
          "output_type": "stream",
          "name": "stdout",
          "text": [
            ">\n",
            ">\n"
          ]
        },
        {
          "output_type": "stream",
          "name": "stderr",
          "text": [
            " 24%|██▍       | 71/290 [01:11<03:37,  1.01it/s, loss=0.51]"
          ]
        },
        {
          "output_type": "stream",
          "name": "stdout",
          "text": [
            "]\n"
          ]
        },
        {
          "output_type": "stream",
          "name": "stderr",
          "text": [
            " 25%|██▌       | 73/290 [01:13<03:34,  1.01it/s, loss=0.673]"
          ]
        },
        {
          "output_type": "stream",
          "name": "stdout",
          "text": [
            ">\n",
            ">\n"
          ]
        },
        {
          "output_type": "stream",
          "name": "stderr",
          "text": [
            " 27%|██▋       | 78/290 [01:18<03:35,  1.01s/it, loss=0.549]"
          ]
        },
        {
          "output_type": "stream",
          "name": "stdout",
          "text": [
            "*\n",
            "*\n",
            "*\n"
          ]
        },
        {
          "output_type": "stream",
          "name": "stderr",
          "text": [
            " 35%|███▍      | 101/290 [01:41<03:05,  1.02it/s, loss=0.595]"
          ]
        },
        {
          "output_type": "stream",
          "name": "stdout",
          "text": [
            ">\n",
            ">\n",
            ">\n"
          ]
        },
        {
          "output_type": "stream",
          "name": "stderr",
          "text": [
            " 44%|████▍     | 127/290 [02:07<02:41,  1.01it/s, loss=0.427]"
          ]
        },
        {
          "output_type": "stream",
          "name": "stdout",
          "text": [
            ">\n",
            ">\n"
          ]
        },
        {
          "output_type": "stream",
          "name": "stderr",
          "text": [
            " 47%|████▋     | 135/290 [02:15<02:38,  1.02s/it, loss=0.41]"
          ]
        },
        {
          "output_type": "stream",
          "name": "stdout",
          "text": [
            ">\n",
            ">\n"
          ]
        },
        {
          "output_type": "stream",
          "name": "stderr",
          "text": [
            " 51%|█████     | 148/290 [02:28<02:21,  1.00it/s, loss=0.311]"
          ]
        },
        {
          "output_type": "stream",
          "name": "stdout",
          "text": [
            "[\n",
            "]\n",
            ">\n"
          ]
        },
        {
          "output_type": "stream",
          "name": "stderr",
          "text": [
            " 52%|█████▏    | 150/290 [02:30<02:20,  1.00s/it, loss=0.336]"
          ]
        },
        {
          "output_type": "stream",
          "name": "stdout",
          "text": [
            ">\n",
            ">\n"
          ]
        },
        {
          "output_type": "stream",
          "name": "stderr",
          "text": [
            " 54%|█████▍    | 158/290 [02:38<02:12,  1.01s/it, loss=0.377]"
          ]
        },
        {
          "output_type": "stream",
          "name": "stdout",
          "text": [
            "[\n"
          ]
        },
        {
          "output_type": "stream",
          "name": "stderr",
          "text": [
            " 55%|█████▍    | 159/290 [02:39<02:10,  1.01it/s, loss=0.332]"
          ]
        },
        {
          "output_type": "stream",
          "name": "stdout",
          "text": [
            "[\n"
          ]
        },
        {
          "output_type": "stream",
          "name": "stderr",
          "text": [
            " 61%|██████    | 176/290 [02:57<01:56,  1.02s/it, loss=0.288]"
          ]
        },
        {
          "output_type": "stream",
          "name": "stdout",
          "text": [
            ">\n",
            ">\n"
          ]
        },
        {
          "output_type": "stream",
          "name": "stderr",
          "text": [
            " 62%|██████▏   | 179/290 [03:00<01:51,  1.00s/it, loss=0.252]"
          ]
        },
        {
          "output_type": "stream",
          "name": "stdout",
          "text": [
            "[\n",
            "]\n"
          ]
        },
        {
          "output_type": "stream",
          "name": "stderr",
          "text": [
            " 63%|██████▎   | 183/290 [03:04<01:47,  1.01s/it, loss=0.293]"
          ]
        },
        {
          "output_type": "stream",
          "name": "stdout",
          "text": [
            "]\n"
          ]
        },
        {
          "output_type": "stream",
          "name": "stderr",
          "text": [
            " 63%|██████▎   | 184/290 [03:05<01:46,  1.00s/it, loss=0.281]"
          ]
        },
        {
          "output_type": "stream",
          "name": "stdout",
          "text": [
            "*\n",
            "*\n",
            "*\n"
          ]
        },
        {
          "output_type": "stream",
          "name": "stderr",
          "text": [
            " 65%|██████▌   | 189/290 [03:10<01:39,  1.01it/s, loss=0.281]"
          ]
        },
        {
          "output_type": "stream",
          "name": "stdout",
          "text": [
            "*\n",
            "*\n",
            "*\n"
          ]
        },
        {
          "output_type": "stream",
          "name": "stderr",
          "text": [
            " 67%|██████▋   | 194/290 [03:15<01:36,  1.00s/it, loss=0.222]"
          ]
        },
        {
          "output_type": "stream",
          "name": "stdout",
          "text": [
            "*\n",
            "*\n",
            "*\n"
          ]
        },
        {
          "output_type": "stream",
          "name": "stderr",
          "text": [
            " 67%|██████▋   | 195/290 [03:16<01:36,  1.01s/it, loss=0.286]"
          ]
        },
        {
          "output_type": "stream",
          "name": "stdout",
          "text": [
            "]\n",
            "[\n",
            "]\n"
          ]
        },
        {
          "output_type": "stream",
          "name": "stderr",
          "text": [
            " 71%|███████   | 205/290 [03:26<01:25,  1.01s/it, loss=0.303]"
          ]
        },
        {
          "output_type": "stream",
          "name": "stdout",
          "text": [
            "[\n"
          ]
        },
        {
          "output_type": "stream",
          "name": "stderr",
          "text": [
            " 75%|███████▍  | 217/290 [03:38<01:14,  1.02s/it, loss=0.302]"
          ]
        },
        {
          "output_type": "stream",
          "name": "stdout",
          "text": [
            "<\n"
          ]
        },
        {
          "output_type": "stream",
          "name": "stderr",
          "text": [
            " 77%|███████▋  | 224/290 [03:45<01:05,  1.00it/s, loss=0.238]"
          ]
        },
        {
          "output_type": "stream",
          "name": "stdout",
          "text": [
            ">\n",
            ">\n"
          ]
        },
        {
          "output_type": "stream",
          "name": "stderr",
          "text": [
            " 78%|███████▊  | 226/290 [03:47<01:07,  1.05s/it, loss=0.355]"
          ]
        },
        {
          "output_type": "stream",
          "name": "stdout",
          "text": [
            ">\n",
            ">\n"
          ]
        },
        {
          "output_type": "stream",
          "name": "stderr",
          "text": [
            " 81%|████████  | 235/290 [03:56<00:54,  1.00it/s, loss=0.226]"
          ]
        },
        {
          "output_type": "stream",
          "name": "stdout",
          "text": [
            ">\n",
            ">\n"
          ]
        },
        {
          "output_type": "stream",
          "name": "stderr",
          "text": [
            " 93%|█████████▎| 271/290 [04:32<00:18,  1.00it/s, loss=1.65]"
          ]
        },
        {
          "output_type": "stream",
          "name": "stdout",
          "text": [
            "[\n"
          ]
        },
        {
          "output_type": "stream",
          "name": "stderr",
          "text": [
            " 98%|█████████▊| 283/290 [04:44<00:06,  1.02it/s, loss=0.799]"
          ]
        },
        {
          "output_type": "stream",
          "name": "stdout",
          "text": [
            "[\n",
            "]\n"
          ]
        },
        {
          "output_type": "stream",
          "name": "stderr",
          "text": [
            "100%|██████████| 290/290 [04:51<00:00,  1.01s/it, loss=0.605]\n"
          ]
        },
        {
          "output_type": "stream",
          "name": "stdout",
          "text": [
            "checkpoint_ep45.pth.tar saved\n"
          ]
        },
        {
          "output_type": "stream",
          "name": "stderr",
          "text": [
            "  3%|▎         | 10/290 [00:10<04:41,  1.01s/it, loss=0.497]"
          ]
        },
        {
          "output_type": "stream",
          "name": "stdout",
          "text": [
            "<\n"
          ]
        },
        {
          "output_type": "stream",
          "name": "stderr",
          "text": [
            "  8%|▊         | 22/290 [00:22<04:29,  1.01s/it, loss=0.434]"
          ]
        },
        {
          "output_type": "stream",
          "name": "stdout",
          "text": [
            "]\n"
          ]
        },
        {
          "output_type": "stream",
          "name": "stderr",
          "text": [
            " 12%|█▏        | 34/290 [00:34<04:23,  1.03s/it, loss=0.354]"
          ]
        },
        {
          "output_type": "stream",
          "name": "stdout",
          "text": [
            "*\n",
            "*\n",
            "*\n"
          ]
        },
        {
          "output_type": "stream",
          "name": "stderr",
          "text": [
            " 12%|█▏        | 35/290 [00:35<04:18,  1.02s/it, loss=0.381]"
          ]
        },
        {
          "output_type": "stream",
          "name": "stdout",
          "text": [
            "]\n",
            "[\n",
            "]\n"
          ]
        },
        {
          "output_type": "stream",
          "name": "stderr",
          "text": [
            " 13%|█▎        | 39/290 [00:39<04:09,  1.01it/s, loss=0.41]"
          ]
        },
        {
          "output_type": "stream",
          "name": "stdout",
          "text": [
            "[\n",
            "]\n"
          ]
        },
        {
          "output_type": "stream",
          "name": "stderr",
          "text": [
            " 15%|█▍        | 43/290 [00:43<04:04,  1.01it/s, loss=0.337]"
          ]
        },
        {
          "output_type": "stream",
          "name": "stdout",
          "text": [
            "*\n",
            "*\n",
            "*\n"
          ]
        },
        {
          "output_type": "stream",
          "name": "stderr",
          "text": [
            " 19%|█▉        | 55/290 [00:55<03:57,  1.01s/it, loss=0.312]"
          ]
        },
        {
          "output_type": "stream",
          "name": "stdout",
          "text": [
            ">\n"
          ]
        },
        {
          "output_type": "stream",
          "name": "stderr",
          "text": [
            " 23%|██▎       | 68/290 [01:08<03:46,  1.02s/it, loss=0.254]"
          ]
        },
        {
          "output_type": "stream",
          "name": "stdout",
          "text": [
            "[\n",
            "]\n"
          ]
        },
        {
          "output_type": "stream",
          "name": "stderr",
          "text": [
            " 24%|██▍       | 70/290 [01:10<03:46,  1.03s/it, loss=0.307]"
          ]
        },
        {
          "output_type": "stream",
          "name": "stdout",
          "text": [
            ">\n"
          ]
        },
        {
          "output_type": "stream",
          "name": "stderr",
          "text": [
            " 25%|██▌       | 73/290 [01:13<03:43,  1.03s/it, loss=0.307]"
          ]
        },
        {
          "output_type": "stream",
          "name": "stdout",
          "text": [
            "*\n",
            "*\n",
            "*\n"
          ]
        },
        {
          "output_type": "stream",
          "name": "stderr",
          "text": [
            " 27%|██▋       | 79/290 [01:20<03:33,  1.01s/it, loss=0.297]"
          ]
        },
        {
          "output_type": "stream",
          "name": "stdout",
          "text": [
            "[\n"
          ]
        },
        {
          "output_type": "stream",
          "name": "stderr",
          "text": [
            " 34%|███▍      | 99/290 [01:40<03:15,  1.02s/it, loss=0.276]"
          ]
        },
        {
          "output_type": "stream",
          "name": "stdout",
          "text": [
            "]\n",
            "[\n",
            "]\n"
          ]
        },
        {
          "output_type": "stream",
          "name": "stderr",
          "text": [
            " 36%|███▌      | 103/290 [01:44<03:12,  1.03s/it, loss=0.245]"
          ]
        },
        {
          "output_type": "stream",
          "name": "stdout",
          "text": [
            ">\n",
            ">\n"
          ]
        },
        {
          "output_type": "stream",
          "name": "stderr",
          "text": [
            " 38%|███▊      | 110/290 [01:51<03:03,  1.02s/it, loss=0.277]"
          ]
        },
        {
          "output_type": "stream",
          "name": "stdout",
          "text": [
            ">\n",
            ">\n"
          ]
        },
        {
          "output_type": "stream",
          "name": "stderr",
          "text": [
            " 43%|████▎     | 126/290 [02:07<02:44,  1.01s/it, loss=0.223]"
          ]
        },
        {
          "output_type": "stream",
          "name": "stdout",
          "text": [
            ">\n",
            ">\n"
          ]
        },
        {
          "output_type": "stream",
          "name": "stderr",
          "text": [
            " 44%|████▍     | 128/290 [02:09<02:42,  1.00s/it, loss=0.282]"
          ]
        },
        {
          "output_type": "stream",
          "name": "stdout",
          "text": [
            ">\n",
            ">\n",
            ">\n"
          ]
        },
        {
          "output_type": "stream",
          "name": "stderr",
          "text": [
            " 63%|██████▎   | 184/290 [03:06<01:48,  1.03s/it, loss=0.211]"
          ]
        },
        {
          "output_type": "stream",
          "name": "stdout",
          "text": [
            ">\n",
            ">\n"
          ]
        },
        {
          "output_type": "stream",
          "name": "stderr",
          "text": [
            " 67%|██████▋   | 195/290 [03:17<01:34,  1.01it/s, loss=0.261]"
          ]
        },
        {
          "output_type": "stream",
          "name": "stdout",
          "text": [
            "<\n"
          ]
        },
        {
          "output_type": "stream",
          "name": "stderr",
          "text": [
            " 68%|██████▊   | 198/290 [03:20<01:31,  1.01it/s, loss=0.204]"
          ]
        },
        {
          "output_type": "stream",
          "name": "stdout",
          "text": [
            ">\n"
          ]
        },
        {
          "output_type": "stream",
          "name": "stderr",
          "text": [
            " 69%|██████▉   | 201/290 [03:23<01:31,  1.03s/it, loss=0.21]"
          ]
        },
        {
          "output_type": "stream",
          "name": "stdout",
          "text": [
            ">\n",
            ">\n"
          ]
        },
        {
          "output_type": "stream",
          "name": "stderr",
          "text": [
            " 72%|███████▏  | 208/290 [03:30<01:23,  1.01s/it, loss=0.186]"
          ]
        },
        {
          "output_type": "stream",
          "name": "stdout",
          "text": [
            "*\n",
            "*\n",
            "*\n"
          ]
        },
        {
          "output_type": "stream",
          "name": "stderr",
          "text": [
            " 72%|███████▏  | 210/290 [03:32<01:23,  1.04s/it, loss=0.189]"
          ]
        },
        {
          "output_type": "stream",
          "name": "stdout",
          "text": [
            "[\n",
            "]\n",
            ">\n",
            ">\n"
          ]
        },
        {
          "output_type": "stream",
          "name": "stderr",
          "text": [
            " 75%|███████▌  | 218/290 [03:40<01:11,  1.00it/s, loss=0.233]"
          ]
        },
        {
          "output_type": "stream",
          "name": "stdout",
          "text": [
            "[\n",
            "[\n"
          ]
        },
        {
          "output_type": "stream",
          "name": "stderr",
          "text": [
            " 79%|███████▊  | 228/290 [03:50<01:00,  1.02it/s, loss=0.218]"
          ]
        },
        {
          "output_type": "stream",
          "name": "stdout",
          "text": [
            "[\n",
            "]\n"
          ]
        },
        {
          "output_type": "stream",
          "name": "stderr",
          "text": [
            " 84%|████████▍ | 245/290 [04:07<00:45,  1.00s/it, loss=0.21]"
          ]
        },
        {
          "output_type": "stream",
          "name": "stdout",
          "text": [
            ">\n",
            ">\n"
          ]
        },
        {
          "output_type": "stream",
          "name": "stderr",
          "text": [
            " 86%|████████▌ | 249/290 [04:11<00:40,  1.02it/s, loss=0.223]"
          ]
        },
        {
          "output_type": "stream",
          "name": "stdout",
          "text": [
            ">\n",
            ">\n"
          ]
        },
        {
          "output_type": "stream",
          "name": "stderr",
          "text": [
            " 89%|████████▊ | 257/290 [04:19<00:32,  1.00it/s, loss=0.24]"
          ]
        },
        {
          "output_type": "stream",
          "name": "stdout",
          "text": [
            ">\n",
            ">\n"
          ]
        },
        {
          "output_type": "stream",
          "name": "stderr",
          "text": [
            " 89%|████████▉ | 258/290 [04:20<00:32,  1.01s/it, loss=0.218]"
          ]
        },
        {
          "output_type": "stream",
          "name": "stdout",
          "text": [
            ">\n",
            ">\n"
          ]
        },
        {
          "output_type": "stream",
          "name": "stderr",
          "text": [
            " 89%|████████▉ | 259/290 [04:21<00:31,  1.01s/it, loss=0.182]"
          ]
        },
        {
          "output_type": "stream",
          "name": "stdout",
          "text": [
            "[\n"
          ]
        },
        {
          "output_type": "stream",
          "name": "stderr",
          "text": [
            " 97%|█████████▋| 280/290 [04:43<00:10,  1.01s/it, loss=0.202]"
          ]
        },
        {
          "output_type": "stream",
          "name": "stdout",
          "text": [
            "]\n"
          ]
        },
        {
          "output_type": "stream",
          "name": "stderr",
          "text": [
            "100%|██████████| 290/290 [04:53<00:00,  1.01s/it, loss=0.19]\n",
            "  1%|▏         | 4/290 [00:03<04:40,  1.02it/s, loss=0.198]"
          ]
        },
        {
          "output_type": "stream",
          "name": "stdout",
          "text": [
            "*\n",
            "*\n",
            "*\n"
          ]
        },
        {
          "output_type": "stream",
          "name": "stderr",
          "text": [
            "  5%|▍         | 14/290 [00:14<04:37,  1.01s/it, loss=0.221]"
          ]
        },
        {
          "output_type": "stream",
          "name": "stdout",
          "text": [
            ">\n",
            ">\n"
          ]
        },
        {
          "output_type": "stream",
          "name": "stderr",
          "text": [
            "  6%|▌         | 17/290 [00:17<04:34,  1.01s/it, loss=0.173]"
          ]
        },
        {
          "output_type": "stream",
          "name": "stdout",
          "text": [
            ">\n",
            ">\n"
          ]
        },
        {
          "output_type": "stream",
          "name": "stderr",
          "text": [
            " 11%|█         | 31/290 [00:31<04:29,  1.04s/it, loss=0.161]"
          ]
        },
        {
          "output_type": "stream",
          "name": "stdout",
          "text": [
            "]\n",
            "[\n",
            "]\n"
          ]
        },
        {
          "output_type": "stream",
          "name": "stderr",
          "text": [
            " 16%|█▌        | 47/290 [00:47<04:05,  1.01s/it, loss=0.196]"
          ]
        },
        {
          "output_type": "stream",
          "name": "stdout",
          "text": [
            ">\n"
          ]
        },
        {
          "output_type": "stream",
          "name": "stderr",
          "text": [
            " 17%|█▋        | 48/290 [00:48<04:04,  1.01s/it, loss=0.192]"
          ]
        },
        {
          "output_type": "stream",
          "name": "stdout",
          "text": [
            "]\n"
          ]
        },
        {
          "output_type": "stream",
          "name": "stderr",
          "text": [
            " 19%|█▉        | 56/290 [00:56<03:56,  1.01s/it, loss=0.14]"
          ]
        },
        {
          "output_type": "stream",
          "name": "stdout",
          "text": [
            "[\n"
          ]
        },
        {
          "output_type": "stream",
          "name": "stderr",
          "text": [
            " 27%|██▋       | 78/290 [01:18<03:31,  1.00it/s, loss=0.182]"
          ]
        },
        {
          "output_type": "stream",
          "name": "stdout",
          "text": [
            "<\n"
          ]
        },
        {
          "output_type": "stream",
          "name": "stderr",
          "text": [
            " 28%|██▊       | 81/290 [01:21<03:31,  1.01s/it, loss=0.182]"
          ]
        },
        {
          "output_type": "stream",
          "name": "stdout",
          "text": [
            ">\n",
            ">\n"
          ]
        },
        {
          "output_type": "stream",
          "name": "stderr",
          "text": [
            " 32%|███▏      | 93/290 [01:33<03:16,  1.00it/s, loss=0.159]"
          ]
        },
        {
          "output_type": "stream",
          "name": "stdout",
          "text": [
            ">\n",
            ">\n"
          ]
        },
        {
          "output_type": "stream",
          "name": "stderr",
          "text": [
            " 33%|███▎      | 95/290 [01:35<03:15,  1.00s/it, loss=0.186]"
          ]
        },
        {
          "output_type": "stream",
          "name": "stdout",
          "text": [
            "[\n",
            "]\n"
          ]
        },
        {
          "output_type": "stream",
          "name": "stderr",
          "text": [
            " 34%|███▍      | 100/290 [01:40<03:17,  1.04s/it, loss=0.132]"
          ]
        },
        {
          "output_type": "stream",
          "name": "stdout",
          "text": [
            "[\n",
            "]\n"
          ]
        },
        {
          "output_type": "stream",
          "name": "stderr",
          "text": [
            " 35%|███▌      | 102/290 [01:43<03:13,  1.03s/it, loss=0.184]"
          ]
        },
        {
          "output_type": "stream",
          "name": "stdout",
          "text": [
            "[\n"
          ]
        },
        {
          "output_type": "stream",
          "name": "stderr",
          "text": [
            " 36%|███▌      | 105/290 [01:46<03:07,  1.01s/it, loss=0.175]"
          ]
        },
        {
          "output_type": "stream",
          "name": "stdout",
          "text": [
            "<\n"
          ]
        },
        {
          "output_type": "stream",
          "name": "stderr",
          "text": [
            " 48%|████▊     | 139/290 [02:20<02:30,  1.00it/s, loss=0.167]"
          ]
        },
        {
          "output_type": "stream",
          "name": "stdout",
          "text": [
            ">\n",
            ">\n",
            "[\n",
            "]\n"
          ]
        },
        {
          "output_type": "stream",
          "name": "stderr",
          "text": [
            " 51%|█████     | 147/290 [02:28<02:22,  1.01it/s, loss=0.135]"
          ]
        },
        {
          "output_type": "stream",
          "name": "stdout",
          "text": [
            "[\n"
          ]
        },
        {
          "output_type": "stream",
          "name": "stderr",
          "text": [
            " 60%|██████    | 174/290 [02:55<01:56,  1.00s/it, loss=0.19]"
          ]
        },
        {
          "output_type": "stream",
          "name": "stdout",
          "text": [
            ">\n",
            ">\n"
          ]
        },
        {
          "output_type": "stream",
          "name": "stderr",
          "text": [
            " 64%|██████▍   | 187/290 [03:09<01:47,  1.05s/it, loss=0.198]"
          ]
        },
        {
          "output_type": "stream",
          "name": "stdout",
          "text": [
            "[\n"
          ]
        },
        {
          "output_type": "stream",
          "name": "stderr",
          "text": [
            " 65%|██████▌   | 189/290 [03:11<01:43,  1.02s/it, loss=0.161]"
          ]
        },
        {
          "output_type": "stream",
          "name": "stdout",
          "text": [
            "*\n",
            "*\n",
            "*\n"
          ]
        },
        {
          "output_type": "stream",
          "name": "stderr",
          "text": [
            " 66%|██████▌   | 190/290 [03:12<01:42,  1.03s/it, loss=0.148]"
          ]
        },
        {
          "output_type": "stream",
          "name": "stdout",
          "text": [
            ">\n",
            ">\n"
          ]
        },
        {
          "output_type": "stream",
          "name": "stderr",
          "text": [
            " 68%|██████▊   | 198/290 [03:20<01:32,  1.00s/it, loss=0.162]"
          ]
        },
        {
          "output_type": "stream",
          "name": "stdout",
          "text": [
            ">\n",
            ">\n",
            ">\n"
          ]
        },
        {
          "output_type": "stream",
          "name": "stderr",
          "text": [
            " 70%|██████▉   | 202/290 [03:24<01:27,  1.00it/s, loss=0.148]"
          ]
        },
        {
          "output_type": "stream",
          "name": "stdout",
          "text": [
            "]\n",
            "[\n",
            "]\n"
          ]
        },
        {
          "output_type": "stream",
          "name": "stderr",
          "text": [
            " 71%|███████   | 205/290 [03:27<01:23,  1.02it/s, loss=0.145]"
          ]
        },
        {
          "output_type": "stream",
          "name": "stdout",
          "text": [
            ">\n"
          ]
        },
        {
          "output_type": "stream",
          "name": "stderr",
          "text": [
            " 73%|███████▎  | 211/290 [03:33<01:20,  1.02s/it, loss=0.136]"
          ]
        },
        {
          "output_type": "stream",
          "name": "stdout",
          "text": [
            ">\n",
            ">\n"
          ]
        },
        {
          "output_type": "stream",
          "name": "stderr",
          "text": [
            " 73%|███████▎  | 213/290 [03:35<01:16,  1.00it/s, loss=0.146]"
          ]
        },
        {
          "output_type": "stream",
          "name": "stdout",
          "text": [
            "*\n",
            "*\n",
            "*\n"
          ]
        },
        {
          "output_type": "stream",
          "name": "stderr",
          "text": [
            " 77%|███████▋  | 224/290 [03:46<01:07,  1.02s/it, loss=0.142]"
          ]
        },
        {
          "output_type": "stream",
          "name": "stdout",
          "text": [
            ">\n",
            ">\n"
          ]
        },
        {
          "output_type": "stream",
          "name": "stderr",
          "text": [
            " 78%|███████▊  | 225/290 [03:47<01:05,  1.01s/it, loss=0.126]"
          ]
        },
        {
          "output_type": "stream",
          "name": "stdout",
          "text": [
            ">\n"
          ]
        },
        {
          "output_type": "stream",
          "name": "stderr",
          "text": [
            " 79%|███████▉  | 229/290 [03:51<01:00,  1.00it/s, loss=0.141]"
          ]
        },
        {
          "output_type": "stream",
          "name": "stdout",
          "text": [
            "*\n",
            "*\n",
            "*\n"
          ]
        },
        {
          "output_type": "stream",
          "name": "stderr",
          "text": [
            " 85%|████████▌ | 247/290 [04:09<00:42,  1.01it/s, loss=0.17]"
          ]
        },
        {
          "output_type": "stream",
          "name": "stdout",
          "text": [
            ">\n",
            ">\n"
          ]
        },
        {
          "output_type": "stream",
          "name": "stderr",
          "text": [
            " 94%|█████████▍| 273/290 [04:35<00:17,  1.01s/it, loss=0.143]"
          ]
        },
        {
          "output_type": "stream",
          "name": "stdout",
          "text": [
            "[\n",
            "]\n"
          ]
        },
        {
          "output_type": "stream",
          "name": "stderr",
          "text": [
            " 98%|█████████▊| 284/290 [04:46<00:06,  1.00s/it, loss=0.137]"
          ]
        },
        {
          "output_type": "stream",
          "name": "stdout",
          "text": [
            "]\n"
          ]
        },
        {
          "output_type": "stream",
          "name": "stderr",
          "text": [
            "100%|██████████| 290/290 [04:52<00:00,  1.01s/it, loss=0.139]\n"
          ]
        },
        {
          "output_type": "stream",
          "name": "stdout",
          "text": [
            "checkpoint_ep47.pth.tar saved\n"
          ]
        },
        {
          "output_type": "stream",
          "name": "stderr",
          "text": [
            "  2%|▏         | 5/290 [00:04<04:45,  1.00s/it, loss=0.151]"
          ]
        },
        {
          "output_type": "stream",
          "name": "stdout",
          "text": [
            "]\n",
            "[\n",
            "]\n"
          ]
        },
        {
          "output_type": "stream",
          "name": "stderr",
          "text": [
            "  6%|▌         | 16/290 [00:16<04:37,  1.01s/it, loss=0.174]"
          ]
        },
        {
          "output_type": "stream",
          "name": "stdout",
          "text": [
            "*\n",
            "*\n",
            "*\n"
          ]
        },
        {
          "output_type": "stream",
          "name": "stderr",
          "text": [
            "  6%|▌         | 17/290 [00:17<04:38,  1.02s/it, loss=0.124]"
          ]
        },
        {
          "output_type": "stream",
          "name": "stdout",
          "text": [
            ">\n",
            ">\n"
          ]
        },
        {
          "output_type": "stream",
          "name": "stderr",
          "text": [
            "  6%|▌         | 18/290 [00:18<04:36,  1.02s/it, loss=0.149]"
          ]
        },
        {
          "output_type": "stream",
          "name": "stdout",
          "text": [
            "<\n"
          ]
        },
        {
          "output_type": "stream",
          "name": "stderr",
          "text": [
            " 11%|█         | 31/290 [00:31<04:26,  1.03s/it, loss=0.115]"
          ]
        },
        {
          "output_type": "stream",
          "name": "stdout",
          "text": [
            "<\n"
          ]
        },
        {
          "output_type": "stream",
          "name": "stderr",
          "text": [
            " 13%|█▎        | 38/290 [00:38<04:13,  1.01s/it, loss=0.136]"
          ]
        },
        {
          "output_type": "stream",
          "name": "stdout",
          "text": [
            ">\n",
            ">\n"
          ]
        },
        {
          "output_type": "stream",
          "name": "stderr",
          "text": [
            " 14%|█▍        | 41/290 [00:41<04:07,  1.00it/s, loss=0.142]"
          ]
        },
        {
          "output_type": "stream",
          "name": "stdout",
          "text": [
            "[\n"
          ]
        },
        {
          "output_type": "stream",
          "name": "stderr",
          "text": [
            " 15%|█▍        | 43/290 [00:43<04:09,  1.01s/it, loss=0.157]"
          ]
        },
        {
          "output_type": "stream",
          "name": "stdout",
          "text": [
            ">\n",
            ">\n"
          ]
        },
        {
          "output_type": "stream",
          "name": "stderr",
          "text": [
            " 19%|█▉        | 56/290 [00:56<03:59,  1.02s/it, loss=0.141]"
          ]
        },
        {
          "output_type": "stream",
          "name": "stdout",
          "text": [
            ">\n"
          ]
        },
        {
          "output_type": "stream",
          "name": "stderr",
          "text": [
            " 23%|██▎       | 66/290 [01:06<03:44,  1.00s/it, loss=0.118]"
          ]
        },
        {
          "output_type": "stream",
          "name": "stdout",
          "text": [
            ">\n",
            ">\n",
            ">\n"
          ]
        },
        {
          "output_type": "stream",
          "name": "stderr",
          "text": [
            " 24%|██▍       | 69/290 [01:09<03:44,  1.02s/it, loss=0.131]"
          ]
        },
        {
          "output_type": "stream",
          "name": "stdout",
          "text": [
            ">\n",
            ">\n"
          ]
        },
        {
          "output_type": "stream",
          "name": "stderr",
          "text": [
            " 37%|███▋      | 106/290 [01:49<03:40,  1.20s/it, loss=0.166]"
          ]
        },
        {
          "output_type": "stream",
          "name": "stdout",
          "text": [
            ">\n",
            ">\n"
          ]
        },
        {
          "output_type": "stream",
          "name": "stderr",
          "text": [
            " 39%|███▉      | 114/290 [01:57<02:58,  1.01s/it, loss=0.155]"
          ]
        },
        {
          "output_type": "stream",
          "name": "stdout",
          "text": [
            ">\n",
            ">\n"
          ]
        },
        {
          "output_type": "stream",
          "name": "stderr",
          "text": [
            " 40%|████      | 117/290 [02:00<02:55,  1.01s/it, loss=0.138]"
          ]
        },
        {
          "output_type": "stream",
          "name": "stdout",
          "text": [
            "[\n"
          ]
        },
        {
          "output_type": "stream",
          "name": "stderr",
          "text": [
            " 41%|████      | 119/290 [02:02<02:51,  1.00s/it, loss=0.123]"
          ]
        },
        {
          "output_type": "stream",
          "name": "stdout",
          "text": [
            "[\n",
            "]\n"
          ]
        },
        {
          "output_type": "stream",
          "name": "stderr",
          "text": [
            " 47%|████▋     | 135/290 [02:19<02:42,  1.05s/it, loss=0.137]"
          ]
        },
        {
          "output_type": "stream",
          "name": "stdout",
          "text": [
            "*\n",
            "*\n",
            "*\n"
          ]
        },
        {
          "output_type": "stream",
          "name": "stderr",
          "text": [
            " 48%|████▊     | 138/290 [02:22<02:37,  1.04s/it, loss=0.121]"
          ]
        },
        {
          "output_type": "stream",
          "name": "stdout",
          "text": [
            "*\n",
            "*\n",
            "*\n"
          ]
        },
        {
          "output_type": "stream",
          "name": "stderr",
          "text": [
            " 53%|█████▎    | 154/290 [02:38<02:15,  1.00it/s, loss=0.121]"
          ]
        },
        {
          "output_type": "stream",
          "name": "stdout",
          "text": [
            "[\n",
            "]\n"
          ]
        },
        {
          "output_type": "stream",
          "name": "stderr",
          "text": [
            " 61%|██████    | 176/290 [03:00<01:52,  1.01it/s, loss=0.113]"
          ]
        },
        {
          "output_type": "stream",
          "name": "stdout",
          "text": [
            ">\n",
            ">\n"
          ]
        },
        {
          "output_type": "stream",
          "name": "stderr",
          "text": [
            " 61%|██████    | 177/290 [03:01<01:52,  1.00it/s, loss=0.118]"
          ]
        },
        {
          "output_type": "stream",
          "name": "stdout",
          "text": [
            "[\n",
            "]\n"
          ]
        },
        {
          "output_type": "stream",
          "name": "stderr",
          "text": [
            " 63%|██████▎   | 183/290 [03:07<01:48,  1.01s/it, loss=0.132]"
          ]
        },
        {
          "output_type": "stream",
          "name": "stdout",
          "text": [
            "]\n"
          ]
        },
        {
          "output_type": "stream",
          "name": "stderr",
          "text": [
            " 65%|██████▍   | 188/290 [03:12<01:42,  1.01s/it, loss=0.118]"
          ]
        },
        {
          "output_type": "stream",
          "name": "stdout",
          "text": [
            ">\n",
            ">\n",
            ">\n"
          ]
        },
        {
          "output_type": "stream",
          "name": "stderr",
          "text": [
            " 68%|██████▊   | 197/290 [03:21<01:32,  1.01it/s, loss=0.129]"
          ]
        },
        {
          "output_type": "stream",
          "name": "stdout",
          "text": [
            "[\n",
            "]\n"
          ]
        },
        {
          "output_type": "stream",
          "name": "stderr",
          "text": [
            " 75%|███████▍  | 217/290 [03:41<01:13,  1.01s/it, loss=0.1]"
          ]
        },
        {
          "output_type": "stream",
          "name": "stdout",
          "text": [
            ">\n"
          ]
        },
        {
          "output_type": "stream",
          "name": "stderr",
          "text": [
            " 79%|███████▊  | 228/290 [03:52<01:02,  1.00s/it, loss=0.127]"
          ]
        },
        {
          "output_type": "stream",
          "name": "stdout",
          "text": [
            "[\n"
          ]
        },
        {
          "output_type": "stream",
          "name": "stderr",
          "text": [
            " 83%|████████▎ | 240/290 [04:05<00:50,  1.00s/it, loss=0.139]"
          ]
        },
        {
          "output_type": "stream",
          "name": "stdout",
          "text": [
            "]\n"
          ]
        },
        {
          "output_type": "stream",
          "name": "stderr",
          "text": [
            " 83%|████████▎ | 242/290 [04:06<00:48,  1.00s/it, loss=0.0988]"
          ]
        },
        {
          "output_type": "stream",
          "name": "stdout",
          "text": [
            ">\n",
            ">\n"
          ]
        },
        {
          "output_type": "stream",
          "name": "stderr",
          "text": [
            " 86%|████████▌ | 250/290 [04:14<00:39,  1.01it/s, loss=0.122]"
          ]
        },
        {
          "output_type": "stream",
          "name": "stdout",
          "text": [
            "[\n"
          ]
        },
        {
          "output_type": "stream",
          "name": "stderr",
          "text": [
            " 96%|█████████▌| 277/290 [04:42<00:12,  1.01it/s, loss=0.106]"
          ]
        },
        {
          "output_type": "stream",
          "name": "stdout",
          "text": [
            "]\n",
            "[\n",
            "]\n"
          ]
        },
        {
          "output_type": "stream",
          "name": "stderr",
          "text": [
            " 97%|█████████▋| 282/290 [04:47<00:08,  1.00s/it, loss=0.13]"
          ]
        },
        {
          "output_type": "stream",
          "name": "stdout",
          "text": [
            "*\n",
            "*\n",
            "*\n",
            ">\n",
            ">\n"
          ]
        },
        {
          "output_type": "stream",
          "name": "stderr",
          "text": [
            "100%|██████████| 290/290 [04:54<00:00,  1.02s/it, loss=0.121]\n",
            "  3%|▎         | 9/290 [00:09<04:44,  1.01s/it, loss=0.0875]"
          ]
        },
        {
          "output_type": "stream",
          "name": "stdout",
          "text": [
            ">\n",
            ">\n"
          ]
        },
        {
          "output_type": "stream",
          "name": "stderr",
          "text": [
            "  4%|▍         | 12/290 [00:12<04:44,  1.02s/it, loss=0.105]"
          ]
        },
        {
          "output_type": "stream",
          "name": "stdout",
          "text": [
            ">\n",
            ">\n"
          ]
        },
        {
          "output_type": "stream",
          "name": "stderr",
          "text": [
            "  9%|▉         | 26/290 [00:26<04:24,  1.00s/it, loss=0.0995]"
          ]
        },
        {
          "output_type": "stream",
          "name": "stdout",
          "text": [
            "[\n",
            "]\n"
          ]
        },
        {
          "output_type": "stream",
          "name": "stderr",
          "text": [
            " 14%|█▍        | 42/290 [00:42<04:04,  1.02it/s, loss=0.102]"
          ]
        },
        {
          "output_type": "stream",
          "name": "stdout",
          "text": [
            "]\n"
          ]
        },
        {
          "output_type": "stream",
          "name": "stderr",
          "text": [
            " 17%|█▋        | 48/290 [00:48<04:10,  1.03s/it, loss=0.114]"
          ]
        },
        {
          "output_type": "stream",
          "name": "stdout",
          "text": [
            "*\n",
            "*\n",
            "*\n"
          ]
        },
        {
          "output_type": "stream",
          "name": "stderr",
          "text": [
            " 18%|█▊        | 51/290 [00:51<04:00,  1.01s/it, loss=0.114]"
          ]
        },
        {
          "output_type": "stream",
          "name": "stdout",
          "text": [
            "<\n"
          ]
        },
        {
          "output_type": "stream",
          "name": "stderr",
          "text": [
            " 26%|██▌       | 74/290 [01:14<03:39,  1.01s/it, loss=0.1]"
          ]
        },
        {
          "output_type": "stream",
          "name": "stdout",
          "text": [
            ">\n",
            ">\n"
          ]
        },
        {
          "output_type": "stream",
          "name": "stderr",
          "text": [
            " 26%|██▌       | 76/290 [01:16<03:43,  1.04s/it, loss=0.121]"
          ]
        },
        {
          "output_type": "stream",
          "name": "stdout",
          "text": [
            ">\n",
            ">\n"
          ]
        },
        {
          "output_type": "stream",
          "name": "stderr",
          "text": [
            " 27%|██▋       | 79/290 [01:19<03:32,  1.01s/it, loss=0.0916]"
          ]
        },
        {
          "output_type": "stream",
          "name": "stdout",
          "text": [
            "[\n"
          ]
        },
        {
          "output_type": "stream",
          "name": "stderr",
          "text": [
            " 28%|██▊       | 81/290 [01:21<03:35,  1.03s/it, loss=0.0925]"
          ]
        },
        {
          "output_type": "stream",
          "name": "stdout",
          "text": [
            "[\n",
            "]\n"
          ]
        },
        {
          "output_type": "stream",
          "name": "stderr",
          "text": [
            " 30%|██▉       | 86/290 [01:26<03:25,  1.01s/it, loss=0.1]"
          ]
        },
        {
          "output_type": "stream",
          "name": "stdout",
          "text": [
            "[\n"
          ]
        },
        {
          "output_type": "stream",
          "name": "stderr",
          "text": [
            " 34%|███▍      | 98/290 [01:39<03:14,  1.01s/it, loss=0.115]"
          ]
        },
        {
          "output_type": "stream",
          "name": "stdout",
          "text": [
            ">\n",
            ">\n"
          ]
        },
        {
          "output_type": "stream",
          "name": "stderr",
          "text": [
            " 38%|███▊      | 111/290 [01:52<02:59,  1.00s/it, loss=0.119]"
          ]
        },
        {
          "output_type": "stream",
          "name": "stdout",
          "text": [
            "*\n",
            "*\n",
            "*\n"
          ]
        },
        {
          "output_type": "stream",
          "name": "stderr",
          "text": [
            " 40%|████      | 117/290 [01:58<02:52,  1.00it/s, loss=0.102]"
          ]
        },
        {
          "output_type": "stream",
          "name": "stdout",
          "text": [
            ">\n"
          ]
        },
        {
          "output_type": "stream",
          "name": "stderr",
          "text": [
            " 41%|████▏     | 120/290 [02:01<02:47,  1.02it/s, loss=0.13]"
          ]
        },
        {
          "output_type": "stream",
          "name": "stdout",
          "text": [
            "[\n"
          ]
        },
        {
          "output_type": "stream",
          "name": "stderr",
          "text": [
            " 44%|████▍     | 128/290 [02:09<02:41,  1.01it/s, loss=0.124]"
          ]
        },
        {
          "output_type": "stream",
          "name": "stdout",
          "text": [
            "]\n",
            "[\n",
            "]\n"
          ]
        },
        {
          "output_type": "stream",
          "name": "stderr",
          "text": [
            " 52%|█████▏    | 152/290 [02:33<02:20,  1.02s/it, loss=0.114]"
          ]
        },
        {
          "output_type": "stream",
          "name": "stdout",
          "text": [
            "[\n",
            "]\n"
          ]
        },
        {
          "output_type": "stream",
          "name": "stderr",
          "text": [
            " 57%|█████▋    | 166/290 [02:47<02:04,  1.00s/it, loss=0.0772]"
          ]
        },
        {
          "output_type": "stream",
          "name": "stdout",
          "text": [
            "[\n"
          ]
        },
        {
          "output_type": "stream",
          "name": "stderr",
          "text": [
            " 60%|█████▉    | 173/290 [02:54<01:55,  1.01it/s, loss=0.111]"
          ]
        },
        {
          "output_type": "stream",
          "name": "stdout",
          "text": [
            ">\n",
            ">\n"
          ]
        },
        {
          "output_type": "stream",
          "name": "stderr",
          "text": [
            " 60%|██████    | 174/290 [02:55<01:55,  1.00it/s, loss=0.0854]"
          ]
        },
        {
          "output_type": "stream",
          "name": "stdout",
          "text": [
            "]\n"
          ]
        },
        {
          "output_type": "stream",
          "name": "stderr",
          "text": [
            " 61%|██████    | 177/290 [02:58<01:52,  1.01it/s, loss=0.0929]"
          ]
        },
        {
          "output_type": "stream",
          "name": "stdout",
          "text": [
            "<\n"
          ]
        },
        {
          "output_type": "stream",
          "name": "stderr",
          "text": [
            " 64%|██████▍   | 185/290 [03:06<01:48,  1.03s/it, loss=0.0722]"
          ]
        },
        {
          "output_type": "stream",
          "name": "stdout",
          "text": [
            "[\n",
            "]\n"
          ]
        },
        {
          "output_type": "stream",
          "name": "stderr",
          "text": [
            " 69%|██████▊   | 199/290 [03:20<01:33,  1.03s/it, loss=0.0979]"
          ]
        },
        {
          "output_type": "stream",
          "name": "stdout",
          "text": [
            "*\n",
            "*\n",
            "*\n"
          ]
        },
        {
          "output_type": "stream",
          "name": "stderr",
          "text": [
            " 71%|███████   | 206/290 [03:28<01:25,  1.02s/it, loss=0.131]"
          ]
        },
        {
          "output_type": "stream",
          "name": "stdout",
          "text": [
            ">\n",
            ">\n"
          ]
        },
        {
          "output_type": "stream",
          "name": "stderr",
          "text": [
            " 76%|███████▌  | 220/290 [03:42<01:09,  1.01it/s, loss=0.0709]"
          ]
        },
        {
          "output_type": "stream",
          "name": "stdout",
          "text": [
            ">\n",
            ">\n",
            ">\n"
          ]
        },
        {
          "output_type": "stream",
          "name": "stderr",
          "text": [
            " 84%|████████▍ | 243/290 [04:05<00:47,  1.00s/it, loss=0.0986]"
          ]
        },
        {
          "output_type": "stream",
          "name": "stdout",
          "text": [
            "]\n",
            "[\n",
            "]\n"
          ]
        },
        {
          "output_type": "stream",
          "name": "stderr",
          "text": [
            " 86%|████████▌ | 248/290 [04:10<00:42,  1.02s/it, loss=0.0405]"
          ]
        },
        {
          "output_type": "stream",
          "name": "stdout",
          "text": [
            ">\n",
            ">\n"
          ]
        },
        {
          "output_type": "stream",
          "name": "stderr",
          "text": [
            " 86%|████████▌ | 249/290 [04:11<00:41,  1.01s/it, loss=0.107]"
          ]
        },
        {
          "output_type": "stream",
          "name": "stdout",
          "text": [
            "*\n",
            "*\n",
            "*\n"
          ]
        },
        {
          "output_type": "stream",
          "name": "stderr",
          "text": [
            " 88%|████████▊ | 256/290 [04:18<00:33,  1.01it/s, loss=0.0907]"
          ]
        },
        {
          "output_type": "stream",
          "name": "stdout",
          "text": [
            ">\n"
          ]
        },
        {
          "output_type": "stream",
          "name": "stderr",
          "text": [
            " 89%|████████▉ | 258/290 [04:20<00:31,  1.00it/s, loss=0.0876]"
          ]
        },
        {
          "output_type": "stream",
          "name": "stdout",
          "text": [
            ">\n",
            ">\n"
          ]
        },
        {
          "output_type": "stream",
          "name": "stderr",
          "text": [
            " 92%|█████████▏| 266/290 [04:28<00:23,  1.01it/s, loss=0.0796]"
          ]
        },
        {
          "output_type": "stream",
          "name": "stdout",
          "text": [
            ">\n"
          ]
        },
        {
          "output_type": "stream",
          "name": "stderr",
          "text": [
            " 94%|█████████▍| 272/290 [04:34<00:17,  1.02it/s, loss=0.0904]"
          ]
        },
        {
          "output_type": "stream",
          "name": "stdout",
          "text": [
            ">\n",
            ">\n"
          ]
        },
        {
          "output_type": "stream",
          "name": "stderr",
          "text": [
            "100%|██████████| 290/290 [04:52<00:00,  1.01s/it, loss=0.078]\n"
          ]
        },
        {
          "output_type": "stream",
          "name": "stdout",
          "text": [
            "checkpoint_ep49.pth.tar saved\n"
          ]
        },
        {
          "output_type": "stream",
          "name": "stderr",
          "text": [
            "  3%|▎         | 8/290 [00:07<04:40,  1.01it/s, loss=0.101]"
          ]
        },
        {
          "output_type": "stream",
          "name": "stdout",
          "text": [
            "[\n",
            "]\n"
          ]
        },
        {
          "output_type": "stream",
          "name": "stderr",
          "text": [
            "  5%|▍         | 14/290 [00:14<04:40,  1.02s/it, loss=0.0783]"
          ]
        },
        {
          "output_type": "stream",
          "name": "stdout",
          "text": [
            "]\n",
            "[\n",
            "]\n"
          ]
        },
        {
          "output_type": "stream",
          "name": "stderr",
          "text": [
            " 12%|█▏        | 34/290 [00:34<04:15,  1.00it/s, loss=0.0896]"
          ]
        },
        {
          "output_type": "stream",
          "name": "stdout",
          "text": [
            ">\n",
            ">\n"
          ]
        },
        {
          "output_type": "stream",
          "name": "stderr",
          "text": [
            " 14%|█▍        | 41/290 [00:41<04:07,  1.01it/s, loss=0.0891]"
          ]
        },
        {
          "output_type": "stream",
          "name": "stdout",
          "text": [
            "]\n"
          ]
        },
        {
          "output_type": "stream",
          "name": "stderr",
          "text": [
            " 15%|█▌        | 44/290 [00:44<04:09,  1.01s/it, loss=0.1]"
          ]
        },
        {
          "output_type": "stream",
          "name": "stdout",
          "text": [
            ">\n"
          ]
        },
        {
          "output_type": "stream",
          "name": "stderr",
          "text": [
            " 16%|█▌        | 45/290 [00:45<04:08,  1.01s/it, loss=0.0922]"
          ]
        },
        {
          "output_type": "stream",
          "name": "stdout",
          "text": [
            "[\n"
          ]
        },
        {
          "output_type": "stream",
          "name": "stderr",
          "text": [
            " 24%|██▍       | 69/290 [01:09<03:44,  1.02s/it, loss=0.106]"
          ]
        },
        {
          "output_type": "stream",
          "name": "stdout",
          "text": [
            ">\n",
            ">\n"
          ]
        },
        {
          "output_type": "stream",
          "name": "stderr",
          "text": [
            " 26%|██▌       | 74/290 [01:14<03:36,  1.00s/it, loss=0.0891]"
          ]
        },
        {
          "output_type": "stream",
          "name": "stdout",
          "text": [
            ">\n"
          ]
        },
        {
          "output_type": "stream",
          "name": "stderr",
          "text": [
            " 27%|██▋       | 78/290 [01:18<03:38,  1.03s/it, loss=0.0836]"
          ]
        },
        {
          "output_type": "stream",
          "name": "stdout",
          "text": [
            ">\n",
            ">\n",
            ">\n",
            ">\n"
          ]
        },
        {
          "output_type": "stream",
          "name": "stderr",
          "text": [
            " 32%|███▏      | 94/290 [01:34<03:20,  1.02s/it, loss=0.0895]"
          ]
        },
        {
          "output_type": "stream",
          "name": "stdout",
          "text": [
            "*\n",
            "*\n",
            "*\n"
          ]
        },
        {
          "output_type": "stream",
          "name": "stderr",
          "text": [
            " 33%|███▎      | 97/290 [01:37<03:15,  1.01s/it, loss=0.104]"
          ]
        },
        {
          "output_type": "stream",
          "name": "stdout",
          "text": [
            "*\n",
            "*\n",
            "*\n"
          ]
        },
        {
          "output_type": "stream",
          "name": "stderr",
          "text": [
            " 36%|███▌      | 104/290 [01:44<03:04,  1.01it/s, loss=0.0944]"
          ]
        },
        {
          "output_type": "stream",
          "name": "stdout",
          "text": [
            "[\n"
          ]
        },
        {
          "output_type": "stream",
          "name": "stderr",
          "text": [
            " 36%|███▌      | 105/290 [01:45<03:03,  1.01it/s, loss=0.0863]"
          ]
        },
        {
          "output_type": "stream",
          "name": "stdout",
          "text": [
            ">\n"
          ]
        },
        {
          "output_type": "stream",
          "name": "stderr",
          "text": [
            " 48%|████▊     | 138/290 [02:19<02:35,  1.02s/it, loss=0.0786]"
          ]
        },
        {
          "output_type": "stream",
          "name": "stdout",
          "text": [
            ">\n",
            ">\n"
          ]
        },
        {
          "output_type": "stream",
          "name": "stderr",
          "text": [
            " 51%|█████     | 147/290 [02:28<02:23,  1.00s/it, loss=0.0858]"
          ]
        },
        {
          "output_type": "stream",
          "name": "stdout",
          "text": [
            "[\n",
            "]\n"
          ]
        },
        {
          "output_type": "stream",
          "name": "stderr",
          "text": [
            " 52%|█████▏    | 150/290 [02:31<02:21,  1.01s/it, loss=0.0836]"
          ]
        },
        {
          "output_type": "stream",
          "name": "stdout",
          "text": [
            "<\n"
          ]
        },
        {
          "output_type": "stream",
          "name": "stderr",
          "text": [
            " 52%|█████▏    | 151/290 [02:32<02:19,  1.00s/it, loss=0.0827]"
          ]
        },
        {
          "output_type": "stream",
          "name": "stdout",
          "text": [
            ">\n",
            ">\n",
            "*\n",
            "*\n",
            "*\n"
          ]
        },
        {
          "output_type": "stream",
          "name": "stderr",
          "text": [
            " 57%|█████▋    | 165/290 [02:46<02:09,  1.04s/it, loss=0.0878]"
          ]
        },
        {
          "output_type": "stream",
          "name": "stdout",
          "text": [
            ">\n",
            ">\n"
          ]
        },
        {
          "output_type": "stream",
          "name": "stderr",
          "text": [
            " 58%|█████▊    | 169/290 [02:50<02:05,  1.04s/it, loss=0.082]"
          ]
        },
        {
          "output_type": "stream",
          "name": "stdout",
          "text": [
            ">\n",
            ">\n",
            ">\n"
          ]
        },
        {
          "output_type": "stream",
          "name": "stderr",
          "text": [
            " 62%|██████▏   | 180/290 [03:02<01:50,  1.01s/it, loss=0.0716]"
          ]
        },
        {
          "output_type": "stream",
          "name": "stdout",
          "text": [
            ">\n",
            ">\n"
          ]
        },
        {
          "output_type": "stream",
          "name": "stderr",
          "text": [
            " 71%|███████   | 205/290 [03:27<01:25,  1.00s/it, loss=0.0778]"
          ]
        },
        {
          "output_type": "stream",
          "name": "stdout",
          "text": [
            "[\n",
            "]\n"
          ]
        },
        {
          "output_type": "stream",
          "name": "stderr",
          "text": [
            " 75%|███████▌  | 218/290 [03:40<01:12,  1.01s/it, loss=0.0701]"
          ]
        },
        {
          "output_type": "stream",
          "name": "stdout",
          "text": [
            ">\n",
            ">\n"
          ]
        },
        {
          "output_type": "stream",
          "name": "stderr",
          "text": [
            " 77%|███████▋  | 223/290 [03:45<01:06,  1.01it/s, loss=0.0795]"
          ]
        },
        {
          "output_type": "stream",
          "name": "stdout",
          "text": [
            ">\n",
            ">\n"
          ]
        },
        {
          "output_type": "stream",
          "name": "stderr",
          "text": [
            " 80%|███████▉  | 231/290 [03:53<01:00,  1.03s/it, loss=0.0764]"
          ]
        },
        {
          "output_type": "stream",
          "name": "stdout",
          "text": [
            "*\n",
            "*\n",
            "*\n"
          ]
        },
        {
          "output_type": "stream",
          "name": "stderr",
          "text": [
            " 83%|████████▎ | 240/290 [04:02<00:49,  1.01it/s, loss=0.0797]"
          ]
        },
        {
          "output_type": "stream",
          "name": "stdout",
          "text": [
            "[\n"
          ]
        },
        {
          "output_type": "stream",
          "name": "stderr",
          "text": [
            " 84%|████████▍ | 244/290 [04:06<00:45,  1.01it/s, loss=0.0893]"
          ]
        },
        {
          "output_type": "stream",
          "name": "stdout",
          "text": [
            "]\n",
            "[\n",
            "]\n"
          ]
        },
        {
          "output_type": "stream",
          "name": "stderr",
          "text": [
            " 84%|████████▍ | 245/290 [04:07<00:44,  1.01it/s, loss=0.0742]"
          ]
        },
        {
          "output_type": "stream",
          "name": "stdout",
          "text": [
            "[\n",
            "]\n"
          ]
        },
        {
          "output_type": "stream",
          "name": "stderr",
          "text": [
            " 86%|████████▌ | 248/290 [04:10<00:42,  1.01s/it, loss=0.081]"
          ]
        },
        {
          "output_type": "stream",
          "name": "stdout",
          "text": [
            "[\n"
          ]
        },
        {
          "output_type": "stream",
          "name": "stderr",
          "text": [
            " 89%|████████▉ | 258/290 [04:20<00:32,  1.03s/it, loss=0.0711]"
          ]
        },
        {
          "output_type": "stream",
          "name": "stdout",
          "text": [
            "<\n"
          ]
        },
        {
          "output_type": "stream",
          "name": "stderr",
          "text": [
            " 90%|█████████ | 262/290 [04:24<00:27,  1.00it/s, loss=0.0626]"
          ]
        },
        {
          "output_type": "stream",
          "name": "stdout",
          "text": [
            "]\n"
          ]
        },
        {
          "output_type": "stream",
          "name": "stderr",
          "text": [
            "100%|██████████| 290/290 [04:52<00:00,  1.01s/it, loss=0.101]\n",
            "  0%|          | 0/290 [00:00<?, ?it/s]"
          ]
        },
        {
          "output_type": "stream",
          "name": "stdout",
          "text": [
            ">\n",
            ">\n"
          ]
        },
        {
          "output_type": "stream",
          "name": "stderr",
          "text": [
            "  2%|▏         | 6/290 [00:05<04:39,  1.01it/s, loss=0.0713]"
          ]
        },
        {
          "output_type": "stream",
          "name": "stdout",
          "text": [
            ">\n",
            ">\n"
          ]
        },
        {
          "output_type": "stream",
          "name": "stderr",
          "text": [
            "  5%|▌         | 15/290 [00:14<04:35,  1.00s/it, loss=0.0821]"
          ]
        },
        {
          "output_type": "stream",
          "name": "stdout",
          "text": [
            ">\n"
          ]
        },
        {
          "output_type": "stream",
          "name": "stderr",
          "text": [
            " 10%|█         | 30/290 [00:30<04:28,  1.03s/it, loss=0.0683]"
          ]
        },
        {
          "output_type": "stream",
          "name": "stdout",
          "text": [
            ">\n",
            ">\n"
          ]
        },
        {
          "output_type": "stream",
          "name": "stderr",
          "text": [
            " 13%|█▎        | 38/290 [00:38<04:10,  1.01it/s, loss=0.0833]"
          ]
        },
        {
          "output_type": "stream",
          "name": "stdout",
          "text": [
            ">\n",
            ">\n"
          ]
        },
        {
          "output_type": "stream",
          "name": "stderr",
          "text": [
            " 18%|█▊        | 53/290 [00:53<03:53,  1.02it/s, loss=0.0605]"
          ]
        },
        {
          "output_type": "stream",
          "name": "stdout",
          "text": [
            "[\n"
          ]
        },
        {
          "output_type": "stream",
          "name": "stderr",
          "text": [
            " 19%|█▉        | 55/290 [00:55<03:55,  1.00s/it, loss=0.0524]"
          ]
        },
        {
          "output_type": "stream",
          "name": "stdout",
          "text": [
            ">\n",
            ">\n",
            ">\n",
            "*\n",
            "*\n",
            "*\n"
          ]
        },
        {
          "output_type": "stream",
          "name": "stderr",
          "text": [
            " 22%|██▏       | 64/290 [01:04<03:48,  1.01s/it, loss=0.0597]"
          ]
        },
        {
          "output_type": "stream",
          "name": "stdout",
          "text": [
            "[\n",
            "]\n"
          ]
        },
        {
          "output_type": "stream",
          "name": "stderr",
          "text": [
            " 23%|██▎       | 68/290 [01:08<03:46,  1.02s/it, loss=0.0746]"
          ]
        },
        {
          "output_type": "stream",
          "name": "stdout",
          "text": [
            "[\n"
          ]
        },
        {
          "output_type": "stream",
          "name": "stderr",
          "text": [
            " 25%|██▌       | 73/290 [01:13<03:36,  1.00it/s, loss=0.0591]"
          ]
        },
        {
          "output_type": "stream",
          "name": "stdout",
          "text": [
            ">\n",
            ">\n"
          ]
        },
        {
          "output_type": "stream",
          "name": "stderr",
          "text": [
            " 31%|███       | 89/290 [01:29<03:22,  1.01s/it, loss=0.0788]"
          ]
        },
        {
          "output_type": "stream",
          "name": "stdout",
          "text": [
            "<\n"
          ]
        },
        {
          "output_type": "stream",
          "name": "stderr",
          "text": [
            " 32%|███▏      | 92/290 [01:33<03:27,  1.05s/it, loss=0.193]"
          ]
        },
        {
          "output_type": "stream",
          "name": "stdout",
          "text": [
            "*\n",
            "*\n",
            "*\n"
          ]
        },
        {
          "output_type": "stream",
          "name": "stderr",
          "text": [
            " 36%|███▌      | 103/290 [01:44<03:05,  1.01it/s, loss=0.473]"
          ]
        },
        {
          "output_type": "stream",
          "name": "stdout",
          "text": [
            "[\n",
            "]\n"
          ]
        },
        {
          "output_type": "stream",
          "name": "stderr",
          "text": [
            " 36%|███▌      | 105/290 [01:46<03:05,  1.00s/it, loss=0.509]"
          ]
        },
        {
          "output_type": "stream",
          "name": "stdout",
          "text": [
            ">\n",
            ">\n"
          ]
        },
        {
          "output_type": "stream",
          "name": "stderr",
          "text": [
            " 39%|███▉      | 113/290 [01:53<02:55,  1.01it/s, loss=0.343]"
          ]
        },
        {
          "output_type": "stream",
          "name": "stdout",
          "text": [
            ">\n",
            ">\n"
          ]
        },
        {
          "output_type": "stream",
          "name": "stderr",
          "text": [
            " 41%|████      | 118/290 [01:58<02:51,  1.00it/s, loss=0.573]"
          ]
        },
        {
          "output_type": "stream",
          "name": "stdout",
          "text": [
            ">\n",
            ">\n"
          ]
        },
        {
          "output_type": "stream",
          "name": "stderr",
          "text": [
            " 48%|████▊     | 139/290 [02:20<02:30,  1.00it/s, loss=0.283]"
          ]
        },
        {
          "output_type": "stream",
          "name": "stdout",
          "text": [
            "[\n",
            "]\n"
          ]
        },
        {
          "output_type": "stream",
          "name": "stderr",
          "text": [
            " 56%|█████▌    | 163/290 [02:44<02:07,  1.01s/it, loss=0.177]"
          ]
        },
        {
          "output_type": "stream",
          "name": "stdout",
          "text": [
            "<\n"
          ]
        },
        {
          "output_type": "stream",
          "name": "stderr",
          "text": [
            " 60%|██████    | 174/290 [02:55<01:54,  1.01it/s, loss=0.107]"
          ]
        },
        {
          "output_type": "stream",
          "name": "stdout",
          "text": [
            "]\n",
            "[\n",
            "]\n"
          ]
        },
        {
          "output_type": "stream",
          "name": "stderr",
          "text": [
            " 62%|██████▏   | 179/290 [03:00<01:49,  1.01it/s, loss=0.14]"
          ]
        },
        {
          "output_type": "stream",
          "name": "stdout",
          "text": [
            ">\n"
          ]
        },
        {
          "output_type": "stream",
          "name": "stderr",
          "text": [
            " 64%|██████▍   | 185/290 [03:06<01:47,  1.02s/it, loss=0.142]"
          ]
        },
        {
          "output_type": "stream",
          "name": "stdout",
          "text": [
            "[\n",
            "]\n"
          ]
        },
        {
          "output_type": "stream",
          "name": "stderr",
          "text": [
            " 67%|██████▋   | 193/290 [03:14<01:38,  1.02s/it, loss=0.149]"
          ]
        },
        {
          "output_type": "stream",
          "name": "stdout",
          "text": [
            "]\n",
            "[\n",
            "]\n"
          ]
        },
        {
          "output_type": "stream",
          "name": "stderr",
          "text": [
            " 68%|██████▊   | 196/290 [03:17<01:35,  1.02s/it, loss=0.135]"
          ]
        },
        {
          "output_type": "stream",
          "name": "stdout",
          "text": [
            "[\n"
          ]
        },
        {
          "output_type": "stream",
          "name": "stderr",
          "text": [
            " 69%|██████▉   | 200/290 [03:21<01:31,  1.01s/it, loss=0.137]"
          ]
        },
        {
          "output_type": "stream",
          "name": "stdout",
          "text": [
            "*\n",
            "*\n",
            "*\n"
          ]
        },
        {
          "output_type": "stream",
          "name": "stderr",
          "text": [
            " 73%|███████▎  | 213/290 [03:34<01:17,  1.00s/it, loss=0.137]"
          ]
        },
        {
          "output_type": "stream",
          "name": "stdout",
          "text": [
            ">\n",
            ">\n"
          ]
        },
        {
          "output_type": "stream",
          "name": "stderr",
          "text": [
            " 80%|████████  | 233/290 [03:55<00:58,  1.02s/it, loss=0.114]"
          ]
        },
        {
          "output_type": "stream",
          "name": "stdout",
          "text": [
            ">\n"
          ]
        },
        {
          "output_type": "stream",
          "name": "stderr",
          "text": [
            " 81%|████████  | 234/290 [03:56<00:56,  1.01s/it, loss=0.117]"
          ]
        },
        {
          "output_type": "stream",
          "name": "stdout",
          "text": [
            "]\n"
          ]
        },
        {
          "output_type": "stream",
          "name": "stderr",
          "text": [
            " 83%|████████▎ | 240/290 [04:02<00:51,  1.02s/it, loss=0.136]"
          ]
        },
        {
          "output_type": "stream",
          "name": "stdout",
          "text": [
            "]\n"
          ]
        },
        {
          "output_type": "stream",
          "name": "stderr",
          "text": [
            " 88%|████████▊ | 255/290 [04:17<00:34,  1.01it/s, loss=0.121]"
          ]
        },
        {
          "output_type": "stream",
          "name": "stdout",
          "text": [
            "*\n",
            "*\n",
            "*\n"
          ]
        },
        {
          "output_type": "stream",
          "name": "stderr",
          "text": [
            " 96%|█████████▌| 279/290 [04:41<00:10,  1.01it/s, loss=0.135]"
          ]
        },
        {
          "output_type": "stream",
          "name": "stdout",
          "text": [
            "[\n"
          ]
        },
        {
          "output_type": "stream",
          "name": "stderr",
          "text": [
            " 98%|█████████▊| 285/290 [04:47<00:05,  1.01s/it, loss=0.0985]"
          ]
        },
        {
          "output_type": "stream",
          "name": "stdout",
          "text": [
            ">\n",
            ">\n"
          ]
        },
        {
          "output_type": "stream",
          "name": "stderr",
          "text": [
            "100%|██████████| 290/290 [04:52<00:00,  1.01s/it, loss=0.178]\n"
          ]
        },
        {
          "output_type": "stream",
          "name": "stdout",
          "text": [
            "checkpoint_ep51.pth.tar saved\n"
          ]
        },
        {
          "output_type": "stream",
          "name": "stderr",
          "text": [
            "  1%|▏         | 4/290 [00:04<04:50,  1.02s/it, loss=0.103]"
          ]
        },
        {
          "output_type": "stream",
          "name": "stdout",
          "text": [
            "[\n"
          ]
        },
        {
          "output_type": "stream",
          "name": "stderr",
          "text": [
            "  4%|▍         | 13/290 [00:13<04:47,  1.04s/it, loss=0.0761]"
          ]
        },
        {
          "output_type": "stream",
          "name": "stdout",
          "text": [
            "]\n"
          ]
        },
        {
          "output_type": "stream",
          "name": "stderr",
          "text": [
            "  5%|▍         | 14/290 [00:14<04:41,  1.02s/it, loss=0.123]"
          ]
        },
        {
          "output_type": "stream",
          "name": "stdout",
          "text": [
            "[\n",
            "]\n"
          ]
        },
        {
          "output_type": "stream",
          "name": "stderr",
          "text": [
            "  7%|▋         | 19/290 [00:19<04:32,  1.00s/it, loss=0.1]"
          ]
        },
        {
          "output_type": "stream",
          "name": "stdout",
          "text": [
            "[\n",
            "]\n"
          ]
        },
        {
          "output_type": "stream",
          "name": "stderr",
          "text": [
            " 12%|█▏        | 35/290 [00:35<04:14,  1.00it/s, loss=0.113]"
          ]
        },
        {
          "output_type": "stream",
          "name": "stdout",
          "text": [
            ">\n",
            ">\n"
          ]
        },
        {
          "output_type": "stream",
          "name": "stderr",
          "text": [
            " 14%|█▍        | 40/290 [00:40<04:09,  1.00it/s, loss=0.0911]"
          ]
        },
        {
          "output_type": "stream",
          "name": "stdout",
          "text": [
            "*\n",
            "*\n",
            "*\n",
            "[\n"
          ]
        },
        {
          "output_type": "stream",
          "name": "stderr",
          "text": [
            " 14%|█▍        | 41/290 [00:41<04:08,  1.00it/s, loss=0.118]"
          ]
        },
        {
          "output_type": "stream",
          "name": "stdout",
          "text": [
            ">\n",
            ">\n"
          ]
        },
        {
          "output_type": "stream",
          "name": "stderr",
          "text": [
            " 21%|██        | 61/290 [01:01<03:51,  1.01s/it, loss=0.0627]"
          ]
        },
        {
          "output_type": "stream",
          "name": "stdout",
          "text": [
            "<\n"
          ]
        },
        {
          "output_type": "stream",
          "name": "stderr",
          "text": [
            " 43%|████▎     | 124/290 [02:04<02:47,  1.01s/it, loss=0.116]"
          ]
        },
        {
          "output_type": "stream",
          "name": "stdout",
          "text": [
            ">\n",
            ">\n",
            ">\n"
          ]
        },
        {
          "output_type": "stream",
          "name": "stderr",
          "text": [
            " 44%|████▍     | 129/290 [02:10<02:46,  1.03s/it, loss=0.0932]"
          ]
        },
        {
          "output_type": "stream",
          "name": "stdout",
          "text": [
            "[\n",
            "]\n"
          ]
        },
        {
          "output_type": "stream",
          "name": "stderr",
          "text": [
            " 51%|█████     | 148/290 [02:29<02:24,  1.02s/it, loss=0.0528]"
          ]
        },
        {
          "output_type": "stream",
          "name": "stdout",
          "text": [
            ">\n",
            ">\n"
          ]
        },
        {
          "output_type": "stream",
          "name": "stderr",
          "text": [
            " 51%|█████▏    | 149/290 [02:30<02:24,  1.02s/it, loss=0.0762]"
          ]
        },
        {
          "output_type": "stream",
          "name": "stdout",
          "text": [
            ">\n",
            ">\n"
          ]
        },
        {
          "output_type": "stream",
          "name": "stderr",
          "text": [
            " 52%|█████▏    | 150/290 [02:31<02:22,  1.02s/it, loss=0.0842]"
          ]
        },
        {
          "output_type": "stream",
          "name": "stdout",
          "text": [
            ">\n",
            ">\n"
          ]
        },
        {
          "output_type": "stream",
          "name": "stderr",
          "text": [
            " 54%|█████▍    | 156/290 [02:37<02:13,  1.01it/s, loss=0.0826]"
          ]
        },
        {
          "output_type": "stream",
          "name": "stdout",
          "text": [
            ">\n",
            ">\n"
          ]
        },
        {
          "output_type": "stream",
          "name": "stderr",
          "text": [
            " 54%|█████▍    | 157/290 [02:38<02:11,  1.01it/s, loss=0.0758]"
          ]
        },
        {
          "output_type": "stream",
          "name": "stdout",
          "text": [
            "*\n",
            "*\n",
            "*\n"
          ]
        },
        {
          "output_type": "stream",
          "name": "stderr",
          "text": [
            " 59%|█████▉    | 171/290 [02:52<01:59,  1.00s/it, loss=0.0726]"
          ]
        },
        {
          "output_type": "stream",
          "name": "stdout",
          "text": [
            "<\n"
          ]
        },
        {
          "output_type": "stream",
          "name": "stderr",
          "text": [
            " 62%|██████▏   | 179/290 [03:00<01:51,  1.00s/it, loss=0.0883]"
          ]
        },
        {
          "output_type": "stream",
          "name": "stdout",
          "text": [
            "[\n"
          ]
        },
        {
          "output_type": "stream",
          "name": "stderr",
          "text": [
            " 63%|██████▎   | 183/290 [03:04<01:48,  1.02s/it, loss=0.064]"
          ]
        },
        {
          "output_type": "stream",
          "name": "stdout",
          "text": [
            "[\n",
            "]\n"
          ]
        },
        {
          "output_type": "stream",
          "name": "stderr",
          "text": [
            " 63%|██████▎   | 184/290 [03:05<01:47,  1.01s/it, loss=0.0725]"
          ]
        },
        {
          "output_type": "stream",
          "name": "stdout",
          "text": [
            ">\n",
            ">\n"
          ]
        },
        {
          "output_type": "stream",
          "name": "stderr",
          "text": [
            " 66%|██████▌   | 190/290 [03:11<01:39,  1.01it/s, loss=0.0699]"
          ]
        },
        {
          "output_type": "stream",
          "name": "stdout",
          "text": [
            "*\n",
            "*\n",
            "*\n"
          ]
        },
        {
          "output_type": "stream",
          "name": "stderr",
          "text": [
            " 70%|███████   | 204/290 [03:25<01:28,  1.03s/it, loss=0.0705]"
          ]
        }
      ],
      "source": [
        "device_2use = torch.device(\"cuda:0\" if torch.cuda.is_available() else \"cpu\")\n",
        "#tensor = torch.tensor.cuda()\n",
        "model = CRNN_LSTM().to(device_2use)\n",
        "loss_func = nn.CTCLoss()\n",
        "optimizer = optim.Adam(model.parameters(), lr=0.0001)\n",
        "\n",
        "scaler = torch.cuda.amp.GradScaler()\n",
        "save=False\n",
        "\n",
        "for epoch in range(100):\n",
        "  train_fun(train_loader, model, optimizer, loss_func, scaler)\n",
        "  checkpoint = {\n",
        "      \"state_dict\": model.state_dict(),\n",
        "      \"optimizer\":optimizer.state_dict(),\n",
        "  }\n",
        "  if save:\n",
        "    torch.save(checkpoint, f\"/content/drive/MyDrive/checkpoint_ep{epoch}_less_lr.pth.tar\")\n",
        "    print(f\"checkpoint_ep{epoch}.pth.tar saved\")\n",
        "    save = False\n",
        "  else:\n",
        "    save = True"
      ]
    },
    {
      "cell_type": "markdown",
      "source": [
        "Отображение тестового изображения и его преобразование "
      ],
      "metadata": {
        "id": "IL6uI3abLGEF"
      }
    },
    {
      "cell_type": "code",
      "source": [
        "import matplotlib.pyplot as plt\n",
        "\n",
        "data_transf = [transforms.Grayscale(1),\n",
        "                 transforms.ToTensor(),\n",
        "                 transforms.Resize((32, 128)),\n",
        "                 transforms.Normalize(0.5, 0.25)]\n",
        "\n",
        "transform = transforms.Compose(data_transf)\n",
        "\n",
        "img = Image.open('/content/drive/MyDrive/test_imgs/0_a.png')\n",
        "\n",
        "plt.imshow(img)\n",
        "\n",
        "img = transform(img).unsqueeze(0)"
      ],
      "metadata": {
        "colab": {
          "base_uri": "https://localhost:8080/",
          "height": 83
        },
        "id": "rld_Y4fBTvCQ",
        "outputId": "daafb864-b823-4fb8-a9bf-8dbe6b0136a5"
      },
      "execution_count": 10,
      "outputs": [
        {
          "output_type": "display_data",
          "data": {
            "text/plain": [
              "<Figure size 432x288 with 1 Axes>"
            ],
            "image/png": "[encoded data removed]"
          },
          "metadata": {
            "needs_background": "light"
          }
        }
      ]
    },
    {
      "cell_type": "code",
      "source": [
        "device = torch.device('cpu')\n",
        "\n",
        "loaded_chkpnt = torch.load('/content/drive/MyDrive/checkpoints/checkpoint_ep37_less_lr.pth.tar', map_location = device)\n",
        "\n",
        "model = CRNN_LSTM()\n",
        "\n",
        "optimizer = optim.Adam(model.parameters(), lr=0.0001)\n",
        "\n",
        "model.load_state_dict(loaded_chkpnt['state_dict'])\n",
        "optimizer.load_state_dict(loaded_chkpnt['optimizer'])\n",
        "\n",
        "model.eval()\n",
        "with torch.no_grad():\n",
        "  predictions = model(img)"
      ],
      "metadata": {
        "id": "ZcAdFSDrLE_l"
      },
      "execution_count": 11,
      "outputs": []
    },
    {
      "cell_type": "code",
      "source": [
        "def decode(pred):\n",
        "    pred = pred.permute(1, 0, 2).cpu().data.numpy()\n",
        "    seq = []\n",
        "    print(pred.shape[0])\n",
        "    for i in range(pred.shape[0]):\n",
        "        seq.append(pred_to_string(pred[i]))\n",
        "    return seq"
      ],
      "metadata": {
        "id": "dbr5vaqZaFSP"
      },
      "execution_count": 12,
      "outputs": []
    },
    {
      "cell_type": "code",
      "source": [
        "def pred_to_string(pred):\n",
        "    alphabet = 'аАбБвВгГдДеЕёЁжЖзЗиИйЙкКлЛмМнНоОпПрРсСтТуУфФхХцЦчЧшШщЩъЪыЫьЬэЭюЮяЯ0123456789-.,: !()\"?;'\n",
        "    seq = []\n",
        "    for i in range(pred.shape[0]):\n",
        "        label = np.argmax(pred[i])\n",
        "        print(label)\n",
        "        seq.append(label - 1)\n",
        "    out = []\n",
        "    for i in range(len(seq)):\n",
        "        if len(out) == 0:\n",
        "            if seq[i] != -1:\n",
        "                out.append(seq[i])\n",
        "        else:\n",
        "            if seq[i] != -1 and seq[i] != seq[i - 1]:\n",
        "                out.append(seq[i])\n",
        "    out = ''.join(alphabet[i] for i in out)\n",
        "    return out"
      ],
      "metadata": {
        "id": "USPS0vu8dXv2"
      },
      "execution_count": 13,
      "outputs": []
    },
    {
      "cell_type": "code",
      "source": [
        "decode(predictions.softmax(2))"
      ],
      "metadata": {
        "colab": {
          "base_uri": "https://localhost:8080/"
        },
        "id": "diiuybgFXR5J",
        "outputId": "fe1bc26c-2547-410a-be0b-f777b13bce97"
      },
      "execution_count": 14,
      "outputs": [
        {
          "output_type": "stream",
          "name": "stdout",
          "text": [
            "1\n",
            "0\n",
            "0\n",
            "0\n",
            "37\n",
            "39\n",
            "59\n",
            "59\n",
            "0\n",
            "0\n",
            "0\n",
            "29\n",
            "29\n",
            "29\n",
            "29\n",
            "29\n",
            "29\n",
            "1\n",
            "1\n",
            "1\n",
            "1\n",
            "1\n",
            "1\n",
            "1\n",
            "1\n",
            "1\n",
            "1\n",
            "0\n",
            "0\n",
            "0\n",
            "0\n",
            "0\n",
            "0\n",
            "0\n"
          ]
        },
        {
          "output_type": "execute_result",
          "data": {
            "text/plain": [
              "['стьна']"
            ]
          },
          "metadata": {},
          "execution_count": 14
        }
      ]
    },
    {
      "cell_type": "markdown",
      "source": [
        "Итог:\n",
        "\n",
        "Реализовал обучение сетки CRNN с лоссом CTC.\n",
        "\n",
        "В силу ограничений коллаба, и в целом проблем с ним - было очень мало времени на обучение (около 5 часов), чего не хватило даже близко, для адекватного обучения и получения результатов, в последствии нейронка может распозновать только часть символов.\n",
        "\n",
        "Батч сайз увеличивал до таких размеров как раз из-за ограничений по времени, ЛР пытался тоже поднять, но привело к взрывному градиенту и в последствии уменьшил ЛР.\n",
        "\n",
        "Также в силу того, что спешил скорее сдать не успел реализовать алгоритм оценки модели и сохранение с лучшими параметрами , вместо каждой второй эпохи, но не имело большого значения, так как времени не хватило снизить лосс и на обучающей выборке.\n",
        "\n",
        "Попробовал бы дальше исследование с уменьшением батч сайза, увеличения данных и подобрал бы больше разнообразных данных и с различным шумом, также хотелось бы по-больше по эксперементировать с ЛР"
      ],
      "metadata": {
        "id": "NIG7hnMiivPP"
      }
    },
    {
      "cell_type": "code",
      "source": [],
      "metadata": {
        "id": "hcZvKLsWdxDe"
      },
      "execution_count": null,
      "outputs": []
    }
  ],
  "metadata": {
    "colab": {
      "provenance": []
    },
    "gpuClass": "standard",
    "kernelspec": {
      "display_name": "Python 3",
      "name": "python3"
    },
    "language_info": {
      "name": "python"
    }
  },
  "nbformat": 4,
  "nbformat_minor": 0
}