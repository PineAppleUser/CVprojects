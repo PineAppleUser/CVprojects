{
  "cells": [
    {
      "cell_type": "markdown",
      "source": [
        "<h1>Часть text recognition:</h1>\n",
        "\n",
        "архитектура CRNN и loss func CTC"
      ],
      "metadata": {
        "id": "thuaoOQtkj9d"
      }
    },
    {
      "cell_type": "code",
      "execution_count": 2,
      "metadata": {
        "id": "9E_2jjw9kuW7"
      },
      "outputs": [],
      "source": [
        "import torch\n",
        "import torch.nn as nn\n",
        "import os\n",
        "from torch.utils.data import Dataset, DataLoader, random_split\n",
        "import torch.optim as optim\n",
        "import torchvision.transforms as transforms\n",
        "import cv2\n",
        "from google.colab.patches import cv2_imshow\n",
        "from PIL import Image\n",
        "import numpy as np\n",
        "from tqdm import tqdm\n",
        "from torch.autograd import Variable"
      ]
    },
    {
      "cell_type": "code",
      "execution_count": 1,
      "metadata": {
        "colab": {
          "base_uri": "https://localhost:8080/"
        },
        "id": "tFE27HqCk5W2",
        "outputId": "01c5642e-9c78-4444-bf6c-8b014e16f08d"
      },
      "outputs": [
        {
          "output_type": "stream",
          "name": "stdout",
          "text": [
            "Mounted at /content/drive\n"
          ]
        }
      ],
      "source": [
        "from google.colab import drive\n",
        "drive.mount('/content/drive')"
      ]
    },
    {
      "cell_type": "code",
      "execution_count": null,
      "metadata": {
        "colab": {
          "base_uri": "https://localhost:8080/"
        },
        "id": "WWwA1_q0k8os",
        "outputId": "60422665-c876-487d-dfb6-5c537b4d61a9"
      },
      "outputs": [
        {
          "output_type": "stream",
          "name": "stdout",
          "text": [
            "/content/drive/MyDrive/text_rec_data\n"
          ]
        }
      ],
      "source": [
        "cd drive/MyDrive/text_rec_data"
      ]
    },
    {
      "cell_type": "markdown",
      "source": [
        "Данные не заливались папкой на диск, пришлось архивировать и разархивировать в среде и уменьшить размер в 2 раза, иначе os.listdir() не может считать все файлы и выдает ошибку"
      ],
      "metadata": {
        "id": "cJGPPM-Tk9m0"
      }
    },
    {
      "cell_type": "code",
      "execution_count": null,
      "metadata": {
        "id": "mjbbmcVMk-MF",
        "colab": {
          "base_uri": "https://localhost:8080/"
        },
        "outputId": "17300118-791a-4293-dc1f-08348c4c6e75"
      },
      "outputs": [
        {
          "output_type": "stream",
          "name": "stdout",
          "text": [
            "\u001b[1;30;43mВыходные данные были обрезаны до нескольких последних строк (5000).\u001b[0m\n"
          ]
        }
      ],
      "source": [
        "!unzip /content/drive/MyDrive/text_rec_data/lines_w25.zip"
      ]
    },
    {
      "cell_type": "markdown",
      "source": [
        "Сбор путей до изображений и их текстов. +1 делается, так как в папке есть лишний файл на первом месте = .DS_store."
      ],
      "metadata": {
        "id": "CAWhze6PlPAV"
      }
    },
    {
      "cell_type": "code",
      "execution_count": null,
      "metadata": {
        "id": "UwKDzEdBlIin"
      },
      "outputs": [],
      "source": [
        "path = '/content/drive/MyDrive/text_rec_data/lines_w25/'\n",
        "file_paths = os.listdir(path)\n",
        "file_paths.sort()\n",
        "label_paths = []\n",
        "img_paths = []\n",
        "for i in range(1, len(file_paths)-1, 2):\n",
        "  #print(file_paths[i], file_paths[i+1])\n",
        "  label_paths.append(file_paths[i])\n",
        "  try:\n",
        "    img_paths.append(file_paths[i+1])\n",
        "  except:\n",
        "    print('len of file_paths:',len(file_paths), 'i+1=',i+1)"
      ]
    },
    {
      "cell_type": "code",
      "execution_count": null,
      "metadata": {
        "id": "lwXBVNBSzEek",
        "colab": {
          "base_uri": "https://localhost:8080/"
        },
        "outputId": "4525b17e-b124-4739-8b13-06eabbb71396"
      },
      "outputs": [
        {
          "output_type": "execute_result",
          "data": {
            "text/plain": [
              "(98879, 98879)"
            ]
          },
          "metadata": {},
          "execution_count": 6
        }
      ],
      "source": [
        "len(label_paths), len(img_paths)"
      ]
    },
    {
      "cell_type": "markdown",
      "source": [
        "Кодирование элементов строки"
      ],
      "metadata": {
        "id": "k3fkfpD5lmwH"
      }
    },
    {
      "cell_type": "code",
      "execution_count": null,
      "metadata": {
        "id": "YjciCi2Hzror"
      },
      "outputs": [],
      "source": [
        "alphabet = 'аАбБвВгГдДеЕёЁжЖзЗиИйЙкКлЛмМнНоОпПрРсСтТуУфФхХцЦчЧшШщЩъЪыЫьЬэЭюЮяЯ0123456789-.,: !()\"?;'\n",
        "\n",
        "def encode_to_labels(txt):\n",
        "    dig_lst = []\n",
        "    for index, char in enumerate(txt):\n",
        "        try:\n",
        "            dig_lst.append(alphabet.index(char)+1)\n",
        "        except:\n",
        "            print(char)\n",
        "    return np.array(dig_lst)\n",
        "\n",
        "def decode_to_string(arr):\n",
        "  dec_str = ''\n",
        "  for elem in arr:\n",
        "    dec_str = dec_str + alphabet[elem-1]\n",
        "  return dec_str"
      ]
    },
    {
      "cell_type": "markdown",
      "source": [
        "Кастомный датасет с изображением лейблом и длиной лейбла"
      ],
      "metadata": {
        "id": "jKXe377YlxsW"
      }
    },
    {
      "cell_type": "code",
      "execution_count": null,
      "metadata": {
        "id": "MzvYCKMAzsBc"
      },
      "outputs": [],
      "source": [
        "class rec_Dataset(Dataset):\n",
        "\n",
        "  def __init__(self, img_paths, label_paths, transform_list = None):\n",
        "    self.img_paths = img_paths\n",
        "    self.label_paths = label_paths\n",
        "    self.transform = transforms.Compose(transform_list)\n",
        "\n",
        "  def __len__(self):\n",
        "    return len(self.img_paths)\n",
        "\n",
        "  def __getitem__(self, index):\n",
        "\n",
        "    img = Image.open('/content/drive/MyDrive/text_rec_data/lines_w25/'+self.img_paths[index])\n",
        "    #img = cv2.imread('/content/drive/MyDrive/testFolder/'+self.img_paths[index])\n",
        "    #img = torch.from_numpy(img.transpose((2, 0, 1))).float()\n",
        "    with open('/content/drive/MyDrive/text_rec_data/lines_w25/'+self.label_paths[index], 'r') as file:\n",
        "      seq = file.read().replace('\\n', '')\n",
        "      seq = torch.Tensor(encode_to_labels(seq))\n",
        "\n",
        "    #seq_len = torch.Tensor(len(seq))\n",
        "    seq_len = len(seq)\n",
        "\n",
        "    if self.transform is not None:\n",
        "      img = self.transform(img)\n",
        "\n",
        "    sample = {\"img\": img.cuda(), \"seq\": seq.cuda(), \"seq_len\": seq_len}\n",
        "\n",
        "    return sample"
      ]
    },
    {
      "cell_type": "markdown",
      "source": [
        "Функция для выравнивания текста батча под один размер"
      ],
      "metadata": {
        "id": "Q_ABbKJYl3xK"
      }
    },
    {
      "cell_type": "code",
      "execution_count": null,
      "metadata": {
        "id": "y0E-UNsMz1t1"
      },
      "outputs": [],
      "source": [
        "def text_collate(batch):\n",
        "    img = list()\n",
        "    seq = list()\n",
        "    seq_len = list()\n",
        "    for sample in batch:\n",
        "        #print(sample[\"img\"])\n",
        "        img.append(sample[\"img\"])\n",
        "        seq.extend(sample[\"seq\"])\n",
        "        seq_len.append(sample[\"seq_len\"])\n",
        "    img = torch.stack(img)\n",
        "    seq = torch.Tensor(seq).int()\n",
        "    seq_len = torch.Tensor(seq_len).int()\n",
        "    batch = {\"img\": img, \"seq\": seq, \"seq_len\": seq_len}\n",
        "    return batch"
      ]
    },
    {
      "cell_type": "markdown",
      "source": [
        "Деление на трейн и валидацию и возвращаем сразу готовые dataloader's в нужной пропорции"
      ],
      "metadata": {
        "id": "xP6DfdAmmGwQ"
      }
    },
    {
      "cell_type": "code",
      "execution_count": null,
      "metadata": {
        "id": "zLbNIc4lz19O"
      },
      "outputs": [],
      "source": [
        "def get_loaders(img_paths, label_paths, train_size = 75, btch_size = 256):\n",
        "    \n",
        "  data_transf = [transforms.Grayscale(1),\n",
        "                 transforms.ToTensor(),\n",
        "                 transforms.Resize((32, 128)),\n",
        "                 transforms.Normalize(0.5, 0.25)]\n",
        "  dataset = rec_Dataset(img_paths, label_paths, data_transf)\n",
        "\n",
        "  train_size = (len(dataset)*train_size)//100\n",
        "  val_size = len(dataset) - train_size\n",
        "  train_data, val_data = random_split(dataset, [train_size, val_size])\n",
        "\n",
        "  train_loader = DataLoader(train_data, batch_size = btch_size, shuffle = True, collate_fn=text_collate)\n",
        "  val_loader = DataLoader(val_data,  batch_size = btch_size, shuffle = False, collate_fn=text_collate)\n",
        "\n",
        "  return train_loader, val_loader"
      ]
    },
    {
      "cell_type": "code",
      "execution_count": null,
      "metadata": {
        "id": "s51qPfzTz4Y1"
      },
      "outputs": [],
      "source": [
        "train_loader, val_loader = get_loaders(img_paths, label_paths)"
      ]
    },
    {
      "cell_type": "markdown",
      "source": [
        "Испольуем слой двухнаправленного LSTM  в связке с CRNN"
      ],
      "metadata": {
        "id": "YFCIrHdjmdQW"
      }
    },
    {
      "cell_type": "code",
      "execution_count": 3,
      "metadata": {
        "id": "p0xWkpdx0OJn"
      },
      "outputs": [],
      "source": [
        "class BidirectionalLSTM(nn.Module):\n",
        "\n",
        "    def __init__(self, nIn, nHidden, nOut):\n",
        "        super(BidirectionalLSTM, self).__init__()\n",
        "\n",
        "        self.rnn = nn.LSTM(nIn, nHidden, bidirectional=True)\n",
        "        self.embedding = nn.Linear(nHidden * 2, nOut)\n",
        "\n",
        "    def forward(self, input):\n",
        "        recurrent, _ = self.rnn(input)\n",
        "        T, b, h = recurrent.size()\n",
        "        t_rec = recurrent.view(T * b, h)\n",
        "\n",
        "        output = self.embedding(t_rec)  # [T * b, nOut]\n",
        "        output = output.view(T, b, -1)\n",
        "        return output"
      ]
    },
    {
      "cell_type": "code",
      "execution_count": 4,
      "metadata": {
        "id": "S-8TQ-Ig0Rds"
      },
      "outputs": [],
      "source": [
        "class CRNN_LSTM(nn.Module):\n",
        "\n",
        "  def __init__(self, imgH = 32, nc = 1, nclass = 88, nh = 256 ):\n",
        "    super(CRNN_LSTM, self).__init__()\n",
        "    #\n",
        "    assert imgH % 16 == 0, 'imgH has to be a multiple of 16'\n",
        "\n",
        "    self.conv1 = nn.Conv2d(nc, 64, 3, 1, 1)\n",
        "    self.relu = nn.ReLU(True)\n",
        "    self.pool = nn.MaxPool2d(2)\n",
        "\n",
        "    self.conv2 = nn.Conv2d(64, 128, 3, 1, 1)\n",
        "\n",
        "    self.conv3_1 = nn.Conv2d(128, 256, 3, 1, 1)\n",
        "    self.bn3 = nn.BatchNorm2d(256)\n",
        "    self.conv3_2 = nn.Conv2d(256, 256, 3, 1, 1)\n",
        "    \n",
        "    self.pool_34 = nn.MaxPool2d((2, 2), (2, 1), (0, 1))\n",
        "\n",
        "    self.conv4_1 = nn.Conv2d(256, 512, 3, 1, 1)\n",
        "    self.conv4_2 = nn.Conv2d(512, 512, 3, 1, 1)\n",
        "\n",
        "    self.bn_45 = nn.BatchNorm2d(512)\n",
        "\n",
        "    self.conv5 = nn.Conv2d(512, 512, 2, 1, 0)\n",
        "\n",
        "    self.rnn = nn.Sequential(BidirectionalLSTM(512, nh, nh),\n",
        "                             BidirectionalLSTM(nh, nh, nclass))\n",
        "    \n",
        "  def forward(self, input):\n",
        "\n",
        "    x = self.pool(self.relu(self.conv1(input)))\n",
        "    x = self.pool(self.relu(self.conv2(x)))\n",
        "    x = self.pool_34(self.relu(self.conv3_2(self.relu(self.bn3(self.conv3_1(x))))))\n",
        "    x = self.pool_34(self.relu(self.conv4_2(self.relu(self.bn_45(self.conv4_1(x))))))\n",
        "    conv = self.relu(self.bn_45(self.conv5(x)))\n",
        "\n",
        "    b, c, h, w = conv.size()\n",
        "    assert h == 1, \"the height of conv must be 1\"\n",
        "\n",
        "    conv = conv.squeeze(2)\n",
        "    conv = conv.permute(2, 0, 1)  # [w, b, c]\n",
        "\n",
        "    output = self.rnn(conv)\n",
        "\n",
        "    return output"
      ]
    },
    {
      "cell_type": "markdown",
      "source": [
        "Функция обучения, где перед подачей преобразуем все нужные переменные для лосса в правильный формат и передаем для подсчета, после скейлер передает значения и оптимизирует параметры"
      ],
      "metadata": {
        "id": "MzeDYxSsm2me"
      }
    },
    {
      "cell_type": "code",
      "execution_count": null,
      "metadata": {
        "id": "faJEawUM0S-y"
      },
      "outputs": [],
      "source": [
        "def train_fun(loader, model, optimizer, loss_func, scaler):\n",
        "  batch_size = loader.batch_size\n",
        "  iterator = tqdm(loader)\n",
        "\n",
        "  device_2use = torch.device(\"cuda\" if torch.cuda.is_available() else \"cpu\")\n",
        "\n",
        "  for sample in iterator:\n",
        "\n",
        "    imgs = Variable(sample['img']).to(device_2use)\n",
        "    label = Variable(sample['seq'].view(-1))\n",
        "    label_len = Variable(sample['seq_len'])\n",
        "\n",
        "    with torch.cuda.amp.autocast():\n",
        "      predictions = model(imgs)\n",
        "      log_probs = predictions.log_softmax(2).requires_grad_()\n",
        "      #preds_size = Variable(torch.IntTensor([predictions.size(0)] * batch_size))\n",
        "      input_lengths=Variable( torch.full((log_probs.shape[1],), log_probs.shape[0], dtype=torch.long) )\n",
        "\n",
        "      loss = loss_func(log_probs, label, input_lengths, label_len)\n",
        "\n",
        "    # backward\n",
        "    optimizer.zero_grad()\n",
        "    scaler.scale(loss).backward()\n",
        "    scaler.step(optimizer)\n",
        "    scaler.update()\n",
        "\n",
        "    # update tqdm loop\n",
        "    iterator.set_postfix(loss=loss.item())"
      ]
    },
    {
      "cell_type": "markdown",
      "source": [
        "Адам оптимизатор как самый популярный выбор на равне с SGD, ресурсы не позволяли эксперименты с более верным, так как не осталось аккаунтов, с возможностью работать в колабе на ГПУ. Запускал на 100 эпох, но ресурсы закончились примерно на 50ой эпохе"
      ],
      "metadata": {
        "id": "gwiQ2mxCnPvS"
      }
    },
    {
      "cell_type": "code",
      "execution_count": null,
      "metadata": {
        "colab": {
          "base_uri": "https://localhost:8080/"
        },
        "id": "vc_sMTvk09xX",
        "outputId": "9c5866e7-2407-4d04-9f1e-a75924a7f981"
      },
      "outputs": [
        {
          "output_type": "stream",
          "name": "stderr",
          "text": [
            "  5%|▌         | 15/290 [59:03<48:04, 10.49s/it, loss=4.56]  "
          ]
        },
        {
          "output_type": "stream",
          "name": "stdout",
          "text": [
            ">\n",
            ">\n"
          ]
        },
        {
          "output_type": "stream",
          "name": "stderr",
          "text": [
            "  8%|▊         | 23/290 [59:15<08:36,  1.93s/it, loss=3.93]"
          ]
        },
        {
          "output_type": "stream",
          "name": "stdout",
          "text": [
            "*\n",
            "*\n",
            "*\n"
          ]
        },
        {
          "output_type": "stream",
          "name": "stderr",
          "text": [
            " 10%|█         | 29/290 [59:23<06:25,  1.48s/it, loss=3.74]"
          ]
        },
        {
          "output_type": "stream",
          "name": "stdout",
          "text": [
            "[\n"
          ]
        },
        {
          "output_type": "stream",
          "name": "stderr",
          "text": [
            " 13%|█▎        | 38/290 [59:36<06:00,  1.43s/it, loss=3.54]"
          ]
        },
        {
          "output_type": "stream",
          "name": "stdout",
          "text": [
            ">\n"
          ]
        },
        {
          "output_type": "stream",
          "name": "stderr",
          "text": [
            " 17%|█▋        | 50/290 [59:54<05:47,  1.45s/it, loss=3.39]"
          ]
        },
        {
          "output_type": "stream",
          "name": "stdout",
          "text": [
            ">\n",
            ">\n"
          ]
        },
        {
          "output_type": "stream",
          "name": "stderr",
          "text": [
            " 21%|██        | 60/290 [1:00:08<05:19,  1.39s/it, loss=3.35]"
          ]
        },
        {
          "output_type": "stream",
          "name": "stdout",
          "text": [
            ">\n",
            ">\n"
          ]
        },
        {
          "output_type": "stream",
          "name": "stderr",
          "text": [
            " 23%|██▎       | 67/290 [1:00:17<05:12,  1.40s/it, loss=3.3]"
          ]
        },
        {
          "output_type": "stream",
          "name": "stdout",
          "text": [
            "]\n"
          ]
        },
        {
          "output_type": "stream",
          "name": "stderr",
          "text": [
            " 24%|██▍       | 70/290 [1:00:22<05:03,  1.38s/it, loss=3.31]"
          ]
        },
        {
          "output_type": "stream",
          "name": "stdout",
          "text": [
            "]\n",
            "[\n",
            "]\n"
          ]
        },
        {
          "output_type": "stream",
          "name": "stderr",
          "text": [
            " 27%|██▋       | 79/290 [1:00:34<04:58,  1.41s/it, loss=3.3]"
          ]
        },
        {
          "output_type": "stream",
          "name": "stdout",
          "text": [
            ">\n"
          ]
        },
        {
          "output_type": "stream",
          "name": "stderr",
          "text": [
            " 28%|██▊       | 80/290 [1:00:36<04:53,  1.40s/it, loss=3.29]"
          ]
        },
        {
          "output_type": "stream",
          "name": "stdout",
          "text": [
            "*\n",
            "*\n",
            "*\n"
          ]
        },
        {
          "output_type": "stream",
          "name": "stderr",
          "text": [
            " 28%|██▊       | 82/290 [1:00:38<04:48,  1.39s/it, loss=3.29]"
          ]
        },
        {
          "output_type": "stream",
          "name": "stdout",
          "text": [
            "[\n",
            "]\n"
          ]
        },
        {
          "output_type": "stream",
          "name": "stderr",
          "text": [
            " 31%|███       | 89/290 [1:00:48<04:45,  1.42s/it, loss=3.27]"
          ]
        },
        {
          "output_type": "stream",
          "name": "stdout",
          "text": [
            "]\n"
          ]
        },
        {
          "output_type": "stream",
          "name": "stderr",
          "text": [
            " 40%|████      | 117/290 [1:01:29<04:10,  1.45s/it, loss=3.21]"
          ]
        },
        {
          "output_type": "stream",
          "name": "stdout",
          "text": [
            "[\n"
          ]
        },
        {
          "output_type": "stream",
          "name": "stderr",
          "text": [
            " 47%|████▋     | 137/290 [1:01:58<03:44,  1.47s/it, loss=3.19]"
          ]
        },
        {
          "output_type": "stream",
          "name": "stdout",
          "text": [
            "*\n",
            "*\n",
            "*\n"
          ]
        },
        {
          "output_type": "stream",
          "name": "stderr",
          "text": [
            " 52%|█████▏    | 151/290 [1:02:19<03:33,  1.54s/it, loss=3.17]"
          ]
        },
        {
          "output_type": "stream",
          "name": "stdout",
          "text": [
            "*\n",
            "*\n",
            "*\n"
          ]
        },
        {
          "output_type": "stream",
          "name": "stderr",
          "text": [
            " 67%|██████▋   | 194/290 [1:03:22<02:19,  1.46s/it, loss=3.15]"
          ]
        },
        {
          "output_type": "stream",
          "name": "stdout",
          "text": [
            ">\n",
            ">\n",
            "]\n",
            "[\n",
            "]\n"
          ]
        },
        {
          "output_type": "stream",
          "name": "stderr",
          "text": [
            " 68%|██████▊   | 196/290 [1:03:25<02:21,  1.51s/it, loss=3.15]"
          ]
        },
        {
          "output_type": "stream",
          "name": "stdout",
          "text": [
            "[\n"
          ]
        },
        {
          "output_type": "stream",
          "name": "stderr",
          "text": [
            " 70%|███████   | 204/290 [1:03:37<02:09,  1.51s/it, loss=3.42]"
          ]
        },
        {
          "output_type": "stream",
          "name": "stdout",
          "text": [
            ">\n",
            ">\n",
            ">\n"
          ]
        },
        {
          "output_type": "stream",
          "name": "stderr",
          "text": [
            " 74%|███████▍  | 215/290 [1:03:54<01:55,  1.54s/it, loss=3.35]"
          ]
        },
        {
          "output_type": "stream",
          "name": "stdout",
          "text": [
            "<\n"
          ]
        },
        {
          "output_type": "stream",
          "name": "stderr",
          "text": [
            " 77%|███████▋  | 224/290 [1:04:08<01:39,  1.51s/it, loss=3.25]"
          ]
        },
        {
          "output_type": "stream",
          "name": "stdout",
          "text": [
            ">\n",
            ">\n"
          ]
        },
        {
          "output_type": "stream",
          "name": "stderr",
          "text": [
            " 80%|███████▉  | 231/290 [1:04:18<01:25,  1.45s/it, loss=3.21]"
          ]
        },
        {
          "output_type": "stream",
          "name": "stdout",
          "text": [
            "<\n"
          ]
        },
        {
          "output_type": "stream",
          "name": "stderr",
          "text": [
            " 81%|████████  | 235/290 [1:04:24<01:22,  1.49s/it, loss=3.18]"
          ]
        },
        {
          "output_type": "stream",
          "name": "stdout",
          "text": [
            ">\n",
            ">\n"
          ]
        },
        {
          "output_type": "stream",
          "name": "stderr",
          "text": [
            " 84%|████████▍ | 243/290 [1:04:36<01:10,  1.49s/it, loss=3.13]"
          ]
        },
        {
          "output_type": "stream",
          "name": "stdout",
          "text": [
            "[\n",
            ">\n",
            ">\n"
          ]
        },
        {
          "output_type": "stream",
          "name": "stderr",
          "text": [
            " 84%|████████▍ | 245/290 [1:04:39<01:08,  1.52s/it, loss=3.14]"
          ]
        },
        {
          "output_type": "stream",
          "name": "stdout",
          "text": [
            "[\n",
            "]\n"
          ]
        },
        {
          "output_type": "stream",
          "name": "stderr",
          "text": [
            " 87%|████████▋ | 252/290 [1:04:49<00:56,  1.48s/it, loss=3.09]"
          ]
        },
        {
          "output_type": "stream",
          "name": "stdout",
          "text": [
            ">\n",
            ">\n"
          ]
        },
        {
          "output_type": "stream",
          "name": "stderr",
          "text": [
            " 91%|█████████▏| 265/290 [1:05:09<00:36,  1.45s/it, loss=3.21]"
          ]
        },
        {
          "output_type": "stream",
          "name": "stdout",
          "text": [
            ">\n"
          ]
        },
        {
          "output_type": "stream",
          "name": "stderr",
          "text": [
            " 92%|█████████▏| 268/290 [1:05:13<00:32,  1.50s/it, loss=3.1]"
          ]
        },
        {
          "output_type": "stream",
          "name": "stdout",
          "text": [
            "[\n",
            "]\n"
          ]
        },
        {
          "output_type": "stream",
          "name": "stderr",
          "text": [
            " 94%|█████████▍| 272/290 [1:05:19<00:26,  1.49s/it, loss=3.2]"
          ]
        },
        {
          "output_type": "stream",
          "name": "stdout",
          "text": [
            ">\n",
            ">\n"
          ]
        },
        {
          "output_type": "stream",
          "name": "stderr",
          "text": [
            " 97%|█████████▋| 280/290 [1:05:31<00:14,  1.48s/it, loss=3.53]"
          ]
        },
        {
          "output_type": "stream",
          "name": "stdout",
          "text": [
            ">\n",
            ">\n"
          ]
        },
        {
          "output_type": "stream",
          "name": "stderr",
          "text": [
            " 98%|█████████▊| 285/290 [1:05:39<00:07,  1.56s/it, loss=3.75]"
          ]
        },
        {
          "output_type": "stream",
          "name": "stdout",
          "text": [
            "[\n",
            "]\n"
          ]
        },
        {
          "output_type": "stream",
          "name": "stderr",
          "text": [
            "100%|██████████| 290/290 [1:05:46<00:00, 13.61s/it, loss=3.28]\n",
            "  3%|▎         | 9/290 [00:09<05:07,  1.09s/it, loss=3.19]"
          ]
        },
        {
          "output_type": "stream",
          "name": "stdout",
          "text": [
            ">\n"
          ]
        },
        {
          "output_type": "stream",
          "name": "stderr",
          "text": [
            "  4%|▍         | 13/290 [00:14<04:57,  1.08s/it, loss=3.2]"
          ]
        },
        {
          "output_type": "stream",
          "name": "stdout",
          "text": [
            ">\n",
            ">\n"
          ]
        },
        {
          "output_type": "stream",
          "name": "stderr",
          "text": [
            "  7%|▋         | 20/290 [00:21<04:49,  1.07s/it, loss=3.2]"
          ]
        },
        {
          "output_type": "stream",
          "name": "stdout",
          "text": [
            "]\n"
          ]
        },
        {
          "output_type": "stream",
          "name": "stderr",
          "text": [
            "  9%|▉         | 27/290 [00:29<04:52,  1.11s/it, loss=3.15]"
          ]
        },
        {
          "output_type": "stream",
          "name": "stdout",
          "text": [
            ">\n",
            ">\n"
          ]
        },
        {
          "output_type": "stream",
          "name": "stderr",
          "text": [
            " 10%|▉         | 28/290 [00:30<04:51,  1.11s/it, loss=3.11]"
          ]
        },
        {
          "output_type": "stream",
          "name": "stdout",
          "text": [
            ">\n",
            ">\n"
          ]
        },
        {
          "output_type": "stream",
          "name": "stderr",
          "text": [
            " 12%|█▏        | 34/290 [00:36<04:38,  1.09s/it, loss=3.13]"
          ]
        },
        {
          "output_type": "stream",
          "name": "stdout",
          "text": [
            "*\n",
            "*\n",
            "*\n"
          ]
        },
        {
          "output_type": "stream",
          "name": "stderr",
          "text": [
            " 12%|█▏        | 36/290 [00:38<04:37,  1.09s/it, loss=3.09]"
          ]
        },
        {
          "output_type": "stream",
          "name": "stdout",
          "text": [
            ">\n"
          ]
        },
        {
          "output_type": "stream",
          "name": "stderr",
          "text": [
            " 15%|█▌        | 44/290 [00:47<04:30,  1.10s/it, loss=3.05]"
          ]
        },
        {
          "output_type": "stream",
          "name": "stdout",
          "text": [
            "*\n",
            "*\n",
            "*\n"
          ]
        },
        {
          "output_type": "stream",
          "name": "stderr",
          "text": [
            " 16%|█▌        | 47/290 [00:50<04:23,  1.09s/it, loss=3.09]"
          ]
        },
        {
          "output_type": "stream",
          "name": "stdout",
          "text": [
            ">\n",
            ">\n",
            ">\n",
            ">\n"
          ]
        },
        {
          "output_type": "stream",
          "name": "stderr",
          "text": [
            " 19%|█▉        | 55/290 [00:59<04:17,  1.10s/it, loss=3.11]"
          ]
        },
        {
          "output_type": "stream",
          "name": "stdout",
          "text": [
            ">\n",
            ">\n"
          ]
        },
        {
          "output_type": "stream",
          "name": "stderr",
          "text": [
            " 27%|██▋       | 78/290 [01:24<03:52,  1.09s/it, loss=3.03]"
          ]
        },
        {
          "output_type": "stream",
          "name": "stdout",
          "text": [
            "[\n"
          ]
        },
        {
          "output_type": "stream",
          "name": "stderr",
          "text": [
            " 31%|███       | 90/290 [01:37<03:39,  1.10s/it, loss=3.07]"
          ]
        },
        {
          "output_type": "stream",
          "name": "stdout",
          "text": [
            ">\n",
            ">\n"
          ]
        },
        {
          "output_type": "stream",
          "name": "stderr",
          "text": [
            " 31%|███▏      | 91/290 [01:38<03:37,  1.10s/it, loss=3.05]"
          ]
        },
        {
          "output_type": "stream",
          "name": "stdout",
          "text": [
            "<\n"
          ]
        },
        {
          "output_type": "stream",
          "name": "stderr",
          "text": [
            " 32%|███▏      | 94/290 [01:41<03:36,  1.10s/it, loss=3]"
          ]
        },
        {
          "output_type": "stream",
          "name": "stdout",
          "text": [
            "[\n",
            "]\n"
          ]
        },
        {
          "output_type": "stream",
          "name": "stderr",
          "text": [
            " 39%|███▉      | 113/290 [02:02<03:14,  1.10s/it, loss=3.05]"
          ]
        },
        {
          "output_type": "stream",
          "name": "stdout",
          "text": [
            "]\n",
            "[\n",
            "]\n"
          ]
        },
        {
          "output_type": "stream",
          "name": "stderr",
          "text": [
            " 40%|███▉      | 115/290 [02:04<03:12,  1.10s/it, loss=3]"
          ]
        },
        {
          "output_type": "stream",
          "name": "stdout",
          "text": [
            "[\n"
          ]
        },
        {
          "output_type": "stream",
          "name": "stderr",
          "text": [
            " 60%|██████    | 174/290 [03:08<02:03,  1.06s/it, loss=2.96]"
          ]
        },
        {
          "output_type": "stream",
          "name": "stdout",
          "text": [
            "[\n"
          ]
        },
        {
          "output_type": "stream",
          "name": "stderr",
          "text": [
            " 69%|██████▉   | 200/290 [03:36<01:38,  1.09s/it, loss=2.94]"
          ]
        },
        {
          "output_type": "stream",
          "name": "stdout",
          "text": [
            "*\n",
            "*\n",
            "*\n"
          ]
        },
        {
          "output_type": "stream",
          "name": "stderr",
          "text": [
            " 70%|███████   | 204/290 [03:41<01:33,  1.09s/it, loss=2.91]"
          ]
        },
        {
          "output_type": "stream",
          "name": "stdout",
          "text": [
            ">\n",
            ">\n"
          ]
        },
        {
          "output_type": "stream",
          "name": "stderr",
          "text": [
            " 72%|███████▏  | 208/290 [03:45<01:25,  1.05s/it, loss=2.89]"
          ]
        },
        {
          "output_type": "stream",
          "name": "stdout",
          "text": [
            ">\n",
            ">\n"
          ]
        },
        {
          "output_type": "stream",
          "name": "stderr",
          "text": [
            " 76%|███████▌  | 221/290 [03:58<01:13,  1.07s/it, loss=2.81]"
          ]
        },
        {
          "output_type": "stream",
          "name": "stdout",
          "text": [
            "*\n",
            "*\n",
            "*\n"
          ]
        },
        {
          "output_type": "stream",
          "name": "stderr",
          "text": [
            " 77%|███████▋  | 222/290 [04:00<01:13,  1.08s/it, loss=2.83]"
          ]
        },
        {
          "output_type": "stream",
          "name": "stdout",
          "text": [
            "[\n",
            "]\n"
          ]
        },
        {
          "output_type": "stream",
          "name": "stderr",
          "text": [
            " 78%|███████▊  | 227/290 [04:05<01:09,  1.10s/it, loss=2.79]"
          ]
        },
        {
          "output_type": "stream",
          "name": "stdout",
          "text": [
            ">\n"
          ]
        },
        {
          "output_type": "stream",
          "name": "stderr",
          "text": [
            " 79%|███████▉  | 229/290 [04:07<01:05,  1.07s/it, loss=2.74]"
          ]
        },
        {
          "output_type": "stream",
          "name": "stdout",
          "text": [
            "<\n"
          ]
        },
        {
          "output_type": "stream",
          "name": "stderr",
          "text": [
            " 90%|█████████ | 262/290 [04:43<00:29,  1.06s/it, loss=2.68]"
          ]
        },
        {
          "output_type": "stream",
          "name": "stdout",
          "text": [
            ">\n",
            ">\n",
            "[\n",
            "]\n"
          ]
        },
        {
          "output_type": "stream",
          "name": "stderr",
          "text": [
            " 91%|█████████ | 263/290 [04:44<00:29,  1.08s/it, loss=2.74]"
          ]
        },
        {
          "output_type": "stream",
          "name": "stdout",
          "text": [
            "]\n",
            "[\n",
            "]\n",
            "[\n"
          ]
        },
        {
          "output_type": "stream",
          "name": "stderr",
          "text": [
            " 92%|█████████▏| 266/290 [04:47<00:25,  1.05s/it, loss=2.71]"
          ]
        },
        {
          "output_type": "stream",
          "name": "stdout",
          "text": [
            "[\n",
            "]\n"
          ]
        },
        {
          "output_type": "stream",
          "name": "stderr",
          "text": [
            " 93%|█████████▎| 270/290 [04:51<00:20,  1.04s/it, loss=2.67]"
          ]
        },
        {
          "output_type": "stream",
          "name": "stdout",
          "text": [
            "]\n"
          ]
        },
        {
          "output_type": "stream",
          "name": "stderr",
          "text": [
            " 98%|█████████▊| 285/290 [05:07<00:05,  1.06s/it, loss=2.65]"
          ]
        },
        {
          "output_type": "stream",
          "name": "stdout",
          "text": [
            ">\n",
            ">\n",
            ">\n"
          ]
        },
        {
          "output_type": "stream",
          "name": "stderr",
          "text": [
            "100%|██████████| 290/290 [05:12<00:00,  1.08s/it, loss=2.69]\n"
          ]
        },
        {
          "output_type": "stream",
          "name": "stdout",
          "text": [
            "checkpoint_ep1.pth.tar saved\n"
          ]
        },
        {
          "output_type": "stream",
          "name": "stderr",
          "text": [
            "  1%|          | 3/290 [00:03<05:07,  1.07s/it, loss=2.62]"
          ]
        },
        {
          "output_type": "stream",
          "name": "stdout",
          "text": [
            ">\n",
            ">\n"
          ]
        },
        {
          "output_type": "stream",
          "name": "stderr",
          "text": [
            "  3%|▎         | 8/290 [00:08<04:58,  1.06s/it, loss=2.6]"
          ]
        },
        {
          "output_type": "stream",
          "name": "stdout",
          "text": [
            "[\n"
          ]
        },
        {
          "output_type": "stream",
          "name": "stderr",
          "text": [
            " 12%|█▏        | 34/290 [00:36<04:30,  1.06s/it, loss=2.7]"
          ]
        },
        {
          "output_type": "stream",
          "name": "stdout",
          "text": [
            ">\n",
            ">\n"
          ]
        },
        {
          "output_type": "stream",
          "name": "stderr",
          "text": [
            " 13%|█▎        | 38/290 [00:40<04:26,  1.06s/it, loss=2.98]"
          ]
        },
        {
          "output_type": "stream",
          "name": "stdout",
          "text": [
            ">\n",
            ">\n"
          ]
        },
        {
          "output_type": "stream",
          "name": "stderr",
          "text": [
            " 15%|█▌        | 44/290 [00:46<04:24,  1.08s/it, loss=2.84]"
          ]
        },
        {
          "output_type": "stream",
          "name": "stdout",
          "text": [
            "*\n",
            "*\n",
            "*\n"
          ]
        },
        {
          "output_type": "stream",
          "name": "stderr",
          "text": [
            " 20%|█▉        | 57/290 [01:00<04:03,  1.04s/it, loss=2.72]"
          ]
        },
        {
          "output_type": "stream",
          "name": "stdout",
          "text": [
            ">\n",
            ">\n"
          ]
        },
        {
          "output_type": "stream",
          "name": "stderr",
          "text": [
            " 32%|███▏      | 92/290 [01:37<03:27,  1.05s/it, loss=2.62]"
          ]
        },
        {
          "output_type": "stream",
          "name": "stdout",
          "text": [
            "]\n",
            "[\n",
            "]\n"
          ]
        },
        {
          "output_type": "stream",
          "name": "stderr",
          "text": [
            " 32%|███▏      | 94/290 [01:39<03:29,  1.07s/it, loss=2.63]"
          ]
        },
        {
          "output_type": "stream",
          "name": "stdout",
          "text": [
            "[\n",
            "]\n"
          ]
        },
        {
          "output_type": "stream",
          "name": "stderr",
          "text": [
            " 34%|███▍      | 99/290 [01:45<03:28,  1.09s/it, loss=2.61]"
          ]
        },
        {
          "output_type": "stream",
          "name": "stdout",
          "text": [
            ">\n",
            ">\n"
          ]
        },
        {
          "output_type": "stream",
          "name": "stderr",
          "text": [
            " 42%|████▏     | 122/290 [02:09<02:58,  1.06s/it, loss=2.47]"
          ]
        },
        {
          "output_type": "stream",
          "name": "stdout",
          "text": [
            "*\n",
            "*\n",
            "*\n"
          ]
        },
        {
          "output_type": "stream",
          "name": "stderr",
          "text": [
            " 47%|████▋     | 135/290 [02:23<02:47,  1.08s/it, loss=2.45]"
          ]
        },
        {
          "output_type": "stream",
          "name": "stdout",
          "text": [
            "[\n",
            "]\n"
          ]
        },
        {
          "output_type": "stream",
          "name": "stderr",
          "text": [
            " 47%|████▋     | 137/290 [02:25<02:45,  1.08s/it, loss=2.43]"
          ]
        },
        {
          "output_type": "stream",
          "name": "stdout",
          "text": [
            ">\n"
          ]
        },
        {
          "output_type": "stream",
          "name": "stderr",
          "text": [
            " 48%|████▊     | 138/290 [02:26<02:43,  1.07s/it, loss=2.47]"
          ]
        },
        {
          "output_type": "stream",
          "name": "stdout",
          "text": [
            "[\n"
          ]
        },
        {
          "output_type": "stream",
          "name": "stderr",
          "text": [
            " 49%|████▉     | 142/290 [02:31<02:37,  1.06s/it, loss=2.56]"
          ]
        },
        {
          "output_type": "stream",
          "name": "stdout",
          "text": [
            "]\n"
          ]
        },
        {
          "output_type": "stream",
          "name": "stderr",
          "text": [
            " 51%|█████     | 147/290 [02:36<02:31,  1.06s/it, loss=2.69]"
          ]
        },
        {
          "output_type": "stream",
          "name": "stdout",
          "text": [
            "[\n",
            "]\n"
          ]
        },
        {
          "output_type": "stream",
          "name": "stderr",
          "text": [
            " 53%|█████▎    | 155/290 [02:45<02:26,  1.08s/it, loss=2.54]"
          ]
        },
        {
          "output_type": "stream",
          "name": "stdout",
          "text": [
            "<\n"
          ]
        },
        {
          "output_type": "stream",
          "name": "stderr",
          "text": [
            " 67%|██████▋   | 193/290 [03:26<01:43,  1.06s/it, loss=2.46]"
          ]
        },
        {
          "output_type": "stream",
          "name": "stdout",
          "text": [
            "<\n"
          ]
        },
        {
          "output_type": "stream",
          "name": "stderr",
          "text": [
            " 68%|██████▊   | 198/290 [03:31<01:38,  1.07s/it, loss=2.46]"
          ]
        },
        {
          "output_type": "stream",
          "name": "stdout",
          "text": [
            ">\n"
          ]
        },
        {
          "output_type": "stream",
          "name": "stderr",
          "text": [
            " 73%|███████▎  | 212/290 [03:46<01:23,  1.07s/it, loss=2.49]"
          ]
        },
        {
          "output_type": "stream",
          "name": "stdout",
          "text": [
            "*\n",
            "*\n",
            "*\n"
          ]
        },
        {
          "output_type": "stream",
          "name": "stderr",
          "text": [
            " 73%|███████▎  | 213/290 [03:47<01:26,  1.12s/it, loss=2.49]"
          ]
        },
        {
          "output_type": "stream",
          "name": "stdout",
          "text": [
            "[\n",
            "]\n"
          ]
        },
        {
          "output_type": "stream",
          "name": "stderr",
          "text": [
            " 75%|███████▌  | 218/290 [03:53<01:19,  1.10s/it, loss=2.49]"
          ]
        },
        {
          "output_type": "stream",
          "name": "stdout",
          "text": [
            "[\n"
          ]
        },
        {
          "output_type": "stream",
          "name": "stderr",
          "text": [
            " 76%|███████▌  | 220/290 [03:55<01:15,  1.09s/it, loss=2.46]"
          ]
        },
        {
          "output_type": "stream",
          "name": "stdout",
          "text": [
            ">\n",
            ">\n",
            ">\n"
          ]
        },
        {
          "output_type": "stream",
          "name": "stderr",
          "text": [
            " 77%|███████▋  | 223/290 [03:58<01:10,  1.05s/it, loss=2.45]"
          ]
        },
        {
          "output_type": "stream",
          "name": "stdout",
          "text": [
            ">\n"
          ]
        },
        {
          "output_type": "stream",
          "name": "stderr",
          "text": [
            " 78%|███████▊  | 225/290 [04:00<01:08,  1.06s/it, loss=2.43]"
          ]
        },
        {
          "output_type": "stream",
          "name": "stdout",
          "text": [
            "*\n",
            "*\n",
            "*\n"
          ]
        },
        {
          "output_type": "stream",
          "name": "stderr",
          "text": [
            " 79%|███████▊  | 228/290 [04:03<01:05,  1.06s/it, loss=2.45]"
          ]
        },
        {
          "output_type": "stream",
          "name": "stdout",
          "text": [
            ">\n",
            ">\n"
          ]
        },
        {
          "output_type": "stream",
          "name": "stderr",
          "text": [
            " 81%|████████  | 235/290 [04:11<00:58,  1.06s/it, loss=2.36]"
          ]
        },
        {
          "output_type": "stream",
          "name": "stdout",
          "text": [
            "]\n"
          ]
        },
        {
          "output_type": "stream",
          "name": "stderr",
          "text": [
            " 84%|████████▍ | 245/290 [04:22<00:50,  1.13s/it, loss=2.43]"
          ]
        },
        {
          "output_type": "stream",
          "name": "stdout",
          "text": [
            ">\n",
            ">\n"
          ]
        },
        {
          "output_type": "stream",
          "name": "stderr",
          "text": [
            " 85%|████████▌ | 247/290 [04:24<00:47,  1.10s/it, loss=2.5]"
          ]
        },
        {
          "output_type": "stream",
          "name": "stdout",
          "text": [
            ">\n",
            ">\n"
          ]
        },
        {
          "output_type": "stream",
          "name": "stderr",
          "text": [
            " 87%|████████▋ | 251/290 [04:28<00:41,  1.06s/it, loss=2.52]"
          ]
        },
        {
          "output_type": "stream",
          "name": "stdout",
          "text": [
            "]\n",
            "[\n",
            "]\n"
          ]
        },
        {
          "output_type": "stream",
          "name": "stderr",
          "text": [
            " 91%|█████████ | 264/290 [04:42<00:27,  1.06s/it, loss=2.41]"
          ]
        },
        {
          "output_type": "stream",
          "name": "stdout",
          "text": [
            ">\n",
            ">\n"
          ]
        },
        {
          "output_type": "stream",
          "name": "stderr",
          "text": [
            " 92%|█████████▏| 267/290 [04:45<00:24,  1.05s/it, loss=2.31]"
          ]
        },
        {
          "output_type": "stream",
          "name": "stdout",
          "text": [
            "[\n"
          ]
        },
        {
          "output_type": "stream",
          "name": "stderr",
          "text": [
            " 92%|█████████▏| 268/290 [04:46<00:23,  1.05s/it, loss=2.34]"
          ]
        },
        {
          "output_type": "stream",
          "name": "stdout",
          "text": [
            ">\n",
            ">\n"
          ]
        },
        {
          "output_type": "stream",
          "name": "stderr",
          "text": [
            "100%|██████████| 290/290 [05:09<00:00,  1.07s/it, loss=2.3]\n",
            "  2%|▏         | 6/290 [00:06<05:10,  1.09s/it, loss=2.23]"
          ]
        },
        {
          "output_type": "stream",
          "name": "stdout",
          "text": [
            ">\n",
            ">\n"
          ]
        },
        {
          "output_type": "stream",
          "name": "stderr",
          "text": [
            "  3%|▎         | 8/290 [00:08<05:03,  1.08s/it, loss=2.26]"
          ]
        },
        {
          "output_type": "stream",
          "name": "stdout",
          "text": [
            "*\n",
            "*\n",
            "*\n"
          ]
        },
        {
          "output_type": "stream",
          "name": "stderr",
          "text": [
            "  9%|▊         | 25/290 [00:26<04:44,  1.07s/it, loss=2.21]"
          ]
        },
        {
          "output_type": "stream",
          "name": "stdout",
          "text": [
            "[\n",
            "]\n"
          ]
        },
        {
          "output_type": "stream",
          "name": "stderr",
          "text": [
            " 11%|█         | 32/290 [00:34<04:29,  1.04s/it, loss=2.19]"
          ]
        },
        {
          "output_type": "stream",
          "name": "stdout",
          "text": [
            ">\n"
          ]
        },
        {
          "output_type": "stream",
          "name": "stderr",
          "text": [
            " 13%|█▎        | 37/290 [00:39<04:33,  1.08s/it, loss=2.21]"
          ]
        },
        {
          "output_type": "stream",
          "name": "stdout",
          "text": [
            ">\n",
            ">\n"
          ]
        },
        {
          "output_type": "stream",
          "name": "stderr",
          "text": [
            " 20%|█▉        | 57/290 [01:00<04:11,  1.08s/it, loss=2.26]"
          ]
        },
        {
          "output_type": "stream",
          "name": "stdout",
          "text": [
            ">\n",
            ">\n",
            ">\n"
          ]
        },
        {
          "output_type": "stream",
          "name": "stderr",
          "text": [
            " 20%|██        | 59/290 [01:02<04:03,  1.05s/it, loss=2.17]"
          ]
        },
        {
          "output_type": "stream",
          "name": "stdout",
          "text": [
            "*\n",
            "*\n",
            "*\n"
          ]
        },
        {
          "output_type": "stream",
          "name": "stderr",
          "text": [
            " 21%|██        | 61/290 [01:04<04:00,  1.05s/it, loss=2.23]"
          ]
        },
        {
          "output_type": "stream",
          "name": "stdout",
          "text": [
            ">\n",
            ">\n"
          ]
        },
        {
          "output_type": "stream",
          "name": "stderr",
          "text": [
            " 25%|██▌       | 73/290 [01:17<03:54,  1.08s/it, loss=2.15]"
          ]
        },
        {
          "output_type": "stream",
          "name": "stdout",
          "text": [
            "]\n"
          ]
        },
        {
          "output_type": "stream",
          "name": "stderr",
          "text": [
            " 28%|██▊       | 81/290 [01:26<03:43,  1.07s/it, loss=2.21]"
          ]
        },
        {
          "output_type": "stream",
          "name": "stdout",
          "text": [
            "]\n"
          ]
        },
        {
          "output_type": "stream",
          "name": "stderr",
          "text": [
            " 32%|███▏      | 94/290 [01:40<03:34,  1.10s/it, loss=2.16]"
          ]
        },
        {
          "output_type": "stream",
          "name": "stdout",
          "text": [
            ">\n",
            ">\n"
          ]
        },
        {
          "output_type": "stream",
          "name": "stderr",
          "text": [
            " 33%|███▎      | 97/290 [01:43<03:40,  1.14s/it, loss=2.11]"
          ]
        },
        {
          "output_type": "stream",
          "name": "stdout",
          "text": [
            "[\n"
          ]
        },
        {
          "output_type": "stream",
          "name": "stderr",
          "text": [
            " 34%|███▍      | 98/290 [01:44<03:38,  1.14s/it, loss=2.22]"
          ]
        },
        {
          "output_type": "stream",
          "name": "stdout",
          "text": [
            ">\n",
            ">\n"
          ]
        },
        {
          "output_type": "stream",
          "name": "stderr",
          "text": [
            " 34%|███▍      | 100/290 [01:47<03:31,  1.11s/it, loss=2.29]"
          ]
        },
        {
          "output_type": "stream",
          "name": "stdout",
          "text": [
            "[\n",
            "]\n"
          ]
        },
        {
          "output_type": "stream",
          "name": "stderr",
          "text": [
            " 35%|███▌      | 102/290 [01:49<03:28,  1.11s/it, loss=2.2]"
          ]
        },
        {
          "output_type": "stream",
          "name": "stdout",
          "text": [
            ">\n"
          ]
        },
        {
          "output_type": "stream",
          "name": "stderr",
          "text": [
            " 40%|███▉      | 115/290 [02:02<03:06,  1.06s/it, loss=2.2]"
          ]
        },
        {
          "output_type": "stream",
          "name": "stdout",
          "text": [
            "[\n",
            "]\n"
          ]
        },
        {
          "output_type": "stream",
          "name": "stderr",
          "text": [
            " 41%|████      | 119/290 [02:07<03:01,  1.06s/it, loss=2.11]"
          ]
        },
        {
          "output_type": "stream",
          "name": "stdout",
          "text": [
            "]\n",
            "[\n",
            "]\n"
          ]
        },
        {
          "output_type": "stream",
          "name": "stderr",
          "text": [
            " 42%|████▏     | 123/290 [02:11<03:01,  1.09s/it, loss=2.15]"
          ]
        },
        {
          "output_type": "stream",
          "name": "stdout",
          "text": [
            "]\n",
            "[\n",
            "]\n"
          ]
        },
        {
          "output_type": "stream",
          "name": "stderr",
          "text": [
            " 49%|████▊     | 141/290 [02:30<02:36,  1.05s/it, loss=2.45]"
          ]
        },
        {
          "output_type": "stream",
          "name": "stdout",
          "text": [
            "[\n"
          ]
        },
        {
          "output_type": "stream",
          "name": "stderr",
          "text": [
            " 55%|█████▍    | 159/290 [02:49<02:17,  1.05s/it, loss=2.11]"
          ]
        },
        {
          "output_type": "stream",
          "name": "stdout",
          "text": [
            ">\n"
          ]
        },
        {
          "output_type": "stream",
          "name": "stderr",
          "text": [
            " 60%|██████    | 175/290 [03:06<02:00,  1.05s/it, loss=2.17]"
          ]
        },
        {
          "output_type": "stream",
          "name": "stdout",
          "text": [
            "[\n"
          ]
        },
        {
          "output_type": "stream",
          "name": "stderr",
          "text": [
            " 64%|██████▍   | 185/290 [03:17<01:57,  1.12s/it, loss=2.12]"
          ]
        },
        {
          "output_type": "stream",
          "name": "stdout",
          "text": [
            ">\n",
            ">\n"
          ]
        },
        {
          "output_type": "stream",
          "name": "stderr",
          "text": [
            " 64%|██████▍   | 187/290 [03:19<01:54,  1.11s/it, loss=2.12]"
          ]
        },
        {
          "output_type": "stream",
          "name": "stdout",
          "text": [
            ">\n",
            ">\n"
          ]
        },
        {
          "output_type": "stream",
          "name": "stderr",
          "text": [
            " 67%|██████▋   | 195/290 [03:28<01:39,  1.05s/it, loss=2.11]"
          ]
        },
        {
          "output_type": "stream",
          "name": "stdout",
          "text": [
            "*\n",
            "*\n",
            "*\n"
          ]
        },
        {
          "output_type": "stream",
          "name": "stderr",
          "text": [
            " 75%|███████▌  | 218/290 [03:52<01:15,  1.05s/it, loss=1.95]"
          ]
        },
        {
          "output_type": "stream",
          "name": "stdout",
          "text": [
            ">\n",
            ">\n"
          ]
        },
        {
          "output_type": "stream",
          "name": "stderr",
          "text": [
            " 78%|███████▊  | 227/290 [04:02<01:08,  1.08s/it, loss=1.99]"
          ]
        },
        {
          "output_type": "stream",
          "name": "stdout",
          "text": [
            "*\n",
            "*\n",
            "*\n"
          ]
        },
        {
          "output_type": "stream",
          "name": "stderr",
          "text": [
            " 86%|████████▌ | 248/290 [04:25<00:45,  1.08s/it, loss=2.03]"
          ]
        },
        {
          "output_type": "stream",
          "name": "stdout",
          "text": [
            "<\n"
          ]
        },
        {
          "output_type": "stream",
          "name": "stderr",
          "text": [
            " 86%|████████▌ | 249/290 [04:26<00:44,  1.08s/it, loss=2.07]"
          ]
        },
        {
          "output_type": "stream",
          "name": "stdout",
          "text": [
            ">\n",
            ">\n"
          ]
        },
        {
          "output_type": "stream",
          "name": "stderr",
          "text": [
            " 86%|████████▌ | 250/290 [04:27<00:43,  1.09s/it, loss=2.08]"
          ]
        },
        {
          "output_type": "stream",
          "name": "stdout",
          "text": [
            "[\n",
            "]\n"
          ]
        },
        {
          "output_type": "stream",
          "name": "stderr",
          "text": [
            " 87%|████████▋ | 251/290 [04:28<00:42,  1.10s/it, loss=2.01]"
          ]
        },
        {
          "output_type": "stream",
          "name": "stdout",
          "text": [
            "[\n"
          ]
        },
        {
          "output_type": "stream",
          "name": "stderr",
          "text": [
            " 90%|████████▉ | 260/290 [04:37<00:31,  1.06s/it, loss=1.93]"
          ]
        },
        {
          "output_type": "stream",
          "name": "stdout",
          "text": [
            ">\n",
            ">\n",
            "<\n"
          ]
        },
        {
          "output_type": "stream",
          "name": "stderr",
          "text": [
            "100%|██████████| 290/290 [05:09<00:00,  1.07s/it, loss=1.88]\n"
          ]
        },
        {
          "output_type": "stream",
          "name": "stdout",
          "text": [
            "checkpoint_ep3.pth.tar saved\n"
          ]
        },
        {
          "output_type": "stream",
          "name": "stderr",
          "text": [
            "  6%|▌         | 16/290 [00:16<04:53,  1.07s/it, loss=1.82]"
          ]
        },
        {
          "output_type": "stream",
          "name": "stdout",
          "text": [
            "]\n",
            "[\n",
            "]\n"
          ]
        },
        {
          "output_type": "stream",
          "name": "stderr",
          "text": [
            "  6%|▌         | 17/290 [00:18<04:50,  1.07s/it, loss=1.89]"
          ]
        },
        {
          "output_type": "stream",
          "name": "stdout",
          "text": [
            ">\n",
            ">\n"
          ]
        },
        {
          "output_type": "stream",
          "name": "stderr",
          "text": [
            " 12%|█▏        | 36/290 [00:38<04:34,  1.08s/it, loss=1.83]"
          ]
        },
        {
          "output_type": "stream",
          "name": "stdout",
          "text": [
            "]\n"
          ]
        },
        {
          "output_type": "stream",
          "name": "stderr",
          "text": [
            " 16%|█▌        | 45/290 [00:47<04:22,  1.07s/it, loss=1.79]"
          ]
        },
        {
          "output_type": "stream",
          "name": "stdout",
          "text": [
            "[\n"
          ]
        },
        {
          "output_type": "stream",
          "name": "stderr",
          "text": [
            " 18%|█▊        | 52/290 [00:55<04:09,  1.05s/it, loss=1.75]"
          ]
        },
        {
          "output_type": "stream",
          "name": "stdout",
          "text": [
            "[\n"
          ]
        },
        {
          "output_type": "stream",
          "name": "stderr",
          "text": [
            " 20%|██        | 58/290 [01:01<04:09,  1.08s/it, loss=1.76]"
          ]
        },
        {
          "output_type": "stream",
          "name": "stdout",
          "text": [
            "<\n"
          ]
        },
        {
          "output_type": "stream",
          "name": "stderr",
          "text": [
            " 21%|██▏       | 62/290 [01:05<04:04,  1.07s/it, loss=1.84]"
          ]
        },
        {
          "output_type": "stream",
          "name": "stdout",
          "text": [
            "*\n",
            "*\n",
            "*\n",
            "[\n",
            "]\n"
          ]
        },
        {
          "output_type": "stream",
          "name": "stderr",
          "text": [
            " 22%|██▏       | 63/290 [01:07<04:09,  1.10s/it, loss=1.69]"
          ]
        },
        {
          "output_type": "stream",
          "name": "stdout",
          "text": [
            ">\n",
            ">\n"
          ]
        },
        {
          "output_type": "stream",
          "name": "stderr",
          "text": [
            " 27%|██▋       | 77/290 [01:21<03:44,  1.06s/it, loss=1.79]"
          ]
        },
        {
          "output_type": "stream",
          "name": "stdout",
          "text": [
            ">\n"
          ]
        },
        {
          "output_type": "stream",
          "name": "stderr",
          "text": [
            " 33%|███▎      | 96/290 [01:42<03:31,  1.09s/it, loss=1.95]"
          ]
        },
        {
          "output_type": "stream",
          "name": "stdout",
          "text": [
            "]\n",
            "[\n",
            "]\n"
          ]
        },
        {
          "output_type": "stream",
          "name": "stderr",
          "text": [
            " 36%|███▌      | 105/290 [01:51<03:15,  1.06s/it, loss=1.7]"
          ]
        },
        {
          "output_type": "stream",
          "name": "stdout",
          "text": [
            ">\n",
            ">\n"
          ]
        },
        {
          "output_type": "stream",
          "name": "stderr",
          "text": [
            " 37%|███▋      | 106/290 [01:52<03:13,  1.05s/it, loss=1.72]"
          ]
        },
        {
          "output_type": "stream",
          "name": "stdout",
          "text": [
            ">\n",
            ">\n"
          ]
        },
        {
          "output_type": "stream",
          "name": "stderr",
          "text": [
            " 37%|███▋      | 107/290 [01:54<03:14,  1.06s/it, loss=1.77]"
          ]
        },
        {
          "output_type": "stream",
          "name": "stdout",
          "text": [
            "*\n",
            "*\n",
            "*\n"
          ]
        },
        {
          "output_type": "stream",
          "name": "stderr",
          "text": [
            " 37%|███▋      | 108/290 [01:55<03:16,  1.08s/it, loss=1.8]"
          ]
        },
        {
          "output_type": "stream",
          "name": "stdout",
          "text": [
            ">\n",
            ">\n"
          ]
        },
        {
          "output_type": "stream",
          "name": "stderr",
          "text": [
            " 41%|████▏     | 120/290 [02:07<03:04,  1.09s/it, loss=1.63]"
          ]
        },
        {
          "output_type": "stream",
          "name": "stdout",
          "text": [
            "[\n"
          ]
        },
        {
          "output_type": "stream",
          "name": "stderr",
          "text": [
            " 47%|████▋     | 136/290 [02:24<02:44,  1.07s/it, loss=1.68]"
          ]
        },
        {
          "output_type": "stream",
          "name": "stdout",
          "text": [
            "[\n"
          ]
        },
        {
          "output_type": "stream",
          "name": "stderr",
          "text": [
            " 48%|████▊     | 140/290 [02:29<02:42,  1.08s/it, loss=1.6]"
          ]
        },
        {
          "output_type": "stream",
          "name": "stdout",
          "text": [
            ">\n"
          ]
        },
        {
          "output_type": "stream",
          "name": "stderr",
          "text": [
            " 51%|█████     | 147/290 [02:36<02:32,  1.07s/it, loss=1.62]"
          ]
        },
        {
          "output_type": "stream",
          "name": "stdout",
          "text": [
            ">\n",
            ">\n"
          ]
        },
        {
          "output_type": "stream",
          "name": "stderr",
          "text": [
            " 57%|█████▋    | 165/290 [02:55<02:13,  1.07s/it, loss=1.96]"
          ]
        },
        {
          "output_type": "stream",
          "name": "stdout",
          "text": [
            "*\n",
            "*\n",
            "*\n"
          ]
        },
        {
          "output_type": "stream",
          "name": "stderr",
          "text": [
            " 63%|██████▎   | 184/290 [03:16<01:56,  1.10s/it, loss=1.81]"
          ]
        },
        {
          "output_type": "stream",
          "name": "stdout",
          "text": [
            ">\n",
            ">\n",
            ">\n"
          ]
        },
        {
          "output_type": "stream",
          "name": "stderr",
          "text": [
            " 69%|██████▊   | 199/290 [03:32<01:36,  1.06s/it, loss=1.65]"
          ]
        },
        {
          "output_type": "stream",
          "name": "stdout",
          "text": [
            "[\n",
            "]\n"
          ]
        },
        {
          "output_type": "stream",
          "name": "stderr",
          "text": [
            " 70%|███████   | 204/290 [03:37<01:32,  1.08s/it, loss=1.67]"
          ]
        },
        {
          "output_type": "stream",
          "name": "stdout",
          "text": [
            ">\n",
            ">\n"
          ]
        },
        {
          "output_type": "stream",
          "name": "stderr",
          "text": [
            " 71%|███████   | 205/290 [03:38<01:32,  1.08s/it, loss=1.66]"
          ]
        },
        {
          "output_type": "stream",
          "name": "stdout",
          "text": [
            ">\n"
          ]
        },
        {
          "output_type": "stream",
          "name": "stderr",
          "text": [
            " 72%|███████▏  | 208/290 [03:41<01:26,  1.06s/it, loss=1.67]"
          ]
        },
        {
          "output_type": "stream",
          "name": "stdout",
          "text": [
            "*\n",
            "*\n",
            "*\n"
          ]
        },
        {
          "output_type": "stream",
          "name": "stderr",
          "text": [
            " 76%|███████▌  | 220/290 [03:54<01:15,  1.07s/it, loss=1.66]"
          ]
        },
        {
          "output_type": "stream",
          "name": "stdout",
          "text": [
            "<\n"
          ]
        },
        {
          "output_type": "stream",
          "name": "stderr",
          "text": [
            " 84%|████████▍ | 245/290 [04:21<00:47,  1.06s/it, loss=1.78]"
          ]
        },
        {
          "output_type": "stream",
          "name": "stdout",
          "text": [
            ">\n",
            ">\n"
          ]
        },
        {
          "output_type": "stream",
          "name": "stderr",
          "text": [
            " 86%|████████▌ | 248/290 [04:24<00:44,  1.07s/it, loss=1.75]"
          ]
        },
        {
          "output_type": "stream",
          "name": "stdout",
          "text": [
            ">\n",
            ">\n"
          ]
        },
        {
          "output_type": "stream",
          "name": "stderr",
          "text": [
            " 90%|█████████ | 261/290 [04:38<00:30,  1.05s/it, loss=2.07]"
          ]
        },
        {
          "output_type": "stream",
          "name": "stdout",
          "text": [
            "]\n",
            "[\n",
            "]\n"
          ]
        },
        {
          "output_type": "stream",
          "name": "stderr",
          "text": [
            " 94%|█████████▍| 273/290 [04:51<00:17,  1.04s/it, loss=1.74]"
          ]
        },
        {
          "output_type": "stream",
          "name": "stdout",
          "text": [
            ">\n",
            ">\n"
          ]
        },
        {
          "output_type": "stream",
          "name": "stderr",
          "text": [
            " 98%|█████████▊| 283/290 [05:01<00:07,  1.03s/it, loss=1.61]"
          ]
        },
        {
          "output_type": "stream",
          "name": "stdout",
          "text": [
            "[\n",
            "]\n"
          ]
        },
        {
          "output_type": "stream",
          "name": "stderr",
          "text": [
            "100%|██████████| 290/290 [05:08<00:00,  1.06s/it, loss=1.61]\n",
            "  2%|▏         | 7/290 [00:07<04:58,  1.05s/it, loss=1.53]"
          ]
        },
        {
          "output_type": "stream",
          "name": "stdout",
          "text": [
            ">\n",
            ">\n"
          ]
        },
        {
          "output_type": "stream",
          "name": "stderr",
          "text": [
            "  3%|▎         | 10/290 [00:10<04:53,  1.05s/it, loss=1.6]"
          ]
        },
        {
          "output_type": "stream",
          "name": "stdout",
          "text": [
            "]\n",
            "[\n",
            "]\n"
          ]
        },
        {
          "output_type": "stream",
          "name": "stderr",
          "text": [
            "  5%|▍         | 14/290 [00:15<04:55,  1.07s/it, loss=1.55]"
          ]
        },
        {
          "output_type": "stream",
          "name": "stdout",
          "text": [
            ">\n",
            ">\n"
          ]
        },
        {
          "output_type": "stream",
          "name": "stderr",
          "text": [
            "  9%|▉         | 27/290 [00:28<04:41,  1.07s/it, loss=1.54]"
          ]
        },
        {
          "output_type": "stream",
          "name": "stdout",
          "text": [
            "]\n"
          ]
        },
        {
          "output_type": "stream",
          "name": "stderr",
          "text": [
            " 10%|▉         | 28/290 [00:29<04:39,  1.07s/it, loss=1.53]"
          ]
        },
        {
          "output_type": "stream",
          "name": "stdout",
          "text": [
            ">\n",
            ">\n"
          ]
        },
        {
          "output_type": "stream",
          "name": "stderr",
          "text": [
            " 12%|█▏        | 35/290 [00:37<04:27,  1.05s/it, loss=1.53]"
          ]
        },
        {
          "output_type": "stream",
          "name": "stdout",
          "text": [
            ">\n"
          ]
        },
        {
          "output_type": "stream",
          "name": "stderr",
          "text": [
            " 13%|█▎        | 38/290 [00:40<04:23,  1.05s/it, loss=1.5]"
          ]
        },
        {
          "output_type": "stream",
          "name": "stdout",
          "text": [
            "[\n",
            "]\n"
          ]
        },
        {
          "output_type": "stream",
          "name": "stderr",
          "text": [
            " 20%|█▉        | 57/290 [01:00<04:02,  1.04s/it, loss=1.45]"
          ]
        },
        {
          "output_type": "stream",
          "name": "stdout",
          "text": [
            "]\n",
            "[\n",
            "]\n"
          ]
        },
        {
          "output_type": "stream",
          "name": "stderr",
          "text": [
            " 26%|██▌       | 75/290 [01:19<03:48,  1.06s/it, loss=1.42]"
          ]
        },
        {
          "output_type": "stream",
          "name": "stdout",
          "text": [
            ">\n",
            ">\n"
          ]
        },
        {
          "output_type": "stream",
          "name": "stderr",
          "text": [
            " 27%|██▋       | 79/290 [01:23<03:46,  1.07s/it, loss=1.46]"
          ]
        },
        {
          "output_type": "stream",
          "name": "stdout",
          "text": [
            "*\n",
            "*\n",
            "*\n",
            ">\n",
            ">\n"
          ]
        },
        {
          "output_type": "stream",
          "name": "stderr",
          "text": [
            " 33%|███▎      | 96/290 [01:41<03:22,  1.05s/it, loss=1.41]"
          ]
        },
        {
          "output_type": "stream",
          "name": "stdout",
          "text": [
            ">\n"
          ]
        },
        {
          "output_type": "stream",
          "name": "stderr",
          "text": [
            " 33%|███▎      | 97/290 [01:42<03:21,  1.04s/it, loss=1.41]"
          ]
        },
        {
          "output_type": "stream",
          "name": "stdout",
          "text": [
            "*\n",
            "*\n",
            "*\n"
          ]
        },
        {
          "output_type": "stream",
          "name": "stderr",
          "text": [
            " 36%|███▌      | 103/290 [01:48<03:14,  1.04s/it, loss=1.42]"
          ]
        },
        {
          "output_type": "stream",
          "name": "stdout",
          "text": [
            "<\n"
          ]
        },
        {
          "output_type": "stream",
          "name": "stderr",
          "text": [
            " 38%|███▊      | 111/290 [01:57<03:14,  1.09s/it, loss=1.42]"
          ]
        },
        {
          "output_type": "stream",
          "name": "stdout",
          "text": [
            "]\n"
          ]
        },
        {
          "output_type": "stream",
          "name": "stderr",
          "text": [
            " 40%|████      | 117/290 [02:03<03:06,  1.08s/it, loss=1.42]"
          ]
        },
        {
          "output_type": "stream",
          "name": "stdout",
          "text": [
            "[\n"
          ]
        },
        {
          "output_type": "stream",
          "name": "stderr",
          "text": [
            " 43%|████▎     | 125/290 [02:12<02:59,  1.09s/it, loss=1.42]"
          ]
        },
        {
          "output_type": "stream",
          "name": "stdout",
          "text": [
            "*\n",
            "*\n",
            "*\n"
          ]
        },
        {
          "output_type": "stream",
          "name": "stderr",
          "text": [
            " 45%|████▌     | 131/290 [02:18<02:52,  1.09s/it, loss=1.34]"
          ]
        },
        {
          "output_type": "stream",
          "name": "stdout",
          "text": [
            ">\n"
          ]
        },
        {
          "output_type": "stream",
          "name": "stderr",
          "text": [
            " 53%|█████▎    | 154/290 [02:42<02:19,  1.03s/it, loss=1.36]"
          ]
        },
        {
          "output_type": "stream",
          "name": "stdout",
          "text": [
            "*\n",
            "*\n",
            "*\n"
          ]
        },
        {
          "output_type": "stream",
          "name": "stderr",
          "text": [
            " 57%|█████▋    | 165/290 [02:54<02:11,  1.05s/it, loss=1.34]"
          ]
        },
        {
          "output_type": "stream",
          "name": "stdout",
          "text": [
            ">\n",
            ">\n"
          ]
        },
        {
          "output_type": "stream",
          "name": "stderr",
          "text": [
            " 61%|██████    | 176/290 [03:05<02:01,  1.07s/it, loss=1.23]"
          ]
        },
        {
          "output_type": "stream",
          "name": "stdout",
          "text": [
            ">\n",
            ">\n"
          ]
        },
        {
          "output_type": "stream",
          "name": "stderr",
          "text": [
            " 66%|██████▌   | 192/290 [03:23<01:44,  1.07s/it, loss=1.31]"
          ]
        },
        {
          "output_type": "stream",
          "name": "stdout",
          "text": [
            "[\n"
          ]
        },
        {
          "output_type": "stream",
          "name": "stderr",
          "text": [
            " 71%|███████   | 205/290 [03:37<01:28,  1.05s/it, loss=1.17]"
          ]
        },
        {
          "output_type": "stream",
          "name": "stdout",
          "text": [
            "[\n"
          ]
        },
        {
          "output_type": "stream",
          "name": "stderr",
          "text": [
            " 71%|███████   | 206/290 [03:38<01:28,  1.05s/it, loss=1.29]"
          ]
        },
        {
          "output_type": "stream",
          "name": "stdout",
          "text": [
            "[\n",
            "]\n"
          ]
        },
        {
          "output_type": "stream",
          "name": "stderr",
          "text": [
            " 74%|███████▍  | 214/290 [03:46<01:19,  1.05s/it, loss=1.27]"
          ]
        },
        {
          "output_type": "stream",
          "name": "stdout",
          "text": [
            ">\n",
            ">\n"
          ]
        },
        {
          "output_type": "stream",
          "name": "stderr",
          "text": [
            " 75%|███████▍  | 217/290 [03:49<01:17,  1.06s/it, loss=1.21]"
          ]
        },
        {
          "output_type": "stream",
          "name": "stdout",
          "text": [
            "[\n"
          ]
        },
        {
          "output_type": "stream",
          "name": "stderr",
          "text": [
            " 76%|███████▌  | 219/290 [03:51<01:13,  1.04s/it, loss=1.28]"
          ]
        },
        {
          "output_type": "stream",
          "name": "stdout",
          "text": [
            ">\n",
            ">\n"
          ]
        },
        {
          "output_type": "stream",
          "name": "stderr",
          "text": [
            " 88%|████████▊ | 255/290 [04:30<00:37,  1.07s/it, loss=1.15]"
          ]
        },
        {
          "output_type": "stream",
          "name": "stdout",
          "text": [
            ">\n",
            ">\n",
            ">\n"
          ]
        },
        {
          "output_type": "stream",
          "name": "stderr",
          "text": [
            " 94%|█████████▍| 274/290 [04:50<00:16,  1.04s/it, loss=1.44]"
          ]
        },
        {
          "output_type": "stream",
          "name": "stdout",
          "text": [
            "[\n",
            "]\n"
          ]
        },
        {
          "output_type": "stream",
          "name": "stderr",
          "text": [
            " 97%|█████████▋| 281/290 [04:57<00:09,  1.06s/it, loss=1.32]"
          ]
        },
        {
          "output_type": "stream",
          "name": "stdout",
          "text": [
            "<\n"
          ]
        },
        {
          "output_type": "stream",
          "name": "stderr",
          "text": [
            " 99%|█████████▉| 288/290 [05:05<00:02,  1.03s/it, loss=1.2]"
          ]
        },
        {
          "output_type": "stream",
          "name": "stdout",
          "text": [
            ">\n",
            ">\n"
          ]
        },
        {
          "output_type": "stream",
          "name": "stderr",
          "text": [
            "100%|█████████▉| 289/290 [05:06<00:01,  1.03s/it, loss=1.26]"
          ]
        },
        {
          "output_type": "stream",
          "name": "stdout",
          "text": [
            "[\n",
            "]\n"
          ]
        },
        {
          "output_type": "stream",
          "name": "stderr",
          "text": [
            "100%|██████████| 290/290 [05:06<00:00,  1.06s/it, loss=1.28]\n"
          ]
        },
        {
          "output_type": "stream",
          "name": "stdout",
          "text": [
            "checkpoint_ep5.pth.tar saved\n"
          ]
        },
        {
          "output_type": "stream",
          "name": "stderr",
          "text": [
            "  5%|▍         | 14/290 [00:14<04:52,  1.06s/it, loss=1.12]"
          ]
        },
        {
          "output_type": "stream",
          "name": "stdout",
          "text": [
            ">\n",
            ">\n"
          ]
        },
        {
          "output_type": "stream",
          "name": "stderr",
          "text": [
            "  7%|▋         | 20/290 [00:21<04:48,  1.07s/it, loss=1.23]"
          ]
        },
        {
          "output_type": "stream",
          "name": "stdout",
          "text": [
            ">\n"
          ]
        },
        {
          "output_type": "stream",
          "name": "stderr",
          "text": [
            " 10%|█         | 29/290 [00:30<04:33,  1.05s/it, loss=1.18]"
          ]
        },
        {
          "output_type": "stream",
          "name": "stdout",
          "text": [
            ">\n",
            ">\n"
          ]
        },
        {
          "output_type": "stream",
          "name": "stderr",
          "text": [
            " 14%|█▍        | 40/290 [00:42<04:21,  1.04s/it, loss=1.29]"
          ]
        },
        {
          "output_type": "stream",
          "name": "stdout",
          "text": [
            "<\n"
          ]
        },
        {
          "output_type": "stream",
          "name": "stderr",
          "text": [
            " 14%|█▍        | 41/290 [00:43<04:21,  1.05s/it, loss=1.25]"
          ]
        },
        {
          "output_type": "stream",
          "name": "stdout",
          "text": [
            ">\n",
            ">\n"
          ]
        },
        {
          "output_type": "stream",
          "name": "stderr",
          "text": [
            " 16%|█▌        | 45/290 [00:47<04:19,  1.06s/it, loss=1.21]"
          ]
        },
        {
          "output_type": "stream",
          "name": "stdout",
          "text": [
            "[\n",
            "]\n"
          ]
        },
        {
          "output_type": "stream",
          "name": "stderr",
          "text": [
            " 16%|█▌        | 46/290 [00:48<04:19,  1.06s/it, loss=1.19]"
          ]
        },
        {
          "output_type": "stream",
          "name": "stdout",
          "text": [
            "[\n"
          ]
        },
        {
          "output_type": "stream",
          "name": "stderr",
          "text": [
            " 24%|██▍       | 71/290 [01:15<03:55,  1.07s/it, loss=1.07]"
          ]
        },
        {
          "output_type": "stream",
          "name": "stdout",
          "text": [
            ">\n",
            ">\n"
          ]
        },
        {
          "output_type": "stream",
          "name": "stderr",
          "text": [
            " 25%|██▍       | 72/290 [01:16<03:52,  1.07s/it, loss=1.12]"
          ]
        },
        {
          "output_type": "stream",
          "name": "stdout",
          "text": [
            "*\n",
            "*\n",
            "*\n"
          ]
        },
        {
          "output_type": "stream",
          "name": "stderr",
          "text": [
            " 28%|██▊       | 80/290 [01:24<03:41,  1.05s/it, loss=1.11]"
          ]
        },
        {
          "output_type": "stream",
          "name": "stdout",
          "text": [
            "]\n",
            "[\n",
            "]\n"
          ]
        },
        {
          "output_type": "stream",
          "name": "stderr",
          "text": [
            " 29%|██▊       | 83/290 [01:27<03:37,  1.05s/it, loss=1.09]"
          ]
        },
        {
          "output_type": "stream",
          "name": "stdout",
          "text": [
            "]\n"
          ]
        },
        {
          "output_type": "stream",
          "name": "stderr",
          "text": [
            " 29%|██▉       | 85/290 [01:29<03:38,  1.06s/it, loss=1.09]"
          ]
        },
        {
          "output_type": "stream",
          "name": "stdout",
          "text": [
            ">\n",
            ">\n"
          ]
        },
        {
          "output_type": "stream",
          "name": "stderr",
          "text": [
            " 32%|███▏      | 92/290 [01:37<03:38,  1.11s/it, loss=1.12]"
          ]
        },
        {
          "output_type": "stream",
          "name": "stdout",
          "text": [
            "[\n",
            "]\n"
          ]
        },
        {
          "output_type": "stream",
          "name": "stderr",
          "text": [
            " 33%|███▎      | 95/290 [01:40<03:30,  1.08s/it, loss=1.08]"
          ]
        },
        {
          "output_type": "stream",
          "name": "stdout",
          "text": [
            "<\n"
          ]
        },
        {
          "output_type": "stream",
          "name": "stderr",
          "text": [
            " 36%|███▌      | 103/290 [01:49<03:21,  1.08s/it, loss=1.1]"
          ]
        },
        {
          "output_type": "stream",
          "name": "stdout",
          "text": [
            ">\n",
            ">\n"
          ]
        },
        {
          "output_type": "stream",
          "name": "stderr",
          "text": [
            " 39%|███▊      | 112/290 [01:59<03:09,  1.06s/it, loss=1.19]"
          ]
        },
        {
          "output_type": "stream",
          "name": "stdout",
          "text": [
            "*\n",
            "*\n",
            "*\n"
          ]
        },
        {
          "output_type": "stream",
          "name": "stderr",
          "text": [
            " 40%|████      | 116/290 [02:03<03:12,  1.11s/it, loss=1.08]"
          ]
        },
        {
          "output_type": "stream",
          "name": "stdout",
          "text": [
            "[\n",
            "]\n"
          ]
        },
        {
          "output_type": "stream",
          "name": "stderr",
          "text": [
            " 43%|████▎     | 126/290 [02:14<02:54,  1.06s/it, loss=1.11]"
          ]
        },
        {
          "output_type": "stream",
          "name": "stdout",
          "text": [
            "[\n"
          ]
        },
        {
          "output_type": "stream",
          "name": "stderr",
          "text": [
            " 44%|████▍     | 127/290 [02:15<02:53,  1.07s/it, loss=1.04]"
          ]
        },
        {
          "output_type": "stream",
          "name": "stdout",
          "text": [
            ">\n"
          ]
        },
        {
          "output_type": "stream",
          "name": "stderr",
          "text": [
            " 53%|█████▎    | 154/290 [02:43<02:24,  1.07s/it, loss=0.989]"
          ]
        },
        {
          "output_type": "stream",
          "name": "stdout",
          "text": [
            "*\n",
            "*\n",
            "*\n"
          ]
        },
        {
          "output_type": "stream",
          "name": "stderr",
          "text": [
            " 61%|██████▏   | 178/290 [03:09<01:59,  1.07s/it, loss=1.09]"
          ]
        },
        {
          "output_type": "stream",
          "name": "stdout",
          "text": [
            "[\n"
          ]
        },
        {
          "output_type": "stream",
          "name": "stderr",
          "text": [
            " 67%|██████▋   | 195/290 [03:27<01:40,  1.06s/it, loss=0.848]"
          ]
        },
        {
          "output_type": "stream",
          "name": "stdout",
          "text": [
            "*\n",
            "*\n",
            "*\n"
          ]
        },
        {
          "output_type": "stream",
          "name": "stderr",
          "text": [
            " 68%|██████▊   | 196/290 [03:28<01:40,  1.07s/it, loss=1.04]"
          ]
        },
        {
          "output_type": "stream",
          "name": "stdout",
          "text": [
            ">\n"
          ]
        },
        {
          "output_type": "stream",
          "name": "stderr",
          "text": [
            " 68%|██████▊   | 198/290 [03:30<01:36,  1.05s/it, loss=0.998]"
          ]
        },
        {
          "output_type": "stream",
          "name": "stdout",
          "text": [
            "]\n",
            "[\n",
            "]\n"
          ]
        },
        {
          "output_type": "stream",
          "name": "stderr",
          "text": [
            " 69%|██████▉   | 200/290 [03:32<01:35,  1.06s/it, loss=1.03]"
          ]
        },
        {
          "output_type": "stream",
          "name": "stdout",
          "text": [
            ">\n",
            ">\n",
            ">\n"
          ]
        },
        {
          "output_type": "stream",
          "name": "stderr",
          "text": [
            " 73%|███████▎  | 212/290 [03:45<01:21,  1.05s/it, loss=0.944]"
          ]
        },
        {
          "output_type": "stream",
          "name": "stdout",
          "text": [
            ">\n",
            ">\n"
          ]
        },
        {
          "output_type": "stream",
          "name": "stderr",
          "text": [
            " 75%|███████▍  | 217/290 [03:50<01:15,  1.04s/it, loss=0.951]"
          ]
        },
        {
          "output_type": "stream",
          "name": "stdout",
          "text": [
            ">\n",
            ">\n"
          ]
        },
        {
          "output_type": "stream",
          "name": "stderr",
          "text": [
            " 80%|████████  | 233/290 [04:07<01:00,  1.06s/it, loss=0.862]"
          ]
        },
        {
          "output_type": "stream",
          "name": "stdout",
          "text": [
            "[\n",
            "]\n"
          ]
        },
        {
          "output_type": "stream",
          "name": "stderr",
          "text": [
            " 89%|████████▉ | 258/290 [04:34<00:34,  1.06s/it, loss=0.919]"
          ]
        },
        {
          "output_type": "stream",
          "name": "stdout",
          "text": [
            "[\n",
            "]\n"
          ]
        },
        {
          "output_type": "stream",
          "name": "stderr",
          "text": [
            " 89%|████████▉ | 259/290 [04:35<00:33,  1.07s/it, loss=0.925]"
          ]
        },
        {
          "output_type": "stream",
          "name": "stdout",
          "text": [
            ">\n",
            ">\n"
          ]
        },
        {
          "output_type": "stream",
          "name": "stderr",
          "text": [
            " 91%|█████████ | 264/290 [04:40<00:27,  1.07s/it, loss=0.914]"
          ]
        },
        {
          "output_type": "stream",
          "name": "stdout",
          "text": [
            ">\n",
            ">\n"
          ]
        },
        {
          "output_type": "stream",
          "name": "stderr",
          "text": [
            "100%|██████████| 290/290 [05:08<00:00,  1.06s/it, loss=0.905]\n",
            "  1%|          | 3/290 [00:03<05:01,  1.05s/it, loss=0.892]"
          ]
        },
        {
          "output_type": "stream",
          "name": "stdout",
          "text": [
            ">\n"
          ]
        },
        {
          "output_type": "stream",
          "name": "stderr",
          "text": [
            "  9%|▉         | 27/290 [00:29<04:46,  1.09s/it, loss=0.889]"
          ]
        },
        {
          "output_type": "stream",
          "name": "stdout",
          "text": [
            ">\n",
            ">\n"
          ]
        },
        {
          "output_type": "stream",
          "name": "stderr",
          "text": [
            " 10%|█         | 29/290 [00:31<04:40,  1.07s/it, loss=0.859]"
          ]
        },
        {
          "output_type": "stream",
          "name": "stdout",
          "text": [
            "]\n"
          ]
        },
        {
          "output_type": "stream",
          "name": "stderr",
          "text": [
            " 11%|█▏        | 33/290 [00:36<04:43,  1.10s/it, loss=0.911]"
          ]
        },
        {
          "output_type": "stream",
          "name": "stdout",
          "text": [
            ">\n",
            ">\n"
          ]
        },
        {
          "output_type": "stream",
          "name": "stderr",
          "text": [
            " 14%|█▍        | 42/290 [00:45<04:29,  1.09s/it, loss=0.878]"
          ]
        },
        {
          "output_type": "stream",
          "name": "stdout",
          "text": [
            ">\n",
            ">\n"
          ]
        },
        {
          "output_type": "stream",
          "name": "stderr",
          "text": [
            " 16%|█▌        | 45/290 [00:49<04:21,  1.07s/it, loss=0.861]"
          ]
        },
        {
          "output_type": "stream",
          "name": "stdout",
          "text": [
            ">\n",
            ">\n"
          ]
        },
        {
          "output_type": "stream",
          "name": "stderr",
          "text": [
            " 16%|█▌        | 46/290 [00:50<04:22,  1.08s/it, loss=0.895]"
          ]
        },
        {
          "output_type": "stream",
          "name": "stdout",
          "text": [
            ">\n"
          ]
        },
        {
          "output_type": "stream",
          "name": "stderr",
          "text": [
            " 17%|█▋        | 49/290 [00:53<04:15,  1.06s/it, loss=0.864]"
          ]
        },
        {
          "output_type": "stream",
          "name": "stdout",
          "text": [
            "[\n",
            "*\n",
            "*\n",
            "*\n"
          ]
        },
        {
          "output_type": "stream",
          "name": "stderr",
          "text": [
            " 17%|█▋        | 50/290 [00:54<04:11,  1.05s/it, loss=0.86]"
          ]
        },
        {
          "output_type": "stream",
          "name": "stdout",
          "text": [
            "[\n",
            "]\n",
            "]\n",
            "[\n",
            "]\n"
          ]
        },
        {
          "output_type": "stream",
          "name": "stderr",
          "text": [
            " 18%|█▊        | 53/290 [00:57<04:22,  1.11s/it, loss=0.847]"
          ]
        },
        {
          "output_type": "stream",
          "name": "stdout",
          "text": [
            "[\n"
          ]
        },
        {
          "output_type": "stream",
          "name": "stderr",
          "text": [
            " 24%|██▍       | 71/290 [01:17<04:00,  1.10s/it, loss=0.879]"
          ]
        },
        {
          "output_type": "stream",
          "name": "stdout",
          "text": [
            ">\n",
            ">\n"
          ]
        },
        {
          "output_type": "stream",
          "name": "stderr",
          "text": [
            " 27%|██▋       | 79/290 [01:25<03:42,  1.05s/it, loss=0.993]"
          ]
        },
        {
          "output_type": "stream",
          "name": "stdout",
          "text": [
            "<\n"
          ]
        },
        {
          "output_type": "stream",
          "name": "stderr",
          "text": [
            " 42%|████▏     | 122/290 [02:11<02:57,  1.06s/it, loss=0.865]"
          ]
        },
        {
          "output_type": "stream",
          "name": "stdout",
          "text": [
            "*\n",
            "*\n",
            "*\n"
          ]
        },
        {
          "output_type": "stream",
          "name": "stderr",
          "text": [
            " 44%|████▍     | 129/290 [02:19<02:48,  1.04s/it, loss=0.755]"
          ]
        },
        {
          "output_type": "stream",
          "name": "stdout",
          "text": [
            "[\n"
          ]
        },
        {
          "output_type": "stream",
          "name": "stderr",
          "text": [
            " 45%|████▌     | 131/290 [02:21<02:46,  1.05s/it, loss=0.752]"
          ]
        },
        {
          "output_type": "stream",
          "name": "stdout",
          "text": [
            "[\n"
          ]
        },
        {
          "output_type": "stream",
          "name": "stderr",
          "text": [
            " 64%|██████▍   | 186/290 [03:19<01:51,  1.08s/it, loss=0.728]"
          ]
        },
        {
          "output_type": "stream",
          "name": "stdout",
          "text": [
            "*\n",
            "*\n",
            "*\n"
          ]
        },
        {
          "output_type": "stream",
          "name": "stderr",
          "text": [
            " 69%|██████▊   | 199/290 [03:34<01:37,  1.07s/it, loss=0.732]"
          ]
        },
        {
          "output_type": "stream",
          "name": "stdout",
          "text": [
            "<\n"
          ]
        },
        {
          "output_type": "stream",
          "name": "stderr",
          "text": [
            " 71%|███████   | 205/290 [03:40<01:29,  1.05s/it, loss=0.76]"
          ]
        },
        {
          "output_type": "stream",
          "name": "stdout",
          "text": [
            "*\n",
            "*\n",
            "*\n"
          ]
        },
        {
          "output_type": "stream",
          "name": "stderr",
          "text": [
            " 72%|███████▏  | 208/290 [03:43<01:25,  1.05s/it, loss=0.73]"
          ]
        },
        {
          "output_type": "stream",
          "name": "stdout",
          "text": [
            ">\n",
            ">\n"
          ]
        },
        {
          "output_type": "stream",
          "name": "stderr",
          "text": [
            " 75%|███████▍  | 217/290 [03:53<01:18,  1.07s/it, loss=0.687]"
          ]
        },
        {
          "output_type": "stream",
          "name": "stdout",
          "text": [
            ">\n",
            ">\n"
          ]
        },
        {
          "output_type": "stream",
          "name": "stderr",
          "text": [
            " 77%|███████▋  | 224/290 [04:00<01:08,  1.04s/it, loss=0.745]"
          ]
        },
        {
          "output_type": "stream",
          "name": "stdout",
          "text": [
            ">\n",
            ">\n"
          ]
        },
        {
          "output_type": "stream",
          "name": "stderr",
          "text": [
            " 79%|███████▉  | 229/290 [04:06<01:05,  1.07s/it, loss=0.761]"
          ]
        },
        {
          "output_type": "stream",
          "name": "stdout",
          "text": [
            ">\n",
            ">\n"
          ]
        },
        {
          "output_type": "stream",
          "name": "stderr",
          "text": [
            " 80%|████████  | 232/290 [04:09<01:01,  1.05s/it, loss=0.77]"
          ]
        },
        {
          "output_type": "stream",
          "name": "stdout",
          "text": [
            ">\n"
          ]
        },
        {
          "output_type": "stream",
          "name": "stderr",
          "text": [
            " 84%|████████▍ | 244/290 [04:22<00:50,  1.09s/it, loss=0.69]"
          ]
        },
        {
          "output_type": "stream",
          "name": "stdout",
          "text": [
            "]\n"
          ]
        },
        {
          "output_type": "stream",
          "name": "stderr",
          "text": [
            " 86%|████████▌ | 250/290 [04:28<00:42,  1.05s/it, loss=0.664]"
          ]
        },
        {
          "output_type": "stream",
          "name": "stdout",
          "text": [
            "[\n",
            "]\n"
          ]
        },
        {
          "output_type": "stream",
          "name": "stderr",
          "text": [
            " 94%|█████████▍| 273/290 [04:53<00:17,  1.06s/it, loss=0.713]"
          ]
        },
        {
          "output_type": "stream",
          "name": "stdout",
          "text": [
            "[\n",
            "]\n"
          ]
        },
        {
          "output_type": "stream",
          "name": "stderr",
          "text": [
            " 95%|█████████▍| 275/290 [04:55<00:15,  1.06s/it, loss=0.803]"
          ]
        },
        {
          "output_type": "stream",
          "name": "stdout",
          "text": [
            "[\n",
            "]\n"
          ]
        },
        {
          "output_type": "stream",
          "name": "stderr",
          "text": [
            " 96%|█████████▌| 278/290 [04:58<00:12,  1.04s/it, loss=0.652]"
          ]
        },
        {
          "output_type": "stream",
          "name": "stdout",
          "text": [
            "]\n",
            "[\n",
            "]\n"
          ]
        },
        {
          "output_type": "stream",
          "name": "stderr",
          "text": [
            " 97%|█████████▋| 280/290 [05:00<00:10,  1.07s/it, loss=0.749]"
          ]
        },
        {
          "output_type": "stream",
          "name": "stdout",
          "text": [
            ">\n",
            ">\n"
          ]
        },
        {
          "output_type": "stream",
          "name": "stderr",
          "text": [
            " 97%|█████████▋| 282/290 [05:02<00:08,  1.07s/it, loss=0.662]"
          ]
        },
        {
          "output_type": "stream",
          "name": "stdout",
          "text": [
            ">\n",
            ">\n",
            ">\n"
          ]
        },
        {
          "output_type": "stream",
          "name": "stderr",
          "text": [
            "100%|██████████| 290/290 [05:10<00:00,  1.07s/it, loss=0.7]\n"
          ]
        },
        {
          "output_type": "stream",
          "name": "stdout",
          "text": [
            "checkpoint_ep7.pth.tar saved\n"
          ]
        },
        {
          "output_type": "stream",
          "name": "stderr",
          "text": [
            "  0%|          | 1/290 [00:01<05:19,  1.11s/it, loss=0.772]"
          ]
        },
        {
          "output_type": "stream",
          "name": "stdout",
          "text": [
            "]\n"
          ]
        },
        {
          "output_type": "stream",
          "name": "stderr",
          "text": [
            "  4%|▍         | 13/290 [00:13<04:50,  1.05s/it, loss=0.637]"
          ]
        },
        {
          "output_type": "stream",
          "name": "stdout",
          "text": [
            "[\n"
          ]
        },
        {
          "output_type": "stream",
          "name": "stderr",
          "text": [
            "  7%|▋         | 21/290 [00:22<04:44,  1.06s/it, loss=0.643]"
          ]
        },
        {
          "output_type": "stream",
          "name": "stdout",
          "text": [
            ">\n"
          ]
        },
        {
          "output_type": "stream",
          "name": "stderr",
          "text": [
            " 10%|█         | 29/290 [00:30<04:30,  1.04s/it, loss=0.619]"
          ]
        },
        {
          "output_type": "stream",
          "name": "stdout",
          "text": [
            "]\n",
            "[\n",
            "]\n"
          ]
        },
        {
          "output_type": "stream",
          "name": "stderr",
          "text": [
            " 16%|█▌        | 47/290 [00:49<04:19,  1.07s/it, loss=0.632]"
          ]
        },
        {
          "output_type": "stream",
          "name": "stdout",
          "text": [
            "[\n",
            "]\n"
          ]
        },
        {
          "output_type": "stream",
          "name": "stderr",
          "text": [
            " 18%|█▊        | 52/290 [00:54<04:13,  1.07s/it, loss=0.656]"
          ]
        },
        {
          "output_type": "stream",
          "name": "stdout",
          "text": [
            ">\n",
            ">\n"
          ]
        },
        {
          "output_type": "stream",
          "name": "stderr",
          "text": [
            " 22%|██▏       | 65/290 [01:08<03:58,  1.06s/it, loss=0.625]"
          ]
        },
        {
          "output_type": "stream",
          "name": "stdout",
          "text": [
            ">\n",
            ">\n"
          ]
        },
        {
          "output_type": "stream",
          "name": "stderr",
          "text": [
            " 25%|██▍       | 72/290 [01:15<03:44,  1.03s/it, loss=0.614]"
          ]
        },
        {
          "output_type": "stream",
          "name": "stdout",
          "text": [
            "<\n"
          ]
        },
        {
          "output_type": "stream",
          "name": "stderr",
          "text": [
            " 27%|██▋       | 77/290 [01:21<03:40,  1.04s/it, loss=0.578]"
          ]
        },
        {
          "output_type": "stream",
          "name": "stdout",
          "text": [
            ">\n",
            ">\n"
          ]
        },
        {
          "output_type": "stream",
          "name": "stderr",
          "text": [
            " 27%|██▋       | 78/290 [01:22<03:47,  1.07s/it, loss=0.603]"
          ]
        },
        {
          "output_type": "stream",
          "name": "stdout",
          "text": [
            "[\n"
          ]
        },
        {
          "output_type": "stream",
          "name": "stderr",
          "text": [
            " 28%|██▊       | 82/290 [01:26<03:41,  1.07s/it, loss=0.662]"
          ]
        },
        {
          "output_type": "stream",
          "name": "stdout",
          "text": [
            ">\n",
            ">\n"
          ]
        },
        {
          "output_type": "stream",
          "name": "stderr",
          "text": [
            " 30%|███       | 88/290 [01:32<03:29,  1.04s/it, loss=0.608]"
          ]
        },
        {
          "output_type": "stream",
          "name": "stdout",
          "text": [
            ">\n",
            ">\n"
          ]
        },
        {
          "output_type": "stream",
          "name": "stderr",
          "text": [
            " 32%|███▏      | 94/290 [01:39<03:30,  1.08s/it, loss=0.556]"
          ]
        },
        {
          "output_type": "stream",
          "name": "stdout",
          "text": [
            "<\n"
          ]
        },
        {
          "output_type": "stream",
          "name": "stderr",
          "text": [
            " 33%|███▎      | 97/290 [01:42<03:24,  1.06s/it, loss=0.661]"
          ]
        },
        {
          "output_type": "stream",
          "name": "stdout",
          "text": [
            "[\n"
          ]
        },
        {
          "output_type": "stream",
          "name": "stderr",
          "text": [
            " 41%|████      | 118/290 [02:04<03:05,  1.08s/it, loss=0.613]"
          ]
        },
        {
          "output_type": "stream",
          "name": "stdout",
          "text": [
            "[\n",
            "]\n",
            "*\n",
            "*\n",
            "*\n"
          ]
        },
        {
          "output_type": "stream",
          "name": "stderr",
          "text": [
            " 47%|████▋     | 136/290 [02:23<02:41,  1.05s/it, loss=0.578]"
          ]
        },
        {
          "output_type": "stream",
          "name": "stdout",
          "text": [
            "*\n",
            "*\n",
            "*\n"
          ]
        },
        {
          "output_type": "stream",
          "name": "stderr",
          "text": [
            " 51%|█████▏    | 149/290 [02:37<02:31,  1.08s/it, loss=0.568]"
          ]
        },
        {
          "output_type": "stream",
          "name": "stdout",
          "text": [
            ">\n"
          ]
        },
        {
          "output_type": "stream",
          "name": "stderr",
          "text": [
            " 57%|█████▋    | 164/290 [02:53<02:13,  1.06s/it, loss=0.583]"
          ]
        },
        {
          "output_type": "stream",
          "name": "stdout",
          "text": [
            "*\n",
            "*\n",
            "*\n"
          ]
        },
        {
          "output_type": "stream",
          "name": "stderr",
          "text": [
            " 66%|██████▌   | 191/290 [03:22<01:47,  1.09s/it, loss=0.623]"
          ]
        },
        {
          "output_type": "stream",
          "name": "stdout",
          "text": [
            "*\n",
            "*\n",
            "*\n",
            ">\n",
            ">\n"
          ]
        },
        {
          "output_type": "stream",
          "name": "stderr",
          "text": [
            " 74%|███████▍  | 216/290 [03:49<01:19,  1.07s/it, loss=0.562]"
          ]
        },
        {
          "output_type": "stream",
          "name": "stdout",
          "text": [
            ">\n",
            ">\n"
          ]
        },
        {
          "output_type": "stream",
          "name": "stderr",
          "text": [
            " 78%|███████▊  | 226/290 [03:59<01:11,  1.12s/it, loss=0.553]"
          ]
        },
        {
          "output_type": "stream",
          "name": "stdout",
          "text": [
            ">\n",
            ">\n",
            ">\n"
          ]
        },
        {
          "output_type": "stream",
          "name": "stderr",
          "text": [
            " 80%|███████▉  | 231/290 [04:05<01:01,  1.05s/it, loss=0.569]"
          ]
        },
        {
          "output_type": "stream",
          "name": "stdout",
          "text": [
            ">\n",
            ">\n"
          ]
        },
        {
          "output_type": "stream",
          "name": "stderr",
          "text": [
            " 81%|████████  | 235/290 [04:09<00:56,  1.03s/it, loss=0.538]"
          ]
        },
        {
          "output_type": "stream",
          "name": "stdout",
          "text": [
            "[\n",
            "]\n"
          ]
        },
        {
          "output_type": "stream",
          "name": "stderr",
          "text": [
            " 81%|████████▏ | 236/290 [04:10<00:56,  1.05s/it, loss=0.543]"
          ]
        },
        {
          "output_type": "stream",
          "name": "stdout",
          "text": [
            "[\n"
          ]
        },
        {
          "output_type": "stream",
          "name": "stderr",
          "text": [
            " 82%|████████▏ | 237/290 [04:11<00:55,  1.04s/it, loss=0.544]"
          ]
        },
        {
          "output_type": "stream",
          "name": "stdout",
          "text": [
            "[\n",
            "]\n"
          ]
        },
        {
          "output_type": "stream",
          "name": "stderr",
          "text": [
            " 96%|█████████▌| 277/290 [04:54<00:13,  1.06s/it, loss=0.674]"
          ]
        },
        {
          "output_type": "stream",
          "name": "stdout",
          "text": [
            ">\n"
          ]
        },
        {
          "output_type": "stream",
          "name": "stderr",
          "text": [
            " 96%|█████████▌| 278/290 [04:55<00:12,  1.06s/it, loss=0.559]"
          ]
        },
        {
          "output_type": "stream",
          "name": "stdout",
          "text": [
            "]\n",
            "[\n",
            "]\n",
            ">\n",
            ">\n"
          ]
        },
        {
          "output_type": "stream",
          "name": "stderr",
          "text": [
            " 98%|█████████▊| 283/290 [05:01<00:07,  1.08s/it, loss=0.54]"
          ]
        },
        {
          "output_type": "stream",
          "name": "stdout",
          "text": [
            ">\n",
            ">\n",
            "]\n"
          ]
        },
        {
          "output_type": "stream",
          "name": "stderr",
          "text": [
            "100%|██████████| 290/290 [05:08<00:00,  1.06s/it, loss=0.598]\n",
            "  0%|          | 0/290 [00:00<?, ?it/s]"
          ]
        },
        {
          "output_type": "stream",
          "name": "stdout",
          "text": [
            "[\n"
          ]
        },
        {
          "output_type": "stream",
          "name": "stderr",
          "text": [
            "  1%|          | 2/290 [00:02<05:08,  1.07s/it, loss=0.515]"
          ]
        },
        {
          "output_type": "stream",
          "name": "stdout",
          "text": [
            ">\n",
            ">\n",
            "]\n"
          ]
        },
        {
          "output_type": "stream",
          "name": "stderr",
          "text": [
            "  9%|▉         | 27/290 [00:28<04:35,  1.05s/it, loss=0.486]"
          ]
        },
        {
          "output_type": "stream",
          "name": "stdout",
          "text": [
            ">\n",
            ">\n"
          ]
        },
        {
          "output_type": "stream",
          "name": "stderr",
          "text": [
            " 10%|█         | 29/290 [00:30<04:33,  1.05s/it, loss=0.514]"
          ]
        },
        {
          "output_type": "stream",
          "name": "stdout",
          "text": [
            "]\n"
          ]
        },
        {
          "output_type": "stream",
          "name": "stderr",
          "text": [
            " 13%|█▎        | 37/290 [00:38<04:29,  1.06s/it, loss=0.545]"
          ]
        },
        {
          "output_type": "stream",
          "name": "stdout",
          "text": [
            "[\n",
            "]\n"
          ]
        },
        {
          "output_type": "stream",
          "name": "stderr",
          "text": [
            " 14%|█▍        | 41/290 [00:43<04:25,  1.07s/it, loss=0.494]"
          ]
        },
        {
          "output_type": "stream",
          "name": "stdout",
          "text": [
            ">\n",
            ">\n"
          ]
        },
        {
          "output_type": "stream",
          "name": "stderr",
          "text": [
            " 16%|█▌        | 45/290 [00:47<04:15,  1.04s/it, loss=0.502]"
          ]
        },
        {
          "output_type": "stream",
          "name": "stdout",
          "text": [
            ">\n",
            ">\n"
          ]
        },
        {
          "output_type": "stream",
          "name": "stderr",
          "text": [
            " 19%|█▉        | 55/290 [00:58<04:04,  1.04s/it, loss=0.512]"
          ]
        },
        {
          "output_type": "stream",
          "name": "stdout",
          "text": [
            "[\n",
            "]\n"
          ]
        },
        {
          "output_type": "stream",
          "name": "stderr",
          "text": [
            " 20%|█▉        | 57/290 [01:00<04:09,  1.07s/it, loss=0.509]"
          ]
        },
        {
          "output_type": "stream",
          "name": "stdout",
          "text": [
            ">\n",
            ">\n",
            ">\n"
          ]
        },
        {
          "output_type": "stream",
          "name": "stderr",
          "text": [
            " 34%|███▍      | 99/290 [01:44<03:22,  1.06s/it, loss=0.537]"
          ]
        },
        {
          "output_type": "stream",
          "name": "stdout",
          "text": [
            "]\n",
            "[\n",
            "]\n"
          ]
        },
        {
          "output_type": "stream",
          "name": "stderr",
          "text": [
            " 35%|███▌      | 102/290 [01:47<03:19,  1.06s/it, loss=0.49]"
          ]
        },
        {
          "output_type": "stream",
          "name": "stdout",
          "text": [
            "[\n",
            "]\n"
          ]
        },
        {
          "output_type": "stream",
          "name": "stderr",
          "text": [
            " 36%|███▌      | 103/290 [01:48<03:18,  1.06s/it, loss=0.484]"
          ]
        },
        {
          "output_type": "stream",
          "name": "stdout",
          "text": [
            ">\n",
            ">\n"
          ]
        },
        {
          "output_type": "stream",
          "name": "stderr",
          "text": [
            " 38%|███▊      | 109/290 [01:55<03:18,  1.10s/it, loss=0.448]"
          ]
        },
        {
          "output_type": "stream",
          "name": "stdout",
          "text": [
            "[\n",
            "]\n"
          ]
        },
        {
          "output_type": "stream",
          "name": "stderr",
          "text": [
            " 56%|█████▌    | 161/290 [02:50<02:15,  1.05s/it, loss=0.551]"
          ]
        },
        {
          "output_type": "stream",
          "name": "stdout",
          "text": [
            "*\n",
            "*\n",
            "*\n"
          ]
        },
        {
          "output_type": "stream",
          "name": "stderr",
          "text": [
            " 58%|█████▊    | 169/290 [02:59<02:10,  1.08s/it, loss=0.56]"
          ]
        },
        {
          "output_type": "stream",
          "name": "stdout",
          "text": [
            ">\n"
          ]
        },
        {
          "output_type": "stream",
          "name": "stderr",
          "text": [
            " 60%|██████    | 174/290 [03:04<02:04,  1.07s/it, loss=0.502]"
          ]
        },
        {
          "output_type": "stream",
          "name": "stdout",
          "text": [
            ">\n",
            ">\n"
          ]
        },
        {
          "output_type": "stream",
          "name": "stderr",
          "text": [
            " 64%|██████▍   | 185/290 [03:16<01:49,  1.04s/it, loss=0.438]"
          ]
        },
        {
          "output_type": "stream",
          "name": "stdout",
          "text": [
            "*\n",
            "*\n",
            "*\n"
          ]
        },
        {
          "output_type": "stream",
          "name": "stderr",
          "text": [
            " 66%|██████▌   | 190/290 [03:21<01:46,  1.07s/it, loss=0.441]"
          ]
        },
        {
          "output_type": "stream",
          "name": "stdout",
          "text": [
            "<\n"
          ]
        },
        {
          "output_type": "stream",
          "name": "stderr",
          "text": [
            " 74%|███████▍  | 215/290 [03:48<01:19,  1.06s/it, loss=0.451]"
          ]
        },
        {
          "output_type": "stream",
          "name": "stdout",
          "text": [
            "[\n"
          ]
        },
        {
          "output_type": "stream",
          "name": "stderr",
          "text": [
            " 79%|███████▉  | 229/290 [04:03<01:04,  1.06s/it, loss=0.471]"
          ]
        },
        {
          "output_type": "stream",
          "name": "stdout",
          "text": [
            ">\n",
            ">\n"
          ]
        },
        {
          "output_type": "stream",
          "name": "stderr",
          "text": [
            " 80%|████████  | 232/290 [04:06<01:00,  1.04s/it, loss=0.464]"
          ]
        },
        {
          "output_type": "stream",
          "name": "stdout",
          "text": [
            "*\n",
            "*\n",
            "*\n",
            ">\n",
            ">\n"
          ]
        },
        {
          "output_type": "stream",
          "name": "stderr",
          "text": [
            " 80%|████████  | 233/290 [04:07<00:59,  1.04s/it, loss=0.438]"
          ]
        },
        {
          "output_type": "stream",
          "name": "stdout",
          "text": [
            ">\n",
            ">\n"
          ]
        },
        {
          "output_type": "stream",
          "name": "stderr",
          "text": [
            " 82%|████████▏ | 239/290 [04:13<00:54,  1.06s/it, loss=0.452]"
          ]
        },
        {
          "output_type": "stream",
          "name": "stdout",
          "text": [
            "<\n",
            "*\n",
            "*\n",
            "*\n"
          ]
        },
        {
          "output_type": "stream",
          "name": "stderr",
          "text": [
            " 83%|████████▎ | 241/290 [04:15<00:51,  1.05s/it, loss=0.436]"
          ]
        },
        {
          "output_type": "stream",
          "name": "stdout",
          "text": [
            ">\n",
            ">\n"
          ]
        },
        {
          "output_type": "stream",
          "name": "stderr",
          "text": [
            " 85%|████████▍ | 246/290 [04:21<00:46,  1.07s/it, loss=0.425]"
          ]
        },
        {
          "output_type": "stream",
          "name": "stdout",
          "text": [
            "]\n",
            "[\n",
            "]\n"
          ]
        },
        {
          "output_type": "stream",
          "name": "stderr",
          "text": [
            " 90%|█████████ | 262/290 [04:38<00:31,  1.11s/it, loss=0.429]"
          ]
        },
        {
          "output_type": "stream",
          "name": "stdout",
          "text": [
            "[\n"
          ]
        },
        {
          "output_type": "stream",
          "name": "stderr",
          "text": [
            " 93%|█████████▎| 271/290 [04:48<00:20,  1.07s/it, loss=0.482]"
          ]
        },
        {
          "output_type": "stream",
          "name": "stdout",
          "text": [
            ">\n",
            ">\n"
          ]
        },
        {
          "output_type": "stream",
          "name": "stderr",
          "text": [
            " 96%|█████████▌| 277/290 [04:54<00:13,  1.05s/it, loss=0.391]"
          ]
        },
        {
          "output_type": "stream",
          "name": "stdout",
          "text": [
            "[\n"
          ]
        },
        {
          "output_type": "stream",
          "name": "stderr",
          "text": [
            "100%|██████████| 290/290 [05:08<00:00,  1.06s/it, loss=0.491]\n"
          ]
        },
        {
          "output_type": "stream",
          "name": "stdout",
          "text": [
            "checkpoint_ep9.pth.tar saved\n"
          ]
        },
        {
          "output_type": "stream",
          "name": "stderr",
          "text": [
            "  0%|          | 1/290 [00:01<05:19,  1.11s/it, loss=0.535]"
          ]
        },
        {
          "output_type": "stream",
          "name": "stdout",
          "text": [
            ">\n",
            ">\n"
          ]
        },
        {
          "output_type": "stream",
          "name": "stderr",
          "text": [
            "  1%|          | 3/290 [00:03<05:03,  1.06s/it, loss=0.543]"
          ]
        },
        {
          "output_type": "stream",
          "name": "stdout",
          "text": [
            "*\n",
            "*\n",
            "*\n"
          ]
        },
        {
          "output_type": "stream",
          "name": "stderr",
          "text": [
            "  2%|▏         | 7/290 [00:07<04:54,  1.04s/it, loss=0.497]"
          ]
        },
        {
          "output_type": "stream",
          "name": "stdout",
          "text": [
            "*\n",
            "*\n",
            "*\n"
          ]
        },
        {
          "output_type": "stream",
          "name": "stderr",
          "text": [
            "  4%|▍         | 11/290 [00:11<04:52,  1.05s/it, loss=0.568]"
          ]
        },
        {
          "output_type": "stream",
          "name": "stdout",
          "text": [
            "*\n",
            "*\n",
            "*\n"
          ]
        },
        {
          "output_type": "stream",
          "name": "stderr",
          "text": [
            "  9%|▊         | 25/290 [00:26<04:40,  1.06s/it, loss=0.456]"
          ]
        },
        {
          "output_type": "stream",
          "name": "stdout",
          "text": [
            "]\n"
          ]
        },
        {
          "output_type": "stream",
          "name": "stderr",
          "text": [
            " 18%|█▊        | 52/290 [00:54<04:10,  1.05s/it, loss=0.439]"
          ]
        },
        {
          "output_type": "stream",
          "name": "stdout",
          "text": [
            "<\n"
          ]
        },
        {
          "output_type": "stream",
          "name": "stderr",
          "text": [
            " 22%|██▏       | 63/290 [01:06<03:56,  1.04s/it, loss=0.398]"
          ]
        },
        {
          "output_type": "stream",
          "name": "stdout",
          "text": [
            "[\n",
            "]\n"
          ]
        },
        {
          "output_type": "stream",
          "name": "stderr",
          "text": [
            " 23%|██▎       | 67/290 [01:10<03:59,  1.07s/it, loss=0.444]"
          ]
        },
        {
          "output_type": "stream",
          "name": "stdout",
          "text": [
            "[\n"
          ]
        },
        {
          "output_type": "stream",
          "name": "stderr",
          "text": [
            " 23%|██▎       | 68/290 [01:11<03:54,  1.06s/it, loss=0.408]"
          ]
        },
        {
          "output_type": "stream",
          "name": "stdout",
          "text": [
            ">\n",
            ">\n"
          ]
        },
        {
          "output_type": "stream",
          "name": "stderr",
          "text": [
            " 29%|██▊       | 83/290 [01:27<03:34,  1.04s/it, loss=0.392]"
          ]
        },
        {
          "output_type": "stream",
          "name": "stdout",
          "text": [
            "[\n"
          ]
        },
        {
          "output_type": "stream",
          "name": "stderr",
          "text": [
            " 29%|██▉       | 84/290 [01:28<03:32,  1.03s/it, loss=0.377]"
          ]
        },
        {
          "output_type": "stream",
          "name": "stdout",
          "text": [
            "*\n",
            "*\n",
            "*\n"
          ]
        },
        {
          "output_type": "stream",
          "name": "stderr",
          "text": [
            " 30%|███       | 87/290 [01:31<03:32,  1.05s/it, loss=0.416]"
          ]
        },
        {
          "output_type": "stream",
          "name": "stdout",
          "text": [
            "]\n",
            "[\n",
            "]\n"
          ]
        },
        {
          "output_type": "stream",
          "name": "stderr",
          "text": [
            " 32%|███▏      | 92/290 [01:36<03:35,  1.09s/it, loss=0.436]"
          ]
        },
        {
          "output_type": "stream",
          "name": "stdout",
          "text": [
            ">\n",
            ">\n"
          ]
        },
        {
          "output_type": "stream",
          "name": "stderr",
          "text": [
            " 38%|███▊      | 109/290 [01:54<03:07,  1.04s/it, loss=0.403]"
          ]
        },
        {
          "output_type": "stream",
          "name": "stdout",
          "text": [
            ">\n",
            ">\n"
          ]
        },
        {
          "output_type": "stream",
          "name": "stderr",
          "text": [
            " 40%|████      | 116/290 [02:01<03:00,  1.04s/it, loss=0.384]"
          ]
        },
        {
          "output_type": "stream",
          "name": "stdout",
          "text": [
            "[\n"
          ]
        },
        {
          "output_type": "stream",
          "name": "stderr",
          "text": [
            " 49%|████▉     | 143/290 [02:30<02:34,  1.05s/it, loss=0.386]"
          ]
        },
        {
          "output_type": "stream",
          "name": "stdout",
          "text": [
            ">\n"
          ]
        },
        {
          "output_type": "stream",
          "name": "stderr",
          "text": [
            " 53%|█████▎    | 155/290 [02:43<02:25,  1.08s/it, loss=0.386]"
          ]
        },
        {
          "output_type": "stream",
          "name": "stdout",
          "text": [
            ">\n",
            ">\n"
          ]
        },
        {
          "output_type": "stream",
          "name": "stderr",
          "text": [
            " 58%|█████▊    | 168/290 [02:57<02:05,  1.03s/it, loss=0.363]"
          ]
        },
        {
          "output_type": "stream",
          "name": "stdout",
          "text": [
            ">\n",
            ">\n",
            "[\n",
            "]\n"
          ]
        },
        {
          "output_type": "stream",
          "name": "stderr",
          "text": [
            " 58%|█████▊    | 169/290 [02:58<02:06,  1.05s/it, loss=0.372]"
          ]
        },
        {
          "output_type": "stream",
          "name": "stdout",
          "text": [
            "]\n",
            "[\n",
            "]\n",
            ">\n",
            ">\n"
          ]
        },
        {
          "output_type": "stream",
          "name": "stderr",
          "text": [
            " 60%|██████    | 175/290 [03:04<02:00,  1.05s/it, loss=0.345]"
          ]
        },
        {
          "output_type": "stream",
          "name": "stdout",
          "text": [
            "[\n",
            "]\n"
          ]
        },
        {
          "output_type": "stream",
          "name": "stderr",
          "text": [
            " 72%|███████▏  | 208/290 [03:39<01:25,  1.05s/it, loss=0.39]"
          ]
        },
        {
          "output_type": "stream",
          "name": "stdout",
          "text": [
            ">\n"
          ]
        },
        {
          "output_type": "stream",
          "name": "stderr",
          "text": [
            " 77%|███████▋  | 222/290 [03:54<01:12,  1.06s/it, loss=0.358]"
          ]
        },
        {
          "output_type": "stream",
          "name": "stdout",
          "text": [
            ">\n",
            ">\n"
          ]
        },
        {
          "output_type": "stream",
          "name": "stderr",
          "text": [
            " 87%|████████▋ | 253/290 [04:27<00:39,  1.06s/it, loss=0.354]"
          ]
        },
        {
          "output_type": "stream",
          "name": "stdout",
          "text": [
            ">\n",
            ">\n"
          ]
        },
        {
          "output_type": "stream",
          "name": "stderr",
          "text": [
            " 94%|█████████▍| 272/290 [04:47<00:19,  1.06s/it, loss=0.347]"
          ]
        },
        {
          "output_type": "stream",
          "name": "stdout",
          "text": [
            ">\n"
          ]
        },
        {
          "output_type": "stream",
          "name": "stderr",
          "text": [
            " 95%|█████████▌| 276/290 [04:52<00:15,  1.12s/it, loss=0.361]"
          ]
        },
        {
          "output_type": "stream",
          "name": "stdout",
          "text": [
            ">\n",
            ">\n"
          ]
        },
        {
          "output_type": "stream",
          "name": "stderr",
          "text": [
            " 98%|█████████▊| 284/290 [05:00<00:06,  1.05s/it, loss=0.363]"
          ]
        },
        {
          "output_type": "stream",
          "name": "stdout",
          "text": [
            "]\n",
            "[\n",
            "]\n"
          ]
        },
        {
          "output_type": "stream",
          "name": "stderr",
          "text": [
            " 98%|█████████▊| 285/290 [05:01<00:05,  1.04s/it, loss=0.346]"
          ]
        },
        {
          "output_type": "stream",
          "name": "stdout",
          "text": [
            "[\n"
          ]
        },
        {
          "output_type": "stream",
          "name": "stderr",
          "text": [
            " 99%|█████████▉| 287/290 [05:03<00:03,  1.02s/it, loss=0.375]"
          ]
        },
        {
          "output_type": "stream",
          "name": "stdout",
          "text": [
            "<\n"
          ]
        },
        {
          "output_type": "stream",
          "name": "stderr",
          "text": [
            " 99%|█████████▉| 288/290 [05:04<00:02,  1.03s/it, loss=0.341]"
          ]
        },
        {
          "output_type": "stream",
          "name": "stdout",
          "text": [
            ">\n",
            ">\n",
            ">\n"
          ]
        },
        {
          "output_type": "stream",
          "name": "stderr",
          "text": [
            "100%|██████████| 290/290 [05:06<00:00,  1.06s/it, loss=0.338]\n",
            "  1%|          | 2/290 [00:02<05:00,  1.04s/it, loss=0.335]"
          ]
        },
        {
          "output_type": "stream",
          "name": "stdout",
          "text": [
            ">\n"
          ]
        },
        {
          "output_type": "stream",
          "name": "stderr",
          "text": [
            "  8%|▊         | 24/290 [00:25<04:42,  1.06s/it, loss=0.34]"
          ]
        },
        {
          "output_type": "stream",
          "name": "stdout",
          "text": [
            "<\n"
          ]
        },
        {
          "output_type": "stream",
          "name": "stderr",
          "text": [
            " 12%|█▏        | 35/290 [00:36<04:25,  1.04s/it, loss=0.288]"
          ]
        },
        {
          "output_type": "stream",
          "name": "stdout",
          "text": [
            "*\n",
            "*\n",
            "*\n"
          ]
        },
        {
          "output_type": "stream",
          "name": "stderr",
          "text": [
            " 14%|█▍        | 42/290 [00:44<04:18,  1.04s/it, loss=0.363]"
          ]
        },
        {
          "output_type": "stream",
          "name": "stdout",
          "text": [
            "[\n"
          ]
        },
        {
          "output_type": "stream",
          "name": "stderr",
          "text": [
            " 18%|█▊        | 52/290 [00:54<04:08,  1.04s/it, loss=0.305]"
          ]
        },
        {
          "output_type": "stream",
          "name": "stdout",
          "text": [
            "[\n",
            "]\n"
          ]
        },
        {
          "output_type": "stream",
          "name": "stderr",
          "text": [
            " 25%|██▌       | 73/290 [01:16<03:44,  1.03s/it, loss=0.337]"
          ]
        },
        {
          "output_type": "stream",
          "name": "stdout",
          "text": [
            "*\n",
            "*\n",
            "*\n"
          ]
        },
        {
          "output_type": "stream",
          "name": "stderr",
          "text": [
            " 27%|██▋       | 79/290 [01:23<03:43,  1.06s/it, loss=0.361]"
          ]
        },
        {
          "output_type": "stream",
          "name": "stdout",
          "text": [
            ">\n",
            ">\n"
          ]
        },
        {
          "output_type": "stream",
          "name": "stderr",
          "text": [
            " 35%|███▍      | 101/290 [01:45<03:18,  1.05s/it, loss=0.28]"
          ]
        },
        {
          "output_type": "stream",
          "name": "stdout",
          "text": [
            ">\n",
            ">\n"
          ]
        },
        {
          "output_type": "stream",
          "name": "stderr",
          "text": [
            " 41%|████      | 119/290 [02:04<02:56,  1.03s/it, loss=0.313]"
          ]
        },
        {
          "output_type": "stream",
          "name": "stdout",
          "text": [
            "<\n"
          ]
        },
        {
          "output_type": "stream",
          "name": "stderr",
          "text": [
            " 43%|████▎     | 125/290 [02:10<02:49,  1.03s/it, loss=0.322]"
          ]
        },
        {
          "output_type": "stream",
          "name": "stdout",
          "text": [
            "*\n",
            "*\n",
            "*\n"
          ]
        },
        {
          "output_type": "stream",
          "name": "stderr",
          "text": [
            " 52%|█████▏    | 152/290 [02:39<02:22,  1.03s/it, loss=0.359]"
          ]
        },
        {
          "output_type": "stream",
          "name": "stdout",
          "text": [
            "[\n",
            "]\n"
          ]
        },
        {
          "output_type": "stream",
          "name": "stderr",
          "text": [
            " 53%|█████▎    | 154/290 [02:41<02:19,  1.03s/it, loss=0.297]"
          ]
        },
        {
          "output_type": "stream",
          "name": "stdout",
          "text": [
            "[\n"
          ]
        },
        {
          "output_type": "stream",
          "name": "stderr",
          "text": [
            " 54%|█████▍    | 156/290 [02:43<02:15,  1.01s/it, loss=0.296]"
          ]
        },
        {
          "output_type": "stream",
          "name": "stdout",
          "text": [
            ">\n",
            ">\n"
          ]
        },
        {
          "output_type": "stream",
          "name": "stderr",
          "text": [
            " 55%|█████▌    | 160/290 [02:47<02:11,  1.01s/it, loss=0.307]"
          ]
        },
        {
          "output_type": "stream",
          "name": "stdout",
          "text": [
            ">\n",
            ">\n"
          ]
        },
        {
          "output_type": "stream",
          "name": "stderr",
          "text": [
            " 57%|█████▋    | 164/290 [02:51<02:11,  1.05s/it, loss=0.301]"
          ]
        },
        {
          "output_type": "stream",
          "name": "stdout",
          "text": [
            ">\n"
          ]
        },
        {
          "output_type": "stream",
          "name": "stderr",
          "text": [
            " 61%|██████    | 176/290 [03:04<01:58,  1.04s/it, loss=0.334]"
          ]
        },
        {
          "output_type": "stream",
          "name": "stdout",
          "text": [
            "]\n",
            "[\n",
            "]\n"
          ]
        },
        {
          "output_type": "stream",
          "name": "stderr",
          "text": [
            " 64%|██████▍   | 185/290 [03:13<01:49,  1.04s/it, loss=0.325]"
          ]
        },
        {
          "output_type": "stream",
          "name": "stdout",
          "text": [
            "[\n"
          ]
        },
        {
          "output_type": "stream",
          "name": "stderr",
          "text": [
            " 66%|██████▌   | 191/290 [03:19<01:40,  1.02s/it, loss=0.309]"
          ]
        },
        {
          "output_type": "stream",
          "name": "stdout",
          "text": [
            "[\n",
            "]\n"
          ]
        },
        {
          "output_type": "stream",
          "name": "stderr",
          "text": [
            " 74%|███████▍  | 215/290 [03:45<01:17,  1.03s/it, loss=0.29]"
          ]
        },
        {
          "output_type": "stream",
          "name": "stdout",
          "text": [
            "]\n"
          ]
        },
        {
          "output_type": "stream",
          "name": "stderr",
          "text": [
            " 74%|███████▍  | 216/290 [03:46<01:17,  1.04s/it, loss=0.304]"
          ]
        },
        {
          "output_type": "stream",
          "name": "stdout",
          "text": [
            ">\n",
            ">\n"
          ]
        },
        {
          "output_type": "stream",
          "name": "stderr",
          "text": [
            " 77%|███████▋  | 223/290 [03:53<01:10,  1.05s/it, loss=0.289]"
          ]
        },
        {
          "output_type": "stream",
          "name": "stdout",
          "text": [
            "]\n",
            "[\n",
            "]\n"
          ]
        },
        {
          "output_type": "stream",
          "name": "stderr",
          "text": [
            " 77%|███████▋  | 224/290 [03:54<01:09,  1.06s/it, loss=0.283]"
          ]
        },
        {
          "output_type": "stream",
          "name": "stdout",
          "text": [
            ">\n",
            ">\n"
          ]
        },
        {
          "output_type": "stream",
          "name": "stderr",
          "text": [
            " 80%|████████  | 232/290 [04:03<00:59,  1.02s/it, loss=0.268]"
          ]
        },
        {
          "output_type": "stream",
          "name": "stdout",
          "text": [
            "[\n"
          ]
        },
        {
          "output_type": "stream",
          "name": "stderr",
          "text": [
            " 82%|████████▏ | 238/290 [04:09<00:54,  1.04s/it, loss=0.335]"
          ]
        },
        {
          "output_type": "stream",
          "name": "stdout",
          "text": [
            "]\n"
          ]
        },
        {
          "output_type": "stream",
          "name": "stderr",
          "text": [
            " 83%|████████▎ | 240/290 [04:11<00:52,  1.04s/it, loss=0.34]"
          ]
        },
        {
          "output_type": "stream",
          "name": "stdout",
          "text": [
            ">\n",
            ">\n"
          ]
        },
        {
          "output_type": "stream",
          "name": "stderr",
          "text": [
            " 84%|████████▍ | 245/290 [04:16<00:46,  1.03s/it, loss=0.27]"
          ]
        },
        {
          "output_type": "stream",
          "name": "stdout",
          "text": [
            ">\n",
            ">\n"
          ]
        },
        {
          "output_type": "stream",
          "name": "stderr",
          "text": [
            " 86%|████████▌ | 249/290 [04:20<00:42,  1.04s/it, loss=0.266]"
          ]
        },
        {
          "output_type": "stream",
          "name": "stdout",
          "text": [
            ">\n",
            ">\n",
            ">\n"
          ]
        },
        {
          "output_type": "stream",
          "name": "stderr",
          "text": [
            " 94%|█████████▍| 273/290 [04:45<00:17,  1.03s/it, loss=0.286]"
          ]
        },
        {
          "output_type": "stream",
          "name": "stdout",
          "text": [
            ">\n",
            ">\n"
          ]
        },
        {
          "output_type": "stream",
          "name": "stderr",
          "text": [
            " 98%|█████████▊| 283/290 [04:56<00:07,  1.04s/it, loss=0.287]"
          ]
        },
        {
          "output_type": "stream",
          "name": "stdout",
          "text": [
            "[\n",
            "]\n"
          ]
        },
        {
          "output_type": "stream",
          "name": "stderr",
          "text": [
            " 99%|█████████▉| 287/290 [05:00<00:03,  1.07s/it, loss=0.279]"
          ]
        },
        {
          "output_type": "stream",
          "name": "stdout",
          "text": [
            ">\n",
            ">\n",
            ">\n"
          ]
        },
        {
          "output_type": "stream",
          "name": "stderr",
          "text": [
            " 99%|█████████▉| 288/290 [05:01<00:02,  1.06s/it, loss=0.277]"
          ]
        },
        {
          "output_type": "stream",
          "name": "stdout",
          "text": [
            "*\n",
            "*\n",
            "*\n"
          ]
        },
        {
          "output_type": "stream",
          "name": "stderr",
          "text": [
            "100%|██████████| 290/290 [05:03<00:00,  1.05s/it, loss=0.33]\n"
          ]
        },
        {
          "output_type": "stream",
          "name": "stdout",
          "text": [
            "checkpoint_ep11.pth.tar saved\n"
          ]
        },
        {
          "output_type": "stream",
          "name": "stderr",
          "text": [
            "  2%|▏         | 7/290 [00:07<04:49,  1.02s/it, loss=0.249]"
          ]
        },
        {
          "output_type": "stream",
          "name": "stdout",
          "text": [
            "[\n",
            "]\n"
          ]
        },
        {
          "output_type": "stream",
          "name": "stderr",
          "text": [
            "  4%|▍         | 12/290 [00:12<05:02,  1.09s/it, loss=0.272]"
          ]
        },
        {
          "output_type": "stream",
          "name": "stdout",
          "text": [
            "*\n",
            "*\n",
            "*\n"
          ]
        },
        {
          "output_type": "stream",
          "name": "stderr",
          "text": [
            "  7%|▋         | 21/290 [00:22<04:42,  1.05s/it, loss=0.265]"
          ]
        },
        {
          "output_type": "stream",
          "name": "stdout",
          "text": [
            "*\n",
            "*\n",
            "*\n"
          ]
        },
        {
          "output_type": "stream",
          "name": "stderr",
          "text": [
            " 12%|█▏        | 34/290 [00:35<04:25,  1.04s/it, loss=0.272]"
          ]
        },
        {
          "output_type": "stream",
          "name": "stdout",
          "text": [
            "]\n"
          ]
        },
        {
          "output_type": "stream",
          "name": "stderr",
          "text": [
            " 19%|█▉        | 55/290 [00:57<04:02,  1.03s/it, loss=0.267]"
          ]
        },
        {
          "output_type": "stream",
          "name": "stdout",
          "text": [
            ">\n",
            ">\n"
          ]
        },
        {
          "output_type": "stream",
          "name": "stderr",
          "text": [
            " 22%|██▏       | 64/290 [01:07<03:57,  1.05s/it, loss=0.255]"
          ]
        },
        {
          "output_type": "stream",
          "name": "stdout",
          "text": [
            ">\n",
            ">\n"
          ]
        },
        {
          "output_type": "stream",
          "name": "stderr",
          "text": [
            " 25%|██▌       | 73/290 [01:16<03:53,  1.08s/it, loss=0.254]"
          ]
        },
        {
          "output_type": "stream",
          "name": "stdout",
          "text": [
            ">\n"
          ]
        },
        {
          "output_type": "stream",
          "name": "stderr",
          "text": [
            " 26%|██▌       | 76/290 [01:20<03:53,  1.09s/it, loss=0.313]"
          ]
        },
        {
          "output_type": "stream",
          "name": "stdout",
          "text": [
            ">\n",
            ">\n"
          ]
        },
        {
          "output_type": "stream",
          "name": "stderr",
          "text": [
            " 27%|██▋       | 78/290 [01:22<03:47,  1.07s/it, loss=0.238]"
          ]
        },
        {
          "output_type": "stream",
          "name": "stdout",
          "text": [
            "[\n"
          ]
        },
        {
          "output_type": "stream",
          "name": "stderr",
          "text": [
            " 28%|██▊       | 80/290 [01:24<03:50,  1.10s/it, loss=0.263]"
          ]
        },
        {
          "output_type": "stream",
          "name": "stdout",
          "text": [
            "<\n"
          ]
        },
        {
          "output_type": "stream",
          "name": "stderr",
          "text": [
            " 32%|███▏      | 93/290 [01:38<03:27,  1.05s/it, loss=0.272]"
          ]
        },
        {
          "output_type": "stream",
          "name": "stdout",
          "text": [
            "*\n",
            "*\n",
            "*\n"
          ]
        },
        {
          "output_type": "stream",
          "name": "stderr",
          "text": [
            " 36%|███▌      | 105/290 [01:51<03:16,  1.06s/it, loss=0.266]"
          ]
        },
        {
          "output_type": "stream",
          "name": "stdout",
          "text": [
            "*\n",
            "*\n",
            "*\n"
          ]
        },
        {
          "output_type": "stream",
          "name": "stderr",
          "text": [
            " 39%|███▊      | 112/290 [01:58<03:08,  1.06s/it, loss=0.264]"
          ]
        },
        {
          "output_type": "stream",
          "name": "stdout",
          "text": [
            ">\n"
          ]
        },
        {
          "output_type": "stream",
          "name": "stderr",
          "text": [
            " 44%|████▍     | 129/290 [02:16<02:49,  1.05s/it, loss=0.237]"
          ]
        },
        {
          "output_type": "stream",
          "name": "stdout",
          "text": [
            "[\n"
          ]
        },
        {
          "output_type": "stream",
          "name": "stderr",
          "text": [
            " 47%|████▋     | 137/290 [02:24<02:40,  1.05s/it, loss=0.253]"
          ]
        },
        {
          "output_type": "stream",
          "name": "stdout",
          "text": [
            "[\n",
            "]\n"
          ]
        },
        {
          "output_type": "stream",
          "name": "stderr",
          "text": [
            " 48%|████▊     | 139/290 [02:27<02:39,  1.06s/it, loss=0.264]"
          ]
        },
        {
          "output_type": "stream",
          "name": "stdout",
          "text": [
            "<\n"
          ]
        },
        {
          "output_type": "stream",
          "name": "stderr",
          "text": [
            " 51%|█████     | 147/290 [02:35<02:29,  1.04s/it, loss=0.273]"
          ]
        },
        {
          "output_type": "stream",
          "name": "stdout",
          "text": [
            "[\n",
            "]\n"
          ]
        },
        {
          "output_type": "stream",
          "name": "stderr",
          "text": [
            " 53%|█████▎    | 153/290 [02:41<02:23,  1.05s/it, loss=0.28]"
          ]
        },
        {
          "output_type": "stream",
          "name": "stdout",
          "text": [
            ">\n"
          ]
        },
        {
          "output_type": "stream",
          "name": "stderr",
          "text": [
            " 54%|█████▍    | 158/290 [02:46<02:16,  1.03s/it, loss=0.243]"
          ]
        },
        {
          "output_type": "stream",
          "name": "stdout",
          "text": [
            "[\n",
            "]\n"
          ]
        },
        {
          "output_type": "stream",
          "name": "stderr",
          "text": [
            " 57%|█████▋    | 166/290 [02:55<02:19,  1.12s/it, loss=0.237]"
          ]
        },
        {
          "output_type": "stream",
          "name": "stdout",
          "text": [
            ">\n",
            ">\n"
          ]
        },
        {
          "output_type": "stream",
          "name": "stderr",
          "text": [
            " 66%|██████▌   | 192/290 [03:23<01:44,  1.06s/it, loss=0.262]"
          ]
        },
        {
          "output_type": "stream",
          "name": "stdout",
          "text": [
            "]\n"
          ]
        },
        {
          "output_type": "stream",
          "name": "stderr",
          "text": [
            " 77%|███████▋  | 224/290 [03:57<01:08,  1.04s/it, loss=0.237]"
          ]
        },
        {
          "output_type": "stream",
          "name": "stdout",
          "text": [
            "[\n"
          ]
        },
        {
          "output_type": "stream",
          "name": "stderr",
          "text": [
            " 84%|████████▍ | 245/290 [04:19<00:48,  1.07s/it, loss=0.25]"
          ]
        },
        {
          "output_type": "stream",
          "name": "stdout",
          "text": [
            ">\n",
            ">\n"
          ]
        },
        {
          "output_type": "stream",
          "name": "stderr",
          "text": [
            " 86%|████████▌ | 249/290 [04:24<00:43,  1.05s/it, loss=0.253]"
          ]
        },
        {
          "output_type": "stream",
          "name": "stdout",
          "text": [
            ">\n",
            ">\n",
            ">\n"
          ]
        },
        {
          "output_type": "stream",
          "name": "stderr",
          "text": [
            " 87%|████████▋ | 251/290 [04:26<00:41,  1.06s/it, loss=0.216]"
          ]
        },
        {
          "output_type": "stream",
          "name": "stdout",
          "text": [
            "]\n",
            "[\n",
            "]\n",
            ">\n",
            ">\n"
          ]
        },
        {
          "output_type": "stream",
          "name": "stderr",
          "text": [
            " 87%|████████▋ | 252/290 [04:27<00:40,  1.08s/it, loss=0.264]"
          ]
        },
        {
          "output_type": "stream",
          "name": "stdout",
          "text": [
            "]\n",
            "[\n",
            "]\n"
          ]
        },
        {
          "output_type": "stream",
          "name": "stderr",
          "text": [
            " 90%|█████████ | 261/290 [04:36<00:30,  1.05s/it, loss=0.221]"
          ]
        },
        {
          "output_type": "stream",
          "name": "stdout",
          "text": [
            ">\n",
            ">\n"
          ]
        },
        {
          "output_type": "stream",
          "name": "stderr",
          "text": [
            " 91%|█████████▏| 265/290 [04:40<00:26,  1.05s/it, loss=0.254]"
          ]
        },
        {
          "output_type": "stream",
          "name": "stdout",
          "text": [
            ">\n",
            ">\n"
          ]
        },
        {
          "output_type": "stream",
          "name": "stderr",
          "text": [
            " 97%|█████████▋| 280/290 [04:56<00:10,  1.04s/it, loss=0.294]"
          ]
        },
        {
          "output_type": "stream",
          "name": "stdout",
          "text": [
            ">\n",
            ">\n"
          ]
        },
        {
          "output_type": "stream",
          "name": "stderr",
          "text": [
            " 97%|█████████▋| 282/290 [04:58<00:08,  1.03s/it, loss=0.29]"
          ]
        },
        {
          "output_type": "stream",
          "name": "stdout",
          "text": [
            "[\n"
          ]
        },
        {
          "output_type": "stream",
          "name": "stderr",
          "text": [
            " 98%|█████████▊| 285/290 [05:02<00:05,  1.08s/it, loss=0.224]"
          ]
        },
        {
          "output_type": "stream",
          "name": "stdout",
          "text": [
            ">\n",
            ">\n"
          ]
        },
        {
          "output_type": "stream",
          "name": "stderr",
          "text": [
            "100%|██████████| 290/290 [05:06<00:00,  1.06s/it, loss=0.251]\n",
            "  0%|          | 1/290 [00:01<04:58,  1.03s/it, loss=0.192]"
          ]
        },
        {
          "output_type": "stream",
          "name": "stdout",
          "text": [
            ">\n",
            ">\n"
          ]
        },
        {
          "output_type": "stream",
          "name": "stderr",
          "text": [
            "  9%|▉         | 27/290 [00:28<04:40,  1.07s/it, loss=0.203]"
          ]
        },
        {
          "output_type": "stream",
          "name": "stdout",
          "text": [
            "*\n",
            "*\n",
            "*\n"
          ]
        },
        {
          "output_type": "stream",
          "name": "stderr",
          "text": [
            " 14%|█▍        | 41/290 [00:43<04:17,  1.03s/it, loss=0.228]"
          ]
        },
        {
          "output_type": "stream",
          "name": "stdout",
          "text": [
            "]\n",
            "[\n",
            "]\n"
          ]
        },
        {
          "output_type": "stream",
          "name": "stderr",
          "text": [
            " 16%|█▌        | 47/290 [00:49<04:15,  1.05s/it, loss=0.254]"
          ]
        },
        {
          "output_type": "stream",
          "name": "stdout",
          "text": [
            "*\n",
            "*\n",
            "*\n"
          ]
        },
        {
          "output_type": "stream",
          "name": "stderr",
          "text": [
            " 20%|█▉        | 57/290 [01:00<04:04,  1.05s/it, loss=0.235]"
          ]
        },
        {
          "output_type": "stream",
          "name": "stdout",
          "text": [
            ">\n",
            ">\n"
          ]
        },
        {
          "output_type": "stream",
          "name": "stderr",
          "text": [
            " 23%|██▎       | 67/290 [01:10<03:52,  1.04s/it, loss=0.229]"
          ]
        },
        {
          "output_type": "stream",
          "name": "stdout",
          "text": [
            "]\n",
            "[\n",
            "]\n"
          ]
        },
        {
          "output_type": "stream",
          "name": "stderr",
          "text": [
            " 25%|██▌       | 73/290 [01:17<03:47,  1.05s/it, loss=0.217]"
          ]
        },
        {
          "output_type": "stream",
          "name": "stdout",
          "text": [
            "[\n",
            "]\n"
          ]
        },
        {
          "output_type": "stream",
          "name": "stderr",
          "text": [
            " 28%|██▊       | 80/290 [01:24<03:42,  1.06s/it, loss=0.208]"
          ]
        },
        {
          "output_type": "stream",
          "name": "stdout",
          "text": [
            ">\n",
            ">\n"
          ]
        },
        {
          "output_type": "stream",
          "name": "stderr",
          "text": [
            " 29%|██▉       | 85/290 [01:29<03:37,  1.06s/it, loss=0.272]"
          ]
        },
        {
          "output_type": "stream",
          "name": "stdout",
          "text": [
            "*\n",
            "*\n",
            "*\n"
          ]
        },
        {
          "output_type": "stream",
          "name": "stderr",
          "text": [
            " 33%|███▎      | 97/290 [01:42<03:22,  1.05s/it, loss=0.201]"
          ]
        },
        {
          "output_type": "stream",
          "name": "stdout",
          "text": [
            ">\n",
            ">\n"
          ]
        },
        {
          "output_type": "stream",
          "name": "stderr",
          "text": [
            " 39%|███▉      | 113/290 [01:59<03:04,  1.04s/it, loss=0.209]"
          ]
        },
        {
          "output_type": "stream",
          "name": "stdout",
          "text": [
            ">\n",
            ">\n"
          ]
        },
        {
          "output_type": "stream",
          "name": "stderr",
          "text": [
            " 41%|████▏     | 120/290 [02:06<03:03,  1.08s/it, loss=0.206]"
          ]
        },
        {
          "output_type": "stream",
          "name": "stdout",
          "text": [
            "[\n",
            "]\n"
          ]
        },
        {
          "output_type": "stream",
          "name": "stderr",
          "text": [
            " 51%|█████     | 148/290 [02:36<02:29,  1.06s/it, loss=0.236]"
          ]
        },
        {
          "output_type": "stream",
          "name": "stdout",
          "text": [
            ">\n",
            ">\n"
          ]
        },
        {
          "output_type": "stream",
          "name": "stderr",
          "text": [
            " 59%|█████▉    | 171/290 [03:00<02:04,  1.05s/it, loss=0.292]"
          ]
        },
        {
          "output_type": "stream",
          "name": "stdout",
          "text": [
            ">\n"
          ]
        },
        {
          "output_type": "stream",
          "name": "stderr",
          "text": [
            " 61%|██████▏   | 178/290 [03:07<01:56,  1.04s/it, loss=0.205]"
          ]
        },
        {
          "output_type": "stream",
          "name": "stdout",
          "text": [
            ">\n",
            ">\n"
          ]
        },
        {
          "output_type": "stream",
          "name": "stderr",
          "text": [
            " 64%|██████▍   | 187/290 [03:17<01:54,  1.12s/it, loss=0.209]"
          ]
        },
        {
          "output_type": "stream",
          "name": "stdout",
          "text": [
            "[\n",
            "]\n"
          ]
        },
        {
          "output_type": "stream",
          "name": "stderr",
          "text": [
            " 65%|██████▌   | 189/290 [03:19<01:49,  1.09s/it, loss=0.18]"
          ]
        },
        {
          "output_type": "stream",
          "name": "stdout",
          "text": [
            ">\n"
          ]
        },
        {
          "output_type": "stream",
          "name": "stderr",
          "text": [
            " 67%|██████▋   | 195/290 [03:26<01:42,  1.08s/it, loss=0.207]"
          ]
        },
        {
          "output_type": "stream",
          "name": "stdout",
          "text": [
            "<\n"
          ]
        },
        {
          "output_type": "stream",
          "name": "stderr",
          "text": [
            " 70%|███████   | 204/290 [03:35<01:30,  1.05s/it, loss=0.227]"
          ]
        },
        {
          "output_type": "stream",
          "name": "stdout",
          "text": [
            "[\n"
          ]
        },
        {
          "output_type": "stream",
          "name": "stderr",
          "text": [
            " 72%|███████▏  | 209/290 [03:41<01:28,  1.09s/it, loss=0.204]"
          ]
        },
        {
          "output_type": "stream",
          "name": "stdout",
          "text": [
            ">\n",
            ">\n"
          ]
        },
        {
          "output_type": "stream",
          "name": "stderr",
          "text": [
            " 76%|███████▌  | 219/290 [03:51<01:14,  1.05s/it, loss=0.234]"
          ]
        },
        {
          "output_type": "stream",
          "name": "stdout",
          "text": [
            ">\n"
          ]
        },
        {
          "output_type": "stream",
          "name": "stderr",
          "text": [
            " 78%|███████▊  | 226/290 [03:59<01:09,  1.09s/it, loss=0.237]"
          ]
        },
        {
          "output_type": "stream",
          "name": "stdout",
          "text": [
            "]\n"
          ]
        },
        {
          "output_type": "stream",
          "name": "stderr",
          "text": [
            " 79%|███████▉  | 230/290 [04:03<01:03,  1.07s/it, loss=0.221]"
          ]
        },
        {
          "output_type": "stream",
          "name": "stdout",
          "text": [
            "[\n"
          ]
        },
        {
          "output_type": "stream",
          "name": "stderr",
          "text": [
            " 83%|████████▎ | 241/290 [04:15<00:51,  1.05s/it, loss=0.217]"
          ]
        },
        {
          "output_type": "stream",
          "name": "stdout",
          "text": [
            "[\n",
            "]\n"
          ]
        },
        {
          "output_type": "stream",
          "name": "stderr",
          "text": [
            " 84%|████████▍ | 243/290 [04:17<00:50,  1.07s/it, loss=0.249]"
          ]
        },
        {
          "output_type": "stream",
          "name": "stdout",
          "text": [
            "[\n"
          ]
        },
        {
          "output_type": "stream",
          "name": "stderr",
          "text": [
            " 84%|████████▍ | 244/290 [04:18<00:49,  1.08s/it, loss=0.208]"
          ]
        },
        {
          "output_type": "stream",
          "name": "stdout",
          "text": [
            "*\n",
            "*\n",
            "*\n",
            ">\n",
            ">\n"
          ]
        },
        {
          "output_type": "stream",
          "name": "stderr",
          "text": [
            " 87%|████████▋ | 253/290 [04:27<00:38,  1.05s/it, loss=0.204]"
          ]
        },
        {
          "output_type": "stream",
          "name": "stdout",
          "text": [
            "<\n"
          ]
        },
        {
          "output_type": "stream",
          "name": "stderr",
          "text": [
            " 89%|████████▉ | 259/290 [04:34<00:32,  1.04s/it, loss=0.237]"
          ]
        },
        {
          "output_type": "stream",
          "name": "stdout",
          "text": [
            ">\n",
            ">\n"
          ]
        },
        {
          "output_type": "stream",
          "name": "stderr",
          "text": [
            " 91%|█████████▏| 265/290 [04:40<00:25,  1.03s/it, loss=0.212]"
          ]
        },
        {
          "output_type": "stream",
          "name": "stdout",
          "text": [
            "[\n"
          ]
        },
        {
          "output_type": "stream",
          "name": "stderr",
          "text": [
            " 92%|█████████▏| 267/290 [04:42<00:23,  1.04s/it, loss=0.165]"
          ]
        },
        {
          "output_type": "stream",
          "name": "stdout",
          "text": [
            "]\n"
          ]
        },
        {
          "output_type": "stream",
          "name": "stderr",
          "text": [
            " 97%|█████████▋| 280/290 [04:56<00:10,  1.05s/it, loss=0.187]"
          ]
        },
        {
          "output_type": "stream",
          "name": "stdout",
          "text": [
            ">\n",
            ">\n",
            ">\n"
          ]
        },
        {
          "output_type": "stream",
          "name": "stderr",
          "text": [
            "100%|██████████| 290/290 [05:06<00:00,  1.06s/it, loss=0.206]\n"
          ]
        },
        {
          "output_type": "stream",
          "name": "stdout",
          "text": [
            "checkpoint_ep13.pth.tar saved\n"
          ]
        },
        {
          "output_type": "stream",
          "name": "stderr",
          "text": [
            "  3%|▎         | 8/290 [00:08<04:54,  1.04s/it, loss=0.159]"
          ]
        },
        {
          "output_type": "stream",
          "name": "stdout",
          "text": [
            "]\n"
          ]
        },
        {
          "output_type": "stream",
          "name": "stderr",
          "text": [
            "  7%|▋         | 20/290 [00:21<04:47,  1.06s/it, loss=0.17]"
          ]
        },
        {
          "output_type": "stream",
          "name": "stdout",
          "text": [
            "<\n"
          ]
        },
        {
          "output_type": "stream",
          "name": "stderr",
          "text": [
            "  8%|▊         | 22/290 [00:23<04:45,  1.07s/it, loss=0.157]"
          ]
        },
        {
          "output_type": "stream",
          "name": "stdout",
          "text": [
            "*\n",
            "*\n",
            "*\n"
          ]
        },
        {
          "output_type": "stream",
          "name": "stderr",
          "text": [
            "  8%|▊         | 24/290 [00:25<04:40,  1.06s/it, loss=0.181]"
          ]
        },
        {
          "output_type": "stream",
          "name": "stdout",
          "text": [
            "[\n"
          ]
        },
        {
          "output_type": "stream",
          "name": "stderr",
          "text": [
            " 12%|█▏        | 35/290 [00:36<04:22,  1.03s/it, loss=0.173]"
          ]
        },
        {
          "output_type": "stream",
          "name": "stdout",
          "text": [
            "*\n",
            "*\n",
            "*\n"
          ]
        },
        {
          "output_type": "stream",
          "name": "stderr",
          "text": [
            " 15%|█▍        | 43/290 [00:45<04:20,  1.06s/it, loss=0.176]"
          ]
        },
        {
          "output_type": "stream",
          "name": "stdout",
          "text": [
            "[\n"
          ]
        },
        {
          "output_type": "stream",
          "name": "stderr",
          "text": [
            " 21%|██▏       | 62/290 [01:05<04:00,  1.05s/it, loss=0.201]"
          ]
        },
        {
          "output_type": "stream",
          "name": "stdout",
          "text": [
            ">\n",
            ">\n"
          ]
        },
        {
          "output_type": "stream",
          "name": "stderr",
          "text": [
            " 23%|██▎       | 68/290 [01:12<03:55,  1.06s/it, loss=0.2]"
          ]
        },
        {
          "output_type": "stream",
          "name": "stdout",
          "text": [
            "[\n"
          ]
        },
        {
          "output_type": "stream",
          "name": "stderr",
          "text": [
            " 27%|██▋       | 79/290 [01:23<03:42,  1.06s/it, loss=0.199]"
          ]
        },
        {
          "output_type": "stream",
          "name": "stdout",
          "text": [
            "[\n",
            "]\n"
          ]
        },
        {
          "output_type": "stream",
          "name": "stderr",
          "text": [
            " 28%|██▊       | 81/290 [01:26<03:38,  1.05s/it, loss=0.175]"
          ]
        },
        {
          "output_type": "stream",
          "name": "stdout",
          "text": [
            ">\n"
          ]
        },
        {
          "output_type": "stream",
          "name": "stderr",
          "text": [
            " 36%|███▌      | 103/290 [01:49<03:20,  1.07s/it, loss=0.174]"
          ]
        },
        {
          "output_type": "stream",
          "name": "stdout",
          "text": [
            "]\n",
            "[\n",
            "]\n"
          ]
        },
        {
          "output_type": "stream",
          "name": "stderr",
          "text": [
            " 41%|████      | 119/290 [02:06<03:00,  1.05s/it, loss=0.166]"
          ]
        },
        {
          "output_type": "stream",
          "name": "stdout",
          "text": [
            ">\n",
            ">\n"
          ]
        },
        {
          "output_type": "stream",
          "name": "stderr",
          "text": [
            " 43%|████▎     | 124/290 [02:11<02:50,  1.03s/it, loss=0.163]"
          ]
        },
        {
          "output_type": "stream",
          "name": "stdout",
          "text": [
            ">\n",
            ">\n"
          ]
        },
        {
          "output_type": "stream",
          "name": "stderr",
          "text": [
            " 48%|████▊     | 138/290 [02:26<02:40,  1.05s/it, loss=0.186]"
          ]
        },
        {
          "output_type": "stream",
          "name": "stdout",
          "text": [
            "[\n",
            "]\n"
          ]
        },
        {
          "output_type": "stream",
          "name": "stderr",
          "text": [
            " 51%|█████     | 148/290 [02:36<02:27,  1.04s/it, loss=0.197]"
          ]
        },
        {
          "output_type": "stream",
          "name": "stdout",
          "text": [
            ">\n",
            ">\n"
          ]
        },
        {
          "output_type": "stream",
          "name": "stderr",
          "text": [
            " 53%|█████▎    | 153/290 [02:41<02:26,  1.07s/it, loss=0.182]"
          ]
        },
        {
          "output_type": "stream",
          "name": "stdout",
          "text": [
            "<\n"
          ]
        },
        {
          "output_type": "stream",
          "name": "stderr",
          "text": [
            " 59%|█████▊    | 170/290 [02:59<02:04,  1.04s/it, loss=0.144]"
          ]
        },
        {
          "output_type": "stream",
          "name": "stdout",
          "text": [
            ">\n",
            ">\n"
          ]
        },
        {
          "output_type": "stream",
          "name": "stderr",
          "text": [
            " 64%|██████▍   | 187/290 [03:17<01:47,  1.04s/it, loss=0.16]"
          ]
        },
        {
          "output_type": "stream",
          "name": "stdout",
          "text": [
            "*\n",
            "*\n",
            "*\n"
          ]
        },
        {
          "output_type": "stream",
          "name": "stderr",
          "text": [
            " 66%|██████▌   | 191/290 [03:21<01:42,  1.04s/it, loss=0.161]"
          ]
        },
        {
          "output_type": "stream",
          "name": "stdout",
          "text": [
            ">\n",
            ">\n"
          ]
        },
        {
          "output_type": "stream",
          "name": "stderr",
          "text": [
            " 70%|███████   | 203/290 [03:34<01:32,  1.06s/it, loss=0.169]"
          ]
        },
        {
          "output_type": "stream",
          "name": "stdout",
          "text": [
            "*\n",
            "*\n",
            "*\n"
          ]
        },
        {
          "output_type": "stream",
          "name": "stderr",
          "text": [
            " 73%|███████▎  | 211/290 [03:42<01:24,  1.07s/it, loss=0.156]"
          ]
        },
        {
          "output_type": "stream",
          "name": "stdout",
          "text": [
            ">\n",
            ">\n"
          ]
        },
        {
          "output_type": "stream",
          "name": "stderr",
          "text": [
            " 74%|███████▍  | 215/290 [03:46<01:21,  1.08s/it, loss=0.179]"
          ]
        },
        {
          "output_type": "stream",
          "name": "stdout",
          "text": [
            ">\n",
            ">\n"
          ]
        },
        {
          "output_type": "stream",
          "name": "stderr",
          "text": [
            " 76%|███████▌  | 221/290 [03:53<01:13,  1.06s/it, loss=0.161]"
          ]
        },
        {
          "output_type": "stream",
          "name": "stdout",
          "text": [
            ">\n",
            ">\n"
          ]
        },
        {
          "output_type": "stream",
          "name": "stderr",
          "text": [
            " 78%|███████▊  | 227/290 [03:59<01:06,  1.05s/it, loss=0.176]"
          ]
        },
        {
          "output_type": "stream",
          "name": "stdout",
          "text": [
            ">\n"
          ]
        },
        {
          "output_type": "stream",
          "name": "stderr",
          "text": [
            " 79%|███████▉  | 229/290 [04:01<01:03,  1.05s/it, loss=0.15]"
          ]
        },
        {
          "output_type": "stream",
          "name": "stdout",
          "text": [
            ">\n",
            ">\n",
            ">\n"
          ]
        },
        {
          "output_type": "stream",
          "name": "stderr",
          "text": [
            " 79%|███████▉  | 230/290 [04:02<01:05,  1.09s/it, loss=0.163]"
          ]
        },
        {
          "output_type": "stream",
          "name": "stdout",
          "text": [
            "[\n",
            "]\n"
          ]
        },
        {
          "output_type": "stream",
          "name": "stderr",
          "text": [
            " 80%|████████  | 232/290 [04:04<01:01,  1.06s/it, loss=0.162]"
          ]
        },
        {
          "output_type": "stream",
          "name": "stdout",
          "text": [
            ">\n",
            ">\n"
          ]
        },
        {
          "output_type": "stream",
          "name": "stderr",
          "text": [
            " 82%|████████▏ | 237/290 [04:10<00:54,  1.04s/it, loss=0.193]"
          ]
        },
        {
          "output_type": "stream",
          "name": "stdout",
          "text": [
            "]\n",
            "[\n",
            "]\n"
          ]
        },
        {
          "output_type": "stream",
          "name": "stderr",
          "text": [
            " 85%|████████▍ | 246/290 [04:19<00:47,  1.07s/it, loss=0.172]"
          ]
        },
        {
          "output_type": "stream",
          "name": "stdout",
          "text": [
            ">\n"
          ]
        },
        {
          "output_type": "stream",
          "name": "stderr",
          "text": [
            " 87%|████████▋ | 251/290 [04:25<00:41,  1.07s/it, loss=0.187]"
          ]
        },
        {
          "output_type": "stream",
          "name": "stdout",
          "text": [
            "[\n"
          ]
        },
        {
          "output_type": "stream",
          "name": "stderr",
          "text": [
            " 91%|█████████ | 264/290 [04:39<00:27,  1.07s/it, loss=0.162]"
          ]
        },
        {
          "output_type": "stream",
          "name": "stdout",
          "text": [
            "[\n",
            "]\n"
          ]
        },
        {
          "output_type": "stream",
          "name": "stderr",
          "text": [
            " 93%|█████████▎| 271/290 [04:46<00:20,  1.09s/it, loss=0.216]"
          ]
        },
        {
          "output_type": "stream",
          "name": "stdout",
          "text": [
            "]\n"
          ]
        },
        {
          "output_type": "stream",
          "name": "stderr",
          "text": [
            "100%|██████████| 290/290 [05:06<00:00,  1.06s/it, loss=0.149]\n",
            "  1%|▏         | 4/290 [00:04<05:03,  1.06s/it, loss=0.14]"
          ]
        },
        {
          "output_type": "stream",
          "name": "stdout",
          "text": [
            ">\n",
            ">\n"
          ]
        },
        {
          "output_type": "stream",
          "name": "stderr",
          "text": [
            "  4%|▍         | 11/290 [00:11<05:01,  1.08s/it, loss=0.127]"
          ]
        },
        {
          "output_type": "stream",
          "name": "stdout",
          "text": [
            ">\n"
          ]
        },
        {
          "output_type": "stream",
          "name": "stderr",
          "text": [
            " 12%|█▏        | 36/290 [00:38<04:23,  1.04s/it, loss=0.125]"
          ]
        },
        {
          "output_type": "stream",
          "name": "stdout",
          "text": [
            "[\n"
          ]
        },
        {
          "output_type": "stream",
          "name": "stderr",
          "text": [
            " 21%|██        | 61/290 [01:04<04:00,  1.05s/it, loss=0.203]"
          ]
        },
        {
          "output_type": "stream",
          "name": "stdout",
          "text": [
            "[\n"
          ]
        },
        {
          "output_type": "stream",
          "name": "stderr",
          "text": [
            " 26%|██▌       | 74/290 [01:18<04:05,  1.14s/it, loss=0.158]"
          ]
        },
        {
          "output_type": "stream",
          "name": "stdout",
          "text": [
            ">\n",
            ">\n"
          ]
        },
        {
          "output_type": "stream",
          "name": "stderr",
          "text": [
            " 32%|███▏      | 93/290 [01:39<03:29,  1.06s/it, loss=0.127]"
          ]
        },
        {
          "output_type": "stream",
          "name": "stdout",
          "text": [
            "[\n"
          ]
        },
        {
          "output_type": "stream",
          "name": "stderr",
          "text": [
            " 39%|███▉      | 114/290 [02:01<03:08,  1.07s/it, loss=0.12]"
          ]
        },
        {
          "output_type": "stream",
          "name": "stdout",
          "text": [
            ">\n",
            ">\n"
          ]
        },
        {
          "output_type": "stream",
          "name": "stderr",
          "text": [
            " 42%|████▏     | 122/290 [02:10<02:54,  1.04s/it, loss=0.144]"
          ]
        },
        {
          "output_type": "stream",
          "name": "stdout",
          "text": [
            ">\n"
          ]
        },
        {
          "output_type": "stream",
          "name": "stderr",
          "text": [
            " 42%|████▏     | 123/290 [02:11<02:55,  1.05s/it, loss=0.137]"
          ]
        },
        {
          "output_type": "stream",
          "name": "stdout",
          "text": [
            "]\n",
            "[\n",
            "]\n"
          ]
        },
        {
          "output_type": "stream",
          "name": "stderr",
          "text": [
            " 48%|████▊     | 140/290 [02:29<02:43,  1.09s/it, loss=0.144]"
          ]
        },
        {
          "output_type": "stream",
          "name": "stdout",
          "text": [
            "*\n",
            "*\n",
            "*\n",
            ">\n",
            ">\n",
            ">\n",
            "[\n",
            "]\n"
          ]
        },
        {
          "output_type": "stream",
          "name": "stderr",
          "text": [
            " 50%|████▉     | 144/290 [02:33<02:37,  1.08s/it, loss=0.195]"
          ]
        },
        {
          "output_type": "stream",
          "name": "stdout",
          "text": [
            "[\n",
            "]\n"
          ]
        },
        {
          "output_type": "stream",
          "name": "stderr",
          "text": [
            " 53%|█████▎    | 153/290 [02:43<02:24,  1.05s/it, loss=0.18]"
          ]
        },
        {
          "output_type": "stream",
          "name": "stdout",
          "text": [
            "]\n"
          ]
        },
        {
          "output_type": "stream",
          "name": "stderr",
          "text": [
            " 54%|█████▍    | 158/290 [02:48<02:21,  1.07s/it, loss=0.135]"
          ]
        },
        {
          "output_type": "stream",
          "name": "stdout",
          "text": [
            "[\n",
            "]\n"
          ]
        },
        {
          "output_type": "stream",
          "name": "stderr",
          "text": [
            " 57%|█████▋    | 166/290 [02:57<02:12,  1.07s/it, loss=0.156]"
          ]
        },
        {
          "output_type": "stream",
          "name": "stdout",
          "text": [
            "[\n"
          ]
        },
        {
          "output_type": "stream",
          "name": "stderr",
          "text": [
            " 58%|█████▊    | 169/290 [03:00<02:11,  1.09s/it, loss=0.188]"
          ]
        },
        {
          "output_type": "stream",
          "name": "stdout",
          "text": [
            ">\n",
            ">\n"
          ]
        },
        {
          "output_type": "stream",
          "name": "stderr",
          "text": [
            " 64%|██████▍   | 187/290 [03:19<01:48,  1.05s/it, loss=0.125]"
          ]
        },
        {
          "output_type": "stream",
          "name": "stdout",
          "text": [
            "<\n"
          ]
        },
        {
          "output_type": "stream",
          "name": "stderr",
          "text": [
            " 65%|██████▌   | 189/290 [03:21<01:47,  1.06s/it, loss=0.141]"
          ]
        },
        {
          "output_type": "stream",
          "name": "stdout",
          "text": [
            ">\n",
            ">\n",
            "<\n"
          ]
        },
        {
          "output_type": "stream",
          "name": "stderr",
          "text": [
            " 68%|██████▊   | 197/290 [03:30<01:39,  1.07s/it, loss=0.134]"
          ]
        },
        {
          "output_type": "stream",
          "name": "stdout",
          "text": [
            "[\n",
            "]\n"
          ]
        },
        {
          "output_type": "stream",
          "name": "stderr",
          "text": [
            " 73%|███████▎  | 213/290 [03:47<01:24,  1.10s/it, loss=0.131]"
          ]
        },
        {
          "output_type": "stream",
          "name": "stdout",
          "text": [
            ">\n",
            ">\n"
          ]
        },
        {
          "output_type": "stream",
          "name": "stderr",
          "text": [
            " 77%|███████▋  | 222/290 [03:57<01:14,  1.09s/it, loss=0.136]"
          ]
        },
        {
          "output_type": "stream",
          "name": "stdout",
          "text": [
            "*\n",
            "*\n",
            "*\n"
          ]
        },
        {
          "output_type": "stream",
          "name": "stderr",
          "text": [
            " 78%|███████▊  | 225/290 [04:00<01:11,  1.10s/it, loss=0.129]"
          ]
        },
        {
          "output_type": "stream",
          "name": "stdout",
          "text": [
            ">\n",
            ">\n"
          ]
        },
        {
          "output_type": "stream",
          "name": "stderr",
          "text": [
            " 83%|████████▎ | 240/290 [04:17<00:54,  1.09s/it, loss=0.154]"
          ]
        },
        {
          "output_type": "stream",
          "name": "stdout",
          "text": [
            ">\n",
            ">\n"
          ]
        },
        {
          "output_type": "stream",
          "name": "stderr",
          "text": [
            " 84%|████████▍ | 243/290 [04:20<00:50,  1.07s/it, loss=0.181]"
          ]
        },
        {
          "output_type": "stream",
          "name": "stdout",
          "text": [
            ">\n"
          ]
        },
        {
          "output_type": "stream",
          "name": "stderr",
          "text": [
            " 87%|████████▋ | 251/290 [04:28<00:39,  1.03s/it, loss=0.139]"
          ]
        },
        {
          "output_type": "stream",
          "name": "stdout",
          "text": [
            ">\n",
            ">\n"
          ]
        },
        {
          "output_type": "stream",
          "name": "stderr",
          "text": [
            " 87%|████████▋ | 252/290 [04:29<00:39,  1.04s/it, loss=0.125]"
          ]
        },
        {
          "output_type": "stream",
          "name": "stdout",
          "text": [
            ">\n",
            ">\n"
          ]
        },
        {
          "output_type": "stream",
          "name": "stderr",
          "text": [
            " 91%|█████████ | 263/290 [04:41<00:29,  1.10s/it, loss=0.139]"
          ]
        },
        {
          "output_type": "stream",
          "name": "stdout",
          "text": [
            "*\n",
            "*\n",
            "*\n"
          ]
        },
        {
          "output_type": "stream",
          "name": "stderr",
          "text": [
            " 97%|█████████▋| 280/290 [04:59<00:10,  1.05s/it, loss=0.162]"
          ]
        },
        {
          "output_type": "stream",
          "name": "stdout",
          "text": [
            "*\n",
            "*\n",
            "*\n"
          ]
        },
        {
          "output_type": "stream",
          "name": "stderr",
          "text": [
            " 98%|█████████▊| 283/290 [05:02<00:07,  1.04s/it, loss=0.159]"
          ]
        },
        {
          "output_type": "stream",
          "name": "stdout",
          "text": [
            "]\n"
          ]
        },
        {
          "output_type": "stream",
          "name": "stderr",
          "text": [
            " 99%|█████████▉| 287/290 [05:07<00:03,  1.07s/it, loss=0.167]"
          ]
        },
        {
          "output_type": "stream",
          "name": "stdout",
          "text": [
            "]\n",
            "[\n",
            "]\n"
          ]
        },
        {
          "output_type": "stream",
          "name": "stderr",
          "text": [
            "100%|██████████| 290/290 [05:09<00:00,  1.07s/it, loss=0.132]\n"
          ]
        },
        {
          "output_type": "stream",
          "name": "stdout",
          "text": [
            "checkpoint_ep15.pth.tar saved\n"
          ]
        },
        {
          "output_type": "stream",
          "name": "stderr",
          "text": [
            "  6%|▌         | 17/290 [00:18<04:51,  1.07s/it, loss=0.147]"
          ]
        },
        {
          "output_type": "stream",
          "name": "stdout",
          "text": [
            "<\n"
          ]
        },
        {
          "output_type": "stream",
          "name": "stderr",
          "text": [
            "  9%|▉         | 27/290 [00:28<04:44,  1.08s/it, loss=0.125]"
          ]
        },
        {
          "output_type": "stream",
          "name": "stdout",
          "text": [
            "[\n",
            "]\n"
          ]
        },
        {
          "output_type": "stream",
          "name": "stderr",
          "text": [
            " 17%|█▋        | 50/290 [00:53<04:12,  1.05s/it, loss=0.145]"
          ]
        },
        {
          "output_type": "stream",
          "name": "stdout",
          "text": [
            ">\n",
            ">\n"
          ]
        },
        {
          "output_type": "stream",
          "name": "stderr",
          "text": [
            " 20%|█▉        | 57/290 [01:00<04:08,  1.07s/it, loss=0.11]"
          ]
        },
        {
          "output_type": "stream",
          "name": "stdout",
          "text": [
            "[\n",
            "]\n"
          ]
        },
        {
          "output_type": "stream",
          "name": "stderr",
          "text": [
            " 22%|██▏       | 63/290 [01:06<04:01,  1.06s/it, loss=0.133]"
          ]
        },
        {
          "output_type": "stream",
          "name": "stdout",
          "text": [
            "[\n",
            "]\n"
          ]
        },
        {
          "output_type": "stream",
          "name": "stderr",
          "text": [
            " 26%|██▌       | 75/290 [01:19<03:43,  1.04s/it, loss=0.11]"
          ]
        },
        {
          "output_type": "stream",
          "name": "stdout",
          "text": [
            "]\n",
            "[\n",
            "]\n"
          ]
        },
        {
          "output_type": "stream",
          "name": "stderr",
          "text": [
            " 28%|██▊       | 82/290 [01:27<03:39,  1.06s/it, loss=0.128]"
          ]
        },
        {
          "output_type": "stream",
          "name": "stdout",
          "text": [
            ">\n",
            ">\n",
            ">\n"
          ]
        },
        {
          "output_type": "stream",
          "name": "stderr",
          "text": [
            " 33%|███▎      | 95/290 [01:41<03:35,  1.10s/it, loss=0.142]"
          ]
        },
        {
          "output_type": "stream",
          "name": "stdout",
          "text": [
            ">\n"
          ]
        },
        {
          "output_type": "stream",
          "name": "stderr",
          "text": [
            " 34%|███▍      | 100/290 [01:46<03:22,  1.07s/it, loss=0.145]"
          ]
        },
        {
          "output_type": "stream",
          "name": "stdout",
          "text": [
            "<\n",
            ">\n",
            ">\n"
          ]
        },
        {
          "output_type": "stream",
          "name": "stderr",
          "text": [
            " 35%|███▌      | 102/290 [01:48<03:16,  1.05s/it, loss=0.117]"
          ]
        },
        {
          "output_type": "stream",
          "name": "stdout",
          "text": [
            ">\n"
          ]
        },
        {
          "output_type": "stream",
          "name": "stderr",
          "text": [
            " 42%|████▏     | 122/290 [02:09<02:57,  1.06s/it, loss=0.13]"
          ]
        },
        {
          "output_type": "stream",
          "name": "stdout",
          "text": [
            "]\n",
            "[\n",
            "]\n"
          ]
        },
        {
          "output_type": "stream",
          "name": "stderr",
          "text": [
            " 43%|████▎     | 124/290 [02:12<02:58,  1.07s/it, loss=0.134]"
          ]
        },
        {
          "output_type": "stream",
          "name": "stdout",
          "text": [
            "*\n",
            "*\n",
            "*\n"
          ]
        },
        {
          "output_type": "stream",
          "name": "stderr",
          "text": [
            " 43%|████▎     | 126/290 [02:14<02:55,  1.07s/it, loss=0.134]"
          ]
        },
        {
          "output_type": "stream",
          "name": "stdout",
          "text": [
            ">\n",
            ">\n"
          ]
        },
        {
          "output_type": "stream",
          "name": "stderr",
          "text": [
            " 52%|█████▏    | 150/290 [02:39<02:27,  1.05s/it, loss=0.126]"
          ]
        },
        {
          "output_type": "stream",
          "name": "stdout",
          "text": [
            "[\n",
            "]\n"
          ]
        },
        {
          "output_type": "stream",
          "name": "stderr",
          "text": [
            " 53%|█████▎    | 155/290 [02:44<02:24,  1.07s/it, loss=0.116]"
          ]
        },
        {
          "output_type": "stream",
          "name": "stdout",
          "text": [
            "[\n"
          ]
        },
        {
          "output_type": "stream",
          "name": "stderr",
          "text": [
            " 56%|█████▌    | 163/290 [02:53<02:14,  1.06s/it, loss=0.108]"
          ]
        },
        {
          "output_type": "stream",
          "name": "stdout",
          "text": [
            "[\n",
            "]\n"
          ]
        },
        {
          "output_type": "stream",
          "name": "stderr",
          "text": [
            " 60%|██████    | 174/290 [03:04<02:03,  1.06s/it, loss=0.152]"
          ]
        },
        {
          "output_type": "stream",
          "name": "stdout",
          "text": [
            ">\n",
            ">\n"
          ]
        },
        {
          "output_type": "stream",
          "name": "stderr",
          "text": [
            " 61%|██████    | 177/290 [03:08<02:02,  1.08s/it, loss=0.154]"
          ]
        },
        {
          "output_type": "stream",
          "name": "stdout",
          "text": [
            ">\n"
          ]
        },
        {
          "output_type": "stream",
          "name": "stderr",
          "text": [
            " 62%|██████▏   | 180/290 [03:11<01:59,  1.09s/it, loss=0.11]"
          ]
        },
        {
          "output_type": "stream",
          "name": "stdout",
          "text": [
            ">\n",
            ">\n"
          ]
        },
        {
          "output_type": "stream",
          "name": "stderr",
          "text": [
            " 64%|██████▍   | 185/290 [03:16<01:53,  1.08s/it, loss=0.133]"
          ]
        },
        {
          "output_type": "stream",
          "name": "stdout",
          "text": [
            "*\n",
            "*\n",
            "*\n"
          ]
        },
        {
          "output_type": "stream",
          "name": "stderr",
          "text": [
            " 65%|██████▍   | 188/290 [03:20<01:51,  1.10s/it, loss=0.119]"
          ]
        },
        {
          "output_type": "stream",
          "name": "stdout",
          "text": [
            ">\n",
            ">\n"
          ]
        },
        {
          "output_type": "stream",
          "name": "stderr",
          "text": [
            " 70%|██████▉   | 202/290 [03:34<01:33,  1.06s/it, loss=0.128]"
          ]
        },
        {
          "output_type": "stream",
          "name": "stdout",
          "text": [
            "*\n",
            "*\n",
            "*\n"
          ]
        },
        {
          "output_type": "stream",
          "name": "stderr",
          "text": [
            " 70%|███████   | 204/290 [03:37<01:31,  1.07s/it, loss=0.147]"
          ]
        },
        {
          "output_type": "stream",
          "name": "stdout",
          "text": [
            ">\n",
            ">\n",
            ">\n",
            ">\n"
          ]
        },
        {
          "output_type": "stream",
          "name": "stderr",
          "text": [
            " 72%|███████▏  | 208/290 [03:41<01:30,  1.10s/it, loss=0.124]"
          ]
        },
        {
          "output_type": "stream",
          "name": "stdout",
          "text": [
            ">\n",
            ">\n"
          ]
        },
        {
          "output_type": "stream",
          "name": "stderr",
          "text": [
            " 90%|█████████ | 262/290 [04:38<00:28,  1.03s/it, loss=0.115]"
          ]
        },
        {
          "output_type": "stream",
          "name": "stdout",
          "text": [
            "*\n",
            "*\n",
            "*\n"
          ]
        },
        {
          "output_type": "stream",
          "name": "stderr",
          "text": [
            " 92%|█████████▏| 266/290 [04:42<00:25,  1.04s/it, loss=0.125]"
          ]
        },
        {
          "output_type": "stream",
          "name": "stdout",
          "text": [
            "]\n"
          ]
        },
        {
          "output_type": "stream",
          "name": "stderr",
          "text": [
            " 94%|█████████▍| 272/290 [04:48<00:18,  1.02s/it, loss=0.104]"
          ]
        },
        {
          "output_type": "stream",
          "name": "stdout",
          "text": [
            "[\n"
          ]
        },
        {
          "output_type": "stream",
          "name": "stderr",
          "text": [
            " 95%|█████████▍| 275/290 [04:51<00:15,  1.04s/it, loss=0.143]"
          ]
        },
        {
          "output_type": "stream",
          "name": "stdout",
          "text": [
            ">\n",
            ">\n"
          ]
        },
        {
          "output_type": "stream",
          "name": "stderr",
          "text": [
            " 99%|█████████▊| 286/290 [05:02<00:04,  1.03s/it, loss=0.151]"
          ]
        },
        {
          "output_type": "stream",
          "name": "stdout",
          "text": [
            "[\n"
          ]
        },
        {
          "output_type": "stream",
          "name": "stderr",
          "text": [
            "100%|██████████| 290/290 [05:06<00:00,  1.06s/it, loss=0.159]\n",
            "  2%|▏         | 5/290 [00:05<04:53,  1.03s/it, loss=0.0948]"
          ]
        },
        {
          "output_type": "stream",
          "name": "stdout",
          "text": [
            "[\n"
          ]
        },
        {
          "output_type": "stream",
          "name": "stderr",
          "text": [
            "  5%|▌         | 15/290 [00:15<04:49,  1.05s/it, loss=0.117]"
          ]
        },
        {
          "output_type": "stream",
          "name": "stdout",
          "text": [
            "]\n",
            "[\n",
            "]\n"
          ]
        },
        {
          "output_type": "stream",
          "name": "stderr",
          "text": [
            "  7%|▋         | 21/290 [00:21<04:36,  1.03s/it, loss=0.12]"
          ]
        },
        {
          "output_type": "stream",
          "name": "stdout",
          "text": [
            ">\n",
            ">\n"
          ]
        },
        {
          "output_type": "stream",
          "name": "stderr",
          "text": [
            " 11%|█         | 31/290 [00:31<04:21,  1.01s/it, loss=0.111]"
          ]
        },
        {
          "output_type": "stream",
          "name": "stdout",
          "text": [
            ">\n"
          ]
        },
        {
          "output_type": "stream",
          "name": "stderr",
          "text": [
            " 11%|█▏        | 33/290 [00:33<04:26,  1.04s/it, loss=0.113]"
          ]
        },
        {
          "output_type": "stream",
          "name": "stdout",
          "text": [
            ">\n",
            ">\n"
          ]
        },
        {
          "output_type": "stream",
          "name": "stderr",
          "text": [
            " 19%|█▉        | 56/290 [00:57<03:58,  1.02s/it, loss=0.097]"
          ]
        },
        {
          "output_type": "stream",
          "name": "stdout",
          "text": [
            "*\n",
            "*\n",
            "*\n"
          ]
        },
        {
          "output_type": "stream",
          "name": "stderr",
          "text": [
            " 20%|█▉        | 57/290 [00:58<03:57,  1.02s/it, loss=0.13]"
          ]
        },
        {
          "output_type": "stream",
          "name": "stdout",
          "text": [
            "]\n"
          ]
        },
        {
          "output_type": "stream",
          "name": "stderr",
          "text": [
            " 23%|██▎       | 67/290 [01:08<03:48,  1.03s/it, loss=0.0963]"
          ]
        },
        {
          "output_type": "stream",
          "name": "stdout",
          "text": [
            "[\n",
            "]\n"
          ]
        },
        {
          "output_type": "stream",
          "name": "stderr",
          "text": [
            " 26%|██▌       | 76/290 [01:17<03:37,  1.02s/it, loss=0.116]"
          ]
        },
        {
          "output_type": "stream",
          "name": "stdout",
          "text": [
            ">\n",
            ">\n"
          ]
        },
        {
          "output_type": "stream",
          "name": "stderr",
          "text": [
            " 34%|███▍      | 99/290 [01:41<03:08,  1.01it/s, loss=0.116]"
          ]
        },
        {
          "output_type": "stream",
          "name": "stdout",
          "text": [
            "*\n",
            "*\n",
            "*\n"
          ]
        },
        {
          "output_type": "stream",
          "name": "stderr",
          "text": [
            " 41%|████▏     | 120/290 [02:02<02:55,  1.03s/it, loss=0.0828]"
          ]
        },
        {
          "output_type": "stream",
          "name": "stdout",
          "text": [
            ">\n",
            ">\n",
            ">\n"
          ]
        },
        {
          "output_type": "stream",
          "name": "stderr",
          "text": [
            " 42%|████▏     | 123/290 [02:05<02:51,  1.03s/it, loss=0.0872]"
          ]
        },
        {
          "output_type": "stream",
          "name": "stdout",
          "text": [
            "[\n",
            "]\n"
          ]
        },
        {
          "output_type": "stream",
          "name": "stderr",
          "text": [
            " 47%|████▋     | 136/290 [02:19<02:41,  1.05s/it, loss=0.116]"
          ]
        },
        {
          "output_type": "stream",
          "name": "stdout",
          "text": [
            "[\n"
          ]
        },
        {
          "output_type": "stream",
          "name": "stderr",
          "text": [
            " 51%|█████▏    | 149/290 [02:33<02:22,  1.01s/it, loss=0.114]"
          ]
        },
        {
          "output_type": "stream",
          "name": "stdout",
          "text": [
            ">\n",
            ">\n"
          ]
        },
        {
          "output_type": "stream",
          "name": "stderr",
          "text": [
            " 53%|█████▎    | 155/290 [02:39<02:19,  1.03s/it, loss=0.103]"
          ]
        },
        {
          "output_type": "stream",
          "name": "stdout",
          "text": [
            ">\n",
            ">\n"
          ]
        },
        {
          "output_type": "stream",
          "name": "stderr",
          "text": [
            " 56%|█████▌    | 162/290 [02:46<02:13,  1.04s/it, loss=0.119]"
          ]
        },
        {
          "output_type": "stream",
          "name": "stdout",
          "text": [
            ">\n",
            ">\n"
          ]
        },
        {
          "output_type": "stream",
          "name": "stderr",
          "text": [
            " 57%|█████▋    | 166/290 [02:50<02:04,  1.01s/it, loss=0.0825]"
          ]
        },
        {
          "output_type": "stream",
          "name": "stdout",
          "text": [
            "]\n",
            "[\n",
            "]\n"
          ]
        },
        {
          "output_type": "stream",
          "name": "stderr",
          "text": [
            " 58%|█████▊    | 168/290 [02:52<02:04,  1.02s/it, loss=0.105]"
          ]
        },
        {
          "output_type": "stream",
          "name": "stdout",
          "text": [
            "[\n",
            "]\n"
          ]
        },
        {
          "output_type": "stream",
          "name": "stderr",
          "text": [
            " 59%|█████▉    | 171/290 [02:55<02:03,  1.04s/it, loss=0.0847]"
          ]
        },
        {
          "output_type": "stream",
          "name": "stdout",
          "text": [
            ">\n"
          ]
        },
        {
          "output_type": "stream",
          "name": "stderr",
          "text": [
            " 60%|██████    | 175/290 [03:00<01:58,  1.03s/it, loss=0.131]"
          ]
        },
        {
          "output_type": "stream",
          "name": "stdout",
          "text": [
            "<\n"
          ]
        },
        {
          "output_type": "stream",
          "name": "stderr",
          "text": [
            " 66%|██████▌   | 191/290 [03:16<01:46,  1.07s/it, loss=0.0838]"
          ]
        },
        {
          "output_type": "stream",
          "name": "stdout",
          "text": [
            ">\n",
            ">\n"
          ]
        },
        {
          "output_type": "stream",
          "name": "stderr",
          "text": [
            " 68%|██████▊   | 198/290 [03:24<01:35,  1.04s/it, loss=0.117]"
          ]
        },
        {
          "output_type": "stream",
          "name": "stdout",
          "text": [
            "[\n"
          ]
        },
        {
          "output_type": "stream",
          "name": "stderr",
          "text": [
            " 72%|███████▏  | 210/290 [03:36<01:22,  1.04s/it, loss=0.0934]"
          ]
        },
        {
          "output_type": "stream",
          "name": "stdout",
          "text": [
            "[\n",
            "]\n"
          ]
        },
        {
          "output_type": "stream",
          "name": "stderr",
          "text": [
            " 74%|███████▍  | 215/290 [03:41<01:15,  1.01s/it, loss=0.153]"
          ]
        },
        {
          "output_type": "stream",
          "name": "stdout",
          "text": [
            "]\n"
          ]
        },
        {
          "output_type": "stream",
          "name": "stderr",
          "text": [
            " 74%|███████▍  | 216/290 [03:42<01:16,  1.03s/it, loss=0.126]"
          ]
        },
        {
          "output_type": "stream",
          "name": "stdout",
          "text": [
            "<\n"
          ]
        },
        {
          "output_type": "stream",
          "name": "stderr",
          "text": [
            " 76%|███████▌  | 219/290 [03:45<01:15,  1.07s/it, loss=0.0975]"
          ]
        },
        {
          "output_type": "stream",
          "name": "stdout",
          "text": [
            "*\n",
            "*\n",
            "*\n"
          ]
        },
        {
          "output_type": "stream",
          "name": "stderr",
          "text": [
            " 82%|████████▏ | 237/290 [04:04<00:55,  1.05s/it, loss=0.107]"
          ]
        },
        {
          "output_type": "stream",
          "name": "stdout",
          "text": [
            "[\n"
          ]
        },
        {
          "output_type": "stream",
          "name": "stderr",
          "text": [
            " 85%|████████▌ | 247/290 [04:14<00:43,  1.01s/it, loss=0.0861]"
          ]
        },
        {
          "output_type": "stream",
          "name": "stdout",
          "text": [
            ">\n",
            ">\n"
          ]
        },
        {
          "output_type": "stream",
          "name": "stderr",
          "text": [
            " 86%|████████▌ | 248/290 [04:15<00:42,  1.02s/it, loss=0.107]"
          ]
        },
        {
          "output_type": "stream",
          "name": "stdout",
          "text": [
            ">\n"
          ]
        },
        {
          "output_type": "stream",
          "name": "stderr",
          "text": [
            " 89%|████████▉ | 258/290 [04:26<00:33,  1.04s/it, loss=0.109]"
          ]
        },
        {
          "output_type": "stream",
          "name": "stdout",
          "text": [
            ">\n",
            ">\n"
          ]
        },
        {
          "output_type": "stream",
          "name": "stderr",
          "text": [
            " 95%|█████████▍| 275/290 [04:43<00:15,  1.03s/it, loss=0.0901]"
          ]
        },
        {
          "output_type": "stream",
          "name": "stdout",
          "text": [
            "*\n",
            "*\n",
            "*\n"
          ]
        },
        {
          "output_type": "stream",
          "name": "stderr",
          "text": [
            " 98%|█████████▊| 285/290 [04:53<00:04,  1.01it/s, loss=0.0864]"
          ]
        },
        {
          "output_type": "stream",
          "name": "stdout",
          "text": [
            ">\n",
            ">\n"
          ]
        },
        {
          "output_type": "stream",
          "name": "stderr",
          "text": [
            "100%|██████████| 290/290 [04:58<00:00,  1.03s/it, loss=0.111]\n"
          ]
        },
        {
          "output_type": "stream",
          "name": "stdout",
          "text": [
            "checkpoint_ep17.pth.tar saved\n"
          ]
        },
        {
          "output_type": "stream",
          "name": "stderr",
          "text": [
            "  1%|          | 2/290 [00:02<04:58,  1.04s/it, loss=0.0905]"
          ]
        },
        {
          "output_type": "stream",
          "name": "stdout",
          "text": [
            "*\n",
            "*\n",
            "*\n"
          ]
        },
        {
          "output_type": "stream",
          "name": "stderr",
          "text": [
            "  2%|▏         | 5/290 [00:05<05:03,  1.06s/it, loss=0.0762]"
          ]
        },
        {
          "output_type": "stream",
          "name": "stdout",
          "text": [
            ">\n"
          ]
        },
        {
          "output_type": "stream",
          "name": "stderr",
          "text": [
            "  3%|▎         | 10/290 [00:10<04:48,  1.03s/it, loss=0.116]"
          ]
        },
        {
          "output_type": "stream",
          "name": "stdout",
          "text": [
            "[\n",
            "]\n"
          ]
        },
        {
          "output_type": "stream",
          "name": "stderr",
          "text": [
            "  6%|▌         | 16/290 [00:16<04:38,  1.02s/it, loss=0.0782]"
          ]
        },
        {
          "output_type": "stream",
          "name": "stdout",
          "text": [
            "[\n",
            "[\n"
          ]
        },
        {
          "output_type": "stream",
          "name": "stderr",
          "text": [
            "  7%|▋         | 20/290 [00:20<04:36,  1.02s/it, loss=0.0642]"
          ]
        },
        {
          "output_type": "stream",
          "name": "stdout",
          "text": [
            ">\n",
            ">\n",
            ">\n",
            ">\n"
          ]
        },
        {
          "output_type": "stream",
          "name": "stderr",
          "text": [
            " 10%|█         | 29/290 [00:30<04:26,  1.02s/it, loss=0.0923]"
          ]
        },
        {
          "output_type": "stream",
          "name": "stdout",
          "text": [
            "*\n",
            "*\n",
            "*\n"
          ]
        },
        {
          "output_type": "stream",
          "name": "stderr",
          "text": [
            " 13%|█▎        | 39/290 [00:40<04:11,  1.00s/it, loss=0.0755]"
          ]
        },
        {
          "output_type": "stream",
          "name": "stdout",
          "text": [
            ">\n",
            ">\n",
            ">\n"
          ]
        },
        {
          "output_type": "stream",
          "name": "stderr",
          "text": [
            " 16%|█▌        | 45/290 [00:46<04:10,  1.02s/it, loss=0.0989]"
          ]
        },
        {
          "output_type": "stream",
          "name": "stdout",
          "text": [
            "]\n"
          ]
        },
        {
          "output_type": "stream",
          "name": "stderr",
          "text": [
            " 20%|█▉        | 57/290 [00:58<03:59,  1.03s/it, loss=0.0745]"
          ]
        },
        {
          "output_type": "stream",
          "name": "stdout",
          "text": [
            ">\n",
            ">\n",
            ">\n",
            ">\n"
          ]
        },
        {
          "output_type": "stream",
          "name": "stderr",
          "text": [
            " 20%|██        | 58/290 [00:59<03:58,  1.03s/it, loss=0.107]"
          ]
        },
        {
          "output_type": "stream",
          "name": "stdout",
          "text": [
            "<\n"
          ]
        },
        {
          "output_type": "stream",
          "name": "stderr",
          "text": [
            " 23%|██▎       | 66/290 [01:07<03:47,  1.01s/it, loss=0.11]"
          ]
        },
        {
          "output_type": "stream",
          "name": "stdout",
          "text": [
            "]\n",
            "[\n",
            "]\n"
          ]
        },
        {
          "output_type": "stream",
          "name": "stderr",
          "text": [
            " 25%|██▍       | 72/290 [01:13<03:41,  1.02s/it, loss=0.0993]"
          ]
        },
        {
          "output_type": "stream",
          "name": "stdout",
          "text": [
            ">\n",
            ">\n"
          ]
        },
        {
          "output_type": "stream",
          "name": "stderr",
          "text": [
            " 32%|███▏      | 92/290 [01:34<03:18,  1.00s/it, loss=0.0852]"
          ]
        },
        {
          "output_type": "stream",
          "name": "stdout",
          "text": [
            "[\n"
          ]
        },
        {
          "output_type": "stream",
          "name": "stderr",
          "text": [
            " 33%|███▎      | 95/290 [01:37<03:20,  1.03s/it, loss=0.102]"
          ]
        },
        {
          "output_type": "stream",
          "name": "stdout",
          "text": [
            ">\n",
            ">\n",
            ">\n"
          ]
        },
        {
          "output_type": "stream",
          "name": "stderr",
          "text": [
            " 40%|████      | 117/290 [01:59<02:56,  1.02s/it, loss=0.0724]"
          ]
        },
        {
          "output_type": "stream",
          "name": "stdout",
          "text": [
            "[\n"
          ]
        },
        {
          "output_type": "stream",
          "name": "stderr",
          "text": [
            " 46%|████▌     | 133/290 [02:16<02:44,  1.05s/it, loss=0.0888]"
          ]
        },
        {
          "output_type": "stream",
          "name": "stdout",
          "text": [
            "[\n",
            "]\n"
          ]
        },
        {
          "output_type": "stream",
          "name": "stderr",
          "text": [
            " 47%|████▋     | 137/290 [02:20<02:39,  1.04s/it, loss=0.0861]"
          ]
        },
        {
          "output_type": "stream",
          "name": "stdout",
          "text": [
            "<\n"
          ]
        },
        {
          "output_type": "stream",
          "name": "stderr",
          "text": [
            " 48%|████▊     | 140/290 [02:23<02:32,  1.01s/it, loss=0.0726]"
          ]
        },
        {
          "output_type": "stream",
          "name": "stdout",
          "text": [
            "[\n",
            "]\n"
          ]
        },
        {
          "output_type": "stream",
          "name": "stderr",
          "text": [
            " 50%|█████     | 146/290 [02:29<02:27,  1.02s/it, loss=0.0907]"
          ]
        },
        {
          "output_type": "stream",
          "name": "stdout",
          "text": [
            ">\n"
          ]
        },
        {
          "output_type": "stream",
          "name": "stderr",
          "text": [
            " 51%|█████▏    | 149/290 [02:32<02:26,  1.04s/it, loss=0.144]"
          ]
        },
        {
          "output_type": "stream",
          "name": "stdout",
          "text": [
            ">\n",
            ">\n"
          ]
        },
        {
          "output_type": "stream",
          "name": "stderr",
          "text": [
            " 63%|██████▎   | 184/290 [03:08<01:50,  1.04s/it, loss=0.0763]"
          ]
        },
        {
          "output_type": "stream",
          "name": "stdout",
          "text": [
            "]\n"
          ]
        },
        {
          "output_type": "stream",
          "name": "stderr",
          "text": [
            " 64%|██████▍   | 185/290 [03:09<01:48,  1.04s/it, loss=0.0942]"
          ]
        },
        {
          "output_type": "stream",
          "name": "stdout",
          "text": [
            "*\n",
            "*\n",
            "*\n"
          ]
        },
        {
          "output_type": "stream",
          "name": "stderr",
          "text": [
            " 80%|████████  | 232/290 [03:57<00:59,  1.03s/it, loss=0.0993]"
          ]
        },
        {
          "output_type": "stream",
          "name": "stdout",
          "text": [
            ">\n",
            ">\n"
          ]
        },
        {
          "output_type": "stream",
          "name": "stderr",
          "text": [
            " 87%|████████▋ | 252/290 [04:18<00:38,  1.03s/it, loss=0.0599]"
          ]
        },
        {
          "output_type": "stream",
          "name": "stdout",
          "text": [
            "]\n",
            "[\n",
            "]\n"
          ]
        },
        {
          "output_type": "stream",
          "name": "stderr",
          "text": [
            " 90%|█████████ | 261/290 [04:27<00:29,  1.03s/it, loss=0.114]"
          ]
        },
        {
          "output_type": "stream",
          "name": "stdout",
          "text": [
            "*\n",
            "*\n",
            "*\n"
          ]
        },
        {
          "output_type": "stream",
          "name": "stderr",
          "text": [
            " 91%|█████████ | 263/290 [04:29<00:27,  1.01s/it, loss=0.0687]"
          ]
        },
        {
          "output_type": "stream",
          "name": "stdout",
          "text": [
            "[\n",
            "]\n"
          ]
        },
        {
          "output_type": "stream",
          "name": "stderr",
          "text": [
            " 97%|█████████▋| 280/290 [04:47<00:10,  1.03s/it, loss=0.123]"
          ]
        },
        {
          "output_type": "stream",
          "name": "stdout",
          "text": [
            ">\n",
            ">\n"
          ]
        },
        {
          "output_type": "stream",
          "name": "stderr",
          "text": [
            " 98%|█████████▊| 283/290 [04:50<00:07,  1.03s/it, loss=0.114]"
          ]
        },
        {
          "output_type": "stream",
          "name": "stdout",
          "text": [
            ">\n",
            ">\n"
          ]
        },
        {
          "output_type": "stream",
          "name": "stderr",
          "text": [
            "100%|██████████| 290/290 [04:57<00:00,  1.02s/it, loss=0.0784]\n",
            "  1%|          | 2/290 [00:02<05:00,  1.04s/it, loss=0.102]"
          ]
        },
        {
          "output_type": "stream",
          "name": "stdout",
          "text": [
            ">\n",
            ">\n"
          ]
        },
        {
          "output_type": "stream",
          "name": "stderr",
          "text": [
            "  1%|          | 3/290 [00:03<04:49,  1.01s/it, loss=0.0893]"
          ]
        },
        {
          "output_type": "stream",
          "name": "stdout",
          "text": [
            ">\n",
            ">\n"
          ]
        },
        {
          "output_type": "stream",
          "name": "stderr",
          "text": [
            "  6%|▌         | 18/290 [00:18<04:32,  1.00s/it, loss=0.0712]"
          ]
        },
        {
          "output_type": "stream",
          "name": "stdout",
          "text": [
            ">\n",
            ">\n"
          ]
        },
        {
          "output_type": "stream",
          "name": "stderr",
          "text": [
            "  8%|▊         | 24/290 [00:24<04:30,  1.02s/it, loss=0.0767]"
          ]
        },
        {
          "output_type": "stream",
          "name": "stdout",
          "text": [
            "]\n"
          ]
        },
        {
          "output_type": "stream",
          "name": "stderr",
          "text": [
            " 10%|▉         | 28/290 [00:28<04:35,  1.05s/it, loss=0.0888]"
          ]
        },
        {
          "output_type": "stream",
          "name": "stdout",
          "text": [
            "[\n"
          ]
        },
        {
          "output_type": "stream",
          "name": "stderr",
          "text": [
            " 11%|█         | 31/290 [00:31<04:25,  1.03s/it, loss=0.0849]"
          ]
        },
        {
          "output_type": "stream",
          "name": "stdout",
          "text": [
            ">\n"
          ]
        },
        {
          "output_type": "stream",
          "name": "stderr",
          "text": [
            " 16%|█▌        | 46/290 [00:47<04:14,  1.04s/it, loss=0.0677]"
          ]
        },
        {
          "output_type": "stream",
          "name": "stdout",
          "text": [
            "[\n"
          ]
        },
        {
          "output_type": "stream",
          "name": "stderr",
          "text": [
            " 19%|█▊        | 54/290 [00:55<04:12,  1.07s/it, loss=0.0972]"
          ]
        },
        {
          "output_type": "stream",
          "name": "stdout",
          "text": [
            "[\n",
            "]\n"
          ]
        },
        {
          "output_type": "stream",
          "name": "stderr",
          "text": [
            " 29%|██▉       | 85/290 [01:27<03:31,  1.03s/it, loss=0.0839]"
          ]
        },
        {
          "output_type": "stream",
          "name": "stdout",
          "text": [
            "*\n",
            "*\n",
            "*\n"
          ]
        },
        {
          "output_type": "stream",
          "name": "stderr",
          "text": [
            " 31%|███       | 90/290 [01:32<03:24,  1.02s/it, loss=0.0985]"
          ]
        },
        {
          "output_type": "stream",
          "name": "stdout",
          "text": [
            ">\n"
          ]
        },
        {
          "output_type": "stream",
          "name": "stderr",
          "text": [
            " 32%|███▏      | 94/290 [01:36<03:26,  1.05s/it, loss=0.0667]"
          ]
        },
        {
          "output_type": "stream",
          "name": "stdout",
          "text": [
            "<\n"
          ]
        },
        {
          "output_type": "stream",
          "name": "stderr",
          "text": [
            " 37%|███▋      | 106/290 [01:49<03:07,  1.02s/it, loss=0.0892]"
          ]
        },
        {
          "output_type": "stream",
          "name": "stdout",
          "text": [
            ">\n",
            ">\n",
            ">\n"
          ]
        },
        {
          "output_type": "stream",
          "name": "stderr",
          "text": [
            " 42%|████▏     | 121/290 [02:04<02:54,  1.03s/it, loss=0.0706]"
          ]
        },
        {
          "output_type": "stream",
          "name": "stdout",
          "text": [
            ">\n"
          ]
        },
        {
          "output_type": "stream",
          "name": "stderr",
          "text": [
            " 48%|████▊     | 139/290 [02:22<02:34,  1.02s/it, loss=0.0929]"
          ]
        },
        {
          "output_type": "stream",
          "name": "stdout",
          "text": [
            "]\n",
            "[\n",
            "]\n",
            ">\n",
            ">\n"
          ]
        },
        {
          "output_type": "stream",
          "name": "stderr",
          "text": [
            " 49%|████▉     | 142/290 [02:26<02:31,  1.02s/it, loss=0.0666]"
          ]
        },
        {
          "output_type": "stream",
          "name": "stdout",
          "text": [
            "[\n",
            "]\n"
          ]
        },
        {
          "output_type": "stream",
          "name": "stderr",
          "text": [
            " 52%|█████▏    | 152/290 [02:36<02:20,  1.02s/it, loss=0.0795]"
          ]
        },
        {
          "output_type": "stream",
          "name": "stdout",
          "text": [
            "[\n",
            "]\n"
          ]
        },
        {
          "output_type": "stream",
          "name": "stderr",
          "text": [
            " 53%|█████▎    | 154/290 [02:38<02:18,  1.02s/it, loss=0.0765]"
          ]
        },
        {
          "output_type": "stream",
          "name": "stdout",
          "text": [
            "]\n"
          ]
        },
        {
          "output_type": "stream",
          "name": "stderr",
          "text": [
            " 55%|█████▍    | 159/290 [02:43<02:18,  1.05s/it, loss=0.115]"
          ]
        },
        {
          "output_type": "stream",
          "name": "stdout",
          "text": [
            "[\n",
            "]\n",
            "*\n",
            "*\n",
            "*\n"
          ]
        },
        {
          "output_type": "stream",
          "name": "stderr",
          "text": [
            " 56%|█████▌    | 162/290 [02:46<02:13,  1.04s/it, loss=0.119]"
          ]
        },
        {
          "output_type": "stream",
          "name": "stdout",
          "text": [
            "[\n"
          ]
        },
        {
          "output_type": "stream",
          "name": "stderr",
          "text": [
            " 63%|██████▎   | 183/290 [03:08<01:48,  1.02s/it, loss=0.0807]"
          ]
        },
        {
          "output_type": "stream",
          "name": "stdout",
          "text": [
            "*\n",
            "*\n",
            "*\n"
          ]
        },
        {
          "output_type": "stream",
          "name": "stderr",
          "text": [
            " 67%|██████▋   | 194/290 [03:19<01:38,  1.03s/it, loss=0.0745]"
          ]
        },
        {
          "output_type": "stream",
          "name": "stdout",
          "text": [
            ">\n",
            ">\n"
          ]
        },
        {
          "output_type": "stream",
          "name": "stderr",
          "text": [
            " 71%|███████▏  | 207/290 [03:32<01:25,  1.03s/it, loss=0.0529]"
          ]
        },
        {
          "output_type": "stream",
          "name": "stdout",
          "text": [
            ">\n",
            ">\n"
          ]
        },
        {
          "output_type": "stream",
          "name": "stderr",
          "text": [
            " 81%|████████▏ | 236/290 [04:02<00:55,  1.02s/it, loss=0.108]"
          ]
        },
        {
          "output_type": "stream",
          "name": "stdout",
          "text": [
            "]\n",
            "[\n",
            "]\n"
          ]
        },
        {
          "output_type": "stream",
          "name": "stderr",
          "text": [
            " 82%|████████▏ | 238/290 [04:04<00:52,  1.02s/it, loss=0.0784]"
          ]
        },
        {
          "output_type": "stream",
          "name": "stdout",
          "text": [
            ">\n",
            ">\n"
          ]
        },
        {
          "output_type": "stream",
          "name": "stderr",
          "text": [
            " 83%|████████▎ | 242/290 [04:08<00:50,  1.05s/it, loss=0.0797]"
          ]
        },
        {
          "output_type": "stream",
          "name": "stdout",
          "text": [
            "*\n",
            "*\n",
            "*\n"
          ]
        },
        {
          "output_type": "stream",
          "name": "stderr",
          "text": [
            " 84%|████████▍ | 243/290 [04:09<00:49,  1.05s/it, loss=0.0669]"
          ]
        },
        {
          "output_type": "stream",
          "name": "stdout",
          "text": [
            ">\n",
            ">\n"
          ]
        },
        {
          "output_type": "stream",
          "name": "stderr",
          "text": [
            " 89%|████████▉ | 259/290 [04:26<00:32,  1.04s/it, loss=0.0852]"
          ]
        },
        {
          "output_type": "stream",
          "name": "stdout",
          "text": [
            "<\n"
          ]
        },
        {
          "output_type": "stream",
          "name": "stderr",
          "text": [
            " 91%|█████████ | 264/290 [04:31<00:26,  1.03s/it, loss=0.0657]"
          ]
        },
        {
          "output_type": "stream",
          "name": "stdout",
          "text": [
            ">\n",
            ">\n"
          ]
        },
        {
          "output_type": "stream",
          "name": "stderr",
          "text": [
            " 96%|█████████▌| 278/290 [04:45<00:12,  1.03s/it, loss=0.0587]"
          ]
        },
        {
          "output_type": "stream",
          "name": "stdout",
          "text": [
            "[\n"
          ]
        },
        {
          "output_type": "stream",
          "name": "stderr",
          "text": [
            " 97%|█████████▋| 281/290 [04:48<00:09,  1.02s/it, loss=0.0645]"
          ]
        },
        {
          "output_type": "stream",
          "name": "stdout",
          "text": [
            ">\n",
            ">\n"
          ]
        },
        {
          "output_type": "stream",
          "name": "stderr",
          "text": [
            "100%|██████████| 290/290 [04:57<00:00,  1.02s/it, loss=0.116]\n"
          ]
        },
        {
          "output_type": "stream",
          "name": "stdout",
          "text": [
            "checkpoint_ep19.pth.tar saved\n"
          ]
        },
        {
          "output_type": "stream",
          "name": "stderr",
          "text": [
            "  1%|▏         | 4/290 [00:04<04:51,  1.02s/it, loss=0.0842]"
          ]
        },
        {
          "output_type": "stream",
          "name": "stdout",
          "text": [
            ">\n",
            ">\n"
          ]
        },
        {
          "output_type": "stream",
          "name": "stderr",
          "text": [
            " 10%|▉         | 28/290 [00:28<04:23,  1.00s/it, loss=0.0663]"
          ]
        },
        {
          "output_type": "stream",
          "name": "stdout",
          "text": [
            ">\n",
            ">\n"
          ]
        },
        {
          "output_type": "stream",
          "name": "stderr",
          "text": [
            " 20%|██        | 58/290 [00:58<03:53,  1.01s/it, loss=0.0728]"
          ]
        },
        {
          "output_type": "stream",
          "name": "stdout",
          "text": [
            "]\n"
          ]
        },
        {
          "output_type": "stream",
          "name": "stderr",
          "text": [
            " 21%|██        | 61/290 [01:01<03:50,  1.01s/it, loss=0.109]"
          ]
        },
        {
          "output_type": "stream",
          "name": "stdout",
          "text": [
            "[\n"
          ]
        },
        {
          "output_type": "stream",
          "name": "stderr",
          "text": [
            " 23%|██▎       | 66/290 [01:06<03:47,  1.02s/it, loss=0.0836]"
          ]
        },
        {
          "output_type": "stream",
          "name": "stdout",
          "text": [
            ">\n",
            ">\n"
          ]
        },
        {
          "output_type": "stream",
          "name": "stderr",
          "text": [
            " 28%|██▊       | 80/290 [01:20<03:30,  1.00s/it, loss=0.0689]"
          ]
        },
        {
          "output_type": "stream",
          "name": "stdout",
          "text": [
            "*\n",
            "*\n",
            "*\n"
          ]
        },
        {
          "output_type": "stream",
          "name": "stderr",
          "text": [
            " 32%|███▏      | 94/290 [01:34<03:16,  1.00s/it, loss=0.0857]"
          ]
        },
        {
          "output_type": "stream",
          "name": "stdout",
          "text": [
            "[\n"
          ]
        },
        {
          "output_type": "stream",
          "name": "stderr",
          "text": [
            " 35%|███▍      | 101/290 [01:41<03:19,  1.06s/it, loss=0.0688]"
          ]
        },
        {
          "output_type": "stream",
          "name": "stdout",
          "text": [
            ">\n",
            "[\n"
          ]
        },
        {
          "output_type": "stream",
          "name": "stderr",
          "text": [
            " 35%|███▌      | 102/290 [01:42<03:17,  1.05s/it, loss=0.0914]"
          ]
        },
        {
          "output_type": "stream",
          "name": "stdout",
          "text": [
            "[\n",
            "]\n",
            ">\n",
            ">\n"
          ]
        },
        {
          "output_type": "stream",
          "name": "stderr",
          "text": [
            " 38%|███▊      | 110/290 [01:50<03:03,  1.02s/it, loss=0.0679]"
          ]
        },
        {
          "output_type": "stream",
          "name": "stdout",
          "text": [
            "<\n"
          ]
        },
        {
          "output_type": "stream",
          "name": "stderr",
          "text": [
            " 43%|████▎     | 124/290 [02:05<02:51,  1.03s/it, loss=0.0719]"
          ]
        },
        {
          "output_type": "stream",
          "name": "stdout",
          "text": [
            ">\n",
            ">\n"
          ]
        },
        {
          "output_type": "stream",
          "name": "stderr",
          "text": [
            " 43%|████▎     | 126/290 [02:07<02:46,  1.02s/it, loss=0.0622]"
          ]
        },
        {
          "output_type": "stream",
          "name": "stdout",
          "text": [
            ">\n",
            ">\n"
          ]
        },
        {
          "output_type": "stream",
          "name": "stderr",
          "text": [
            " 46%|████▌     | 132/290 [02:13<02:38,  1.00s/it, loss=0.101]"
          ]
        },
        {
          "output_type": "stream",
          "name": "stdout",
          "text": [
            ">\n",
            ">\n"
          ]
        },
        {
          "output_type": "stream",
          "name": "stderr",
          "text": [
            " 47%|████▋     | 136/290 [02:17<02:32,  1.01it/s, loss=0.0621]"
          ]
        },
        {
          "output_type": "stream",
          "name": "stdout",
          "text": [
            "<\n"
          ]
        },
        {
          "output_type": "stream",
          "name": "stderr",
          "text": [
            " 48%|████▊     | 138/290 [02:19<02:34,  1.02s/it, loss=0.0721]"
          ]
        },
        {
          "output_type": "stream",
          "name": "stdout",
          "text": [
            "*\n",
            "*\n",
            "*\n"
          ]
        },
        {
          "output_type": "stream",
          "name": "stderr",
          "text": [
            " 50%|█████     | 146/290 [02:27<02:22,  1.01it/s, loss=0.0534]"
          ]
        },
        {
          "output_type": "stream",
          "name": "stdout",
          "text": [
            "]\n"
          ]
        },
        {
          "output_type": "stream",
          "name": "stderr",
          "text": [
            " 52%|█████▏    | 151/290 [02:32<02:18,  1.01it/s, loss=0.0857]"
          ]
        },
        {
          "output_type": "stream",
          "name": "stdout",
          "text": [
            ">\n"
          ]
        },
        {
          "output_type": "stream",
          "name": "stderr",
          "text": [
            " 56%|█████▌    | 162/290 [02:43<02:11,  1.03s/it, loss=0.127]"
          ]
        },
        {
          "output_type": "stream",
          "name": "stdout",
          "text": [
            "]\n",
            "[\n",
            "]\n"
          ]
        },
        {
          "output_type": "stream",
          "name": "stderr",
          "text": [
            " 62%|██████▏   | 180/290 [03:01<01:53,  1.03s/it, loss=0.0707]"
          ]
        },
        {
          "output_type": "stream",
          "name": "stdout",
          "text": [
            "[\n"
          ]
        },
        {
          "output_type": "stream",
          "name": "stderr",
          "text": [
            " 63%|██████▎   | 182/290 [03:03<01:48,  1.00s/it, loss=0.0729]"
          ]
        },
        {
          "output_type": "stream",
          "name": "stdout",
          "text": [
            "[\n",
            "]\n"
          ]
        },
        {
          "output_type": "stream",
          "name": "stderr",
          "text": [
            " 64%|██████▍   | 186/290 [03:07<01:46,  1.02s/it, loss=0.0748]"
          ]
        },
        {
          "output_type": "stream",
          "name": "stdout",
          "text": [
            ">\n",
            ">\n"
          ]
        },
        {
          "output_type": "stream",
          "name": "stderr",
          "text": [
            " 77%|███████▋  | 224/290 [03:48<01:06,  1.01s/it, loss=0.0787]"
          ]
        },
        {
          "output_type": "stream",
          "name": "stdout",
          "text": [
            "]\n",
            "[\n",
            "]\n"
          ]
        },
        {
          "output_type": "stream",
          "name": "stderr",
          "text": [
            " 78%|███████▊  | 227/290 [03:51<01:04,  1.02s/it, loss=0.0667]"
          ]
        },
        {
          "output_type": "stream",
          "name": "stdout",
          "text": [
            "[\n",
            "]\n"
          ]
        },
        {
          "output_type": "stream",
          "name": "stderr",
          "text": [
            " 80%|████████  | 232/290 [03:56<00:57,  1.00it/s, loss=0.0547]"
          ]
        },
        {
          "output_type": "stream",
          "name": "stdout",
          "text": [
            ">\n",
            ">\n"
          ]
        },
        {
          "output_type": "stream",
          "name": "stderr",
          "text": [
            " 87%|████████▋ | 251/290 [04:15<00:38,  1.00it/s, loss=0.0603]"
          ]
        },
        {
          "output_type": "stream",
          "name": "stdout",
          "text": [
            "*\n",
            "*\n",
            "*\n"
          ]
        },
        {
          "output_type": "stream",
          "name": "stderr",
          "text": [
            " 88%|████████▊ | 255/290 [04:19<00:36,  1.03s/it, loss=0.0604]"
          ]
        },
        {
          "output_type": "stream",
          "name": "stdout",
          "text": [
            ">\n"
          ]
        },
        {
          "output_type": "stream",
          "name": "stderr",
          "text": [
            " 91%|█████████▏| 265/290 [04:29<00:25,  1.03s/it, loss=0.0525]"
          ]
        },
        {
          "output_type": "stream",
          "name": "stdout",
          "text": [
            "*\n",
            "*\n",
            "*\n"
          ]
        },
        {
          "output_type": "stream",
          "name": "stderr",
          "text": [
            " 92%|█████████▏| 266/290 [04:30<00:24,  1.04s/it, loss=0.0615]"
          ]
        },
        {
          "output_type": "stream",
          "name": "stdout",
          "text": [
            "[\n",
            "]\n"
          ]
        },
        {
          "output_type": "stream",
          "name": "stderr",
          "text": [
            " 92%|█████████▏| 268/290 [04:32<00:23,  1.08s/it, loss=0.0597]"
          ]
        },
        {
          "output_type": "stream",
          "name": "stdout",
          "text": [
            ">\n",
            ">\n"
          ]
        },
        {
          "output_type": "stream",
          "name": "stderr",
          "text": [
            " 99%|█████████▊| 286/290 [04:51<00:04,  1.01s/it, loss=0.0613]"
          ]
        },
        {
          "output_type": "stream",
          "name": "stdout",
          "text": [
            ">\n",
            ">\n",
            ">\n"
          ]
        },
        {
          "output_type": "stream",
          "name": "stderr",
          "text": [
            "100%|██████████| 290/290 [04:54<00:00,  1.02s/it, loss=0.0737]\n",
            "  2%|▏         | 6/290 [00:06<04:42,  1.00it/s, loss=0.0676]"
          ]
        },
        {
          "output_type": "stream",
          "name": "stdout",
          "text": [
            ">\n",
            ">\n",
            ">\n",
            ">\n"
          ]
        },
        {
          "output_type": "stream",
          "name": "stderr",
          "text": [
            "  9%|▉         | 27/290 [00:27<04:23,  1.00s/it, loss=0.0425]"
          ]
        },
        {
          "output_type": "stream",
          "name": "stdout",
          "text": [
            "[\n",
            "]\n"
          ]
        },
        {
          "output_type": "stream",
          "name": "stderr",
          "text": [
            " 15%|█▌        | 44/290 [00:44<04:06,  1.00s/it, loss=0.0566]"
          ]
        },
        {
          "output_type": "stream",
          "name": "stdout",
          "text": [
            "]\n",
            "[\n",
            "]\n"
          ]
        },
        {
          "output_type": "stream",
          "name": "stderr",
          "text": [
            " 17%|█▋        | 48/290 [00:48<04:01,  1.00it/s, loss=0.062]"
          ]
        },
        {
          "output_type": "stream",
          "name": "stdout",
          "text": [
            "]\n"
          ]
        },
        {
          "output_type": "stream",
          "name": "stderr",
          "text": [
            " 17%|█▋        | 49/290 [00:49<04:03,  1.01s/it, loss=0.0555]"
          ]
        },
        {
          "output_type": "stream",
          "name": "stdout",
          "text": [
            "[\n"
          ]
        },
        {
          "output_type": "stream",
          "name": "stderr",
          "text": [
            " 19%|█▉        | 55/290 [00:55<03:53,  1.01it/s, loss=0.053]"
          ]
        },
        {
          "output_type": "stream",
          "name": "stdout",
          "text": [
            ">\n",
            ">\n"
          ]
        },
        {
          "output_type": "stream",
          "name": "stderr",
          "text": [
            " 22%|██▏       | 63/290 [01:03<03:46,  1.00it/s, loss=0.0531]"
          ]
        },
        {
          "output_type": "stream",
          "name": "stdout",
          "text": [
            ">\n",
            ">\n"
          ]
        },
        {
          "output_type": "stream",
          "name": "stderr",
          "text": [
            " 27%|██▋       | 78/290 [01:18<03:29,  1.01it/s, loss=0.0551]"
          ]
        },
        {
          "output_type": "stream",
          "name": "stdout",
          "text": [
            "<\n"
          ]
        },
        {
          "output_type": "stream",
          "name": "stderr",
          "text": [
            " 29%|██▊       | 83/290 [01:23<03:26,  1.00it/s, loss=0.0744]"
          ]
        },
        {
          "output_type": "stream",
          "name": "stdout",
          "text": [
            "<\n"
          ]
        },
        {
          "output_type": "stream",
          "name": "stderr",
          "text": [
            " 29%|██▉       | 84/290 [01:24<03:26,  1.00s/it, loss=0.0417]"
          ]
        },
        {
          "output_type": "stream",
          "name": "stdout",
          "text": [
            "*\n",
            "*\n",
            "*\n"
          ]
        },
        {
          "output_type": "stream",
          "name": "stderr",
          "text": [
            " 33%|███▎      | 97/290 [01:37<03:14,  1.01s/it, loss=0.0775]"
          ]
        },
        {
          "output_type": "stream",
          "name": "stdout",
          "text": [
            ">\n"
          ]
        },
        {
          "output_type": "stream",
          "name": "stderr",
          "text": [
            " 35%|███▍      | 101/290 [01:41<03:08,  1.00it/s, loss=0.0531]"
          ]
        },
        {
          "output_type": "stream",
          "name": "stdout",
          "text": [
            "[\n",
            "]\n"
          ]
        },
        {
          "output_type": "stream",
          "name": "stderr",
          "text": [
            " 37%|███▋      | 107/290 [01:47<03:03,  1.01s/it, loss=0.0575]"
          ]
        },
        {
          "output_type": "stream",
          "name": "stdout",
          "text": [
            ">\n",
            ">\n"
          ]
        },
        {
          "output_type": "stream",
          "name": "stderr",
          "text": [
            " 39%|███▉      | 114/290 [01:54<02:55,  1.00it/s, loss=0.0712]"
          ]
        },
        {
          "output_type": "stream",
          "name": "stdout",
          "text": [
            ">\n",
            ">\n"
          ]
        },
        {
          "output_type": "stream",
          "name": "stderr",
          "text": [
            " 40%|████      | 116/290 [01:56<02:55,  1.01s/it, loss=0.0553]"
          ]
        },
        {
          "output_type": "stream",
          "name": "stdout",
          "text": [
            ">\n",
            ">\n"
          ]
        },
        {
          "output_type": "stream",
          "name": "stderr",
          "text": [
            " 45%|████▌     | 131/290 [02:11<02:38,  1.01it/s, loss=0.236]"
          ]
        },
        {
          "output_type": "stream",
          "name": "stdout",
          "text": [
            "*\n",
            "*\n",
            "*\n"
          ]
        },
        {
          "output_type": "stream",
          "name": "stderr",
          "text": [
            " 50%|█████     | 146/290 [02:26<02:21,  1.02it/s, loss=0.141]"
          ]
        },
        {
          "output_type": "stream",
          "name": "stdout",
          "text": [
            ">\n",
            ">\n"
          ]
        },
        {
          "output_type": "stream",
          "name": "stderr",
          "text": [
            " 53%|█████▎    | 154/290 [02:35<02:25,  1.07s/it, loss=0.141]"
          ]
        },
        {
          "output_type": "stream",
          "name": "stdout",
          "text": [
            "[\n",
            "]\n"
          ]
        },
        {
          "output_type": "stream",
          "name": "stderr",
          "text": [
            " 64%|██████▍   | 185/290 [03:06<01:44,  1.00it/s, loss=0.0849]"
          ]
        },
        {
          "output_type": "stream",
          "name": "stdout",
          "text": [
            ">\n",
            ">\n"
          ]
        },
        {
          "output_type": "stream",
          "name": "stderr",
          "text": [
            " 64%|██████▍   | 187/290 [03:08<01:45,  1.02s/it, loss=0.123]"
          ]
        },
        {
          "output_type": "stream",
          "name": "stdout",
          "text": [
            ">\n",
            ">\n"
          ]
        },
        {
          "output_type": "stream",
          "name": "stderr",
          "text": [
            " 67%|██████▋   | 194/290 [03:15<01:37,  1.02s/it, loss=0.0945]"
          ]
        },
        {
          "output_type": "stream",
          "name": "stdout",
          "text": [
            "]\n",
            "[\n",
            "]\n"
          ]
        },
        {
          "output_type": "stream",
          "name": "stderr",
          "text": [
            " 70%|██████▉   | 202/290 [03:23<01:27,  1.00it/s, loss=0.111]"
          ]
        },
        {
          "output_type": "stream",
          "name": "stdout",
          "text": [
            "[\n"
          ]
        },
        {
          "output_type": "stream",
          "name": "stderr",
          "text": [
            " 72%|███████▏  | 208/290 [03:29<01:22,  1.00s/it, loss=0.115]"
          ]
        },
        {
          "output_type": "stream",
          "name": "stdout",
          "text": [
            "*\n",
            "*\n",
            "*\n"
          ]
        },
        {
          "output_type": "stream",
          "name": "stderr",
          "text": [
            " 72%|███████▏  | 209/290 [03:30<01:21,  1.01s/it, loss=0.0742]"
          ]
        },
        {
          "output_type": "stream",
          "name": "stdout",
          "text": [
            ">\n"
          ]
        },
        {
          "output_type": "stream",
          "name": "stderr",
          "text": [
            " 74%|███████▍  | 216/290 [03:37<01:15,  1.02s/it, loss=0.0962]"
          ]
        },
        {
          "output_type": "stream",
          "name": "stdout",
          "text": [
            "*\n",
            "*\n",
            "*\n"
          ]
        },
        {
          "output_type": "stream",
          "name": "stderr",
          "text": [
            " 81%|████████  | 234/290 [03:55<00:55,  1.01it/s, loss=0.492]"
          ]
        },
        {
          "output_type": "stream",
          "name": "stdout",
          "text": [
            ">\n"
          ]
        },
        {
          "output_type": "stream",
          "name": "stderr",
          "text": [
            " 83%|████████▎ | 241/290 [04:02<00:49,  1.00s/it, loss=2.39]"
          ]
        },
        {
          "output_type": "stream",
          "name": "stdout",
          "text": [
            "[\n",
            "]\n"
          ]
        },
        {
          "output_type": "stream",
          "name": "stderr",
          "text": [
            " 83%|████████▎ | 242/290 [04:03<00:47,  1.01it/s, loss=2.57]"
          ]
        },
        {
          "output_type": "stream",
          "name": "stdout",
          "text": [
            "]\n"
          ]
        },
        {
          "output_type": "stream",
          "name": "stderr",
          "text": [
            " 84%|████████▍ | 244/290 [04:05<00:45,  1.00it/s, loss=1.81]"
          ]
        },
        {
          "output_type": "stream",
          "name": "stdout",
          "text": [
            ">\n",
            ">\n",
            ">\n"
          ]
        },
        {
          "output_type": "stream",
          "name": "stderr",
          "text": [
            " 85%|████████▍ | 246/290 [04:07<00:43,  1.01it/s, loss=2.48]"
          ]
        },
        {
          "output_type": "stream",
          "name": "stdout",
          "text": [
            "[\n"
          ]
        },
        {
          "output_type": "stream",
          "name": "stderr",
          "text": [
            " 92%|█████████▏| 266/290 [04:27<00:23,  1.00it/s, loss=1.74]"
          ]
        },
        {
          "output_type": "stream",
          "name": "stdout",
          "text": [
            "[\n"
          ]
        },
        {
          "output_type": "stream",
          "name": "stderr",
          "text": [
            "100%|██████████| 290/290 [04:52<00:00,  1.01s/it, loss=0.904]\n"
          ]
        },
        {
          "output_type": "stream",
          "name": "stdout",
          "text": [
            "checkpoint_ep21.pth.tar saved\n"
          ]
        },
        {
          "output_type": "stream",
          "name": "stderr",
          "text": [
            "  2%|▏         | 5/290 [00:05<04:51,  1.02s/it, loss=0.927]"
          ]
        },
        {
          "output_type": "stream",
          "name": "stdout",
          "text": [
            "*\n",
            "*\n",
            "*\n"
          ]
        },
        {
          "output_type": "stream",
          "name": "stderr",
          "text": [
            "  4%|▍         | 12/290 [00:12<04:43,  1.02s/it, loss=0.748]"
          ]
        },
        {
          "output_type": "stream",
          "name": "stdout",
          "text": [
            "*\n",
            "*\n",
            "*\n"
          ]
        },
        {
          "output_type": "stream",
          "name": "stderr",
          "text": [
            "  9%|▉         | 27/290 [00:27<04:31,  1.03s/it, loss=0.653]"
          ]
        },
        {
          "output_type": "stream",
          "name": "stdout",
          "text": [
            ">\n",
            ">\n"
          ]
        },
        {
          "output_type": "stream",
          "name": "stderr",
          "text": [
            " 11%|█         | 32/290 [00:32<04:18,  1.00s/it, loss=0.693]"
          ]
        },
        {
          "output_type": "stream",
          "name": "stdout",
          "text": [
            ">\n",
            ">\n"
          ]
        },
        {
          "output_type": "stream",
          "name": "stderr",
          "text": [
            " 13%|█▎        | 37/290 [00:37<04:20,  1.03s/it, loss=1.82]"
          ]
        },
        {
          "output_type": "stream",
          "name": "stdout",
          "text": [
            "*\n",
            "*\n",
            "*\n"
          ]
        },
        {
          "output_type": "stream",
          "name": "stderr",
          "text": [
            " 16%|█▌        | 46/290 [00:46<04:03,  1.00it/s, loss=1.55]"
          ]
        },
        {
          "output_type": "stream",
          "name": "stdout",
          "text": [
            "[\n",
            "]\n"
          ]
        },
        {
          "output_type": "stream",
          "name": "stderr",
          "text": [
            " 22%|██▏       | 63/290 [01:03<03:48,  1.01s/it, loss=0.823]"
          ]
        },
        {
          "output_type": "stream",
          "name": "stdout",
          "text": [
            ">\n",
            ">\n"
          ]
        },
        {
          "output_type": "stream",
          "name": "stderr",
          "text": [
            " 24%|██▍       | 69/290 [01:09<03:42,  1.01s/it, loss=0.698]"
          ]
        },
        {
          "output_type": "stream",
          "name": "stdout",
          "text": [
            "]\n",
            "[\n",
            "]\n"
          ]
        },
        {
          "output_type": "stream",
          "name": "stderr",
          "text": [
            " 25%|██▍       | 72/290 [01:13<03:41,  1.02s/it, loss=0.9]"
          ]
        },
        {
          "output_type": "stream",
          "name": "stdout",
          "text": [
            ">\n"
          ]
        },
        {
          "output_type": "stream",
          "name": "stderr",
          "text": [
            " 25%|██▌       | 73/290 [01:14<03:40,  1.02s/it, loss=0.784]"
          ]
        },
        {
          "output_type": "stream",
          "name": "stdout",
          "text": [
            ">\n",
            ">\n"
          ]
        },
        {
          "output_type": "stream",
          "name": "stderr",
          "text": [
            " 28%|██▊       | 81/290 [01:22<03:27,  1.01it/s, loss=1.06]"
          ]
        },
        {
          "output_type": "stream",
          "name": "stdout",
          "text": [
            "[\n",
            "]\n",
            ">\n",
            ">\n"
          ]
        },
        {
          "output_type": "stream",
          "name": "stderr",
          "text": [
            " 29%|██▉       | 85/290 [01:26<03:25,  1.00s/it, loss=0.561]"
          ]
        },
        {
          "output_type": "stream",
          "name": "stdout",
          "text": [
            ">\n"
          ]
        },
        {
          "output_type": "stream",
          "name": "stderr",
          "text": [
            " 31%|███       | 90/290 [01:31<03:21,  1.01s/it, loss=0.558]"
          ]
        },
        {
          "output_type": "stream",
          "name": "stdout",
          "text": [
            "<\n"
          ]
        },
        {
          "output_type": "stream",
          "name": "stderr",
          "text": [
            " 34%|███▍      | 100/290 [01:41<03:08,  1.01it/s, loss=0.678]"
          ]
        },
        {
          "output_type": "stream",
          "name": "stdout",
          "text": [
            "*\n",
            "*\n",
            "*\n"
          ]
        },
        {
          "output_type": "stream",
          "name": "stderr",
          "text": [
            " 36%|███▌      | 104/290 [01:45<03:08,  1.01s/it, loss=0.61]"
          ]
        },
        {
          "output_type": "stream",
          "name": "stdout",
          "text": [
            ">\n",
            ">\n",
            ">\n"
          ]
        },
        {
          "output_type": "stream",
          "name": "stderr",
          "text": [
            " 36%|███▌      | 105/290 [01:46<03:09,  1.02s/it, loss=0.534]"
          ]
        },
        {
          "output_type": "stream",
          "name": "stdout",
          "text": [
            "[\n",
            "]\n"
          ]
        },
        {
          "output_type": "stream",
          "name": "stderr",
          "text": [
            " 42%|████▏     | 122/290 [02:03<02:55,  1.04s/it, loss=0.466]"
          ]
        },
        {
          "output_type": "stream",
          "name": "stdout",
          "text": [
            ">\n",
            ">\n"
          ]
        },
        {
          "output_type": "stream",
          "name": "stderr",
          "text": [
            " 52%|█████▏    | 152/290 [02:33<02:15,  1.02it/s, loss=1.35]"
          ]
        },
        {
          "output_type": "stream",
          "name": "stdout",
          "text": [
            ">\n",
            ">\n"
          ]
        },
        {
          "output_type": "stream",
          "name": "stderr",
          "text": [
            " 55%|█████▍    | 159/290 [02:40<02:09,  1.01it/s, loss=1.08]"
          ]
        },
        {
          "output_type": "stream",
          "name": "stdout",
          "text": [
            "<\n"
          ]
        },
        {
          "output_type": "stream",
          "name": "stderr",
          "text": [
            " 60%|█████▉    | 173/290 [02:54<01:55,  1.01it/s, loss=0.683]"
          ]
        },
        {
          "output_type": "stream",
          "name": "stdout",
          "text": [
            ">\n",
            ">\n"
          ]
        },
        {
          "output_type": "stream",
          "name": "stderr",
          "text": [
            " 62%|██████▏   | 179/290 [03:00<01:50,  1.01it/s, loss=0.725]"
          ]
        },
        {
          "output_type": "stream",
          "name": "stdout",
          "text": [
            "[\n",
            "]\n"
          ]
        },
        {
          "output_type": "stream",
          "name": "stderr",
          "text": [
            " 70%|███████   | 203/290 [03:24<01:29,  1.03s/it, loss=1.18]"
          ]
        },
        {
          "output_type": "stream",
          "name": "stdout",
          "text": [
            ">\n",
            ">\n"
          ]
        },
        {
          "output_type": "stream",
          "name": "stderr",
          "text": [
            " 71%|███████▏  | 207/290 [03:28<01:24,  1.01s/it, loss=0.975]"
          ]
        },
        {
          "output_type": "stream",
          "name": "stdout",
          "text": [
            "[\n"
          ]
        },
        {
          "output_type": "stream",
          "name": "stderr",
          "text": [
            " 76%|███████▌  | 219/290 [03:41<01:13,  1.04s/it, loss=0.766]"
          ]
        },
        {
          "output_type": "stream",
          "name": "stdout",
          "text": [
            "[\n"
          ]
        },
        {
          "output_type": "stream",
          "name": "stderr",
          "text": [
            " 79%|███████▊  | 228/290 [03:50<01:03,  1.02s/it, loss=1.1]"
          ]
        },
        {
          "output_type": "stream",
          "name": "stdout",
          "text": [
            "]\n",
            "[\n",
            "]\n"
          ]
        },
        {
          "output_type": "stream",
          "name": "stderr",
          "text": [
            " 79%|███████▉  | 229/290 [03:51<01:01,  1.01s/it, loss=0.578]"
          ]
        },
        {
          "output_type": "stream",
          "name": "stdout",
          "text": [
            ">\n"
          ]
        },
        {
          "output_type": "stream",
          "name": "stderr",
          "text": [
            " 83%|████████▎ | 240/290 [04:02<00:51,  1.02s/it, loss=0.675]"
          ]
        },
        {
          "output_type": "stream",
          "name": "stdout",
          "text": [
            "]\n"
          ]
        },
        {
          "output_type": "stream",
          "name": "stderr",
          "text": [
            " 84%|████████▍ | 244/290 [04:06<00:46,  1.01s/it, loss=0.78]"
          ]
        },
        {
          "output_type": "stream",
          "name": "stdout",
          "text": [
            "[\n"
          ]
        },
        {
          "output_type": "stream",
          "name": "stderr",
          "text": [
            " 88%|████████▊ | 256/290 [04:18<00:34,  1.02s/it, loss=1.18]"
          ]
        },
        {
          "output_type": "stream",
          "name": "stdout",
          "text": [
            ">\n",
            ">\n"
          ]
        },
        {
          "output_type": "stream",
          "name": "stderr",
          "text": [
            " 97%|█████████▋| 282/290 [04:44<00:07,  1.00it/s, loss=0.443]"
          ]
        },
        {
          "output_type": "stream",
          "name": "stdout",
          "text": [
            "[\n"
          ]
        },
        {
          "output_type": "stream",
          "name": "stderr",
          "text": [
            "100%|█████████▉| 289/290 [04:51<00:01,  1.00s/it, loss=0.499]"
          ]
        },
        {
          "output_type": "stream",
          "name": "stdout",
          "text": [
            "]\n"
          ]
        },
        {
          "output_type": "stream",
          "name": "stderr",
          "text": [
            "100%|██████████| 290/290 [04:52<00:00,  1.01s/it, loss=0.417]\n",
            "  8%|▊         | 22/290 [00:22<04:28,  1.00s/it, loss=0.429]"
          ]
        },
        {
          "output_type": "stream",
          "name": "stdout",
          "text": [
            "[\n",
            "]\n"
          ]
        },
        {
          "output_type": "stream",
          "name": "stderr",
          "text": [
            "  8%|▊         | 24/290 [00:24<04:31,  1.02s/it, loss=0.42]"
          ]
        },
        {
          "output_type": "stream",
          "name": "stdout",
          "text": [
            "[\n",
            "]\n",
            ">\n"
          ]
        },
        {
          "output_type": "stream",
          "name": "stderr",
          "text": [
            " 10%|█         | 30/290 [00:30<04:18,  1.00it/s, loss=0.579]"
          ]
        },
        {
          "output_type": "stream",
          "name": "stdout",
          "text": [
            "*\n",
            "*\n",
            "*\n"
          ]
        },
        {
          "output_type": "stream",
          "name": "stderr",
          "text": [
            " 12%|█▏        | 36/290 [00:36<04:10,  1.02it/s, loss=0.39]"
          ]
        },
        {
          "output_type": "stream",
          "name": "stdout",
          "text": [
            ">\n",
            ">\n",
            "]\n",
            "[\n",
            "]\n"
          ]
        },
        {
          "output_type": "stream",
          "name": "stderr",
          "text": [
            " 13%|█▎        | 38/290 [00:38<04:22,  1.04s/it, loss=0.453]"
          ]
        },
        {
          "output_type": "stream",
          "name": "stdout",
          "text": [
            ">\n",
            ">\n"
          ]
        },
        {
          "output_type": "stream",
          "name": "stderr",
          "text": [
            " 15%|█▌        | 44/290 [00:44<04:06,  1.00s/it, loss=0.518]"
          ]
        },
        {
          "output_type": "stream",
          "name": "stdout",
          "text": [
            "<\n"
          ]
        },
        {
          "output_type": "stream",
          "name": "stderr",
          "text": [
            " 23%|██▎       | 68/290 [01:08<03:42,  1.00s/it, loss=0.428]"
          ]
        },
        {
          "output_type": "stream",
          "name": "stdout",
          "text": [
            ">\n",
            ">\n"
          ]
        },
        {
          "output_type": "stream",
          "name": "stderr",
          "text": [
            " 24%|██▍       | 71/290 [01:11<03:41,  1.01s/it, loss=0.366]"
          ]
        },
        {
          "output_type": "stream",
          "name": "stdout",
          "text": [
            "<\n"
          ]
        },
        {
          "output_type": "stream",
          "name": "stderr",
          "text": [
            " 26%|██▌       | 76/290 [01:17<03:34,  1.00s/it, loss=0.365]"
          ]
        },
        {
          "output_type": "stream",
          "name": "stdout",
          "text": [
            ">\n",
            ">\n"
          ]
        },
        {
          "output_type": "stream",
          "name": "stderr",
          "text": [
            " 33%|███▎      | 96/290 [01:37<03:16,  1.01s/it, loss=0.313]"
          ]
        },
        {
          "output_type": "stream",
          "name": "stdout",
          "text": [
            "[\n",
            "]\n"
          ]
        },
        {
          "output_type": "stream",
          "name": "stderr",
          "text": [
            " 36%|███▌      | 103/290 [01:44<03:13,  1.03s/it, loss=0.303]"
          ]
        },
        {
          "output_type": "stream",
          "name": "stdout",
          "text": [
            "[\n"
          ]
        },
        {
          "output_type": "stream",
          "name": "stderr",
          "text": [
            " 38%|███▊      | 110/290 [01:51<03:02,  1.01s/it, loss=0.328]"
          ]
        },
        {
          "output_type": "stream",
          "name": "stdout",
          "text": [
            "]\n",
            "[\n",
            "]\n"
          ]
        },
        {
          "output_type": "stream",
          "name": "stderr",
          "text": [
            " 42%|████▏     | 122/290 [02:03<02:51,  1.02s/it, loss=0.317]"
          ]
        },
        {
          "output_type": "stream",
          "name": "stdout",
          "text": [
            ">\n",
            ">\n",
            ">\n"
          ]
        },
        {
          "output_type": "stream",
          "name": "stderr",
          "text": [
            " 50%|█████     | 145/290 [02:26<02:27,  1.02s/it, loss=0.324]"
          ]
        },
        {
          "output_type": "stream",
          "name": "stdout",
          "text": [
            "[\n"
          ]
        },
        {
          "output_type": "stream",
          "name": "stderr",
          "text": [
            " 52%|█████▏    | 151/290 [02:32<02:19,  1.00s/it, loss=0.357]"
          ]
        },
        {
          "output_type": "stream",
          "name": "stdout",
          "text": [
            "*\n",
            "*\n",
            "*\n"
          ]
        },
        {
          "output_type": "stream",
          "name": "stderr",
          "text": [
            " 56%|█████▌    | 162/290 [02:43<02:11,  1.03s/it, loss=0.335]"
          ]
        },
        {
          "output_type": "stream",
          "name": "stdout",
          "text": [
            ">\n",
            ">\n"
          ]
        },
        {
          "output_type": "stream",
          "name": "stderr",
          "text": [
            " 56%|█████▌    | 163/290 [02:44<02:09,  1.02s/it, loss=0.35]"
          ]
        },
        {
          "output_type": "stream",
          "name": "stdout",
          "text": [
            "]\n"
          ]
        },
        {
          "output_type": "stream",
          "name": "stderr",
          "text": [
            " 58%|█████▊    | 168/290 [02:49<02:00,  1.01it/s, loss=0.354]"
          ]
        },
        {
          "output_type": "stream",
          "name": "stdout",
          "text": [
            "[\n",
            "]\n"
          ]
        },
        {
          "output_type": "stream",
          "name": "stderr",
          "text": [
            " 61%|██████    | 177/290 [02:58<01:54,  1.02s/it, loss=0.319]"
          ]
        },
        {
          "output_type": "stream",
          "name": "stdout",
          "text": [
            "]\n"
          ]
        },
        {
          "output_type": "stream",
          "name": "stderr",
          "text": [
            " 69%|██████▊   | 199/290 [03:20<01:30,  1.00it/s, loss=0.268]"
          ]
        },
        {
          "output_type": "stream",
          "name": "stdout",
          "text": [
            "[\n"
          ]
        },
        {
          "output_type": "stream",
          "name": "stderr",
          "text": [
            " 71%|███████▏  | 207/290 [03:28<01:22,  1.01it/s, loss=0.274]"
          ]
        },
        {
          "output_type": "stream",
          "name": "stdout",
          "text": [
            ">\n",
            ">\n"
          ]
        },
        {
          "output_type": "stream",
          "name": "stderr",
          "text": [
            " 73%|███████▎  | 211/290 [03:32<01:19,  1.01s/it, loss=0.249]"
          ]
        },
        {
          "output_type": "stream",
          "name": "stdout",
          "text": [
            "*\n",
            "*\n",
            "*\n"
          ]
        },
        {
          "output_type": "stream",
          "name": "stderr",
          "text": [
            " 73%|███████▎  | 213/290 [03:34<01:16,  1.01it/s, loss=0.258]"
          ]
        },
        {
          "output_type": "stream",
          "name": "stdout",
          "text": [
            "[\n"
          ]
        },
        {
          "output_type": "stream",
          "name": "stderr",
          "text": [
            " 74%|███████▍  | 215/290 [03:36<01:14,  1.01it/s, loss=0.315]"
          ]
        },
        {
          "output_type": "stream",
          "name": "stdout",
          "text": [
            ">\n",
            ">\n"
          ]
        },
        {
          "output_type": "stream",
          "name": "stderr",
          "text": [
            " 77%|███████▋  | 224/290 [03:45<01:08,  1.04s/it, loss=0.252]"
          ]
        },
        {
          "output_type": "stream",
          "name": "stdout",
          "text": [
            "*\n",
            "*\n",
            "*\n"
          ]
        },
        {
          "output_type": "stream",
          "name": "stderr",
          "text": [
            " 83%|████████▎ | 242/290 [04:04<00:48,  1.01s/it, loss=0.288]"
          ]
        },
        {
          "output_type": "stream",
          "name": "stdout",
          "text": [
            ">\n"
          ]
        },
        {
          "output_type": "stream",
          "name": "stderr",
          "text": [
            " 89%|████████▉ | 258/290 [04:20<00:32,  1.03s/it, loss=0.265]"
          ]
        },
        {
          "output_type": "stream",
          "name": "stdout",
          "text": [
            ">\n",
            ">\n"
          ]
        },
        {
          "output_type": "stream",
          "name": "stderr",
          "text": [
            " 96%|█████████▌| 279/290 [04:41<00:10,  1.00it/s, loss=0.291]"
          ]
        },
        {
          "output_type": "stream",
          "name": "stdout",
          "text": [
            ">\n",
            ">\n"
          ]
        },
        {
          "output_type": "stream",
          "name": "stderr",
          "text": [
            " 99%|█████████▉| 287/290 [04:49<00:02,  1.00it/s, loss=0.24]"
          ]
        },
        {
          "output_type": "stream",
          "name": "stdout",
          "text": [
            ">\n",
            ">\n",
            ">\n"
          ]
        },
        {
          "output_type": "stream",
          "name": "stderr",
          "text": [
            "100%|██████████| 290/290 [04:51<00:00,  1.01s/it, loss=0.278]\n"
          ]
        },
        {
          "output_type": "stream",
          "name": "stdout",
          "text": [
            "checkpoint_ep23.pth.tar saved\n"
          ]
        },
        {
          "output_type": "stream",
          "name": "stderr",
          "text": [
            "  4%|▍         | 11/290 [00:10<04:34,  1.02it/s, loss=0.28]"
          ]
        },
        {
          "output_type": "stream",
          "name": "stdout",
          "text": [
            ">\n"
          ]
        },
        {
          "output_type": "stream",
          "name": "stderr",
          "text": [
            "  5%|▌         | 15/290 [00:14<04:29,  1.02it/s, loss=0.267]"
          ]
        },
        {
          "output_type": "stream",
          "name": "stdout",
          "text": [
            "[\n",
            "]\n"
          ]
        },
        {
          "output_type": "stream",
          "name": "stderr",
          "text": [
            "  7%|▋         | 21/290 [00:20<04:27,  1.01it/s, loss=0.235]"
          ]
        },
        {
          "output_type": "stream",
          "name": "stdout",
          "text": [
            ">\n",
            ">\n"
          ]
        },
        {
          "output_type": "stream",
          "name": "stderr",
          "text": [
            "  9%|▊         | 25/290 [00:25<04:31,  1.02s/it, loss=0.208]"
          ]
        },
        {
          "output_type": "stream",
          "name": "stdout",
          "text": [
            ">\n",
            ">\n"
          ]
        },
        {
          "output_type": "stream",
          "name": "stderr",
          "text": [
            "  9%|▉         | 27/290 [00:27<04:27,  1.02s/it, loss=0.237]"
          ]
        },
        {
          "output_type": "stream",
          "name": "stdout",
          "text": [
            ">\n",
            ">\n"
          ]
        },
        {
          "output_type": "stream",
          "name": "stderr",
          "text": [
            " 10%|█         | 29/290 [00:29<04:24,  1.01s/it, loss=0.247]"
          ]
        },
        {
          "output_type": "stream",
          "name": "stdout",
          "text": [
            "[\n",
            "]\n"
          ]
        },
        {
          "output_type": "stream",
          "name": "stderr",
          "text": [
            " 11%|█         | 32/290 [00:32<04:23,  1.02s/it, loss=0.239]"
          ]
        },
        {
          "output_type": "stream",
          "name": "stdout",
          "text": [
            ">\n"
          ]
        },
        {
          "output_type": "stream",
          "name": "stderr",
          "text": [
            " 15%|█▍        | 43/290 [00:43<04:05,  1.01it/s, loss=0.274]"
          ]
        },
        {
          "output_type": "stream",
          "name": "stdout",
          "text": [
            ">\n",
            ">\n"
          ]
        },
        {
          "output_type": "stream",
          "name": "stderr",
          "text": [
            " 16%|█▌        | 45/290 [00:45<04:01,  1.02it/s, loss=0.27]"
          ]
        },
        {
          "output_type": "stream",
          "name": "stdout",
          "text": [
            "*\n",
            "*\n",
            "*\n"
          ]
        },
        {
          "output_type": "stream",
          "name": "stderr",
          "text": [
            " 16%|█▌        | 47/290 [00:47<03:59,  1.01it/s, loss=0.275]"
          ]
        },
        {
          "output_type": "stream",
          "name": "stdout",
          "text": [
            ">\n",
            ">\n"
          ]
        },
        {
          "output_type": "stream",
          "name": "stderr",
          "text": [
            " 18%|█▊        | 51/290 [00:51<03:54,  1.02it/s, loss=0.26]"
          ]
        },
        {
          "output_type": "stream",
          "name": "stdout",
          "text": [
            ">\n",
            ">\n",
            ">\n"
          ]
        },
        {
          "output_type": "stream",
          "name": "stderr",
          "text": [
            " 19%|█▉        | 56/290 [00:56<03:56,  1.01s/it, loss=0.232]"
          ]
        },
        {
          "output_type": "stream",
          "name": "stdout",
          "text": [
            ">\n",
            ">\n"
          ]
        },
        {
          "output_type": "stream",
          "name": "stderr",
          "text": [
            " 20%|██        | 58/290 [00:58<03:53,  1.01s/it, loss=0.244]"
          ]
        },
        {
          "output_type": "stream",
          "name": "stdout",
          "text": [
            "[\n"
          ]
        },
        {
          "output_type": "stream",
          "name": "stderr",
          "text": [
            " 20%|██        | 59/290 [00:59<03:50,  1.00it/s, loss=0.29]"
          ]
        },
        {
          "output_type": "stream",
          "name": "stdout",
          "text": [
            ">\n",
            ">\n"
          ]
        },
        {
          "output_type": "stream",
          "name": "stderr",
          "text": [
            " 21%|██        | 61/290 [01:00<03:44,  1.02it/s, loss=0.265]"
          ]
        },
        {
          "output_type": "stream",
          "name": "stdout",
          "text": [
            "]\n",
            "[\n",
            "]\n"
          ]
        },
        {
          "output_type": "stream",
          "name": "stderr",
          "text": [
            " 32%|███▏      | 92/290 [01:31<03:18,  1.00s/it, loss=0.254]"
          ]
        },
        {
          "output_type": "stream",
          "name": "stdout",
          "text": [
            ">\n",
            ">\n"
          ]
        },
        {
          "output_type": "stream",
          "name": "stderr",
          "text": [
            " 34%|███▍      | 100/290 [01:39<03:07,  1.01it/s, loss=0.205]"
          ]
        },
        {
          "output_type": "stream",
          "name": "stdout",
          "text": [
            "]\n"
          ]
        },
        {
          "output_type": "stream",
          "name": "stderr",
          "text": [
            " 38%|███▊      | 110/290 [01:49<02:58,  1.01it/s, loss=0.223]"
          ]
        },
        {
          "output_type": "stream",
          "name": "stdout",
          "text": [
            "<\n"
          ]
        },
        {
          "output_type": "stream",
          "name": "stderr",
          "text": [
            " 40%|████      | 117/290 [01:56<02:52,  1.00it/s, loss=0.202]"
          ]
        },
        {
          "output_type": "stream",
          "name": "stdout",
          "text": [
            ">\n"
          ]
        },
        {
          "output_type": "stream",
          "name": "stderr",
          "text": [
            " 43%|████▎     | 124/290 [02:03<02:42,  1.02it/s, loss=0.201]"
          ]
        },
        {
          "output_type": "stream",
          "name": "stdout",
          "text": [
            "[\n",
            "]\n"
          ]
        },
        {
          "output_type": "stream",
          "name": "stderr",
          "text": [
            " 44%|████▍     | 127/290 [02:06<02:40,  1.01it/s, loss=0.232]"
          ]
        },
        {
          "output_type": "stream",
          "name": "stdout",
          "text": [
            "[\n"
          ]
        },
        {
          "output_type": "stream",
          "name": "stderr",
          "text": [
            " 45%|████▍     | 130/290 [02:09<02:39,  1.00it/s, loss=0.212]"
          ]
        },
        {
          "output_type": "stream",
          "name": "stdout",
          "text": [
            ">\n",
            ">\n"
          ]
        },
        {
          "output_type": "stream",
          "name": "stderr",
          "text": [
            " 59%|█████▉    | 172/290 [02:52<01:59,  1.01s/it, loss=0.2]"
          ]
        },
        {
          "output_type": "stream",
          "name": "stdout",
          "text": [
            "*\n",
            "*\n",
            "*\n"
          ]
        },
        {
          "output_type": "stream",
          "name": "stderr",
          "text": [
            " 69%|██████▉   | 201/290 [03:21<01:30,  1.02s/it, loss=0.247]"
          ]
        },
        {
          "output_type": "stream",
          "name": "stdout",
          "text": [
            "[\n"
          ]
        },
        {
          "output_type": "stream",
          "name": "stderr",
          "text": [
            " 71%|███████   | 206/290 [03:26<01:27,  1.04s/it, loss=0.212]"
          ]
        },
        {
          "output_type": "stream",
          "name": "stdout",
          "text": [
            "[\n",
            "]\n"
          ]
        },
        {
          "output_type": "stream",
          "name": "stderr",
          "text": [
            " 73%|███████▎  | 211/290 [03:37<02:27,  1.86s/it, loss=0.211]"
          ]
        },
        {
          "output_type": "stream",
          "name": "stdout",
          "text": [
            "<\n"
          ]
        },
        {
          "output_type": "stream",
          "name": "stderr",
          "text": [
            " 73%|███████▎  | 212/290 [03:38<02:07,  1.63s/it, loss=0.193]"
          ]
        },
        {
          "output_type": "stream",
          "name": "stdout",
          "text": [
            "[\n"
          ]
        },
        {
          "output_type": "stream",
          "name": "stderr",
          "text": [
            " 78%|███████▊  | 227/290 [03:53<01:02,  1.01it/s, loss=0.194]"
          ]
        },
        {
          "output_type": "stream",
          "name": "stdout",
          "text": [
            ">\n",
            ">\n"
          ]
        },
        {
          "output_type": "stream",
          "name": "stderr",
          "text": [
            " 80%|███████▉  | 231/290 [03:57<01:01,  1.04s/it, loss=0.197]"
          ]
        },
        {
          "output_type": "stream",
          "name": "stdout",
          "text": [
            "*\n",
            "*\n",
            "*\n"
          ]
        },
        {
          "output_type": "stream",
          "name": "stderr",
          "text": [
            " 83%|████████▎ | 242/290 [04:08<00:48,  1.02s/it, loss=0.197]"
          ]
        },
        {
          "output_type": "stream",
          "name": "stdout",
          "text": [
            "]\n"
          ]
        },
        {
          "output_type": "stream",
          "name": "stderr",
          "text": [
            " 88%|████████▊ | 256/290 [04:22<00:33,  1.01it/s, loss=0.193]"
          ]
        },
        {
          "output_type": "stream",
          "name": "stdout",
          "text": [
            "]\n",
            "[\n",
            "]\n"
          ]
        },
        {
          "output_type": "stream",
          "name": "stderr",
          "text": [
            " 94%|█████████▍| 272/290 [04:38<00:18,  1.00s/it, loss=0.209]"
          ]
        },
        {
          "output_type": "stream",
          "name": "stdout",
          "text": [
            "*\n",
            "*\n",
            "*\n"
          ]
        },
        {
          "output_type": "stream",
          "name": "stderr",
          "text": [
            "100%|██████████| 290/290 [04:56<00:00,  1.02s/it, loss=0.18]\n",
            "  1%|          | 2/290 [00:02<04:51,  1.01s/it, loss=0.165]"
          ]
        },
        {
          "output_type": "stream",
          "name": "stdout",
          "text": [
            "]\n"
          ]
        },
        {
          "output_type": "stream",
          "name": "stderr",
          "text": [
            "  2%|▏         | 7/290 [00:07<04:49,  1.02s/it, loss=0.188]"
          ]
        },
        {
          "output_type": "stream",
          "name": "stdout",
          "text": [
            ">\n",
            ">\n"
          ]
        },
        {
          "output_type": "stream",
          "name": "stderr",
          "text": [
            "  5%|▍         | 14/290 [00:13<04:30,  1.02it/s, loss=0.16]"
          ]
        },
        {
          "output_type": "stream",
          "name": "stdout",
          "text": [
            "*\n",
            "*\n",
            "*\n"
          ]
        },
        {
          "output_type": "stream",
          "name": "stderr",
          "text": [
            "  6%|▌         | 17/290 [00:16<04:25,  1.03it/s, loss=0.172]"
          ]
        },
        {
          "output_type": "stream",
          "name": "stdout",
          "text": [
            ">\n",
            ">\n"
          ]
        },
        {
          "output_type": "stream",
          "name": "stderr",
          "text": [
            " 11%|█▏        | 33/290 [00:33<04:24,  1.03s/it, loss=0.187]"
          ]
        },
        {
          "output_type": "stream",
          "name": "stdout",
          "text": [
            ">\n"
          ]
        },
        {
          "output_type": "stream",
          "name": "stderr",
          "text": [
            " 12%|█▏        | 36/290 [00:36<04:21,  1.03s/it, loss=0.165]"
          ]
        },
        {
          "output_type": "stream",
          "name": "stdout",
          "text": [
            ">\n",
            ">\n"
          ]
        },
        {
          "output_type": "stream",
          "name": "stderr",
          "text": [
            " 17%|█▋        | 50/290 [00:50<04:06,  1.03s/it, loss=0.152]"
          ]
        },
        {
          "output_type": "stream",
          "name": "stdout",
          "text": [
            "[\n"
          ]
        },
        {
          "output_type": "stream",
          "name": "stderr",
          "text": [
            " 19%|█▊        | 54/290 [00:54<04:02,  1.03s/it, loss=0.179]"
          ]
        },
        {
          "output_type": "stream",
          "name": "stdout",
          "text": [
            ">\n"
          ]
        },
        {
          "output_type": "stream",
          "name": "stderr",
          "text": [
            " 20%|██        | 59/290 [00:59<03:51,  1.00s/it, loss=0.164]"
          ]
        },
        {
          "output_type": "stream",
          "name": "stdout",
          "text": [
            ">\n",
            ">\n",
            ">\n"
          ]
        },
        {
          "output_type": "stream",
          "name": "stderr",
          "text": [
            " 23%|██▎       | 68/290 [01:09<03:42,  1.00s/it, loss=0.208]"
          ]
        },
        {
          "output_type": "stream",
          "name": "stdout",
          "text": [
            ">\n",
            ">\n"
          ]
        },
        {
          "output_type": "stream",
          "name": "stderr",
          "text": [
            " 32%|███▏      | 92/290 [01:33<03:26,  1.04s/it, loss=0.157]"
          ]
        },
        {
          "output_type": "stream",
          "name": "stdout",
          "text": [
            ">\n",
            ">\n"
          ]
        },
        {
          "output_type": "stream",
          "name": "stderr",
          "text": [
            " 32%|███▏      | 93/290 [01:34<03:21,  1.02s/it, loss=0.187]"
          ]
        },
        {
          "output_type": "stream",
          "name": "stdout",
          "text": [
            "*\n",
            "*\n",
            "*\n"
          ]
        },
        {
          "output_type": "stream",
          "name": "stderr",
          "text": [
            " 43%|████▎     | 124/290 [02:05<02:49,  1.02s/it, loss=0.188]"
          ]
        },
        {
          "output_type": "stream",
          "name": "stdout",
          "text": [
            "]\n",
            "[\n",
            "]\n"
          ]
        },
        {
          "output_type": "stream",
          "name": "stderr",
          "text": [
            " 43%|████▎     | 126/290 [02:07<02:46,  1.01s/it, loss=0.184]"
          ]
        },
        {
          "output_type": "stream",
          "name": "stdout",
          "text": [
            "<\n"
          ]
        },
        {
          "output_type": "stream",
          "name": "stderr",
          "text": [
            " 44%|████▍     | 128/290 [02:09<02:43,  1.01s/it, loss=0.142]"
          ]
        },
        {
          "output_type": "stream",
          "name": "stdout",
          "text": [
            "*\n",
            "*\n",
            "*\n"
          ]
        },
        {
          "output_type": "stream",
          "name": "stderr",
          "text": [
            " 44%|████▍     | 129/290 [02:10<02:44,  1.02s/it, loss=0.146]"
          ]
        },
        {
          "output_type": "stream",
          "name": "stdout",
          "text": [
            "[\n",
            "]\n",
            "[\n",
            "]\n"
          ]
        },
        {
          "output_type": "stream",
          "name": "stderr",
          "text": [
            " 46%|████▌     | 132/290 [02:13<02:39,  1.01s/it, loss=0.205]"
          ]
        },
        {
          "output_type": "stream",
          "name": "stdout",
          "text": [
            "]\n",
            "[\n",
            "]\n"
          ]
        },
        {
          "output_type": "stream",
          "name": "stderr",
          "text": [
            " 47%|████▋     | 137/290 [02:19<02:35,  1.02s/it, loss=0.159]"
          ]
        },
        {
          "output_type": "stream",
          "name": "stdout",
          "text": [
            ">\n",
            ">\n"
          ]
        },
        {
          "output_type": "stream",
          "name": "stderr",
          "text": [
            " 48%|████▊     | 138/290 [02:20<02:34,  1.01s/it, loss=0.141]"
          ]
        },
        {
          "output_type": "stream",
          "name": "stdout",
          "text": [
            "[\n"
          ]
        },
        {
          "output_type": "stream",
          "name": "stderr",
          "text": [
            " 51%|█████     | 147/290 [02:29<02:25,  1.02s/it, loss=0.169]"
          ]
        },
        {
          "output_type": "stream",
          "name": "stdout",
          "text": [
            "[\n",
            "]\n"
          ]
        },
        {
          "output_type": "stream",
          "name": "stderr",
          "text": [
            " 59%|█████▉    | 171/290 [02:53<02:01,  1.02s/it, loss=0.182]"
          ]
        },
        {
          "output_type": "stream",
          "name": "stdout",
          "text": [
            "]\n"
          ]
        },
        {
          "output_type": "stream",
          "name": "stderr",
          "text": [
            " 60%|██████    | 174/290 [02:56<01:54,  1.01it/s, loss=0.144]"
          ]
        },
        {
          "output_type": "stream",
          "name": "stdout",
          "text": [
            ">\n",
            ">\n"
          ]
        },
        {
          "output_type": "stream",
          "name": "stderr",
          "text": [
            " 67%|██████▋   | 194/290 [03:16<01:35,  1.00it/s, loss=0.172]"
          ]
        },
        {
          "output_type": "stream",
          "name": "stdout",
          "text": [
            "*\n",
            "*\n",
            "*\n"
          ]
        },
        {
          "output_type": "stream",
          "name": "stderr",
          "text": [
            " 71%|███████   | 205/290 [03:27<01:25,  1.01s/it, loss=0.155]"
          ]
        },
        {
          "output_type": "stream",
          "name": "stdout",
          "text": [
            "<\n"
          ]
        },
        {
          "output_type": "stream",
          "name": "stderr",
          "text": [
            " 72%|███████▏  | 210/290 [03:32<01:20,  1.00s/it, loss=0.156]"
          ]
        },
        {
          "output_type": "stream",
          "name": "stdout",
          "text": [
            "[\n"
          ]
        },
        {
          "output_type": "stream",
          "name": "stderr",
          "text": [
            " 77%|███████▋  | 222/290 [03:44<01:10,  1.03s/it, loss=0.164]"
          ]
        },
        {
          "output_type": "stream",
          "name": "stdout",
          "text": [
            "[\n"
          ]
        },
        {
          "output_type": "stream",
          "name": "stderr",
          "text": [
            " 80%|████████  | 233/290 [03:55<00:57,  1.00s/it, loss=0.148]"
          ]
        },
        {
          "output_type": "stream",
          "name": "stdout",
          "text": [
            ">\n",
            ">\n"
          ]
        },
        {
          "output_type": "stream",
          "name": "stderr",
          "text": [
            " 89%|████████▉ | 258/290 [04:21<00:32,  1.01s/it, loss=0.121]"
          ]
        },
        {
          "output_type": "stream",
          "name": "stdout",
          "text": [
            "[\n",
            "]\n"
          ]
        },
        {
          "output_type": "stream",
          "name": "stderr",
          "text": [
            " 94%|█████████▍| 274/290 [04:37<00:16,  1.04s/it, loss=0.162]"
          ]
        },
        {
          "output_type": "stream",
          "name": "stdout",
          "text": [
            ">\n",
            ">\n"
          ]
        },
        {
          "output_type": "stream",
          "name": "stderr",
          "text": [
            " 96%|█████████▌| 277/290 [04:40<00:13,  1.04s/it, loss=0.142]"
          ]
        },
        {
          "output_type": "stream",
          "name": "stdout",
          "text": [
            ">\n",
            ">\n",
            ">\n"
          ]
        },
        {
          "output_type": "stream",
          "name": "stderr",
          "text": [
            "100%|██████████| 290/290 [04:53<00:00,  1.01s/it, loss=0.161]\n"
          ]
        },
        {
          "output_type": "stream",
          "name": "stdout",
          "text": [
            "checkpoint_ep25.pth.tar saved\n"
          ]
        },
        {
          "output_type": "stream",
          "name": "stderr",
          "text": [
            "  1%|          | 2/290 [00:01<04:45,  1.01it/s, loss=0.137]"
          ]
        },
        {
          "output_type": "stream",
          "name": "stdout",
          "text": [
            "*\n",
            "*\n",
            "*\n"
          ]
        },
        {
          "output_type": "stream",
          "name": "stderr",
          "text": [
            "  6%|▌         | 18/290 [00:18<04:33,  1.01s/it, loss=0.116]"
          ]
        },
        {
          "output_type": "stream",
          "name": "stdout",
          "text": [
            ">\n",
            ">\n",
            "[\n",
            "]\n"
          ]
        },
        {
          "output_type": "stream",
          "name": "stderr",
          "text": [
            "  7%|▋         | 19/290 [00:19<04:35,  1.02s/it, loss=0.151]"
          ]
        },
        {
          "output_type": "stream",
          "name": "stdout",
          "text": [
            "]\n"
          ]
        },
        {
          "output_type": "stream",
          "name": "stderr",
          "text": [
            " 10%|█         | 29/290 [00:29<04:29,  1.03s/it, loss=0.154]"
          ]
        },
        {
          "output_type": "stream",
          "name": "stdout",
          "text": [
            ">\n"
          ]
        },
        {
          "output_type": "stream",
          "name": "stderr",
          "text": [
            " 11%|█         | 31/290 [00:31<04:24,  1.02s/it, loss=0.154]"
          ]
        },
        {
          "output_type": "stream",
          "name": "stdout",
          "text": [
            "[\n"
          ]
        },
        {
          "output_type": "stream",
          "name": "stderr",
          "text": [
            " 16%|█▌        | 47/290 [00:47<04:07,  1.02s/it, loss=0.112]"
          ]
        },
        {
          "output_type": "stream",
          "name": "stdout",
          "text": [
            ">\n",
            ">\n",
            ">\n"
          ]
        },
        {
          "output_type": "stream",
          "name": "stderr",
          "text": [
            " 29%|██▊       | 83/290 [01:24<03:27,  1.00s/it, loss=0.153]"
          ]
        },
        {
          "output_type": "stream",
          "name": "stdout",
          "text": [
            ">\n"
          ]
        },
        {
          "output_type": "stream",
          "name": "stderr",
          "text": [
            " 29%|██▉       | 84/290 [01:25<03:26,  1.00s/it, loss=0.157]"
          ]
        },
        {
          "output_type": "stream",
          "name": "stdout",
          "text": [
            ">\n",
            ">\n"
          ]
        },
        {
          "output_type": "stream",
          "name": "stderr",
          "text": [
            " 33%|███▎      | 96/290 [01:37<03:13,  1.00it/s, loss=0.136]"
          ]
        },
        {
          "output_type": "stream",
          "name": "stdout",
          "text": [
            "*\n",
            "*\n",
            "*\n"
          ]
        },
        {
          "output_type": "stream",
          "name": "stderr",
          "text": [
            " 35%|███▍      | 101/290 [01:42<03:06,  1.01it/s, loss=0.15]"
          ]
        },
        {
          "output_type": "stream",
          "name": "stdout",
          "text": [
            ">\n",
            ">\n"
          ]
        },
        {
          "output_type": "stream",
          "name": "stderr",
          "text": [
            " 36%|███▌      | 103/290 [01:44<03:09,  1.01s/it, loss=0.11]"
          ]
        },
        {
          "output_type": "stream",
          "name": "stdout",
          "text": [
            "[\n",
            "]\n"
          ]
        },
        {
          "output_type": "stream",
          "name": "stderr",
          "text": [
            " 44%|████▍     | 129/290 [02:11<02:41,  1.00s/it, loss=0.182]"
          ]
        },
        {
          "output_type": "stream",
          "name": "stdout",
          "text": [
            ">\n",
            ">\n"
          ]
        },
        {
          "output_type": "stream",
          "name": "stderr",
          "text": [
            " 48%|████▊     | 138/290 [02:20<02:35,  1.02s/it, loss=0.126]"
          ]
        },
        {
          "output_type": "stream",
          "name": "stdout",
          "text": [
            "]\n",
            ">\n",
            ">\n"
          ]
        },
        {
          "output_type": "stream",
          "name": "stderr",
          "text": [
            " 48%|████▊     | 140/290 [02:22<02:30,  1.00s/it, loss=0.122]"
          ]
        },
        {
          "output_type": "stream",
          "name": "stdout",
          "text": [
            ">\n",
            ">\n"
          ]
        },
        {
          "output_type": "stream",
          "name": "stderr",
          "text": [
            " 49%|████▉     | 142/290 [02:24<02:28,  1.00s/it, loss=0.152]"
          ]
        },
        {
          "output_type": "stream",
          "name": "stdout",
          "text": [
            "[\n"
          ]
        },
        {
          "output_type": "stream",
          "name": "stderr",
          "text": [
            " 57%|█████▋    | 164/290 [02:46<02:09,  1.03s/it, loss=0.129]"
          ]
        },
        {
          "output_type": "stream",
          "name": "stdout",
          "text": [
            ">\n",
            ">\n"
          ]
        },
        {
          "output_type": "stream",
          "name": "stderr",
          "text": [
            " 57%|█████▋    | 166/290 [02:48<02:05,  1.01s/it, loss=0.136]"
          ]
        },
        {
          "output_type": "stream",
          "name": "stdout",
          "text": [
            "[\n"
          ]
        },
        {
          "output_type": "stream",
          "name": "stderr",
          "text": [
            " 60%|█████▉    | 173/290 [02:55<02:01,  1.04s/it, loss=0.128]"
          ]
        },
        {
          "output_type": "stream",
          "name": "stdout",
          "text": [
            "<\n"
          ]
        },
        {
          "output_type": "stream",
          "name": "stderr",
          "text": [
            " 61%|██████    | 177/290 [02:59<01:56,  1.03s/it, loss=0.116]"
          ]
        },
        {
          "output_type": "stream",
          "name": "stdout",
          "text": [
            "[\n",
            "]\n"
          ]
        },
        {
          "output_type": "stream",
          "name": "stderr",
          "text": [
            " 61%|██████▏   | 178/290 [03:00<01:56,  1.04s/it, loss=0.126]"
          ]
        },
        {
          "output_type": "stream",
          "name": "stdout",
          "text": [
            "<\n"
          ]
        },
        {
          "output_type": "stream",
          "name": "stderr",
          "text": [
            " 63%|██████▎   | 182/290 [03:04<01:48,  1.00s/it, loss=0.117]"
          ]
        },
        {
          "output_type": "stream",
          "name": "stdout",
          "text": [
            ">\n",
            ">\n"
          ]
        },
        {
          "output_type": "stream",
          "name": "stderr",
          "text": [
            " 70%|███████   | 203/290 [03:26<01:27,  1.00s/it, loss=0.0999]"
          ]
        },
        {
          "output_type": "stream",
          "name": "stdout",
          "text": [
            "*\n",
            "*\n",
            "*\n"
          ]
        },
        {
          "output_type": "stream",
          "name": "stderr",
          "text": [
            " 72%|███████▏  | 210/290 [03:33<01:21,  1.02s/it, loss=0.19]"
          ]
        },
        {
          "output_type": "stream",
          "name": "stdout",
          "text": [
            "]\n",
            "[\n",
            "]\n",
            "[\n",
            "]\n"
          ]
        },
        {
          "output_type": "stream",
          "name": "stderr",
          "text": [
            " 76%|███████▌  | 220/290 [03:43<01:09,  1.00it/s, loss=0.145]"
          ]
        },
        {
          "output_type": "stream",
          "name": "stdout",
          "text": [
            ">\n",
            ">\n"
          ]
        },
        {
          "output_type": "stream",
          "name": "stderr",
          "text": [
            " 78%|███████▊  | 225/290 [03:48<01:06,  1.02s/it, loss=0.124]"
          ]
        },
        {
          "output_type": "stream",
          "name": "stdout",
          "text": [
            ">\n",
            ">\n"
          ]
        },
        {
          "output_type": "stream",
          "name": "stderr",
          "text": [
            " 83%|████████▎ | 242/290 [04:05<00:48,  1.02s/it, loss=0.103]"
          ]
        },
        {
          "output_type": "stream",
          "name": "stdout",
          "text": [
            "]\n",
            "[\n",
            "]\n"
          ]
        },
        {
          "output_type": "stream",
          "name": "stderr",
          "text": [
            " 86%|████████▌ | 249/290 [04:12<00:40,  1.00it/s, loss=0.12]"
          ]
        },
        {
          "output_type": "stream",
          "name": "stdout",
          "text": [
            "*\n",
            "*\n",
            "*\n"
          ]
        },
        {
          "output_type": "stream",
          "name": "stderr",
          "text": [
            " 91%|█████████ | 264/290 [04:27<00:26,  1.01s/it, loss=0.149]"
          ]
        },
        {
          "output_type": "stream",
          "name": "stdout",
          "text": [
            ">\n"
          ]
        },
        {
          "output_type": "stream",
          "name": "stderr",
          "text": [
            " 91%|█████████▏| 265/290 [04:28<00:25,  1.01s/it, loss=0.141]"
          ]
        },
        {
          "output_type": "stream",
          "name": "stdout",
          "text": [
            "[\n"
          ]
        },
        {
          "output_type": "stream",
          "name": "stderr",
          "text": [
            "100%|██████████| 290/290 [04:53<00:00,  1.01s/it, loss=0.136]\n",
            "  3%|▎         | 9/290 [00:09<04:44,  1.01s/it, loss=0.0888]"
          ]
        },
        {
          "output_type": "stream",
          "name": "stdout",
          "text": [
            ">\n"
          ]
        },
        {
          "output_type": "stream",
          "name": "stderr",
          "text": [
            "  6%|▌         | 17/290 [00:17<04:34,  1.01s/it, loss=0.127]"
          ]
        },
        {
          "output_type": "stream",
          "name": "stdout",
          "text": [
            "[\n"
          ]
        },
        {
          "output_type": "stream",
          "name": "stderr",
          "text": [
            " 14%|█▍        | 40/290 [00:40<04:14,  1.02s/it, loss=0.108]"
          ]
        },
        {
          "output_type": "stream",
          "name": "stdout",
          "text": [
            "]\n"
          ]
        },
        {
          "output_type": "stream",
          "name": "stderr",
          "text": [
            " 16%|█▌        | 47/290 [00:47<04:07,  1.02s/it, loss=0.106]"
          ]
        },
        {
          "output_type": "stream",
          "name": "stdout",
          "text": [
            "*\n",
            "*\n",
            "*\n"
          ]
        },
        {
          "output_type": "stream",
          "name": "stderr",
          "text": [
            " 18%|█▊        | 52/290 [00:52<03:57,  1.00it/s, loss=0.117]"
          ]
        },
        {
          "output_type": "stream",
          "name": "stdout",
          "text": [
            ">\n",
            ">\n"
          ]
        },
        {
          "output_type": "stream",
          "name": "stderr",
          "text": [
            " 19%|█▉        | 56/290 [00:56<04:04,  1.04s/it, loss=0.103]"
          ]
        },
        {
          "output_type": "stream",
          "name": "stdout",
          "text": [
            ">\n",
            ">\n"
          ]
        },
        {
          "output_type": "stream",
          "name": "stderr",
          "text": [
            " 34%|███▍      | 99/290 [01:40<03:10,  1.00it/s, loss=0.121]"
          ]
        },
        {
          "output_type": "stream",
          "name": "stdout",
          "text": [
            "]\n"
          ]
        },
        {
          "output_type": "stream",
          "name": "stderr",
          "text": [
            " 38%|███▊      | 111/290 [01:52<03:02,  1.02s/it, loss=0.122]"
          ]
        },
        {
          "output_type": "stream",
          "name": "stdout",
          "text": [
            "[\n",
            "]\n"
          ]
        },
        {
          "output_type": "stream",
          "name": "stderr",
          "text": [
            " 41%|████      | 118/290 [01:59<02:52,  1.00s/it, loss=0.0981]"
          ]
        },
        {
          "output_type": "stream",
          "name": "stdout",
          "text": [
            "[\n",
            "]\n"
          ]
        },
        {
          "output_type": "stream",
          "name": "stderr",
          "text": [
            " 43%|████▎     | 125/290 [02:06<02:46,  1.01s/it, loss=0.117]"
          ]
        },
        {
          "output_type": "stream",
          "name": "stdout",
          "text": [
            "*\n",
            "*\n",
            "*\n"
          ]
        },
        {
          "output_type": "stream",
          "name": "stderr",
          "text": [
            " 44%|████▍     | 127/290 [02:08<02:45,  1.02s/it, loss=0.105]"
          ]
        },
        {
          "output_type": "stream",
          "name": "stdout",
          "text": [
            ">\n"
          ]
        },
        {
          "output_type": "stream",
          "name": "stderr",
          "text": [
            " 47%|████▋     | 135/290 [02:16<02:38,  1.02s/it, loss=0.096]"
          ]
        },
        {
          "output_type": "stream",
          "name": "stdout",
          "text": [
            ">\n",
            ">\n"
          ]
        },
        {
          "output_type": "stream",
          "name": "stderr",
          "text": [
            " 49%|████▉     | 142/290 [02:24<02:31,  1.02s/it, loss=0.118]"
          ]
        },
        {
          "output_type": "stream",
          "name": "stdout",
          "text": [
            ">\n",
            ">\n"
          ]
        },
        {
          "output_type": "stream",
          "name": "stderr",
          "text": [
            " 49%|████▉     | 143/290 [02:25<02:28,  1.01s/it, loss=0.111]"
          ]
        },
        {
          "output_type": "stream",
          "name": "stdout",
          "text": [
            "[\n",
            "]\n"
          ]
        },
        {
          "output_type": "stream",
          "name": "stderr",
          "text": [
            " 50%|█████     | 145/290 [02:27<02:28,  1.02s/it, loss=0.103]"
          ]
        },
        {
          "output_type": "stream",
          "name": "stdout",
          "text": [
            ">\n",
            ">\n",
            ">\n"
          ]
        },
        {
          "output_type": "stream",
          "name": "stderr",
          "text": [
            " 50%|█████     | 146/290 [02:28<02:24,  1.01s/it, loss=0.104]"
          ]
        },
        {
          "output_type": "stream",
          "name": "stdout",
          "text": [
            "[\n"
          ]
        },
        {
          "output_type": "stream",
          "name": "stderr",
          "text": [
            " 53%|█████▎    | 154/290 [02:36<02:16,  1.00s/it, loss=0.093]"
          ]
        },
        {
          "output_type": "stream",
          "name": "stdout",
          "text": [
            "*\n",
            "*\n",
            "*\n"
          ]
        },
        {
          "output_type": "stream",
          "name": "stderr",
          "text": [
            " 56%|█████▌    | 162/290 [02:44<02:08,  1.00s/it, loss=0.13]"
          ]
        },
        {
          "output_type": "stream",
          "name": "stdout",
          "text": [
            "<\n"
          ]
        },
        {
          "output_type": "stream",
          "name": "stderr",
          "text": [
            " 63%|██████▎   | 182/290 [03:04<01:51,  1.04s/it, loss=0.0863]"
          ]
        },
        {
          "output_type": "stream",
          "name": "stdout",
          "text": [
            ">\n",
            ">\n"
          ]
        },
        {
          "output_type": "stream",
          "name": "stderr",
          "text": [
            " 64%|██████▍   | 186/290 [03:08<01:44,  1.01s/it, loss=0.11]"
          ]
        },
        {
          "output_type": "stream",
          "name": "stdout",
          "text": [
            ">\n",
            ">\n"
          ]
        },
        {
          "output_type": "stream",
          "name": "stderr",
          "text": [
            " 69%|██████▉   | 201/290 [03:23<01:30,  1.02s/it, loss=0.0969]"
          ]
        },
        {
          "output_type": "stream",
          "name": "stdout",
          "text": [
            "]\n",
            "[\n",
            "]\n"
          ]
        },
        {
          "output_type": "stream",
          "name": "stderr",
          "text": [
            " 74%|███████▍  | 214/290 [03:37<01:16,  1.01s/it, loss=0.103]"
          ]
        },
        {
          "output_type": "stream",
          "name": "stdout",
          "text": [
            ">\n",
            ">\n"
          ]
        },
        {
          "output_type": "stream",
          "name": "stderr",
          "text": [
            " 81%|████████  | 235/290 [03:58<00:54,  1.00it/s, loss=0.0862]"
          ]
        },
        {
          "output_type": "stream",
          "name": "stdout",
          "text": [
            ">\n",
            ">\n"
          ]
        },
        {
          "output_type": "stream",
          "name": "stderr",
          "text": [
            " 85%|████████▌ | 247/290 [04:10<00:42,  1.01it/s, loss=0.134]"
          ]
        },
        {
          "output_type": "stream",
          "name": "stdout",
          "text": [
            "[\n"
          ]
        },
        {
          "output_type": "stream",
          "name": "stderr",
          "text": [
            " 87%|████████▋ | 253/290 [04:17<00:42,  1.15s/it, loss=0.134]"
          ]
        },
        {
          "output_type": "stream",
          "name": "stdout",
          "text": [
            "[\n",
            "]\n"
          ]
        },
        {
          "output_type": "stream",
          "name": "stderr",
          "text": [
            " 90%|████████▉ | 260/290 [04:24<00:30,  1.00s/it, loss=0.0965]"
          ]
        },
        {
          "output_type": "stream",
          "name": "stdout",
          "text": [
            "<\n"
          ]
        },
        {
          "output_type": "stream",
          "name": "stderr",
          "text": [
            " 90%|█████████ | 261/290 [04:25<00:29,  1.02s/it, loss=0.109]"
          ]
        },
        {
          "output_type": "stream",
          "name": "stdout",
          "text": [
            "[\n"
          ]
        },
        {
          "output_type": "stream",
          "name": "stderr",
          "text": [
            " 91%|█████████ | 264/290 [04:28<00:26,  1.01s/it, loss=0.097]"
          ]
        },
        {
          "output_type": "stream",
          "name": "stdout",
          "text": [
            "*\n",
            "*\n",
            "*\n"
          ]
        },
        {
          "output_type": "stream",
          "name": "stderr",
          "text": [
            " 94%|█████████▍| 274/290 [04:38<00:15,  1.01it/s, loss=0.127]"
          ]
        },
        {
          "output_type": "stream",
          "name": "stdout",
          "text": [
            ">\n"
          ]
        },
        {
          "output_type": "stream",
          "name": "stderr",
          "text": [
            " 96%|█████████▌| 277/290 [04:41<00:13,  1.02s/it, loss=0.114]"
          ]
        },
        {
          "output_type": "stream",
          "name": "stdout",
          "text": [
            ">\n",
            ">\n"
          ]
        },
        {
          "output_type": "stream",
          "name": "stderr",
          "text": [
            " 97%|█████████▋| 280/290 [04:44<00:10,  1.02s/it, loss=0.14]"
          ]
        },
        {
          "output_type": "stream",
          "name": "stdout",
          "text": [
            "]\n",
            "[\n",
            "]\n"
          ]
        },
        {
          "output_type": "stream",
          "name": "stderr",
          "text": [
            "100%|█████████▉| 289/290 [04:53<00:00,  1.02it/s, loss=0.115]"
          ]
        },
        {
          "output_type": "stream",
          "name": "stdout",
          "text": [
            ">\n",
            ">\n"
          ]
        },
        {
          "output_type": "stream",
          "name": "stderr",
          "text": [
            "100%|██████████| 290/290 [04:54<00:00,  1.01s/it, loss=0.085]\n"
          ]
        },
        {
          "output_type": "stream",
          "name": "stdout",
          "text": [
            "checkpoint_ep27.pth.tar saved\n"
          ]
        },
        {
          "output_type": "stream",
          "name": "stderr",
          "text": [
            "  3%|▎         | 10/290 [00:10<04:39,  1.00it/s, loss=0.101]"
          ]
        },
        {
          "output_type": "stream",
          "name": "stdout",
          "text": [
            "*\n",
            "*\n",
            "*\n"
          ]
        },
        {
          "output_type": "stream",
          "name": "stderr",
          "text": [
            "  5%|▌         | 15/290 [00:15<04:29,  1.02it/s, loss=0.0944]"
          ]
        },
        {
          "output_type": "stream",
          "name": "stdout",
          "text": [
            ">\n"
          ]
        },
        {
          "output_type": "stream",
          "name": "stderr",
          "text": [
            "  6%|▌         | 16/290 [00:16<04:39,  1.02s/it, loss=0.109]"
          ]
        },
        {
          "output_type": "stream",
          "name": "stdout",
          "text": [
            ">\n",
            ">\n"
          ]
        },
        {
          "output_type": "stream",
          "name": "stderr",
          "text": [
            "  6%|▌         | 18/290 [00:18<04:34,  1.01s/it, loss=0.123]"
          ]
        },
        {
          "output_type": "stream",
          "name": "stdout",
          "text": [
            "[\n",
            "]\n",
            "[\n"
          ]
        },
        {
          "output_type": "stream",
          "name": "stderr",
          "text": [
            "  7%|▋         | 21/290 [00:21<04:33,  1.02s/it, loss=0.0908]"
          ]
        },
        {
          "output_type": "stream",
          "name": "stdout",
          "text": [
            ">\n",
            ">\n"
          ]
        },
        {
          "output_type": "stream",
          "name": "stderr",
          "text": [
            " 14%|█▍        | 41/290 [00:41<04:12,  1.01s/it, loss=0.133]"
          ]
        },
        {
          "output_type": "stream",
          "name": "stdout",
          "text": [
            ">\n",
            ">\n"
          ]
        },
        {
          "output_type": "stream",
          "name": "stderr",
          "text": [
            " 15%|█▌        | 44/290 [00:44<04:06,  1.00s/it, loss=0.104]"
          ]
        },
        {
          "output_type": "stream",
          "name": "stdout",
          "text": [
            ">\n"
          ]
        },
        {
          "output_type": "stream",
          "name": "stderr",
          "text": [
            " 17%|█▋        | 50/290 [00:50<04:00,  1.00s/it, loss=0.137]"
          ]
        },
        {
          "output_type": "stream",
          "name": "stdout",
          "text": [
            "*\n",
            "*\n",
            "*\n"
          ]
        },
        {
          "output_type": "stream",
          "name": "stderr",
          "text": [
            " 18%|█▊        | 52/290 [00:52<03:59,  1.01s/it, loss=0.129]"
          ]
        },
        {
          "output_type": "stream",
          "name": "stdout",
          "text": [
            "*\n",
            "*\n",
            "*\n",
            ">\n",
            ">\n"
          ]
        },
        {
          "output_type": "stream",
          "name": "stderr",
          "text": [
            " 21%|██▏       | 62/290 [01:02<03:49,  1.01s/it, loss=0.103]"
          ]
        },
        {
          "output_type": "stream",
          "name": "stdout",
          "text": [
            ">\n",
            ">\n"
          ]
        },
        {
          "output_type": "stream",
          "name": "stderr",
          "text": [
            " 28%|██▊       | 80/290 [01:20<03:30,  1.00s/it, loss=0.0983]"
          ]
        },
        {
          "output_type": "stream",
          "name": "stdout",
          "text": [
            "[\n",
            "]\n"
          ]
        },
        {
          "output_type": "stream",
          "name": "stderr",
          "text": [
            " 28%|██▊       | 81/290 [01:21<03:28,  1.00it/s, loss=0.065]"
          ]
        },
        {
          "output_type": "stream",
          "name": "stdout",
          "text": [
            "[\n"
          ]
        },
        {
          "output_type": "stream",
          "name": "stderr",
          "text": [
            " 31%|███       | 90/290 [01:31<03:28,  1.04s/it, loss=0.107]"
          ]
        },
        {
          "output_type": "stream",
          "name": "stdout",
          "text": [
            "*\n",
            "*\n",
            "*\n"
          ]
        },
        {
          "output_type": "stream",
          "name": "stderr",
          "text": [
            " 36%|███▌      | 105/290 [01:46<03:05,  1.00s/it, loss=0.0954]"
          ]
        },
        {
          "output_type": "stream",
          "name": "stdout",
          "text": [
            ">\n",
            ">\n"
          ]
        },
        {
          "output_type": "stream",
          "name": "stderr",
          "text": [
            " 38%|███▊      | 109/290 [01:50<03:05,  1.03s/it, loss=0.0829]"
          ]
        },
        {
          "output_type": "stream",
          "name": "stdout",
          "text": [
            ">\n",
            ">\n"
          ]
        },
        {
          "output_type": "stream",
          "name": "stderr",
          "text": [
            " 41%|████▏     | 120/290 [02:01<02:52,  1.01s/it, loss=0.0915]"
          ]
        },
        {
          "output_type": "stream",
          "name": "stdout",
          "text": [
            ">\n",
            ">\n",
            ">\n"
          ]
        },
        {
          "output_type": "stream",
          "name": "stderr",
          "text": [
            " 43%|████▎     | 126/290 [02:07<02:49,  1.03s/it, loss=0.0995]"
          ]
        },
        {
          "output_type": "stream",
          "name": "stdout",
          "text": [
            ">\n",
            ">\n"
          ]
        },
        {
          "output_type": "stream",
          "name": "stderr",
          "text": [
            " 44%|████▍     | 129/290 [02:10<02:41,  1.00s/it, loss=0.101]"
          ]
        },
        {
          "output_type": "stream",
          "name": "stdout",
          "text": [
            ">\n",
            ">\n"
          ]
        },
        {
          "output_type": "stream",
          "name": "stderr",
          "text": [
            " 47%|████▋     | 136/290 [02:17<02:31,  1.02it/s, loss=0.115]"
          ]
        },
        {
          "output_type": "stream",
          "name": "stdout",
          "text": [
            ">\n"
          ]
        },
        {
          "output_type": "stream",
          "name": "stderr",
          "text": [
            " 50%|█████     | 146/290 [02:27<02:22,  1.01it/s, loss=0.115]"
          ]
        },
        {
          "output_type": "stream",
          "name": "stdout",
          "text": [
            "[\n",
            "]\n"
          ]
        },
        {
          "output_type": "stream",
          "name": "stderr",
          "text": [
            " 52%|█████▏    | 152/290 [02:33<02:20,  1.02s/it, loss=0.106]"
          ]
        },
        {
          "output_type": "stream",
          "name": "stdout",
          "text": [
            "<\n"
          ]
        },
        {
          "output_type": "stream",
          "name": "stderr",
          "text": [
            " 53%|█████▎    | 153/290 [02:34<02:17,  1.00s/it, loss=0.0956]"
          ]
        },
        {
          "output_type": "stream",
          "name": "stdout",
          "text": [
            "<\n"
          ]
        },
        {
          "output_type": "stream",
          "name": "stderr",
          "text": [
            " 63%|██████▎   | 184/290 [03:05<01:44,  1.01it/s, loss=0.131]"
          ]
        },
        {
          "output_type": "stream",
          "name": "stdout",
          "text": [
            "]\n"
          ]
        },
        {
          "output_type": "stream",
          "name": "stderr",
          "text": [
            " 66%|██████▌   | 192/290 [03:14<01:38,  1.00s/it, loss=0.0904]"
          ]
        },
        {
          "output_type": "stream",
          "name": "stdout",
          "text": [
            "[\n"
          ]
        },
        {
          "output_type": "stream",
          "name": "stderr",
          "text": [
            " 68%|██████▊   | 198/290 [03:20<01:32,  1.01s/it, loss=0.0843]"
          ]
        },
        {
          "output_type": "stream",
          "name": "stdout",
          "text": [
            "]\n"
          ]
        },
        {
          "output_type": "stream",
          "name": "stderr",
          "text": [
            " 69%|██████▉   | 201/290 [03:23<01:28,  1.00it/s, loss=0.106]"
          ]
        },
        {
          "output_type": "stream",
          "name": "stdout",
          "text": [
            "]\n",
            "[\n",
            "]\n"
          ]
        },
        {
          "output_type": "stream",
          "name": "stderr",
          "text": [
            " 71%|███████▏  | 207/290 [03:28<01:22,  1.01it/s, loss=0.0907]"
          ]
        },
        {
          "output_type": "stream",
          "name": "stdout",
          "text": [
            ">\n",
            ">\n"
          ]
        },
        {
          "output_type": "stream",
          "name": "stderr",
          "text": [
            " 79%|███████▉  | 229/290 [03:51<01:00,  1.01it/s, loss=0.0869]"
          ]
        },
        {
          "output_type": "stream",
          "name": "stdout",
          "text": [
            "[\n"
          ]
        },
        {
          "output_type": "stream",
          "name": "stderr",
          "text": [
            " 96%|█████████▌| 278/290 [04:40<00:12,  1.02s/it, loss=0.0964]"
          ]
        },
        {
          "output_type": "stream",
          "name": "stdout",
          "text": [
            "]\n",
            "[\n",
            "]\n",
            "[\n",
            "]\n"
          ]
        },
        {
          "output_type": "stream",
          "name": "stderr",
          "text": [
            "100%|██████████| 290/290 [04:52<00:00,  1.01s/it, loss=0.105]\n",
            " 11%|█         | 31/290 [00:31<04:20,  1.01s/it, loss=0.102]"
          ]
        },
        {
          "output_type": "stream",
          "name": "stdout",
          "text": [
            ">\n"
          ]
        },
        {
          "output_type": "stream",
          "name": "stderr",
          "text": [
            " 14%|█▍        | 41/290 [00:41<04:07,  1.00it/s, loss=0.0816]"
          ]
        },
        {
          "output_type": "stream",
          "name": "stdout",
          "text": [
            ">\n"
          ]
        },
        {
          "output_type": "stream",
          "name": "stderr",
          "text": [
            " 14%|█▍        | 42/290 [00:42<04:11,  1.01s/it, loss=0.0648]"
          ]
        },
        {
          "output_type": "stream",
          "name": "stdout",
          "text": [
            ">\n",
            ">\n"
          ]
        },
        {
          "output_type": "stream",
          "name": "stderr",
          "text": [
            " 15%|█▍        | 43/290 [00:43<04:13,  1.03s/it, loss=0.0833]"
          ]
        },
        {
          "output_type": "stream",
          "name": "stdout",
          "text": [
            "]\n",
            "[\n",
            "]\n"
          ]
        },
        {
          "output_type": "stream",
          "name": "stderr",
          "text": [
            " 16%|█▌        | 47/290 [00:47<04:06,  1.01s/it, loss=0.0741]"
          ]
        },
        {
          "output_type": "stream",
          "name": "stdout",
          "text": [
            ">\n",
            ">\n"
          ]
        },
        {
          "output_type": "stream",
          "name": "stderr",
          "text": [
            " 17%|█▋        | 48/290 [00:48<04:09,  1.03s/it, loss=0.11]"
          ]
        },
        {
          "output_type": "stream",
          "name": "stdout",
          "text": [
            ">\n",
            ">\n"
          ]
        },
        {
          "output_type": "stream",
          "name": "stderr",
          "text": [
            " 20%|██        | 58/290 [00:58<03:52,  1.00s/it, loss=0.0797]"
          ]
        },
        {
          "output_type": "stream",
          "name": "stdout",
          "text": [
            "<\n"
          ]
        },
        {
          "output_type": "stream",
          "name": "stderr",
          "text": [
            " 21%|██▏       | 62/290 [01:02<03:46,  1.01it/s, loss=0.0693]"
          ]
        },
        {
          "output_type": "stream",
          "name": "stdout",
          "text": [
            ">\n"
          ]
        },
        {
          "output_type": "stream",
          "name": "stderr",
          "text": [
            " 22%|██▏       | 63/290 [01:03<03:45,  1.01it/s, loss=0.0783]"
          ]
        },
        {
          "output_type": "stream",
          "name": "stdout",
          "text": [
            ">\n",
            ">\n"
          ]
        },
        {
          "output_type": "stream",
          "name": "stderr",
          "text": [
            " 23%|██▎       | 67/290 [01:07<03:40,  1.01it/s, loss=0.0842]"
          ]
        },
        {
          "output_type": "stream",
          "name": "stdout",
          "text": [
            "*\n",
            "*\n",
            "*\n"
          ]
        },
        {
          "output_type": "stream",
          "name": "stderr",
          "text": [
            " 35%|███▌      | 102/290 [01:42<03:12,  1.02s/it, loss=0.0658]"
          ]
        },
        {
          "output_type": "stream",
          "name": "stdout",
          "text": [
            "<\n"
          ]
        },
        {
          "output_type": "stream",
          "name": "stderr",
          "text": [
            " 36%|███▌      | 104/290 [01:44<03:09,  1.02s/it, loss=0.074]"
          ]
        },
        {
          "output_type": "stream",
          "name": "stdout",
          "text": [
            "]\n"
          ]
        },
        {
          "output_type": "stream",
          "name": "stderr",
          "text": [
            " 37%|███▋      | 106/290 [01:46<03:05,  1.01s/it, loss=0.0781]"
          ]
        },
        {
          "output_type": "stream",
          "name": "stdout",
          "text": [
            "*\n",
            "*\n",
            "*\n"
          ]
        },
        {
          "output_type": "stream",
          "name": "stderr",
          "text": [
            " 38%|███▊      | 110/290 [01:50<03:08,  1.05s/it, loss=0.0802]"
          ]
        },
        {
          "output_type": "stream",
          "name": "stdout",
          "text": [
            "[\n",
            "]\n"
          ]
        },
        {
          "output_type": "stream",
          "name": "stderr",
          "text": [
            " 41%|████▏     | 120/290 [02:00<02:54,  1.02s/it, loss=0.0984]"
          ]
        },
        {
          "output_type": "stream",
          "name": "stdout",
          "text": [
            "[\n",
            "]\n"
          ]
        },
        {
          "output_type": "stream",
          "name": "stderr",
          "text": [
            " 43%|████▎     | 124/290 [02:04<02:50,  1.03s/it, loss=0.0693]"
          ]
        },
        {
          "output_type": "stream",
          "name": "stdout",
          "text": [
            "]\n",
            "[\n",
            "]\n"
          ]
        },
        {
          "output_type": "stream",
          "name": "stderr",
          "text": [
            " 43%|████▎     | 125/290 [02:05<02:47,  1.02s/it, loss=0.0769]"
          ]
        },
        {
          "output_type": "stream",
          "name": "stdout",
          "text": [
            ">\n",
            ">\n"
          ]
        },
        {
          "output_type": "stream",
          "name": "stderr",
          "text": [
            " 46%|████▌     | 132/290 [02:12<02:37,  1.00it/s, loss=0.0845]"
          ]
        },
        {
          "output_type": "stream",
          "name": "stdout",
          "text": [
            ">\n",
            ">\n"
          ]
        },
        {
          "output_type": "stream",
          "name": "stderr",
          "text": [
            " 46%|████▌     | 133/290 [02:13<02:36,  1.00it/s, loss=0.114]"
          ]
        },
        {
          "output_type": "stream",
          "name": "stdout",
          "text": [
            "[\n",
            "]\n"
          ]
        },
        {
          "output_type": "stream",
          "name": "stderr",
          "text": [
            " 46%|████▌     | 134/290 [02:15<02:37,  1.01s/it, loss=0.0865]"
          ]
        },
        {
          "output_type": "stream",
          "name": "stdout",
          "text": [
            ">\n",
            ">\n"
          ]
        },
        {
          "output_type": "stream",
          "name": "stderr",
          "text": [
            " 49%|████▊     | 141/290 [02:22<02:31,  1.01s/it, loss=0.0673]"
          ]
        },
        {
          "output_type": "stream",
          "name": "stdout",
          "text": [
            "]\n"
          ]
        },
        {
          "output_type": "stream",
          "name": "stderr",
          "text": [
            " 52%|█████▏    | 151/290 [02:32<02:21,  1.02s/it, loss=0.0738]"
          ]
        },
        {
          "output_type": "stream",
          "name": "stdout",
          "text": [
            "[\n",
            "]\n"
          ]
        },
        {
          "output_type": "stream",
          "name": "stderr",
          "text": [
            " 54%|█████▍    | 157/290 [02:38<02:17,  1.04s/it, loss=0.0604]"
          ]
        },
        {
          "output_type": "stream",
          "name": "stdout",
          "text": [
            "[\n"
          ]
        },
        {
          "output_type": "stream",
          "name": "stderr",
          "text": [
            " 58%|█████▊    | 168/290 [02:49<02:00,  1.01it/s, loss=0.0925]"
          ]
        },
        {
          "output_type": "stream",
          "name": "stdout",
          "text": [
            "*\n",
            "*\n",
            "*\n"
          ]
        },
        {
          "output_type": "stream",
          "name": "stderr",
          "text": [
            " 70%|███████   | 203/290 [03:24<01:28,  1.02s/it, loss=0.0866]"
          ]
        },
        {
          "output_type": "stream",
          "name": "stdout",
          "text": [
            "*\n",
            "*\n",
            "*\n"
          ]
        },
        {
          "output_type": "stream",
          "name": "stderr",
          "text": [
            " 71%|███████   | 206/290 [03:27<01:25,  1.02s/it, loss=0.101]"
          ]
        },
        {
          "output_type": "stream",
          "name": "stdout",
          "text": [
            "[\n"
          ]
        },
        {
          "output_type": "stream",
          "name": "stderr",
          "text": [
            " 72%|███████▏  | 209/290 [03:30<01:21,  1.00s/it, loss=0.086]"
          ]
        },
        {
          "output_type": "stream",
          "name": "stdout",
          "text": [
            ">\n",
            ">\n",
            ">\n"
          ]
        },
        {
          "output_type": "stream",
          "name": "stderr",
          "text": [
            " 82%|████████▏ | 239/290 [04:01<00:51,  1.00s/it, loss=0.0799]"
          ]
        },
        {
          "output_type": "stream",
          "name": "stdout",
          "text": [
            ">\n",
            ">\n"
          ]
        },
        {
          "output_type": "stream",
          "name": "stderr",
          "text": [
            " 86%|████████▌ | 249/290 [04:11<00:40,  1.00it/s, loss=0.0689]"
          ]
        },
        {
          "output_type": "stream",
          "name": "stdout",
          "text": [
            "[\n"
          ]
        },
        {
          "output_type": "stream",
          "name": "stderr",
          "text": [
            " 87%|████████▋ | 253/290 [04:15<00:37,  1.01s/it, loss=0.0695]"
          ]
        },
        {
          "output_type": "stream",
          "name": "stdout",
          "text": [
            "[\n"
          ]
        },
        {
          "output_type": "stream",
          "name": "stderr",
          "text": [
            " 92%|█████████▏| 267/290 [04:29<00:23,  1.00s/it, loss=0.0813]"
          ]
        },
        {
          "output_type": "stream",
          "name": "stdout",
          "text": [
            ">\n",
            ">\n"
          ]
        },
        {
          "output_type": "stream",
          "name": "stderr",
          "text": [
            " 94%|█████████▍| 272/290 [04:34<00:18,  1.01s/it, loss=0.0966]"
          ]
        },
        {
          "output_type": "stream",
          "name": "stdout",
          "text": [
            ">\n",
            ">\n"
          ]
        },
        {
          "output_type": "stream",
          "name": "stderr",
          "text": [
            "100%|██████████| 290/290 [04:52<00:00,  1.01s/it, loss=0.0438]\n"
          ]
        },
        {
          "output_type": "stream",
          "name": "stdout",
          "text": [
            "checkpoint_ep29.pth.tar saved\n"
          ]
        },
        {
          "output_type": "stream",
          "name": "stderr",
          "text": [
            "  1%|▏         | 4/290 [00:04<04:48,  1.01s/it, loss=0.0657]"
          ]
        },
        {
          "output_type": "stream",
          "name": "stdout",
          "text": [
            "*\n",
            "*\n",
            "*\n"
          ]
        },
        {
          "output_type": "stream",
          "name": "stderr",
          "text": [
            "  2%|▏         | 6/290 [00:06<04:50,  1.02s/it, loss=0.0959]"
          ]
        },
        {
          "output_type": "stream",
          "name": "stdout",
          "text": [
            ">\n",
            ">\n",
            ">\n",
            "<\n"
          ]
        },
        {
          "output_type": "stream",
          "name": "stderr",
          "text": [
            " 10%|█         | 29/290 [00:29<04:24,  1.01s/it, loss=0.0583]"
          ]
        },
        {
          "output_type": "stream",
          "name": "stdout",
          "text": [
            "]\n"
          ]
        },
        {
          "output_type": "stream",
          "name": "stderr",
          "text": [
            " 11%|█▏        | 33/290 [00:33<04:31,  1.06s/it, loss=0.0774]"
          ]
        },
        {
          "output_type": "stream",
          "name": "stdout",
          "text": [
            ">\n",
            ">\n"
          ]
        },
        {
          "output_type": "stream",
          "name": "stderr",
          "text": [
            " 12%|█▏        | 36/290 [00:36<04:19,  1.02s/it, loss=0.0589]"
          ]
        },
        {
          "output_type": "stream",
          "name": "stdout",
          "text": [
            ">\n",
            ">\n"
          ]
        },
        {
          "output_type": "stream",
          "name": "stderr",
          "text": [
            " 14%|█▍        | 40/290 [00:40<04:16,  1.03s/it, loss=0.0833]"
          ]
        },
        {
          "output_type": "stream",
          "name": "stdout",
          "text": [
            "*\n",
            "*\n",
            "*\n"
          ]
        },
        {
          "output_type": "stream",
          "name": "stderr",
          "text": [
            " 16%|█▌        | 45/290 [00:45<04:10,  1.02s/it, loss=0.0848]"
          ]
        },
        {
          "output_type": "stream",
          "name": "stdout",
          "text": [
            ">\n",
            ">\n"
          ]
        },
        {
          "output_type": "stream",
          "name": "stderr",
          "text": [
            " 20%|██        | 58/290 [00:58<03:55,  1.01s/it, loss=0.0894]"
          ]
        },
        {
          "output_type": "stream",
          "name": "stdout",
          "text": [
            "[\n",
            "]\n",
            "*\n",
            "*\n",
            "*\n"
          ]
        },
        {
          "output_type": "stream",
          "name": "stderr",
          "text": [
            " 34%|███▍      | 99/290 [01:39<03:08,  1.01it/s, loss=0.0882]"
          ]
        },
        {
          "output_type": "stream",
          "name": "stdout",
          "text": [
            "]\n",
            "[\n",
            "]\n"
          ]
        },
        {
          "output_type": "stream",
          "name": "stderr",
          "text": [
            " 35%|███▌      | 102/290 [01:43<03:11,  1.02s/it, loss=0.0523]"
          ]
        },
        {
          "output_type": "stream",
          "name": "stdout",
          "text": [
            ">\n",
            ">\n"
          ]
        },
        {
          "output_type": "stream",
          "name": "stderr",
          "text": [
            " 38%|███▊      | 111/290 [01:51<02:57,  1.01it/s, loss=0.0683]"
          ]
        },
        {
          "output_type": "stream",
          "name": "stdout",
          "text": [
            ">\n",
            ">\n"
          ]
        },
        {
          "output_type": "stream",
          "name": "stderr",
          "text": [
            " 41%|████      | 118/290 [01:58<02:52,  1.00s/it, loss=0.0839]"
          ]
        },
        {
          "output_type": "stream",
          "name": "stdout",
          "text": [
            ">\n",
            ">\n"
          ]
        },
        {
          "output_type": "stream",
          "name": "stderr",
          "text": [
            " 42%|████▏     | 122/290 [02:03<03:00,  1.07s/it, loss=0.0889]"
          ]
        },
        {
          "output_type": "stream",
          "name": "stdout",
          "text": [
            "[\n",
            "]\n"
          ]
        },
        {
          "output_type": "stream",
          "name": "stderr",
          "text": [
            " 46%|████▌     | 133/290 [02:14<02:37,  1.00s/it, loss=0.0623]"
          ]
        },
        {
          "output_type": "stream",
          "name": "stdout",
          "text": [
            ">\n"
          ]
        },
        {
          "output_type": "stream",
          "name": "stderr",
          "text": [
            " 48%|████▊     | 139/290 [02:20<02:33,  1.02s/it, loss=0.0665]"
          ]
        },
        {
          "output_type": "stream",
          "name": "stdout",
          "text": [
            "<\n"
          ]
        },
        {
          "output_type": "stream",
          "name": "stderr",
          "text": [
            " 49%|████▉     | 142/290 [02:23<02:31,  1.02s/it, loss=0.0783]"
          ]
        },
        {
          "output_type": "stream",
          "name": "stdout",
          "text": [
            ">\n",
            ">\n"
          ]
        },
        {
          "output_type": "stream",
          "name": "stderr",
          "text": [
            " 52%|█████▏    | 152/290 [02:33<02:20,  1.02s/it, loss=0.065]"
          ]
        },
        {
          "output_type": "stream",
          "name": "stdout",
          "text": [
            ">\n",
            ">\n"
          ]
        },
        {
          "output_type": "stream",
          "name": "stderr",
          "text": [
            " 56%|█████▌    | 161/290 [02:42<02:07,  1.01it/s, loss=0.0603]"
          ]
        },
        {
          "output_type": "stream",
          "name": "stdout",
          "text": [
            ">\n",
            ">\n"
          ]
        },
        {
          "output_type": "stream",
          "name": "stderr",
          "text": [
            " 61%|██████    | 176/290 [02:57<01:54,  1.01s/it, loss=0.0747]"
          ]
        },
        {
          "output_type": "stream",
          "name": "stdout",
          "text": [
            "*\n",
            "*\n",
            "*\n"
          ]
        },
        {
          "output_type": "stream",
          "name": "stderr",
          "text": [
            " 65%|██████▌   | 189/290 [03:11<01:42,  1.01s/it, loss=0.0693]"
          ]
        },
        {
          "output_type": "stream",
          "name": "stdout",
          "text": [
            "[\n"
          ]
        },
        {
          "output_type": "stream",
          "name": "stderr",
          "text": [
            " 66%|██████▌   | 191/290 [03:13<01:39,  1.01s/it, loss=0.0937]"
          ]
        },
        {
          "output_type": "stream",
          "name": "stdout",
          "text": [
            "[\n"
          ]
        },
        {
          "output_type": "stream",
          "name": "stderr",
          "text": [
            " 74%|███████▍  | 215/290 [03:37<01:15,  1.01s/it, loss=0.0542]"
          ]
        },
        {
          "output_type": "stream",
          "name": "stdout",
          "text": [
            "]\n",
            "[\n",
            "]\n"
          ]
        },
        {
          "output_type": "stream",
          "name": "stderr",
          "text": [
            " 79%|███████▊  | 228/290 [03:50<01:05,  1.06s/it, loss=0.0706]"
          ]
        },
        {
          "output_type": "stream",
          "name": "stdout",
          "text": [
            ">\n",
            ">\n"
          ]
        },
        {
          "output_type": "stream",
          "name": "stderr",
          "text": [
            " 83%|████████▎ | 242/290 [04:05<00:49,  1.03s/it, loss=0.0997]"
          ]
        },
        {
          "output_type": "stream",
          "name": "stdout",
          "text": [
            "]\n"
          ]
        },
        {
          "output_type": "stream",
          "name": "stderr",
          "text": [
            " 91%|█████████ | 264/290 [04:27<00:26,  1.01s/it, loss=0.06]"
          ]
        },
        {
          "output_type": "stream",
          "name": "stdout",
          "text": [
            "[\n",
            "]\n"
          ]
        },
        {
          "output_type": "stream",
          "name": "stderr",
          "text": [
            " 94%|█████████▍| 274/290 [04:37<00:16,  1.02s/it, loss=0.0632]"
          ]
        },
        {
          "output_type": "stream",
          "name": "stdout",
          "text": [
            "[\n",
            "]\n",
            ">\n"
          ]
        },
        {
          "output_type": "stream",
          "name": "stderr",
          "text": [
            " 95%|█████████▍| 275/290 [04:38<00:15,  1.01s/it, loss=0.0717]"
          ]
        },
        {
          "output_type": "stream",
          "name": "stdout",
          "text": [
            ">\n"
          ]
        },
        {
          "output_type": "stream",
          "name": "stderr",
          "text": [
            " 96%|█████████▌| 277/290 [04:40<00:12,  1.01it/s, loss=0.0852]"
          ]
        },
        {
          "output_type": "stream",
          "name": "stdout",
          "text": [
            "[\n"
          ]
        },
        {
          "output_type": "stream",
          "name": "stderr",
          "text": [
            " 98%|█████████▊| 283/290 [04:46<00:06,  1.02it/s, loss=0.0438]"
          ]
        },
        {
          "output_type": "stream",
          "name": "stdout",
          "text": [
            "[\n"
          ]
        },
        {
          "output_type": "stream",
          "name": "stderr",
          "text": [
            "100%|██████████| 290/290 [04:53<00:00,  1.01s/it, loss=0.0676]\n",
            "  1%|          | 2/290 [00:01<04:47,  1.00it/s, loss=0.0871]"
          ]
        },
        {
          "output_type": "stream",
          "name": "stdout",
          "text": [
            "]\n"
          ]
        },
        {
          "output_type": "stream",
          "name": "stderr",
          "text": [
            "  4%|▍         | 12/290 [00:12<04:50,  1.04s/it, loss=0.0528]"
          ]
        },
        {
          "output_type": "stream",
          "name": "stdout",
          "text": [
            ">\n",
            ">\n"
          ]
        },
        {
          "output_type": "stream",
          "name": "stderr",
          "text": [
            "  4%|▍         | 13/290 [00:13<04:54,  1.06s/it, loss=0.0571]"
          ]
        },
        {
          "output_type": "stream",
          "name": "stdout",
          "text": [
            "<\n"
          ]
        },
        {
          "output_type": "stream",
          "name": "stderr",
          "text": [
            "  7%|▋         | 20/290 [00:20<04:32,  1.01s/it, loss=0.0543]"
          ]
        },
        {
          "output_type": "stream",
          "name": "stdout",
          "text": [
            "*\n",
            "*\n",
            "*\n"
          ]
        },
        {
          "output_type": "stream",
          "name": "stderr",
          "text": [
            " 11%|█▏        | 33/290 [00:33<04:14,  1.01it/s, loss=0.0575]"
          ]
        },
        {
          "output_type": "stream",
          "name": "stdout",
          "text": [
            "*\n",
            "*\n",
            "*\n"
          ]
        },
        {
          "output_type": "stream",
          "name": "stderr",
          "text": [
            " 15%|█▍        | 43/290 [00:43<04:13,  1.03s/it, loss=0.051]"
          ]
        },
        {
          "output_type": "stream",
          "name": "stdout",
          "text": [
            "]\n"
          ]
        },
        {
          "output_type": "stream",
          "name": "stderr",
          "text": [
            " 18%|█▊        | 51/290 [00:51<03:56,  1.01it/s, loss=0.0595]"
          ]
        },
        {
          "output_type": "stream",
          "name": "stdout",
          "text": [
            "[\n"
          ]
        },
        {
          "output_type": "stream",
          "name": "stderr",
          "text": [
            " 18%|█▊        | 52/290 [00:52<03:58,  1.00s/it, loss=0.0651]"
          ]
        },
        {
          "output_type": "stream",
          "name": "stdout",
          "text": [
            ">\n"
          ]
        },
        {
          "output_type": "stream",
          "name": "stderr",
          "text": [
            " 25%|██▌       | 73/290 [01:13<03:42,  1.03s/it, loss=0.068]"
          ]
        },
        {
          "output_type": "stream",
          "name": "stdout",
          "text": [
            "[\n",
            "]\n"
          ]
        },
        {
          "output_type": "stream",
          "name": "stderr",
          "text": [
            " 29%|██▉       | 85/290 [01:25<03:27,  1.01s/it, loss=0.0608]"
          ]
        },
        {
          "output_type": "stream",
          "name": "stdout",
          "text": [
            "[\n",
            "]\n"
          ]
        },
        {
          "output_type": "stream",
          "name": "stderr",
          "text": [
            " 33%|███▎      | 95/290 [01:35<03:12,  1.01it/s, loss=0.0628]"
          ]
        },
        {
          "output_type": "stream",
          "name": "stdout",
          "text": [
            ">\n",
            ">\n"
          ]
        },
        {
          "output_type": "stream",
          "name": "stderr",
          "text": [
            " 36%|███▌      | 105/290 [01:45<03:06,  1.01s/it, loss=0.0735]"
          ]
        },
        {
          "output_type": "stream",
          "name": "stdout",
          "text": [
            ">\n",
            ">\n"
          ]
        },
        {
          "output_type": "stream",
          "name": "stderr",
          "text": [
            " 42%|████▏     | 122/290 [02:02<02:52,  1.03s/it, loss=0.059]"
          ]
        },
        {
          "output_type": "stream",
          "name": "stdout",
          "text": [
            ">\n"
          ]
        },
        {
          "output_type": "stream",
          "name": "stderr",
          "text": [
            " 50%|████▉     | 144/290 [02:25<02:30,  1.03s/it, loss=0.0781]"
          ]
        },
        {
          "output_type": "stream",
          "name": "stdout",
          "text": [
            "[\n",
            "]\n"
          ]
        },
        {
          "output_type": "stream",
          "name": "stderr",
          "text": [
            " 54%|█████▍    | 158/290 [02:39<02:12,  1.01s/it, loss=0.076]"
          ]
        },
        {
          "output_type": "stream",
          "name": "stdout",
          "text": [
            ">\n",
            ">\n"
          ]
        },
        {
          "output_type": "stream",
          "name": "stderr",
          "text": [
            " 56%|█████▌    | 161/290 [02:42<02:08,  1.00it/s, loss=0.0675]"
          ]
        },
        {
          "output_type": "stream",
          "name": "stdout",
          "text": [
            "[\n"
          ]
        },
        {
          "output_type": "stream",
          "name": "stderr",
          "text": [
            " 58%|█████▊    | 168/290 [02:49<02:04,  1.02s/it, loss=0.0553]"
          ]
        },
        {
          "output_type": "stream",
          "name": "stdout",
          "text": [
            "*\n",
            "*\n",
            "*\n"
          ]
        },
        {
          "output_type": "stream",
          "name": "stderr",
          "text": [
            " 59%|█████▊    | 170/290 [02:51<02:01,  1.01s/it, loss=0.0543]"
          ]
        },
        {
          "output_type": "stream",
          "name": "stdout",
          "text": [
            ">\n",
            ">\n"
          ]
        },
        {
          "output_type": "stream",
          "name": "stderr",
          "text": [
            " 60%|██████    | 175/290 [02:56<01:55,  1.01s/it, loss=0.069]"
          ]
        },
        {
          "output_type": "stream",
          "name": "stdout",
          "text": [
            ">\n"
          ]
        },
        {
          "output_type": "stream",
          "name": "stderr",
          "text": [
            " 64%|██████▍   | 185/290 [03:06<01:45,  1.00s/it, loss=0.081]"
          ]
        },
        {
          "output_type": "stream",
          "name": "stdout",
          "text": [
            ">\n",
            ">\n"
          ]
        },
        {
          "output_type": "stream",
          "name": "stderr",
          "text": [
            " 72%|███████▏  | 209/290 [03:31<01:21,  1.00s/it, loss=0.0464]"
          ]
        },
        {
          "output_type": "stream",
          "name": "stdout",
          "text": [
            "<\n"
          ]
        },
        {
          "output_type": "stream",
          "name": "stderr",
          "text": [
            " 76%|███████▌  | 219/290 [03:41<01:09,  1.02it/s, loss=0.0756]"
          ]
        },
        {
          "output_type": "stream",
          "name": "stdout",
          "text": [
            "[\n",
            "]\n"
          ]
        },
        {
          "output_type": "stream",
          "name": "stderr",
          "text": [
            " 76%|███████▌  | 220/290 [03:41<01:08,  1.02it/s, loss=0.0699]"
          ]
        },
        {
          "output_type": "stream",
          "name": "stdout",
          "text": [
            "[\n"
          ]
        },
        {
          "output_type": "stream",
          "name": "stderr",
          "text": [
            " 77%|███████▋  | 223/290 [03:45<01:08,  1.02s/it, loss=0.067]"
          ]
        },
        {
          "output_type": "stream",
          "name": "stdout",
          "text": [
            "]\n",
            "[\n",
            "]\n"
          ]
        },
        {
          "output_type": "stream",
          "name": "stderr",
          "text": [
            " 80%|████████  | 232/290 [03:54<00:58,  1.00s/it, loss=0.0607]"
          ]
        },
        {
          "output_type": "stream",
          "name": "stdout",
          "text": [
            "*\n",
            "*\n",
            "*\n"
          ]
        },
        {
          "output_type": "stream",
          "name": "stderr",
          "text": [
            " 87%|████████▋ | 252/290 [04:14<00:37,  1.01it/s, loss=0.0806]"
          ]
        },
        {
          "output_type": "stream",
          "name": "stdout",
          "text": [
            ">\n",
            ">\n",
            "]\n",
            "[\n",
            "]\n"
          ]
        },
        {
          "output_type": "stream",
          "name": "stderr",
          "text": [
            " 89%|████████▉ | 259/290 [04:21<00:31,  1.01s/it, loss=0.0486]"
          ]
        },
        {
          "output_type": "stream",
          "name": "stdout",
          "text": [
            ">\n",
            ">\n"
          ]
        },
        {
          "output_type": "stream",
          "name": "stderr",
          "text": [
            " 96%|█████████▌| 278/290 [04:40<00:12,  1.01s/it, loss=0.103]"
          ]
        },
        {
          "output_type": "stream",
          "name": "stdout",
          "text": [
            ">\n",
            ">\n",
            ">\n"
          ]
        },
        {
          "output_type": "stream",
          "name": "stderr",
          "text": [
            " 97%|█████████▋| 281/290 [04:43<00:09,  1.00s/it, loss=0.0637]"
          ]
        },
        {
          "output_type": "stream",
          "name": "stdout",
          "text": [
            "[\n"
          ]
        },
        {
          "output_type": "stream",
          "name": "stderr",
          "text": [
            " 99%|█████████▊| 286/290 [04:48<00:04,  1.01s/it, loss=0.0801]"
          ]
        },
        {
          "output_type": "stream",
          "name": "stdout",
          "text": [
            ">\n",
            ">\n"
          ]
        },
        {
          "output_type": "stream",
          "name": "stderr",
          "text": [
            " 99%|█████████▉| 288/290 [04:50<00:02,  1.02s/it, loss=0.0666]"
          ]
        },
        {
          "output_type": "stream",
          "name": "stdout",
          "text": [
            ">\n",
            ">\n"
          ]
        },
        {
          "output_type": "stream",
          "name": "stderr",
          "text": [
            "100%|██████████| 290/290 [04:52<00:00,  1.01s/it, loss=0.0768]\n"
          ]
        },
        {
          "output_type": "stream",
          "name": "stdout",
          "text": [
            "checkpoint_ep31.pth.tar saved\n"
          ]
        },
        {
          "output_type": "stream",
          "name": "stderr",
          "text": [
            "\r  0%|          | 0/290 [00:00<?, ?it/s]"
          ]
        },
        {
          "output_type": "stream",
          "name": "stdout",
          "text": [
            ">\n",
            ">\n"
          ]
        },
        {
          "output_type": "stream",
          "name": "stderr",
          "text": [
            "  0%|          | 1/290 [00:01<05:07,  1.06s/it, loss=0.0573]"
          ]
        },
        {
          "output_type": "stream",
          "name": "stdout",
          "text": [
            "[\n",
            "]\n"
          ]
        },
        {
          "output_type": "stream",
          "name": "stderr",
          "text": [
            "  6%|▌         | 16/290 [00:15<04:30,  1.01it/s, loss=0.0564]"
          ]
        },
        {
          "output_type": "stream",
          "name": "stdout",
          "text": [
            "[\n",
            "]\n"
          ]
        },
        {
          "output_type": "stream",
          "name": "stderr",
          "text": [
            "  7%|▋         | 21/290 [00:20<04:30,  1.00s/it, loss=0.0777]"
          ]
        },
        {
          "output_type": "stream",
          "name": "stdout",
          "text": [
            "[\n"
          ]
        },
        {
          "output_type": "stream",
          "name": "stderr",
          "text": [
            "  8%|▊         | 24/290 [00:24<04:34,  1.03s/it, loss=0.0587]"
          ]
        },
        {
          "output_type": "stream",
          "name": "stdout",
          "text": [
            ">\n",
            ">\n"
          ]
        },
        {
          "output_type": "stream",
          "name": "stderr",
          "text": [
            " 10%|█         | 29/290 [00:29<04:34,  1.05s/it, loss=0.057]"
          ]
        },
        {
          "output_type": "stream",
          "name": "stdout",
          "text": [
            "<\n"
          ]
        },
        {
          "output_type": "stream",
          "name": "stderr",
          "text": [
            " 16%|█▌        | 46/290 [00:46<04:11,  1.03s/it, loss=0.068]"
          ]
        },
        {
          "output_type": "stream",
          "name": "stdout",
          "text": [
            ">\n",
            ">\n"
          ]
        },
        {
          "output_type": "stream",
          "name": "stderr",
          "text": [
            " 23%|██▎       | 67/290 [01:07<03:38,  1.02it/s, loss=0.0509]"
          ]
        },
        {
          "output_type": "stream",
          "name": "stdout",
          "text": [
            "*\n",
            "*\n",
            "*\n"
          ]
        },
        {
          "output_type": "stream",
          "name": "stderr",
          "text": [
            " 24%|██▍       | 70/290 [01:10<03:39,  1.00it/s, loss=0.0538]"
          ]
        },
        {
          "output_type": "stream",
          "name": "stdout",
          "text": [
            ">\n",
            ">\n"
          ]
        },
        {
          "output_type": "stream",
          "name": "stderr",
          "text": [
            " 30%|███       | 88/290 [01:28<03:28,  1.03s/it, loss=0.087]"
          ]
        },
        {
          "output_type": "stream",
          "name": "stdout",
          "text": [
            "]\n"
          ]
        },
        {
          "output_type": "stream",
          "name": "stderr",
          "text": [
            " 37%|███▋      | 107/290 [01:47<03:03,  1.00s/it, loss=0.0558]"
          ]
        },
        {
          "output_type": "stream",
          "name": "stdout",
          "text": [
            ">\n"
          ]
        },
        {
          "output_type": "stream",
          "name": "stderr",
          "text": [
            " 39%|███▊      | 112/290 [01:53<03:00,  1.01s/it, loss=0.0757]"
          ]
        },
        {
          "output_type": "stream",
          "name": "stdout",
          "text": [
            "]\n",
            "[\n",
            "]\n"
          ]
        },
        {
          "output_type": "stream",
          "name": "stderr",
          "text": [
            " 41%|████      | 119/290 [02:00<02:56,  1.03s/it, loss=0.0636]"
          ]
        },
        {
          "output_type": "stream",
          "name": "stdout",
          "text": [
            "[\n",
            "]\n"
          ]
        },
        {
          "output_type": "stream",
          "name": "stderr",
          "text": [
            " 42%|████▏     | 122/290 [02:03<02:49,  1.01s/it, loss=0.0639]"
          ]
        },
        {
          "output_type": "stream",
          "name": "stdout",
          "text": [
            ">\n",
            ">\n"
          ]
        },
        {
          "output_type": "stream",
          "name": "stderr",
          "text": [
            " 44%|████▍     | 128/290 [02:09<02:43,  1.01s/it, loss=0.0412]"
          ]
        },
        {
          "output_type": "stream",
          "name": "stdout",
          "text": [
            ">\n",
            ">\n"
          ]
        },
        {
          "output_type": "stream",
          "name": "stderr",
          "text": [
            " 45%|████▌     | 131/290 [02:12<02:41,  1.02s/it, loss=0.0595]"
          ]
        },
        {
          "output_type": "stream",
          "name": "stdout",
          "text": [
            "[\n"
          ]
        },
        {
          "output_type": "stream",
          "name": "stderr",
          "text": [
            " 47%|████▋     | 135/290 [02:16<02:40,  1.03s/it, loss=0.0527]"
          ]
        },
        {
          "output_type": "stream",
          "name": "stdout",
          "text": [
            "[\n"
          ]
        },
        {
          "output_type": "stream",
          "name": "stderr",
          "text": [
            " 47%|████▋     | 137/290 [02:18<02:36,  1.02s/it, loss=0.0612]"
          ]
        },
        {
          "output_type": "stream",
          "name": "stdout",
          "text": [
            "*\n",
            "*\n",
            "*\n"
          ]
        },
        {
          "output_type": "stream",
          "name": "stderr",
          "text": [
            " 50%|█████     | 146/290 [02:27<02:25,  1.01s/it, loss=0.0521]"
          ]
        },
        {
          "output_type": "stream",
          "name": "stdout",
          "text": [
            ">\n",
            ">\n"
          ]
        },
        {
          "output_type": "stream",
          "name": "stderr",
          "text": [
            " 53%|█████▎    | 155/290 [02:36<02:18,  1.03s/it, loss=0.0576]"
          ]
        },
        {
          "output_type": "stream",
          "name": "stdout",
          "text": [
            "*\n",
            "*\n",
            "*\n"
          ]
        },
        {
          "output_type": "stream",
          "name": "stderr",
          "text": [
            " 63%|██████▎   | 182/290 [03:04<01:47,  1.00it/s, loss=0.0508]"
          ]
        },
        {
          "output_type": "stream",
          "name": "stdout",
          "text": [
            ">\n",
            ">\n"
          ]
        },
        {
          "output_type": "stream",
          "name": "stderr",
          "text": [
            " 64%|██████▍   | 185/290 [03:07<01:45,  1.00s/it, loss=0.0677]"
          ]
        },
        {
          "output_type": "stream",
          "name": "stdout",
          "text": [
            "[\n"
          ]
        },
        {
          "output_type": "stream",
          "name": "stderr",
          "text": [
            " 64%|██████▍   | 187/290 [03:09<01:42,  1.01it/s, loss=0.048]"
          ]
        },
        {
          "output_type": "stream",
          "name": "stdout",
          "text": [
            ">\n"
          ]
        },
        {
          "output_type": "stream",
          "name": "stderr",
          "text": [
            " 66%|██████▌   | 191/290 [03:13<01:38,  1.01it/s, loss=0.0532]"
          ]
        },
        {
          "output_type": "stream",
          "name": "stdout",
          "text": [
            "*\n",
            "*\n",
            "*\n"
          ]
        },
        {
          "output_type": "stream",
          "name": "stderr",
          "text": [
            " 67%|██████▋   | 195/290 [03:17<01:35,  1.00s/it, loss=0.0366]"
          ]
        },
        {
          "output_type": "stream",
          "name": "stdout",
          "text": [
            "]\n"
          ]
        },
        {
          "output_type": "stream",
          "name": "stderr",
          "text": [
            " 76%|███████▌  | 220/290 [03:42<01:11,  1.03s/it, loss=0.0346]"
          ]
        },
        {
          "output_type": "stream",
          "name": "stdout",
          "text": [
            "]\n",
            "[\n",
            "]\n"
          ]
        },
        {
          "output_type": "stream",
          "name": "stderr",
          "text": [
            " 79%|███████▊  | 228/290 [03:50<01:01,  1.01it/s, loss=0.0518]"
          ]
        },
        {
          "output_type": "stream",
          "name": "stdout",
          "text": [
            "[\n",
            "]\n"
          ]
        },
        {
          "output_type": "stream",
          "name": "stderr",
          "text": [
            " 84%|████████▍ | 243/290 [04:05<00:46,  1.01it/s, loss=0.0583]"
          ]
        },
        {
          "output_type": "stream",
          "name": "stdout",
          "text": [
            ">\n",
            ">\n"
          ]
        },
        {
          "output_type": "stream",
          "name": "stderr",
          "text": [
            " 89%|████████▉ | 259/290 [04:22<00:31,  1.01s/it, loss=0.0597]"
          ]
        },
        {
          "output_type": "stream",
          "name": "stdout",
          "text": [
            "<\n"
          ]
        },
        {
          "output_type": "stream",
          "name": "stderr",
          "text": [
            " 97%|█████████▋| 280/290 [04:43<00:09,  1.00it/s, loss=0.0507]"
          ]
        },
        {
          "output_type": "stream",
          "name": "stdout",
          "text": [
            ">\n"
          ]
        },
        {
          "output_type": "stream",
          "name": "stderr",
          "text": [
            " 97%|█████████▋| 281/290 [04:44<00:08,  1.01it/s, loss=0.0622]"
          ]
        },
        {
          "output_type": "stream",
          "name": "stdout",
          "text": [
            ">\n",
            ">\n"
          ]
        },
        {
          "output_type": "stream",
          "name": "stderr",
          "text": [
            " 98%|█████████▊| 283/290 [04:46<00:07,  1.01s/it, loss=0.0583]"
          ]
        },
        {
          "output_type": "stream",
          "name": "stdout",
          "text": [
            ">\n",
            ">\n",
            ">\n"
          ]
        },
        {
          "output_type": "stream",
          "name": "stderr",
          "text": [
            "100%|██████████| 290/290 [04:53<00:00,  1.01s/it, loss=0.0424]\n",
            "  1%|          | 2/290 [00:02<04:50,  1.01s/it, loss=0.0447]"
          ]
        },
        {
          "output_type": "stream",
          "name": "stdout",
          "text": [
            "<\n"
          ]
        },
        {
          "output_type": "stream",
          "name": "stderr",
          "text": [
            "  6%|▌         | 18/290 [00:18<04:31,  1.00it/s, loss=0.0409]"
          ]
        },
        {
          "output_type": "stream",
          "name": "stdout",
          "text": [
            ">\n",
            ">\n"
          ]
        },
        {
          "output_type": "stream",
          "name": "stderr",
          "text": [
            "  7%|▋         | 20/290 [00:20<04:35,  1.02s/it, loss=0.044]"
          ]
        },
        {
          "output_type": "stream",
          "name": "stdout",
          "text": [
            ">\n"
          ]
        },
        {
          "output_type": "stream",
          "name": "stderr",
          "text": [
            " 10%|█         | 29/290 [00:29<04:25,  1.02s/it, loss=0.0586]"
          ]
        },
        {
          "output_type": "stream",
          "name": "stdout",
          "text": [
            ">\n",
            ">\n"
          ]
        },
        {
          "output_type": "stream",
          "name": "stderr",
          "text": [
            " 16%|█▌        | 45/290 [00:45<04:07,  1.01s/it, loss=0.0599]"
          ]
        },
        {
          "output_type": "stream",
          "name": "stdout",
          "text": [
            ">\n"
          ]
        },
        {
          "output_type": "stream",
          "name": "stderr",
          "text": [
            " 16%|█▌        | 46/290 [00:46<04:05,  1.01s/it, loss=0.0347]"
          ]
        },
        {
          "output_type": "stream",
          "name": "stdout",
          "text": [
            "[\n",
            "]\n"
          ]
        },
        {
          "output_type": "stream",
          "name": "stderr",
          "text": [
            " 17%|█▋        | 48/290 [00:48<04:03,  1.01s/it, loss=0.0453]"
          ]
        },
        {
          "output_type": "stream",
          "name": "stdout",
          "text": [
            "]\n",
            "[\n",
            "]\n"
          ]
        },
        {
          "output_type": "stream",
          "name": "stderr",
          "text": [
            " 26%|██▌       | 74/290 [01:14<03:32,  1.02it/s, loss=0.0495]"
          ]
        },
        {
          "output_type": "stream",
          "name": "stdout",
          "text": [
            "*\n",
            "*\n",
            "*\n"
          ]
        },
        {
          "output_type": "stream",
          "name": "stderr",
          "text": [
            " 26%|██▌       | 75/290 [01:15<03:31,  1.02it/s, loss=0.0676]"
          ]
        },
        {
          "output_type": "stream",
          "name": "stdout",
          "text": [
            "[\n"
          ]
        },
        {
          "output_type": "stream",
          "name": "stderr",
          "text": [
            " 27%|██▋       | 78/290 [01:18<03:30,  1.01it/s, loss=0.0401]"
          ]
        },
        {
          "output_type": "stream",
          "name": "stdout",
          "text": [
            ">\n",
            ">\n"
          ]
        },
        {
          "output_type": "stream",
          "name": "stderr",
          "text": [
            " 28%|██▊       | 80/290 [01:20<03:29,  1.00it/s, loss=0.0752]"
          ]
        },
        {
          "output_type": "stream",
          "name": "stdout",
          "text": [
            "]\n",
            "[\n",
            "]\n"
          ]
        },
        {
          "output_type": "stream",
          "name": "stderr",
          "text": [
            " 35%|███▌      | 102/290 [01:42<03:11,  1.02s/it, loss=0.0554]"
          ]
        },
        {
          "output_type": "stream",
          "name": "stdout",
          "text": [
            "<\n"
          ]
        },
        {
          "output_type": "stream",
          "name": "stderr",
          "text": [
            " 39%|███▉      | 113/290 [01:53<03:04,  1.04s/it, loss=0.0441]"
          ]
        },
        {
          "output_type": "stream",
          "name": "stdout",
          "text": [
            "*\n",
            "*\n",
            "*\n"
          ]
        },
        {
          "output_type": "stream",
          "name": "stderr",
          "text": [
            " 46%|████▌     | 133/290 [02:13<02:38,  1.01s/it, loss=0.0456]"
          ]
        },
        {
          "output_type": "stream",
          "name": "stdout",
          "text": [
            "[\n",
            "]\n"
          ]
        },
        {
          "output_type": "stream",
          "name": "stderr",
          "text": [
            " 46%|████▌     | 134/290 [02:14<02:36,  1.00s/it, loss=0.0619]"
          ]
        },
        {
          "output_type": "stream",
          "name": "stdout",
          "text": [
            "[\n"
          ]
        },
        {
          "output_type": "stream",
          "name": "stderr",
          "text": [
            " 54%|█████▍    | 158/290 [02:38<02:09,  1.02it/s, loss=0.0385]"
          ]
        },
        {
          "output_type": "stream",
          "name": "stdout",
          "text": [
            "]\n"
          ]
        },
        {
          "output_type": "stream",
          "name": "stderr",
          "text": [
            " 61%|██████▏   | 178/290 [02:58<01:53,  1.02s/it, loss=0.0665]"
          ]
        },
        {
          "output_type": "stream",
          "name": "stdout",
          "text": [
            "*\n",
            "*\n",
            "*\n"
          ]
        },
        {
          "output_type": "stream",
          "name": "stderr",
          "text": [
            " 63%|██████▎   | 182/290 [03:03<01:51,  1.03s/it, loss=0.0602]"
          ]
        },
        {
          "output_type": "stream",
          "name": "stdout",
          "text": [
            ">\n",
            ">\n"
          ]
        },
        {
          "output_type": "stream",
          "name": "stderr",
          "text": [
            " 64%|██████▍   | 185/290 [03:06<01:46,  1.02s/it, loss=0.0536]"
          ]
        },
        {
          "output_type": "stream",
          "name": "stdout",
          "text": [
            ">\n",
            ">\n"
          ]
        },
        {
          "output_type": "stream",
          "name": "stderr",
          "text": [
            " 69%|██████▉   | 201/290 [03:22<01:30,  1.02s/it, loss=0.0456]"
          ]
        },
        {
          "output_type": "stream",
          "name": "stdout",
          "text": [
            "*\n",
            "*\n",
            "*\n"
          ]
        },
        {
          "output_type": "stream",
          "name": "stderr",
          "text": [
            " 74%|███████▍  | 214/290 [03:35<01:14,  1.02it/s, loss=0.0613]"
          ]
        },
        {
          "output_type": "stream",
          "name": "stdout",
          "text": [
            ">\n",
            ">\n"
          ]
        },
        {
          "output_type": "stream",
          "name": "stderr",
          "text": [
            " 74%|███████▍  | 215/290 [03:36<01:13,  1.02it/s, loss=0.0479]"
          ]
        },
        {
          "output_type": "stream",
          "name": "stdout",
          "text": [
            ">\n",
            ">\n"
          ]
        },
        {
          "output_type": "stream",
          "name": "stderr",
          "text": [
            " 79%|███████▊  | 228/290 [03:49<01:01,  1.00it/s, loss=0.0581]"
          ]
        },
        {
          "output_type": "stream",
          "name": "stdout",
          "text": [
            ">\n",
            ">\n"
          ]
        },
        {
          "output_type": "stream",
          "name": "stderr",
          "text": [
            " 79%|███████▉  | 229/290 [03:50<01:00,  1.01it/s, loss=0.0406]"
          ]
        },
        {
          "output_type": "stream",
          "name": "stdout",
          "text": [
            "[\n"
          ]
        },
        {
          "output_type": "stream",
          "name": "stderr",
          "text": [
            " 81%|████████  | 234/290 [03:55<00:55,  1.00it/s, loss=0.0485]"
          ]
        },
        {
          "output_type": "stream",
          "name": "stdout",
          "text": [
            ">\n",
            ">\n"
          ]
        },
        {
          "output_type": "stream",
          "name": "stderr",
          "text": [
            " 84%|████████▍ | 243/290 [04:04<00:46,  1.00it/s, loss=0.0526]"
          ]
        },
        {
          "output_type": "stream",
          "name": "stdout",
          "text": [
            ">\n"
          ]
        },
        {
          "output_type": "stream",
          "name": "stderr",
          "text": [
            " 87%|████████▋ | 251/290 [04:12<00:39,  1.01s/it, loss=0.0687]"
          ]
        },
        {
          "output_type": "stream",
          "name": "stdout",
          "text": [
            "[\n",
            ">\n",
            ">\n",
            ">\n"
          ]
        },
        {
          "output_type": "stream",
          "name": "stderr",
          "text": [
            " 87%|████████▋ | 253/290 [04:14<00:40,  1.09s/it, loss=0.0644]"
          ]
        },
        {
          "output_type": "stream",
          "name": "stdout",
          "text": [
            "[\n",
            "]\n"
          ]
        },
        {
          "output_type": "stream",
          "name": "stderr",
          "text": [
            " 96%|█████████▌| 277/290 [04:38<00:13,  1.01s/it, loss=0.0478]"
          ]
        },
        {
          "output_type": "stream",
          "name": "stdout",
          "text": [
            ">\n",
            ">\n"
          ]
        },
        {
          "output_type": "stream",
          "name": "stderr",
          "text": [
            " 98%|█████████▊| 284/290 [04:45<00:06,  1.02s/it, loss=0.0625]"
          ]
        },
        {
          "output_type": "stream",
          "name": "stdout",
          "text": [
            "[\n",
            "]\n"
          ]
        },
        {
          "output_type": "stream",
          "name": "stderr",
          "text": [
            " 99%|█████████▉| 287/290 [04:48<00:03,  1.01s/it, loss=0.0469]"
          ]
        },
        {
          "output_type": "stream",
          "name": "stdout",
          "text": [
            "]\n"
          ]
        },
        {
          "output_type": "stream",
          "name": "stderr",
          "text": [
            "100%|██████████| 290/290 [04:51<00:00,  1.00s/it, loss=0.0547]\n"
          ]
        },
        {
          "output_type": "stream",
          "name": "stdout",
          "text": [
            "checkpoint_ep33.pth.tar saved\n"
          ]
        },
        {
          "output_type": "stream",
          "name": "stderr",
          "text": [
            "  8%|▊         | 24/290 [00:24<04:28,  1.01s/it, loss=0.0814]"
          ]
        },
        {
          "output_type": "stream",
          "name": "stdout",
          "text": [
            ">\n",
            ">\n"
          ]
        },
        {
          "output_type": "stream",
          "name": "stderr",
          "text": [
            " 16%|█▌        | 46/290 [00:46<04:00,  1.01it/s, loss=0.0439]"
          ]
        },
        {
          "output_type": "stream",
          "name": "stdout",
          "text": [
            ">\n"
          ]
        },
        {
          "output_type": "stream",
          "name": "stderr",
          "text": [
            " 17%|█▋        | 50/290 [00:50<04:02,  1.01s/it, loss=0.0247]"
          ]
        },
        {
          "output_type": "stream",
          "name": "stdout",
          "text": [
            "<\n"
          ]
        },
        {
          "output_type": "stream",
          "name": "stderr",
          "text": [
            " 18%|█▊        | 52/290 [00:52<03:57,  1.00it/s, loss=0.0393]"
          ]
        },
        {
          "output_type": "stream",
          "name": "stdout",
          "text": [
            "[\n",
            "]\n"
          ]
        },
        {
          "output_type": "stream",
          "name": "stderr",
          "text": [
            " 22%|██▏       | 65/290 [01:05<03:44,  1.00it/s, loss=0.0482]"
          ]
        },
        {
          "output_type": "stream",
          "name": "stdout",
          "text": [
            "]\n"
          ]
        },
        {
          "output_type": "stream",
          "name": "stderr",
          "text": [
            " 25%|██▌       | 73/290 [01:13<03:38,  1.01s/it, loss=0.0358]"
          ]
        },
        {
          "output_type": "stream",
          "name": "stdout",
          "text": [
            "[\n"
          ]
        },
        {
          "output_type": "stream",
          "name": "stderr",
          "text": [
            " 26%|██▌       | 76/290 [01:16<03:37,  1.02s/it, loss=0.0403]"
          ]
        },
        {
          "output_type": "stream",
          "name": "stdout",
          "text": [
            "[\n",
            "]\n"
          ]
        },
        {
          "output_type": "stream",
          "name": "stderr",
          "text": [
            " 27%|██▋       | 79/290 [01:19<03:30,  1.00it/s, loss=0.0427]"
          ]
        },
        {
          "output_type": "stream",
          "name": "stdout",
          "text": [
            ">\n",
            ">\n"
          ]
        },
        {
          "output_type": "stream",
          "name": "stderr",
          "text": [
            " 32%|███▏      | 93/290 [01:33<03:17,  1.00s/it, loss=0.0385]"
          ]
        },
        {
          "output_type": "stream",
          "name": "stdout",
          "text": [
            "]\n"
          ]
        },
        {
          "output_type": "stream",
          "name": "stderr",
          "text": [
            " 36%|███▌      | 105/290 [01:45<03:07,  1.01s/it, loss=0.0554]"
          ]
        },
        {
          "output_type": "stream",
          "name": "stdout",
          "text": [
            "[\n",
            "]\n"
          ]
        },
        {
          "output_type": "stream",
          "name": "stderr",
          "text": [
            " 44%|████▍     | 129/290 [02:09<02:41,  1.00s/it, loss=0.0424]"
          ]
        },
        {
          "output_type": "stream",
          "name": "stdout",
          "text": [
            ">\n",
            ">\n"
          ]
        },
        {
          "output_type": "stream",
          "name": "stderr",
          "text": [
            " 48%|████▊     | 140/290 [02:20<02:27,  1.01it/s, loss=0.0311]"
          ]
        },
        {
          "output_type": "stream",
          "name": "stdout",
          "text": [
            ">\n",
            ">\n"
          ]
        },
        {
          "output_type": "stream",
          "name": "stderr",
          "text": [
            " 49%|████▊     | 141/290 [02:21<02:25,  1.02it/s, loss=0.0595]"
          ]
        },
        {
          "output_type": "stream",
          "name": "stdout",
          "text": [
            ">\n",
            ">\n",
            ">\n"
          ]
        },
        {
          "output_type": "stream",
          "name": "stderr",
          "text": [
            " 49%|████▉     | 143/290 [02:23<02:30,  1.02s/it, loss=0.0547]"
          ]
        },
        {
          "output_type": "stream",
          "name": "stdout",
          "text": [
            ">\n"
          ]
        },
        {
          "output_type": "stream",
          "name": "stderr",
          "text": [
            " 50%|█████     | 145/290 [02:25<02:26,  1.01s/it, loss=0.0371]"
          ]
        },
        {
          "output_type": "stream",
          "name": "stdout",
          "text": [
            "*\n",
            "*\n",
            "*\n"
          ]
        },
        {
          "output_type": "stream",
          "name": "stderr",
          "text": [
            " 53%|█████▎    | 153/290 [02:33<02:15,  1.01it/s, loss=0.0382]"
          ]
        },
        {
          "output_type": "stream",
          "name": "stdout",
          "text": [
            "]\n",
            "[\n",
            "]\n"
          ]
        },
        {
          "output_type": "stream",
          "name": "stderr",
          "text": [
            " 56%|█████▌    | 161/290 [02:41<02:07,  1.01it/s, loss=0.0292]"
          ]
        },
        {
          "output_type": "stream",
          "name": "stdout",
          "text": [
            "]\n",
            "[\n",
            "]\n"
          ]
        },
        {
          "output_type": "stream",
          "name": "stderr",
          "text": [
            " 56%|█████▌    | 162/290 [02:42<02:06,  1.01it/s, loss=0.0636]"
          ]
        },
        {
          "output_type": "stream",
          "name": "stdout",
          "text": [
            ">\n",
            ">\n"
          ]
        },
        {
          "output_type": "stream",
          "name": "stderr",
          "text": [
            " 64%|██████▍   | 187/290 [03:07<01:42,  1.00it/s, loss=0.0862]"
          ]
        },
        {
          "output_type": "stream",
          "name": "stdout",
          "text": [
            "*\n",
            "*\n",
            "*\n"
          ]
        },
        {
          "output_type": "stream",
          "name": "stderr",
          "text": [
            " 66%|██████▌   | 190/290 [03:10<01:42,  1.02s/it, loss=0.0436]"
          ]
        },
        {
          "output_type": "stream",
          "name": "stdout",
          "text": [
            "[\n"
          ]
        },
        {
          "output_type": "stream",
          "name": "stderr",
          "text": [
            " 66%|██████▌   | 192/290 [03:13<01:43,  1.05s/it, loss=0.024]"
          ]
        },
        {
          "output_type": "stream",
          "name": "stdout",
          "text": [
            ">\n",
            ">\n"
          ]
        },
        {
          "output_type": "stream",
          "name": "stderr",
          "text": [
            " 68%|██████▊   | 198/290 [03:19<01:34,  1.03s/it, loss=0.0502]"
          ]
        },
        {
          "output_type": "stream",
          "name": "stdout",
          "text": [
            ">\n"
          ]
        },
        {
          "output_type": "stream",
          "name": "stderr",
          "text": [
            " 70%|██████▉   | 202/290 [03:23<01:31,  1.04s/it, loss=0.0465]"
          ]
        },
        {
          "output_type": "stream",
          "name": "stdout",
          "text": [
            "[\n",
            "]\n"
          ]
        },
        {
          "output_type": "stream",
          "name": "stderr",
          "text": [
            " 71%|███████▏  | 207/290 [03:28<01:24,  1.02s/it, loss=0.0453]"
          ]
        },
        {
          "output_type": "stream",
          "name": "stdout",
          "text": [
            ">\n",
            ">\n"
          ]
        },
        {
          "output_type": "stream",
          "name": "stderr",
          "text": [
            " 73%|███████▎  | 213/290 [03:34<01:16,  1.00it/s, loss=0.0447]"
          ]
        },
        {
          "output_type": "stream",
          "name": "stdout",
          "text": [
            "*\n",
            "*\n",
            "*\n"
          ]
        },
        {
          "output_type": "stream",
          "name": "stderr",
          "text": [
            " 77%|███████▋  | 223/290 [03:44<01:08,  1.02s/it, loss=0.0334]"
          ]
        },
        {
          "output_type": "stream",
          "name": "stdout",
          "text": [
            "[\n"
          ]
        },
        {
          "output_type": "stream",
          "name": "stderr",
          "text": [
            " 80%|███████▉  | 231/290 [03:52<00:59,  1.00s/it, loss=0.0414]"
          ]
        },
        {
          "output_type": "stream",
          "name": "stdout",
          "text": [
            "<\n"
          ]
        },
        {
          "output_type": "stream",
          "name": "stderr",
          "text": [
            " 86%|████████▌ | 250/290 [04:11<00:40,  1.02s/it, loss=0.0614]"
          ]
        },
        {
          "output_type": "stream",
          "name": "stdout",
          "text": [
            ">\n",
            ">\n"
          ]
        },
        {
          "output_type": "stream",
          "name": "stderr",
          "text": [
            " 88%|████████▊ | 255/290 [04:17<00:35,  1.01s/it, loss=0.0441]"
          ]
        },
        {
          "output_type": "stream",
          "name": "stdout",
          "text": [
            "*\n",
            "*\n",
            "*\n"
          ]
        },
        {
          "output_type": "stream",
          "name": "stderr",
          "text": [
            " 90%|█████████ | 262/290 [04:24<00:28,  1.02s/it, loss=0.0356]"
          ]
        },
        {
          "output_type": "stream",
          "name": "stdout",
          "text": [
            ">\n",
            ">\n"
          ]
        },
        {
          "output_type": "stream",
          "name": "stderr",
          "text": [
            " 92%|█████████▏| 267/290 [04:29<00:23,  1.00s/it, loss=0.0482]"
          ]
        },
        {
          "output_type": "stream",
          "name": "stdout",
          "text": [
            ">\n",
            ">\n"
          ]
        },
        {
          "output_type": "stream",
          "name": "stderr",
          "text": [
            " 97%|█████████▋| 280/290 [04:42<00:09,  1.01it/s, loss=0.0362]"
          ]
        },
        {
          "output_type": "stream",
          "name": "stdout",
          "text": [
            "[\n"
          ]
        },
        {
          "output_type": "stream",
          "name": "stderr",
          "text": [
            "100%|██████████| 290/290 [04:52<00:00,  1.01s/it, loss=0.035]\n",
            "  3%|▎         | 9/290 [00:09<04:37,  1.01it/s, loss=0.0285]"
          ]
        },
        {
          "output_type": "stream",
          "name": "stdout",
          "text": [
            "[\n",
            "]\n"
          ]
        },
        {
          "output_type": "stream",
          "name": "stderr",
          "text": [
            "  8%|▊         | 24/290 [00:24<04:23,  1.01it/s, loss=0.0246]"
          ]
        },
        {
          "output_type": "stream",
          "name": "stdout",
          "text": [
            ">\n",
            ">\n",
            "]\n"
          ]
        },
        {
          "output_type": "stream",
          "name": "stderr",
          "text": [
            " 13%|█▎        | 38/290 [00:37<04:10,  1.01it/s, loss=0.0368]"
          ]
        },
        {
          "output_type": "stream",
          "name": "stdout",
          "text": [
            ">\n",
            ">\n"
          ]
        },
        {
          "output_type": "stream",
          "name": "stderr",
          "text": [
            " 14%|█▍        | 40/290 [00:39<04:09,  1.00it/s, loss=0.0312]"
          ]
        },
        {
          "output_type": "stream",
          "name": "stdout",
          "text": [
            "[\n"
          ]
        },
        {
          "output_type": "stream",
          "name": "stderr",
          "text": [
            " 18%|█▊        | 53/290 [00:52<03:53,  1.01it/s, loss=0.043]"
          ]
        },
        {
          "output_type": "stream",
          "name": "stdout",
          "text": [
            "[\n",
            "]\n"
          ]
        },
        {
          "output_type": "stream",
          "name": "stderr",
          "text": [
            " 20%|██        | 59/290 [00:58<03:49,  1.00it/s, loss=0.0317]"
          ]
        },
        {
          "output_type": "stream",
          "name": "stdout",
          "text": [
            ">\n",
            ">\n",
            ">\n"
          ]
        },
        {
          "output_type": "stream",
          "name": "stderr",
          "text": [
            " 30%|██▉       | 86/290 [01:25<03:23,  1.00it/s, loss=0.0382]"
          ]
        },
        {
          "output_type": "stream",
          "name": "stdout",
          "text": [
            ">\n",
            ">\n"
          ]
        },
        {
          "output_type": "stream",
          "name": "stderr",
          "text": [
            " 33%|███▎      | 95/290 [01:34<03:18,  1.02s/it, loss=0.0423]"
          ]
        },
        {
          "output_type": "stream",
          "name": "stdout",
          "text": [
            ">\n",
            ">\n"
          ]
        },
        {
          "output_type": "stream",
          "name": "stderr",
          "text": [
            " 37%|███▋      | 106/290 [01:45<03:02,  1.01it/s, loss=0.0581]"
          ]
        },
        {
          "output_type": "stream",
          "name": "stdout",
          "text": [
            ">\n"
          ]
        },
        {
          "output_type": "stream",
          "name": "stderr",
          "text": [
            " 37%|███▋      | 108/290 [01:47<03:00,  1.01it/s, loss=0.0541]"
          ]
        },
        {
          "output_type": "stream",
          "name": "stdout",
          "text": [
            ">\n",
            ">\n"
          ]
        },
        {
          "output_type": "stream",
          "name": "stderr",
          "text": [
            " 39%|███▊      | 112/290 [01:51<02:55,  1.02it/s, loss=0.0587]"
          ]
        },
        {
          "output_type": "stream",
          "name": "stdout",
          "text": [
            ">\n",
            ">\n"
          ]
        },
        {
          "output_type": "stream",
          "name": "stderr",
          "text": [
            " 40%|████      | 116/290 [01:55<02:52,  1.01it/s, loss=0.045]"
          ]
        },
        {
          "output_type": "stream",
          "name": "stdout",
          "text": [
            "]\n",
            "[\n",
            "]\n"
          ]
        },
        {
          "output_type": "stream",
          "name": "stderr",
          "text": [
            " 41%|████      | 118/290 [01:57<02:56,  1.03s/it, loss=0.0461]"
          ]
        },
        {
          "output_type": "stream",
          "name": "stdout",
          "text": [
            "[\n"
          ]
        },
        {
          "output_type": "stream",
          "name": "stderr",
          "text": [
            " 54%|█████▍    | 158/290 [02:38<02:13,  1.01s/it, loss=0.0362]"
          ]
        },
        {
          "output_type": "stream",
          "name": "stdout",
          "text": [
            "*\n",
            "*\n",
            "*\n"
          ]
        },
        {
          "output_type": "stream",
          "name": "stderr",
          "text": [
            " 58%|█████▊    | 167/290 [02:47<02:00,  1.02it/s, loss=0.0351]"
          ]
        },
        {
          "output_type": "stream",
          "name": "stdout",
          "text": [
            ">\n",
            ">\n"
          ]
        },
        {
          "output_type": "stream",
          "name": "stderr",
          "text": [
            " 58%|█████▊    | 169/290 [02:49<02:03,  1.02s/it, loss=0.0442]"
          ]
        },
        {
          "output_type": "stream",
          "name": "stdout",
          "text": [
            "<\n"
          ]
        },
        {
          "output_type": "stream",
          "name": "stderr",
          "text": [
            " 62%|██████▏   | 181/290 [03:01<01:48,  1.00it/s, loss=0.0359]"
          ]
        },
        {
          "output_type": "stream",
          "name": "stdout",
          "text": [
            "[\n",
            "[\n",
            "]\n"
          ]
        },
        {
          "output_type": "stream",
          "name": "stderr",
          "text": [
            " 63%|██████▎   | 184/290 [03:04<01:45,  1.01it/s, loss=0.0557]"
          ]
        },
        {
          "output_type": "stream",
          "name": "stdout",
          "text": [
            ">\n",
            ">\n"
          ]
        },
        {
          "output_type": "stream",
          "name": "stderr",
          "text": [
            " 65%|██████▍   | 188/290 [03:08<01:42,  1.01s/it, loss=0.0363]"
          ]
        },
        {
          "output_type": "stream",
          "name": "stdout",
          "text": [
            "*\n",
            "*\n",
            "*\n"
          ]
        },
        {
          "output_type": "stream",
          "name": "stderr",
          "text": [
            " 73%|███████▎  | 213/290 [03:33<01:17,  1.01s/it, loss=0.0505]"
          ]
        },
        {
          "output_type": "stream",
          "name": "stdout",
          "text": [
            ">\n"
          ]
        },
        {
          "output_type": "stream",
          "name": "stderr",
          "text": [
            " 74%|███████▍  | 216/290 [03:36<01:15,  1.02s/it, loss=0.0424]"
          ]
        },
        {
          "output_type": "stream",
          "name": "stdout",
          "text": [
            "*\n",
            "*\n",
            "*\n",
            "[\n",
            "]\n"
          ]
        },
        {
          "output_type": "stream",
          "name": "stderr",
          "text": [
            " 79%|███████▉  | 230/290 [03:50<01:00,  1.00s/it, loss=0.0284]"
          ]
        },
        {
          "output_type": "stream",
          "name": "stdout",
          "text": [
            "]\n",
            "[\n",
            "]\n"
          ]
        },
        {
          "output_type": "stream",
          "name": "stderr",
          "text": [
            " 86%|████████▌ | 249/290 [04:10<00:42,  1.04s/it, loss=0.037]"
          ]
        },
        {
          "output_type": "stream",
          "name": "stdout",
          "text": [
            ">\n"
          ]
        },
        {
          "output_type": "stream",
          "name": "stderr",
          "text": [
            " 86%|████████▌ | 250/290 [04:10<00:40,  1.02s/it, loss=0.0478]"
          ]
        },
        {
          "output_type": "stream",
          "name": "stdout",
          "text": [
            "[\n",
            "]\n"
          ]
        },
        {
          "output_type": "stream",
          "name": "stderr",
          "text": [
            " 87%|████████▋ | 251/290 [04:11<00:39,  1.01s/it, loss=0.0456]"
          ]
        },
        {
          "output_type": "stream",
          "name": "stdout",
          "text": [
            ">\n",
            ">\n"
          ]
        },
        {
          "output_type": "stream",
          "name": "stderr",
          "text": [
            " 87%|████████▋ | 252/290 [04:12<00:38,  1.00s/it, loss=0.0357]"
          ]
        },
        {
          "output_type": "stream",
          "name": "stdout",
          "text": [
            "<\n"
          ]
        },
        {
          "output_type": "stream",
          "name": "stderr",
          "text": [
            " 87%|████████▋ | 253/290 [04:13<00:37,  1.01s/it, loss=0.0549]"
          ]
        },
        {
          "output_type": "stream",
          "name": "stdout",
          "text": [
            ">\n",
            ">\n"
          ]
        },
        {
          "output_type": "stream",
          "name": "stderr",
          "text": [
            " 90%|████████▉ | 260/290 [04:20<00:29,  1.01it/s, loss=0.0371]"
          ]
        },
        {
          "output_type": "stream",
          "name": "stdout",
          "text": [
            "*\n",
            "*\n",
            "*\n"
          ]
        },
        {
          "output_type": "stream",
          "name": "stderr",
          "text": [
            "100%|██████████| 290/290 [04:50<00:00,  1.00s/it, loss=0.0579]\n"
          ]
        },
        {
          "output_type": "stream",
          "name": "stdout",
          "text": [
            "checkpoint_ep35.pth.tar saved\n"
          ]
        },
        {
          "output_type": "stream",
          "name": "stderr",
          "text": [
            "  2%|▏         | 6/290 [00:06<04:54,  1.04s/it, loss=0.0364]"
          ]
        },
        {
          "output_type": "stream",
          "name": "stdout",
          "text": [
            ">\n",
            ">\n"
          ]
        },
        {
          "output_type": "stream",
          "name": "stderr",
          "text": [
            "  4%|▍         | 11/290 [00:11<04:38,  1.00it/s, loss=0.0327]"
          ]
        },
        {
          "output_type": "stream",
          "name": "stdout",
          "text": [
            ">\n",
            ">\n",
            ">\n"
          ]
        },
        {
          "output_type": "stream",
          "name": "stderr",
          "text": [
            " 12%|█▏        | 35/290 [00:35<04:13,  1.01it/s, loss=0.0374]"
          ]
        },
        {
          "output_type": "stream",
          "name": "stdout",
          "text": [
            ">\n",
            ">\n"
          ]
        },
        {
          "output_type": "stream",
          "name": "stderr",
          "text": [
            " 13%|█▎        | 39/290 [00:39<04:10,  1.00it/s, loss=0.0396]"
          ]
        },
        {
          "output_type": "stream",
          "name": "stdout",
          "text": [
            "]\n",
            "[\n",
            "]\n"
          ]
        },
        {
          "output_type": "stream",
          "name": "stderr",
          "text": [
            " 14%|█▍        | 40/290 [00:40<04:08,  1.01it/s, loss=0.028]"
          ]
        },
        {
          "output_type": "stream",
          "name": "stdout",
          "text": [
            "*\n",
            "*\n",
            "*\n"
          ]
        },
        {
          "output_type": "stream",
          "name": "stderr",
          "text": [
            " 17%|█▋        | 50/290 [00:50<04:08,  1.04s/it, loss=0.0359]"
          ]
        },
        {
          "output_type": "stream",
          "name": "stdout",
          "text": [
            "[\n"
          ]
        },
        {
          "output_type": "stream",
          "name": "stderr",
          "text": [
            " 19%|█▉        | 56/290 [00:56<03:56,  1.01s/it, loss=0.0347]"
          ]
        },
        {
          "output_type": "stream",
          "name": "stdout",
          "text": [
            "[\n"
          ]
        },
        {
          "output_type": "stream",
          "name": "stderr",
          "text": [
            " 20%|██        | 58/290 [00:58<03:51,  1.00it/s, loss=0.0468]"
          ]
        },
        {
          "output_type": "stream",
          "name": "stdout",
          "text": [
            ">\n",
            ">\n"
          ]
        },
        {
          "output_type": "stream",
          "name": "stderr",
          "text": [
            " 20%|██        | 59/290 [00:59<03:50,  1.00it/s, loss=0.0693]"
          ]
        },
        {
          "output_type": "stream",
          "name": "stdout",
          "text": [
            "]\n",
            "[\n",
            "]\n",
            "<\n"
          ]
        },
        {
          "output_type": "stream",
          "name": "stderr",
          "text": [
            " 21%|██        | 60/290 [01:00<03:48,  1.01it/s, loss=0.0355]"
          ]
        },
        {
          "output_type": "stream",
          "name": "stdout",
          "text": [
            "*\n",
            "*\n",
            "*\n"
          ]
        },
        {
          "output_type": "stream",
          "name": "stderr",
          "text": [
            " 22%|██▏       | 64/290 [01:04<03:45,  1.00it/s, loss=0.0239]"
          ]
        },
        {
          "output_type": "stream",
          "name": "stdout",
          "text": [
            ">\n"
          ]
        },
        {
          "output_type": "stream",
          "name": "stderr",
          "text": [
            " 24%|██▍       | 69/290 [01:09<03:38,  1.01it/s, loss=0.0312]"
          ]
        },
        {
          "output_type": "stream",
          "name": "stdout",
          "text": [
            ">\n",
            ">\n"
          ]
        },
        {
          "output_type": "stream",
          "name": "stderr",
          "text": [
            " 24%|██▍       | 71/290 [01:11<03:36,  1.01it/s, loss=0.0367]"
          ]
        },
        {
          "output_type": "stream",
          "name": "stdout",
          "text": [
            "[\n",
            "]\n"
          ]
        },
        {
          "output_type": "stream",
          "name": "stderr",
          "text": [
            " 27%|██▋       | 79/290 [01:19<03:31,  1.00s/it, loss=0.0409]"
          ]
        },
        {
          "output_type": "stream",
          "name": "stdout",
          "text": [
            "[\n"
          ]
        },
        {
          "output_type": "stream",
          "name": "stderr",
          "text": [
            " 35%|███▍      | 101/290 [01:41<03:10,  1.01s/it, loss=0.0644]"
          ]
        },
        {
          "output_type": "stream",
          "name": "stdout",
          "text": [
            "]\n"
          ]
        },
        {
          "output_type": "stream",
          "name": "stderr",
          "text": [
            " 35%|███▌      | 102/290 [01:42<03:08,  1.00s/it, loss=0.046]"
          ]
        },
        {
          "output_type": "stream",
          "name": "stdout",
          "text": [
            ">\n",
            ">\n",
            "[\n",
            "]\n"
          ]
        },
        {
          "output_type": "stream",
          "name": "stderr",
          "text": [
            " 44%|████▍     | 129/290 [02:09<02:39,  1.01it/s, loss=0.0478]"
          ]
        },
        {
          "output_type": "stream",
          "name": "stdout",
          "text": [
            "<\n"
          ]
        },
        {
          "output_type": "stream",
          "name": "stderr",
          "text": [
            " 49%|████▉     | 142/290 [02:22<02:31,  1.02s/it, loss=0.0259]"
          ]
        },
        {
          "output_type": "stream",
          "name": "stdout",
          "text": [
            ">\n"
          ]
        },
        {
          "output_type": "stream",
          "name": "stderr",
          "text": [
            " 53%|█████▎    | 154/290 [02:34<02:13,  1.02it/s, loss=0.043]"
          ]
        },
        {
          "output_type": "stream",
          "name": "stdout",
          "text": [
            ">\n",
            ">\n"
          ]
        },
        {
          "output_type": "stream",
          "name": "stderr",
          "text": [
            " 54%|█████▍    | 157/290 [02:37<02:10,  1.02it/s, loss=0.0316]"
          ]
        },
        {
          "output_type": "stream",
          "name": "stdout",
          "text": [
            ">\n",
            ">\n"
          ]
        },
        {
          "output_type": "stream",
          "name": "stderr",
          "text": [
            " 57%|█████▋    | 164/290 [02:44<02:06,  1.00s/it, loss=0.0577]"
          ]
        },
        {
          "output_type": "stream",
          "name": "stdout",
          "text": [
            "*\n",
            "*\n",
            "*\n"
          ]
        },
        {
          "output_type": "stream",
          "name": "stderr",
          "text": [
            " 57%|█████▋    | 166/290 [02:46<02:04,  1.00s/it, loss=0.0548]"
          ]
        },
        {
          "output_type": "stream",
          "name": "stdout",
          "text": [
            "[\n",
            "]\n"
          ]
        },
        {
          "output_type": "stream",
          "name": "stderr",
          "text": [
            " 63%|██████▎   | 182/290 [03:02<01:46,  1.02it/s, loss=0.0431]"
          ]
        },
        {
          "output_type": "stream",
          "name": "stdout",
          "text": [
            ">\n",
            ">\n"
          ]
        },
        {
          "output_type": "stream",
          "name": "stderr",
          "text": [
            " 71%|███████▏  | 207/290 [03:27<01:23,  1.00s/it, loss=0.0505]"
          ]
        },
        {
          "output_type": "stream",
          "name": "stdout",
          "text": [
            ">\n",
            ">\n"
          ]
        },
        {
          "output_type": "stream",
          "name": "stderr",
          "text": [
            " 80%|████████  | 233/290 [03:54<00:59,  1.04s/it, loss=0.0314]"
          ]
        },
        {
          "output_type": "stream",
          "name": "stdout",
          "text": [
            ">\n"
          ]
        },
        {
          "output_type": "stream",
          "name": "stderr",
          "text": [
            " 82%|████████▏ | 237/290 [03:58<00:54,  1.03s/it, loss=0.0339]"
          ]
        },
        {
          "output_type": "stream",
          "name": "stdout",
          "text": [
            "[\n",
            "]\n"
          ]
        },
        {
          "output_type": "stream",
          "name": "stderr",
          "text": [
            " 84%|████████▍ | 245/290 [04:06<00:45,  1.00s/it, loss=0.0498]"
          ]
        },
        {
          "output_type": "stream",
          "name": "stdout",
          "text": [
            "*\n",
            "*\n",
            "*\n"
          ]
        },
        {
          "output_type": "stream",
          "name": "stderr",
          "text": [
            " 87%|████████▋ | 252/290 [04:13<00:38,  1.03s/it, loss=0.0291]"
          ]
        },
        {
          "output_type": "stream",
          "name": "stdout",
          "text": [
            "[\n"
          ]
        },
        {
          "output_type": "stream",
          "name": "stderr",
          "text": [
            " 91%|█████████▏| 265/290 [04:26<00:25,  1.01s/it, loss=0.038]"
          ]
        },
        {
          "output_type": "stream",
          "name": "stdout",
          "text": [
            ">\n",
            ">\n"
          ]
        },
        {
          "output_type": "stream",
          "name": "stderr",
          "text": [
            " 98%|█████████▊| 285/290 [04:47<00:05,  1.01s/it, loss=0.0278]"
          ]
        },
        {
          "output_type": "stream",
          "name": "stdout",
          "text": [
            "]\n"
          ]
        },
        {
          "output_type": "stream",
          "name": "stderr",
          "text": [
            "100%|██████████| 290/290 [04:51<00:00,  1.01s/it, loss=0.0364]\n",
            "  2%|▏         | 5/290 [00:05<04:52,  1.03s/it, loss=0.0342]"
          ]
        },
        {
          "output_type": "stream",
          "name": "stdout",
          "text": [
            "<\n"
          ]
        },
        {
          "output_type": "stream",
          "name": "stderr",
          "text": [
            "  5%|▍         | 14/290 [00:14<04:34,  1.00it/s, loss=0.0227]"
          ]
        },
        {
          "output_type": "stream",
          "name": "stdout",
          "text": [
            ">\n"
          ]
        },
        {
          "output_type": "stream",
          "name": "stderr",
          "text": [
            " 10%|▉         | 28/290 [00:28<04:21,  1.00it/s, loss=0.0387]"
          ]
        },
        {
          "output_type": "stream",
          "name": "stdout",
          "text": [
            "[\n"
          ]
        },
        {
          "output_type": "stream",
          "name": "stderr",
          "text": [
            " 12%|█▏        | 34/290 [00:34<04:23,  1.03s/it, loss=0.0223]"
          ]
        },
        {
          "output_type": "stream",
          "name": "stdout",
          "text": [
            "[\n",
            "]\n"
          ]
        },
        {
          "output_type": "stream",
          "name": "stderr",
          "text": [
            " 17%|█▋        | 49/290 [00:49<03:59,  1.01it/s, loss=0.0412]"
          ]
        },
        {
          "output_type": "stream",
          "name": "stdout",
          "text": [
            "]\n"
          ]
        },
        {
          "output_type": "stream",
          "name": "stderr",
          "text": [
            " 18%|█▊        | 51/290 [00:51<03:56,  1.01it/s, loss=0.0399]"
          ]
        },
        {
          "output_type": "stream",
          "name": "stdout",
          "text": [
            "[\n"
          ]
        },
        {
          "output_type": "stream",
          "name": "stderr",
          "text": [
            " 24%|██▍       | 71/290 [01:11<03:35,  1.02it/s, loss=0.0314]"
          ]
        },
        {
          "output_type": "stream",
          "name": "stdout",
          "text": [
            ">\n",
            ">\n"
          ]
        },
        {
          "output_type": "stream",
          "name": "stderr",
          "text": [
            " 25%|██▌       | 73/290 [01:13<03:42,  1.03s/it, loss=0.025]"
          ]
        },
        {
          "output_type": "stream",
          "name": "stdout",
          "text": [
            ">\n",
            ">\n"
          ]
        },
        {
          "output_type": "stream",
          "name": "stderr",
          "text": [
            " 27%|██▋       | 78/290 [01:18<03:31,  1.00it/s, loss=0.0377]"
          ]
        },
        {
          "output_type": "stream",
          "name": "stdout",
          "text": [
            "[\n",
            "]\n"
          ]
        },
        {
          "output_type": "stream",
          "name": "stderr",
          "text": [
            " 31%|███       | 90/290 [01:30<03:23,  1.02s/it, loss=0.0293]"
          ]
        },
        {
          "output_type": "stream",
          "name": "stdout",
          "text": [
            "[\n",
            "]\n"
          ]
        },
        {
          "output_type": "stream",
          "name": "stderr",
          "text": [
            " 34%|███▍      | 99/290 [01:39<03:10,  1.00it/s, loss=0.0404]"
          ]
        },
        {
          "output_type": "stream",
          "name": "stdout",
          "text": [
            ">\n",
            ">\n",
            ">\n",
            ">\n"
          ]
        },
        {
          "output_type": "stream",
          "name": "stderr",
          "text": [
            " 36%|███▌      | 104/290 [01:44<03:04,  1.01it/s, loss=0.0361]"
          ]
        },
        {
          "output_type": "stream",
          "name": "stdout",
          "text": [
            ">\n",
            ">\n"
          ]
        },
        {
          "output_type": "stream",
          "name": "stderr",
          "text": [
            " 44%|████▍     | 128/290 [02:08<02:44,  1.02s/it, loss=0.0337]"
          ]
        },
        {
          "output_type": "stream",
          "name": "stdout",
          "text": [
            ">\n",
            ">\n"
          ]
        },
        {
          "output_type": "stream",
          "name": "stderr",
          "text": [
            " 50%|████▉     | 144/290 [02:24<02:24,  1.01it/s, loss=0.0264]"
          ]
        },
        {
          "output_type": "stream",
          "name": "stdout",
          "text": [
            ">\n",
            ">\n"
          ]
        },
        {
          "output_type": "stream",
          "name": "stderr",
          "text": [
            " 55%|█████▍    | 159/290 [02:39<02:09,  1.01it/s, loss=0.0275]"
          ]
        },
        {
          "output_type": "stream",
          "name": "stdout",
          "text": [
            "*\n",
            "*\n",
            "*\n"
          ]
        },
        {
          "output_type": "stream",
          "name": "stderr",
          "text": [
            " 59%|█████▉    | 171/290 [02:51<01:58,  1.01it/s, loss=0.0429]"
          ]
        },
        {
          "output_type": "stream",
          "name": "stdout",
          "text": [
            ">\n",
            ">\n"
          ]
        },
        {
          "output_type": "stream",
          "name": "stderr",
          "text": [
            " 59%|█████▉    | 172/290 [02:52<01:59,  1.02s/it, loss=0.0343]"
          ]
        },
        {
          "output_type": "stream",
          "name": "stdout",
          "text": [
            ">\n",
            ">\n",
            ">\n"
          ]
        },
        {
          "output_type": "stream",
          "name": "stderr",
          "text": [
            " 61%|██████    | 176/290 [02:56<01:55,  1.01s/it, loss=0.0257]"
          ]
        },
        {
          "output_type": "stream",
          "name": "stdout",
          "text": [
            "]\n"
          ]
        },
        {
          "output_type": "stream",
          "name": "stderr",
          "text": [
            " 62%|██████▏   | 181/290 [03:01<01:49,  1.00s/it, loss=0.0461]"
          ]
        },
        {
          "output_type": "stream",
          "name": "stdout",
          "text": [
            "[\n",
            "]\n"
          ]
        },
        {
          "output_type": "stream",
          "name": "stderr",
          "text": [
            " 65%|██████▍   | 188/290 [03:09<01:42,  1.00s/it, loss=0.0383]"
          ]
        },
        {
          "output_type": "stream",
          "name": "stdout",
          "text": [
            "]\n",
            "[\n",
            "]\n",
            ">\n",
            ">\n"
          ]
        },
        {
          "output_type": "stream",
          "name": "stderr",
          "text": [
            " 66%|██████▌   | 192/290 [03:13<01:38,  1.01s/it, loss=0.0424]"
          ]
        },
        {
          "output_type": "stream",
          "name": "stdout",
          "text": [
            "<\n"
          ]
        },
        {
          "output_type": "stream",
          "name": "stderr",
          "text": [
            " 73%|███████▎  | 213/290 [03:34<01:19,  1.04s/it, loss=0.0329]"
          ]
        },
        {
          "output_type": "stream",
          "name": "stdout",
          "text": [
            "*\n",
            "*\n",
            "*\n"
          ]
        },
        {
          "output_type": "stream",
          "name": "stderr",
          "text": [
            " 79%|███████▉  | 229/290 [03:50<01:00,  1.00it/s, loss=0.0268]"
          ]
        },
        {
          "output_type": "stream",
          "name": "stdout",
          "text": [
            "[\n"
          ]
        },
        {
          "output_type": "stream",
          "name": "stderr",
          "text": [
            " 81%|████████  | 235/290 [03:56<00:54,  1.01it/s, loss=0.0498]"
          ]
        },
        {
          "output_type": "stream",
          "name": "stdout",
          "text": [
            "]\n",
            "[\n",
            "]\n"
          ]
        },
        {
          "output_type": "stream",
          "name": "stderr",
          "text": [
            " 83%|████████▎ | 242/290 [04:03<00:49,  1.03s/it, loss=0.0391]"
          ]
        },
        {
          "output_type": "stream",
          "name": "stdout",
          "text": [
            ">\n",
            ">\n",
            ">\n"
          ]
        },
        {
          "output_type": "stream",
          "name": "stderr",
          "text": [
            " 84%|████████▍ | 243/290 [04:04<00:47,  1.02s/it, loss=0.041]"
          ]
        },
        {
          "output_type": "stream",
          "name": "stdout",
          "text": [
            "*\n",
            "*\n",
            "*\n"
          ]
        },
        {
          "output_type": "stream",
          "name": "stderr",
          "text": [
            " 86%|████████▌ | 249/290 [04:10<00:42,  1.04s/it, loss=0.0498]"
          ]
        },
        {
          "output_type": "stream",
          "name": "stdout",
          "text": [
            ">\n"
          ]
        },
        {
          "output_type": "stream",
          "name": "stderr",
          "text": [
            " 95%|█████████▍| 275/290 [04:36<00:15,  1.01s/it, loss=0.0284]"
          ]
        },
        {
          "output_type": "stream",
          "name": "stdout",
          "text": [
            "[\n"
          ]
        },
        {
          "output_type": "stream",
          "name": "stderr",
          "text": [
            " 98%|█████████▊| 283/290 [04:44<00:07,  1.00s/it, loss=0.0193]"
          ]
        },
        {
          "output_type": "stream",
          "name": "stdout",
          "text": [
            "*\n",
            "*\n",
            "*\n"
          ]
        },
        {
          "output_type": "stream",
          "name": "stderr",
          "text": [
            "100%|██████████| 290/290 [04:51<00:00,  1.00s/it, loss=0.0352]\n"
          ]
        },
        {
          "output_type": "stream",
          "name": "stdout",
          "text": [
            "checkpoint_ep37.pth.tar saved\n"
          ]
        },
        {
          "output_type": "stream",
          "name": "stderr",
          "text": [
            "  8%|▊         | 23/290 [00:23<04:27,  1.00s/it, loss=0.0214]"
          ]
        },
        {
          "output_type": "stream",
          "name": "stdout",
          "text": [
            "]\n",
            "[\n",
            "]\n"
          ]
        },
        {
          "output_type": "stream",
          "name": "stderr",
          "text": [
            "  9%|▉         | 26/290 [00:26<04:29,  1.02s/it, loss=0.0415]"
          ]
        },
        {
          "output_type": "stream",
          "name": "stdout",
          "text": [
            "<\n"
          ]
        },
        {
          "output_type": "stream",
          "name": "stderr",
          "text": [
            " 11%|█         | 32/290 [00:32<04:33,  1.06s/it, loss=0.0527]"
          ]
        },
        {
          "output_type": "stream",
          "name": "stdout",
          "text": [
            "*\n",
            "*\n",
            "*\n"
          ]
        },
        {
          "output_type": "stream",
          "name": "stderr",
          "text": [
            " 20%|█▉        | 57/290 [00:58<03:51,  1.01it/s, loss=0.0209]"
          ]
        },
        {
          "output_type": "stream",
          "name": "stdout",
          "text": [
            "*\n",
            "*\n",
            "*\n",
            ">\n",
            ">\n"
          ]
        },
        {
          "output_type": "stream",
          "name": "stderr",
          "text": [
            " 22%|██▏       | 64/290 [01:05<03:47,  1.01s/it, loss=0.0442]"
          ]
        },
        {
          "output_type": "stream",
          "name": "stdout",
          "text": [
            "]\n"
          ]
        },
        {
          "output_type": "stream",
          "name": "stderr",
          "text": [
            " 28%|██▊       | 82/290 [01:23<03:28,  1.00s/it, loss=0.0282]"
          ]
        },
        {
          "output_type": "stream",
          "name": "stdout",
          "text": [
            "<\n"
          ]
        },
        {
          "output_type": "stream",
          "name": "stderr",
          "text": [
            " 29%|██▉       | 84/290 [01:25<03:27,  1.01s/it, loss=0.0505]"
          ]
        },
        {
          "output_type": "stream",
          "name": "stdout",
          "text": [
            "[\n",
            "[\n"
          ]
        },
        {
          "output_type": "stream",
          "name": "stderr",
          "text": [
            " 34%|███▍      | 100/290 [01:41<03:10,  1.00s/it, loss=0.0326]"
          ]
        },
        {
          "output_type": "stream",
          "name": "stdout",
          "text": [
            ">\n",
            ">\n"
          ]
        },
        {
          "output_type": "stream",
          "name": "stderr",
          "text": [
            " 36%|███▌      | 105/290 [01:46<03:01,  1.02it/s, loss=0.0306]"
          ]
        },
        {
          "output_type": "stream",
          "name": "stdout",
          "text": [
            ">\n",
            ">\n"
          ]
        },
        {
          "output_type": "stream",
          "name": "stderr",
          "text": [
            " 46%|████▌     | 132/290 [02:13<02:41,  1.02s/it, loss=0.0284]"
          ]
        },
        {
          "output_type": "stream",
          "name": "stdout",
          "text": [
            ">\n",
            ">\n"
          ]
        },
        {
          "output_type": "stream",
          "name": "stderr",
          "text": [
            " 49%|████▉     | 143/290 [02:24<02:30,  1.02s/it, loss=0.0247]"
          ]
        },
        {
          "output_type": "stream",
          "name": "stdout",
          "text": [
            "[\n",
            "]\n"
          ]
        },
        {
          "output_type": "stream",
          "name": "stderr",
          "text": [
            " 51%|█████     | 148/290 [02:29<02:22,  1.00s/it, loss=0.0215]"
          ]
        },
        {
          "output_type": "stream",
          "name": "stdout",
          "text": [
            "]\n",
            "[\n",
            "]\n"
          ]
        },
        {
          "output_type": "stream",
          "name": "stderr",
          "text": [
            " 61%|██████    | 177/290 [02:59<01:53,  1.00s/it, loss=0.0412]"
          ]
        },
        {
          "output_type": "stream",
          "name": "stdout",
          "text": [
            ">\n",
            ">\n"
          ]
        },
        {
          "output_type": "stream",
          "name": "stderr",
          "text": [
            " 62%|██████▏   | 181/290 [03:03<01:49,  1.01s/it, loss=0.0429]"
          ]
        },
        {
          "output_type": "stream",
          "name": "stdout",
          "text": [
            "*\n",
            "*\n",
            "*\n"
          ]
        },
        {
          "output_type": "stream",
          "name": "stderr",
          "text": [
            " 66%|██████▌   | 191/290 [03:13<01:39,  1.01s/it, loss=0.0264]"
          ]
        },
        {
          "output_type": "stream",
          "name": "stdout",
          "text": [
            ">\n",
            ">\n",
            ">\n"
          ]
        },
        {
          "output_type": "stream",
          "name": "stderr",
          "text": [
            " 70%|███████   | 204/290 [03:26<01:25,  1.00it/s, loss=0.0251]"
          ]
        },
        {
          "output_type": "stream",
          "name": "stdout",
          "text": [
            "[\n",
            ">\n",
            ">\n"
          ]
        },
        {
          "output_type": "stream",
          "name": "stderr",
          "text": [
            " 71%|███████   | 206/290 [03:28<01:24,  1.01s/it, loss=0.0255]"
          ]
        },
        {
          "output_type": "stream",
          "name": "stdout",
          "text": [
            "[\n",
            "]\n"
          ]
        },
        {
          "output_type": "stream",
          "name": "stderr",
          "text": [
            " 73%|███████▎  | 213/290 [03:35<01:16,  1.00it/s, loss=0.0239]"
          ]
        },
        {
          "output_type": "stream",
          "name": "stdout",
          "text": [
            "[\n",
            "]\n"
          ]
        },
        {
          "output_type": "stream",
          "name": "stderr",
          "text": [
            " 75%|███████▍  | 217/290 [03:39<01:14,  1.02s/it, loss=0.0404]"
          ]
        },
        {
          "output_type": "stream",
          "name": "stdout",
          "text": [
            "[\n",
            "]\n"
          ]
        },
        {
          "output_type": "stream",
          "name": "stderr",
          "text": [
            " 77%|███████▋  | 222/290 [03:44<01:07,  1.01it/s, loss=0.0289]"
          ]
        },
        {
          "output_type": "stream",
          "name": "stdout",
          "text": [
            ">\n"
          ]
        },
        {
          "output_type": "stream",
          "name": "stderr",
          "text": [
            " 80%|███████▉  | 231/290 [03:54<01:01,  1.04s/it, loss=0.0374]"
          ]
        },
        {
          "output_type": "stream",
          "name": "stdout",
          "text": [
            ">\n",
            ">\n"
          ]
        },
        {
          "output_type": "stream",
          "name": "stderr",
          "text": [
            " 84%|████████▍ | 245/290 [04:08<00:44,  1.01it/s, loss=0.0374]"
          ]
        },
        {
          "output_type": "stream",
          "name": "stdout",
          "text": [
            ">\n",
            ">\n"
          ]
        },
        {
          "output_type": "stream",
          "name": "stderr",
          "text": [
            " 85%|████████▍ | 246/290 [04:09<00:43,  1.01it/s, loss=0.0414]"
          ]
        },
        {
          "output_type": "stream",
          "name": "stdout",
          "text": [
            "]\n"
          ]
        },
        {
          "output_type": "stream",
          "name": "stderr",
          "text": [
            " 88%|████████▊ | 254/290 [04:17<00:36,  1.00s/it, loss=0.0351]"
          ]
        },
        {
          "output_type": "stream",
          "name": "stdout",
          "text": [
            ">\n"
          ]
        },
        {
          "output_type": "stream",
          "name": "stderr",
          "text": [
            " 89%|████████▊ | 257/290 [04:20<00:34,  1.03s/it, loss=0.0229]"
          ]
        },
        {
          "output_type": "stream",
          "name": "stdout",
          "text": [
            ">\n"
          ]
        },
        {
          "output_type": "stream",
          "name": "stderr",
          "text": [
            " 90%|█████████ | 261/290 [04:24<00:29,  1.03s/it, loss=0.0224]"
          ]
        },
        {
          "output_type": "stream",
          "name": "stdout",
          "text": [
            ">\n",
            ">\n"
          ]
        },
        {
          "output_type": "stream",
          "name": "stderr",
          "text": [
            " 96%|█████████▌| 277/290 [04:41<00:13,  1.00s/it, loss=0.0175]"
          ]
        },
        {
          "output_type": "stream",
          "name": "stdout",
          "text": [
            "[\n"
          ]
        },
        {
          "output_type": "stream",
          "name": "stderr",
          "text": [
            " 98%|█████████▊| 285/290 [04:49<00:05,  1.01s/it, loss=0.0388]"
          ]
        },
        {
          "output_type": "stream",
          "name": "stdout",
          "text": [
            ">\n",
            ">\n"
          ]
        },
        {
          "output_type": "stream",
          "name": "stderr",
          "text": [
            " 99%|█████████▊| 286/290 [04:50<00:04,  1.06s/it, loss=0.0447]"
          ]
        },
        {
          "output_type": "stream",
          "name": "stdout",
          "text": [
            "*\n",
            "*\n",
            "*\n"
          ]
        },
        {
          "output_type": "stream",
          "name": "stderr",
          "text": [
            "100%|██████████| 290/290 [04:53<00:00,  1.01s/it, loss=0.041]\n",
            "  0%|          | 0/290 [00:00<?, ?it/s]"
          ]
        },
        {
          "output_type": "stream",
          "name": "stdout",
          "text": [
            "[\n"
          ]
        },
        {
          "output_type": "stream",
          "name": "stderr",
          "text": [
            "  0%|          | 1/290 [00:00<04:47,  1.00it/s, loss=0.0169]"
          ]
        },
        {
          "output_type": "stream",
          "name": "stdout",
          "text": [
            "[\n"
          ]
        },
        {
          "output_type": "stream",
          "name": "stderr",
          "text": [
            "  1%|          | 3/290 [00:03<04:59,  1.04s/it, loss=0.0186]"
          ]
        },
        {
          "output_type": "stream",
          "name": "stdout",
          "text": [
            "]\n",
            "[\n",
            "]\n"
          ]
        },
        {
          "output_type": "stream",
          "name": "stderr",
          "text": [
            "  4%|▍         | 13/290 [00:13<04:44,  1.03s/it, loss=0.0273]"
          ]
        },
        {
          "output_type": "stream",
          "name": "stdout",
          "text": [
            "]\n"
          ]
        },
        {
          "output_type": "stream",
          "name": "stderr",
          "text": [
            "  6%|▌         | 17/290 [00:17<04:36,  1.01s/it, loss=0.0453]"
          ]
        },
        {
          "output_type": "stream",
          "name": "stdout",
          "text": [
            "*\n",
            "*\n",
            "*\n"
          ]
        },
        {
          "output_type": "stream",
          "name": "stderr",
          "text": [
            "  9%|▊         | 25/290 [00:25<04:21,  1.01it/s, loss=0.0357]"
          ]
        },
        {
          "output_type": "stream",
          "name": "stdout",
          "text": [
            ">\n",
            ">\n"
          ]
        },
        {
          "output_type": "stream",
          "name": "stderr",
          "text": [
            " 12%|█▏        | 36/290 [00:36<04:15,  1.00s/it, loss=0.0245]"
          ]
        },
        {
          "output_type": "stream",
          "name": "stdout",
          "text": [
            ">\n",
            ">\n",
            "[\n",
            "]\n"
          ]
        },
        {
          "output_type": "stream",
          "name": "stderr",
          "text": [
            " 18%|█▊        | 52/290 [00:52<03:53,  1.02it/s, loss=0.0336]"
          ]
        },
        {
          "output_type": "stream",
          "name": "stdout",
          "text": [
            "<\n"
          ]
        },
        {
          "output_type": "stream",
          "name": "stderr",
          "text": [
            " 20%|██        | 58/290 [00:58<04:00,  1.03s/it, loss=0.0284]"
          ]
        },
        {
          "output_type": "stream",
          "name": "stdout",
          "text": [
            ">\n"
          ]
        },
        {
          "output_type": "stream",
          "name": "stderr",
          "text": [
            " 21%|██▏       | 62/290 [01:02<03:47,  1.00it/s, loss=0.0345]"
          ]
        },
        {
          "output_type": "stream",
          "name": "stdout",
          "text": [
            ">\n",
            ">\n"
          ]
        },
        {
          "output_type": "stream",
          "name": "stderr",
          "text": [
            " 24%|██▍       | 70/290 [01:10<03:40,  1.00s/it, loss=0.0224]"
          ]
        },
        {
          "output_type": "stream",
          "name": "stdout",
          "text": [
            ">\n"
          ]
        },
        {
          "output_type": "stream",
          "name": "stderr",
          "text": [
            " 24%|██▍       | 71/290 [01:11<03:42,  1.01s/it, loss=0.0223]"
          ]
        },
        {
          "output_type": "stream",
          "name": "stdout",
          "text": [
            "[\n"
          ]
        },
        {
          "output_type": "stream",
          "name": "stderr",
          "text": [
            " 27%|██▋       | 77/290 [01:17<03:33,  1.00s/it, loss=0.0195]"
          ]
        },
        {
          "output_type": "stream",
          "name": "stdout",
          "text": [
            ">\n",
            ">\n",
            "[\n",
            "]\n"
          ]
        },
        {
          "output_type": "stream",
          "name": "stderr",
          "text": [
            " 27%|██▋       | 79/290 [01:19<03:28,  1.01it/s, loss=0.0206]"
          ]
        },
        {
          "output_type": "stream",
          "name": "stdout",
          "text": [
            ">\n",
            ">\n"
          ]
        },
        {
          "output_type": "stream",
          "name": "stderr",
          "text": [
            " 33%|███▎      | 95/290 [01:35<03:20,  1.03s/it, loss=0.0216]"
          ]
        },
        {
          "output_type": "stream",
          "name": "stdout",
          "text": [
            ">\n",
            ">\n"
          ]
        },
        {
          "output_type": "stream",
          "name": "stderr",
          "text": [
            " 34%|███▍      | 100/290 [01:40<03:09,  1.00it/s, loss=0.00388]"
          ]
        },
        {
          "output_type": "stream",
          "name": "stdout",
          "text": [
            "*\n",
            "*\n",
            "*\n"
          ]
        },
        {
          "output_type": "stream",
          "name": "stderr",
          "text": [
            " 35%|███▍      | 101/290 [01:41<03:10,  1.01s/it, loss=0.0241]"
          ]
        },
        {
          "output_type": "stream",
          "name": "stdout",
          "text": [
            ">\n"
          ]
        },
        {
          "output_type": "stream",
          "name": "stderr",
          "text": [
            " 38%|███▊      | 110/290 [01:51<03:02,  1.01s/it, loss=0.0372]"
          ]
        },
        {
          "output_type": "stream",
          "name": "stdout",
          "text": [
            ">\n",
            ">\n"
          ]
        },
        {
          "output_type": "stream",
          "name": "stderr",
          "text": [
            " 40%|████      | 117/290 [01:58<02:59,  1.04s/it, loss=0.0386]"
          ]
        },
        {
          "output_type": "stream",
          "name": "stdout",
          "text": [
            ">\n",
            ">\n"
          ]
        },
        {
          "output_type": "stream",
          "name": "stderr",
          "text": [
            " 43%|████▎     | 124/290 [02:05<02:46,  1.00s/it, loss=0.0266]"
          ]
        },
        {
          "output_type": "stream",
          "name": "stdout",
          "text": [
            ">\n",
            ">\n"
          ]
        },
        {
          "output_type": "stream",
          "name": "stderr",
          "text": [
            " 43%|████▎     | 125/290 [02:06<02:44,  1.00it/s, loss=0.0247]"
          ]
        },
        {
          "output_type": "stream",
          "name": "stdout",
          "text": [
            "[\n"
          ]
        },
        {
          "output_type": "stream",
          "name": "stderr",
          "text": [
            " 58%|█████▊    | 169/290 [02:50<02:01,  1.01s/it, loss=0.0804]"
          ]
        },
        {
          "output_type": "stream",
          "name": "stdout",
          "text": [
            "[\n",
            "]\n"
          ]
        },
        {
          "output_type": "stream",
          "name": "stderr",
          "text": [
            " 71%|███████   | 206/290 [03:27<01:22,  1.02it/s, loss=0.0512]"
          ]
        },
        {
          "output_type": "stream",
          "name": "stdout",
          "text": [
            "*\n",
            "*\n",
            "*\n"
          ]
        },
        {
          "output_type": "stream",
          "name": "stderr",
          "text": [
            " 76%|███████▌  | 220/290 [03:42<01:09,  1.01it/s, loss=0.0455]"
          ]
        },
        {
          "output_type": "stream",
          "name": "stdout",
          "text": [
            "]\n"
          ]
        },
        {
          "output_type": "stream",
          "name": "stderr",
          "text": [
            " 78%|███████▊  | 226/290 [03:48<01:03,  1.02it/s, loss=0.0302]"
          ]
        },
        {
          "output_type": "stream",
          "name": "stdout",
          "text": [
            "]\n",
            "[\n",
            "]\n"
          ]
        },
        {
          "output_type": "stream",
          "name": "stderr",
          "text": [
            " 79%|███████▉  | 230/290 [03:52<01:00,  1.01s/it, loss=0.0344]"
          ]
        },
        {
          "output_type": "stream",
          "name": "stdout",
          "text": [
            ">\n",
            ">\n"
          ]
        },
        {
          "output_type": "stream",
          "name": "stderr",
          "text": [
            " 83%|████████▎ | 242/290 [04:04<00:47,  1.01it/s, loss=0.0472]"
          ]
        },
        {
          "output_type": "stream",
          "name": "stdout",
          "text": [
            "*\n",
            "*\n",
            "*\n"
          ]
        },
        {
          "output_type": "stream",
          "name": "stderr",
          "text": [
            " 89%|████████▊ | 257/290 [04:19<00:32,  1.01it/s, loss=0.0513]"
          ]
        },
        {
          "output_type": "stream",
          "name": "stdout",
          "text": [
            "[\n",
            "]\n"
          ]
        },
        {
          "output_type": "stream",
          "name": "stderr",
          "text": [
            " 98%|█████████▊| 283/290 [04:45<00:07,  1.05s/it, loss=0.0187]"
          ]
        },
        {
          "output_type": "stream",
          "name": "stdout",
          "text": [
            ">\n",
            ">\n",
            ">\n"
          ]
        },
        {
          "output_type": "stream",
          "name": "stderr",
          "text": [
            " 99%|█████████▉| 288/290 [04:50<00:02,  1.06s/it, loss=0.0303]"
          ]
        },
        {
          "output_type": "stream",
          "name": "stdout",
          "text": [
            "<\n"
          ]
        },
        {
          "output_type": "stream",
          "name": "stderr",
          "text": [
            "100%|██████████| 290/290 [04:52<00:00,  1.01s/it, loss=0.035]\n"
          ]
        },
        {
          "output_type": "stream",
          "name": "stdout",
          "text": [
            "checkpoint_ep39.pth.tar saved\n"
          ]
        },
        {
          "output_type": "stream",
          "name": "stderr",
          "text": [
            "  1%|▏         | 4/290 [00:04<04:46,  1.00s/it, loss=0.03]"
          ]
        },
        {
          "output_type": "stream",
          "name": "stdout",
          "text": [
            "[\n",
            "]\n"
          ]
        },
        {
          "output_type": "stream",
          "name": "stderr",
          "text": [
            " 11%|█         | 32/290 [00:31<04:13,  1.02it/s, loss=0.0455]"
          ]
        },
        {
          "output_type": "stream",
          "name": "stdout",
          "text": [
            ">\n"
          ]
        },
        {
          "output_type": "stream",
          "name": "stderr",
          "text": [
            " 13%|█▎        | 39/290 [00:39<04:25,  1.06s/it, loss=0.0356]"
          ]
        },
        {
          "output_type": "stream",
          "name": "stdout",
          "text": [
            ">\n",
            ">\n",
            ">\n"
          ]
        },
        {
          "output_type": "stream",
          "name": "stderr",
          "text": [
            " 15%|█▌        | 44/290 [00:44<04:11,  1.02s/it, loss=0.0346]"
          ]
        },
        {
          "output_type": "stream",
          "name": "stdout",
          "text": [
            ">\n"
          ]
        },
        {
          "output_type": "stream",
          "name": "stderr",
          "text": [
            " 17%|█▋        | 50/290 [00:50<04:00,  1.00s/it, loss=0.0278]"
          ]
        },
        {
          "output_type": "stream",
          "name": "stdout",
          "text": [
            "*\n",
            "*\n",
            "*\n"
          ]
        },
        {
          "output_type": "stream",
          "name": "stderr",
          "text": [
            " 18%|█▊        | 52/290 [00:52<03:57,  1.00it/s, loss=0.0566]"
          ]
        },
        {
          "output_type": "stream",
          "name": "stdout",
          "text": [
            "<\n"
          ]
        },
        {
          "output_type": "stream",
          "name": "stderr",
          "text": [
            " 27%|██▋       | 77/290 [01:17<03:33,  1.00s/it, loss=0.0312]"
          ]
        },
        {
          "output_type": "stream",
          "name": "stdout",
          "text": [
            "*\n",
            "*\n",
            "*\n"
          ]
        },
        {
          "output_type": "stream",
          "name": "stderr",
          "text": [
            " 30%|██▉       | 86/290 [01:26<03:18,  1.03it/s, loss=0.0262]"
          ]
        },
        {
          "output_type": "stream",
          "name": "stdout",
          "text": [
            ">\n",
            ">\n"
          ]
        },
        {
          "output_type": "stream",
          "name": "stderr",
          "text": [
            " 42%|████▏     | 121/290 [02:01<02:49,  1.00s/it, loss=0.0253]"
          ]
        },
        {
          "output_type": "stream",
          "name": "stdout",
          "text": [
            ">\n",
            ">\n"
          ]
        },
        {
          "output_type": "stream",
          "name": "stderr",
          "text": [
            " 44%|████▍     | 129/290 [02:09<02:42,  1.01s/it, loss=0.0284]"
          ]
        },
        {
          "output_type": "stream",
          "name": "stdout",
          "text": [
            "[\n",
            "]\n"
          ]
        },
        {
          "output_type": "stream",
          "name": "stderr",
          "text": [
            " 46%|████▌     | 133/290 [02:13<02:37,  1.00s/it, loss=0.0284]"
          ]
        },
        {
          "output_type": "stream",
          "name": "stdout",
          "text": [
            "]\n",
            "[\n",
            "]\n"
          ]
        },
        {
          "output_type": "stream",
          "name": "stderr",
          "text": [
            " 49%|████▉     | 143/290 [02:23<02:27,  1.00s/it, loss=0.0281]"
          ]
        },
        {
          "output_type": "stream",
          "name": "stdout",
          "text": [
            "*\n",
            "*\n",
            "*\n"
          ]
        },
        {
          "output_type": "stream",
          "name": "stderr",
          "text": [
            " 52%|█████▏    | 150/290 [02:30<02:18,  1.01it/s, loss=0.0418]"
          ]
        },
        {
          "output_type": "stream",
          "name": "stdout",
          "text": [
            "[\n"
          ]
        },
        {
          "output_type": "stream",
          "name": "stderr",
          "text": [
            " 57%|█████▋    | 166/290 [02:46<02:05,  1.01s/it, loss=0.0261]"
          ]
        },
        {
          "output_type": "stream",
          "name": "stdout",
          "text": [
            "<\n"
          ]
        },
        {
          "output_type": "stream",
          "name": "stderr",
          "text": [
            " 60%|██████    | 175/290 [02:55<01:58,  1.03s/it, loss=0.0357]"
          ]
        },
        {
          "output_type": "stream",
          "name": "stdout",
          "text": [
            ">\n",
            ">\n"
          ]
        },
        {
          "output_type": "stream",
          "name": "stderr",
          "text": [
            " 62%|██████▏   | 181/290 [03:01<01:48,  1.00it/s, loss=0.0205]"
          ]
        },
        {
          "output_type": "stream",
          "name": "stdout",
          "text": [
            "]\n"
          ]
        },
        {
          "output_type": "stream",
          "name": "stderr",
          "text": [
            " 64%|██████▍   | 185/290 [03:05<01:45,  1.00s/it, loss=0.0247]"
          ]
        },
        {
          "output_type": "stream",
          "name": "stdout",
          "text": [
            ">\n",
            ">\n"
          ]
        },
        {
          "output_type": "stream",
          "name": "stderr",
          "text": [
            " 65%|██████▌   | 189/290 [03:09<01:41,  1.01s/it, loss=0.0416]"
          ]
        },
        {
          "output_type": "stream",
          "name": "stdout",
          "text": [
            "]\n",
            "[\n",
            "]\n"
          ]
        },
        {
          "output_type": "stream",
          "name": "stderr",
          "text": [
            " 73%|███████▎  | 211/290 [03:31<01:19,  1.00s/it, loss=0.0271]"
          ]
        },
        {
          "output_type": "stream",
          "name": "stdout",
          "text": [
            ">\n",
            ">\n"
          ]
        },
        {
          "output_type": "stream",
          "name": "stderr",
          "text": [
            " 77%|███████▋  | 222/290 [03:42<01:07,  1.00it/s, loss=0.0336]"
          ]
        },
        {
          "output_type": "stream",
          "name": "stdout",
          "text": [
            ">\n",
            ">\n",
            ">\n",
            ">\n"
          ]
        },
        {
          "output_type": "stream",
          "name": "stderr",
          "text": [
            " 80%|████████  | 232/290 [03:52<00:58,  1.00s/it, loss=0.0347]"
          ]
        },
        {
          "output_type": "stream",
          "name": "stdout",
          "text": [
            ">\n"
          ]
        },
        {
          "output_type": "stream",
          "name": "stderr",
          "text": [
            " 81%|████████▏ | 236/290 [03:57<00:56,  1.05s/it, loss=0.0275]"
          ]
        },
        {
          "output_type": "stream",
          "name": "stdout",
          "text": [
            "[\n"
          ]
        },
        {
          "output_type": "stream",
          "name": "stderr",
          "text": [
            " 83%|████████▎ | 242/290 [04:03<00:48,  1.01s/it, loss=0.0351]"
          ]
        },
        {
          "output_type": "stream",
          "name": "stdout",
          "text": [
            "]\n"
          ]
        },
        {
          "output_type": "stream",
          "name": "stderr",
          "text": [
            " 84%|████████▍ | 245/290 [04:06<00:45,  1.01s/it, loss=0.0559]"
          ]
        },
        {
          "output_type": "stream",
          "name": "stdout",
          "text": [
            ">\n",
            ">\n"
          ]
        },
        {
          "output_type": "stream",
          "name": "stderr",
          "text": [
            " 86%|████████▌ | 248/290 [04:09<00:41,  1.01it/s, loss=0.0175]"
          ]
        },
        {
          "output_type": "stream",
          "name": "stdout",
          "text": [
            "[\n"
          ]
        },
        {
          "output_type": "stream",
          "name": "stderr",
          "text": [
            " 87%|████████▋ | 253/290 [04:14<00:37,  1.01s/it, loss=0.051]"
          ]
        },
        {
          "output_type": "stream",
          "name": "stdout",
          "text": [
            ">\n",
            ">\n"
          ]
        },
        {
          "output_type": "stream",
          "name": "stderr",
          "text": [
            " 91%|█████████ | 264/290 [04:25<00:25,  1.00it/s, loss=0.0402]"
          ]
        },
        {
          "output_type": "stream",
          "name": "stdout",
          "text": [
            ">\n",
            ">\n"
          ]
        },
        {
          "output_type": "stream",
          "name": "stderr",
          "text": [
            " 92%|█████████▏| 266/290 [04:27<00:23,  1.01it/s, loss=0.0435]"
          ]
        },
        {
          "output_type": "stream",
          "name": "stdout",
          "text": [
            "[\n"
          ]
        },
        {
          "output_type": "stream",
          "name": "stderr",
          "text": [
            " 93%|█████████▎| 271/290 [04:32<00:18,  1.02it/s, loss=0.0571]"
          ]
        },
        {
          "output_type": "stream",
          "name": "stdout",
          "text": [
            "[\n",
            "]\n"
          ]
        },
        {
          "output_type": "stream",
          "name": "stderr",
          "text": [
            " 94%|█████████▍| 272/290 [04:33<00:17,  1.00it/s, loss=0.0284]"
          ]
        },
        {
          "output_type": "stream",
          "name": "stdout",
          "text": [
            "[\n",
            "]\n"
          ]
        },
        {
          "output_type": "stream",
          "name": "stderr",
          "text": [
            " 94%|█████████▍| 273/290 [04:34<00:16,  1.00it/s, loss=0.0626]"
          ]
        },
        {
          "output_type": "stream",
          "name": "stdout",
          "text": [
            "*\n",
            "*\n",
            "*\n"
          ]
        },
        {
          "output_type": "stream",
          "name": "stderr",
          "text": [
            "100%|██████████| 290/290 [04:51<00:00,  1.00s/it, loss=0.0635]\n",
            "  1%|          | 3/290 [00:02<04:44,  1.01it/s, loss=0.0275]"
          ]
        },
        {
          "output_type": "stream",
          "name": "stdout",
          "text": [
            "[\n",
            "]\n"
          ]
        },
        {
          "output_type": "stream",
          "name": "stderr",
          "text": [
            " 13%|█▎        | 37/290 [00:37<04:16,  1.01s/it, loss=0.0252]"
          ]
        },
        {
          "output_type": "stream",
          "name": "stdout",
          "text": [
            "[\n"
          ]
        },
        {
          "output_type": "stream",
          "name": "stderr",
          "text": [
            " 14%|█▍        | 42/290 [00:42<04:06,  1.01it/s, loss=0.0284]"
          ]
        },
        {
          "output_type": "stream",
          "name": "stdout",
          "text": [
            ">\n"
          ]
        },
        {
          "output_type": "stream",
          "name": "stderr",
          "text": [
            " 28%|██▊       | 81/290 [01:22<03:29,  1.00s/it, loss=0.0248]"
          ]
        },
        {
          "output_type": "stream",
          "name": "stdout",
          "text": [
            ">\n",
            ">\n"
          ]
        },
        {
          "output_type": "stream",
          "name": "stderr",
          "text": [
            " 36%|███▌      | 104/290 [01:45<03:04,  1.01it/s, loss=0.0252]"
          ]
        },
        {
          "output_type": "stream",
          "name": "stdout",
          "text": [
            ">\n",
            ">\n"
          ]
        },
        {
          "output_type": "stream",
          "name": "stderr",
          "text": [
            " 40%|███▉      | 115/290 [01:56<02:58,  1.02s/it, loss=0.0268]"
          ]
        },
        {
          "output_type": "stream",
          "name": "stdout",
          "text": [
            "[\n"
          ]
        },
        {
          "output_type": "stream",
          "name": "stderr",
          "text": [
            " 40%|████      | 116/290 [01:57<02:55,  1.01s/it, loss=0.0235]"
          ]
        },
        {
          "output_type": "stream",
          "name": "stdout",
          "text": [
            ">\n",
            ">\n"
          ]
        },
        {
          "output_type": "stream",
          "name": "stderr",
          "text": [
            " 46%|████▌     | 134/290 [02:15<02:37,  1.01s/it, loss=0.0358]"
          ]
        },
        {
          "output_type": "stream",
          "name": "stdout",
          "text": [
            ">\n"
          ]
        },
        {
          "output_type": "stream",
          "name": "stderr",
          "text": [
            " 47%|████▋     | 137/290 [02:18<02:31,  1.01it/s, loss=0.0172]"
          ]
        },
        {
          "output_type": "stream",
          "name": "stdout",
          "text": [
            "*\n",
            "*\n",
            "*\n"
          ]
        },
        {
          "output_type": "stream",
          "name": "stderr",
          "text": [
            " 49%|████▉     | 142/290 [02:23<02:34,  1.04s/it, loss=0.0293]"
          ]
        },
        {
          "output_type": "stream",
          "name": "stdout",
          "text": [
            "<\n"
          ]
        },
        {
          "output_type": "stream",
          "name": "stderr",
          "text": [
            " 50%|████▉     | 144/290 [02:25<02:36,  1.07s/it, loss=0.0486]"
          ]
        },
        {
          "output_type": "stream",
          "name": "stdout",
          "text": [
            "[\n"
          ]
        },
        {
          "output_type": "stream",
          "name": "stderr",
          "text": [
            " 56%|█████▌    | 161/290 [02:43<02:12,  1.03s/it, loss=0.0201]"
          ]
        },
        {
          "output_type": "stream",
          "name": "stdout",
          "text": [
            ">\n",
            ">\n"
          ]
        },
        {
          "output_type": "stream",
          "name": "stderr",
          "text": [
            " 57%|█████▋    | 165/290 [02:47<02:04,  1.00it/s, loss=0.0221]"
          ]
        },
        {
          "output_type": "stream",
          "name": "stdout",
          "text": [
            "]\n",
            "[\n",
            "]\n"
          ]
        },
        {
          "output_type": "stream",
          "name": "stderr",
          "text": [
            " 57%|█████▋    | 166/290 [02:48<02:07,  1.03s/it, loss=0.0314]"
          ]
        },
        {
          "output_type": "stream",
          "name": "stdout",
          "text": [
            ">\n"
          ]
        },
        {
          "output_type": "stream",
          "name": "stderr",
          "text": [
            " 58%|█████▊    | 169/290 [02:51<02:00,  1.01it/s, loss=0.0341]"
          ]
        },
        {
          "output_type": "stream",
          "name": "stdout",
          "text": [
            "[\n",
            "]\n"
          ]
        },
        {
          "output_type": "stream",
          "name": "stderr",
          "text": [
            " 59%|█████▉    | 171/290 [02:53<01:57,  1.01it/s, loss=0.0278]"
          ]
        },
        {
          "output_type": "stream",
          "name": "stdout",
          "text": [
            "*\n",
            "*\n",
            "*\n"
          ]
        },
        {
          "output_type": "stream",
          "name": "stderr",
          "text": [
            " 61%|██████    | 176/290 [02:58<01:53,  1.01it/s, loss=0.0244]"
          ]
        },
        {
          "output_type": "stream",
          "name": "stdout",
          "text": [
            "[\n",
            "]\n"
          ]
        },
        {
          "output_type": "stream",
          "name": "stderr",
          "text": [
            " 62%|██████▏   | 179/290 [03:01<01:54,  1.03s/it, loss=0.0454]"
          ]
        },
        {
          "output_type": "stream",
          "name": "stdout",
          "text": [
            "]\n"
          ]
        },
        {
          "output_type": "stream",
          "name": "stderr",
          "text": [
            " 65%|██████▌   | 189/290 [03:11<01:40,  1.00it/s, loss=0.0253]"
          ]
        },
        {
          "output_type": "stream",
          "name": "stdout",
          "text": [
            ">\n",
            ">\n"
          ]
        },
        {
          "output_type": "stream",
          "name": "stderr",
          "text": [
            " 67%|██████▋   | 195/290 [03:17<01:36,  1.02s/it, loss=0.0214]"
          ]
        },
        {
          "output_type": "stream",
          "name": "stdout",
          "text": [
            ">\n",
            ">\n"
          ]
        },
        {
          "output_type": "stream",
          "name": "stderr",
          "text": [
            " 74%|███████▍  | 216/290 [03:38<01:14,  1.00s/it, loss=0.0174]"
          ]
        },
        {
          "output_type": "stream",
          "name": "stdout",
          "text": [
            ">\n",
            ">\n"
          ]
        },
        {
          "output_type": "stream",
          "name": "stderr",
          "text": [
            " 77%|███████▋  | 224/290 [03:46<01:06,  1.01s/it, loss=0.0227]"
          ]
        },
        {
          "output_type": "stream",
          "name": "stdout",
          "text": [
            "]\n",
            "[\n",
            "]\n"
          ]
        },
        {
          "output_type": "stream",
          "name": "stderr",
          "text": [
            " 79%|███████▉  | 229/290 [03:51<01:01,  1.00s/it, loss=0.0153]"
          ]
        },
        {
          "output_type": "stream",
          "name": "stdout",
          "text": [
            "*\n",
            "*\n",
            "*\n"
          ]
        },
        {
          "output_type": "stream",
          "name": "stderr",
          "text": [
            " 88%|████████▊ | 254/290 [04:16<00:36,  1.01s/it, loss=0.0539]"
          ]
        },
        {
          "output_type": "stream",
          "name": "stdout",
          "text": [
            "[\n"
          ]
        },
        {
          "output_type": "stream",
          "name": "stderr",
          "text": [
            " 88%|████████▊ | 256/290 [04:18<00:34,  1.01s/it, loss=0.0198]"
          ]
        },
        {
          "output_type": "stream",
          "name": "stdout",
          "text": [
            ">\n",
            ">\n",
            "*\n",
            "*\n",
            "*\n"
          ]
        },
        {
          "output_type": "stream",
          "name": "stderr",
          "text": [
            " 89%|████████▉ | 258/290 [04:20<00:32,  1.00s/it, loss=0.0275]"
          ]
        },
        {
          "output_type": "stream",
          "name": "stdout",
          "text": [
            "[\n",
            "]\n"
          ]
        },
        {
          "output_type": "stream",
          "name": "stderr",
          "text": [
            " 95%|█████████▌| 276/290 [04:38<00:13,  1.00it/s, loss=0.0212]"
          ]
        },
        {
          "output_type": "stream",
          "name": "stdout",
          "text": [
            ">\n",
            ">\n"
          ]
        },
        {
          "output_type": "stream",
          "name": "stderr",
          "text": [
            " 96%|█████████▌| 277/290 [04:39<00:13,  1.04s/it, loss=0.0299]"
          ]
        },
        {
          "output_type": "stream",
          "name": "stdout",
          "text": [
            ">\n",
            ">\n"
          ]
        },
        {
          "output_type": "stream",
          "name": "stderr",
          "text": [
            " 96%|█████████▌| 279/290 [04:41<00:11,  1.01s/it, loss=0.0197]"
          ]
        },
        {
          "output_type": "stream",
          "name": "stdout",
          "text": [
            ">\n",
            ">\n",
            ">\n"
          ]
        },
        {
          "output_type": "stream",
          "name": "stderr",
          "text": [
            " 97%|█████████▋| 280/290 [04:42<00:10,  1.00s/it, loss=0.038]"
          ]
        },
        {
          "output_type": "stream",
          "name": "stdout",
          "text": [
            "]\n"
          ]
        },
        {
          "output_type": "stream",
          "name": "stderr",
          "text": [
            " 99%|█████████▉| 287/290 [04:49<00:02,  1.02it/s, loss=0.0294]"
          ]
        },
        {
          "output_type": "stream",
          "name": "stdout",
          "text": [
            "<\n"
          ]
        },
        {
          "output_type": "stream",
          "name": "stderr",
          "text": [
            "100%|██████████| 290/290 [04:52<00:00,  1.01s/it, loss=0.044]\n"
          ]
        },
        {
          "output_type": "stream",
          "name": "stdout",
          "text": [
            "checkpoint_ep41.pth.tar saved\n"
          ]
        },
        {
          "output_type": "stream",
          "name": "stderr",
          "text": [
            "  0%|          | 1/290 [00:00<04:45,  1.01it/s, loss=0.0169]"
          ]
        },
        {
          "output_type": "stream",
          "name": "stdout",
          "text": [
            "*\n",
            "*\n",
            "*\n"
          ]
        },
        {
          "output_type": "stream",
          "name": "stderr",
          "text": [
            "  1%|          | 3/290 [00:03<04:51,  1.01s/it, loss=0.029]"
          ]
        },
        {
          "output_type": "stream",
          "name": "stdout",
          "text": [
            "]\n",
            "[\n",
            "]\n"
          ]
        },
        {
          "output_type": "stream",
          "name": "stderr",
          "text": [
            "  4%|▍         | 13/290 [00:13<04:35,  1.00it/s, loss=0.0349]"
          ]
        },
        {
          "output_type": "stream",
          "name": "stdout",
          "text": [
            "*\n",
            "*\n",
            "*\n"
          ]
        },
        {
          "output_type": "stream",
          "name": "stderr",
          "text": [
            "  5%|▌         | 15/290 [00:15<04:32,  1.01it/s, loss=0.0276]"
          ]
        },
        {
          "output_type": "stream",
          "name": "stdout",
          "text": [
            ">\n",
            ">\n"
          ]
        },
        {
          "output_type": "stream",
          "name": "stderr",
          "text": [
            " 11%|█▏        | 33/290 [00:33<04:20,  1.02s/it, loss=0.0244]"
          ]
        },
        {
          "output_type": "stream",
          "name": "stdout",
          "text": [
            ">\n",
            ">\n"
          ]
        },
        {
          "output_type": "stream",
          "name": "stderr",
          "text": [
            " 12%|█▏        | 35/290 [00:35<04:23,  1.03s/it, loss=0.0365]"
          ]
        },
        {
          "output_type": "stream",
          "name": "stdout",
          "text": [
            ">\n",
            ">\n"
          ]
        },
        {
          "output_type": "stream",
          "name": "stderr",
          "text": [
            " 29%|██▉       | 84/290 [01:25<03:22,  1.02it/s, loss=0.0298]"
          ]
        },
        {
          "output_type": "stream",
          "name": "stdout",
          "text": [
            "*\n",
            "*\n",
            "*\n"
          ]
        },
        {
          "output_type": "stream",
          "name": "stderr",
          "text": [
            " 33%|███▎      | 96/290 [01:37<03:18,  1.02s/it, loss=0.0299]"
          ]
        },
        {
          "output_type": "stream",
          "name": "stdout",
          "text": [
            ">\n",
            ">\n",
            ">\n"
          ]
        },
        {
          "output_type": "stream",
          "name": "stderr",
          "text": [
            " 34%|███▍      | 98/290 [01:39<03:14,  1.01s/it, loss=0.0285]"
          ]
        },
        {
          "output_type": "stream",
          "name": "stdout",
          "text": [
            "]\n"
          ]
        },
        {
          "output_type": "stream",
          "name": "stderr",
          "text": [
            " 34%|███▍      | 100/290 [01:41<03:10,  1.00s/it, loss=0.0255]"
          ]
        },
        {
          "output_type": "stream",
          "name": "stdout",
          "text": [
            "[\n",
            "]\n"
          ]
        },
        {
          "output_type": "stream",
          "name": "stderr",
          "text": [
            " 36%|███▌      | 104/290 [01:45<03:07,  1.01s/it, loss=0.0236]"
          ]
        },
        {
          "output_type": "stream",
          "name": "stdout",
          "text": [
            "[\n"
          ]
        },
        {
          "output_type": "stream",
          "name": "stderr",
          "text": [
            " 38%|███▊      | 109/290 [01:50<03:01,  1.00s/it, loss=0.021]"
          ]
        },
        {
          "output_type": "stream",
          "name": "stdout",
          "text": [
            "[\n",
            "]\n"
          ]
        },
        {
          "output_type": "stream",
          "name": "stderr",
          "text": [
            " 39%|███▉      | 114/290 [01:55<02:56,  1.00s/it, loss=0.00771]"
          ]
        },
        {
          "output_type": "stream",
          "name": "stdout",
          "text": [
            "[\n"
          ]
        },
        {
          "output_type": "stream",
          "name": "stderr",
          "text": [
            " 48%|████▊     | 140/290 [02:21<02:30,  1.00s/it, loss=0.0236]"
          ]
        },
        {
          "output_type": "stream",
          "name": "stdout",
          "text": [
            "]\n",
            "[\n",
            "]\n"
          ]
        },
        {
          "output_type": "stream",
          "name": "stderr",
          "text": [
            " 50%|████▉     | 144/290 [02:25<02:25,  1.00it/s, loss=0.0252]"
          ]
        },
        {
          "output_type": "stream",
          "name": "stdout",
          "text": [
            "[\n"
          ]
        },
        {
          "output_type": "stream",
          "name": "stderr",
          "text": [
            " 54%|█████▍    | 156/290 [02:37<02:13,  1.00it/s, loss=0.0186]"
          ]
        },
        {
          "output_type": "stream",
          "name": "stdout",
          "text": [
            ">\n",
            ">\n"
          ]
        },
        {
          "output_type": "stream",
          "name": "stderr",
          "text": [
            " 56%|█████▌    | 161/290 [02:42<02:10,  1.01s/it, loss=0.0319]"
          ]
        },
        {
          "output_type": "stream",
          "name": "stdout",
          "text": [
            ">\n",
            ">\n"
          ]
        },
        {
          "output_type": "stream",
          "name": "stderr",
          "text": [
            " 58%|█████▊    | 169/290 [02:50<02:03,  1.02s/it, loss=0.0305]"
          ]
        },
        {
          "output_type": "stream",
          "name": "stdout",
          "text": [
            "<\n"
          ]
        },
        {
          "output_type": "stream",
          "name": "stderr",
          "text": [
            " 60%|██████    | 175/290 [02:56<01:59,  1.04s/it, loss=0.0198]"
          ]
        },
        {
          "output_type": "stream",
          "name": "stdout",
          "text": [
            ">\n",
            ">\n"
          ]
        },
        {
          "output_type": "stream",
          "name": "stderr",
          "text": [
            " 66%|██████▌   | 191/290 [03:13<01:41,  1.02s/it, loss=0.0645]"
          ]
        },
        {
          "output_type": "stream",
          "name": "stdout",
          "text": [
            ">\n",
            ">\n"
          ]
        },
        {
          "output_type": "stream",
          "name": "stderr",
          "text": [
            " 66%|██████▌   | 192/290 [03:14<01:40,  1.03s/it, loss=0.0187]"
          ]
        },
        {
          "output_type": "stream",
          "name": "stdout",
          "text": [
            "*\n",
            "*\n",
            "*\n"
          ]
        },
        {
          "output_type": "stream",
          "name": "stderr",
          "text": [
            " 70%|███████   | 204/290 [03:26<01:25,  1.01it/s, loss=0.0216]"
          ]
        },
        {
          "output_type": "stream",
          "name": "stdout",
          "text": [
            "[\n",
            "]\n"
          ]
        },
        {
          "output_type": "stream",
          "name": "stderr",
          "text": [
            " 79%|███████▊  | 228/290 [03:50<01:02,  1.00s/it, loss=0.0232]"
          ]
        },
        {
          "output_type": "stream",
          "name": "stdout",
          "text": [
            "[\n"
          ]
        },
        {
          "output_type": "stream",
          "name": "stderr",
          "text": [
            " 79%|███████▉  | 229/290 [03:51<01:00,  1.00it/s, loss=0.0204]"
          ]
        },
        {
          "output_type": "stream",
          "name": "stdout",
          "text": [
            ">\n",
            ">\n"
          ]
        },
        {
          "output_type": "stream",
          "name": "stderr",
          "text": [
            " 83%|████████▎ | 240/290 [04:02<00:49,  1.01it/s, loss=0.0272]"
          ]
        },
        {
          "output_type": "stream",
          "name": "stdout",
          "text": [
            "]\n"
          ]
        },
        {
          "output_type": "stream",
          "name": "stderr",
          "text": [
            " 84%|████████▍ | 245/290 [04:07<00:47,  1.06s/it, loss=0.0264]"
          ]
        },
        {
          "output_type": "stream",
          "name": "stdout",
          "text": [
            "<\n"
          ]
        },
        {
          "output_type": "stream",
          "name": "stderr",
          "text": [
            " 85%|████████▌ | 247/290 [04:09<00:46,  1.08s/it, loss=0.0346]"
          ]
        },
        {
          "output_type": "stream",
          "name": "stdout",
          "text": [
            "[\n",
            "]\n"
          ]
        },
        {
          "output_type": "stream",
          "name": "stderr",
          "text": [
            " 86%|████████▌ | 249/290 [04:12<00:43,  1.05s/it, loss=0.0447]"
          ]
        },
        {
          "output_type": "stream",
          "name": "stdout",
          "text": [
            ">\n",
            ">\n"
          ]
        },
        {
          "output_type": "stream",
          "name": "stderr",
          "text": [
            " 87%|████████▋ | 252/290 [04:15<00:38,  1.02s/it, loss=0.0354]"
          ]
        },
        {
          "output_type": "stream",
          "name": "stdout",
          "text": [
            ">\n"
          ]
        },
        {
          "output_type": "stream",
          "name": "stderr",
          "text": [
            " 89%|████████▉ | 259/290 [04:22<00:31,  1.02s/it, loss=0.0391]"
          ]
        },
        {
          "output_type": "stream",
          "name": "stdout",
          "text": [
            ">\n"
          ]
        },
        {
          "output_type": "stream",
          "name": "stderr",
          "text": [
            " 99%|█████████▉| 287/290 [04:50<00:02,  1.01it/s, loss=0.0222]"
          ]
        },
        {
          "output_type": "stream",
          "name": "stdout",
          "text": [
            ">\n",
            ">\n"
          ]
        },
        {
          "output_type": "stream",
          "name": "stderr",
          "text": [
            "100%|█████████▉| 289/290 [04:52<00:01,  1.00s/it, loss=0.0476]"
          ]
        },
        {
          "output_type": "stream",
          "name": "stdout",
          "text": [
            ">\n"
          ]
        },
        {
          "output_type": "stream",
          "name": "stderr",
          "text": [
            "100%|██████████| 290/290 [04:52<00:00,  1.01s/it, loss=0.0394]\n",
            " 10%|▉         | 28/290 [00:28<04:20,  1.01it/s, loss=0.0268]"
          ]
        },
        {
          "output_type": "stream",
          "name": "stdout",
          "text": [
            ">\n",
            ">\n"
          ]
        },
        {
          "output_type": "stream",
          "name": "stderr",
          "text": [
            " 13%|█▎        | 37/290 [00:37<04:13,  1.00s/it, loss=0.0266]"
          ]
        },
        {
          "output_type": "stream",
          "name": "stdout",
          "text": [
            ">\n",
            ">\n"
          ]
        },
        {
          "output_type": "stream",
          "name": "stderr",
          "text": [
            " 18%|█▊        | 53/290 [00:53<03:58,  1.01s/it, loss=0.0242]"
          ]
        },
        {
          "output_type": "stream",
          "name": "stdout",
          "text": [
            ">\n"
          ]
        },
        {
          "output_type": "stream",
          "name": "stderr",
          "text": [
            " 21%|██        | 61/290 [01:01<03:52,  1.02s/it, loss=0.0217]"
          ]
        },
        {
          "output_type": "stream",
          "name": "stdout",
          "text": [
            ">\n",
            ">\n"
          ]
        },
        {
          "output_type": "stream",
          "name": "stderr",
          "text": [
            " 22%|██▏       | 65/290 [01:05<03:44,  1.00it/s, loss=0.0296]"
          ]
        },
        {
          "output_type": "stream",
          "name": "stdout",
          "text": [
            ">\n"
          ]
        },
        {
          "output_type": "stream",
          "name": "stderr",
          "text": [
            " 25%|██▍       | 72/290 [01:12<03:40,  1.01s/it, loss=0.0134]"
          ]
        },
        {
          "output_type": "stream",
          "name": "stdout",
          "text": [
            "]\n",
            "[\n",
            "]\n"
          ]
        },
        {
          "output_type": "stream",
          "name": "stderr",
          "text": [
            " 31%|███       | 89/290 [01:30<03:25,  1.02s/it, loss=0.021]"
          ]
        },
        {
          "output_type": "stream",
          "name": "stdout",
          "text": [
            "<\n"
          ]
        },
        {
          "output_type": "stream",
          "name": "stderr",
          "text": [
            " 35%|███▌      | 102/290 [01:43<03:06,  1.01it/s, loss=0.0292]"
          ]
        },
        {
          "output_type": "stream",
          "name": "stdout",
          "text": [
            "*\n",
            "*\n",
            "*\n"
          ]
        },
        {
          "output_type": "stream",
          "name": "stderr",
          "text": [
            " 37%|███▋      | 108/290 [01:49<03:10,  1.05s/it, loss=0.0323]"
          ]
        },
        {
          "output_type": "stream",
          "name": "stdout",
          "text": [
            "*\n",
            "*\n",
            "*\n"
          ]
        },
        {
          "output_type": "stream",
          "name": "stderr",
          "text": [
            " 42%|████▏     | 122/290 [02:03<02:48,  1.00s/it, loss=0.0141]"
          ]
        },
        {
          "output_type": "stream",
          "name": "stdout",
          "text": [
            "[\n"
          ]
        },
        {
          "output_type": "stream",
          "name": "stderr",
          "text": [
            " 42%|████▏     | 123/290 [02:04<02:46,  1.01it/s, loss=0.0202]"
          ]
        },
        {
          "output_type": "stream",
          "name": "stdout",
          "text": [
            ">\n",
            ">\n"
          ]
        },
        {
          "output_type": "stream",
          "name": "stderr",
          "text": [
            " 45%|████▌     | 131/290 [02:12<02:37,  1.01it/s, loss=0.0245]"
          ]
        },
        {
          "output_type": "stream",
          "name": "stdout",
          "text": [
            "*\n",
            "*\n",
            "*\n"
          ]
        },
        {
          "output_type": "stream",
          "name": "stderr",
          "text": [
            " 46%|████▌     | 132/290 [02:13<02:37,  1.00it/s, loss=0.0299]"
          ]
        },
        {
          "output_type": "stream",
          "name": "stdout",
          "text": [
            ">\n",
            ">\n"
          ]
        },
        {
          "output_type": "stream",
          "name": "stderr",
          "text": [
            " 46%|████▌     | 133/290 [02:14<02:36,  1.01it/s, loss=0.0202]"
          ]
        },
        {
          "output_type": "stream",
          "name": "stdout",
          "text": [
            ">\n",
            ">\n"
          ]
        },
        {
          "output_type": "stream",
          "name": "stderr",
          "text": [
            " 52%|█████▏    | 151/290 [02:32<02:26,  1.05s/it, loss=0.0181]"
          ]
        },
        {
          "output_type": "stream",
          "name": "stdout",
          "text": [
            "]\n"
          ]
        },
        {
          "output_type": "stream",
          "name": "stderr",
          "text": [
            " 53%|█████▎    | 155/290 [02:36<02:16,  1.01s/it, loss=0.0257]"
          ]
        },
        {
          "output_type": "stream",
          "name": "stdout",
          "text": [
            "[\n"
          ]
        },
        {
          "output_type": "stream",
          "name": "stderr",
          "text": [
            " 58%|█████▊    | 167/290 [02:48<02:02,  1.01it/s, loss=0.028]"
          ]
        },
        {
          "output_type": "stream",
          "name": "stdout",
          "text": [
            "[\n",
            "]\n"
          ]
        },
        {
          "output_type": "stream",
          "name": "stderr",
          "text": [
            " 60%|██████    | 174/290 [02:55<01:58,  1.02s/it, loss=0.0425]"
          ]
        },
        {
          "output_type": "stream",
          "name": "stdout",
          "text": [
            ">\n",
            ">\n"
          ]
        },
        {
          "output_type": "stream",
          "name": "stderr",
          "text": [
            " 61%|██████    | 176/290 [02:57<01:55,  1.01s/it, loss=0.0479]"
          ]
        },
        {
          "output_type": "stream",
          "name": "stdout",
          "text": [
            ">\n",
            ">\n"
          ]
        },
        {
          "output_type": "stream",
          "name": "stderr",
          "text": [
            " 66%|██████▌   | 192/290 [03:13<01:37,  1.00it/s, loss=0.0285]"
          ]
        },
        {
          "output_type": "stream",
          "name": "stdout",
          "text": [
            "[\n"
          ]
        },
        {
          "output_type": "stream",
          "name": "stderr",
          "text": [
            " 67%|██████▋   | 194/290 [03:15<01:35,  1.01it/s, loss=0.0303]"
          ]
        },
        {
          "output_type": "stream",
          "name": "stdout",
          "text": [
            ">\n",
            ">\n"
          ]
        },
        {
          "output_type": "stream",
          "name": "stderr",
          "text": [
            " 68%|██████▊   | 197/290 [03:18<01:32,  1.01it/s, loss=0.0276]"
          ]
        },
        {
          "output_type": "stream",
          "name": "stdout",
          "text": [
            ">\n"
          ]
        },
        {
          "output_type": "stream",
          "name": "stderr",
          "text": [
            " 69%|██████▉   | 200/290 [03:21<01:31,  1.02s/it, loss=0.0346]"
          ]
        },
        {
          "output_type": "stream",
          "name": "stdout",
          "text": [
            "]\n",
            "[\n",
            "]\n"
          ]
        },
        {
          "output_type": "stream",
          "name": "stderr",
          "text": [
            " 79%|███████▉  | 229/290 [03:50<01:01,  1.01s/it, loss=0.0282]"
          ]
        },
        {
          "output_type": "stream",
          "name": "stdout",
          "text": [
            "[\n",
            "]\n"
          ]
        },
        {
          "output_type": "stream",
          "name": "stderr",
          "text": [
            " 80%|████████  | 233/290 [03:54<00:56,  1.01it/s, loss=0.024]"
          ]
        },
        {
          "output_type": "stream",
          "name": "stdout",
          "text": [
            "<\n"
          ]
        },
        {
          "output_type": "stream",
          "name": "stderr",
          "text": [
            " 82%|████████▏ | 237/290 [03:58<00:52,  1.01it/s, loss=0.0294]"
          ]
        },
        {
          "output_type": "stream",
          "name": "stdout",
          "text": [
            ">\n",
            ">\n",
            ">\n"
          ]
        },
        {
          "output_type": "stream",
          "name": "stderr",
          "text": [
            " 83%|████████▎ | 241/290 [04:02<00:48,  1.01it/s, loss=0.0328]"
          ]
        },
        {
          "output_type": "stream",
          "name": "stdout",
          "text": [
            "[\n",
            "]\n"
          ]
        },
        {
          "output_type": "stream",
          "name": "stderr",
          "text": [
            " 87%|████████▋ | 251/290 [04:12<00:38,  1.00it/s, loss=0.0337]"
          ]
        },
        {
          "output_type": "stream",
          "name": "stdout",
          "text": [
            "[\n",
            "]\n"
          ]
        },
        {
          "output_type": "stream",
          "name": "stderr",
          "text": [
            " 94%|█████████▍| 273/290 [04:34<00:17,  1.01s/it, loss=0.0417]"
          ]
        },
        {
          "output_type": "stream",
          "name": "stdout",
          "text": [
            ">\n",
            ">\n"
          ]
        },
        {
          "output_type": "stream",
          "name": "stderr",
          "text": [
            " 95%|█████████▌| 276/290 [04:37<00:14,  1.00s/it, loss=0.03]"
          ]
        },
        {
          "output_type": "stream",
          "name": "stdout",
          "text": [
            "[\n"
          ]
        },
        {
          "output_type": "stream",
          "name": "stderr",
          "text": [
            " 99%|█████████▊| 286/290 [04:47<00:03,  1.02it/s, loss=0.0376]"
          ]
        },
        {
          "output_type": "stream",
          "name": "stdout",
          "text": [
            "]\n"
          ]
        },
        {
          "output_type": "stream",
          "name": "stderr",
          "text": [
            " 99%|█████████▉| 288/290 [04:49<00:01,  1.01it/s, loss=0.0244]"
          ]
        },
        {
          "output_type": "stream",
          "name": "stdout",
          "text": [
            "*\n",
            "*\n",
            "*\n"
          ]
        },
        {
          "output_type": "stream",
          "name": "stderr",
          "text": [
            "100%|██████████| 290/290 [04:51<00:00,  1.00s/it, loss=0.0328]\n"
          ]
        },
        {
          "output_type": "stream",
          "name": "stdout",
          "text": [
            "checkpoint_ep43.pth.tar saved\n"
          ]
        },
        {
          "output_type": "stream",
          "name": "stderr",
          "text": [
            "  3%|▎         | 10/290 [00:10<04:42,  1.01s/it, loss=0.0303]"
          ]
        },
        {
          "output_type": "stream",
          "name": "stdout",
          "text": [
            "[\n"
          ]
        },
        {
          "output_type": "stream",
          "name": "stderr",
          "text": [
            "  4%|▍         | 11/290 [00:11<04:39,  1.00s/it, loss=0.0321]"
          ]
        },
        {
          "output_type": "stream",
          "name": "stdout",
          "text": [
            ">\n",
            ">\n"
          ]
        },
        {
          "output_type": "stream",
          "name": "stderr",
          "text": [
            "  4%|▍         | 12/290 [00:12<04:39,  1.01s/it, loss=0.0397]"
          ]
        },
        {
          "output_type": "stream",
          "name": "stdout",
          "text": [
            "*\n",
            "*\n",
            "*\n"
          ]
        },
        {
          "output_type": "stream",
          "name": "stderr",
          "text": [
            "  6%|▌         | 18/290 [00:18<04:31,  1.00it/s, loss=0.0211]"
          ]
        },
        {
          "output_type": "stream",
          "name": "stdout",
          "text": [
            ">\n",
            ">\n"
          ]
        },
        {
          "output_type": "stream",
          "name": "stderr",
          "text": [
            "  8%|▊         | 22/290 [00:22<04:32,  1.02s/it, loss=0.0312]"
          ]
        },
        {
          "output_type": "stream",
          "name": "stdout",
          "text": [
            "*\n",
            "*\n",
            "*\n"
          ]
        },
        {
          "output_type": "stream",
          "name": "stderr",
          "text": [
            " 10%|█         | 29/290 [00:29<04:20,  1.00it/s, loss=0.0355]"
          ]
        },
        {
          "output_type": "stream",
          "name": "stdout",
          "text": [
            ">\n"
          ]
        },
        {
          "output_type": "stream",
          "name": "stderr",
          "text": [
            " 21%|██        | 61/290 [01:01<03:54,  1.02s/it, loss=0.0174]"
          ]
        },
        {
          "output_type": "stream",
          "name": "stdout",
          "text": [
            "]\n"
          ]
        },
        {
          "output_type": "stream",
          "name": "stderr",
          "text": [
            " 22%|██▏       | 63/290 [01:04<04:04,  1.08s/it, loss=0.0395]"
          ]
        },
        {
          "output_type": "stream",
          "name": "stdout",
          "text": [
            "]\n",
            "[\n",
            "]\n"
          ]
        },
        {
          "output_type": "stream",
          "name": "stderr",
          "text": [
            " 24%|██▍       | 70/290 [01:11<03:48,  1.04s/it, loss=0.0217]"
          ]
        },
        {
          "output_type": "stream",
          "name": "stdout",
          "text": [
            "[\n"
          ]
        },
        {
          "output_type": "stream",
          "name": "stderr",
          "text": [
            " 25%|██▍       | 72/290 [01:13<03:48,  1.05s/it, loss=0.0212]"
          ]
        },
        {
          "output_type": "stream",
          "name": "stdout",
          "text": [
            "[\n",
            "]\n"
          ]
        },
        {
          "output_type": "stream",
          "name": "stderr",
          "text": [
            " 26%|██▌       | 75/290 [01:16<03:39,  1.02s/it, loss=0.0227]"
          ]
        },
        {
          "output_type": "stream",
          "name": "stdout",
          "text": [
            ">\n",
            ">\n"
          ]
        },
        {
          "output_type": "stream",
          "name": "stderr",
          "text": [
            " 39%|███▊      | 112/290 [01:53<03:02,  1.02s/it, loss=0.029]"
          ]
        },
        {
          "output_type": "stream",
          "name": "stdout",
          "text": [
            ">\n",
            ">\n",
            ">\n"
          ]
        },
        {
          "output_type": "stream",
          "name": "stderr",
          "text": [
            " 40%|████      | 117/290 [01:58<02:52,  1.01it/s, loss=0.0217]"
          ]
        },
        {
          "output_type": "stream",
          "name": "stdout",
          "text": [
            ">\n",
            ">\n"
          ]
        },
        {
          "output_type": "stream",
          "name": "stderr",
          "text": [
            " 42%|████▏     | 121/290 [02:02<02:53,  1.03s/it, loss=0.0223]"
          ]
        },
        {
          "output_type": "stream",
          "name": "stdout",
          "text": [
            ">\n"
          ]
        },
        {
          "output_type": "stream",
          "name": "stderr",
          "text": [
            " 43%|████▎     | 124/290 [02:06<02:52,  1.04s/it, loss=0.734]"
          ]
        },
        {
          "output_type": "stream",
          "name": "stdout",
          "text": [
            "]\n",
            "[\n",
            "]\n"
          ]
        },
        {
          "output_type": "stream",
          "name": "stderr",
          "text": [
            " 46%|████▌     | 132/290 [02:14<02:37,  1.00it/s, loss=0.523]"
          ]
        },
        {
          "output_type": "stream",
          "name": "stdout",
          "text": [
            ">\n",
            ">\n",
            "[\n",
            "]\n"
          ]
        },
        {
          "output_type": "stream",
          "name": "stderr",
          "text": [
            " 52%|█████▏    | 150/290 [02:32<02:19,  1.00it/s, loss=1.16]"
          ]
        },
        {
          "output_type": "stream",
          "name": "stdout",
          "text": [
            "*\n",
            "*\n",
            "*\n"
          ]
        },
        {
          "output_type": "stream",
          "name": "stderr",
          "text": [
            " 52%|█████▏    | 151/290 [02:33<02:22,  1.02s/it, loss=1.21]"
          ]
        },
        {
          "output_type": "stream",
          "name": "stdout",
          "text": [
            "[\n",
            "]\n"
          ]
        },
        {
          "output_type": "stream",
          "name": "stderr",
          "text": [
            " 59%|█████▉    | 171/290 [02:53<02:02,  1.03s/it, loss=0.556]"
          ]
        },
        {
          "output_type": "stream",
          "name": "stdout",
          "text": [
            "[\n"
          ]
        },
        {
          "output_type": "stream",
          "name": "stderr",
          "text": [
            " 63%|██████▎   | 184/290 [03:06<01:46,  1.01s/it, loss=0.404]"
          ]
        },
        {
          "output_type": "stream",
          "name": "stdout",
          "text": [
            ">\n",
            ">\n"
          ]
        },
        {
          "output_type": "stream",
          "name": "stderr",
          "text": [
            " 65%|██████▍   | 188/290 [03:10<01:40,  1.01it/s, loss=0.426]"
          ]
        },
        {
          "output_type": "stream",
          "name": "stdout",
          "text": [
            ">\n",
            ">\n"
          ]
        },
        {
          "output_type": "stream",
          "name": "stderr",
          "text": [
            " 66%|██████▌   | 191/290 [03:13<01:39,  1.00s/it, loss=0.357]"
          ]
        },
        {
          "output_type": "stream",
          "name": "stdout",
          "text": [
            ">\n",
            ">\n"
          ]
        },
        {
          "output_type": "stream",
          "name": "stderr",
          "text": [
            " 72%|███████▏  | 209/290 [03:31<01:20,  1.00it/s, loss=0.3]"
          ]
        },
        {
          "output_type": "stream",
          "name": "stdout",
          "text": [
            "[\n"
          ]
        },
        {
          "output_type": "stream",
          "name": "stderr",
          "text": [
            " 76%|███████▌  | 219/290 [03:41<01:10,  1.01it/s, loss=2.94]"
          ]
        },
        {
          "output_type": "stream",
          "name": "stdout",
          "text": [
            "[\n",
            "]\n"
          ]
        },
        {
          "output_type": "stream",
          "name": "stderr",
          "text": [
            " 76%|███████▌  | 221/290 [03:43<01:08,  1.01it/s, loss=2.84]"
          ]
        },
        {
          "output_type": "stream",
          "name": "stdout",
          "text": [
            "<\n"
          ]
        },
        {
          "output_type": "stream",
          "name": "stderr",
          "text": [
            " 81%|████████  | 234/290 [03:56<00:55,  1.01it/s, loss=1.48]"
          ]
        },
        {
          "output_type": "stream",
          "name": "stdout",
          "text": [
            "*\n",
            "*\n",
            "*\n"
          ]
        },
        {
          "output_type": "stream",
          "name": "stderr",
          "text": [
            " 90%|████████▉ | 260/290 [04:22<00:30,  1.01s/it, loss=1.25]"
          ]
        },
        {
          "output_type": "stream",
          "name": "stdout",
          "text": [
            "]\n"
          ]
        },
        {
          "output_type": "stream",
          "name": "stderr",
          "text": [
            " 92%|█████████▏| 266/290 [04:28<00:24,  1.00s/it, loss=1.16]"
          ]
        },
        {
          "output_type": "stream",
          "name": "stdout",
          "text": [
            ">\n",
            ">\n"
          ]
        },
        {
          "output_type": "stream",
          "name": "stderr",
          "text": [
            " 97%|█████████▋| 280/290 [04:42<00:10,  1.00s/it, loss=1.14]"
          ]
        },
        {
          "output_type": "stream",
          "name": "stdout",
          "text": [
            ">\n"
          ]
        },
        {
          "output_type": "stream",
          "name": "stderr",
          "text": [
            " 97%|█████████▋| 282/290 [04:44<00:07,  1.00it/s, loss=0.652]"
          ]
        },
        {
          "output_type": "stream",
          "name": "stdout",
          "text": [
            "<\n"
          ]
        },
        {
          "output_type": "stream",
          "name": "stderr",
          "text": [
            " 98%|█████████▊| 284/290 [04:46<00:06,  1.01s/it, loss=0.589]"
          ]
        },
        {
          "output_type": "stream",
          "name": "stdout",
          "text": [
            ">\n",
            ">\n"
          ]
        },
        {
          "output_type": "stream",
          "name": "stderr",
          "text": [
            "100%|██████████| 290/290 [04:52<00:00,  1.01s/it, loss=0.566]\n",
            "  9%|▉         | 27/290 [00:27<04:21,  1.01it/s, loss=1.22]"
          ]
        },
        {
          "output_type": "stream",
          "name": "stdout",
          "text": [
            ">\n"
          ]
        },
        {
          "output_type": "stream",
          "name": "stderr",
          "text": [
            " 10%|█         | 29/290 [00:29<04:19,  1.01it/s, loss=1.86]"
          ]
        },
        {
          "output_type": "stream",
          "name": "stdout",
          "text": [
            "<\n"
          ]
        },
        {
          "output_type": "stream",
          "name": "stderr",
          "text": [
            " 11%|█▏        | 33/290 [00:32<04:12,  1.02it/s, loss=0.789]"
          ]
        },
        {
          "output_type": "stream",
          "name": "stdout",
          "text": [
            ">\n"
          ]
        },
        {
          "output_type": "stream",
          "name": "stderr",
          "text": [
            " 12%|█▏        | 34/290 [00:33<04:18,  1.01s/it, loss=0.786]"
          ]
        },
        {
          "output_type": "stream",
          "name": "stdout",
          "text": [
            ">\n",
            ">\n"
          ]
        },
        {
          "output_type": "stream",
          "name": "stderr",
          "text": [
            " 18%|█▊        | 53/290 [00:53<04:01,  1.02s/it, loss=0.528]"
          ]
        },
        {
          "output_type": "stream",
          "name": "stdout",
          "text": [
            "]\n",
            "[\n",
            "]\n"
          ]
        },
        {
          "output_type": "stream",
          "name": "stderr",
          "text": [
            " 21%|██        | 61/290 [01:01<03:54,  1.03s/it, loss=0.506]"
          ]
        },
        {
          "output_type": "stream",
          "name": "stdout",
          "text": [
            "[\n",
            "]\n"
          ]
        },
        {
          "output_type": "stream",
          "name": "stderr",
          "text": [
            " 24%|██▍       | 70/290 [01:10<03:40,  1.00s/it, loss=0.516]"
          ]
        },
        {
          "output_type": "stream",
          "name": "stdout",
          "text": [
            ">\n",
            ">\n"
          ]
        },
        {
          "output_type": "stream",
          "name": "stderr",
          "text": [
            " 24%|██▍       | 71/290 [01:11<03:37,  1.01it/s, loss=0.51]"
          ]
        },
        {
          "output_type": "stream",
          "name": "stdout",
          "text": [
            "]\n"
          ]
        },
        {
          "output_type": "stream",
          "name": "stderr",
          "text": [
            " 25%|██▌       | 73/290 [01:13<03:34,  1.01it/s, loss=0.673]"
          ]
        },
        {
          "output_type": "stream",
          "name": "stdout",
          "text": [
            ">\n",
            ">\n"
          ]
        },
        {
          "output_type": "stream",
          "name": "stderr",
          "text": [
            " 27%|██▋       | 78/290 [01:18<03:35,  1.01s/it, loss=0.549]"
          ]
        },
        {
          "output_type": "stream",
          "name": "stdout",
          "text": [
            "*\n",
            "*\n",
            "*\n"
          ]
        },
        {
          "output_type": "stream",
          "name": "stderr",
          "text": [
            " 35%|███▍      | 101/290 [01:41<03:05,  1.02it/s, loss=0.595]"
          ]
        },
        {
          "output_type": "stream",
          "name": "stdout",
          "text": [
            ">\n",
            ">\n",
            ">\n"
          ]
        },
        {
          "output_type": "stream",
          "name": "stderr",
          "text": [
            " 44%|████▍     | 127/290 [02:07<02:41,  1.01it/s, loss=0.427]"
          ]
        },
        {
          "output_type": "stream",
          "name": "stdout",
          "text": [
            ">\n",
            ">\n"
          ]
        },
        {
          "output_type": "stream",
          "name": "stderr",
          "text": [
            " 47%|████▋     | 135/290 [02:15<02:38,  1.02s/it, loss=0.41]"
          ]
        },
        {
          "output_type": "stream",
          "name": "stdout",
          "text": [
            ">\n",
            ">\n"
          ]
        },
        {
          "output_type": "stream",
          "name": "stderr",
          "text": [
            " 51%|█████     | 148/290 [02:28<02:21,  1.00it/s, loss=0.311]"
          ]
        },
        {
          "output_type": "stream",
          "name": "stdout",
          "text": [
            "[\n",
            "]\n",
            ">\n"
          ]
        },
        {
          "output_type": "stream",
          "name": "stderr",
          "text": [
            " 52%|█████▏    | 150/290 [02:30<02:20,  1.00s/it, loss=0.336]"
          ]
        },
        {
          "output_type": "stream",
          "name": "stdout",
          "text": [
            ">\n",
            ">\n"
          ]
        },
        {
          "output_type": "stream",
          "name": "stderr",
          "text": [
            " 54%|█████▍    | 158/290 [02:38<02:12,  1.01s/it, loss=0.377]"
          ]
        },
        {
          "output_type": "stream",
          "name": "stdout",
          "text": [
            "[\n"
          ]
        },
        {
          "output_type": "stream",
          "name": "stderr",
          "text": [
            " 55%|█████▍    | 159/290 [02:39<02:10,  1.01it/s, loss=0.332]"
          ]
        },
        {
          "output_type": "stream",
          "name": "stdout",
          "text": [
            "[\n"
          ]
        },
        {
          "output_type": "stream",
          "name": "stderr",
          "text": [
            " 61%|██████    | 176/290 [02:57<01:56,  1.02s/it, loss=0.288]"
          ]
        },
        {
          "output_type": "stream",
          "name": "stdout",
          "text": [
            ">\n",
            ">\n"
          ]
        },
        {
          "output_type": "stream",
          "name": "stderr",
          "text": [
            " 62%|██████▏   | 179/290 [03:00<01:51,  1.00s/it, loss=0.252]"
          ]
        },
        {
          "output_type": "stream",
          "name": "stdout",
          "text": [
            "[\n",
            "]\n"
          ]
        },
        {
          "output_type": "stream",
          "name": "stderr",
          "text": [
            " 63%|██████▎   | 183/290 [03:04<01:47,  1.01s/it, loss=0.293]"
          ]
        },
        {
          "output_type": "stream",
          "name": "stdout",
          "text": [
            "]\n"
          ]
        },
        {
          "output_type": "stream",
          "name": "stderr",
          "text": [
            " 63%|██████▎   | 184/290 [03:05<01:46,  1.00s/it, loss=0.281]"
          ]
        },
        {
          "output_type": "stream",
          "name": "stdout",
          "text": [
            "*\n",
            "*\n",
            "*\n"
          ]
        },
        {
          "output_type": "stream",
          "name": "stderr",
          "text": [
            " 65%|██████▌   | 189/290 [03:10<01:39,  1.01it/s, loss=0.281]"
          ]
        },
        {
          "output_type": "stream",
          "name": "stdout",
          "text": [
            "*\n",
            "*\n",
            "*\n"
          ]
        },
        {
          "output_type": "stream",
          "name": "stderr",
          "text": [
            " 67%|██████▋   | 194/290 [03:15<01:36,  1.00s/it, loss=0.222]"
          ]
        },
        {
          "output_type": "stream",
          "name": "stdout",
          "text": [
            "*\n",
            "*\n",
            "*\n"
          ]
        },
        {
          "output_type": "stream",
          "name": "stderr",
          "text": [
            " 67%|██████▋   | 195/290 [03:16<01:36,  1.01s/it, loss=0.286]"
          ]
        },
        {
          "output_type": "stream",
          "name": "stdout",
          "text": [
            "]\n",
            "[\n",
            "]\n"
          ]
        },
        {
          "output_type": "stream",
          "name": "stderr",
          "text": [
            " 71%|███████   | 205/290 [03:26<01:25,  1.01s/it, loss=0.303]"
          ]
        },
        {
          "output_type": "stream",
          "name": "stdout",
          "text": [
            "[\n"
          ]
        },
        {
          "output_type": "stream",
          "name": "stderr",
          "text": [
            " 75%|███████▍  | 217/290 [03:38<01:14,  1.02s/it, loss=0.302]"
          ]
        },
        {
          "output_type": "stream",
          "name": "stdout",
          "text": [
            "<\n"
          ]
        },
        {
          "output_type": "stream",
          "name": "stderr",
          "text": [
            " 77%|███████▋  | 224/290 [03:45<01:05,  1.00it/s, loss=0.238]"
          ]
        },
        {
          "output_type": "stream",
          "name": "stdout",
          "text": [
            ">\n",
            ">\n"
          ]
        },
        {
          "output_type": "stream",
          "name": "stderr",
          "text": [
            " 78%|███████▊  | 226/290 [03:47<01:07,  1.05s/it, loss=0.355]"
          ]
        },
        {
          "output_type": "stream",
          "name": "stdout",
          "text": [
            ">\n",
            ">\n"
          ]
        },
        {
          "output_type": "stream",
          "name": "stderr",
          "text": [
            " 81%|████████  | 235/290 [03:56<00:54,  1.00it/s, loss=0.226]"
          ]
        },
        {
          "output_type": "stream",
          "name": "stdout",
          "text": [
            ">\n",
            ">\n"
          ]
        },
        {
          "output_type": "stream",
          "name": "stderr",
          "text": [
            " 93%|█████████▎| 271/290 [04:32<00:18,  1.00it/s, loss=1.65]"
          ]
        },
        {
          "output_type": "stream",
          "name": "stdout",
          "text": [
            "[\n"
          ]
        },
        {
          "output_type": "stream",
          "name": "stderr",
          "text": [
            " 98%|█████████▊| 283/290 [04:44<00:06,  1.02it/s, loss=0.799]"
          ]
        },
        {
          "output_type": "stream",
          "name": "stdout",
          "text": [
            "[\n",
            "]\n"
          ]
        },
        {
          "output_type": "stream",
          "name": "stderr",
          "text": [
            "100%|██████████| 290/290 [04:51<00:00,  1.01s/it, loss=0.605]\n"
          ]
        },
        {
          "output_type": "stream",
          "name": "stdout",
          "text": [
            "checkpoint_ep45.pth.tar saved\n"
          ]
        },
        {
          "output_type": "stream",
          "name": "stderr",
          "text": [
            "  3%|▎         | 10/290 [00:10<04:41,  1.01s/it, loss=0.497]"
          ]
        },
        {
          "output_type": "stream",
          "name": "stdout",
          "text": [
            "<\n"
          ]
        },
        {
          "output_type": "stream",
          "name": "stderr",
          "text": [
            "  8%|▊         | 22/290 [00:22<04:29,  1.01s/it, loss=0.434]"
          ]
        },
        {
          "output_type": "stream",
          "name": "stdout",
          "text": [
            "]\n"
          ]
        },
        {
          "output_type": "stream",
          "name": "stderr",
          "text": [
            " 12%|█▏        | 34/290 [00:34<04:23,  1.03s/it, loss=0.354]"
          ]
        },
        {
          "output_type": "stream",
          "name": "stdout",
          "text": [
            "*\n",
            "*\n",
            "*\n"
          ]
        },
        {
          "output_type": "stream",
          "name": "stderr",
          "text": [
            " 12%|█▏        | 35/290 [00:35<04:18,  1.02s/it, loss=0.381]"
          ]
        },
        {
          "output_type": "stream",
          "name": "stdout",
          "text": [
            "]\n",
            "[\n",
            "]\n"
          ]
        },
        {
          "output_type": "stream",
          "name": "stderr",
          "text": [
            " 13%|█▎        | 39/290 [00:39<04:09,  1.01it/s, loss=0.41]"
          ]
        },
        {
          "output_type": "stream",
          "name": "stdout",
          "text": [
            "[\n",
            "]\n"
          ]
        },
        {
          "output_type": "stream",
          "name": "stderr",
          "text": [
            " 15%|█▍        | 43/290 [00:43<04:04,  1.01it/s, loss=0.337]"
          ]
        },
        {
          "output_type": "stream",
          "name": "stdout",
          "text": [
            "*\n",
            "*\n",
            "*\n"
          ]
        },
        {
          "output_type": "stream",
          "name": "stderr",
          "text": [
            " 19%|█▉        | 55/290 [00:55<03:57,  1.01s/it, loss=0.312]"
          ]
        },
        {
          "output_type": "stream",
          "name": "stdout",
          "text": [
            ">\n"
          ]
        },
        {
          "output_type": "stream",
          "name": "stderr",
          "text": [
            " 23%|██▎       | 68/290 [01:08<03:46,  1.02s/it, loss=0.254]"
          ]
        },
        {
          "output_type": "stream",
          "name": "stdout",
          "text": [
            "[\n",
            "]\n"
          ]
        },
        {
          "output_type": "stream",
          "name": "stderr",
          "text": [
            " 24%|██▍       | 70/290 [01:10<03:46,  1.03s/it, loss=0.307]"
          ]
        },
        {
          "output_type": "stream",
          "name": "stdout",
          "text": [
            ">\n"
          ]
        },
        {
          "output_type": "stream",
          "name": "stderr",
          "text": [
            " 25%|██▌       | 73/290 [01:13<03:43,  1.03s/it, loss=0.307]"
          ]
        },
        {
          "output_type": "stream",
          "name": "stdout",
          "text": [
            "*\n",
            "*\n",
            "*\n"
          ]
        },
        {
          "output_type": "stream",
          "name": "stderr",
          "text": [
            " 27%|██▋       | 79/290 [01:20<03:33,  1.01s/it, loss=0.297]"
          ]
        },
        {
          "output_type": "stream",
          "name": "stdout",
          "text": [
            "[\n"
          ]
        },
        {
          "output_type": "stream",
          "name": "stderr",
          "text": [
            " 34%|███▍      | 99/290 [01:40<03:15,  1.02s/it, loss=0.276]"
          ]
        },
        {
          "output_type": "stream",
          "name": "stdout",
          "text": [
            "]\n",
            "[\n",
            "]\n"
          ]
        },
        {
          "output_type": "stream",
          "name": "stderr",
          "text": [
            " 36%|███▌      | 103/290 [01:44<03:12,  1.03s/it, loss=0.245]"
          ]
        },
        {
          "output_type": "stream",
          "name": "stdout",
          "text": [
            ">\n",
            ">\n"
          ]
        },
        {
          "output_type": "stream",
          "name": "stderr",
          "text": [
            " 38%|███▊      | 110/290 [01:51<03:03,  1.02s/it, loss=0.277]"
          ]
        },
        {
          "output_type": "stream",
          "name": "stdout",
          "text": [
            ">\n",
            ">\n"
          ]
        },
        {
          "output_type": "stream",
          "name": "stderr",
          "text": [
            " 43%|████▎     | 126/290 [02:07<02:44,  1.01s/it, loss=0.223]"
          ]
        },
        {
          "output_type": "stream",
          "name": "stdout",
          "text": [
            ">\n",
            ">\n"
          ]
        },
        {
          "output_type": "stream",
          "name": "stderr",
          "text": [
            " 44%|████▍     | 128/290 [02:09<02:42,  1.00s/it, loss=0.282]"
          ]
        },
        {
          "output_type": "stream",
          "name": "stdout",
          "text": [
            ">\n",
            ">\n",
            ">\n"
          ]
        },
        {
          "output_type": "stream",
          "name": "stderr",
          "text": [
            " 63%|██████▎   | 184/290 [03:06<01:48,  1.03s/it, loss=0.211]"
          ]
        },
        {
          "output_type": "stream",
          "name": "stdout",
          "text": [
            ">\n",
            ">\n"
          ]
        },
        {
          "output_type": "stream",
          "name": "stderr",
          "text": [
            " 67%|██████▋   | 195/290 [03:17<01:34,  1.01it/s, loss=0.261]"
          ]
        },
        {
          "output_type": "stream",
          "name": "stdout",
          "text": [
            "<\n"
          ]
        },
        {
          "output_type": "stream",
          "name": "stderr",
          "text": [
            " 68%|██████▊   | 198/290 [03:20<01:31,  1.01it/s, loss=0.204]"
          ]
        },
        {
          "output_type": "stream",
          "name": "stdout",
          "text": [
            ">\n"
          ]
        },
        {
          "output_type": "stream",
          "name": "stderr",
          "text": [
            " 69%|██████▉   | 201/290 [03:23<01:31,  1.03s/it, loss=0.21]"
          ]
        },
        {
          "output_type": "stream",
          "name": "stdout",
          "text": [
            ">\n",
            ">\n"
          ]
        },
        {
          "output_type": "stream",
          "name": "stderr",
          "text": [
            " 72%|███████▏  | 208/290 [03:30<01:23,  1.01s/it, loss=0.186]"
          ]
        },
        {
          "output_type": "stream",
          "name": "stdout",
          "text": [
            "*\n",
            "*\n",
            "*\n"
          ]
        },
        {
          "output_type": "stream",
          "name": "stderr",
          "text": [
            " 72%|███████▏  | 210/290 [03:32<01:23,  1.04s/it, loss=0.189]"
          ]
        },
        {
          "output_type": "stream",
          "name": "stdout",
          "text": [
            "[\n",
            "]\n",
            ">\n",
            ">\n"
          ]
        },
        {
          "output_type": "stream",
          "name": "stderr",
          "text": [
            " 75%|███████▌  | 218/290 [03:40<01:11,  1.00it/s, loss=0.233]"
          ]
        },
        {
          "output_type": "stream",
          "name": "stdout",
          "text": [
            "[\n",
            "[\n"
          ]
        },
        {
          "output_type": "stream",
          "name": "stderr",
          "text": [
            " 79%|███████▊  | 228/290 [03:50<01:00,  1.02it/s, loss=0.218]"
          ]
        },
        {
          "output_type": "stream",
          "name": "stdout",
          "text": [
            "[\n",
            "]\n"
          ]
        },
        {
          "output_type": "stream",
          "name": "stderr",
          "text": [
            " 84%|████████▍ | 245/290 [04:07<00:45,  1.00s/it, loss=0.21]"
          ]
        },
        {
          "output_type": "stream",
          "name": "stdout",
          "text": [
            ">\n",
            ">\n"
          ]
        },
        {
          "output_type": "stream",
          "name": "stderr",
          "text": [
            " 86%|████████▌ | 249/290 [04:11<00:40,  1.02it/s, loss=0.223]"
          ]
        },
        {
          "output_type": "stream",
          "name": "stdout",
          "text": [
            ">\n",
            ">\n"
          ]
        },
        {
          "output_type": "stream",
          "name": "stderr",
          "text": [
            " 89%|████████▊ | 257/290 [04:19<00:32,  1.00it/s, loss=0.24]"
          ]
        },
        {
          "output_type": "stream",
          "name": "stdout",
          "text": [
            ">\n",
            ">\n"
          ]
        },
        {
          "output_type": "stream",
          "name": "stderr",
          "text": [
            " 89%|████████▉ | 258/290 [04:20<00:32,  1.01s/it, loss=0.218]"
          ]
        },
        {
          "output_type": "stream",
          "name": "stdout",
          "text": [
            ">\n",
            ">\n"
          ]
        },
        {
          "output_type": "stream",
          "name": "stderr",
          "text": [
            " 89%|████████▉ | 259/290 [04:21<00:31,  1.01s/it, loss=0.182]"
          ]
        },
        {
          "output_type": "stream",
          "name": "stdout",
          "text": [
            "[\n"
          ]
        },
        {
          "output_type": "stream",
          "name": "stderr",
          "text": [
            " 97%|█████████▋| 280/290 [04:43<00:10,  1.01s/it, loss=0.202]"
          ]
        },
        {
          "output_type": "stream",
          "name": "stdout",
          "text": [
            "]\n"
          ]
        },
        {
          "output_type": "stream",
          "name": "stderr",
          "text": [
            "100%|██████████| 290/290 [04:53<00:00,  1.01s/it, loss=0.19]\n",
            "  1%|▏         | 4/290 [00:03<04:40,  1.02it/s, loss=0.198]"
          ]
        },
        {
          "output_type": "stream",
          "name": "stdout",
          "text": [
            "*\n",
            "*\n",
            "*\n"
          ]
        },
        {
          "output_type": "stream",
          "name": "stderr",
          "text": [
            "  5%|▍         | 14/290 [00:14<04:37,  1.01s/it, loss=0.221]"
          ]
        },
        {
          "output_type": "stream",
          "name": "stdout",
          "text": [
            ">\n",
            ">\n"
          ]
        },
        {
          "output_type": "stream",
          "name": "stderr",
          "text": [
            "  6%|▌         | 17/290 [00:17<04:34,  1.01s/it, loss=0.173]"
          ]
        },
        {
          "output_type": "stream",
          "name": "stdout",
          "text": [
            ">\n",
            ">\n"
          ]
        },
        {
          "output_type": "stream",
          "name": "stderr",
          "text": [
            " 11%|█         | 31/290 [00:31<04:29,  1.04s/it, loss=0.161]"
          ]
        },
        {
          "output_type": "stream",
          "name": "stdout",
          "text": [
            "]\n",
            "[\n",
            "]\n"
          ]
        },
        {
          "output_type": "stream",
          "name": "stderr",
          "text": [
            " 16%|█▌        | 47/290 [00:47<04:05,  1.01s/it, loss=0.196]"
          ]
        },
        {
          "output_type": "stream",
          "name": "stdout",
          "text": [
            ">\n"
          ]
        },
        {
          "output_type": "stream",
          "name": "stderr",
          "text": [
            " 17%|█▋        | 48/290 [00:48<04:04,  1.01s/it, loss=0.192]"
          ]
        },
        {
          "output_type": "stream",
          "name": "stdout",
          "text": [
            "]\n"
          ]
        },
        {
          "output_type": "stream",
          "name": "stderr",
          "text": [
            " 19%|█▉        | 56/290 [00:56<03:56,  1.01s/it, loss=0.14]"
          ]
        },
        {
          "output_type": "stream",
          "name": "stdout",
          "text": [
            "[\n"
          ]
        },
        {
          "output_type": "stream",
          "name": "stderr",
          "text": [
            " 27%|██▋       | 78/290 [01:18<03:31,  1.00it/s, loss=0.182]"
          ]
        },
        {
          "output_type": "stream",
          "name": "stdout",
          "text": [
            "<\n"
          ]
        },
        {
          "output_type": "stream",
          "name": "stderr",
          "text": [
            " 28%|██▊       | 81/290 [01:21<03:31,  1.01s/it, loss=0.182]"
          ]
        },
        {
          "output_type": "stream",
          "name": "stdout",
          "text": [
            ">\n",
            ">\n"
          ]
        },
        {
          "output_type": "stream",
          "name": "stderr",
          "text": [
            " 32%|███▏      | 93/290 [01:33<03:16,  1.00it/s, loss=0.159]"
          ]
        },
        {
          "output_type": "stream",
          "name": "stdout",
          "text": [
            ">\n",
            ">\n"
          ]
        },
        {
          "output_type": "stream",
          "name": "stderr",
          "text": [
            " 33%|███▎      | 95/290 [01:35<03:15,  1.00s/it, loss=0.186]"
          ]
        },
        {
          "output_type": "stream",
          "name": "stdout",
          "text": [
            "[\n",
            "]\n"
          ]
        },
        {
          "output_type": "stream",
          "name": "stderr",
          "text": [
            " 34%|███▍      | 100/290 [01:40<03:17,  1.04s/it, loss=0.132]"
          ]
        },
        {
          "output_type": "stream",
          "name": "stdout",
          "text": [
            "[\n",
            "]\n"
          ]
        },
        {
          "output_type": "stream",
          "name": "stderr",
          "text": [
            " 35%|███▌      | 102/290 [01:43<03:13,  1.03s/it, loss=0.184]"
          ]
        },
        {
          "output_type": "stream",
          "name": "stdout",
          "text": [
            "[\n"
          ]
        },
        {
          "output_type": "stream",
          "name": "stderr",
          "text": [
            " 36%|███▌      | 105/290 [01:46<03:07,  1.01s/it, loss=0.175]"
          ]
        },
        {
          "output_type": "stream",
          "name": "stdout",
          "text": [
            "<\n"
          ]
        },
        {
          "output_type": "stream",
          "name": "stderr",
          "text": [
            " 48%|████▊     | 139/290 [02:20<02:30,  1.00it/s, loss=0.167]"
          ]
        },
        {
          "output_type": "stream",
          "name": "stdout",
          "text": [
            ">\n",
            ">\n",
            "[\n",
            "]\n"
          ]
        },
        {
          "output_type": "stream",
          "name": "stderr",
          "text": [
            " 51%|█████     | 147/290 [02:28<02:22,  1.01it/s, loss=0.135]"
          ]
        },
        {
          "output_type": "stream",
          "name": "stdout",
          "text": [
            "[\n"
          ]
        },
        {
          "output_type": "stream",
          "name": "stderr",
          "text": [
            " 60%|██████    | 174/290 [02:55<01:56,  1.00s/it, loss=0.19]"
          ]
        },
        {
          "output_type": "stream",
          "name": "stdout",
          "text": [
            ">\n",
            ">\n"
          ]
        },
        {
          "output_type": "stream",
          "name": "stderr",
          "text": [
            " 64%|██████▍   | 187/290 [03:09<01:47,  1.05s/it, loss=0.198]"
          ]
        },
        {
          "output_type": "stream",
          "name": "stdout",
          "text": [
            "[\n"
          ]
        },
        {
          "output_type": "stream",
          "name": "stderr",
          "text": [
            " 65%|██████▌   | 189/290 [03:11<01:43,  1.02s/it, loss=0.161]"
          ]
        },
        {
          "output_type": "stream",
          "name": "stdout",
          "text": [
            "*\n",
            "*\n",
            "*\n"
          ]
        },
        {
          "output_type": "stream",
          "name": "stderr",
          "text": [
            " 66%|██████▌   | 190/290 [03:12<01:42,  1.03s/it, loss=0.148]"
          ]
        },
        {
          "output_type": "stream",
          "name": "stdout",
          "text": [
            ">\n",
            ">\n"
          ]
        },
        {
          "output_type": "stream",
          "name": "stderr",
          "text": [
            " 68%|██████▊   | 198/290 [03:20<01:32,  1.00s/it, loss=0.162]"
          ]
        },
        {
          "output_type": "stream",
          "name": "stdout",
          "text": [
            ">\n",
            ">\n",
            ">\n"
          ]
        },
        {
          "output_type": "stream",
          "name": "stderr",
          "text": [
            " 70%|██████▉   | 202/290 [03:24<01:27,  1.00it/s, loss=0.148]"
          ]
        },
        {
          "output_type": "stream",
          "name": "stdout",
          "text": [
            "]\n",
            "[\n",
            "]\n"
          ]
        },
        {
          "output_type": "stream",
          "name": "stderr",
          "text": [
            " 71%|███████   | 205/290 [03:27<01:23,  1.02it/s, loss=0.145]"
          ]
        },
        {
          "output_type": "stream",
          "name": "stdout",
          "text": [
            ">\n"
          ]
        },
        {
          "output_type": "stream",
          "name": "stderr",
          "text": [
            " 73%|███████▎  | 211/290 [03:33<01:20,  1.02s/it, loss=0.136]"
          ]
        },
        {
          "output_type": "stream",
          "name": "stdout",
          "text": [
            ">\n",
            ">\n"
          ]
        },
        {
          "output_type": "stream",
          "name": "stderr",
          "text": [
            " 73%|███████▎  | 213/290 [03:35<01:16,  1.00it/s, loss=0.146]"
          ]
        },
        {
          "output_type": "stream",
          "name": "stdout",
          "text": [
            "*\n",
            "*\n",
            "*\n"
          ]
        },
        {
          "output_type": "stream",
          "name": "stderr",
          "text": [
            " 77%|███████▋  | 224/290 [03:46<01:07,  1.02s/it, loss=0.142]"
          ]
        },
        {
          "output_type": "stream",
          "name": "stdout",
          "text": [
            ">\n",
            ">\n"
          ]
        },
        {
          "output_type": "stream",
          "name": "stderr",
          "text": [
            " 78%|███████▊  | 225/290 [03:47<01:05,  1.01s/it, loss=0.126]"
          ]
        },
        {
          "output_type": "stream",
          "name": "stdout",
          "text": [
            ">\n"
          ]
        },
        {
          "output_type": "stream",
          "name": "stderr",
          "text": [
            " 79%|███████▉  | 229/290 [03:51<01:00,  1.00it/s, loss=0.141]"
          ]
        },
        {
          "output_type": "stream",
          "name": "stdout",
          "text": [
            "*\n",
            "*\n",
            "*\n"
          ]
        },
        {
          "output_type": "stream",
          "name": "stderr",
          "text": [
            " 85%|████████▌ | 247/290 [04:09<00:42,  1.01it/s, loss=0.17]"
          ]
        },
        {
          "output_type": "stream",
          "name": "stdout",
          "text": [
            ">\n",
            ">\n"
          ]
        },
        {
          "output_type": "stream",
          "name": "stderr",
          "text": [
            " 94%|█████████▍| 273/290 [04:35<00:17,  1.01s/it, loss=0.143]"
          ]
        },
        {
          "output_type": "stream",
          "name": "stdout",
          "text": [
            "[\n",
            "]\n"
          ]
        },
        {
          "output_type": "stream",
          "name": "stderr",
          "text": [
            " 98%|█████████▊| 284/290 [04:46<00:06,  1.00s/it, loss=0.137]"
          ]
        },
        {
          "output_type": "stream",
          "name": "stdout",
          "text": [
            "]\n"
          ]
        },
        {
          "output_type": "stream",
          "name": "stderr",
          "text": [
            "100%|██████████| 290/290 [04:52<00:00,  1.01s/it, loss=0.139]\n"
          ]
        },
        {
          "output_type": "stream",
          "name": "stdout",
          "text": [
            "checkpoint_ep47.pth.tar saved\n"
          ]
        },
        {
          "output_type": "stream",
          "name": "stderr",
          "text": [
            "  2%|▏         | 5/290 [00:04<04:45,  1.00s/it, loss=0.151]"
          ]
        },
        {
          "output_type": "stream",
          "name": "stdout",
          "text": [
            "]\n",
            "[\n",
            "]\n"
          ]
        },
        {
          "output_type": "stream",
          "name": "stderr",
          "text": [
            "  6%|▌         | 16/290 [00:16<04:37,  1.01s/it, loss=0.174]"
          ]
        },
        {
          "output_type": "stream",
          "name": "stdout",
          "text": [
            "*\n",
            "*\n",
            "*\n"
          ]
        },
        {
          "output_type": "stream",
          "name": "stderr",
          "text": [
            "  6%|▌         | 17/290 [00:17<04:38,  1.02s/it, loss=0.124]"
          ]
        },
        {
          "output_type": "stream",
          "name": "stdout",
          "text": [
            ">\n",
            ">\n"
          ]
        },
        {
          "output_type": "stream",
          "name": "stderr",
          "text": [
            "  6%|▌         | 18/290 [00:18<04:36,  1.02s/it, loss=0.149]"
          ]
        },
        {
          "output_type": "stream",
          "name": "stdout",
          "text": [
            "<\n"
          ]
        },
        {
          "output_type": "stream",
          "name": "stderr",
          "text": [
            " 11%|█         | 31/290 [00:31<04:26,  1.03s/it, loss=0.115]"
          ]
        },
        {
          "output_type": "stream",
          "name": "stdout",
          "text": [
            "<\n"
          ]
        },
        {
          "output_type": "stream",
          "name": "stderr",
          "text": [
            " 13%|█▎        | 38/290 [00:38<04:13,  1.01s/it, loss=0.136]"
          ]
        },
        {
          "output_type": "stream",
          "name": "stdout",
          "text": [
            ">\n",
            ">\n"
          ]
        },
        {
          "output_type": "stream",
          "name": "stderr",
          "text": [
            " 14%|█▍        | 41/290 [00:41<04:07,  1.00it/s, loss=0.142]"
          ]
        },
        {
          "output_type": "stream",
          "name": "stdout",
          "text": [
            "[\n"
          ]
        },
        {
          "output_type": "stream",
          "name": "stderr",
          "text": [
            " 15%|█▍        | 43/290 [00:43<04:09,  1.01s/it, loss=0.157]"
          ]
        },
        {
          "output_type": "stream",
          "name": "stdout",
          "text": [
            ">\n",
            ">\n"
          ]
        },
        {
          "output_type": "stream",
          "name": "stderr",
          "text": [
            " 19%|█▉        | 56/290 [00:56<03:59,  1.02s/it, loss=0.141]"
          ]
        },
        {
          "output_type": "stream",
          "name": "stdout",
          "text": [
            ">\n"
          ]
        },
        {
          "output_type": "stream",
          "name": "stderr",
          "text": [
            " 23%|██▎       | 66/290 [01:06<03:44,  1.00s/it, loss=0.118]"
          ]
        },
        {
          "output_type": "stream",
          "name": "stdout",
          "text": [
            ">\n",
            ">\n",
            ">\n"
          ]
        },
        {
          "output_type": "stream",
          "name": "stderr",
          "text": [
            " 24%|██▍       | 69/290 [01:09<03:44,  1.02s/it, loss=0.131]"
          ]
        },
        {
          "output_type": "stream",
          "name": "stdout",
          "text": [
            ">\n",
            ">\n"
          ]
        },
        {
          "output_type": "stream",
          "name": "stderr",
          "text": [
            " 37%|███▋      | 106/290 [01:49<03:40,  1.20s/it, loss=0.166]"
          ]
        },
        {
          "output_type": "stream",
          "name": "stdout",
          "text": [
            ">\n",
            ">\n"
          ]
        },
        {
          "output_type": "stream",
          "name": "stderr",
          "text": [
            " 39%|███▉      | 114/290 [01:57<02:58,  1.01s/it, loss=0.155]"
          ]
        },
        {
          "output_type": "stream",
          "name": "stdout",
          "text": [
            ">\n",
            ">\n"
          ]
        },
        {
          "output_type": "stream",
          "name": "stderr",
          "text": [
            " 40%|████      | 117/290 [02:00<02:55,  1.01s/it, loss=0.138]"
          ]
        },
        {
          "output_type": "stream",
          "name": "stdout",
          "text": [
            "[\n"
          ]
        },
        {
          "output_type": "stream",
          "name": "stderr",
          "text": [
            " 41%|████      | 119/290 [02:02<02:51,  1.00s/it, loss=0.123]"
          ]
        },
        {
          "output_type": "stream",
          "name": "stdout",
          "text": [
            "[\n",
            "]\n"
          ]
        },
        {
          "output_type": "stream",
          "name": "stderr",
          "text": [
            " 47%|████▋     | 135/290 [02:19<02:42,  1.05s/it, loss=0.137]"
          ]
        },
        {
          "output_type": "stream",
          "name": "stdout",
          "text": [
            "*\n",
            "*\n",
            "*\n"
          ]
        },
        {
          "output_type": "stream",
          "name": "stderr",
          "text": [
            " 48%|████▊     | 138/290 [02:22<02:37,  1.04s/it, loss=0.121]"
          ]
        },
        {
          "output_type": "stream",
          "name": "stdout",
          "text": [
            "*\n",
            "*\n",
            "*\n"
          ]
        },
        {
          "output_type": "stream",
          "name": "stderr",
          "text": [
            " 53%|█████▎    | 154/290 [02:38<02:15,  1.00it/s, loss=0.121]"
          ]
        },
        {
          "output_type": "stream",
          "name": "stdout",
          "text": [
            "[\n",
            "]\n"
          ]
        },
        {
          "output_type": "stream",
          "name": "stderr",
          "text": [
            " 61%|██████    | 176/290 [03:00<01:52,  1.01it/s, loss=0.113]"
          ]
        },
        {
          "output_type": "stream",
          "name": "stdout",
          "text": [
            ">\n",
            ">\n"
          ]
        },
        {
          "output_type": "stream",
          "name": "stderr",
          "text": [
            " 61%|██████    | 177/290 [03:01<01:52,  1.00it/s, loss=0.118]"
          ]
        },
        {
          "output_type": "stream",
          "name": "stdout",
          "text": [
            "[\n",
            "]\n"
          ]
        },
        {
          "output_type": "stream",
          "name": "stderr",
          "text": [
            " 63%|██████▎   | 183/290 [03:07<01:48,  1.01s/it, loss=0.132]"
          ]
        },
        {
          "output_type": "stream",
          "name": "stdout",
          "text": [
            "]\n"
          ]
        },
        {
          "output_type": "stream",
          "name": "stderr",
          "text": [
            " 65%|██████▍   | 188/290 [03:12<01:42,  1.01s/it, loss=0.118]"
          ]
        },
        {
          "output_type": "stream",
          "name": "stdout",
          "text": [
            ">\n",
            ">\n",
            ">\n"
          ]
        },
        {
          "output_type": "stream",
          "name": "stderr",
          "text": [
            " 68%|██████▊   | 197/290 [03:21<01:32,  1.01it/s, loss=0.129]"
          ]
        },
        {
          "output_type": "stream",
          "name": "stdout",
          "text": [
            "[\n",
            "]\n"
          ]
        },
        {
          "output_type": "stream",
          "name": "stderr",
          "text": [
            " 75%|███████▍  | 217/290 [03:41<01:13,  1.01s/it, loss=0.1]"
          ]
        },
        {
          "output_type": "stream",
          "name": "stdout",
          "text": [
            ">\n"
          ]
        },
        {
          "output_type": "stream",
          "name": "stderr",
          "text": [
            " 79%|███████▊  | 228/290 [03:52<01:02,  1.00s/it, loss=0.127]"
          ]
        },
        {
          "output_type": "stream",
          "name": "stdout",
          "text": [
            "[\n"
          ]
        },
        {
          "output_type": "stream",
          "name": "stderr",
          "text": [
            " 83%|████████▎ | 240/290 [04:05<00:50,  1.00s/it, loss=0.139]"
          ]
        },
        {
          "output_type": "stream",
          "name": "stdout",
          "text": [
            "]\n"
          ]
        },
        {
          "output_type": "stream",
          "name": "stderr",
          "text": [
            " 83%|████████▎ | 242/290 [04:06<00:48,  1.00s/it, loss=0.0988]"
          ]
        },
        {
          "output_type": "stream",
          "name": "stdout",
          "text": [
            ">\n",
            ">\n"
          ]
        },
        {
          "output_type": "stream",
          "name": "stderr",
          "text": [
            " 86%|████████▌ | 250/290 [04:14<00:39,  1.01it/s, loss=0.122]"
          ]
        },
        {
          "output_type": "stream",
          "name": "stdout",
          "text": [
            "[\n"
          ]
        },
        {
          "output_type": "stream",
          "name": "stderr",
          "text": [
            " 96%|█████████▌| 277/290 [04:42<00:12,  1.01it/s, loss=0.106]"
          ]
        },
        {
          "output_type": "stream",
          "name": "stdout",
          "text": [
            "]\n",
            "[\n",
            "]\n"
          ]
        },
        {
          "output_type": "stream",
          "name": "stderr",
          "text": [
            " 97%|█████████▋| 282/290 [04:47<00:08,  1.00s/it, loss=0.13]"
          ]
        },
        {
          "output_type": "stream",
          "name": "stdout",
          "text": [
            "*\n",
            "*\n",
            "*\n",
            ">\n",
            ">\n"
          ]
        },
        {
          "output_type": "stream",
          "name": "stderr",
          "text": [
            "100%|██████████| 290/290 [04:54<00:00,  1.02s/it, loss=0.121]\n",
            "  3%|▎         | 9/290 [00:09<04:44,  1.01s/it, loss=0.0875]"
          ]
        },
        {
          "output_type": "stream",
          "name": "stdout",
          "text": [
            ">\n",
            ">\n"
          ]
        },
        {
          "output_type": "stream",
          "name": "stderr",
          "text": [
            "  4%|▍         | 12/290 [00:12<04:44,  1.02s/it, loss=0.105]"
          ]
        },
        {
          "output_type": "stream",
          "name": "stdout",
          "text": [
            ">\n",
            ">\n"
          ]
        },
        {
          "output_type": "stream",
          "name": "stderr",
          "text": [
            "  9%|▉         | 26/290 [00:26<04:24,  1.00s/it, loss=0.0995]"
          ]
        },
        {
          "output_type": "stream",
          "name": "stdout",
          "text": [
            "[\n",
            "]\n"
          ]
        },
        {
          "output_type": "stream",
          "name": "stderr",
          "text": [
            " 14%|█▍        | 42/290 [00:42<04:04,  1.02it/s, loss=0.102]"
          ]
        },
        {
          "output_type": "stream",
          "name": "stdout",
          "text": [
            "]\n"
          ]
        },
        {
          "output_type": "stream",
          "name": "stderr",
          "text": [
            " 17%|█▋        | 48/290 [00:48<04:10,  1.03s/it, loss=0.114]"
          ]
        },
        {
          "output_type": "stream",
          "name": "stdout",
          "text": [
            "*\n",
            "*\n",
            "*\n"
          ]
        },
        {
          "output_type": "stream",
          "name": "stderr",
          "text": [
            " 18%|█▊        | 51/290 [00:51<04:00,  1.01s/it, loss=0.114]"
          ]
        },
        {
          "output_type": "stream",
          "name": "stdout",
          "text": [
            "<\n"
          ]
        },
        {
          "output_type": "stream",
          "name": "stderr",
          "text": [
            " 26%|██▌       | 74/290 [01:14<03:39,  1.01s/it, loss=0.1]"
          ]
        },
        {
          "output_type": "stream",
          "name": "stdout",
          "text": [
            ">\n",
            ">\n"
          ]
        },
        {
          "output_type": "stream",
          "name": "stderr",
          "text": [
            " 26%|██▌       | 76/290 [01:16<03:43,  1.04s/it, loss=0.121]"
          ]
        },
        {
          "output_type": "stream",
          "name": "stdout",
          "text": [
            ">\n",
            ">\n"
          ]
        },
        {
          "output_type": "stream",
          "name": "stderr",
          "text": [
            " 27%|██▋       | 79/290 [01:19<03:32,  1.01s/it, loss=0.0916]"
          ]
        },
        {
          "output_type": "stream",
          "name": "stdout",
          "text": [
            "[\n"
          ]
        },
        {
          "output_type": "stream",
          "name": "stderr",
          "text": [
            " 28%|██▊       | 81/290 [01:21<03:35,  1.03s/it, loss=0.0925]"
          ]
        },
        {
          "output_type": "stream",
          "name": "stdout",
          "text": [
            "[\n",
            "]\n"
          ]
        },
        {
          "output_type": "stream",
          "name": "stderr",
          "text": [
            " 30%|██▉       | 86/290 [01:26<03:25,  1.01s/it, loss=0.1]"
          ]
        },
        {
          "output_type": "stream",
          "name": "stdout",
          "text": [
            "[\n"
          ]
        },
        {
          "output_type": "stream",
          "name": "stderr",
          "text": [
            " 34%|███▍      | 98/290 [01:39<03:14,  1.01s/it, loss=0.115]"
          ]
        },
        {
          "output_type": "stream",
          "name": "stdout",
          "text": [
            ">\n",
            ">\n"
          ]
        },
        {
          "output_type": "stream",
          "name": "stderr",
          "text": [
            " 38%|███▊      | 111/290 [01:52<02:59,  1.00s/it, loss=0.119]"
          ]
        },
        {
          "output_type": "stream",
          "name": "stdout",
          "text": [
            "*\n",
            "*\n",
            "*\n"
          ]
        },
        {
          "output_type": "stream",
          "name": "stderr",
          "text": [
            " 40%|████      | 117/290 [01:58<02:52,  1.00it/s, loss=0.102]"
          ]
        },
        {
          "output_type": "stream",
          "name": "stdout",
          "text": [
            ">\n"
          ]
        },
        {
          "output_type": "stream",
          "name": "stderr",
          "text": [
            " 41%|████▏     | 120/290 [02:01<02:47,  1.02it/s, loss=0.13]"
          ]
        },
        {
          "output_type": "stream",
          "name": "stdout",
          "text": [
            "[\n"
          ]
        },
        {
          "output_type": "stream",
          "name": "stderr",
          "text": [
            " 44%|████▍     | 128/290 [02:09<02:41,  1.01it/s, loss=0.124]"
          ]
        },
        {
          "output_type": "stream",
          "name": "stdout",
          "text": [
            "]\n",
            "[\n",
            "]\n"
          ]
        },
        {
          "output_type": "stream",
          "name": "stderr",
          "text": [
            " 52%|█████▏    | 152/290 [02:33<02:20,  1.02s/it, loss=0.114]"
          ]
        },
        {
          "output_type": "stream",
          "name": "stdout",
          "text": [
            "[\n",
            "]\n"
          ]
        },
        {
          "output_type": "stream",
          "name": "stderr",
          "text": [
            " 57%|█████▋    | 166/290 [02:47<02:04,  1.00s/it, loss=0.0772]"
          ]
        },
        {
          "output_type": "stream",
          "name": "stdout",
          "text": [
            "[\n"
          ]
        },
        {
          "output_type": "stream",
          "name": "stderr",
          "text": [
            " 60%|█████▉    | 173/290 [02:54<01:55,  1.01it/s, loss=0.111]"
          ]
        },
        {
          "output_type": "stream",
          "name": "stdout",
          "text": [
            ">\n",
            ">\n"
          ]
        },
        {
          "output_type": "stream",
          "name": "stderr",
          "text": [
            " 60%|██████    | 174/290 [02:55<01:55,  1.00it/s, loss=0.0854]"
          ]
        },
        {
          "output_type": "stream",
          "name": "stdout",
          "text": [
            "]\n"
          ]
        },
        {
          "output_type": "stream",
          "name": "stderr",
          "text": [
            " 61%|██████    | 177/290 [02:58<01:52,  1.01it/s, loss=0.0929]"
          ]
        },
        {
          "output_type": "stream",
          "name": "stdout",
          "text": [
            "<\n"
          ]
        },
        {
          "output_type": "stream",
          "name": "stderr",
          "text": [
            " 64%|██████▍   | 185/290 [03:06<01:48,  1.03s/it, loss=0.0722]"
          ]
        },
        {
          "output_type": "stream",
          "name": "stdout",
          "text": [
            "[\n",
            "]\n"
          ]
        },
        {
          "output_type": "stream",
          "name": "stderr",
          "text": [
            " 69%|██████▊   | 199/290 [03:20<01:33,  1.03s/it, loss=0.0979]"
          ]
        },
        {
          "output_type": "stream",
          "name": "stdout",
          "text": [
            "*\n",
            "*\n",
            "*\n"
          ]
        },
        {
          "output_type": "stream",
          "name": "stderr",
          "text": [
            " 71%|███████   | 206/290 [03:28<01:25,  1.02s/it, loss=0.131]"
          ]
        },
        {
          "output_type": "stream",
          "name": "stdout",
          "text": [
            ">\n",
            ">\n"
          ]
        },
        {
          "output_type": "stream",
          "name": "stderr",
          "text": [
            " 76%|███████▌  | 220/290 [03:42<01:09,  1.01it/s, loss=0.0709]"
          ]
        },
        {
          "output_type": "stream",
          "name": "stdout",
          "text": [
            ">\n",
            ">\n",
            ">\n"
          ]
        },
        {
          "output_type": "stream",
          "name": "stderr",
          "text": [
            " 84%|████████▍ | 243/290 [04:05<00:47,  1.00s/it, loss=0.0986]"
          ]
        },
        {
          "output_type": "stream",
          "name": "stdout",
          "text": [
            "]\n",
            "[\n",
            "]\n"
          ]
        },
        {
          "output_type": "stream",
          "name": "stderr",
          "text": [
            " 86%|████████▌ | 248/290 [04:10<00:42,  1.02s/it, loss=0.0405]"
          ]
        },
        {
          "output_type": "stream",
          "name": "stdout",
          "text": [
            ">\n",
            ">\n"
          ]
        },
        {
          "output_type": "stream",
          "name": "stderr",
          "text": [
            " 86%|████████▌ | 249/290 [04:11<00:41,  1.01s/it, loss=0.107]"
          ]
        },
        {
          "output_type": "stream",
          "name": "stdout",
          "text": [
            "*\n",
            "*\n",
            "*\n"
          ]
        },
        {
          "output_type": "stream",
          "name": "stderr",
          "text": [
            " 88%|████████▊ | 256/290 [04:18<00:33,  1.01it/s, loss=0.0907]"
          ]
        },
        {
          "output_type": "stream",
          "name": "stdout",
          "text": [
            ">\n"
          ]
        },
        {
          "output_type": "stream",
          "name": "stderr",
          "text": [
            " 89%|████████▉ | 258/290 [04:20<00:31,  1.00it/s, loss=0.0876]"
          ]
        },
        {
          "output_type": "stream",
          "name": "stdout",
          "text": [
            ">\n",
            ">\n"
          ]
        },
        {
          "output_type": "stream",
          "name": "stderr",
          "text": [
            " 92%|█████████▏| 266/290 [04:28<00:23,  1.01it/s, loss=0.0796]"
          ]
        },
        {
          "output_type": "stream",
          "name": "stdout",
          "text": [
            ">\n"
          ]
        },
        {
          "output_type": "stream",
          "name": "stderr",
          "text": [
            " 94%|█████████▍| 272/290 [04:34<00:17,  1.02it/s, loss=0.0904]"
          ]
        },
        {
          "output_type": "stream",
          "name": "stdout",
          "text": [
            ">\n",
            ">\n"
          ]
        },
        {
          "output_type": "stream",
          "name": "stderr",
          "text": [
            "100%|██████████| 290/290 [04:52<00:00,  1.01s/it, loss=0.078]\n"
          ]
        },
        {
          "output_type": "stream",
          "name": "stdout",
          "text": [
            "checkpoint_ep49.pth.tar saved\n"
          ]
        },
        {
          "output_type": "stream",
          "name": "stderr",
          "text": [
            "  3%|▎         | 8/290 [00:07<04:40,  1.01it/s, loss=0.101]"
          ]
        },
        {
          "output_type": "stream",
          "name": "stdout",
          "text": [
            "[\n",
            "]\n"
          ]
        },
        {
          "output_type": "stream",
          "name": "stderr",
          "text": [
            "  5%|▍         | 14/290 [00:14<04:40,  1.02s/it, loss=0.0783]"
          ]
        },
        {
          "output_type": "stream",
          "name": "stdout",
          "text": [
            "]\n",
            "[\n",
            "]\n"
          ]
        },
        {
          "output_type": "stream",
          "name": "stderr",
          "text": [
            " 12%|█▏        | 34/290 [00:34<04:15,  1.00it/s, loss=0.0896]"
          ]
        },
        {
          "output_type": "stream",
          "name": "stdout",
          "text": [
            ">\n",
            ">\n"
          ]
        },
        {
          "output_type": "stream",
          "name": "stderr",
          "text": [
            " 14%|█▍        | 41/290 [00:41<04:07,  1.01it/s, loss=0.0891]"
          ]
        },
        {
          "output_type": "stream",
          "name": "stdout",
          "text": [
            "]\n"
          ]
        },
        {
          "output_type": "stream",
          "name": "stderr",
          "text": [
            " 15%|█▌        | 44/290 [00:44<04:09,  1.01s/it, loss=0.1]"
          ]
        },
        {
          "output_type": "stream",
          "name": "stdout",
          "text": [
            ">\n"
          ]
        },
        {
          "output_type": "stream",
          "name": "stderr",
          "text": [
            " 16%|█▌        | 45/290 [00:45<04:08,  1.01s/it, loss=0.0922]"
          ]
        },
        {
          "output_type": "stream",
          "name": "stdout",
          "text": [
            "[\n"
          ]
        },
        {
          "output_type": "stream",
          "name": "stderr",
          "text": [
            " 24%|██▍       | 69/290 [01:09<03:44,  1.02s/it, loss=0.106]"
          ]
        },
        {
          "output_type": "stream",
          "name": "stdout",
          "text": [
            ">\n",
            ">\n"
          ]
        },
        {
          "output_type": "stream",
          "name": "stderr",
          "text": [
            " 26%|██▌       | 74/290 [01:14<03:36,  1.00s/it, loss=0.0891]"
          ]
        },
        {
          "output_type": "stream",
          "name": "stdout",
          "text": [
            ">\n"
          ]
        },
        {
          "output_type": "stream",
          "name": "stderr",
          "text": [
            " 27%|██▋       | 78/290 [01:18<03:38,  1.03s/it, loss=0.0836]"
          ]
        },
        {
          "output_type": "stream",
          "name": "stdout",
          "text": [
            ">\n",
            ">\n",
            ">\n",
            ">\n"
          ]
        },
        {
          "output_type": "stream",
          "name": "stderr",
          "text": [
            " 32%|███▏      | 94/290 [01:34<03:20,  1.02s/it, loss=0.0895]"
          ]
        },
        {
          "output_type": "stream",
          "name": "stdout",
          "text": [
            "*\n",
            "*\n",
            "*\n"
          ]
        },
        {
          "output_type": "stream",
          "name": "stderr",
          "text": [
            " 33%|███▎      | 97/290 [01:37<03:15,  1.01s/it, loss=0.104]"
          ]
        },
        {
          "output_type": "stream",
          "name": "stdout",
          "text": [
            "*\n",
            "*\n",
            "*\n"
          ]
        },
        {
          "output_type": "stream",
          "name": "stderr",
          "text": [
            " 36%|███▌      | 104/290 [01:44<03:04,  1.01it/s, loss=0.0944]"
          ]
        },
        {
          "output_type": "stream",
          "name": "stdout",
          "text": [
            "[\n"
          ]
        },
        {
          "output_type": "stream",
          "name": "stderr",
          "text": [
            " 36%|███▌      | 105/290 [01:45<03:03,  1.01it/s, loss=0.0863]"
          ]
        },
        {
          "output_type": "stream",
          "name": "stdout",
          "text": [
            ">\n"
          ]
        },
        {
          "output_type": "stream",
          "name": "stderr",
          "text": [
            " 48%|████▊     | 138/290 [02:19<02:35,  1.02s/it, loss=0.0786]"
          ]
        },
        {
          "output_type": "stream",
          "name": "stdout",
          "text": [
            ">\n",
            ">\n"
          ]
        },
        {
          "output_type": "stream",
          "name": "stderr",
          "text": [
            " 51%|█████     | 147/290 [02:28<02:23,  1.00s/it, loss=0.0858]"
          ]
        },
        {
          "output_type": "stream",
          "name": "stdout",
          "text": [
            "[\n",
            "]\n"
          ]
        },
        {
          "output_type": "stream",
          "name": "stderr",
          "text": [
            " 52%|█████▏    | 150/290 [02:31<02:21,  1.01s/it, loss=0.0836]"
          ]
        },
        {
          "output_type": "stream",
          "name": "stdout",
          "text": [
            "<\n"
          ]
        },
        {
          "output_type": "stream",
          "name": "stderr",
          "text": [
            " 52%|█████▏    | 151/290 [02:32<02:19,  1.00s/it, loss=0.0827]"
          ]
        },
        {
          "output_type": "stream",
          "name": "stdout",
          "text": [
            ">\n",
            ">\n",
            "*\n",
            "*\n",
            "*\n"
          ]
        },
        {
          "output_type": "stream",
          "name": "stderr",
          "text": [
            " 57%|█████▋    | 165/290 [02:46<02:09,  1.04s/it, loss=0.0878]"
          ]
        },
        {
          "output_type": "stream",
          "name": "stdout",
          "text": [
            ">\n",
            ">\n"
          ]
        },
        {
          "output_type": "stream",
          "name": "stderr",
          "text": [
            " 58%|█████▊    | 169/290 [02:50<02:05,  1.04s/it, loss=0.082]"
          ]
        },
        {
          "output_type": "stream",
          "name": "stdout",
          "text": [
            ">\n",
            ">\n",
            ">\n"
          ]
        },
        {
          "output_type": "stream",
          "name": "stderr",
          "text": [
            " 62%|██████▏   | 180/290 [03:02<01:50,  1.01s/it, loss=0.0716]"
          ]
        },
        {
          "output_type": "stream",
          "name": "stdout",
          "text": [
            ">\n",
            ">\n"
          ]
        },
        {
          "output_type": "stream",
          "name": "stderr",
          "text": [
            " 71%|███████   | 205/290 [03:27<01:25,  1.00s/it, loss=0.0778]"
          ]
        },
        {
          "output_type": "stream",
          "name": "stdout",
          "text": [
            "[\n",
            "]\n"
          ]
        },
        {
          "output_type": "stream",
          "name": "stderr",
          "text": [
            " 75%|███████▌  | 218/290 [03:40<01:12,  1.01s/it, loss=0.0701]"
          ]
        },
        {
          "output_type": "stream",
          "name": "stdout",
          "text": [
            ">\n",
            ">\n"
          ]
        },
        {
          "output_type": "stream",
          "name": "stderr",
          "text": [
            " 77%|███████▋  | 223/290 [03:45<01:06,  1.01it/s, loss=0.0795]"
          ]
        },
        {
          "output_type": "stream",
          "name": "stdout",
          "text": [
            ">\n",
            ">\n"
          ]
        },
        {
          "output_type": "stream",
          "name": "stderr",
          "text": [
            " 80%|███████▉  | 231/290 [03:53<01:00,  1.03s/it, loss=0.0764]"
          ]
        },
        {
          "output_type": "stream",
          "name": "stdout",
          "text": [
            "*\n",
            "*\n",
            "*\n"
          ]
        },
        {
          "output_type": "stream",
          "name": "stderr",
          "text": [
            " 83%|████████▎ | 240/290 [04:02<00:49,  1.01it/s, loss=0.0797]"
          ]
        },
        {
          "output_type": "stream",
          "name": "stdout",
          "text": [
            "[\n"
          ]
        },
        {
          "output_type": "stream",
          "name": "stderr",
          "text": [
            " 84%|████████▍ | 244/290 [04:06<00:45,  1.01it/s, loss=0.0893]"
          ]
        },
        {
          "output_type": "stream",
          "name": "stdout",
          "text": [
            "]\n",
            "[\n",
            "]\n"
          ]
        },
        {
          "output_type": "stream",
          "name": "stderr",
          "text": [
            " 84%|████████▍ | 245/290 [04:07<00:44,  1.01it/s, loss=0.0742]"
          ]
        },
        {
          "output_type": "stream",
          "name": "stdout",
          "text": [
            "[\n",
            "]\n"
          ]
        },
        {
          "output_type": "stream",
          "name": "stderr",
          "text": [
            " 86%|████████▌ | 248/290 [04:10<00:42,  1.01s/it, loss=0.081]"
          ]
        },
        {
          "output_type": "stream",
          "name": "stdout",
          "text": [
            "[\n"
          ]
        },
        {
          "output_type": "stream",
          "name": "stderr",
          "text": [
            " 89%|████████▉ | 258/290 [04:20<00:32,  1.03s/it, loss=0.0711]"
          ]
        },
        {
          "output_type": "stream",
          "name": "stdout",
          "text": [
            "<\n"
          ]
        },
        {
          "output_type": "stream",
          "name": "stderr",
          "text": [
            " 90%|█████████ | 262/290 [04:24<00:27,  1.00it/s, loss=0.0626]"
          ]
        },
        {
          "output_type": "stream",
          "name": "stdout",
          "text": [
            "]\n"
          ]
        },
        {
          "output_type": "stream",
          "name": "stderr",
          "text": [
            "100%|██████████| 290/290 [04:52<00:00,  1.01s/it, loss=0.101]\n",
            "  0%|          | 0/290 [00:00<?, ?it/s]"
          ]
        },
        {
          "output_type": "stream",
          "name": "stdout",
          "text": [
            ">\n",
            ">\n"
          ]
        },
        {
          "output_type": "stream",
          "name": "stderr",
          "text": [
            "  2%|▏         | 6/290 [00:05<04:39,  1.01it/s, loss=0.0713]"
          ]
        },
        {
          "output_type": "stream",
          "name": "stdout",
          "text": [
            ">\n",
            ">\n"
          ]
        },
        {
          "output_type": "stream",
          "name": "stderr",
          "text": [
            "  5%|▌         | 15/290 [00:14<04:35,  1.00s/it, loss=0.0821]"
          ]
        },
        {
          "output_type": "stream",
          "name": "stdout",
          "text": [
            ">\n"
          ]
        },
        {
          "output_type": "stream",
          "name": "stderr",
          "text": [
            " 10%|█         | 30/290 [00:30<04:28,  1.03s/it, loss=0.0683]"
          ]
        },
        {
          "output_type": "stream",
          "name": "stdout",
          "text": [
            ">\n",
            ">\n"
          ]
        },
        {
          "output_type": "stream",
          "name": "stderr",
          "text": [
            " 13%|█▎        | 38/290 [00:38<04:10,  1.01it/s, loss=0.0833]"
          ]
        },
        {
          "output_type": "stream",
          "name": "stdout",
          "text": [
            ">\n",
            ">\n"
          ]
        },
        {
          "output_type": "stream",
          "name": "stderr",
          "text": [
            " 18%|█▊        | 53/290 [00:53<03:53,  1.02it/s, loss=0.0605]"
          ]
        },
        {
          "output_type": "stream",
          "name": "stdout",
          "text": [
            "[\n"
          ]
        },
        {
          "output_type": "stream",
          "name": "stderr",
          "text": [
            " 19%|█▉        | 55/290 [00:55<03:55,  1.00s/it, loss=0.0524]"
          ]
        },
        {
          "output_type": "stream",
          "name": "stdout",
          "text": [
            ">\n",
            ">\n",
            ">\n",
            "*\n",
            "*\n",
            "*\n"
          ]
        },
        {
          "output_type": "stream",
          "name": "stderr",
          "text": [
            " 22%|██▏       | 64/290 [01:04<03:48,  1.01s/it, loss=0.0597]"
          ]
        },
        {
          "output_type": "stream",
          "name": "stdout",
          "text": [
            "[\n",
            "]\n"
          ]
        },
        {
          "output_type": "stream",
          "name": "stderr",
          "text": [
            " 23%|██▎       | 68/290 [01:08<03:46,  1.02s/it, loss=0.0746]"
          ]
        },
        {
          "output_type": "stream",
          "name": "stdout",
          "text": [
            "[\n"
          ]
        },
        {
          "output_type": "stream",
          "name": "stderr",
          "text": [
            " 25%|██▌       | 73/290 [01:13<03:36,  1.00it/s, loss=0.0591]"
          ]
        },
        {
          "output_type": "stream",
          "name": "stdout",
          "text": [
            ">\n",
            ">\n"
          ]
        },
        {
          "output_type": "stream",
          "name": "stderr",
          "text": [
            " 31%|███       | 89/290 [01:29<03:22,  1.01s/it, loss=0.0788]"
          ]
        },
        {
          "output_type": "stream",
          "name": "stdout",
          "text": [
            "<\n"
          ]
        },
        {
          "output_type": "stream",
          "name": "stderr",
          "text": [
            " 32%|███▏      | 92/290 [01:33<03:27,  1.05s/it, loss=0.193]"
          ]
        },
        {
          "output_type": "stream",
          "name": "stdout",
          "text": [
            "*\n",
            "*\n",
            "*\n"
          ]
        },
        {
          "output_type": "stream",
          "name": "stderr",
          "text": [
            " 36%|███▌      | 103/290 [01:44<03:05,  1.01it/s, loss=0.473]"
          ]
        },
        {
          "output_type": "stream",
          "name": "stdout",
          "text": [
            "[\n",
            "]\n"
          ]
        },
        {
          "output_type": "stream",
          "name": "stderr",
          "text": [
            " 36%|███▌      | 105/290 [01:46<03:05,  1.00s/it, loss=0.509]"
          ]
        },
        {
          "output_type": "stream",
          "name": "stdout",
          "text": [
            ">\n",
            ">\n"
          ]
        },
        {
          "output_type": "stream",
          "name": "stderr",
          "text": [
            " 39%|███▉      | 113/290 [01:53<02:55,  1.01it/s, loss=0.343]"
          ]
        },
        {
          "output_type": "stream",
          "name": "stdout",
          "text": [
            ">\n",
            ">\n"
          ]
        },
        {
          "output_type": "stream",
          "name": "stderr",
          "text": [
            " 41%|████      | 118/290 [01:58<02:51,  1.00it/s, loss=0.573]"
          ]
        },
        {
          "output_type": "stream",
          "name": "stdout",
          "text": [
            ">\n",
            ">\n"
          ]
        },
        {
          "output_type": "stream",
          "name": "stderr",
          "text": [
            " 48%|████▊     | 139/290 [02:20<02:30,  1.00it/s, loss=0.283]"
          ]
        },
        {
          "output_type": "stream",
          "name": "stdout",
          "text": [
            "[\n",
            "]\n"
          ]
        },
        {
          "output_type": "stream",
          "name": "stderr",
          "text": [
            " 56%|█████▌    | 163/290 [02:44<02:07,  1.01s/it, loss=0.177]"
          ]
        },
        {
          "output_type": "stream",
          "name": "stdout",
          "text": [
            "<\n"
          ]
        },
        {
          "output_type": "stream",
          "name": "stderr",
          "text": [
            " 60%|██████    | 174/290 [02:55<01:54,  1.01it/s, loss=0.107]"
          ]
        },
        {
          "output_type": "stream",
          "name": "stdout",
          "text": [
            "]\n",
            "[\n",
            "]\n"
          ]
        },
        {
          "output_type": "stream",
          "name": "stderr",
          "text": [
            " 62%|██████▏   | 179/290 [03:00<01:49,  1.01it/s, loss=0.14]"
          ]
        },
        {
          "output_type": "stream",
          "name": "stdout",
          "text": [
            ">\n"
          ]
        },
        {
          "output_type": "stream",
          "name": "stderr",
          "text": [
            " 64%|██████▍   | 185/290 [03:06<01:47,  1.02s/it, loss=0.142]"
          ]
        },
        {
          "output_type": "stream",
          "name": "stdout",
          "text": [
            "[\n",
            "]\n"
          ]
        },
        {
          "output_type": "stream",
          "name": "stderr",
          "text": [
            " 67%|██████▋   | 193/290 [03:14<01:38,  1.02s/it, loss=0.149]"
          ]
        },
        {
          "output_type": "stream",
          "name": "stdout",
          "text": [
            "]\n",
            "[\n",
            "]\n"
          ]
        },
        {
          "output_type": "stream",
          "name": "stderr",
          "text": [
            " 68%|██████▊   | 196/290 [03:17<01:35,  1.02s/it, loss=0.135]"
          ]
        },
        {
          "output_type": "stream",
          "name": "stdout",
          "text": [
            "[\n"
          ]
        },
        {
          "output_type": "stream",
          "name": "stderr",
          "text": [
            " 69%|██████▉   | 200/290 [03:21<01:31,  1.01s/it, loss=0.137]"
          ]
        },
        {
          "output_type": "stream",
          "name": "stdout",
          "text": [
            "*\n",
            "*\n",
            "*\n"
          ]
        },
        {
          "output_type": "stream",
          "name": "stderr",
          "text": [
            " 73%|███████▎  | 213/290 [03:34<01:17,  1.00s/it, loss=0.137]"
          ]
        },
        {
          "output_type": "stream",
          "name": "stdout",
          "text": [
            ">\n",
            ">\n"
          ]
        },
        {
          "output_type": "stream",
          "name": "stderr",
          "text": [
            " 80%|████████  | 233/290 [03:55<00:58,  1.02s/it, loss=0.114]"
          ]
        },
        {
          "output_type": "stream",
          "name": "stdout",
          "text": [
            ">\n"
          ]
        },
        {
          "output_type": "stream",
          "name": "stderr",
          "text": [
            " 81%|████████  | 234/290 [03:56<00:56,  1.01s/it, loss=0.117]"
          ]
        },
        {
          "output_type": "stream",
          "name": "stdout",
          "text": [
            "]\n"
          ]
        },
        {
          "output_type": "stream",
          "name": "stderr",
          "text": [
            " 83%|████████▎ | 240/290 [04:02<00:51,  1.02s/it, loss=0.136]"
          ]
        },
        {
          "output_type": "stream",
          "name": "stdout",
          "text": [
            "]\n"
          ]
        },
        {
          "output_type": "stream",
          "name": "stderr",
          "text": [
            " 88%|████████▊ | 255/290 [04:17<00:34,  1.01it/s, loss=0.121]"
          ]
        },
        {
          "output_type": "stream",
          "name": "stdout",
          "text": [
            "*\n",
            "*\n",
            "*\n"
          ]
        },
        {
          "output_type": "stream",
          "name": "stderr",
          "text": [
            " 96%|█████████▌| 279/290 [04:41<00:10,  1.01it/s, loss=0.135]"
          ]
        },
        {
          "output_type": "stream",
          "name": "stdout",
          "text": [
            "[\n"
          ]
        },
        {
          "output_type": "stream",
          "name": "stderr",
          "text": [
            " 98%|█████████▊| 285/290 [04:47<00:05,  1.01s/it, loss=0.0985]"
          ]
        },
        {
          "output_type": "stream",
          "name": "stdout",
          "text": [
            ">\n",
            ">\n"
          ]
        },
        {
          "output_type": "stream",
          "name": "stderr",
          "text": [
            "100%|██████████| 290/290 [04:52<00:00,  1.01s/it, loss=0.178]\n"
          ]
        },
        {
          "output_type": "stream",
          "name": "stdout",
          "text": [
            "checkpoint_ep51.pth.tar saved\n"
          ]
        },
        {
          "output_type": "stream",
          "name": "stderr",
          "text": [
            "  1%|▏         | 4/290 [00:04<04:50,  1.02s/it, loss=0.103]"
          ]
        },
        {
          "output_type": "stream",
          "name": "stdout",
          "text": [
            "[\n"
          ]
        },
        {
          "output_type": "stream",
          "name": "stderr",
          "text": [
            "  4%|▍         | 13/290 [00:13<04:47,  1.04s/it, loss=0.0761]"
          ]
        },
        {
          "output_type": "stream",
          "name": "stdout",
          "text": [
            "]\n"
          ]
        },
        {
          "output_type": "stream",
          "name": "stderr",
          "text": [
            "  5%|▍         | 14/290 [00:14<04:41,  1.02s/it, loss=0.123]"
          ]
        },
        {
          "output_type": "stream",
          "name": "stdout",
          "text": [
            "[\n",
            "]\n"
          ]
        },
        {
          "output_type": "stream",
          "name": "stderr",
          "text": [
            "  7%|▋         | 19/290 [00:19<04:32,  1.00s/it, loss=0.1]"
          ]
        },
        {
          "output_type": "stream",
          "name": "stdout",
          "text": [
            "[\n",
            "]\n"
          ]
        },
        {
          "output_type": "stream",
          "name": "stderr",
          "text": [
            " 12%|█▏        | 35/290 [00:35<04:14,  1.00it/s, loss=0.113]"
          ]
        },
        {
          "output_type": "stream",
          "name": "stdout",
          "text": [
            ">\n",
            ">\n"
          ]
        },
        {
          "output_type": "stream",
          "name": "stderr",
          "text": [
            " 14%|█▍        | 40/290 [00:40<04:09,  1.00it/s, loss=0.0911]"
          ]
        },
        {
          "output_type": "stream",
          "name": "stdout",
          "text": [
            "*\n",
            "*\n",
            "*\n",
            "[\n"
          ]
        },
        {
          "output_type": "stream",
          "name": "stderr",
          "text": [
            " 14%|█▍        | 41/290 [00:41<04:08,  1.00it/s, loss=0.118]"
          ]
        },
        {
          "output_type": "stream",
          "name": "stdout",
          "text": [
            ">\n",
            ">\n"
          ]
        },
        {
          "output_type": "stream",
          "name": "stderr",
          "text": [
            " 21%|██        | 61/290 [01:01<03:51,  1.01s/it, loss=0.0627]"
          ]
        },
        {
          "output_type": "stream",
          "name": "stdout",
          "text": [
            "<\n"
          ]
        },
        {
          "output_type": "stream",
          "name": "stderr",
          "text": [
            " 43%|████▎     | 124/290 [02:04<02:47,  1.01s/it, loss=0.116]"
          ]
        },
        {
          "output_type": "stream",
          "name": "stdout",
          "text": [
            ">\n",
            ">\n",
            ">\n"
          ]
        },
        {
          "output_type": "stream",
          "name": "stderr",
          "text": [
            " 44%|████▍     | 129/290 [02:10<02:46,  1.03s/it, loss=0.0932]"
          ]
        },
        {
          "output_type": "stream",
          "name": "stdout",
          "text": [
            "[\n",
            "]\n"
          ]
        },
        {
          "output_type": "stream",
          "name": "stderr",
          "text": [
            " 51%|█████     | 148/290 [02:29<02:24,  1.02s/it, loss=0.0528]"
          ]
        },
        {
          "output_type": "stream",
          "name": "stdout",
          "text": [
            ">\n",
            ">\n"
          ]
        },
        {
          "output_type": "stream",
          "name": "stderr",
          "text": [
            " 51%|█████▏    | 149/290 [02:30<02:24,  1.02s/it, loss=0.0762]"
          ]
        },
        {
          "output_type": "stream",
          "name": "stdout",
          "text": [
            ">\n",
            ">\n"
          ]
        },
        {
          "output_type": "stream",
          "name": "stderr",
          "text": [
            " 52%|█████▏    | 150/290 [02:31<02:22,  1.02s/it, loss=0.0842]"
          ]
        },
        {
          "output_type": "stream",
          "name": "stdout",
          "text": [
            ">\n",
            ">\n"
          ]
        },
        {
          "output_type": "stream",
          "name": "stderr",
          "text": [
            " 54%|█████▍    | 156/290 [02:37<02:13,  1.01it/s, loss=0.0826]"
          ]
        },
        {
          "output_type": "stream",
          "name": "stdout",
          "text": [
            ">\n",
            ">\n"
          ]
        },
        {
          "output_type": "stream",
          "name": "stderr",
          "text": [
            " 54%|█████▍    | 157/290 [02:38<02:11,  1.01it/s, loss=0.0758]"
          ]
        },
        {
          "output_type": "stream",
          "name": "stdout",
          "text": [
            "*\n",
            "*\n",
            "*\n"
          ]
        },
        {
          "output_type": "stream",
          "name": "stderr",
          "text": [
            " 59%|█████▉    | 171/290 [02:52<01:59,  1.00s/it, loss=0.0726]"
          ]
        },
        {
          "output_type": "stream",
          "name": "stdout",
          "text": [
            "<\n"
          ]
        },
        {
          "output_type": "stream",
          "name": "stderr",
          "text": [
            " 62%|██████▏   | 179/290 [03:00<01:51,  1.00s/it, loss=0.0883]"
          ]
        },
        {
          "output_type": "stream",
          "name": "stdout",
          "text": [
            "[\n"
          ]
        },
        {
          "output_type": "stream",
          "name": "stderr",
          "text": [
            " 63%|██████▎   | 183/290 [03:04<01:48,  1.02s/it, loss=0.064]"
          ]
        },
        {
          "output_type": "stream",
          "name": "stdout",
          "text": [
            "[\n",
            "]\n"
          ]
        },
        {
          "output_type": "stream",
          "name": "stderr",
          "text": [
            " 63%|██████▎   | 184/290 [03:05<01:47,  1.01s/it, loss=0.0725]"
          ]
        },
        {
          "output_type": "stream",
          "name": "stdout",
          "text": [
            ">\n",
            ">\n"
          ]
        },
        {
          "output_type": "stream",
          "name": "stderr",
          "text": [
            " 66%|██████▌   | 190/290 [03:11<01:39,  1.01it/s, loss=0.0699]"
          ]
        },
        {
          "output_type": "stream",
          "name": "stdout",
          "text": [
            "*\n",
            "*\n",
            "*\n"
          ]
        },
        {
          "output_type": "stream",
          "name": "stderr",
          "text": [
            " 70%|███████   | 204/290 [03:25<01:28,  1.03s/it, loss=0.0705]"
          ]
        }
      ],
      "source": [
        "device_2use = torch.device(\"cuda:0\" if torch.cuda.is_available() else \"cpu\")\n",
        "#tensor = torch.tensor.cuda()\n",
        "model = CRNN_LSTM().to(device_2use)\n",
        "loss_func = nn.CTCLoss()\n",
        "optimizer = optim.Adam(model.parameters(), lr=0.0001)\n",
        "\n",
        "scaler = torch.cuda.amp.GradScaler()\n",
        "save=False\n",
        "\n",
        "for epoch in range(100):\n",
        "  train_fun(train_loader, model, optimizer, loss_func, scaler)\n",
        "  checkpoint = {\n",
        "      \"state_dict\": model.state_dict(),\n",
        "      \"optimizer\":optimizer.state_dict(),\n",
        "  }\n",
        "  if save:\n",
        "    torch.save(checkpoint, f\"/content/drive/MyDrive/checkpoint_ep{epoch}_less_lr.pth.tar\")\n",
        "    print(f\"checkpoint_ep{epoch}.pth.tar saved\")\n",
        "    save = False\n",
        "  else:\n",
        "    save = True"
      ]
    },
    {
      "cell_type": "markdown",
      "source": [
        "Отображение тестового изображения и его преобразование "
      ],
      "metadata": {
        "id": "IL6uI3abLGEF"
      }
    },
    {
      "cell_type": "code",
      "source": [
        "import matplotlib.pyplot as plt\n",
        "\n",
        "data_transf = [transforms.Grayscale(1),\n",
        "                 transforms.ToTensor(),\n",
        "                 transforms.Resize((32, 128)),\n",
        "                 transforms.Normalize(0.5, 0.25)]\n",
        "\n",
        "transform = transforms.Compose(data_transf)\n",
        "\n",
        "img = Image.open('/content/drive/MyDrive/test_imgs/0_a.png')\n",
        "\n",
        "plt.imshow(img)\n",
        "\n",
        "img = transform(img).unsqueeze(0)"
      ],
      "metadata": {
        "colab": {
          "base_uri": "https://localhost:8080/",
          "height": 83
        },
        "id": "rld_Y4fBTvCQ",
        "outputId": "daafb864-b823-4fb8-a9bf-8dbe6b0136a5"
      },
      "execution_count": 10,
      "outputs": [
        {
          "output_type": "display_data",
          "data": {
            "text/plain": [
              "<Figure size 432x288 with 1 Axes>"
            ],
            "image/png": "[encoded data removed]"
          },
          "metadata": {
            "needs_background": "light"
          }
        }
      ]
    },
    {
      "cell_type": "code",
      "source": [
        "device = torch.device('cpu')\n",
        "\n",
        "loaded_chkpnt = torch.load('/content/drive/MyDrive/checkpoints/checkpoint_ep37_less_lr.pth.tar', map_location = device)\n",
        "\n",
        "model = CRNN_LSTM()\n",
        "\n",
        "optimizer = optim.Adam(model.parameters(), lr=0.0001)\n",
        "\n",
        "model.load_state_dict(loaded_chkpnt['state_dict'])\n",
        "optimizer.load_state_dict(loaded_chkpnt['optimizer'])\n",
        "\n",
        "model.eval()\n",
        "with torch.no_grad():\n",
        "  predictions = model(img)"
      ],
      "metadata": {
        "id": "ZcAdFSDrLE_l"
      },
      "execution_count": 11,
      "outputs": []
    },
    {
      "cell_type": "code",
      "source": [
        "def decode(pred):\n",
        "    pred = pred.permute(1, 0, 2).cpu().data.numpy()\n",
        "    seq = []\n",
        "    print(pred.shape[0])\n",
        "    for i in range(pred.shape[0]):\n",
        "        seq.append(pred_to_string(pred[i]))\n",
        "    return seq"
      ],
      "metadata": {
        "id": "dbr5vaqZaFSP"
      },
      "execution_count": 12,
      "outputs": []
    },
    {
      "cell_type": "code",
      "source": [
        "def pred_to_string(pred):\n",
        "    alphabet = 'аАбБвВгГдДеЕёЁжЖзЗиИйЙкКлЛмМнНоОпПрРсСтТуУфФхХцЦчЧшШщЩъЪыЫьЬэЭюЮяЯ0123456789-.,: !()\"?;'\n",
        "    seq = []\n",
        "    for i in range(pred.shape[0]):\n",
        "        label = np.argmax(pred[i])\n",
        "        print(label)\n",
        "        seq.append(label - 1)\n",
        "    out = []\n",
        "    for i in range(len(seq)):\n",
        "        if len(out) == 0:\n",
        "            if seq[i] != -1:\n",
        "                out.append(seq[i])\n",
        "        else:\n",
        "            if seq[i] != -1 and seq[i] != seq[i - 1]:\n",
        "                out.append(seq[i])\n",
        "    out = ''.join(alphabet[i] for i in out)\n",
        "    return out"
      ],
      "metadata": {
        "id": "USPS0vu8dXv2"
      },
      "execution_count": 13,
      "outputs": []
    },
    {
      "cell_type": "code",
      "source": [
        "decode(predictions.softmax(2))"
      ],
      "metadata": {
        "colab": {
          "base_uri": "https://localhost:8080/"
        },
        "id": "diiuybgFXR5J",
        "outputId": "fe1bc26c-2547-410a-be0b-f777b13bce97"
      },
      "execution_count": 14,
      "outputs": [
        {
          "output_type": "stream",
          "name": "stdout",
          "text": [
            "1\n",
            "0\n",
            "0\n",
            "0\n",
            "37\n",
            "39\n",
            "59\n",
            "59\n",
            "0\n",
            "0\n",
            "0\n",
            "29\n",
            "29\n",
            "29\n",
            "29\n",
            "29\n",
            "29\n",
            "1\n",
            "1\n",
            "1\n",
            "1\n",
            "1\n",
            "1\n",
            "1\n",
            "1\n",
            "1\n",
            "1\n",
            "0\n",
            "0\n",
            "0\n",
            "0\n",
            "0\n",
            "0\n",
            "0\n"
          ]
        },
        {
          "output_type": "execute_result",
          "data": {
            "text/plain": [
              "['стьна']"
            ]
          },
          "metadata": {},
          "execution_count": 14
        }
      ]
    },
    {
      "cell_type": "markdown",
      "source": [
        "Итог:\n",
        "\n",
        "Реализовал обучение сетки CRNN с лоссом CTC.\n",
        "\n",
        "В силу ограничений коллаба, и в целом проблем с ним - было очень мало времени на обучение (около 5 часов), чего не хватило даже близко, для адекватного обучения и получения результатов, в последствии нейронка может распозновать только часть символов.\n",
        "\n",
        "Батч сайз увеличивал до таких размеров как раз из-за ограничений по времени, ЛР пытался тоже поднять, но привело к взрывному градиенту и в последствии уменьшил ЛР.\n",
        "\n",
        "Также в силу того, что спешил скорее сдать не успел реализовать алгоритм оценки модели и сохранение с лучшими параметрами , вместо каждой второй эпохи, но не имело большого значения, так как времени не хватило снизить лосс и на обучающей выборке.\n",
        "\n",
        "Попробовал бы дальше исследование с уменьшением батч сайза, увеличения данных и подобрал бы больше разнообразных данных и с различным шумом, также хотелось бы по-больше по эксперементировать с ЛР"
      ],
      "metadata": {
        "id": "NIG7hnMiivPP"
      }
    },
    {
      "cell_type": "code",
      "source": [],
      "metadata": {
        "id": "hcZvKLsWdxDe"
      },
      "execution_count": null,
      "outputs": []
    }
  ],
  "metadata": {
    "colab": {
      "provenance": []
    },
    "gpuClass": "standard",
    "kernelspec": {
      "display_name": "Python 3",
      "name": "python3"
    },
    "language_info": {
      "name": "python"
    }
  },
  "nbformat": 4,
  "nbformat_minor": 0
}
